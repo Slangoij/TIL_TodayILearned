{
 "cells": [
  {
   "cell_type": "markdown",
   "metadata": {
    "id": "Biop9xLxDXTF"
   },
   "source": [
    "# The Oxford-IIIT Pet Dataset\n",
    "- https://www.robots.ox.ac.uk/~vgg/data/pets/\n",
    "- 37개 카테고리의 개, 고양이 품종 데이터셋. 각 클래스 별로 대략 200여장의 이미지를 제공한다.\n",
    "- 파일명에 품종이 포함되어 있어 classification 데이터셋을 만들 수 있다.\n",
    "- 3686개 이미지에대한 annotation 파일을 제공한다.\n",
    "    - bounding box는 각 pet의 얼굴을 가리킨다.\n",
    "- 한계: 하나의 물체만 담긴 사진뿐이다."
   ]
  },
  {
   "cell_type": "code",
   "execution_count": null,
   "metadata": {
    "colab": {
     "base_uri": "https://localhost:8080/"
    },
    "executionInfo": {
     "elapsed": 1468,
     "status": "ok",
     "timestamp": 1620804086089,
     "user": {
      "displayName": "ij_slango",
      "photoUrl": "",
      "userId": "09506281120044103924"
     },
     "user_tz": -540
    },
    "id": "qb-kRZb9DXUa",
    "outputId": "569e9e3b-0aef-4aa6-8835-ae64c73b0f13"
   },
   "outputs": [
    {
     "name": "stdout",
     "output_type": "stream",
     "text": [
      "2.4.1\n",
      "2.4.0\n"
     ]
    }
   ],
   "source": [
    "# library import\n",
    "import os\n",
    " \n",
    "import re\n",
    "import random\n",
    "import xml.etree.ElementTree as et\n",
    "from PIL import Image\n",
    " \n",
    "import cv2\n",
    "import numpy as np\n",
    "import tensorflow as tf\n",
    "from tensorflow import keras\n",
    " \n",
    "from sklearn.model_selection import train_test_split\n",
    "import matplotlib.pyplot as plt\n",
    "from matplotlib.patches import Rectangle\n",
    " \n",
    "print(tf.__version__)\n",
    "print(keras.__version__)"
   ]
  },
  {
   "cell_type": "markdown",
   "metadata": {
    "id": "GbxqZT5RDXVK"
   },
   "source": [
    "# Oxford Pet Dataset\n",
    "- 파일명\n",
    "    - 품종명_번호.jpg\n",
    "    - 대문자로 시작: 고양이, 소문자로 시작: 개\n",
    "    - Egyptian_Mau_1.jpg, american_bulldog_10.jpg"
   ]
  },
  {
   "cell_type": "markdown",
   "metadata": {
    "id": "gLraPxIADXVP"
   },
   "source": [
    "### 데이터셋 다운로드"
   ]
  },
  {
   "cell_type": "code",
   "execution_count": null,
   "metadata": {
    "colab": {
     "base_uri": "https://localhost:8080/"
    },
    "executionInfo": {
     "elapsed": 4753,
     "status": "ok",
     "timestamp": 1620804092342,
     "user": {
      "displayName": "ij_slango",
      "photoUrl": "",
      "userId": "09506281120044103924"
     },
     "user_tz": -540
    },
    "id": "Wbgn4PgkDXVX",
    "outputId": "07cc4563-8873-40e2-9cc3-63e8867cb44d"
   },
   "outputs": [
    {
     "name": "stdout",
     "output_type": "stream",
     "text": [
      "Requirement already satisfied: gdown in /usr/local/lib/python3.7/dist-packages (3.6.4)\n",
      "Requirement already satisfied: six in /usr/local/lib/python3.7/dist-packages (from gdown) (1.15.0)\n",
      "Requirement already satisfied: requests in /usr/local/lib/python3.7/dist-packages (from gdown) (2.23.0)\n",
      "Requirement already satisfied: tqdm in /usr/local/lib/python3.7/dist-packages (from gdown) (4.41.1)\n",
      "Requirement already satisfied: urllib3!=1.25.0,!=1.25.1,<1.26,>=1.21.1 in /usr/local/lib/python3.7/dist-packages (from requests->gdown) (1.24.3)\n",
      "Requirement already satisfied: idna<3,>=2.5 in /usr/local/lib/python3.7/dist-packages (from requests->gdown) (2.10)\n",
      "Requirement already satisfied: chardet<4,>=3.0.2 in /usr/local/lib/python3.7/dist-packages (from requests->gdown) (3.0.4)\n",
      "Requirement already satisfied: certifi>=2017.4.17 in /usr/local/lib/python3.7/dist-packages (from requests->gdown) (2020.12.5)\n"
     ]
    }
   ],
   "source": [
    "!pip install gdown"
   ]
  },
  {
   "cell_type": "code",
   "execution_count": null,
   "metadata": {
    "ExecuteTime": {
     "end_time": "2021-05-07T05:04:01.864802Z",
     "start_time": "2021-05-07T05:02:44.223626Z"
    },
    "colab": {
     "base_uri": "https://localhost:8080/",
     "height": 107
    },
    "executionInfo": {
     "elapsed": 16631,
     "status": "ok",
     "timestamp": 1620804104600,
     "user": {
      "displayName": "ij_slango",
      "photoUrl": "",
      "userId": "09506281120044103924"
     },
     "user_tz": -540
    },
    "id": "KL3oeh0HDXVf",
    "outputId": "5a071690-2d81-41d1-824a-e046cf4e61bb"
   },
   "outputs": [
    {
     "name": "stderr",
     "output_type": "stream",
     "text": [
      "Downloading...\n",
      "From: https://drive.google.com/uc?id=1gXqmWrxJqdp_luNKZmv81vY5cjFLuTdT\n",
      "To: /content/oxford_pet.zip\n",
      "811MB [00:03, 235MB/s]\n"
     ]
    },
    {
     "data": {
      "application/vnd.google.colaboratory.intrinsic+json": {
       "type": "string"
      },
      "text/plain": [
       "'oxford_pet.zip'"
      ]
     },
     "execution_count": 43,
     "metadata": {
      "tags": []
     },
     "output_type": "execute_result"
    }
   ],
   "source": [
    "import gdown\n",
    "url = 'https://drive.google.com/uc?id=1gXqmWrxJqdp_luNKZmv81vY5cjFLuTdT'\n",
    "fname = 'oxford_pet.zip'\n",
    "gdown.download(url, fname, quiet=False)"
   ]
  },
  {
   "cell_type": "code",
   "execution_count": null,
   "metadata": {
    "id": "4amMbAwxDXVg"
   },
   "outputs": [],
   "source": [
    "# !rm -r oxford_pet # 압축 이후 상황에서 압축 파일 제거 명령"
   ]
  },
  {
   "cell_type": "code",
   "execution_count": null,
   "metadata": {
    "colab": {
     "base_uri": "https://localhost:8080/"
    },
    "executionInfo": {
     "elapsed": 52650,
     "status": "ok",
     "timestamp": 1620804141321,
     "user": {
      "displayName": "ij_slango",
      "photoUrl": "",
      "userId": "09506281120044103924"
     },
     "user_tz": -540
    },
    "id": "yM8-oT2FDXVh",
    "outputId": "aa2e78ae-c1c8-4ff3-e2a5-cf645ef9e526"
   },
   "outputs": [
    {
     "name": "stdout",
     "output_type": "stream",
     "text": [
      "replace oxford_pet/annotations/._trimaps? [y]es, [n]o, [A]ll, [N]one, [r]ename: A\n",
      "A\n"
     ]
    }
   ],
   "source": [
    "## 압축풀기\n",
    "# unzip 압축파일 -d 압축을 풀 디렉토리\n",
    "!unzip -q oxford_pet.zip -d oxford_pet"
   ]
  },
  {
   "cell_type": "code",
   "execution_count": null,
   "metadata": {
    "colab": {
     "base_uri": "https://localhost:8080/"
    },
    "executionInfo": {
     "elapsed": 52266,
     "status": "ok",
     "timestamp": 1620804141322,
     "user": {
      "displayName": "ij_slango",
      "photoUrl": "",
      "userId": "09506281120044103924"
     },
     "user_tz": -540
    },
    "id": "5h9XCb4NDXVh",
    "outputId": "ce0f5bf3-b3d5-4c28-aa2e-90a48e623dd1"
   },
   "outputs": [
    {
     "name": "stdout",
     "output_type": "stream",
     "text": [
      "annotations  images  tfrecord\n"
     ]
    }
   ],
   "source": [
    "## 압축이 풀린 directory 확인\n",
    "!ls oxford_pet"
   ]
  },
  {
   "cell_type": "code",
   "execution_count": null,
   "metadata": {
    "colab": {
     "base_uri": "https://localhost:8080/"
    },
    "executionInfo": {
     "elapsed": 51801,
     "status": "ok",
     "timestamp": 1620804141322,
     "user": {
      "displayName": "ij_slango",
      "photoUrl": "",
      "userId": "09506281120044103924"
     },
     "user_tz": -540
    },
    "id": "wusArsimDXVi",
    "outputId": "90409f6c-2a5b-4c24-daea-443c4ea0c39b"
   },
   "outputs": [
    {
     "name": "stdout",
     "output_type": "stream",
     "text": [
      "/content/oxford_pet /content/oxford_pet/images /content/oxford_pet/annotations/xmls\n"
     ]
    }
   ],
   "source": [
    "# 경로 설정\n",
    "base_dir = '/content/oxford_pet' #데이터셋 기본경로\n",
    "image_dir = os.path.join(base_dir, 'images') # image 디렉토리 경로\n",
    "bbox_dir = os.path.join(base_dir, 'annotations', 'xmls') #annotation 파일경로\n",
    "print(base_dir, image_dir, bbox_dir)"
   ]
  },
  {
   "cell_type": "code",
   "execution_count": null,
   "metadata": {
    "colab": {
     "base_uri": "https://localhost:8080/"
    },
    "executionInfo": {
     "elapsed": 51078,
     "status": "ok",
     "timestamp": 1620804141323,
     "user": {
      "displayName": "ij_slango",
      "photoUrl": "",
      "userId": "09506281120044103924"
     },
     "user_tz": -540
    },
    "id": "TZi7-wOxF_f3",
    "outputId": "46dc03a3-ba62-451b-a213-158a6d6d90a6"
   },
   "outputs": [
    {
     "data": {
      "text/plain": [
       "['german_shorthaired_109.jpg',\n",
       " 'leonberger_110.jpg',\n",
       " 'Russian_Blue_20.jpg',\n",
       " 'pug_73.jpg',\n",
       " 'keeshond_196.jpg',\n",
       " 'english_setter_178.jpg',\n",
       " 'Egyptian_Mau_14.jpg',\n",
       " 'Ragdoll_261.jpg',\n",
       " 'Sphynx_206.jpg',\n",
       " 'great_pyrenees_162.jpg',\n",
       " 'Ragdoll_57.jpg',\n",
       " 'english_cocker_spaniel_26.jpg',\n",
       " 'Egyptian_Mau_129.jpg',\n",
       " 'shiba_inu_144.jpg',\n",
       " 'pomeranian_36.jpg',\n",
       " 'english_setter_32.jpg',\n",
       " 'miniature_pinscher_145.jpg',\n",
       " 'leonberger_181.jpg',\n",
       " 'Ragdoll_122.jpg',\n",
       " 'Abyssinian_97.jpg',\n",
       " 'Abyssinian_108.jpg',\n",
       " 'Bengal_162.jpg',\n",
       " 'Bombay_34.jpg',\n",
       " 'miniature_pinscher_64.jpg',\n",
       " 'shiba_inu_174.jpg',\n",
       " 'Ragdoll_80.jpg',\n",
       " 'newfoundland_23.jpg',\n",
       " 'pug_156.jpg',\n",
       " 'havanese_10.jpg',\n",
       " 'British_Shorthair_46.jpg',\n",
       " 'japanese_chin_132.jpg',\n",
       " 'basset_hound_44.jpg',\n",
       " 'chihuahua_193.jpg',\n",
       " 'saint_bernard_170.jpg',\n",
       " 'Bombay_79.jpg',\n",
       " 'german_shorthaired_43.jpg',\n",
       " 'Sphynx_153.jpg',\n",
       " 'Bombay_1.jpg',\n",
       " 'japanese_chin_185.jpg',\n",
       " 'Persian_187.jpg',\n",
       " 'havanese_74.jpg',\n",
       " 'shiba_inu_10.jpg',\n",
       " 'Siamese_203.jpg',\n",
       " 'basset_hound_80.jpg',\n",
       " 'scottish_terrier_95.jpg',\n",
       " 'german_shorthaired_114.jpg',\n",
       " 'boxer_31.jpg',\n",
       " 'Egyptian_Mau_162.jpg',\n",
       " 'saint_bernard_49.jpg',\n",
       " 'Birman_71.jpg',\n",
       " 'Abyssinian_86.jpg',\n",
       " 'yorkshire_terrier_116.jpg',\n",
       " 'Bengal_128.jpg',\n",
       " 'boxer_162.jpg',\n",
       " 'beagle_77.jpg',\n",
       " 'shiba_inu_69.jpg',\n",
       " 'samoyed_169.jpg',\n",
       " 'basset_hound_99.jpg',\n",
       " 'english_cocker_spaniel_80.jpg',\n",
       " 'american_pit_bull_terrier_156.jpg',\n",
       " 'Siamese_204.jpg',\n",
       " 'samoyed_110.jpg',\n",
       " 'wheaten_terrier_106.jpg',\n",
       " 'Maine_Coon_34.jpg',\n",
       " 'leonberger_148.jpg',\n",
       " 'basset_hound_51.jpg',\n",
       " 'havanese_41.jpg',\n",
       " 'saint_bernard_74.jpg',\n",
       " 'saint_bernard_29.jpg',\n",
       " 'newfoundland_16.jpg',\n",
       " 'Ragdoll_204.jpg',\n",
       " 'miniature_pinscher_36.jpg',\n",
       " 'pomeranian_97.jpg',\n",
       " 'beagle_111.jpg',\n",
       " 'Bombay_104.jpg',\n",
       " 'saint_bernard_139.jpg',\n",
       " 'Bombay_203.jpg',\n",
       " 'saint_bernard_61.jpg',\n",
       " 'scottish_terrier_171.jpg',\n",
       " 'beagle_115.jpg',\n",
       " 'leonberger_169.jpg',\n",
       " 'chihuahua_137.jpg',\n",
       " 'chihuahua_103.jpg',\n",
       " 'keeshond_105.jpg',\n",
       " 'leonberger_147.jpg',\n",
       " 'Egyptian_Mau_52.jpg',\n",
       " 'pomeranian_83.jpg',\n",
       " 'miniature_pinscher_146.jpg',\n",
       " 'saint_bernard_161.jpg',\n",
       " 'Abyssinian_112.jpg',\n",
       " 'Birman_110.jpg',\n",
       " 'Maine_Coon_173.jpg',\n",
       " 'Persian_189.jpg',\n",
       " 'staffordshire_bull_terrier_159.jpg',\n",
       " 'saint_bernard_96.jpg',\n",
       " 'yorkshire_terrier_128.jpg',\n",
       " 'keeshond_44.jpg',\n",
       " 'boxer_58.jpg',\n",
       " 'havanese_4.jpg',\n",
       " 'wheaten_terrier_144.jpg',\n",
       " 'american_bulldog_42.jpg',\n",
       " 'pug_136.jpg',\n",
       " 'miniature_pinscher_52.jpg',\n",
       " 'english_setter_57.jpg',\n",
       " 'yorkshire_terrier_90.jpg',\n",
       " 'staffordshire_bull_terrier_53.jpg',\n",
       " 'yorkshire_terrier_181.jpg',\n",
       " 'saint_bernard_36.jpg',\n",
       " 'basset_hound_4.jpg',\n",
       " 'keeshond_2.jpg',\n",
       " 'samoyed_152.jpg',\n",
       " 'Bengal_90.jpg',\n",
       " 'samoyed_146.jpg',\n",
       " 'havanese_137.jpg',\n",
       " 'saint_bernard_84.jpg',\n",
       " 'Persian_183.jpg',\n",
       " 'leonberger_199.jpg',\n",
       " 'pomeranian_5.jpg',\n",
       " 'Birman_80.jpg',\n",
       " 'staffordshire_bull_terrier_90.jpg',\n",
       " 'Egyptian_Mau_82.jpg',\n",
       " 'Bombay_120.jpg',\n",
       " 'basset_hound_10.jpg',\n",
       " 'Bombay_186.jpg',\n",
       " 'samoyed_187.jpg',\n",
       " 'Egyptian_Mau_198.jpg',\n",
       " 'Birman_114.jpg',\n",
       " 'keeshond_144.jpg',\n",
       " 'scottish_terrier_129.jpg',\n",
       " 'Birman_63.jpg',\n",
       " 'american_pit_bull_terrier_125.jpg',\n",
       " 'havanese_197.jpg',\n",
       " 'Sphynx_15.jpg',\n",
       " 'Abyssinian_102.jpg',\n",
       " 'scottish_terrier_43.jpg',\n",
       " 'chihuahua_53.jpg',\n",
       " 'beagle_34.jpg',\n",
       " 'Abyssinian_178.jpg',\n",
       " 'yorkshire_terrier_117.jpg',\n",
       " 'german_shorthaired_142.jpg',\n",
       " 'american_bulldog_122.jpg',\n",
       " 'shiba_inu_103.jpg',\n",
       " 'english_setter_34.jpg',\n",
       " 'boxer_177.jpg',\n",
       " 'english_setter_46.jpg',\n",
       " 'wheaten_terrier_102.jpg',\n",
       " 'Bombay_115.jpg',\n",
       " 'Russian_Blue_185.jpg',\n",
       " 'Bombay_118.jpg',\n",
       " 'Sphynx_134.jpg',\n",
       " 'german_shorthaired_143.jpg',\n",
       " 'miniature_pinscher_153.jpg',\n",
       " 'Ragdoll_181.jpg',\n",
       " 'english_cocker_spaniel_60.jpg',\n",
       " 'american_pit_bull_terrier_68.jpg',\n",
       " 'english_cocker_spaniel_130.jpg',\n",
       " 'newfoundland_8.jpg',\n",
       " 'japanese_chin_70.jpg',\n",
       " 'basset_hound_81.jpg',\n",
       " 'german_shorthaired_48.jpg',\n",
       " 'keeshond_28.jpg',\n",
       " 'beagle_88.jpg',\n",
       " 'pug_200.jpg',\n",
       " 'Ragdoll_78.jpg',\n",
       " 'basset_hound_14.jpg',\n",
       " 'newfoundland_53.jpg',\n",
       " 'Siamese_98.jpg',\n",
       " 'Egyptian_Mau_39.jpg',\n",
       " 'Abyssinian_182.jpg',\n",
       " 'leonberger_189.jpg',\n",
       " 'Ragdoll_128.jpg',\n",
       " 'Bombay_217.jpg',\n",
       " 'havanese_20.jpg',\n",
       " 'miniature_pinscher_11.jpg',\n",
       " 'miniature_pinscher_107.jpg',\n",
       " 'shiba_inu_74.jpg',\n",
       " 'english_setter_67.jpg',\n",
       " 'Siamese_92.jpg',\n",
       " 'saint_bernard_76.jpg',\n",
       " 'Ragdoll_170.jpg',\n",
       " 'Siamese_208.jpg',\n",
       " 'boxer_90.jpg',\n",
       " 'american_pit_bull_terrier_169.jpg',\n",
       " 'english_setter_39.jpg',\n",
       " 'yorkshire_terrier_122.jpg',\n",
       " 'english_setter_30.jpg',\n",
       " 'Russian_Blue_220.jpg',\n",
       " 'wheaten_terrier_198.jpg',\n",
       " 'Maine_Coon_17.jpg',\n",
       " 'japanese_chin_34.jpg',\n",
       " 'american_pit_bull_terrier_117.jpg',\n",
       " 'Abyssinian_58.jpg',\n",
       " 'Ragdoll_81.jpg',\n",
       " 'boxer_7.jpg',\n",
       " 'wheaten_terrier_192.jpg',\n",
       " 'leonberger_164.jpg',\n",
       " 'yorkshire_terrier_167.jpg',\n",
       " 'Persian_175.jpg',\n",
       " 'keeshond_160.jpg',\n",
       " 'pug_105.jpg',\n",
       " 'Ragdoll_228.jpg',\n",
       " 'wheaten_terrier_111.jpg',\n",
       " 'wheaten_terrier_27.jpg',\n",
       " 'shiba_inu_119.jpg',\n",
       " 'pomeranian_120.jpg',\n",
       " 'newfoundland_81.jpg',\n",
       " 'saint_bernard_22.jpg',\n",
       " 'saint_bernard_24.jpg',\n",
       " 'yorkshire_terrier_127.jpg',\n",
       " 'Abyssinian_62.jpg',\n",
       " 'Bengal_89.jpg',\n",
       " 'american_pit_bull_terrier_63.jpg',\n",
       " 'Egyptian_Mau_29.jpg',\n",
       " 'Bengal_156.jpg',\n",
       " 'american_pit_bull_terrier_139.jpg',\n",
       " 'chihuahua_54.jpg',\n",
       " 'samoyed_26.jpg',\n",
       " 'shiba_inu_70.jpg',\n",
       " 'american_bulldog_101.jpg',\n",
       " 'american_pit_bull_terrier_11.jpg',\n",
       " 'boxer_2.jpg',\n",
       " 'english_setter_103.jpg',\n",
       " 'pug_89.jpg',\n",
       " 'staffordshire_bull_terrier_55.jpg',\n",
       " 'basset_hound_47.jpg',\n",
       " 'staffordshire_bull_terrier_94.jpg',\n",
       " 'english_setter_66.jpg',\n",
       " 'german_shorthaired_25.jpg',\n",
       " 'keeshond_189.jpg',\n",
       " 'german_shorthaired_130.jpg',\n",
       " 'japanese_chin_121.jpg',\n",
       " 'scottish_terrier_101.jpg',\n",
       " 'shiba_inu_27.jpg',\n",
       " 'american_pit_bull_terrier_200.jpg',\n",
       " 'pug_121.jpg',\n",
       " 'Persian_44.jpg',\n",
       " 'Sphynx_138.jpg',\n",
       " 'Birman_45.jpg',\n",
       " 'american_bulldog_190.jpg',\n",
       " 'staffordshire_bull_terrier_127.jpg',\n",
       " 'scottish_terrier_91.jpg',\n",
       " 'keeshond_79.jpg',\n",
       " 'keeshond_49.jpg',\n",
       " 'leonberger_150.jpg',\n",
       " 'Siamese_234.jpg',\n",
       " 'wheaten_terrier_193.jpg',\n",
       " 'basset_hound_67.jpg',\n",
       " 'staffordshire_bull_terrier_23.jpg',\n",
       " 'great_pyrenees_109.jpg',\n",
       " 'Birman_44.jpg',\n",
       " 'chihuahua_52.jpg',\n",
       " 'British_Shorthair_31.jpg',\n",
       " 'British_Shorthair_163.jpg',\n",
       " 'Ragdoll_124.jpg',\n",
       " 'keeshond_25.jpg',\n",
       " 'yorkshire_terrier_3.jpg',\n",
       " 'keeshond_46.jpg',\n",
       " 'Birman_150.jpg',\n",
       " 'pomeranian_84.jpg',\n",
       " 'pug_63.jpg',\n",
       " 'pomeranian_43.jpg',\n",
       " 'Sphynx_2.jpg',\n",
       " 'basset_hound_16.jpg',\n",
       " 'Maine_Coon_121.jpg',\n",
       " 'havanese_38.jpg',\n",
       " 'Egyptian_Mau_145.jpg',\n",
       " 'chihuahua_195.jpg',\n",
       " 'Birman_104.jpg',\n",
       " 'Siamese_87.jpg',\n",
       " 'Abyssinian_76.jpg',\n",
       " 'chihuahua_101.jpg',\n",
       " 'Birman_25.jpg',\n",
       " 'pug_196.jpg',\n",
       " 'Sphynx_59.jpg',\n",
       " 'wheaten_terrier_163.jpg',\n",
       " 'wheaten_terrier_12.jpg',\n",
       " 'german_shorthaired_54.jpg',\n",
       " 'Russian_Blue_59.jpg',\n",
       " 'pomeranian_46.jpg',\n",
       " 'Bengal_116.jpg',\n",
       " 'British_Shorthair_108.jpg',\n",
       " 'beagle_5.jpg',\n",
       " 'basset_hound_85.jpg',\n",
       " 'japanese_chin_200.jpg',\n",
       " 'Bengal_167.jpg',\n",
       " 'Sphynx_137.jpg',\n",
       " 'Siamese_168.jpg',\n",
       " 'chihuahua_160.jpg',\n",
       " 'havanese_131.jpg',\n",
       " 'american_pit_bull_terrier_170.jpg',\n",
       " 'pomeranian_109.jpg',\n",
       " 'american_bulldog_182.jpg',\n",
       " 'Ragdoll_191.jpg',\n",
       " 'Bengal_6.jpg',\n",
       " 'Persian_181.jpg',\n",
       " 'newfoundland_1.jpg',\n",
       " 'miniature_pinscher_59.jpg',\n",
       " 'samoyed_158.jpg',\n",
       " 'pug_116.jpg',\n",
       " 'pug_159.jpg',\n",
       " 'Siamese_225.jpg',\n",
       " 'Russian_Blue_67.jpg',\n",
       " 'miniature_pinscher_95.jpg',\n",
       " 'american_pit_bull_terrier_44.jpg',\n",
       " 'american_pit_bull_terrier_118.jpg',\n",
       " 'Maine_Coon_36.jpg',\n",
       " 'american_pit_bull_terrier_8.jpg',\n",
       " 'american_pit_bull_terrier_146.jpg',\n",
       " 'boxer_19.jpg',\n",
       " 'yorkshire_terrier_77.jpg',\n",
       " 'Bengal_85.jpg',\n",
       " 'Ragdoll_60.jpg',\n",
       " 'British_Shorthair_190.jpg',\n",
       " 'miniature_pinscher_191.jpg',\n",
       " 'Egyptian_Mau_115.jpg',\n",
       " 'Russian_Blue_81.jpg',\n",
       " 'Russian_Blue_136.jpg',\n",
       " 'havanese_81.jpg',\n",
       " 'Bengal_179.jpg',\n",
       " 'British_Shorthair_75.jpg',\n",
       " 'boxer_113.jpg',\n",
       " 'boxer_24.jpg',\n",
       " 'japanese_chin_128.jpg',\n",
       " 'boxer_189.jpg',\n",
       " 'japanese_chin_83.jpg',\n",
       " 'american_bulldog_74.jpg',\n",
       " 'havanese_61.jpg',\n",
       " 'Maine_Coon_142.jpg',\n",
       " 'chihuahua_6.jpg',\n",
       " 'staffordshire_bull_terrier_95.jpg',\n",
       " 'chihuahua_194.jpg',\n",
       " 'english_cocker_spaniel_17.jpg',\n",
       " 'saint_bernard_143.jpg',\n",
       " 'Abyssinian_24.jpg',\n",
       " 'pug_81.jpg',\n",
       " 'saint_bernard_195.jpg',\n",
       " 'Abyssinian_27.jpg',\n",
       " 'Birman_92.jpg',\n",
       " 'British_Shorthair_195.jpg',\n",
       " 'Russian_Blue_32.jpg',\n",
       " 'pug_104.jpg',\n",
       " 'english_setter_179.jpg',\n",
       " 'boxer_77.jpg',\n",
       " 'leonberger_198.jpg',\n",
       " 'Birman_8.jpg',\n",
       " 'basset_hound_71.jpg',\n",
       " 'wheaten_terrier_116.jpg',\n",
       " 'great_pyrenees_129.jpg',\n",
       " 'Sphynx_181.jpg',\n",
       " 'chihuahua_179.jpg',\n",
       " 'Maine_Coon_151.jpg',\n",
       " 'staffordshire_bull_terrier_92.jpg',\n",
       " 'keeshond_13.jpg',\n",
       " 'scottish_terrier_193.jpg',\n",
       " 'Abyssinian_142.jpg',\n",
       " 'miniature_pinscher_1.jpg',\n",
       " 'Maine_Coon_170.jpg',\n",
       " 'shiba_inu_189.jpg',\n",
       " 'Persian_117.jpg',\n",
       " 'Sphynx_125.jpg',\n",
       " 'Ragdoll_161.jpg',\n",
       " 'boxer_67.jpg',\n",
       " 'Birman_91.jpg',\n",
       " 'Egyptian_Mau_91.jpg',\n",
       " 'great_pyrenees_16.jpg',\n",
       " 'pug_154.jpg',\n",
       " 'american_pit_bull_terrier_124.jpg',\n",
       " 'great_pyrenees_156.jpg',\n",
       " 'saint_bernard_103.jpg',\n",
       " 'japanese_chin_67.jpg',\n",
       " 'boxer_51.jpg',\n",
       " 'British_Shorthair_37.jpg',\n",
       " 'english_setter_62.jpg',\n",
       " 'Ragdoll_169.jpg',\n",
       " 'samoyed_51.jpg',\n",
       " 'samoyed_90.jpg',\n",
       " 'american_bulldog_175.jpg',\n",
       " 'newfoundland_173.jpg',\n",
       " 'Ragdoll_56.jpg',\n",
       " 'newfoundland_124.jpg',\n",
       " 'keeshond_187.jpg',\n",
       " 'pug_191.jpg',\n",
       " 'wheaten_terrier_71.jpg',\n",
       " 'Bengal_108.jpg',\n",
       " 'havanese_198.jpg',\n",
       " 'pug_50.jpg',\n",
       " 'english_setter_54.jpg',\n",
       " 'Abyssinian_139.jpg',\n",
       " 'german_shorthaired_193.jpg',\n",
       " 'scottish_terrier_15.jpg',\n",
       " 'Abyssinian_77.jpg',\n",
       " 'boxer_83.jpg',\n",
       " 'Egyptian_Mau_163.jpg',\n",
       " 'yorkshire_terrier_98.jpg',\n",
       " 'american_bulldog_123.jpg',\n",
       " 'keeshond_111.jpg',\n",
       " 'British_Shorthair_128.jpg',\n",
       " 'havanese_102.jpg',\n",
       " 'great_pyrenees_68.jpg',\n",
       " 'staffordshire_bull_terrier_30.jpg',\n",
       " 'english_cocker_spaniel_45.jpg',\n",
       " 'Russian_Blue_171.jpg',\n",
       " 'pug_30.jpg',\n",
       " 'shiba_inu_63.jpg',\n",
       " 'staffordshire_bull_terrier_119.jpg',\n",
       " 'British_Shorthair_38.jpg',\n",
       " 'Birman_164.jpg',\n",
       " 'keeshond_110.jpg',\n",
       " 'chihuahua_112.jpg',\n",
       " 'great_pyrenees_80.jpg',\n",
       " 'Abyssinian_87.jpg',\n",
       " 'Persian_170.jpg',\n",
       " 'Egyptian_Mau_41.jpg',\n",
       " 'miniature_pinscher_39.jpg',\n",
       " 'Russian_Blue_115.jpg',\n",
       " 'english_setter_188.jpg',\n",
       " 'staffordshire_bull_terrier_11.jpg',\n",
       " 'saint_bernard_147.jpg',\n",
       " 'Sphynx_84.jpg',\n",
       " 'staffordshire_bull_terrier_123.jpg',\n",
       " 'Bengal_25.jpg',\n",
       " 'chihuahua_196.jpg',\n",
       " 'japanese_chin_158.jpg',\n",
       " 'miniature_pinscher_130.jpg',\n",
       " 'Egyptian_Mau_212.jpg',\n",
       " 'wheaten_terrier_24.jpg',\n",
       " 'great_pyrenees_96.jpg',\n",
       " 'yorkshire_terrier_197.jpg',\n",
       " 'english_setter_45.jpg',\n",
       " 'Maine_Coon_164.jpg',\n",
       " 'english_setter_183.jpg',\n",
       " 'american_pit_bull_terrier_115.jpg',\n",
       " 'chihuahua_199.jpg',\n",
       " 'pug_106.jpg',\n",
       " 'Bengal_53.jpg',\n",
       " 'samoyed_65.jpg',\n",
       " 'miniature_pinscher_100.jpg',\n",
       " 'Siamese_189.jpg',\n",
       " 'boxer_139.jpg',\n",
       " 'great_pyrenees_169.jpg',\n",
       " 'shiba_inu_18.jpg',\n",
       " 'saint_bernard_16.jpg',\n",
       " 'Birman_90.jpg',\n",
       " 'scottish_terrier_165.jpg',\n",
       " 'Maine_Coon_154.jpg',\n",
       " 'British_Shorthair_218.jpg',\n",
       " 'yorkshire_terrier_150.jpg',\n",
       " 'german_shorthaired_62.jpg',\n",
       " 'basset_hound_72.jpg',\n",
       " 'pomeranian_24.jpg',\n",
       " 'keeshond_161.jpg',\n",
       " 'Bengal_132.jpg',\n",
       " 'Maine_Coon_119.jpg',\n",
       " 'leonberger_178.jpg',\n",
       " 'shiba_inu_7.jpg',\n",
       " 'havanese_13.jpg',\n",
       " 'havanese_103.jpg',\n",
       " 'leonberger_171.jpg',\n",
       " 'scottish_terrier_54.jpg',\n",
       " 'Persian_14.jpg',\n",
       " 'saint_bernard_126.jpg',\n",
       " 'pug_199.jpg',\n",
       " 'english_cocker_spaniel_181.jpg',\n",
       " 'Birman_170.jpg',\n",
       " 'japanese_chin_169.jpg',\n",
       " 'Maine_Coon_100.jpg',\n",
       " 'chihuahua_44.jpg',\n",
       " 'Bengal_43.jpg',\n",
       " 'staffordshire_bull_terrier_71.jpg',\n",
       " 'Ragdoll_178.jpg',\n",
       " 'Siamese_66.jpg',\n",
       " 'american_pit_bull_terrier_110.jpg',\n",
       " 'Maine_Coon_63.jpg',\n",
       " 'shiba_inu_146.jpg',\n",
       " 'english_cocker_spaniel_1.jpg',\n",
       " 'boxer_99.jpg',\n",
       " 'yorkshire_terrier_179.jpg',\n",
       " 'wheaten_terrier_141.jpg',\n",
       " 'newfoundland_155.jpg',\n",
       " 'pug_10.jpg',\n",
       " 'newfoundland_95.jpg',\n",
       " 'Persian_42.jpg',\n",
       " 'great_pyrenees_121.jpg',\n",
       " 'american_pit_bull_terrier_143.jpg',\n",
       " 'saint_bernard_15.jpg',\n",
       " 'Sphynx_121.jpg',\n",
       " 'basset_hound_86.jpg',\n",
       " 'chihuahua_124.jpg',\n",
       " 'Maine_Coon_53.jpg',\n",
       " 'miniature_pinscher_19.jpg',\n",
       " 'german_shorthaired_198.jpg',\n",
       " 'scottish_terrier_161.jpg',\n",
       " 'boxer_66.jpg',\n",
       " 'english_cocker_spaniel_190.jpg',\n",
       " 'english_cocker_spaniel_85.jpg',\n",
       " 'staffordshire_bull_terrier_74.jpg',\n",
       " 'havanese_145.jpg',\n",
       " 'great_pyrenees_179.jpg',\n",
       " 'american_pit_bull_terrier_10.jpg',\n",
       " 'pomeranian_55.jpg',\n",
       " 'leonberger_54.jpg',\n",
       " 'staffordshire_bull_terrier_26.jpg',\n",
       " 'Birman_188.jpg',\n",
       " 'shiba_inu_206.jpg',\n",
       " 'english_setter_96.jpg',\n",
       " 'Sphynx_95.jpg',\n",
       " 'Birman_191.jpg',\n",
       " 'miniature_pinscher_114.jpg',\n",
       " 'leonberger_135.jpg',\n",
       " 'great_pyrenees_200.jpg',\n",
       " 'newfoundland_161.jpg',\n",
       " 'american_pit_bull_terrier_122.jpg',\n",
       " 'great_pyrenees_10.jpg',\n",
       " 'great_pyrenees_126.jpg',\n",
       " 'boxer_5.jpg',\n",
       " 'chihuahua_63.jpg',\n",
       " 'samoyed_97.jpg',\n",
       " 'samoyed_1.jpg',\n",
       " 'Birman_101.jpg',\n",
       " 'basset_hound_46.jpg',\n",
       " 'Siamese_34.jpg',\n",
       " 'shiba_inu_210.jpg',\n",
       " 'newfoundland_126.jpg',\n",
       " 'great_pyrenees_192.jpg',\n",
       " 'american_pit_bull_terrier_89.jpg',\n",
       " 'Abyssinian_5.jpg',\n",
       " 'miniature_pinscher_152.jpg',\n",
       " 'great_pyrenees_51.jpg',\n",
       " 'Ragdoll_113.jpg',\n",
       " 'keeshond_88.jpg',\n",
       " 'keeshond_66.jpg',\n",
       " 'havanese_90.jpg',\n",
       " 'Abyssinian_141.jpg',\n",
       " 'miniature_pinscher_35.jpg',\n",
       " 'Persian_182.jpg',\n",
       " 'leonberger_200.jpg',\n",
       " 'keeshond_102.jpg',\n",
       " 'yorkshire_terrier_144.jpg',\n",
       " 'British_Shorthair_198.jpg',\n",
       " 'scottish_terrier_146.jpg',\n",
       " 'samoyed_151.jpg',\n",
       " 'leonberger_195.jpg',\n",
       " 'saint_bernard_93.jpg',\n",
       " 'great_pyrenees_47.jpg',\n",
       " 'samoyed_18.jpg',\n",
       " 'chihuahua_39.jpg',\n",
       " 'american_pit_bull_terrier_178.jpg',\n",
       " 'saint_bernard_165.jpg',\n",
       " 'yorkshire_terrier_97.jpg',\n",
       " 'american_pit_bull_terrier_60.jpg',\n",
       " 'american_pit_bull_terrier_201.jpg',\n",
       " 'english_setter_44.jpg',\n",
       " 'pomeranian_148.jpg',\n",
       " 'chihuahua_188.jpg',\n",
       " 'miniature_pinscher_10.jpg',\n",
       " 'english_cocker_spaniel_89.jpg',\n",
       " 'yorkshire_terrier_21.jpg',\n",
       " 'german_shorthaired_38.jpg',\n",
       " 'British_Shorthair_3.jpg',\n",
       " 'Ragdoll_53.jpg',\n",
       " 'english_cocker_spaniel_138.jpg',\n",
       " 'beagle_123.jpg',\n",
       " 'pug_171.jpg',\n",
       " 'basset_hound_38.jpg',\n",
       " 'Birman_47.jpg',\n",
       " 'pomeranian_17.jpg',\n",
       " 'Birman_33.jpg',\n",
       " 'Maine_Coon_110.jpg',\n",
       " 'newfoundland_72.jpg',\n",
       " 'english_cocker_spaniel_12.jpg',\n",
       " 'Persian_16.jpg',\n",
       " 'pomeranian_132.jpg',\n",
       " 'Sphynx_47.jpg',\n",
       " 'american_bulldog_217.jpg',\n",
       " 'shiba_inu_4.jpg',\n",
       " 'american_pit_bull_terrier_106.jpg',\n",
       " 'Russian_Blue_187.jpg',\n",
       " 'Birman_157.jpg',\n",
       " 'pomeranian_39.jpg',\n",
       " 'keeshond_171.jpg',\n",
       " 'Bengal_140.jpg',\n",
       " 'keeshond_52.jpg',\n",
       " 'basset_hound_12.jpg',\n",
       " 'boxer_6.jpg',\n",
       " 'yorkshire_terrier_30.jpg',\n",
       " 'pomeranian_74.jpg',\n",
       " 'japanese_chin_41.jpg',\n",
       " 'pug_53.jpg',\n",
       " 'Abyssinian_225.jpg',\n",
       " 'chihuahua_19.jpg',\n",
       " 'Ragdoll_176.jpg',\n",
       " 'Birman_196.jpg',\n",
       " 'Bengal_26.jpg',\n",
       " 'Abyssinian_8.jpg',\n",
       " 'great_pyrenees_66.jpg',\n",
       " 'japanese_chin_168.jpg',\n",
       " 'British_Shorthair_83.jpg',\n",
       " 'Bengal_35.jpg',\n",
       " 'Sphynx_34.jpg',\n",
       " 'american_bulldog_107.jpg',\n",
       " 'Egyptian_Mau_26.jpg',\n",
       " 'wheaten_terrier_58.jpg',\n",
       " 'Siamese_20.jpg',\n",
       " 'scottish_terrier_46.jpg',\n",
       " 'english_setter_42.jpg',\n",
       " 'havanese_179.jpg',\n",
       " 'yorkshire_terrier_134.jpg',\n",
       " 'British_Shorthair_209.jpg',\n",
       " 'saint_bernard_28.jpg',\n",
       " 'Siamese_110.jpg',\n",
       " 'staffordshire_bull_terrier_49.jpg',\n",
       " 'keeshond_112.jpg',\n",
       " 'Abyssinian_104.jpg',\n",
       " 'staffordshire_bull_terrier_198.jpg',\n",
       " 'Egyptian_Mau_189.jpg',\n",
       " 'havanese_174.jpg',\n",
       " 'yorkshire_terrier_87.jpg',\n",
       " 'yorkshire_terrier_28.jpg',\n",
       " 'Bengal_137.jpg',\n",
       " 'keeshond_39.jpg',\n",
       " 'Bombay_190.jpg',\n",
       " 'great_pyrenees_98.jpg',\n",
       " 'havanese_192.jpg',\n",
       " 'Russian_Blue_55.jpg',\n",
       " 'yorkshire_terrier_13.jpg',\n",
       " 'Sphynx_75.jpg',\n",
       " 'american_pit_bull_terrier_138.jpg',\n",
       " 'wheaten_terrier_133.jpg',\n",
       " 'shiba_inu_116.jpg',\n",
       " 'beagle_96.jpg',\n",
       " 'pomeranian_137.jpg',\n",
       " 'staffordshire_bull_terrier_48.jpg',\n",
       " 'miniature_pinscher_56.jpg',\n",
       " 'Egyptian_Mau_112.jpg',\n",
       " 'Siamese_152.jpg',\n",
       " 'samoyed_9.jpg',\n",
       " 'scottish_terrier_154.jpg',\n",
       " 'beagle_73.jpg',\n",
       " 'japanese_chin_129.jpg',\n",
       " 'saint_bernard_122.jpg',\n",
       " 'american_bulldog_79.jpg',\n",
       " 'Sphynx_180.jpg',\n",
       " 'beagle_145.jpg',\n",
       " 'boxer_76.jpg',\n",
       " 'Ragdoll_177.jpg',\n",
       " 'Sphynx_177.jpg',\n",
       " 'Ragdoll_16.jpg',\n",
       " 'Sphynx_185.jpg',\n",
       " 'Egyptian_Mau_173.jpg',\n",
       " 'japanese_chin_76.jpg',\n",
       " 'pomeranian_6.jpg',\n",
       " 'japanese_chin_126.jpg',\n",
       " 'miniature_pinscher_144.jpg',\n",
       " 'english_setter_48.jpg',\n",
       " 'Siamese_237.jpg',\n",
       " 'great_pyrenees_93.jpg',\n",
       " 'Birman_102.jpg',\n",
       " 'Persian_12.jpg',\n",
       " 'english_cocker_spaniel_62.jpg',\n",
       " 'pomeranian_170.jpg',\n",
       " 'keeshond_43.jpg',\n",
       " 'Maine_Coon_204.jpg',\n",
       " 'yorkshire_terrier_126.jpg',\n",
       " 'Birman_19.jpg',\n",
       " 'wheaten_terrier_165.jpg',\n",
       " 'japanese_chin_38.jpg',\n",
       " 'boxer_18.jpg',\n",
       " 'British_Shorthair_70.jpg',\n",
       " 'shiba_inu_16.jpg',\n",
       " 'shiba_inu_39.jpg',\n",
       " 'japanese_chin_105.jpg',\n",
       " 'american_bulldog_119.jpg',\n",
       " 'english_setter_73.jpg',\n",
       " 'Birman_85.jpg',\n",
       " 'samoyed_182.jpg',\n",
       " 'chihuahua_47.jpg',\n",
       " 'great_pyrenees_18.jpg',\n",
       " 'keeshond_24.jpg',\n",
       " 'Russian_Blue_69.jpg',\n",
       " 'saint_bernard_168.jpg',\n",
       " 'staffordshire_bull_terrier_18.jpg',\n",
       " 'english_setter_177.jpg',\n",
       " 'Russian_Blue_129.jpg',\n",
       " 'Bombay_192.jpg',\n",
       " 'Persian_188.jpg',\n",
       " 'beagle_12.jpg',\n",
       " 'great_pyrenees_117.jpg',\n",
       " 'german_shorthaired_3.jpg',\n",
       " 'Birman_200.jpg',\n",
       " 'german_shorthaired_92.jpg',\n",
       " 'havanese_68.jpg',\n",
       " 'scottish_terrier_90.jpg',\n",
       " 'leonberger_152.jpg',\n",
       " 'basset_hound_77.jpg',\n",
       " 'shiba_inu_85.jpg',\n",
       " 'samoyed_50.jpg',\n",
       " 'american_bulldog_144.jpg',\n",
       " 'Egyptian_Mau_27.jpg',\n",
       " 'samoyed_184.jpg',\n",
       " 'boxer_38.jpg',\n",
       " 'Persian_257.jpg',\n",
       " 'pug_71.jpg',\n",
       " 'Siamese_78.jpg',\n",
       " 'keeshond_170.jpg',\n",
       " 'staffordshire_bull_terrier_67.jpg',\n",
       " 'Maine_Coon_32.jpg',\n",
       " 'Maine_Coon_163.jpg',\n",
       " 'havanese_34.jpg',\n",
       " 'Russian_Blue_147.jpg',\n",
       " 'Egyptian_Mau_34.jpg',\n",
       " 'samoyed_115.jpg',\n",
       " 'american_bulldog_89.jpg',\n",
       " 'Egyptian_Mau_97.jpg',\n",
       " 'Egyptian_Mau_165.jpg',\n",
       " 'havanese_98.jpg',\n",
       " 'great_pyrenees_197.jpg',\n",
       " 'Bengal_151.jpg',\n",
       " 'samoyed_21.jpg',\n",
       " 'Egyptian_Mau_209.jpg',\n",
       " 'german_shorthaired_159.jpg',\n",
       " 'pug_18.jpg',\n",
       " 'havanese_45.jpg',\n",
       " 'samoyed_104.jpg',\n",
       " 'Russian_Blue_83.jpg',\n",
       " 'miniature_pinscher_167.jpg',\n",
       " 'chihuahua_70.jpg',\n",
       " 'american_pit_bull_terrier_119.jpg',\n",
       " 'Birman_52.jpg',\n",
       " 'Siamese_163.jpg',\n",
       " 'Maine_Coon_174.jpg',\n",
       " 'Sphynx_70.jpg',\n",
       " 'newfoundland_185.jpg',\n",
       " 'Egyptian_Mau_43.jpg',\n",
       " 'leonberger_117.jpg',\n",
       " 'newfoundland_88.jpg',\n",
       " 'Maine_Coon_43.jpg',\n",
       " 'Ragdoll_155.jpg',\n",
       " 'boxer_69.jpg',\n",
       " 'miniature_pinscher_122.jpg',\n",
       " 'saint_bernard_199.jpg',\n",
       " 'saint_bernard_176.jpg',\n",
       " 'pug_7.jpg',\n",
       " 'english_setter_84.jpg',\n",
       " 'american_pit_bull_terrier_99.jpg',\n",
       " 'great_pyrenees_116.jpg',\n",
       " 'great_pyrenees_8.jpg',\n",
       " 'Siamese_194.jpg',\n",
       " 'miniature_pinscher_112.jpg',\n",
       " 'Maine_Coon_6.jpg',\n",
       " 'shiba_inu_132.jpg',\n",
       " 'english_setter_198.jpg',\n",
       " 'shiba_inu_87.jpg',\n",
       " 'boxer_124.jpg',\n",
       " 'basset_hound_88.jpg',\n",
       " 'great_pyrenees_195.jpg',\n",
       " 'Russian_Blue_170.jpg',\n",
       " 'Bombay_148.jpg',\n",
       " 'german_shorthaired_97.jpg',\n",
       " 'scottish_terrier_160.jpg',\n",
       " 'saint_bernard_77.jpg',\n",
       " 'Maine_Coon_99.jpg',\n",
       " 'great_pyrenees_34.jpg',\n",
       " 'keeshond_80.jpg',\n",
       " 'saint_bernard_108.jpg',\n",
       " 'Maine_Coon_269.jpg',\n",
       " 'Persian_65.jpg',\n",
       " 'Persian_114.jpg',\n",
       " 'newfoundland_35.jpg',\n",
       " 'boxer_89.jpg',\n",
       " 'havanese_109.jpg',\n",
       " 'staffordshire_bull_terrier_105.jpg',\n",
       " 'beagle_90.jpg',\n",
       " 'Egyptian_Mau_84.jpg',\n",
       " 'basset_hound_124.jpg',\n",
       " 'boxer_165.jpg',\n",
       " 'beagle_156.jpg',\n",
       " 'Persian_121.jpg',\n",
       " 'Ragdoll_140.jpg',\n",
       " 'miniature_pinscher_29.jpg',\n",
       " 'Maine_Coon_80.jpg',\n",
       " 'miniature_pinscher_101.jpg',\n",
       " 'chihuahua_8.jpg',\n",
       " 'samoyed_46.jpg',\n",
       " 'scottish_terrier_74.jpg',\n",
       " 'havanese_107.jpg',\n",
       " 'chihuahua_22.jpg',\n",
       " 'Russian_Blue_86.jpg',\n",
       " 'chihuahua_56.jpg',\n",
       " 'american_pit_bull_terrier_20.jpg',\n",
       " 'scottish_terrier_109.jpg',\n",
       " 'leonberger_72.jpg',\n",
       " 'keeshond_122.jpg',\n",
       " 'British_Shorthair_112.jpg',\n",
       " 'Ragdoll_71.jpg',\n",
       " 'chihuahua_186.jpg',\n",
       " 'newfoundland_165.jpg',\n",
       " 'Siamese_162.jpg',\n",
       " 'Ragdoll_154.jpg',\n",
       " 'beagle_167.jpg',\n",
       " 'great_pyrenees_196.jpg',\n",
       " 'american_pit_bull_terrier_103.jpg',\n",
       " 'newfoundland_45.jpg',\n",
       " 'Sphynx_107.jpg',\n",
       " 'leonberger_94.jpg',\n",
       " 'english_setter_41.jpg',\n",
       " 'miniature_pinscher_197.jpg',\n",
       " 'British_Shorthair_2.jpg',\n",
       " 'Bombay_116.jpg',\n",
       " 'shiba_inu_32.jpg',\n",
       " 'Russian_Blue_140.jpg',\n",
       " 'miniature_pinscher_99.jpg',\n",
       " 'yorkshire_terrier_178.jpg',\n",
       " 'wheaten_terrier_129.jpg',\n",
       " 'basset_hound_195.jpg',\n",
       " 'pomeranian_7.jpg',\n",
       " 'Bengal_70.jpg',\n",
       " 'Persian_30.jpg',\n",
       " 'keeshond_136.jpg',\n",
       " 'basset_hound_60.jpg',\n",
       " 'Maine_Coon_231.jpg',\n",
       " 'american_pit_bull_terrier_171.jpg',\n",
       " 'havanese_46.jpg',\n",
       " 'american_pit_bull_terrier_128.jpg',\n",
       " 'Siamese_139.jpg',\n",
       " 'staffordshire_bull_terrier_91.jpg',\n",
       " 'scottish_terrier_94.jpg',\n",
       " 'newfoundland_84.jpg',\n",
       " 'pomeranian_85.jpg',\n",
       " 'saint_bernard_151.jpg',\n",
       " 'basset_hound_163.jpg',\n",
       " 'staffordshire_bull_terrier_5.jpg',\n",
       " 'Russian_Blue_74.jpg',\n",
       " 'Egyptian_Mau_73.jpg',\n",
       " 'Bombay_185.jpg',\n",
       " 'german_shorthaired_21.jpg',\n",
       " 'Russian_Blue_236.jpg',\n",
       " 'Birman_60.jpg',\n",
       " 'saint_bernard_149.jpg',\n",
       " 'Birman_41.jpg',\n",
       " 'miniature_pinscher_116.jpg',\n",
       " 'Bengal_107.jpg',\n",
       " 'pomeranian_45.jpg',\n",
       " 'pomeranian_72.jpg',\n",
       " 'Egyptian_Mau_25.jpg',\n",
       " 'Birman_187.jpg',\n",
       " 'scottish_terrier_92.jpg',\n",
       " 'pug_38.jpg',\n",
       " 'Sphynx_191.jpg',\n",
       " 'scottish_terrier_181.jpg',\n",
       " 'havanese_165.jpg',\n",
       " 'great_pyrenees_71.jpg',\n",
       " 'leonberger_163.jpg',\n",
       " 'wheaten_terrier_180.jpg',\n",
       " 'english_cocker_spaniel_112.jpg',\n",
       " 'leonberger_161.jpg',\n",
       " 'samoyed_10.jpg',\n",
       " 'leonberger_25.jpg',\n",
       " 'wheaten_terrier_48.jpg',\n",
       " 'shiba_inu_101.jpg',\n",
       " 'keeshond_177.jpg',\n",
       " 'Russian_Blue_109.jpg',\n",
       " 'Bombay_208.jpg',\n",
       " 'scottish_terrier_137.jpg',\n",
       " 'scottish_terrier_114.jpg',\n",
       " 'american_bulldog_118.jpg',\n",
       " 'american_bulldog_27.jpg',\n",
       " 'american_pit_bull_terrier_90.jpg',\n",
       " 'wheaten_terrier_160.jpg',\n",
       " 'english_cocker_spaniel_170.jpg',\n",
       " 'Bombay_206.jpg',\n",
       " 'english_cocker_spaniel_74.jpg',\n",
       " 'scottish_terrier_17.jpg',\n",
       " 'Siamese_99.jpg',\n",
       " 'Russian_Blue_142.jpg',\n",
       " 'pomeranian_103.jpg',\n",
       " 'Sphynx_222.jpg',\n",
       " 'boxer_118.jpg',\n",
       " 'British_Shorthair_17.jpg',\n",
       " 'english_setter_55.jpg',\n",
       " 'yorkshire_terrier_37.jpg',\n",
       " 'yorkshire_terrier_188.jpg',\n",
       " 'Maine_Coon_13.jpg',\n",
       " 'pomeranian_151.jpg',\n",
       " 'american_pit_bull_terrier_177.jpg',\n",
       " 'yorkshire_terrier_186.jpg',\n",
       " 'chihuahua_30.jpg',\n",
       " 'newfoundland_112.jpg',\n",
       " 'american_bulldog_91.jpg',\n",
       " 'chihuahua_161.jpg',\n",
       " 'basset_hound_186.jpg',\n",
       " 'pug_57.jpg',\n",
       " 'samoyed_59.jpg',\n",
       " 'american_bulldog_57.jpg',\n",
       " 'miniature_pinscher_82.jpg',\n",
       " 'great_pyrenees_103.jpg',\n",
       " 'japanese_chin_5.jpg',\n",
       " 'keeshond_50.jpg',\n",
       " 'chihuahua_99.jpg',\n",
       " 'saint_bernard_73.jpg',\n",
       " 'Russian_Blue_152.jpg',\n",
       " 'Sphynx_31.jpg',\n",
       " 'British_Shorthair_263.jpg',\n",
       " 'Russian_Blue_199.jpg',\n",
       " 'pomeranian_54.jpg',\n",
       " 'saint_bernard_8.jpg',\n",
       " 'Siamese_81.jpg',\n",
       " 'scottish_terrier_152.jpg',\n",
       " 'american_pit_bull_terrier_193.jpg',\n",
       " 'miniature_pinscher_178.jpg',\n",
       " 'havanese_21.jpg',\n",
       " 'pomeranian_131.jpg',\n",
       " 'Egyptian_Mau_62.jpg',\n",
       " 'Persian_105.jpg',\n",
       " 'Sphynx_230.jpg',\n",
       " 'pug_92.jpg',\n",
       " 'great_pyrenees_154.jpg',\n",
       " 'miniature_pinscher_104.jpg',\n",
       " 'german_shorthaired_190.jpg',\n",
       " 'beagle_181.jpg',\n",
       " 'Ragdoll_147.jpg',\n",
       " 'British_Shorthair_166.jpg',\n",
       " 'Bengal_141.jpg',\n",
       " 'basset_hound_185.jpg',\n",
       " 'keeshond_18.jpg',\n",
       " 'german_shorthaired_96.jpg',\n",
       " 'Russian_Blue_175.jpg',\n",
       " 'staffordshire_bull_terrier_118.jpg',\n",
       " 'Russian_Blue_215.jpg',\n",
       " 'great_pyrenees_155.jpg',\n",
       " 'english_setter_80.jpg',\n",
       " 'english_cocker_spaniel_63.jpg',\n",
       " 'Abyssinian_138.jpg',\n",
       " 'havanese_25.jpg',\n",
       " 'keeshond_16.jpg',\n",
       " 'yorkshire_terrier_45.jpg',\n",
       " 'Birman_38.jpg',\n",
       " 'Bengal_96.jpg',\n",
       " 'japanese_chin_152.jpg',\n",
       " 'japanese_chin_148.jpg',\n",
       " 'Abyssinian_74.jpg',\n",
       " 'yorkshire_terrier_102.jpg',\n",
       " 'Egyptian_Mau_31.jpg',\n",
       " 'saint_bernard_27.jpg',\n",
       " 'german_shorthaired_171.jpg',\n",
       " 'beagle_51.jpg',\n",
       " 'Bengal_189.jpg',\n",
       " 'japanese_chin_127.jpg',\n",
       " 'Egyptian_Mau_132.jpg',\n",
       " 'Bombay_123.jpg',\n",
       " 'Ragdoll_203.jpg',\n",
       " 'saint_bernard_13.jpg',\n",
       " 'japanese_chin_195.jpg',\n",
       " 'Sphynx_53.jpg',\n",
       " 'shiba_inu_61.jpg',\n",
       " 'Siamese_148.jpg',\n",
       " 'samoyed_61.jpg',\n",
       " 'staffordshire_bull_terrier_32.jpg',\n",
       " 'Maine_Coon_105.jpg',\n",
       " 'shiba_inu_47.jpg',\n",
       " 'Abyssinian_159.jpg',\n",
       " 'english_setter_116.jpg',\n",
       " 'yorkshire_terrier_73.jpg',\n",
       " 'pug_64.jpg',\n",
       " 'Birman_184.jpg',\n",
       " 'keeshond_48.jpg',\n",
       " 'american_pit_bull_terrier_158.jpg',\n",
       " 'leonberger_74.jpg',\n",
       " 'Persian_64.jpg',\n",
       " 'english_setter_123.jpg',\n",
       " 'Persian_184.jpg',\n",
       " 'scottish_terrier_79.jpg',\n",
       " 'Russian_Blue_34.jpg',\n",
       " 'boxer_186.jpg',\n",
       " 'Ragdoll_48.jpg',\n",
       " 'american_bulldog_149.jpg',\n",
       " 'american_bulldog_168.jpg',\n",
       " 'Persian_194.jpg',\n",
       " 'american_bulldog_53.jpg',\n",
       " 'yorkshire_terrier_110.jpg',\n",
       " 'newfoundland_136.jpg',\n",
       " 'Persian_59.jpg',\n",
       " 'english_cocker_spaniel_184.jpg',\n",
       " 'yorkshire_terrier_7.jpg',\n",
       " 'pomeranian_16.jpg',\n",
       " 'japanese_chin_108.jpg',\n",
       " 'german_shorthaired_75.jpg',\n",
       " 'saint_bernard_10.jpg',\n",
       " 'pomeranian_91.jpg',\n",
       " 'american_bulldog_207.jpg',\n",
       " 'basset_hound_39.jpg',\n",
       " 'pug_31.jpg',\n",
       " 'Maine_Coon_254.jpg',\n",
       " 'wheaten_terrier_10.jpg',\n",
       " 'scottish_terrier_167.jpg',\n",
       " 'keeshond_57.jpg',\n",
       " 'yorkshire_terrier_9.jpg',\n",
       " 'american_pit_bull_terrier_144.jpg',\n",
       " 'shiba_inu_90.jpg',\n",
       " 'saint_bernard_158.jpg',\n",
       " 'basset_hound_36.jpg',\n",
       " ...]"
      ]
     },
     "execution_count": 48,
     "metadata": {
      "tags": []
     },
     "output_type": "execute_result"
    }
   ],
   "source": [
    "os.listdir(image_dir)"
   ]
  },
  {
   "cell_type": "code",
   "execution_count": null,
   "metadata": {
    "colab": {
     "base_uri": "https://localhost:8080/"
    },
    "executionInfo": {
     "elapsed": 49656,
     "status": "ok",
     "timestamp": 1620804141323,
     "user": {
      "displayName": "ij_slango",
      "photoUrl": "",
      "userId": "09506281120044103924"
     },
     "user_tz": -540
    },
    "id": "LS74Z_dEDXVl",
    "outputId": "eb962942-a574-4b70-c748-bd0d60cc0033"
   },
   "outputs": [
    {
     "name": "stdout",
     "output_type": "stream",
     "text": [
      "7390\n"
     ]
    },
    {
     "data": {
      "text/plain": [
       "['german_shorthaired_109.jpg', 'leonberger_110.jpg', 'Russian_Blue_20.jpg']"
      ]
     },
     "execution_count": 49,
     "metadata": {
      "tags": []
     },
     "output_type": "execute_result"
    }
   ],
   "source": [
    "# 이미지 파일명 조회\n",
    "image_files = [fname for fname in os.listdir(image_dir) if os.path.splitext(fname)[-1] == '.jpg']  # jpg파일명만 리스트로 생성\n",
    "print(len(image_files))\n",
    " \n",
    "image_files[:3]"
   ]
  },
  {
   "cell_type": "code",
   "execution_count": null,
   "metadata": {
    "colab": {
     "base_uri": "https://localhost:8080/"
    },
    "executionInfo": {
     "elapsed": 48830,
     "status": "ok",
     "timestamp": 1620804141323,
     "user": {
      "displayName": "ij_slango",
      "photoUrl": "",
      "userId": "09506281120044103924"
     },
     "user_tz": -540
    },
    "id": "pdonffARDXVt",
    "outputId": "a0e16d9b-a8e7-4510-92b7-c32e472d7b91"
   },
   "outputs": [
    {
     "name": "stdout",
     "output_type": "stream",
     "text": [
      "3686\n"
     ]
    },
    {
     "data": {
      "text/plain": [
       "['boxer_178.xml', 'saint_bernard_123.xml', 'english_setter_142.xml']"
      ]
     },
     "execution_count": 50,
     "metadata": {
      "tags": []
     },
     "output_type": "execute_result"
    }
   ],
   "source": [
    "#annotation 파일 경로\n",
    "bbox_files = [fname for fname in os.listdir(bbox_dir) if os.path.splitext(fname)[-1] == '.xml']  # xml파일명만 리스트로 생성\n",
    "print(len(bbox_files))\n",
    "\n",
    "bbox_files[:3]"
   ]
  },
  {
   "cell_type": "code",
   "execution_count": null,
   "metadata": {
    "colab": {
     "base_uri": "https://localhost:8080/"
    },
    "executionInfo": {
     "elapsed": 49146,
     "status": "ok",
     "timestamp": 1620804142216,
     "user": {
      "displayName": "ij_slango",
      "photoUrl": "",
      "userId": "09506281120044103924"
     },
     "user_tz": -540
    },
    "id": "BOJCjo7kDXV4",
    "outputId": "a00bd3b7-3d92-4f74-abf5-951c10590e29"
   },
   "outputs": [
    {
     "name": "stdout",
     "output_type": "stream",
     "text": [
      "Egyptian_Mau_14.jpg RGBA (800, 582, 4)\n",
      "Egyptian_Mau_129.jpg L (325, 299)\n",
      "/content/oxford_pet/annotations/xmls/Egyptian_Mau_129.xml\n",
      "Egyptian_Mau_145.jpg P (188, 216)\n",
      "Abyssinian_5.jpg RGBA (150, 200, 4)\n",
      "Egyptian_Mau_167.jpg P (275, 183)\n",
      "staffordshire_bull_terrier_2.jpg L (282, 500)\n",
      "Egyptian_Mau_177.jpg P (175, 246)\n",
      "Egyptian_Mau_191.jpg P (214, 300)\n",
      "Abyssinian_34.jpg P (202, 250)\n",
      "staffordshire_bull_terrier_22.jpg L (500, 364)\n",
      "Egyptian_Mau_186.jpg RGBA (275, 183, 4)\n",
      "Egyptian_Mau_139.jpg P (250, 350)\n"
     ]
    }
   ],
   "source": [
    "# 이미지 파일중 RGB가 아닌 이미지 파일과 그 파일에 대한 annotation파일 제거\n",
    "remove_image_cnt = 0\n",
    "for image_file in image_files:\n",
    "    # 이미지 파일과 그에 매핑되는 annotation 파일 경로 조회\n",
    "    image_path = os.path.join(image_dir, image_file)\n",
    "    bbox_file = os.path.splitext(image_file)[0]+'.xml'\n",
    "    bbox_path = os.path.join(bbox_dir, bbox_file)\n",
    "    \n",
    "    image = Image.open(image_path) # 이미지파일 읽기\n",
    "    image_mode = image.mode # 이미지 색공간을 string으로 반환\n",
    "    if image_mode != 'RGB': # RGB가 아니면 파일 삭제\n",
    "        image = np.asarray(image)\n",
    "        print(image_file, image_mode, image.shape)\n",
    "\n",
    "        os.remove(image_path) # 파일 삭제\n",
    "        remove_image_cnt += 1\n",
    "        try:\n",
    "            os.remove(bbox_path) # xml annotation 파일이 없는 경우 remove()에서 발생하는 예외 처리\n",
    "            print(bbox_path)\n",
    "        except FileNotFoundError:\n",
    "            pass"
   ]
  },
  {
   "cell_type": "code",
   "execution_count": null,
   "metadata": {
    "colab": {
     "base_uri": "https://localhost:8080/"
    },
    "executionInfo": {
     "elapsed": 48210,
     "status": "ok",
     "timestamp": 1620804142216,
     "user": {
      "displayName": "ij_slango",
      "photoUrl": "",
      "userId": "09506281120044103924"
     },
     "user_tz": -540
    },
    "id": "u2KlnMmrJFm_",
    "outputId": "c41869be-17ae-47d4-d9c1-1cd198b55364"
   },
   "outputs": [
    {
     "data": {
      "text/plain": [
       "12"
      ]
     },
     "execution_count": 52,
     "metadata": {
      "tags": []
     },
     "output_type": "execute_result"
    }
   ],
   "source": [
    "remove_image_cnt"
   ]
  },
  {
   "cell_type": "code",
   "execution_count": null,
   "metadata": {
    "id": "3GJEbwdPDXWU"
   },
   "outputs": [],
   "source": [
    "# 삭제후 image, annotation 파일 목록 다시만들기\n",
    "image_files = [fname for fname in os.listdir(image_dir) if os.path.splitext(fname)[-1] == '.jpg']\n",
    "bbox_files = [fname for fname in os.listdir(bbox_dir) if os.path.splitext(fname)[-1] == '.xml']"
   ]
  },
  {
   "cell_type": "code",
   "execution_count": null,
   "metadata": {
    "colab": {
     "base_uri": "https://localhost:8080/"
    },
    "executionInfo": {
     "elapsed": 46224,
     "status": "ok",
     "timestamp": 1620804142217,
     "user": {
      "displayName": "ij_slango",
      "photoUrl": "",
      "userId": "09506281120044103924"
     },
     "user_tz": -540
    },
    "id": "Xpf8SoTGJx3P",
    "outputId": "6eeefe30-d895-4bc7-e1f2-7fc6d83b21ab"
   },
   "outputs": [
    {
     "data": {
      "text/plain": [
       "(7378, 3685)"
      ]
     },
     "execution_count": 54,
     "metadata": {
      "tags": []
     },
     "output_type": "execute_result"
    }
   ],
   "source": [
    "len(image_files), len(bbox_files)"
   ]
  },
  {
   "cell_type": "markdown",
   "metadata": {
    "id": "mhz0MLiDDXWk"
   },
   "source": [
    "### class dictionary 생성"
   ]
  },
  {
   "cell_type": "code",
   "execution_count": null,
   "metadata": {
    "id": "i5fa6yQSJwxI"
   },
   "outputs": [],
   "source": [
    "# class_name = ['진돗개', '치와와']"
   ]
  },
  {
   "cell_type": "code",
   "execution_count": null,
   "metadata": {
    "colab": {
     "base_uri": "https://localhost:8080/"
    },
    "executionInfo": {
     "elapsed": 42509,
     "status": "ok",
     "timestamp": 1620804142218,
     "user": {
      "displayName": "ij_slango",
      "photoUrl": "",
      "userId": "09506281120044103924"
     },
     "user_tz": -540
    },
    "id": "ef1t-tz3DXWr",
    "outputId": "d322411f-e7c3-4c90-88ad-65ab0eff544c"
   },
   "outputs": [
    {
     "name": "stdout",
     "output_type": "stream",
     "text": [
      "37\n"
     ]
    }
   ],
   "source": [
    "# 클래스 딕셔너리 리스트로 만들기\n",
    "class_list = set() \n",
    "for image_file in image_files:\n",
    "    file_name = os.path.splitext(image_file)[0] # 파일명 추출 # Egyptian_Mau_139,   .jpg\n",
    "    class_name = re.sub('_\\d+', '', file_name)  # 품종_숫자 => _숫자 제거\n",
    "    class_list.add(class_name)    \n",
    "class_list = list(class_list) # set->list\n",
    "class_list.sort()   # 정렬\n",
    "print(len(class_list))"
   ]
  },
  {
   "cell_type": "code",
   "execution_count": null,
   "metadata": {
    "colab": {
     "base_uri": "https://localhost:8080/"
    },
    "executionInfo": {
     "elapsed": 42217,
     "status": "ok",
     "timestamp": 1620804142218,
     "user": {
      "displayName": "ij_slango",
      "photoUrl": "",
      "userId": "09506281120044103924"
     },
     "user_tz": -540
    },
    "id": "6eGZG71WKoSl",
    "outputId": "5fdc8a5e-0e87-4704-ee68-c73767d86ba4"
   },
   "outputs": [
    {
     "data": {
      "text/plain": [
       "(['Abyssinian', 'Bengal', 'Birman', 'Bombay', 'British_Shorthair'],\n",
       " ['scottish_terrier',\n",
       "  'shiba_inu',\n",
       "  'staffordshire_bull_terrier',\n",
       "  'wheaten_terrier',\n",
       "  'yorkshire_terrier'])"
      ]
     },
     "execution_count": 57,
     "metadata": {
      "tags": []
     },
     "output_type": "execute_result"
    }
   ],
   "source": [
    "class_list[:5], class_list[-5:]"
   ]
  },
  {
   "cell_type": "code",
   "execution_count": null,
   "metadata": {
    "colab": {
     "base_uri": "https://localhost:8080/",
     "height": 35
    },
    "executionInfo": {
     "elapsed": 42164,
     "status": "ok",
     "timestamp": 1620804142676,
     "user": {
      "displayName": "ij_slango",
      "photoUrl": "",
      "userId": "09506281120044103924"
     },
     "user_tz": -540
    },
    "id": "5LUJEg1jK8Uk",
    "outputId": "75038cb7-45bf-4bd5-ec77-f563fcf9ec59"
   },
   "outputs": [
    {
     "data": {
      "application/vnd.google.colaboratory.intrinsic+json": {
       "type": "string"
      },
      "text/plain": [
       "'Bombay'"
      ]
     },
     "execution_count": 58,
     "metadata": {
      "tags": []
     },
     "output_type": "execute_result"
    }
   ],
   "source": [
    "predict_result = 3\n",
    "class_list[3]"
   ]
  },
  {
   "cell_type": "code",
   "execution_count": null,
   "metadata": {
    "colab": {
     "base_uri": "https://localhost:8080/"
    },
    "executionInfo": {
     "elapsed": 41550,
     "status": "ok",
     "timestamp": 1620804142676,
     "user": {
      "displayName": "ij_slango",
      "photoUrl": "",
      "userId": "09506281120044103924"
     },
     "user_tz": -540
    },
    "id": "owFxfC4tDXWt",
    "outputId": "03b1b1ad-223f-4076-f9a3-3565693babe7"
   },
   "outputs": [
    {
     "data": {
      "text/plain": [
       "{'Abyssinian': 0,\n",
       " 'Bengal': 1,\n",
       " 'Birman': 2,\n",
       " 'Bombay': 3,\n",
       " 'British_Shorthair': 4,\n",
       " 'Egyptian_Mau': 5,\n",
       " 'Maine_Coon': 6,\n",
       " 'Persian': 7,\n",
       " 'Ragdoll': 8,\n",
       " 'Russian_Blue': 9,\n",
       " 'Siamese': 10,\n",
       " 'Sphynx': 11,\n",
       " 'american_bulldog': 12,\n",
       " 'american_pit_bull_terrier': 13,\n",
       " 'basset_hound': 14,\n",
       " 'beagle': 15,\n",
       " 'boxer': 16,\n",
       " 'chihuahua': 17,\n",
       " 'english_cocker_spaniel': 18,\n",
       " 'english_setter': 19,\n",
       " 'german_shorthaired': 20,\n",
       " 'great_pyrenees': 21,\n",
       " 'havanese': 22,\n",
       " 'japanese_chin': 23,\n",
       " 'keeshond': 24,\n",
       " 'leonberger': 25,\n",
       " 'miniature_pinscher': 26,\n",
       " 'newfoundland': 27,\n",
       " 'pomeranian': 28,\n",
       " 'pug': 29,\n",
       " 'saint_bernard': 30,\n",
       " 'samoyed': 31,\n",
       " 'scottish_terrier': 32,\n",
       " 'shiba_inu': 33,\n",
       " 'staffordshire_bull_terrier': 34,\n",
       " 'wheaten_terrier': 35,\n",
       " 'yorkshire_terrier': 36}"
      ]
     },
     "execution_count": 59,
     "metadata": {
      "tags": []
     },
     "output_type": "execute_result"
    }
   ],
   "source": [
    "# 리스트 딕셔너리로 만들기: class->index로 반환하는 것.\n",
    "class2idx = {cls:idx for idx, cls in enumerate(class_list)}\n",
    "class2idx"
   ]
  },
  {
   "cell_type": "code",
   "execution_count": null,
   "metadata": {
    "colab": {
     "base_uri": "https://localhost:8080/"
    },
    "executionInfo": {
     "elapsed": 40509,
     "status": "ok",
     "timestamp": 1620804142677,
     "user": {
      "displayName": "ij_slango",
      "photoUrl": "",
      "userId": "09506281120044103924"
     },
     "user_tz": -540
    },
    "id": "OTlKiqAiLEak",
    "outputId": "56136d70-a5bb-4a7f-d4af-d0fbd3aa43e8"
   },
   "outputs": [
    {
     "data": {
      "text/plain": [
       "3"
      ]
     },
     "execution_count": 60,
     "metadata": {
      "tags": []
     },
     "output_type": "execute_result"
    }
   ],
   "source": [
    "class2idx['Bombay'] # => 3"
   ]
  },
  {
   "cell_type": "markdown",
   "metadata": {
    "id": "O1lsSuwyDXWx"
   },
   "source": [
    "# train/validation 데이터셋 만들기\n",
    "\n",
    "## TFRecord 만들기"
   ]
  },
  {
   "cell_type": "code",
   "execution_count": null,
   "metadata": {
    "id": "6nt39GnmDXW0"
   },
   "outputs": [],
   "source": [
    "IMG_SIZE = 224 # resize 크기\n",
    "N_BBOX = len(bbox_files) # annotation 파일이 있는 데이터셋만 사용 => 전체 데이터 개수\n",
    "N_TRAIN = 3000 # train set의 개수\n",
    "N_VAL = N_BBOX - N_TRAIN # validation set의 개수"
   ]
  },
  {
   "cell_type": "code",
   "execution_count": null,
   "metadata": {
    "id": "Z0mzmbpaDXW2"
   },
   "outputs": [],
   "source": [
    "## TFRecord 저장할 directory 생성\n",
    "tfr_dir = os.path.join(base_dir, 'tfrecord')\n",
    "os.makedirs(tfr_dir, exist_ok=True)\n",
    "\n",
    "tfr_train_dir = os.path.join(tfr_dir, 'oxford_train.tfr') # train set을 저장할 tfrecord\n",
    "tfr_val_dir = os.path.join(tfr_dir, 'oxford_val.tfr') # test set을 저장할 tfrecord"
   ]
  },
  {
   "cell_type": "code",
   "execution_count": null,
   "metadata": {
    "id": "-h0OYAj0DXW3"
   },
   "outputs": [],
   "source": [
    "## TFRecord writer 생성\n",
    "writer_train = tf.io.TFRecordWriter(tfr_train_dir)\n",
    "writer_val = tf.io.TFRecordWriter(tfr_val_dir)"
   ]
  },
  {
   "cell_type": "code",
   "execution_count": null,
   "metadata": {
    "id": "OobEkUCYDXW3"
   },
   "outputs": [],
   "source": [
    "# The following functions can be used to convert a value to a type compatible with tf.Example.\n",
    " # 값을 Feature로 변환하는 함수\n",
    "def _bytes_feature(value):\n",
    "    \"\"\"Returns a bytes_list from a string / byte.\"\"\"\n",
    "    if isinstance(value, type(tf.constant(0))):\n",
    "        value = value.numpy() # BytesList won't unpack a string from an EagerTensor.\n",
    "    return tf.train.Feature(bytes_list=tf.train.BytesList(value=[value]))\n",
    " \n",
    "def _float_feature(value):\n",
    "    \"\"\"Returns a float_list from a float / double.\"\"\"\n",
    "    return tf.train.Feature(float_list=tf.train.FloatList(value=[value]))\n",
    " \n",
    "def _int64_feature(value):\n",
    "    \"\"\"Returns an int64_list from a bool / enum / int / uint.\"\"\"\n",
    "    return tf.train.Feature(int64_list=tf.train.Int64List(value=[value]))"
   ]
  },
  {
   "cell_type": "code",
   "execution_count": null,
   "metadata": {
    "id": "Wr9c0-D5DXW4"
   },
   "outputs": [],
   "source": [
    "# train, validation 데이터셋의 index 설정\n",
    "\n",
    "# 데이터 섞기\n",
    "shuffle_list = list(range(N_BBOX)) \n",
    "random.shuffle(shuffle_list) \n",
    "# 분할\n",
    "train_idx_list = shuffle_list[:N_TRAIN]\n",
    "val_idx_list = shuffle_list[N_TRAIN:]"
   ]
  },
  {
   "cell_type": "code",
   "execution_count": null,
   "metadata": {
    "id": "6HyPDbRBDXW9"
   },
   "outputs": [],
   "source": [
    "# Train TFRecord 생성\n",
    "for idx in train_idx_list:\n",
    "    bbox_file = bbox_files[idx]\n",
    "    bbox_path = os.path.join(bbox_dir, bbox_file)\n",
    "    # annotation(root태그) - size - width, height\n",
    "    # annotation - object - bndbox - xmin, ymin, xmax, ymax\n",
    "    tree = et.parse(bbox_path) # 이때 현재 위치: xml파일경로(tree위치, root태그)\n",
    "    width = float(tree.find('./size/width').text) # .text - 태그 내 내용을 문자열(string)으로 반환\n",
    "    height = float(tree.find('./size/height').text)\n",
    "    xmin = float(tree.find('./object/bndbox/xmin').text)\n",
    "    ymin = float(tree.find('./object/bndbox/ymin').text)\n",
    "    xmax = float(tree.find('./object/bndbox/xmax').text)\n",
    "    ymax = float(tree.find('./object/bndbox/ymax').text)\n",
    "    #X, Y Center 좌표\n",
    "    xc = (xmin + xmax) / 2.\n",
    "    yc = (ymin + ymax) / 2.\n",
    "\n",
    "    x = xc / width\n",
    "    y = yc / height\n",
    "\n",
    "    w = (xmax - xmin) / width\n",
    "    h = (ymax - ymin) / height\n",
    "\n",
    "    # 이미지 파일\n",
    "    file_name = os.path.splitext(bbox_file)[0]\n",
    "    image_file = file_name + '.jpg' # 이미지 파일명\n",
    "    image_path = os.path.join(image_dir, image_file) # 이미지경로+이미지파일명 => 이미지 경로\n",
    "    image = Image.open(image_path) # 이미지 파일 읽기\n",
    "    image = image.resize((IMG_SIZE, IMG_SIZE)) # (244,244)로 resize\n",
    "    bimage = image.tobytes() # 이미지를 bytes 타입으로 변환\n",
    "\n",
    "    # 품종 라벨 => LabelEncoding\n",
    "    class_name = re.sub('_\\d+', '', file_name)\n",
    "    class_num = class2idx[class_name]\n",
    "    \n",
    "    # 개/고양이(이진분류) 라벨 => LabelEncoding (개-소문자시작:0, 고양이-대문자시작:1)\n",
    "    if file_name[0].islower():\n",
    "        bi_cls_num = 0\n",
    "    else:\n",
    "        bi_cls_num = 1\n",
    "    \n",
    "    # Example: 데이터 1개 => 여러개 Feature들\n",
    "    example = tf.train.Example(features=tf.train.Features(feature={\n",
    "          'image': _bytes_feature(bimage),          # 이미지 파일\n",
    "          'cls_num': _int64_feature(class_num),     # 라벨 - 품종 라벳(정수로 변환된 - 0 ~ 36)\n",
    "          'bi_cls_num': _int64_feature(bi_cls_num), # 라벨 - 개/고양이(정수로 변환된 - 0:고양이/1:개)\n",
    "          'x': _float_feature(x),  # bbox의 center x좌표\n",
    "          'y': _float_feature(y),  # bbox의 center y좌표\n",
    "          'w': _float_feature(w),  # bbox의 center width(너비)\n",
    "          'h': _float_feature(h)   # bbox의 center height(높이)\n",
    "    }))\n",
    "    writer_train.write(example.SerializeToString()) # tfrecord 파일에 출력\n",
    "\n",
    "writer_train.close()"
   ]
  },
  {
   "cell_type": "code",
   "execution_count": 1,
   "metadata": {
    "id": "oJAG7THxDXXA"
   },
   "outputs": [
    {
     "ename": "NameError",
     "evalue": "name 'val_idx_list' is not defined",
     "output_type": "error",
     "traceback": [
      "\u001b[1;31m----------------------------------------------------------------------\u001b[0m",
      "\u001b[1;31mNameError\u001b[0m                            Traceback (most recent call last)",
      "\u001b[1;32m<ipython-input-1-0eb9878d7060>\u001b[0m in \u001b[0;36m<module>\u001b[1;34m\u001b[0m\n\u001b[0;32m      1\u001b[0m \u001b[1;31m# Validation TFRecord 생성\u001b[0m\u001b[1;33m\u001b[0m\u001b[1;33m\u001b[0m\u001b[1;33m\u001b[0m\u001b[0m\n\u001b[1;32m----> 2\u001b[1;33m \u001b[1;32mfor\u001b[0m \u001b[0midx\u001b[0m \u001b[1;32min\u001b[0m \u001b[0mval_idx_list\u001b[0m\u001b[1;33m:\u001b[0m\u001b[1;33m\u001b[0m\u001b[1;33m\u001b[0m\u001b[0m\n\u001b[0m\u001b[0;32m      3\u001b[0m     \u001b[0mbbox_file\u001b[0m \u001b[1;33m=\u001b[0m \u001b[0mbbox_files\u001b[0m\u001b[1;33m[\u001b[0m\u001b[0midx\u001b[0m\u001b[1;33m]\u001b[0m\u001b[1;33m\u001b[0m\u001b[1;33m\u001b[0m\u001b[0m\n\u001b[0;32m      4\u001b[0m     \u001b[0mbbox_path\u001b[0m \u001b[1;33m=\u001b[0m \u001b[0mos\u001b[0m\u001b[1;33m.\u001b[0m\u001b[0mpath\u001b[0m\u001b[1;33m.\u001b[0m\u001b[0mjoin\u001b[0m\u001b[1;33m(\u001b[0m\u001b[0mbbox_dir\u001b[0m\u001b[1;33m,\u001b[0m \u001b[0mbbox_file\u001b[0m\u001b[1;33m)\u001b[0m\u001b[1;33m\u001b[0m\u001b[1;33m\u001b[0m\u001b[0m\n\u001b[0;32m      5\u001b[0m \u001b[1;33m\u001b[0m\u001b[0m\n",
      "\u001b[1;31mNameError\u001b[0m: name 'val_idx_list' is not defined"
     ]
    }
   ],
   "source": [
    "# Validation TFRecord 생성\n",
    "for idx in val_idx_list:\n",
    "    bbox_file = bbox_files[idx]\n",
    "    bbox_path = os.path.join(bbox_dir, bbox_file)\n",
    " \n",
    "    tree = et.parse(bbox_path)\n",
    "    width = float(tree.find('./size/width').text)\n",
    "    height = float(tree.find('.size/height').text)\n",
    "    xmin = float(tree.find('./object/bndbox/xmin').text)\n",
    "    ymin = float(tree.find('./object/bndbox/ymin').text)\n",
    "    xmax = float(tree.find('./object/bndbox/xmax').text)\n",
    "    ymax = float(tree.find('./object/bndbox/ymax').text)\n",
    "    xc = (xmin + xmax) / 2.\n",
    "    yc = (ymin + ymax) / 2.\n",
    "    x = xc / width\n",
    "    y = yc / height\n",
    "    w = (xmax - xmin) / width\n",
    "    h = (ymax - ymin) / height\n",
    "\n",
    "    file_name = os.path.splitext(bbox_file)[0]\n",
    "    image_file = file_name + '.jpg'\n",
    "    image_path = os.path.join(image_dir, image_file)\n",
    "    image = Image.open(image_path)\n",
    "    image = image.resize((IMG_SIZE, IMG_SIZE))\n",
    "    bimage = image.tobytes()\n",
    "\n",
    "    class_name = re.sub('_\\d+', '', file_name)\n",
    "    class_num = class2idx[class_name]\n",
    "\n",
    "    if file_name[0].islower():\n",
    "        bi_cls_num = 0\n",
    "    else:\n",
    "        bi_cls_num = 1\n",
    "    \n",
    "    \n",
    "    example = tf.train.Example(features=tf.train.Features(feature={\n",
    "      'image': _bytes_feature(bimage),\n",
    "      'cls_num': _int64_feature(class_num),\n",
    "      'bi_cls_num': _int64_feature(bi_cls_num),\n",
    "      'x': _float_feature(x),\n",
    "      'y': _float_feature(y),\n",
    "      'w': _float_feature(w),\n",
    "      'h': _float_feature(h)\n",
    "    }))\n",
    "    writer_val.write(example.SerializeToString())\n",
    "\n",
    "writer_val.close()"
   ]
  },
  {
   "cell_type": "markdown",
   "metadata": {
    "id": "uZJne4eeDXXG"
   },
   "source": [
    "# Localization 모델 학습"
   ]
  },
  {
   "cell_type": "code",
   "execution_count": null,
   "metadata": {
    "colab": {
     "base_uri": "https://localhost:8080/"
    },
    "executionInfo": {
     "elapsed": 736,
     "status": "ok",
     "timestamp": 1620802008331,
     "user": {
      "displayName": "ij_slango",
      "photoUrl": "",
      "userId": "09506281120044103924"
     },
     "user_tz": -540
    },
    "id": "bYsmz8YiDXXG",
    "outputId": "d32616ef-f1f9-4240-e790-2e69ded6142a"
   },
   "outputs": [
    {
     "name": "stdout",
     "output_type": "stream",
     "text": [
      "75 18\n"
     ]
    }
   ],
   "source": [
    "## Hyper Parameters\n",
    "LEARNING_RATE = 0.0001\n",
    "N_CLASS = len(class_list)\n",
    "N_EPOCHS = 40\n",
    "N_BATCH = 40\n",
    "IMG_SIZE = 224\n",
    "\n",
    "steps_per_epoch = N_TRAIN // N_BATCH\n",
    "validation_steps = int(np.ceil(N_VAL / N_BATCH)) \n",
    "\n",
    "print(steps_per_epoch, validation_steps)"
   ]
  },
  {
   "cell_type": "code",
   "execution_count": null,
   "metadata": {
    "id": "hLPxlrN9DXXH"
   },
   "outputs": [],
   "source": [
    "# TFRecord에 저장된 Dataset의 하나의 Data를 parsing하는 함수\n",
    "def _parse_function(tfrecord_serialized):\n",
    "    \"\"\"\n",
    "    [매개변수]\n",
    "        tfrecord_serialized: parsing할 1개의 data\n",
    "    [반환값] \n",
    "        튜플 (image, ground truth)\n",
    "    \"\"\"\n",
    "    \n",
    "    features={'image': tf.io.FixedLenFeature([], tf.string),\n",
    "              'cls_num': tf.io.FixedLenFeature([], tf.int64),\n",
    "              'bi_cls_num': tf.io.FixedLenFeature([], tf.int64),\n",
    "              'x': tf.io.FixedLenFeature([], tf.float32),\n",
    "              'y': tf.io.FixedLenFeature([], tf.float32),\n",
    "              'w': tf.io.FixedLenFeature([], tf.float32),\n",
    "              'h': tf.io.FixedLenFeature([], tf.float32)              \n",
    "             }\n",
    "    \n",
    "    parsed_features = tf.io.parse_single_example(tfrecord_serialized, features)\n",
    "    \n",
    "    \n",
    "    image = tf.io.decode_raw(parsed_features['image'], tf.uint8)  # feature(이미지 bytes) => image data(Tensor)로 변환\n",
    "    image = tf.reshape(image, [IMG_SIZE, IMG_SIZE, 3]) # input_shape의 형태로 reshape\n",
    "    image = tf.cast(image, tf.float32)/255.\n",
    "    \n",
    "    cls_label = tf.cast(parsed_features['cls_num'], tf.int64)\n",
    "    bi_cls_label = tf.cast(parsed_features['bi_cls_num'], tf.int64)\n",
    "    \n",
    "    x = tf.cast(parsed_features['x'], tf.float32)\n",
    "    y = tf.cast(parsed_features['y'], tf.float32)\n",
    "    w = tf.cast(parsed_features['w'], tf.float32)\n",
    "    h = tf.cast(parsed_features['h'], tf.float32)\n",
    "    grount_truth = tf.stack([x, y, w, h], -1)\n",
    "    \n",
    "    return image, grount_truth # X, y - X: image, y(output): x,y,w,h - localization만 할 예정이므로 bbox의 위치만 변화"
   ]
  },
  {
   "cell_type": "code",
   "execution_count": null,
   "metadata": {
    "id": "kolGnL5gDXXH"
   },
   "outputs": [],
   "source": [
    "## train dataset 만들기\n",
    "train_dataset = tf.data.TFRecordDataset(tfr_train_dir)\n",
    "# num_parallel_calls: 병렬처리를 이용해 변환 속도를 높이는 역할\n",
    "train_dataset = train_dataset.map(_parse_function, num_parallel_calls=tf.data.experimental.AUTOTUNE)\n",
    "train_dataset = train_dataset.shuffle(buffer_size=N_TRAIN).prefetch(tf.data.experimental.AUTOTUNE).batch(N_BATCH).repeat()\n",
    "# prefetch(tf.data.experimental.AUTOTUNE) : 현재 배치 처리하면서 다음 배치를 미리 읽어오는 작업 지시"
   ]
  },
  {
   "cell_type": "code",
   "execution_count": null,
   "metadata": {
    "id": "rZPJx3xGDXXJ"
   },
   "outputs": [],
   "source": [
    "## validation dataset 만들기\n",
    "val_dataset = tf.data.TFRecordDataset(tfr_val_dir)\n",
    "val_dataset = val_dataset.map(_parse_function, num_parallel_calls=tf.data.experimental.AUTOTUNE)\n",
    "val_dataset = val_dataset.batch(N_BATCH)"
   ]
  },
  {
   "cell_type": "markdown",
   "metadata": {
    "id": "lRgElSs5DXXT"
   },
   "source": [
    "### Trainset의 데이터 읽어서 bounding box 확인"
   ]
  },
  {
   "cell_type": "code",
   "execution_count": null,
   "metadata": {
    "ExecuteTime": {
     "end_time": "2021-05-07T08:32:19.544443Z",
     "start_time": "2021-05-07T08:32:19.467249Z"
    },
    "colab": {
     "base_uri": "https://localhost:8080/",
     "height": 773
    },
    "executionInfo": {
     "elapsed": 71003,
     "status": "ok",
     "timestamp": 1620794282925,
     "user": {
      "displayName": "ij_slango",
      "photoUrl": "",
      "userId": "09506281120044103924"
     },
     "user_tz": -540
    },
    "id": "hJrmgBL1DXXU",
    "outputId": "62205e4f-3858-4306-a547-d1dde7148f14"
   },
   "outputs": [
    {
     "data": {
      "image/png": "[encoded data removed]",
      "text/plain": [
       "<Figure size 432x288 with 1 Axes>"
      ]
     },
     "metadata": {
      "needs_background": "light",
      "tags": []
     },
     "output_type": "display_data"
    },
    {
     "data": {
      "image/png": "[encoded data removed]",
      "text/plain": [
       "<Figure size 432x288 with 1 Axes>"
      ]
     },
     "metadata": {
      "needs_background": "light",
      "tags": []
     },
     "output_type": "display_data"
    },
    {
     "data": {
      "image/png": "[encoded data removed]",
      "text/plain": [
       "<Figure size 432x288 with 1 Axes>"
      ]
     },
     "metadata": {
      "needs_background": "light",
      "tags": []
     },
     "output_type": "display_data"
    }
   ],
   "source": [
    "# _parse_function() 반환값 : image, ground_truth(x,y,w,h)\n",
    "for image, gt in val_dataset.take(3): # 반복 3번 - 한번 반복 시 N번째 배치값을 조회\n",
    "    '''그림을 그리기 위해서 bbox의 왼쪽 위 꼭지점 좌표를 계산하고, \n",
    "    xmin, ymin, w, h 각각을 image size에 맞게 scaling'''\n",
    "    x = gt[:,0] \n",
    "    y = gt[:,1] \n",
    "    w = gt[:,2] \n",
    "    h = gt[:,3] \n",
    "    xmin = x[0].numpy() - w[0].numpy()/2.\n",
    "    ymin = y[0].numpy() - h[0].numpy()/2.\n",
    "    # 조회된 xmin, ymin, w, h는 0 ~ 1로 normalize된 값(이미지의 width, height에 대한 비율)\n",
    "    #  => 원래 크기(값)으로 복원. x,w는 이미지 width 곱하고, y,h는 이미지 height를 곱한다.\n",
    "    #     (이미지를 224x224로 resize했으므로 IMG_SIZE(224)를 곱한다.)\n",
    "    rect_x = int(xmin * IMG_SIZE) \n",
    "    rect_y = int(ymin * IMG_SIZE)\n",
    "    rect_w = int(w[0].numpy() * IMG_SIZE)\n",
    "    rect_h = int(h[0].numpy() * IMG_SIZE)\n",
    "    \n",
    "    # Rectangle( (xmin, ymin), box width, box_height, fill=색을채울지여부, color=선색)\n",
    "    rect = Rectangle((rect_x, rect_y), rect_w, rect_h, fill=False, color='red')\n",
    "    plt.axes().add_patch(rect)\n",
    "    plt.imshow(image[0])\n",
    "    plt.show()"
   ]
  },
  {
   "cell_type": "markdown",
   "metadata": {
    "id": "J8UV1PmZDXXW"
   },
   "source": [
    "## 모델 생성 및 학습\n"
   ]
  },
  {
   "cell_type": "code",
   "execution_count": null,
   "metadata": {
    "id": "KpmZCUDqDXXb"
   },
   "outputs": [],
   "source": [
    "from tensorflow.keras import optimizers\n",
    "from tensorflow.keras.applications import ResNet101V2\n",
    "from tensorflow.keras.layers import Conv2D, ReLU, MaxPooling2D, Dense, BatchNormalization, GlobalAveragePooling2D, Concatenate\n",
    "from tensorflow import keras"
   ]
  },
  {
   "cell_type": "code",
   "execution_count": null,
   "metadata": {
    "id": "1b4OuEePDXXc"
   },
   "outputs": [],
   "source": [
    "def create_l_model():\n",
    "    resnet101v2 = ResNet101V2(include_top=False, weights='imagenet', input_shape=(IMG_SIZE, IMG_SIZE, 3))\n",
    "    model = keras.models.Sequential()\n",
    "    model.add(resnet101v2)\n",
    "    model.add(GlobalAveragePooling2D())\n",
    "    model.add(Dense(256))\n",
    "    model.add(BatchNormalization())\n",
    "    model.add(ReLU())\n",
    "    model.add(Dense(64))\n",
    "    model.add(BatchNormalization())\n",
    "    model.add(ReLU())\n",
    "\n",
    "    # 출력 layer(x,y,w,h) => unit을 4. 각각 출력값이 0 ~ 1 사이의 값으로 normalize 되었으므로 출력결과도 해당 scale에 맞추기 위해 sigmoid 활성함수 사용\n",
    "    # localization문제 (위치-좌표, 너비, 높이 예측) =>  회귀(Regression문제)\n",
    "    model.add(Dense(4, activation='sigmoid'))\n",
    "    return model"
   ]
  },
  {
   "cell_type": "code",
   "execution_count": null,
   "metadata": {
    "colab": {
     "base_uri": "https://localhost:8080/"
    },
    "executionInfo": {
     "elapsed": 75959,
     "status": "ok",
     "timestamp": 1620794287900,
     "user": {
      "displayName": "ij_slango",
      "photoUrl": "",
      "userId": "09506281120044103924"
     },
     "user_tz": -540
    },
    "id": "GNs-xmbQDXXl",
    "outputId": "033c6c6e-b404-476a-c9c2-44f93939686a"
   },
   "outputs": [
    {
     "name": "stdout",
     "output_type": "stream",
     "text": [
      "Downloading data from https://storage.googleapis.com/tensorflow/keras-applications/resnet/resnet101v2_weights_tf_dim_ordering_tf_kernels_notop.h5\n",
      "171319296/171317808 [==============================] - 2s 0us/step\n",
      "Model: \"sequential\"\n",
      "_________________________________________________________________\n",
      "Layer (type)                 Output Shape              Param #   \n",
      "=================================================================\n",
      "resnet101v2 (Functional)     (None, 7, 7, 2048)        42626560  \n",
      "_________________________________________________________________\n",
      "global_average_pooling2d (Gl (None, 2048)              0         \n",
      "_________________________________________________________________\n",
      "dense (Dense)                (None, 256)               524544    \n",
      "_________________________________________________________________\n",
      "batch_normalization (BatchNo (None, 256)               1024      \n",
      "_________________________________________________________________\n",
      "re_lu (ReLU)                 (None, 256)               0         \n",
      "_________________________________________________________________\n",
      "dense_1 (Dense)              (None, 64)                16448     \n",
      "_________________________________________________________________\n",
      "batch_normalization_1 (Batch (None, 64)                256       \n",
      "_________________________________________________________________\n",
      "re_lu_1 (ReLU)               (None, 64)                0         \n",
      "_________________________________________________________________\n",
      "dense_2 (Dense)              (None, 4)                 260       \n",
      "=================================================================\n",
      "Total params: 43,169,092\n",
      "Trainable params: 43,070,788\n",
      "Non-trainable params: 98,304\n",
      "_________________________________________________________________\n"
     ]
    }
   ],
   "source": [
    "model = create_l_model()\n",
    "model.summary()"
   ]
  },
  {
   "cell_type": "code",
   "execution_count": null,
   "metadata": {
    "colab": {
     "base_uri": "https://localhost:8080/",
     "height": 1000
    },
    "executionInfo": {
     "elapsed": 75949,
     "status": "ok",
     "timestamp": 1620794287901,
     "user": {
      "displayName": "ij_slango",
      "photoUrl": "",
      "userId": "09506281120044103924"
     },
     "user_tz": -540
    },
    "id": "0S_Otrk1bIAc",
    "outputId": "69c45861-3e62-4361-94ca-fe77e8564a48"
   },
   "outputs": [
    {
     "data": {
      "image/png": "[encoded data removed]",
      "text/plain": [
       "<IPython.core.display.Image object>"
      ]
     },
     "execution_count": 36,
     "metadata": {
      "tags": []
     },
     "output_type": "execute_result"
    }
   ],
   "source": [
    "keras.utils.plot_model(model, show_shapes=True)"
   ]
  },
  {
   "cell_type": "code",
   "execution_count": null,
   "metadata": {
    "id": "xGDLHtTtDXXy"
   },
   "outputs": [],
   "source": [
    "# 모델 컴파일\n",
    "## learning rate scheduing\n",
    "lr_schedule = keras.optimizers.schedules.ExponentialDecay(initial_learning_rate=LEARNING_RATE, # 초기 learning_rate: 0.0001\n",
    "                                                          decay_steps=steps_per_epoch*10,      # 몇 step당 learning_rate를 변경 (10 에폭)\n",
    "                                                          decay_rate=0.5,                      # 변경할 learning_rate의 비율 (현재 learning_rate * decay_rate)\n",
    "                                                          staircase=True)                      # step마다 조금씩 변경할지 여부\n",
    "model.compile(optimizers.Adam(lr_schedule), loss=\"mse\") # 회귀 문제이므로 Mean Squared Error를 loss함수로 지정"
   ]
  },
  {
   "cell_type": "code",
   "execution_count": null,
   "metadata": {
    "colab": {
     "base_uri": "https://localhost:8080/"
    },
    "executionInfo": {
     "elapsed": 333609,
     "status": "ok",
     "timestamp": 1620794545576,
     "user": {
      "displayName": "ij_slango",
      "photoUrl": "",
      "userId": "09506281120044103924"
     },
     "user_tz": -540
    },
    "id": "-GtDbzULDXXz",
    "outputId": "96f66344-665d-4740-d058-9fd16c8b8e47"
   },
   "outputs": [
    {
     "name": "stdout",
     "output_type": "stream",
     "text": [
      "Epoch 1/2\n",
      "75/75 [==============================] - 95s 687ms/step - loss: 0.0460 - val_loss: 0.0344\n",
      "\n",
      "Epoch 00001: val_loss improved from inf to 0.03440, saving model to /content/drive/MyDrive/save_models/oxford_pet_localization_resnet101v2_model\n",
      "INFO:tensorflow:Assets written to: /content/drive/MyDrive/save_models/oxford_pet_localization_resnet101v2_model/assets\n",
      "Epoch 2/2\n",
      "75/75 [==============================] - 59s 694ms/step - loss: 0.0141 - val_loss: 0.0159\n",
      "\n",
      "Epoch 00002: val_loss improved from 0.03440 to 0.01590, saving model to /content/drive/MyDrive/save_models/oxford_pet_localization_resnet101v2_model\n",
      "INFO:tensorflow:Assets written to: /content/drive/MyDrive/save_models/oxford_pet_localization_resnet101v2_model/assets\n"
     ]
    }
   ],
   "source": [
    "N_EPOCHS = 2 # 학습 시간 조정을 위한 임시 에폭 수\n",
    "\n",
    "filepath = r'/content/drive/MyDrive/save_models/oxford_pet_localization_resnet101v2_model'\n",
    "# val_loss의 성능이 가장 좋았던 상태의 모델 저장\n",
    "mc_callback = keras.callbacks.ModelCheckpoint(filepath, 'val_loss',verbose=1, save_best_only=True)\n",
    "# val_loss가 5번의 에폭동안 개선되지 않으면 중간에 학습 중단\n",
    "es_callback = keras.callbacks.EarlyStopping(monitor='val_loss', patience=5, verbose=1)\n",
    "\n",
    "history = model.fit(train_dataset, steps_per_epoch=steps_per_epoch,\n",
    "                    epochs=N_EPOCHS,\n",
    "                    validation_data=val_dataset,\n",
    "                    validation_steps=validation_steps, \n",
    "                    callbacks=[mc_callback, es_callback])"
   ]
  },
  {
   "cell_type": "code",
   "execution_count": null,
   "metadata": {
    "colab": {
     "base_uri": "https://localhost:8080/"
    },
    "executionInfo": {
     "elapsed": 333604,
     "status": "ok",
     "timestamp": 1620794545579,
     "user": {
      "displayName": "ij_slango",
      "photoUrl": "",
      "userId": "09506281120044103924"
     },
     "user_tz": -540
    },
    "id": "auF5R6W0jL_E",
    "outputId": "3e547880-6c00-45c8-b9ee-0cba6a8a09a2"
   },
   "outputs": [
    {
     "name": "stdout",
     "output_type": "stream",
     "text": [
      "Wed May 12 04:42:24 2021       \n",
      "+-----------------------------------------------------------------------------+\n",
      "| NVIDIA-SMI 465.19.01    Driver Version: 460.32.03    CUDA Version: 11.2     |\n",
      "|-------------------------------+----------------------+----------------------+\n",
      "| GPU  Name        Persistence-M| Bus-Id        Disp.A | Volatile Uncorr. ECC |\n",
      "| Fan  Temp  Perf  Pwr:Usage/Cap|         Memory-Usage | GPU-Util  Compute M. |\n",
      "|                               |                      |               MIG M. |\n",
      "|===============================+======================+======================|\n",
      "|   0  Tesla T4            Off  | 00000000:00:04.0 Off |                    0 |\n",
      "| N/A   70C    P0    32W /  70W |   9026MiB / 15109MiB |      0%      Default |\n",
      "|                               |                      |                  N/A |\n",
      "+-------------------------------+----------------------+----------------------+\n",
      "                                                                               \n",
      "+-----------------------------------------------------------------------------+\n",
      "| Processes:                                                                  |\n",
      "|  GPU   GI   CI        PID   Type   Process name                  GPU Memory |\n",
      "|        ID   ID                                                   Usage      |\n",
      "|=============================================================================|\n",
      "+-----------------------------------------------------------------------------+\n"
     ]
    }
   ],
   "source": [
    "!nvidia-smi"
   ]
  },
  {
   "cell_type": "markdown",
   "metadata": {
    "id": "Fah2KaqqDXYA"
   },
   "source": [
    "## 확인"
   ]
  },
  {
   "cell_type": "code",
   "execution_count": null,
   "metadata": {
    "colab": {
     "base_uri": "https://localhost:8080/",
     "height": 107
    },
    "executionInfo": {
     "elapsed": 338974,
     "status": "ok",
     "timestamp": 1620794550958,
     "user": {
      "displayName": "ij_slango",
      "photoUrl": "",
      "userId": "09506281120044103924"
     },
     "user_tz": -540
    },
    "id": "0k0j9j8sDXYG",
    "outputId": "bcf4eb7a-8dd6-44c7-8a06-f41c860f5865"
   },
   "outputs": [
    {
     "name": "stderr",
     "output_type": "stream",
     "text": [
      "Downloading...\n",
      "From: https://drive.google.com/uc?id=1-2IbiHp3SdffxkqIj4iGL9-recS6g697\n",
      "To: /content/oxford_pet_localization_resnet101.tar.gz\n",
      "475MB [00:02, 161MB/s]\n"
     ]
    },
    {
     "data": {
      "application/vnd.google.colaboratory.intrinsic+json": {
       "type": "string"
      },
      "text/plain": [
       "'oxford_pet_localization_resnet101.tar.gz'"
      ]
     },
     "execution_count": 40,
     "metadata": {
      "tags": []
     },
     "output_type": "execute_result"
    }
   ],
   "source": [
    "# 미리학습한 모델 다운로드\n",
    "import gdown\n",
    "url = 'https://drive.google.com/uc?id=1-2IbiHp3SdffxkqIj4iGL9-recS6g697'\n",
    "fname = 'oxford_pet_localization_resnet101.tar.gz'\n",
    "gdown.download(url, fname, quiet=False)"
   ]
  },
  {
   "cell_type": "code",
   "execution_count": null,
   "metadata": {
    "id": "-tdMVO0jDXYP"
   },
   "outputs": [],
   "source": [
    "!mkdir models"
   ]
  },
  {
   "cell_type": "code",
   "execution_count": null,
   "metadata": {
    "colab": {
     "base_uri": "https://localhost:8080/"
    },
    "executionInfo": {
     "elapsed": 348457,
     "status": "ok",
     "timestamp": 1620794560454,
     "user": {
      "displayName": "ij_slango",
      "photoUrl": "",
      "userId": "09506281120044103924"
     },
     "user_tz": -540
    },
    "id": "xXl8ye9gDXYR",
    "outputId": "8d29e838-d99f-4295-e649-d6d72cab71bf"
   },
   "outputs": [
    {
     "name": "stdout",
     "output_type": "stream",
     "text": [
      "oxford_pet_localization_resnet101v2_model/\n",
      "oxford_pet_localization_resnet101v2_model/variables/\n",
      "oxford_pet_localization_resnet101v2_model/variables/variables.index\n",
      "oxford_pet_localization_resnet101v2_model/variables/variables.data-00000-of-00001\n",
      "oxford_pet_localization_resnet101v2_model/assets/\n",
      "oxford_pet_localization_resnet101v2_model/saved_model.pb\n"
     ]
    }
   ],
   "source": [
    "# -옵션 -z: .gz확장자 파일 압축해제, -v: tar압축파일 압축해제, -C: 압축해제 디렉토리 설정(default: 현재 디렉토리)\n",
    "!tar -zxvf oxford_pet_localization_resnet101.tar.gz -C  models"
   ]
  },
  {
   "cell_type": "code",
   "execution_count": null,
   "metadata": {
    "id": "f91P1YwvDXYS"
   },
   "outputs": [],
   "source": [
    "# 저장된 모델 load\n",
    "filepath = '/content/models/oxford_pet_localization_resnet101v2_model'\n",
    "saved_model = keras.models.load_model(filepath)"
   ]
  },
  {
   "cell_type": "code",
   "execution_count": null,
   "metadata": {
    "colab": {
     "base_uri": "https://localhost:8080/"
    },
    "executionInfo": {
     "elapsed": 370565,
     "status": "ok",
     "timestamp": 1620794582574,
     "user": {
      "displayName": "ij_slango",
      "photoUrl": "",
      "userId": "09506281120044103924"
     },
     "user_tz": -540
    },
    "id": "AYZzcmRTDXYT",
    "outputId": "6ac2ff9d-7749-4cde-d429-3b8512593ac8"
   },
   "outputs": [
    {
     "name": "stdout",
     "output_type": "stream",
     "text": [
      "Model: \"sequential\"\n",
      "_________________________________________________________________\n",
      "Layer (type)                 Output Shape              Param #   \n",
      "=================================================================\n",
      "resnet101v2 (Functional)     (None, 7, 7, 2048)        42626560  \n",
      "_________________________________________________________________\n",
      "global_average_pooling2d (Gl (None, 2048)              0         \n",
      "_________________________________________________________________\n",
      "dense (Dense)                (None, 256)               524544    \n",
      "_________________________________________________________________\n",
      "batch_normalization (BatchNo (None, 256)               1024      \n",
      "_________________________________________________________________\n",
      "re_lu (ReLU)                 (None, 256)               0         \n",
      "_________________________________________________________________\n",
      "dense_1 (Dense)              (None, 64)                16448     \n",
      "_________________________________________________________________\n",
      "batch_normalization_1 (Batch (None, 64)                256       \n",
      "_________________________________________________________________\n",
      "re_lu_1 (ReLU)               (None, 64)                0         \n",
      "_________________________________________________________________\n",
      "dense_2 (Dense)              (None, 4)                 260       \n",
      "=================================================================\n",
      "Total params: 43,169,092\n",
      "Trainable params: 43,070,788\n",
      "Non-trainable params: 98,304\n",
      "_________________________________________________________________\n"
     ]
    }
   ],
   "source": [
    "saved_model.summary()"
   ]
  },
  {
   "cell_type": "markdown",
   "metadata": {
    "id": "yzfCTHMDDXYY"
   },
   "source": [
    "### Bounding Box 그리기"
   ]
  },
  {
   "cell_type": "code",
   "execution_count": null,
   "metadata": {
    "colab": {
     "base_uri": "https://localhost:8080/"
    },
    "executionInfo": {
     "elapsed": 370557,
     "status": "ok",
     "timestamp": 1620794582575,
     "user": {
      "displayName": "ij_slango",
      "photoUrl": "",
      "userId": "09506281120044103924"
     },
     "user_tz": -540
    },
    "id": "ga5jEsQAmILO",
    "outputId": "5807fe47-aefc-48d4-ca11-b297976ff28e"
   },
   "outputs": [
    {
     "data": {
      "text/plain": [
       "18"
      ]
     },
     "execution_count": 45,
     "metadata": {
      "tags": []
     },
     "output_type": "execute_result"
    }
   ],
   "source": [
    "validation_steps"
   ]
  },
  {
   "cell_type": "code",
   "execution_count": null,
   "metadata": {
    "colab": {
     "base_uri": "https://localhost:8080/",
     "height": 1000,
     "output_embedded_package_id": "1uheMPeV3ywf00pv40H-OCLNAOabMIHNx"
    },
    "executionInfo": {
     "elapsed": 382514,
     "status": "ok",
     "timestamp": 1620794594540,
     "user": {
      "displayName": "ij_slango",
      "photoUrl": "",
      "userId": "09506281120044103924"
     },
     "user_tz": -540
    },
    "id": "eSZjDfIjDXYd",
    "outputId": "cb03cf78-c9d1-49f6-c54b-1e8e2ea0182b"
   },
   "outputs": [
    {
     "data": {
      "text/plain": [
       "Output hidden; open in https://colab.research.google.com to view."
      ]
     },
     "metadata": {},
     "output_type": "display_data"
    }
   ],
   "source": [
    "# 예측한 bounding box와 ground truth box를 image에 같이 표시\n",
    "# 정답은 빨간색 box, 예측은 파란색 box\n",
    "idx = 0\n",
    "num_imgs = validation_steps\n",
    "for val_data, val_gt in val_dataset.take(num_imgs):\n",
    "\n",
    "    x = val_gt[:,0]\n",
    "    y = val_gt[:,1]\n",
    "    w = val_gt[:,2]\n",
    "    h = val_gt[:,3]\n",
    "\n",
    "    xmin = x[idx].numpy() - w[idx].numpy()/2.\n",
    "    ymin = y[idx].numpy() - h[idx].numpy()/2.\n",
    "\n",
    "    rect_x = int(xmin * IMG_SIZE)\n",
    "    rect_y = int(ymin * IMG_SIZE)\n",
    "    rect_w = int(w[idx].numpy() * IMG_SIZE)\n",
    "    rect_h = int(h[idx].numpy() * IMG_SIZE)    \n",
    "\n",
    "    rect = Rectangle((rect_x, rect_y), rect_w, rect_h, fill=False, color='red')\n",
    "    plt.axes().add_patch(rect)\n",
    "    \n",
    "    prediction = saved_model.predict(val_data)\n",
    "    pred_x = prediction[:,0]\n",
    "    pred_y = prediction[:,1]\n",
    "    pred_w = prediction[:,2]\n",
    "    pred_h = prediction[:,3]\n",
    "    pred_xmin = pred_x[idx] - pred_w[idx]/2.\n",
    "    pred_ymin = pred_y[idx] - pred_h[idx]/2.\n",
    "    pred_rect_x = int(pred_xmin * IMG_SIZE)\n",
    "    pred_rect_y = int(pred_ymin * IMG_SIZE)\n",
    "    pred_rect_w = int(pred_w[idx] * IMG_SIZE)\n",
    "    pred_rect_h = int(pred_h[idx] * IMG_SIZE)\n",
    "    \n",
    "    pred_rect = Rectangle((pred_rect_x, pred_rect_y), pred_rect_w, pred_rect_h,\n",
    "                         fill=False, color='blue')\n",
    "    plt.axes().add_patch(pred_rect)\n",
    "    \n",
    "    plt.imshow(val_data[idx])\n",
    "    plt.show()"
   ]
  },
  {
   "cell_type": "markdown",
   "metadata": {
    "id": "T3vs06AeDXY_"
   },
   "source": [
    "### IoU확인하기"
   ]
  },
  {
   "cell_type": "code",
   "execution_count": null,
   "metadata": {
    "colab": {
     "base_uri": "https://localhost:8080/"
    },
    "executionInfo": {
     "elapsed": 388026,
     "status": "ok",
     "timestamp": 1620794600060,
     "user": {
      "displayName": "ij_slango",
      "photoUrl": "",
      "userId": "09506281120044103924"
     },
     "user_tz": -540
    },
    "id": "85ECw507DXZC",
    "outputId": "2d574f3a-a5a1-44fd-bf5d-dd0b832e723a"
   },
   "outputs": [
    {
     "name": "stdout",
     "output_type": "stream",
     "text": [
      "0.7617100977604425\n"
     ]
    }
   ],
   "source": [
    "## Valiation set의 IOU 계산\n",
    "avg_iou = 0\n",
    "num_imgs = validation_steps\n",
    "# N_VAL: validation data 개수 % batch_size =>  마지막 배치의 데이터 개수\n",
    "res = N_VAL % N_BATCH\n",
    "for i, (val_data, val_gt) in enumerate(val_dataset.take(num_imgs)):\n",
    "\n",
    "    # flag: True - 마지막 배치의 데이터 ioU처리, False - 중간 배치들 데이터에 대한 IoU처리\n",
    "    flag = (i == validation_steps-1) # i: 현재 반복횟수 - 몇번쨰 배치에 대한 처리\n",
    "\n",
    "    # ground_truth의 x,y,w,h 조합\n",
    "    x = val_gt[:,0]\n",
    "    y = val_gt[:,1]\n",
    "    w = val_gt[:,2]\n",
    "    h = val_gt[:,3]\n",
    "    # predict\n",
    "    prediction = saved_model.predict(val_data)\n",
    "    # 예측 결과: x,y,w,h\n",
    "    pred_x = prediction[:,0]\n",
    "    pred_y = prediction[:,1]\n",
    "    pred_w = prediction[:,2]\n",
    "    pred_h = prediction[:,3]\n",
    "    for idx in range(N_BATCH):\n",
    "        if flag:  # True: 마지막 배치 처리\n",
    "            if idx == res:  # True: 마지막 배치의 모든 데이터\n",
    "                flag = False\n",
    "                break\n",
    "\n",
    "        # 1개 이미지에 대한 IoU값 계산\n",
    "        xmin = int((x[idx].numpy() - w[idx].numpy()/2.)*IMG_SIZE)\n",
    "        ymin = int((y[idx].numpy() - h[idx].numpy()/2.)*IMG_SIZE)\n",
    "        xmax = int((x[idx].numpy() + w[idx].numpy()/2.)*IMG_SIZE)\n",
    "        ymax = int((y[idx].numpy() + h[idx].numpy()/2.)*IMG_SIZE)\n",
    "        \n",
    "        pred_xmin = int((pred_x[idx] - pred_w[idx]/2.)*IMG_SIZE)\n",
    "        pred_ymin = int((pred_y[idx] - pred_h[idx]/2.)*IMG_SIZE)\n",
    "        pred_xmax = int((pred_x[idx] + pred_w[idx]/2.)*IMG_SIZE)\n",
    "        pred_ymax = int((pred_y[idx] + pred_h[idx]/2.)*IMG_SIZE)\n",
    "\n",
    "        # 두 개 box가 겹치지 않은 경우\n",
    "        if xmin > pred_xmax or xmax < pred_xmin:        \n",
    "            continue\n",
    "        if ymin > pred_ymax or ymax < pred_ymin:        \n",
    "            continue\n",
    "        \n",
    "        gt_width = xmax - xmin\n",
    "        gt_height = ymax - ymin\n",
    "        pred_width = pred_xmax - pred_xmin\n",
    "        pred_height = pred_ymax - pred_ymin\n",
    "\n",
    "        # 교집합 영역의 width, height 구하기\n",
    "        inter_width  =  np.min((xmax, pred_xmax)) - np.max((xmin, pred_xmin))\n",
    "        inter_height = np.min((ymax, pred_ymax)) - np.max((ymin, pred_ymin))\n",
    "\n",
    "        iou = (inter_width * inter_height)/((gt_width * gt_height) + (pred_width * pred_height) - (inter_width * inter_height))\n",
    "\n",
    "        avg_iou += iou / N_VAL\n",
    "\n",
    "print(avg_iou)"
   ]
  },
  {
   "cell_type": "markdown",
   "metadata": {
    "id": "wLhNCSuPDXZS"
   },
   "source": [
    "# Classification을 추가하여 Multi-task Learning으로 Localization 학습하기\n",
    "\n",
    "- **고양이/개 2개 class로 classification**"
   ]
  },
  {
   "cell_type": "code",
   "execution_count": null,
   "metadata": {
    "id": "93sXr4x-DXZU"
   },
   "outputs": [],
   "source": [
    "from tensorflow.keras import optimizers\n",
    "from tensorflow.keras.applications import ResNet101V2\n",
    "from tensorflow.keras.layers import Conv2D, ReLU, MaxPooling2D, Dense, BatchNormalization, GlobalAveragePooling2D, Concatenate\n",
    "from tensorflow import keras"
   ]
  },
  {
   "cell_type": "code",
   "execution_count": null,
   "metadata": {
    "id": "7gIx9EJaDXZU"
   },
   "outputs": [],
   "source": [
    "#tfrecord 파싱 함수(classification + localization)\n",
    "def _parse_function(tfrecord_serialized):\n",
    "    features={'image': tf.io.FixedLenFeature([], tf.string),\n",
    "              'cls_num': tf.io.FixedLenFeature([], tf.int64),\n",
    "              'bi_cls_num': tf.io.FixedLenFeature([], tf.int64),\n",
    "              'x': tf.io.FixedLenFeature([], tf.float32),\n",
    "              'y': tf.io.FixedLenFeature([], tf.float32),\n",
    "              'w': tf.io.FixedLenFeature([], tf.float32),\n",
    "              'h': tf.io.FixedLenFeature([], tf.float32)              \n",
    "             }\n",
    "    parsed_features = tf.io.parse_single_example(tfrecord_serialized, features)\n",
    "    \n",
    "    image = tf.io.decode_raw(parsed_features['image'], tf.uint8)    \n",
    "    image = tf.reshape(image, [IMG_SIZE, IMG_SIZE, 3])\n",
    "    image = tf.cast(image, tf.float32)/255.\n",
    "\n",
    "    cls_label = tf.cast(parsed_features['cls_num'], tf.float32)\n",
    "    bi_cls_label = tf.cast(parsed_features['bi_cls_num'], tf.float32)\n",
    "    \n",
    "    x = tf.cast(parsed_features['x'], tf.float32)\n",
    "    y = tf.cast(parsed_features['y'], tf.float32)\n",
    "    w = tf.cast(parsed_features['w'], tf.float32)\n",
    "    h = tf.cast(parsed_features['h'], tf.float32)\n",
    "    ground_truth = tf.stack([bi_cls_label, x, y, w, h], -1) \n",
    "    \n",
    "    return image, ground_truth"
   ]
  },
  {
   "cell_type": "code",
   "execution_count": null,
   "metadata": {
    "id": "eEYxKVjRDXZW"
   },
   "outputs": [],
   "source": [
    "#Train Dataset 생성\n",
    "train_dataset = tf.data.TFRecordDataset(tfr_train_dir)\n",
    "train_dataset = train_dataset.map(_parse_function, num_parallel_calls=tf.data.experimental.AUTOTUNE)\n",
    "train_dataset = train_dataset.shuffle(buffer_size=N_TRAIN).prefetch(\n",
    "    tf.data.experimental.AUTOTUNE).batch(N_BATCH).repeat()"
   ]
  },
  {
   "cell_type": "code",
   "execution_count": null,
   "metadata": {
    "id": "NKxLasfFDXZX"
   },
   "outputs": [],
   "source": [
    "#Validation Dataset 생성\n",
    "val_dataset = tf.data.TFRecordDataset(tfr_val_dir)\n",
    "val_dataset = val_dataset.map(_parse_function, num_parallel_calls=tf.data.experimental.AUTOTUNE)\n",
    "val_dataset = val_dataset.batch(N_BATCH).repeat()"
   ]
  },
  {
   "cell_type": "code",
   "execution_count": null,
   "metadata": {
    "id": "ig-1qVNBDXZa"
   },
   "outputs": [],
   "source": [
    "def create_cl_model():    \n",
    "    resnet101v2 = ResNet101V2(include_top=False, weights='imagenet', input_shape=(IMG_SIZE, IMG_SIZE, 3))\n",
    "    gap = GlobalAveragePooling2D()(resnet101v2.output)\n",
    "\n",
    "    dense_b1_1 = Dense(256)(gap)\n",
    "    bn_b1_2 = BatchNormalization()(dense_b1_1)\n",
    "    relu_b1_3 = ReLU()(bn_b1_2)\n",
    "    dense_b1_4 = Dense(64)(relu_b1_3)\n",
    "    bn_b1_5 = BatchNormalization()(dense_b1_4)\n",
    "    relu_b1_6 = ReLU()(bn_b1_5)\n",
    "    # classification 출력 (2진분류 -> 다중분류, 결과: dog확률, cat확률)\n",
    "    output1 = Dense(2, activation='softmax', name='output1')(relu_b1_6)\n",
    "\n",
    "    dense_b2_1 = Dense(256)(gap)\n",
    "    bn_b2_2 = BatchNormalization()(dense_b2_1)\n",
    "    relu_b2_3 = ReLU()(bn_b2_2)\n",
    "    dense_b2_4 = Dense(64)(relu_b2_3)\n",
    "    bn_b2_5 = BatchNormalization()(dense_b2_4)\n",
    "    relu_b2_6 = ReLU()(bn_b2_5)\n",
    "    # localization의 출력. 좌표 0 ~ 1 normalization되어있으므로 scale을 맞추기 위해 sigmoid 사용\n",
    "    output2 = Dense(4, activation='sigmoid', name='output2')(relu_b2_6)\n",
    "    \n",
    "    concat = Concatenate(name='finaly_output')([output1, output2])\n",
    "    return keras.Model(inputs=resnet101v2.input, outputs=concat)"
   ]
  },
  {
   "cell_type": "code",
   "execution_count": null,
   "metadata": {
    "colab": {
     "base_uri": "https://localhost:8080/"
    },
    "executionInfo": {
     "elapsed": 3747,
     "status": "ok",
     "timestamp": 1620804188014,
     "user": {
      "displayName": "ij_slango",
      "photoUrl": "",
      "userId": "09506281120044103924"
     },
     "user_tz": -540
    },
    "id": "bo1gTEwtDXZg",
    "outputId": "2acaef69-8a5c-4413-87e0-07125fbac939"
   },
   "outputs": [
    {
     "name": "stdout",
     "output_type": "stream",
     "text": [
      "Model: \"model_1\"\n",
      "__________________________________________________________________________________________________\n",
      "Layer (type)                    Output Shape         Param #     Connected to                     \n",
      "==================================================================================================\n",
      "input_2 (InputLayer)            [(None, 224, 224, 3) 0                                            \n",
      "__________________________________________________________________________________________________\n",
      "conv1_pad (ZeroPadding2D)       (None, 230, 230, 3)  0           input_2[0][0]                    \n",
      "__________________________________________________________________________________________________\n",
      "conv1_conv (Conv2D)             (None, 112, 112, 64) 9472        conv1_pad[0][0]                  \n",
      "__________________________________________________________________________________________________\n",
      "pool1_pad (ZeroPadding2D)       (None, 114, 114, 64) 0           conv1_conv[0][0]                 \n",
      "__________________________________________________________________________________________________\n",
      "pool1_pool (MaxPooling2D)       (None, 56, 56, 64)   0           pool1_pad[0][0]                  \n",
      "__________________________________________________________________________________________________\n",
      "conv2_block1_preact_bn (BatchNo (None, 56, 56, 64)   256         pool1_pool[0][0]                 \n",
      "__________________________________________________________________________________________________\n",
      "conv2_block1_preact_relu (Activ (None, 56, 56, 64)   0           conv2_block1_preact_bn[0][0]     \n",
      "__________________________________________________________________________________________________\n",
      "conv2_block1_1_conv (Conv2D)    (None, 56, 56, 64)   4096        conv2_block1_preact_relu[0][0]   \n",
      "__________________________________________________________________________________________________\n",
      "conv2_block1_1_bn (BatchNormali (None, 56, 56, 64)   256         conv2_block1_1_conv[0][0]        \n",
      "__________________________________________________________________________________________________\n",
      "conv2_block1_1_relu (Activation (None, 56, 56, 64)   0           conv2_block1_1_bn[0][0]          \n",
      "__________________________________________________________________________________________________\n",
      "conv2_block1_2_pad (ZeroPadding (None, 58, 58, 64)   0           conv2_block1_1_relu[0][0]        \n",
      "__________________________________________________________________________________________________\n",
      "conv2_block1_2_conv (Conv2D)    (None, 56, 56, 64)   36864       conv2_block1_2_pad[0][0]         \n",
      "__________________________________________________________________________________________________\n",
      "conv2_block1_2_bn (BatchNormali (None, 56, 56, 64)   256         conv2_block1_2_conv[0][0]        \n",
      "__________________________________________________________________________________________________\n",
      "conv2_block1_2_relu (Activation (None, 56, 56, 64)   0           conv2_block1_2_bn[0][0]          \n",
      "__________________________________________________________________________________________________\n",
      "conv2_block1_0_conv (Conv2D)    (None, 56, 56, 256)  16640       conv2_block1_preact_relu[0][0]   \n",
      "__________________________________________________________________________________________________\n",
      "conv2_block1_3_conv (Conv2D)    (None, 56, 56, 256)  16640       conv2_block1_2_relu[0][0]        \n",
      "__________________________________________________________________________________________________\n",
      "conv2_block1_out (Add)          (None, 56, 56, 256)  0           conv2_block1_0_conv[0][0]        \n",
      "                                                                 conv2_block1_3_conv[0][0]        \n",
      "__________________________________________________________________________________________________\n",
      "conv2_block2_preact_bn (BatchNo (None, 56, 56, 256)  1024        conv2_block1_out[0][0]           \n",
      "__________________________________________________________________________________________________\n",
      "conv2_block2_preact_relu (Activ (None, 56, 56, 256)  0           conv2_block2_preact_bn[0][0]     \n",
      "__________________________________________________________________________________________________\n",
      "conv2_block2_1_conv (Conv2D)    (None, 56, 56, 64)   16384       conv2_block2_preact_relu[0][0]   \n",
      "__________________________________________________________________________________________________\n",
      "conv2_block2_1_bn (BatchNormali (None, 56, 56, 64)   256         conv2_block2_1_conv[0][0]        \n",
      "__________________________________________________________________________________________________\n",
      "conv2_block2_1_relu (Activation (None, 56, 56, 64)   0           conv2_block2_1_bn[0][0]          \n",
      "__________________________________________________________________________________________________\n",
      "conv2_block2_2_pad (ZeroPadding (None, 58, 58, 64)   0           conv2_block2_1_relu[0][0]        \n",
      "__________________________________________________________________________________________________\n",
      "conv2_block2_2_conv (Conv2D)    (None, 56, 56, 64)   36864       conv2_block2_2_pad[0][0]         \n",
      "__________________________________________________________________________________________________\n",
      "conv2_block2_2_bn (BatchNormali (None, 56, 56, 64)   256         conv2_block2_2_conv[0][0]        \n",
      "__________________________________________________________________________________________________\n",
      "conv2_block2_2_relu (Activation (None, 56, 56, 64)   0           conv2_block2_2_bn[0][0]          \n",
      "__________________________________________________________________________________________________\n",
      "conv2_block2_3_conv (Conv2D)    (None, 56, 56, 256)  16640       conv2_block2_2_relu[0][0]        \n",
      "__________________________________________________________________________________________________\n",
      "conv2_block2_out (Add)          (None, 56, 56, 256)  0           conv2_block1_out[0][0]           \n",
      "                                                                 conv2_block2_3_conv[0][0]        \n",
      "__________________________________________________________________________________________________\n",
      "conv2_block3_preact_bn (BatchNo (None, 56, 56, 256)  1024        conv2_block2_out[0][0]           \n",
      "__________________________________________________________________________________________________\n",
      "conv2_block3_preact_relu (Activ (None, 56, 56, 256)  0           conv2_block3_preact_bn[0][0]     \n",
      "__________________________________________________________________________________________________\n",
      "conv2_block3_1_conv (Conv2D)    (None, 56, 56, 64)   16384       conv2_block3_preact_relu[0][0]   \n",
      "__________________________________________________________________________________________________\n",
      "conv2_block3_1_bn (BatchNormali (None, 56, 56, 64)   256         conv2_block3_1_conv[0][0]        \n",
      "__________________________________________________________________________________________________\n",
      "conv2_block3_1_relu (Activation (None, 56, 56, 64)   0           conv2_block3_1_bn[0][0]          \n",
      "__________________________________________________________________________________________________\n",
      "conv2_block3_2_pad (ZeroPadding (None, 58, 58, 64)   0           conv2_block3_1_relu[0][0]        \n",
      "__________________________________________________________________________________________________\n",
      "conv2_block3_2_conv (Conv2D)    (None, 28, 28, 64)   36864       conv2_block3_2_pad[0][0]         \n",
      "__________________________________________________________________________________________________\n",
      "conv2_block3_2_bn (BatchNormali (None, 28, 28, 64)   256         conv2_block3_2_conv[0][0]        \n",
      "__________________________________________________________________________________________________\n",
      "conv2_block3_2_relu (Activation (None, 28, 28, 64)   0           conv2_block3_2_bn[0][0]          \n",
      "__________________________________________________________________________________________________\n",
      "max_pooling2d_3 (MaxPooling2D)  (None, 28, 28, 256)  0           conv2_block2_out[0][0]           \n",
      "__________________________________________________________________________________________________\n",
      "conv2_block3_3_conv (Conv2D)    (None, 28, 28, 256)  16640       conv2_block3_2_relu[0][0]        \n",
      "__________________________________________________________________________________________________\n",
      "conv2_block3_out (Add)          (None, 28, 28, 256)  0           max_pooling2d_3[0][0]            \n",
      "                                                                 conv2_block3_3_conv[0][0]        \n",
      "__________________________________________________________________________________________________\n",
      "conv3_block1_preact_bn (BatchNo (None, 28, 28, 256)  1024        conv2_block3_out[0][0]           \n",
      "__________________________________________________________________________________________________\n",
      "conv3_block1_preact_relu (Activ (None, 28, 28, 256)  0           conv3_block1_preact_bn[0][0]     \n",
      "__________________________________________________________________________________________________\n",
      "conv3_block1_1_conv (Conv2D)    (None, 28, 28, 128)  32768       conv3_block1_preact_relu[0][0]   \n",
      "__________________________________________________________________________________________________\n",
      "conv3_block1_1_bn (BatchNormali (None, 28, 28, 128)  512         conv3_block1_1_conv[0][0]        \n",
      "__________________________________________________________________________________________________\n",
      "conv3_block1_1_relu (Activation (None, 28, 28, 128)  0           conv3_block1_1_bn[0][0]          \n",
      "__________________________________________________________________________________________________\n",
      "conv3_block1_2_pad (ZeroPadding (None, 30, 30, 128)  0           conv3_block1_1_relu[0][0]        \n",
      "__________________________________________________________________________________________________\n",
      "conv3_block1_2_conv (Conv2D)    (None, 28, 28, 128)  147456      conv3_block1_2_pad[0][0]         \n",
      "__________________________________________________________________________________________________\n",
      "conv3_block1_2_bn (BatchNormali (None, 28, 28, 128)  512         conv3_block1_2_conv[0][0]        \n",
      "__________________________________________________________________________________________________\n",
      "conv3_block1_2_relu (Activation (None, 28, 28, 128)  0           conv3_block1_2_bn[0][0]          \n",
      "__________________________________________________________________________________________________\n",
      "conv3_block1_0_conv (Conv2D)    (None, 28, 28, 512)  131584      conv3_block1_preact_relu[0][0]   \n",
      "__________________________________________________________________________________________________\n",
      "conv3_block1_3_conv (Conv2D)    (None, 28, 28, 512)  66048       conv3_block1_2_relu[0][0]        \n",
      "__________________________________________________________________________________________________\n",
      "conv3_block1_out (Add)          (None, 28, 28, 512)  0           conv3_block1_0_conv[0][0]        \n",
      "                                                                 conv3_block1_3_conv[0][0]        \n",
      "__________________________________________________________________________________________________\n",
      "conv3_block2_preact_bn (BatchNo (None, 28, 28, 512)  2048        conv3_block1_out[0][0]           \n",
      "__________________________________________________________________________________________________\n",
      "conv3_block2_preact_relu (Activ (None, 28, 28, 512)  0           conv3_block2_preact_bn[0][0]     \n",
      "__________________________________________________________________________________________________\n",
      "conv3_block2_1_conv (Conv2D)    (None, 28, 28, 128)  65536       conv3_block2_preact_relu[0][0]   \n",
      "__________________________________________________________________________________________________\n",
      "conv3_block2_1_bn (BatchNormali (None, 28, 28, 128)  512         conv3_block2_1_conv[0][0]        \n",
      "__________________________________________________________________________________________________\n",
      "conv3_block2_1_relu (Activation (None, 28, 28, 128)  0           conv3_block2_1_bn[0][0]          \n",
      "__________________________________________________________________________________________________\n",
      "conv3_block2_2_pad (ZeroPadding (None, 30, 30, 128)  0           conv3_block2_1_relu[0][0]        \n",
      "__________________________________________________________________________________________________\n",
      "conv3_block2_2_conv (Conv2D)    (None, 28, 28, 128)  147456      conv3_block2_2_pad[0][0]         \n",
      "__________________________________________________________________________________________________\n",
      "conv3_block2_2_bn (BatchNormali (None, 28, 28, 128)  512         conv3_block2_2_conv[0][0]        \n",
      "__________________________________________________________________________________________________\n",
      "conv3_block2_2_relu (Activation (None, 28, 28, 128)  0           conv3_block2_2_bn[0][0]          \n",
      "__________________________________________________________________________________________________\n",
      "conv3_block2_3_conv (Conv2D)    (None, 28, 28, 512)  66048       conv3_block2_2_relu[0][0]        \n",
      "__________________________________________________________________________________________________\n",
      "conv3_block2_out (Add)          (None, 28, 28, 512)  0           conv3_block1_out[0][0]           \n",
      "                                                                 conv3_block2_3_conv[0][0]        \n",
      "__________________________________________________________________________________________________\n",
      "conv3_block3_preact_bn (BatchNo (None, 28, 28, 512)  2048        conv3_block2_out[0][0]           \n",
      "__________________________________________________________________________________________________\n",
      "conv3_block3_preact_relu (Activ (None, 28, 28, 512)  0           conv3_block3_preact_bn[0][0]     \n",
      "__________________________________________________________________________________________________\n",
      "conv3_block3_1_conv (Conv2D)    (None, 28, 28, 128)  65536       conv3_block3_preact_relu[0][0]   \n",
      "__________________________________________________________________________________________________\n",
      "conv3_block3_1_bn (BatchNormali (None, 28, 28, 128)  512         conv3_block3_1_conv[0][0]        \n",
      "__________________________________________________________________________________________________\n",
      "conv3_block3_1_relu (Activation (None, 28, 28, 128)  0           conv3_block3_1_bn[0][0]          \n",
      "__________________________________________________________________________________________________\n",
      "conv3_block3_2_pad (ZeroPadding (None, 30, 30, 128)  0           conv3_block3_1_relu[0][0]        \n",
      "__________________________________________________________________________________________________\n",
      "conv3_block3_2_conv (Conv2D)    (None, 28, 28, 128)  147456      conv3_block3_2_pad[0][0]         \n",
      "__________________________________________________________________________________________________\n",
      "conv3_block3_2_bn (BatchNormali (None, 28, 28, 128)  512         conv3_block3_2_conv[0][0]        \n",
      "__________________________________________________________________________________________________\n",
      "conv3_block3_2_relu (Activation (None, 28, 28, 128)  0           conv3_block3_2_bn[0][0]          \n",
      "__________________________________________________________________________________________________\n",
      "conv3_block3_3_conv (Conv2D)    (None, 28, 28, 512)  66048       conv3_block3_2_relu[0][0]        \n",
      "__________________________________________________________________________________________________\n",
      "conv3_block3_out (Add)          (None, 28, 28, 512)  0           conv3_block2_out[0][0]           \n",
      "                                                                 conv3_block3_3_conv[0][0]        \n",
      "__________________________________________________________________________________________________\n",
      "conv3_block4_preact_bn (BatchNo (None, 28, 28, 512)  2048        conv3_block3_out[0][0]           \n",
      "__________________________________________________________________________________________________\n",
      "conv3_block4_preact_relu (Activ (None, 28, 28, 512)  0           conv3_block4_preact_bn[0][0]     \n",
      "__________________________________________________________________________________________________\n",
      "conv3_block4_1_conv (Conv2D)    (None, 28, 28, 128)  65536       conv3_block4_preact_relu[0][0]   \n",
      "__________________________________________________________________________________________________\n",
      "conv3_block4_1_bn (BatchNormali (None, 28, 28, 128)  512         conv3_block4_1_conv[0][0]        \n",
      "__________________________________________________________________________________________________\n",
      "conv3_block4_1_relu (Activation (None, 28, 28, 128)  0           conv3_block4_1_bn[0][0]          \n",
      "__________________________________________________________________________________________________\n",
      "conv3_block4_2_pad (ZeroPadding (None, 30, 30, 128)  0           conv3_block4_1_relu[0][0]        \n",
      "__________________________________________________________________________________________________\n",
      "conv3_block4_2_conv (Conv2D)    (None, 14, 14, 128)  147456      conv3_block4_2_pad[0][0]         \n",
      "__________________________________________________________________________________________________\n",
      "conv3_block4_2_bn (BatchNormali (None, 14, 14, 128)  512         conv3_block4_2_conv[0][0]        \n",
      "__________________________________________________________________________________________________\n",
      "conv3_block4_2_relu (Activation (None, 14, 14, 128)  0           conv3_block4_2_bn[0][0]          \n",
      "__________________________________________________________________________________________________\n",
      "max_pooling2d_4 (MaxPooling2D)  (None, 14, 14, 512)  0           conv3_block3_out[0][0]           \n",
      "__________________________________________________________________________________________________\n",
      "conv3_block4_3_conv (Conv2D)    (None, 14, 14, 512)  66048       conv3_block4_2_relu[0][0]        \n",
      "__________________________________________________________________________________________________\n",
      "conv3_block4_out (Add)          (None, 14, 14, 512)  0           max_pooling2d_4[0][0]            \n",
      "                                                                 conv3_block4_3_conv[0][0]        \n",
      "__________________________________________________________________________________________________\n",
      "conv4_block1_preact_bn (BatchNo (None, 14, 14, 512)  2048        conv3_block4_out[0][0]           \n",
      "__________________________________________________________________________________________________\n",
      "conv4_block1_preact_relu (Activ (None, 14, 14, 512)  0           conv4_block1_preact_bn[0][0]     \n",
      "__________________________________________________________________________________________________\n",
      "conv4_block1_1_conv (Conv2D)    (None, 14, 14, 256)  131072      conv4_block1_preact_relu[0][0]   \n",
      "__________________________________________________________________________________________________\n",
      "conv4_block1_1_bn (BatchNormali (None, 14, 14, 256)  1024        conv4_block1_1_conv[0][0]        \n",
      "__________________________________________________________________________________________________\n",
      "conv4_block1_1_relu (Activation (None, 14, 14, 256)  0           conv4_block1_1_bn[0][0]          \n",
      "__________________________________________________________________________________________________\n",
      "conv4_block1_2_pad (ZeroPadding (None, 16, 16, 256)  0           conv4_block1_1_relu[0][0]        \n",
      "__________________________________________________________________________________________________\n",
      "conv4_block1_2_conv (Conv2D)    (None, 14, 14, 256)  589824      conv4_block1_2_pad[0][0]         \n",
      "__________________________________________________________________________________________________\n",
      "conv4_block1_2_bn (BatchNormali (None, 14, 14, 256)  1024        conv4_block1_2_conv[0][0]        \n",
      "__________________________________________________________________________________________________\n",
      "conv4_block1_2_relu (Activation (None, 14, 14, 256)  0           conv4_block1_2_bn[0][0]          \n",
      "__________________________________________________________________________________________________\n",
      "conv4_block1_0_conv (Conv2D)    (None, 14, 14, 1024) 525312      conv4_block1_preact_relu[0][0]   \n",
      "__________________________________________________________________________________________________\n",
      "conv4_block1_3_conv (Conv2D)    (None, 14, 14, 1024) 263168      conv4_block1_2_relu[0][0]        \n",
      "__________________________________________________________________________________________________\n",
      "conv4_block1_out (Add)          (None, 14, 14, 1024) 0           conv4_block1_0_conv[0][0]        \n",
      "                                                                 conv4_block1_3_conv[0][0]        \n",
      "__________________________________________________________________________________________________\n",
      "conv4_block2_preact_bn (BatchNo (None, 14, 14, 1024) 4096        conv4_block1_out[0][0]           \n",
      "__________________________________________________________________________________________________\n",
      "conv4_block2_preact_relu (Activ (None, 14, 14, 1024) 0           conv4_block2_preact_bn[0][0]     \n",
      "__________________________________________________________________________________________________\n",
      "conv4_block2_1_conv (Conv2D)    (None, 14, 14, 256)  262144      conv4_block2_preact_relu[0][0]   \n",
      "__________________________________________________________________________________________________\n",
      "conv4_block2_1_bn (BatchNormali (None, 14, 14, 256)  1024        conv4_block2_1_conv[0][0]        \n",
      "__________________________________________________________________________________________________\n",
      "conv4_block2_1_relu (Activation (None, 14, 14, 256)  0           conv4_block2_1_bn[0][0]          \n",
      "__________________________________________________________________________________________________\n",
      "conv4_block2_2_pad (ZeroPadding (None, 16, 16, 256)  0           conv4_block2_1_relu[0][0]        \n",
      "__________________________________________________________________________________________________\n",
      "conv4_block2_2_conv (Conv2D)    (None, 14, 14, 256)  589824      conv4_block2_2_pad[0][0]         \n",
      "__________________________________________________________________________________________________\n",
      "conv4_block2_2_bn (BatchNormali (None, 14, 14, 256)  1024        conv4_block2_2_conv[0][0]        \n",
      "__________________________________________________________________________________________________\n",
      "conv4_block2_2_relu (Activation (None, 14, 14, 256)  0           conv4_block2_2_bn[0][0]          \n",
      "__________________________________________________________________________________________________\n",
      "conv4_block2_3_conv (Conv2D)    (None, 14, 14, 1024) 263168      conv4_block2_2_relu[0][0]        \n",
      "__________________________________________________________________________________________________\n",
      "conv4_block2_out (Add)          (None, 14, 14, 1024) 0           conv4_block1_out[0][0]           \n",
      "                                                                 conv4_block2_3_conv[0][0]        \n",
      "__________________________________________________________________________________________________\n",
      "conv4_block3_preact_bn (BatchNo (None, 14, 14, 1024) 4096        conv4_block2_out[0][0]           \n",
      "__________________________________________________________________________________________________\n",
      "conv4_block3_preact_relu (Activ (None, 14, 14, 1024) 0           conv4_block3_preact_bn[0][0]     \n",
      "__________________________________________________________________________________________________\n",
      "conv4_block3_1_conv (Conv2D)    (None, 14, 14, 256)  262144      conv4_block3_preact_relu[0][0]   \n",
      "__________________________________________________________________________________________________\n",
      "conv4_block3_1_bn (BatchNormali (None, 14, 14, 256)  1024        conv4_block3_1_conv[0][0]        \n",
      "__________________________________________________________________________________________________\n",
      "conv4_block3_1_relu (Activation (None, 14, 14, 256)  0           conv4_block3_1_bn[0][0]          \n",
      "__________________________________________________________________________________________________\n",
      "conv4_block3_2_pad (ZeroPadding (None, 16, 16, 256)  0           conv4_block3_1_relu[0][0]        \n",
      "__________________________________________________________________________________________________\n",
      "conv4_block3_2_conv (Conv2D)    (None, 14, 14, 256)  589824      conv4_block3_2_pad[0][0]         \n",
      "__________________________________________________________________________________________________\n",
      "conv4_block3_2_bn (BatchNormali (None, 14, 14, 256)  1024        conv4_block3_2_conv[0][0]        \n",
      "__________________________________________________________________________________________________\n",
      "conv4_block3_2_relu (Activation (None, 14, 14, 256)  0           conv4_block3_2_bn[0][0]          \n",
      "__________________________________________________________________________________________________\n",
      "conv4_block3_3_conv (Conv2D)    (None, 14, 14, 1024) 263168      conv4_block3_2_relu[0][0]        \n",
      "__________________________________________________________________________________________________\n",
      "conv4_block3_out (Add)          (None, 14, 14, 1024) 0           conv4_block2_out[0][0]           \n",
      "                                                                 conv4_block3_3_conv[0][0]        \n",
      "__________________________________________________________________________________________________\n",
      "conv4_block4_preact_bn (BatchNo (None, 14, 14, 1024) 4096        conv4_block3_out[0][0]           \n",
      "__________________________________________________________________________________________________\n",
      "conv4_block4_preact_relu (Activ (None, 14, 14, 1024) 0           conv4_block4_preact_bn[0][0]     \n",
      "__________________________________________________________________________________________________\n",
      "conv4_block4_1_conv (Conv2D)    (None, 14, 14, 256)  262144      conv4_block4_preact_relu[0][0]   \n",
      "__________________________________________________________________________________________________\n",
      "conv4_block4_1_bn (BatchNormali (None, 14, 14, 256)  1024        conv4_block4_1_conv[0][0]        \n",
      "__________________________________________________________________________________________________\n",
      "conv4_block4_1_relu (Activation (None, 14, 14, 256)  0           conv4_block4_1_bn[0][0]          \n",
      "__________________________________________________________________________________________________\n",
      "conv4_block4_2_pad (ZeroPadding (None, 16, 16, 256)  0           conv4_block4_1_relu[0][0]        \n",
      "__________________________________________________________________________________________________\n",
      "conv4_block4_2_conv (Conv2D)    (None, 14, 14, 256)  589824      conv4_block4_2_pad[0][0]         \n",
      "__________________________________________________________________________________________________\n",
      "conv4_block4_2_bn (BatchNormali (None, 14, 14, 256)  1024        conv4_block4_2_conv[0][0]        \n",
      "__________________________________________________________________________________________________\n",
      "conv4_block4_2_relu (Activation (None, 14, 14, 256)  0           conv4_block4_2_bn[0][0]          \n",
      "__________________________________________________________________________________________________\n",
      "conv4_block4_3_conv (Conv2D)    (None, 14, 14, 1024) 263168      conv4_block4_2_relu[0][0]        \n",
      "__________________________________________________________________________________________________\n",
      "conv4_block4_out (Add)          (None, 14, 14, 1024) 0           conv4_block3_out[0][0]           \n",
      "                                                                 conv4_block4_3_conv[0][0]        \n",
      "__________________________________________________________________________________________________\n",
      "conv4_block5_preact_bn (BatchNo (None, 14, 14, 1024) 4096        conv4_block4_out[0][0]           \n",
      "__________________________________________________________________________________________________\n",
      "conv4_block5_preact_relu (Activ (None, 14, 14, 1024) 0           conv4_block5_preact_bn[0][0]     \n",
      "__________________________________________________________________________________________________\n",
      "conv4_block5_1_conv (Conv2D)    (None, 14, 14, 256)  262144      conv4_block5_preact_relu[0][0]   \n",
      "__________________________________________________________________________________________________\n",
      "conv4_block5_1_bn (BatchNormali (None, 14, 14, 256)  1024        conv4_block5_1_conv[0][0]        \n",
      "__________________________________________________________________________________________________\n",
      "conv4_block5_1_relu (Activation (None, 14, 14, 256)  0           conv4_block5_1_bn[0][0]          \n",
      "__________________________________________________________________________________________________\n",
      "conv4_block5_2_pad (ZeroPadding (None, 16, 16, 256)  0           conv4_block5_1_relu[0][0]        \n",
      "__________________________________________________________________________________________________\n",
      "conv4_block5_2_conv (Conv2D)    (None, 14, 14, 256)  589824      conv4_block5_2_pad[0][0]         \n",
      "__________________________________________________________________________________________________\n",
      "conv4_block5_2_bn (BatchNormali (None, 14, 14, 256)  1024        conv4_block5_2_conv[0][0]        \n",
      "__________________________________________________________________________________________________\n",
      "conv4_block5_2_relu (Activation (None, 14, 14, 256)  0           conv4_block5_2_bn[0][0]          \n",
      "__________________________________________________________________________________________________\n",
      "conv4_block5_3_conv (Conv2D)    (None, 14, 14, 1024) 263168      conv4_block5_2_relu[0][0]        \n",
      "__________________________________________________________________________________________________\n",
      "conv4_block5_out (Add)          (None, 14, 14, 1024) 0           conv4_block4_out[0][0]           \n",
      "                                                                 conv4_block5_3_conv[0][0]        \n",
      "__________________________________________________________________________________________________\n",
      "conv4_block6_preact_bn (BatchNo (None, 14, 14, 1024) 4096        conv4_block5_out[0][0]           \n",
      "__________________________________________________________________________________________________\n",
      "conv4_block6_preact_relu (Activ (None, 14, 14, 1024) 0           conv4_block6_preact_bn[0][0]     \n",
      "__________________________________________________________________________________________________\n",
      "conv4_block6_1_conv (Conv2D)    (None, 14, 14, 256)  262144      conv4_block6_preact_relu[0][0]   \n",
      "__________________________________________________________________________________________________\n",
      "conv4_block6_1_bn (BatchNormali (None, 14, 14, 256)  1024        conv4_block6_1_conv[0][0]        \n",
      "__________________________________________________________________________________________________\n",
      "conv4_block6_1_relu (Activation (None, 14, 14, 256)  0           conv4_block6_1_bn[0][0]          \n",
      "__________________________________________________________________________________________________\n",
      "conv4_block6_2_pad (ZeroPadding (None, 16, 16, 256)  0           conv4_block6_1_relu[0][0]        \n",
      "__________________________________________________________________________________________________\n",
      "conv4_block6_2_conv (Conv2D)    (None, 14, 14, 256)  589824      conv4_block6_2_pad[0][0]         \n",
      "__________________________________________________________________________________________________\n",
      "conv4_block6_2_bn (BatchNormali (None, 14, 14, 256)  1024        conv4_block6_2_conv[0][0]        \n",
      "__________________________________________________________________________________________________\n",
      "conv4_block6_2_relu (Activation (None, 14, 14, 256)  0           conv4_block6_2_bn[0][0]          \n",
      "__________________________________________________________________________________________________\n",
      "conv4_block6_3_conv (Conv2D)    (None, 14, 14, 1024) 263168      conv4_block6_2_relu[0][0]        \n",
      "__________________________________________________________________________________________________\n",
      "conv4_block6_out (Add)          (None, 14, 14, 1024) 0           conv4_block5_out[0][0]           \n",
      "                                                                 conv4_block6_3_conv[0][0]        \n",
      "__________________________________________________________________________________________________\n",
      "conv4_block7_preact_bn (BatchNo (None, 14, 14, 1024) 4096        conv4_block6_out[0][0]           \n",
      "__________________________________________________________________________________________________\n",
      "conv4_block7_preact_relu (Activ (None, 14, 14, 1024) 0           conv4_block7_preact_bn[0][0]     \n",
      "__________________________________________________________________________________________________\n",
      "conv4_block7_1_conv (Conv2D)    (None, 14, 14, 256)  262144      conv4_block7_preact_relu[0][0]   \n",
      "__________________________________________________________________________________________________\n",
      "conv4_block7_1_bn (BatchNormali (None, 14, 14, 256)  1024        conv4_block7_1_conv[0][0]        \n",
      "__________________________________________________________________________________________________\n",
      "conv4_block7_1_relu (Activation (None, 14, 14, 256)  0           conv4_block7_1_bn[0][0]          \n",
      "__________________________________________________________________________________________________\n",
      "conv4_block7_2_pad (ZeroPadding (None, 16, 16, 256)  0           conv4_block7_1_relu[0][0]        \n",
      "__________________________________________________________________________________________________\n",
      "conv4_block7_2_conv (Conv2D)    (None, 14, 14, 256)  589824      conv4_block7_2_pad[0][0]         \n",
      "__________________________________________________________________________________________________\n",
      "conv4_block7_2_bn (BatchNormali (None, 14, 14, 256)  1024        conv4_block7_2_conv[0][0]        \n",
      "__________________________________________________________________________________________________\n",
      "conv4_block7_2_relu (Activation (None, 14, 14, 256)  0           conv4_block7_2_bn[0][0]          \n",
      "__________________________________________________________________________________________________\n",
      "conv4_block7_3_conv (Conv2D)    (None, 14, 14, 1024) 263168      conv4_block7_2_relu[0][0]        \n",
      "__________________________________________________________________________________________________\n",
      "conv4_block7_out (Add)          (None, 14, 14, 1024) 0           conv4_block6_out[0][0]           \n",
      "                                                                 conv4_block7_3_conv[0][0]        \n",
      "__________________________________________________________________________________________________\n",
      "conv4_block8_preact_bn (BatchNo (None, 14, 14, 1024) 4096        conv4_block7_out[0][0]           \n",
      "__________________________________________________________________________________________________\n",
      "conv4_block8_preact_relu (Activ (None, 14, 14, 1024) 0           conv4_block8_preact_bn[0][0]     \n",
      "__________________________________________________________________________________________________\n",
      "conv4_block8_1_conv (Conv2D)    (None, 14, 14, 256)  262144      conv4_block8_preact_relu[0][0]   \n",
      "__________________________________________________________________________________________________\n",
      "conv4_block8_1_bn (BatchNormali (None, 14, 14, 256)  1024        conv4_block8_1_conv[0][0]        \n",
      "__________________________________________________________________________________________________\n",
      "conv4_block8_1_relu (Activation (None, 14, 14, 256)  0           conv4_block8_1_bn[0][0]          \n",
      "__________________________________________________________________________________________________\n",
      "conv4_block8_2_pad (ZeroPadding (None, 16, 16, 256)  0           conv4_block8_1_relu[0][0]        \n",
      "__________________________________________________________________________________________________\n",
      "conv4_block8_2_conv (Conv2D)    (None, 14, 14, 256)  589824      conv4_block8_2_pad[0][0]         \n",
      "__________________________________________________________________________________________________\n",
      "conv4_block8_2_bn (BatchNormali (None, 14, 14, 256)  1024        conv4_block8_2_conv[0][0]        \n",
      "__________________________________________________________________________________________________\n",
      "conv4_block8_2_relu (Activation (None, 14, 14, 256)  0           conv4_block8_2_bn[0][0]          \n",
      "__________________________________________________________________________________________________\n",
      "conv4_block8_3_conv (Conv2D)    (None, 14, 14, 1024) 263168      conv4_block8_2_relu[0][0]        \n",
      "__________________________________________________________________________________________________\n",
      "conv4_block8_out (Add)          (None, 14, 14, 1024) 0           conv4_block7_out[0][0]           \n",
      "                                                                 conv4_block8_3_conv[0][0]        \n",
      "__________________________________________________________________________________________________\n",
      "conv4_block9_preact_bn (BatchNo (None, 14, 14, 1024) 4096        conv4_block8_out[0][0]           \n",
      "__________________________________________________________________________________________________\n",
      "conv4_block9_preact_relu (Activ (None, 14, 14, 1024) 0           conv4_block9_preact_bn[0][0]     \n",
      "__________________________________________________________________________________________________\n",
      "conv4_block9_1_conv (Conv2D)    (None, 14, 14, 256)  262144      conv4_block9_preact_relu[0][0]   \n",
      "__________________________________________________________________________________________________\n",
      "conv4_block9_1_bn (BatchNormali (None, 14, 14, 256)  1024        conv4_block9_1_conv[0][0]        \n",
      "__________________________________________________________________________________________________\n",
      "conv4_block9_1_relu (Activation (None, 14, 14, 256)  0           conv4_block9_1_bn[0][0]          \n",
      "__________________________________________________________________________________________________\n",
      "conv4_block9_2_pad (ZeroPadding (None, 16, 16, 256)  0           conv4_block9_1_relu[0][0]        \n",
      "__________________________________________________________________________________________________\n",
      "conv4_block9_2_conv (Conv2D)    (None, 14, 14, 256)  589824      conv4_block9_2_pad[0][0]         \n",
      "__________________________________________________________________________________________________\n",
      "conv4_block9_2_bn (BatchNormali (None, 14, 14, 256)  1024        conv4_block9_2_conv[0][0]        \n",
      "__________________________________________________________________________________________________\n",
      "conv4_block9_2_relu (Activation (None, 14, 14, 256)  0           conv4_block9_2_bn[0][0]          \n",
      "__________________________________________________________________________________________________\n",
      "conv4_block9_3_conv (Conv2D)    (None, 14, 14, 1024) 263168      conv4_block9_2_relu[0][0]        \n",
      "__________________________________________________________________________________________________\n",
      "conv4_block9_out (Add)          (None, 14, 14, 1024) 0           conv4_block8_out[0][0]           \n",
      "                                                                 conv4_block9_3_conv[0][0]        \n",
      "__________________________________________________________________________________________________\n",
      "conv4_block10_preact_bn (BatchN (None, 14, 14, 1024) 4096        conv4_block9_out[0][0]           \n",
      "__________________________________________________________________________________________________\n",
      "conv4_block10_preact_relu (Acti (None, 14, 14, 1024) 0           conv4_block10_preact_bn[0][0]    \n",
      "__________________________________________________________________________________________________\n",
      "conv4_block10_1_conv (Conv2D)   (None, 14, 14, 256)  262144      conv4_block10_preact_relu[0][0]  \n",
      "__________________________________________________________________________________________________\n",
      "conv4_block10_1_bn (BatchNormal (None, 14, 14, 256)  1024        conv4_block10_1_conv[0][0]       \n",
      "__________________________________________________________________________________________________\n",
      "conv4_block10_1_relu (Activatio (None, 14, 14, 256)  0           conv4_block10_1_bn[0][0]         \n",
      "__________________________________________________________________________________________________\n",
      "conv4_block10_2_pad (ZeroPaddin (None, 16, 16, 256)  0           conv4_block10_1_relu[0][0]       \n",
      "__________________________________________________________________________________________________\n",
      "conv4_block10_2_conv (Conv2D)   (None, 14, 14, 256)  589824      conv4_block10_2_pad[0][0]        \n",
      "__________________________________________________________________________________________________\n",
      "conv4_block10_2_bn (BatchNormal (None, 14, 14, 256)  1024        conv4_block10_2_conv[0][0]       \n",
      "__________________________________________________________________________________________________\n",
      "conv4_block10_2_relu (Activatio (None, 14, 14, 256)  0           conv4_block10_2_bn[0][0]         \n",
      "__________________________________________________________________________________________________\n",
      "conv4_block10_3_conv (Conv2D)   (None, 14, 14, 1024) 263168      conv4_block10_2_relu[0][0]       \n",
      "__________________________________________________________________________________________________\n",
      "conv4_block10_out (Add)         (None, 14, 14, 1024) 0           conv4_block9_out[0][0]           \n",
      "                                                                 conv4_block10_3_conv[0][0]       \n",
      "__________________________________________________________________________________________________\n",
      "conv4_block11_preact_bn (BatchN (None, 14, 14, 1024) 4096        conv4_block10_out[0][0]          \n",
      "__________________________________________________________________________________________________\n",
      "conv4_block11_preact_relu (Acti (None, 14, 14, 1024) 0           conv4_block11_preact_bn[0][0]    \n",
      "__________________________________________________________________________________________________\n",
      "conv4_block11_1_conv (Conv2D)   (None, 14, 14, 256)  262144      conv4_block11_preact_relu[0][0]  \n",
      "__________________________________________________________________________________________________\n",
      "conv4_block11_1_bn (BatchNormal (None, 14, 14, 256)  1024        conv4_block11_1_conv[0][0]       \n",
      "__________________________________________________________________________________________________\n",
      "conv4_block11_1_relu (Activatio (None, 14, 14, 256)  0           conv4_block11_1_bn[0][0]         \n",
      "__________________________________________________________________________________________________\n",
      "conv4_block11_2_pad (ZeroPaddin (None, 16, 16, 256)  0           conv4_block11_1_relu[0][0]       \n",
      "__________________________________________________________________________________________________\n",
      "conv4_block11_2_conv (Conv2D)   (None, 14, 14, 256)  589824      conv4_block11_2_pad[0][0]        \n",
      "__________________________________________________________________________________________________\n",
      "conv4_block11_2_bn (BatchNormal (None, 14, 14, 256)  1024        conv4_block11_2_conv[0][0]       \n",
      "__________________________________________________________________________________________________\n",
      "conv4_block11_2_relu (Activatio (None, 14, 14, 256)  0           conv4_block11_2_bn[0][0]         \n",
      "__________________________________________________________________________________________________\n",
      "conv4_block11_3_conv (Conv2D)   (None, 14, 14, 1024) 263168      conv4_block11_2_relu[0][0]       \n",
      "__________________________________________________________________________________________________\n",
      "conv4_block11_out (Add)         (None, 14, 14, 1024) 0           conv4_block10_out[0][0]          \n",
      "                                                                 conv4_block11_3_conv[0][0]       \n",
      "__________________________________________________________________________________________________\n",
      "conv4_block12_preact_bn (BatchN (None, 14, 14, 1024) 4096        conv4_block11_out[0][0]          \n",
      "__________________________________________________________________________________________________\n",
      "conv4_block12_preact_relu (Acti (None, 14, 14, 1024) 0           conv4_block12_preact_bn[0][0]    \n",
      "__________________________________________________________________________________________________\n",
      "conv4_block12_1_conv (Conv2D)   (None, 14, 14, 256)  262144      conv4_block12_preact_relu[0][0]  \n",
      "__________________________________________________________________________________________________\n",
      "conv4_block12_1_bn (BatchNormal (None, 14, 14, 256)  1024        conv4_block12_1_conv[0][0]       \n",
      "__________________________________________________________________________________________________\n",
      "conv4_block12_1_relu (Activatio (None, 14, 14, 256)  0           conv4_block12_1_bn[0][0]         \n",
      "__________________________________________________________________________________________________\n",
      "conv4_block12_2_pad (ZeroPaddin (None, 16, 16, 256)  0           conv4_block12_1_relu[0][0]       \n",
      "__________________________________________________________________________________________________\n",
      "conv4_block12_2_conv (Conv2D)   (None, 14, 14, 256)  589824      conv4_block12_2_pad[0][0]        \n",
      "__________________________________________________________________________________________________\n",
      "conv4_block12_2_bn (BatchNormal (None, 14, 14, 256)  1024        conv4_block12_2_conv[0][0]       \n",
      "__________________________________________________________________________________________________\n",
      "conv4_block12_2_relu (Activatio (None, 14, 14, 256)  0           conv4_block12_2_bn[0][0]         \n",
      "__________________________________________________________________________________________________\n",
      "conv4_block12_3_conv (Conv2D)   (None, 14, 14, 1024) 263168      conv4_block12_2_relu[0][0]       \n",
      "__________________________________________________________________________________________________\n",
      "conv4_block12_out (Add)         (None, 14, 14, 1024) 0           conv4_block11_out[0][0]          \n",
      "                                                                 conv4_block12_3_conv[0][0]       \n",
      "__________________________________________________________________________________________________\n",
      "conv4_block13_preact_bn (BatchN (None, 14, 14, 1024) 4096        conv4_block12_out[0][0]          \n",
      "__________________________________________________________________________________________________\n",
      "conv4_block13_preact_relu (Acti (None, 14, 14, 1024) 0           conv4_block13_preact_bn[0][0]    \n",
      "__________________________________________________________________________________________________\n",
      "conv4_block13_1_conv (Conv2D)   (None, 14, 14, 256)  262144      conv4_block13_preact_relu[0][0]  \n",
      "__________________________________________________________________________________________________\n",
      "conv4_block13_1_bn (BatchNormal (None, 14, 14, 256)  1024        conv4_block13_1_conv[0][0]       \n",
      "__________________________________________________________________________________________________\n",
      "conv4_block13_1_relu (Activatio (None, 14, 14, 256)  0           conv4_block13_1_bn[0][0]         \n",
      "__________________________________________________________________________________________________\n",
      "conv4_block13_2_pad (ZeroPaddin (None, 16, 16, 256)  0           conv4_block13_1_relu[0][0]       \n",
      "__________________________________________________________________________________________________\n",
      "conv4_block13_2_conv (Conv2D)   (None, 14, 14, 256)  589824      conv4_block13_2_pad[0][0]        \n",
      "__________________________________________________________________________________________________\n",
      "conv4_block13_2_bn (BatchNormal (None, 14, 14, 256)  1024        conv4_block13_2_conv[0][0]       \n",
      "__________________________________________________________________________________________________\n",
      "conv4_block13_2_relu (Activatio (None, 14, 14, 256)  0           conv4_block13_2_bn[0][0]         \n",
      "__________________________________________________________________________________________________\n",
      "conv4_block13_3_conv (Conv2D)   (None, 14, 14, 1024) 263168      conv4_block13_2_relu[0][0]       \n",
      "__________________________________________________________________________________________________\n",
      "conv4_block13_out (Add)         (None, 14, 14, 1024) 0           conv4_block12_out[0][0]          \n",
      "                                                                 conv4_block13_3_conv[0][0]       \n",
      "__________________________________________________________________________________________________\n",
      "conv4_block14_preact_bn (BatchN (None, 14, 14, 1024) 4096        conv4_block13_out[0][0]          \n",
      "__________________________________________________________________________________________________\n",
      "conv4_block14_preact_relu (Acti (None, 14, 14, 1024) 0           conv4_block14_preact_bn[0][0]    \n",
      "__________________________________________________________________________________________________\n",
      "conv4_block14_1_conv (Conv2D)   (None, 14, 14, 256)  262144      conv4_block14_preact_relu[0][0]  \n",
      "__________________________________________________________________________________________________\n",
      "conv4_block14_1_bn (BatchNormal (None, 14, 14, 256)  1024        conv4_block14_1_conv[0][0]       \n",
      "__________________________________________________________________________________________________\n",
      "conv4_block14_1_relu (Activatio (None, 14, 14, 256)  0           conv4_block14_1_bn[0][0]         \n",
      "__________________________________________________________________________________________________\n",
      "conv4_block14_2_pad (ZeroPaddin (None, 16, 16, 256)  0           conv4_block14_1_relu[0][0]       \n",
      "__________________________________________________________________________________________________\n",
      "conv4_block14_2_conv (Conv2D)   (None, 14, 14, 256)  589824      conv4_block14_2_pad[0][0]        \n",
      "__________________________________________________________________________________________________\n",
      "conv4_block14_2_bn (BatchNormal (None, 14, 14, 256)  1024        conv4_block14_2_conv[0][0]       \n",
      "__________________________________________________________________________________________________\n",
      "conv4_block14_2_relu (Activatio (None, 14, 14, 256)  0           conv4_block14_2_bn[0][0]         \n",
      "__________________________________________________________________________________________________\n",
      "conv4_block14_3_conv (Conv2D)   (None, 14, 14, 1024) 263168      conv4_block14_2_relu[0][0]       \n",
      "__________________________________________________________________________________________________\n",
      "conv4_block14_out (Add)         (None, 14, 14, 1024) 0           conv4_block13_out[0][0]          \n",
      "                                                                 conv4_block14_3_conv[0][0]       \n",
      "__________________________________________________________________________________________________\n",
      "conv4_block15_preact_bn (BatchN (None, 14, 14, 1024) 4096        conv4_block14_out[0][0]          \n",
      "__________________________________________________________________________________________________\n",
      "conv4_block15_preact_relu (Acti (None, 14, 14, 1024) 0           conv4_block15_preact_bn[0][0]    \n",
      "__________________________________________________________________________________________________\n",
      "conv4_block15_1_conv (Conv2D)   (None, 14, 14, 256)  262144      conv4_block15_preact_relu[0][0]  \n",
      "__________________________________________________________________________________________________\n",
      "conv4_block15_1_bn (BatchNormal (None, 14, 14, 256)  1024        conv4_block15_1_conv[0][0]       \n",
      "__________________________________________________________________________________________________\n",
      "conv4_block15_1_relu (Activatio (None, 14, 14, 256)  0           conv4_block15_1_bn[0][0]         \n",
      "__________________________________________________________________________________________________\n",
      "conv4_block15_2_pad (ZeroPaddin (None, 16, 16, 256)  0           conv4_block15_1_relu[0][0]       \n",
      "__________________________________________________________________________________________________\n",
      "conv4_block15_2_conv (Conv2D)   (None, 14, 14, 256)  589824      conv4_block15_2_pad[0][0]        \n",
      "__________________________________________________________________________________________________\n",
      "conv4_block15_2_bn (BatchNormal (None, 14, 14, 256)  1024        conv4_block15_2_conv[0][0]       \n",
      "__________________________________________________________________________________________________\n",
      "conv4_block15_2_relu (Activatio (None, 14, 14, 256)  0           conv4_block15_2_bn[0][0]         \n",
      "__________________________________________________________________________________________________\n",
      "conv4_block15_3_conv (Conv2D)   (None, 14, 14, 1024) 263168      conv4_block15_2_relu[0][0]       \n",
      "__________________________________________________________________________________________________\n",
      "conv4_block15_out (Add)         (None, 14, 14, 1024) 0           conv4_block14_out[0][0]          \n",
      "                                                                 conv4_block15_3_conv[0][0]       \n",
      "__________________________________________________________________________________________________\n",
      "conv4_block16_preact_bn (BatchN (None, 14, 14, 1024) 4096        conv4_block15_out[0][0]          \n",
      "__________________________________________________________________________________________________\n",
      "conv4_block16_preact_relu (Acti (None, 14, 14, 1024) 0           conv4_block16_preact_bn[0][0]    \n",
      "__________________________________________________________________________________________________\n",
      "conv4_block16_1_conv (Conv2D)   (None, 14, 14, 256)  262144      conv4_block16_preact_relu[0][0]  \n",
      "__________________________________________________________________________________________________\n",
      "conv4_block16_1_bn (BatchNormal (None, 14, 14, 256)  1024        conv4_block16_1_conv[0][0]       \n",
      "__________________________________________________________________________________________________\n",
      "conv4_block16_1_relu (Activatio (None, 14, 14, 256)  0           conv4_block16_1_bn[0][0]         \n",
      "__________________________________________________________________________________________________\n",
      "conv4_block16_2_pad (ZeroPaddin (None, 16, 16, 256)  0           conv4_block16_1_relu[0][0]       \n",
      "__________________________________________________________________________________________________\n",
      "conv4_block16_2_conv (Conv2D)   (None, 14, 14, 256)  589824      conv4_block16_2_pad[0][0]        \n",
      "__________________________________________________________________________________________________\n",
      "conv4_block16_2_bn (BatchNormal (None, 14, 14, 256)  1024        conv4_block16_2_conv[0][0]       \n",
      "__________________________________________________________________________________________________\n",
      "conv4_block16_2_relu (Activatio (None, 14, 14, 256)  0           conv4_block16_2_bn[0][0]         \n",
      "__________________________________________________________________________________________________\n",
      "conv4_block16_3_conv (Conv2D)   (None, 14, 14, 1024) 263168      conv4_block16_2_relu[0][0]       \n",
      "__________________________________________________________________________________________________\n",
      "conv4_block16_out (Add)         (None, 14, 14, 1024) 0           conv4_block15_out[0][0]          \n",
      "                                                                 conv4_block16_3_conv[0][0]       \n",
      "__________________________________________________________________________________________________\n",
      "conv4_block17_preact_bn (BatchN (None, 14, 14, 1024) 4096        conv4_block16_out[0][0]          \n",
      "__________________________________________________________________________________________________\n",
      "conv4_block17_preact_relu (Acti (None, 14, 14, 1024) 0           conv4_block17_preact_bn[0][0]    \n",
      "__________________________________________________________________________________________________\n",
      "conv4_block17_1_conv (Conv2D)   (None, 14, 14, 256)  262144      conv4_block17_preact_relu[0][0]  \n",
      "__________________________________________________________________________________________________\n",
      "conv4_block17_1_bn (BatchNormal (None, 14, 14, 256)  1024        conv4_block17_1_conv[0][0]       \n",
      "__________________________________________________________________________________________________\n",
      "conv4_block17_1_relu (Activatio (None, 14, 14, 256)  0           conv4_block17_1_bn[0][0]         \n",
      "__________________________________________________________________________________________________\n",
      "conv4_block17_2_pad (ZeroPaddin (None, 16, 16, 256)  0           conv4_block17_1_relu[0][0]       \n",
      "__________________________________________________________________________________________________\n",
      "conv4_block17_2_conv (Conv2D)   (None, 14, 14, 256)  589824      conv4_block17_2_pad[0][0]        \n",
      "__________________________________________________________________________________________________\n",
      "conv4_block17_2_bn (BatchNormal (None, 14, 14, 256)  1024        conv4_block17_2_conv[0][0]       \n",
      "__________________________________________________________________________________________________\n",
      "conv4_block17_2_relu (Activatio (None, 14, 14, 256)  0           conv4_block17_2_bn[0][0]         \n",
      "__________________________________________________________________________________________________\n",
      "conv4_block17_3_conv (Conv2D)   (None, 14, 14, 1024) 263168      conv4_block17_2_relu[0][0]       \n",
      "__________________________________________________________________________________________________\n",
      "conv4_block17_out (Add)         (None, 14, 14, 1024) 0           conv4_block16_out[0][0]          \n",
      "                                                                 conv4_block17_3_conv[0][0]       \n",
      "__________________________________________________________________________________________________\n",
      "conv4_block18_preact_bn (BatchN (None, 14, 14, 1024) 4096        conv4_block17_out[0][0]          \n",
      "__________________________________________________________________________________________________\n",
      "conv4_block18_preact_relu (Acti (None, 14, 14, 1024) 0           conv4_block18_preact_bn[0][0]    \n",
      "__________________________________________________________________________________________________\n",
      "conv4_block18_1_conv (Conv2D)   (None, 14, 14, 256)  262144      conv4_block18_preact_relu[0][0]  \n",
      "__________________________________________________________________________________________________\n",
      "conv4_block18_1_bn (BatchNormal (None, 14, 14, 256)  1024        conv4_block18_1_conv[0][0]       \n",
      "__________________________________________________________________________________________________\n",
      "conv4_block18_1_relu (Activatio (None, 14, 14, 256)  0           conv4_block18_1_bn[0][0]         \n",
      "__________________________________________________________________________________________________\n",
      "conv4_block18_2_pad (ZeroPaddin (None, 16, 16, 256)  0           conv4_block18_1_relu[0][0]       \n",
      "__________________________________________________________________________________________________\n",
      "conv4_block18_2_conv (Conv2D)   (None, 14, 14, 256)  589824      conv4_block18_2_pad[0][0]        \n",
      "__________________________________________________________________________________________________\n",
      "conv4_block18_2_bn (BatchNormal (None, 14, 14, 256)  1024        conv4_block18_2_conv[0][0]       \n",
      "__________________________________________________________________________________________________\n",
      "conv4_block18_2_relu (Activatio (None, 14, 14, 256)  0           conv4_block18_2_bn[0][0]         \n",
      "__________________________________________________________________________________________________\n",
      "conv4_block18_3_conv (Conv2D)   (None, 14, 14, 1024) 263168      conv4_block18_2_relu[0][0]       \n",
      "__________________________________________________________________________________________________\n",
      "conv4_block18_out (Add)         (None, 14, 14, 1024) 0           conv4_block17_out[0][0]          \n",
      "                                                                 conv4_block18_3_conv[0][0]       \n",
      "__________________________________________________________________________________________________\n",
      "conv4_block19_preact_bn (BatchN (None, 14, 14, 1024) 4096        conv4_block18_out[0][0]          \n",
      "__________________________________________________________________________________________________\n",
      "conv4_block19_preact_relu (Acti (None, 14, 14, 1024) 0           conv4_block19_preact_bn[0][0]    \n",
      "__________________________________________________________________________________________________\n",
      "conv4_block19_1_conv (Conv2D)   (None, 14, 14, 256)  262144      conv4_block19_preact_relu[0][0]  \n",
      "__________________________________________________________________________________________________\n",
      "conv4_block19_1_bn (BatchNormal (None, 14, 14, 256)  1024        conv4_block19_1_conv[0][0]       \n",
      "__________________________________________________________________________________________________\n",
      "conv4_block19_1_relu (Activatio (None, 14, 14, 256)  0           conv4_block19_1_bn[0][0]         \n",
      "__________________________________________________________________________________________________\n",
      "conv4_block19_2_pad (ZeroPaddin (None, 16, 16, 256)  0           conv4_block19_1_relu[0][0]       \n",
      "__________________________________________________________________________________________________\n",
      "conv4_block19_2_conv (Conv2D)   (None, 14, 14, 256)  589824      conv4_block19_2_pad[0][0]        \n",
      "__________________________________________________________________________________________________\n",
      "conv4_block19_2_bn (BatchNormal (None, 14, 14, 256)  1024        conv4_block19_2_conv[0][0]       \n",
      "__________________________________________________________________________________________________\n",
      "conv4_block19_2_relu (Activatio (None, 14, 14, 256)  0           conv4_block19_2_bn[0][0]         \n",
      "__________________________________________________________________________________________________\n",
      "conv4_block19_3_conv (Conv2D)   (None, 14, 14, 1024) 263168      conv4_block19_2_relu[0][0]       \n",
      "__________________________________________________________________________________________________\n",
      "conv4_block19_out (Add)         (None, 14, 14, 1024) 0           conv4_block18_out[0][0]          \n",
      "                                                                 conv4_block19_3_conv[0][0]       \n",
      "__________________________________________________________________________________________________\n",
      "conv4_block20_preact_bn (BatchN (None, 14, 14, 1024) 4096        conv4_block19_out[0][0]          \n",
      "__________________________________________________________________________________________________\n",
      "conv4_block20_preact_relu (Acti (None, 14, 14, 1024) 0           conv4_block20_preact_bn[0][0]    \n",
      "__________________________________________________________________________________________________\n",
      "conv4_block20_1_conv (Conv2D)   (None, 14, 14, 256)  262144      conv4_block20_preact_relu[0][0]  \n",
      "__________________________________________________________________________________________________\n",
      "conv4_block20_1_bn (BatchNormal (None, 14, 14, 256)  1024        conv4_block20_1_conv[0][0]       \n",
      "__________________________________________________________________________________________________\n",
      "conv4_block20_1_relu (Activatio (None, 14, 14, 256)  0           conv4_block20_1_bn[0][0]         \n",
      "__________________________________________________________________________________________________\n",
      "conv4_block20_2_pad (ZeroPaddin (None, 16, 16, 256)  0           conv4_block20_1_relu[0][0]       \n",
      "__________________________________________________________________________________________________\n",
      "conv4_block20_2_conv (Conv2D)   (None, 14, 14, 256)  589824      conv4_block20_2_pad[0][0]        \n",
      "__________________________________________________________________________________________________\n",
      "conv4_block20_2_bn (BatchNormal (None, 14, 14, 256)  1024        conv4_block20_2_conv[0][0]       \n",
      "__________________________________________________________________________________________________\n",
      "conv4_block20_2_relu (Activatio (None, 14, 14, 256)  0           conv4_block20_2_bn[0][0]         \n",
      "__________________________________________________________________________________________________\n",
      "conv4_block20_3_conv (Conv2D)   (None, 14, 14, 1024) 263168      conv4_block20_2_relu[0][0]       \n",
      "__________________________________________________________________________________________________\n",
      "conv4_block20_out (Add)         (None, 14, 14, 1024) 0           conv4_block19_out[0][0]          \n",
      "                                                                 conv4_block20_3_conv[0][0]       \n",
      "__________________________________________________________________________________________________\n",
      "conv4_block21_preact_bn (BatchN (None, 14, 14, 1024) 4096        conv4_block20_out[0][0]          \n",
      "__________________________________________________________________________________________________\n",
      "conv4_block21_preact_relu (Acti (None, 14, 14, 1024) 0           conv4_block21_preact_bn[0][0]    \n",
      "__________________________________________________________________________________________________\n",
      "conv4_block21_1_conv (Conv2D)   (None, 14, 14, 256)  262144      conv4_block21_preact_relu[0][0]  \n",
      "__________________________________________________________________________________________________\n",
      "conv4_block21_1_bn (BatchNormal (None, 14, 14, 256)  1024        conv4_block21_1_conv[0][0]       \n",
      "__________________________________________________________________________________________________\n",
      "conv4_block21_1_relu (Activatio (None, 14, 14, 256)  0           conv4_block21_1_bn[0][0]         \n",
      "__________________________________________________________________________________________________\n",
      "conv4_block21_2_pad (ZeroPaddin (None, 16, 16, 256)  0           conv4_block21_1_relu[0][0]       \n",
      "__________________________________________________________________________________________________\n",
      "conv4_block21_2_conv (Conv2D)   (None, 14, 14, 256)  589824      conv4_block21_2_pad[0][0]        \n",
      "__________________________________________________________________________________________________\n",
      "conv4_block21_2_bn (BatchNormal (None, 14, 14, 256)  1024        conv4_block21_2_conv[0][0]       \n",
      "__________________________________________________________________________________________________\n",
      "conv4_block21_2_relu (Activatio (None, 14, 14, 256)  0           conv4_block21_2_bn[0][0]         \n",
      "__________________________________________________________________________________________________\n",
      "conv4_block21_3_conv (Conv2D)   (None, 14, 14, 1024) 263168      conv4_block21_2_relu[0][0]       \n",
      "__________________________________________________________________________________________________\n",
      "conv4_block21_out (Add)         (None, 14, 14, 1024) 0           conv4_block20_out[0][0]          \n",
      "                                                                 conv4_block21_3_conv[0][0]       \n",
      "__________________________________________________________________________________________________\n",
      "conv4_block22_preact_bn (BatchN (None, 14, 14, 1024) 4096        conv4_block21_out[0][0]          \n",
      "__________________________________________________________________________________________________\n",
      "conv4_block22_preact_relu (Acti (None, 14, 14, 1024) 0           conv4_block22_preact_bn[0][0]    \n",
      "__________________________________________________________________________________________________\n",
      "conv4_block22_1_conv (Conv2D)   (None, 14, 14, 256)  262144      conv4_block22_preact_relu[0][0]  \n",
      "__________________________________________________________________________________________________\n",
      "conv4_block22_1_bn (BatchNormal (None, 14, 14, 256)  1024        conv4_block22_1_conv[0][0]       \n",
      "__________________________________________________________________________________________________\n",
      "conv4_block22_1_relu (Activatio (None, 14, 14, 256)  0           conv4_block22_1_bn[0][0]         \n",
      "__________________________________________________________________________________________________\n",
      "conv4_block22_2_pad (ZeroPaddin (None, 16, 16, 256)  0           conv4_block22_1_relu[0][0]       \n",
      "__________________________________________________________________________________________________\n",
      "conv4_block22_2_conv (Conv2D)   (None, 14, 14, 256)  589824      conv4_block22_2_pad[0][0]        \n",
      "__________________________________________________________________________________________________\n",
      "conv4_block22_2_bn (BatchNormal (None, 14, 14, 256)  1024        conv4_block22_2_conv[0][0]       \n",
      "__________________________________________________________________________________________________\n",
      "conv4_block22_2_relu (Activatio (None, 14, 14, 256)  0           conv4_block22_2_bn[0][0]         \n",
      "__________________________________________________________________________________________________\n",
      "conv4_block22_3_conv (Conv2D)   (None, 14, 14, 1024) 263168      conv4_block22_2_relu[0][0]       \n",
      "__________________________________________________________________________________________________\n",
      "conv4_block22_out (Add)         (None, 14, 14, 1024) 0           conv4_block21_out[0][0]          \n",
      "                                                                 conv4_block22_3_conv[0][0]       \n",
      "__________________________________________________________________________________________________\n",
      "conv4_block23_preact_bn (BatchN (None, 14, 14, 1024) 4096        conv4_block22_out[0][0]          \n",
      "__________________________________________________________________________________________________\n",
      "conv4_block23_preact_relu (Acti (None, 14, 14, 1024) 0           conv4_block23_preact_bn[0][0]    \n",
      "__________________________________________________________________________________________________\n",
      "conv4_block23_1_conv (Conv2D)   (None, 14, 14, 256)  262144      conv4_block23_preact_relu[0][0]  \n",
      "__________________________________________________________________________________________________\n",
      "conv4_block23_1_bn (BatchNormal (None, 14, 14, 256)  1024        conv4_block23_1_conv[0][0]       \n",
      "__________________________________________________________________________________________________\n",
      "conv4_block23_1_relu (Activatio (None, 14, 14, 256)  0           conv4_block23_1_bn[0][0]         \n",
      "__________________________________________________________________________________________________\n",
      "conv4_block23_2_pad (ZeroPaddin (None, 16, 16, 256)  0           conv4_block23_1_relu[0][0]       \n",
      "__________________________________________________________________________________________________\n",
      "conv4_block23_2_conv (Conv2D)   (None, 7, 7, 256)    589824      conv4_block23_2_pad[0][0]        \n",
      "__________________________________________________________________________________________________\n",
      "conv4_block23_2_bn (BatchNormal (None, 7, 7, 256)    1024        conv4_block23_2_conv[0][0]       \n",
      "__________________________________________________________________________________________________\n",
      "conv4_block23_2_relu (Activatio (None, 7, 7, 256)    0           conv4_block23_2_bn[0][0]         \n",
      "__________________________________________________________________________________________________\n",
      "max_pooling2d_5 (MaxPooling2D)  (None, 7, 7, 1024)   0           conv4_block22_out[0][0]          \n",
      "__________________________________________________________________________________________________\n",
      "conv4_block23_3_conv (Conv2D)   (None, 7, 7, 1024)   263168      conv4_block23_2_relu[0][0]       \n",
      "__________________________________________________________________________________________________\n",
      "conv4_block23_out (Add)         (None, 7, 7, 1024)   0           max_pooling2d_5[0][0]            \n",
      "                                                                 conv4_block23_3_conv[0][0]       \n",
      "__________________________________________________________________________________________________\n",
      "conv5_block1_preact_bn (BatchNo (None, 7, 7, 1024)   4096        conv4_block23_out[0][0]          \n",
      "__________________________________________________________________________________________________\n",
      "conv5_block1_preact_relu (Activ (None, 7, 7, 1024)   0           conv5_block1_preact_bn[0][0]     \n",
      "__________________________________________________________________________________________________\n",
      "conv5_block1_1_conv (Conv2D)    (None, 7, 7, 512)    524288      conv5_block1_preact_relu[0][0]   \n",
      "__________________________________________________________________________________________________\n",
      "conv5_block1_1_bn (BatchNormali (None, 7, 7, 512)    2048        conv5_block1_1_conv[0][0]        \n",
      "__________________________________________________________________________________________________\n",
      "conv5_block1_1_relu (Activation (None, 7, 7, 512)    0           conv5_block1_1_bn[0][0]          \n",
      "__________________________________________________________________________________________________\n",
      "conv5_block1_2_pad (ZeroPadding (None, 9, 9, 512)    0           conv5_block1_1_relu[0][0]        \n",
      "__________________________________________________________________________________________________\n",
      "conv5_block1_2_conv (Conv2D)    (None, 7, 7, 512)    2359296     conv5_block1_2_pad[0][0]         \n",
      "__________________________________________________________________________________________________\n",
      "conv5_block1_2_bn (BatchNormali (None, 7, 7, 512)    2048        conv5_block1_2_conv[0][0]        \n",
      "__________________________________________________________________________________________________\n",
      "conv5_block1_2_relu (Activation (None, 7, 7, 512)    0           conv5_block1_2_bn[0][0]          \n",
      "__________________________________________________________________________________________________\n",
      "conv5_block1_0_conv (Conv2D)    (None, 7, 7, 2048)   2099200     conv5_block1_preact_relu[0][0]   \n",
      "__________________________________________________________________________________________________\n",
      "conv5_block1_3_conv (Conv2D)    (None, 7, 7, 2048)   1050624     conv5_block1_2_relu[0][0]        \n",
      "__________________________________________________________________________________________________\n",
      "conv5_block1_out (Add)          (None, 7, 7, 2048)   0           conv5_block1_0_conv[0][0]        \n",
      "                                                                 conv5_block1_3_conv[0][0]        \n",
      "__________________________________________________________________________________________________\n",
      "conv5_block2_preact_bn (BatchNo (None, 7, 7, 2048)   8192        conv5_block1_out[0][0]           \n",
      "__________________________________________________________________________________________________\n",
      "conv5_block2_preact_relu (Activ (None, 7, 7, 2048)   0           conv5_block2_preact_bn[0][0]     \n",
      "__________________________________________________________________________________________________\n",
      "conv5_block2_1_conv (Conv2D)    (None, 7, 7, 512)    1048576     conv5_block2_preact_relu[0][0]   \n",
      "__________________________________________________________________________________________________\n",
      "conv5_block2_1_bn (BatchNormali (None, 7, 7, 512)    2048        conv5_block2_1_conv[0][0]        \n",
      "__________________________________________________________________________________________________\n",
      "conv5_block2_1_relu (Activation (None, 7, 7, 512)    0           conv5_block2_1_bn[0][0]          \n",
      "__________________________________________________________________________________________________\n",
      "conv5_block2_2_pad (ZeroPadding (None, 9, 9, 512)    0           conv5_block2_1_relu[0][0]        \n",
      "__________________________________________________________________________________________________\n",
      "conv5_block2_2_conv (Conv2D)    (None, 7, 7, 512)    2359296     conv5_block2_2_pad[0][0]         \n",
      "__________________________________________________________________________________________________\n",
      "conv5_block2_2_bn (BatchNormali (None, 7, 7, 512)    2048        conv5_block2_2_conv[0][0]        \n",
      "__________________________________________________________________________________________________\n",
      "conv5_block2_2_relu (Activation (None, 7, 7, 512)    0           conv5_block2_2_bn[0][0]          \n",
      "__________________________________________________________________________________________________\n",
      "conv5_block2_3_conv (Conv2D)    (None, 7, 7, 2048)   1050624     conv5_block2_2_relu[0][0]        \n",
      "__________________________________________________________________________________________________\n",
      "conv5_block2_out (Add)          (None, 7, 7, 2048)   0           conv5_block1_out[0][0]           \n",
      "                                                                 conv5_block2_3_conv[0][0]        \n",
      "__________________________________________________________________________________________________\n",
      "conv5_block3_preact_bn (BatchNo (None, 7, 7, 2048)   8192        conv5_block2_out[0][0]           \n",
      "__________________________________________________________________________________________________\n",
      "conv5_block3_preact_relu (Activ (None, 7, 7, 2048)   0           conv5_block3_preact_bn[0][0]     \n",
      "__________________________________________________________________________________________________\n",
      "conv5_block3_1_conv (Conv2D)    (None, 7, 7, 512)    1048576     conv5_block3_preact_relu[0][0]   \n",
      "__________________________________________________________________________________________________\n",
      "conv5_block3_1_bn (BatchNormali (None, 7, 7, 512)    2048        conv5_block3_1_conv[0][0]        \n",
      "__________________________________________________________________________________________________\n",
      "conv5_block3_1_relu (Activation (None, 7, 7, 512)    0           conv5_block3_1_bn[0][0]          \n",
      "__________________________________________________________________________________________________\n",
      "conv5_block3_2_pad (ZeroPadding (None, 9, 9, 512)    0           conv5_block3_1_relu[0][0]        \n",
      "__________________________________________________________________________________________________\n",
      "conv5_block3_2_conv (Conv2D)    (None, 7, 7, 512)    2359296     conv5_block3_2_pad[0][0]         \n",
      "__________________________________________________________________________________________________\n",
      "conv5_block3_2_bn (BatchNormali (None, 7, 7, 512)    2048        conv5_block3_2_conv[0][0]        \n",
      "__________________________________________________________________________________________________\n",
      "conv5_block3_2_relu (Activation (None, 7, 7, 512)    0           conv5_block3_2_bn[0][0]          \n",
      "__________________________________________________________________________________________________\n",
      "conv5_block3_3_conv (Conv2D)    (None, 7, 7, 2048)   1050624     conv5_block3_2_relu[0][0]        \n",
      "__________________________________________________________________________________________________\n",
      "conv5_block3_out (Add)          (None, 7, 7, 2048)   0           conv5_block2_out[0][0]           \n",
      "                                                                 conv5_block3_3_conv[0][0]        \n",
      "__________________________________________________________________________________________________\n",
      "post_bn (BatchNormalization)    (None, 7, 7, 2048)   8192        conv5_block3_out[0][0]           \n",
      "__________________________________________________________________________________________________\n",
      "post_relu (Activation)          (None, 7, 7, 2048)   0           post_bn[0][0]                    \n",
      "__________________________________________________________________________________________________\n",
      "global_average_pooling2d_1 (Glo (None, 2048)         0           post_relu[0][0]                  \n",
      "__________________________________________________________________________________________________\n",
      "dense_4 (Dense)                 (None, 256)          524544      global_average_pooling2d_1[0][0] \n",
      "__________________________________________________________________________________________________\n",
      "dense_6 (Dense)                 (None, 256)          524544      global_average_pooling2d_1[0][0] \n",
      "__________________________________________________________________________________________________\n",
      "batch_normalization_4 (BatchNor (None, 256)          1024        dense_4[0][0]                    \n",
      "__________________________________________________________________________________________________\n",
      "batch_normalization_6 (BatchNor (None, 256)          1024        dense_6[0][0]                    \n",
      "__________________________________________________________________________________________________\n",
      "re_lu_4 (ReLU)                  (None, 256)          0           batch_normalization_4[0][0]      \n",
      "__________________________________________________________________________________________________\n",
      "re_lu_6 (ReLU)                  (None, 256)          0           batch_normalization_6[0][0]      \n",
      "__________________________________________________________________________________________________\n",
      "dense_5 (Dense)                 (None, 64)           16448       re_lu_4[0][0]                    \n",
      "__________________________________________________________________________________________________\n",
      "dense_7 (Dense)                 (None, 64)           16448       re_lu_6[0][0]                    \n",
      "__________________________________________________________________________________________________\n",
      "batch_normalization_5 (BatchNor (None, 64)           256         dense_5[0][0]                    \n",
      "__________________________________________________________________________________________________\n",
      "batch_normalization_7 (BatchNor (None, 64)           256         dense_7[0][0]                    \n",
      "__________________________________________________________________________________________________\n",
      "re_lu_5 (ReLU)                  (None, 64)           0           batch_normalization_5[0][0]      \n",
      "__________________________________________________________________________________________________\n",
      "re_lu_7 (ReLU)                  (None, 64)           0           batch_normalization_7[0][0]      \n",
      "__________________________________________________________________________________________________\n",
      "output1 (Dense)                 (None, 2)            130         re_lu_5[0][0]                    \n",
      "__________________________________________________________________________________________________\n",
      "output2 (Dense)                 (None, 4)            260         re_lu_7[0][0]                    \n",
      "__________________________________________________________________________________________________\n",
      "finaly_output (Concatenate)     (None, 6)            0           output1[0][0]                    \n",
      "                                                                 output2[0][0]                    \n",
      "==================================================================================================\n",
      "Total params: 43,711,494\n",
      "Trainable params: 43,612,550\n",
      "Non-trainable params: 98,944\n",
      "__________________________________________________________________________________________________\n"
     ]
    }
   ],
   "source": [
    "model = create_cl_model()\n",
    "model.summary()"
   ]
  },
  {
   "cell_type": "code",
   "execution_count": null,
   "metadata": {
    "colab": {
     "base_uri": "https://localhost:8080/",
     "height": 1000,
     "output_embedded_package_id": "1N7u3YS9GfC6Pw25Ep0cEzH2mfon88M0L"
    },
    "executionInfo": {
     "elapsed": 9800,
     "status": "ok",
     "timestamp": 1620804722711,
     "user": {
      "displayName": "ij_slango",
      "photoUrl": "",
      "userId": "09506281120044103924"
     },
     "user_tz": -540
    },
    "id": "nTpHScSsDXZh",
    "outputId": "c87a8b69-20b3-4100-e90e-d5523886cc15"
   },
   "outputs": [
    {
     "data": {
      "text/plain": [
       "Output hidden; open in https://colab.research.google.com to view."
      ]
     },
     "metadata": {},
     "output_type": "display_data"
    }
   ],
   "source": [
    "keras.utils.plot_model(model, show_shapes=True)"
   ]
  },
  {
   "cell_type": "code",
   "execution_count": null,
   "metadata": {
    "id": "IBuVrJpQDXZh"
   },
   "outputs": [],
   "source": [
    "# Loss 함수 구현\n",
    "def loss_fn(y_true, y_pred):\n",
    "    \"\"\"\n",
    "    [매개변수]\n",
    "        y_true: ndarray - ground truth(정답),\n",
    "        y_pred: ndarray - 모델이 예측한 결과\n",
    "    [반환값]\n",
    "        실수(float) - y_true와 y_pred 사이의 오차\n",
    "    \"\"\"\n",
    "    cls_labels = tf.cast(y_true[:,:1], tf.int64) # Ground Truth의 분류관련 y값 (index 0) => one hot encoding 미처리 상태\n",
    "    loc_labels = y_true[:,1:] # Ground Truth의 x,y,w,h 좌표\n",
    "\n",
    "    cls_preds = y_pred[:,:2] # 예측결과 중 분류관련 y값\n",
    "    loc_preds = y_pred[:,2:] # 예측결과 중 좌표\n",
    "    cls_loss = tf.keras.losses.SparseCategoricalCrossentropy()(cls_labels, cls_preds)\n",
    "    loc_loss = tf.keras.losses.MeanSquaredError()(loc_labels, loc_preds)\n",
    "    return cls_loss + 5*loc_loss # 두 loss를 더해서 반환 (한쪽 loss에 가중치(중요도)를 주고 싶은 경우 해당 loss의 가중치 늘려서 더하여 전달)"
   ]
  },
  {
   "cell_type": "code",
   "execution_count": null,
   "metadata": {
    "id": "-OYRNtbKDXZi"
   },
   "outputs": [],
   "source": [
    "# 모델 컴파일\n",
    "## learning rate scheduing\n",
    "lr_schedule = keras.optimizers.schedules.ExponentialDecay(initial_learning_rate=LEARNING_RATE,\n",
    "                                                          decay_steps=steps_per_epoch*10,\n",
    "                                                          decay_rate=0.5,\n",
    "                                                          staircase=True)\n",
    "model.compile(optimizers.Adam(lr_schedule), loss=loss_fn)"
   ]
  },
  {
   "cell_type": "code",
   "execution_count": null,
   "metadata": {
    "colab": {
     "base_uri": "https://localhost:8080/"
    },
    "executionInfo": {
     "elapsed": 98580,
     "status": "ok",
     "timestamp": 1620806249446,
     "user": {
      "displayName": "ij_slango",
      "photoUrl": "",
      "userId": "09506281120044103924"
     },
     "user_tz": -540
    },
    "id": "8oTz88-sDXZj",
    "outputId": "fe7787e7-18e3-429a-96a2-ae7f243518bf"
   },
   "outputs": [
    {
     "name": "stdout",
     "output_type": "stream",
     "text": [
      "75/75 [==============================] - 96s 668ms/step - loss: 0.6322 - val_loss: 0.3358\n",
      "\n",
      "Epoch 00001: val_loss improved from inf to 0.33576, saving model to /content/drive/MyDrive/save_models/oxford_pet_localization_classification_resnet101v2_weights/oxford_pet_lc_weights.ckpt\n"
     ]
    }
   ],
   "source": [
    "# 학습\n",
    "filepath2 = r'/content/drive/MyDrive/save_models/oxford_pet_localization_classification_resnet101v2_weights/oxford_pet_lc_weights.ckpt'\n",
    "mc_callback = keras.callbacks.ModelCheckpoint(filepath2, 'val_loss',verbose=1, save_best_only=True, save_weights_only=True)\n",
    "es_callback = keras.callbacks.EarlyStopping(monitor='val_loss', patience=10, verbose=1)\n",
    "\n",
    "N_EPOCHS = 1 # 임시 에폭수\n",
    "history = model.fit(train_dataset, steps_per_epoch=steps_per_epoch,\n",
    "                    epochs=N_EPOCHS,\n",
    "                    validation_data=val_dataset,\n",
    "                    validation_steps=validation_steps,\n",
    "                    callbacks=[mc_callback, es_callback])"
   ]
  },
  {
   "cell_type": "markdown",
   "metadata": {
    "id": "U8mDtxV0DXZm"
   },
   "source": [
    "# 확인"
   ]
  },
  {
   "cell_type": "markdown",
   "metadata": {
    "id": "l3eiscTMDXZr"
   },
   "source": [
    "### 미리 학습된 weights 가져오기 평가하기"
   ]
  },
  {
   "cell_type": "code",
   "execution_count": null,
   "metadata": {
    "colab": {
     "base_uri": "https://localhost:8080/",
     "height": 107
    },
    "executionInfo": {
     "elapsed": 5434,
     "status": "ok",
     "timestamp": 1620806296839,
     "user": {
      "displayName": "ij_slango",
      "photoUrl": "",
      "userId": "09506281120044103924"
     },
     "user_tz": -540
    },
    "id": "5FnsT9WBDXZw",
    "outputId": "22889a45-d4c3-4a8b-b6d2-7a229a7b0024",
    "scrolled": true
   },
   "outputs": [
    {
     "name": "stderr",
     "output_type": "stream",
     "text": [
      "Downloading...\n",
      "From: https://drive.google.com/uc?id=1ycRNri9Gr6QjcOFv4GQi_DLCU17JbOyo\n",
      "To: /content/oxford_pet_classification_localization_resnet101_weight.tar.gz\n",
      "481MB [00:02, 235MB/s]\n"
     ]
    },
    {
     "data": {
      "application/vnd.google.colaboratory.intrinsic+json": {
       "type": "string"
      },
      "text/plain": [
       "'oxford_pet_classification_localization_resnet101_weight.tar.gz'"
      ]
     },
     "execution_count": 80,
     "metadata": {
      "tags": []
     },
     "output_type": "execute_result"
    }
   ],
   "source": [
    "# 미리학습한 모델 다운로드\n",
    "import gdown\n",
    "url = 'https://drive.google.com/uc?id=1ycRNri9Gr6QjcOFv4GQi_DLCU17JbOyo'\n",
    "fname = 'oxford_pet_classification_localization_resnet101_weight.tar.gz'\n",
    "gdown.download(url, fname, quiet=False)"
   ]
  },
  {
   "cell_type": "code",
   "execution_count": null,
   "metadata": {
    "id": "jyUAAfxtlcKQ"
   },
   "outputs": [],
   "source": [
    "!mkdir models"
   ]
  },
  {
   "cell_type": "code",
   "execution_count": null,
   "metadata": {
    "colab": {
     "base_uri": "https://localhost:8080/"
    },
    "executionInfo": {
     "elapsed": 7281,
     "status": "ok",
     "timestamp": 1620806356582,
     "user": {
      "displayName": "ij_slango",
      "photoUrl": "",
      "userId": "09506281120044103924"
     },
     "user_tz": -540
    },
    "id": "zLVavOyPDXZx",
    "outputId": "b1477e9b-c00f-4bbe-e692-f0db4f731f16"
   },
   "outputs": [
    {
     "name": "stdout",
     "output_type": "stream",
     "text": [
      "oxford_pet_localization_classification_resnet101v2_weights/\n",
      "oxford_pet_localization_classification_resnet101v2_weights/oxford_pet_lc_weights.ckpt.index\n",
      "oxford_pet_localization_classification_resnet101v2_weights/checkpoint\n",
      "oxford_pet_localization_classification_resnet101v2_weights/oxford_pet_lc_weights.ckpt.data-00000-of-00001\n"
     ]
    }
   ],
   "source": [
    "# 압축풀기\n",
    "!tar -zxvf oxford_pet_classification_localization_resnet101_weight.tar.gz -C  models"
   ]
  },
  {
   "cell_type": "code",
   "execution_count": null,
   "metadata": {
    "colab": {
     "base_uri": "https://localhost:8080/",
     "height": 35
    },
    "executionInfo": {
     "elapsed": 1077,
     "status": "ok",
     "timestamp": 1620806416621,
     "user": {
      "displayName": "ij_slango",
      "photoUrl": "",
      "userId": "09506281120044103924"
     },
     "user_tz": -540
    },
    "id": "gw-cVHmFDXZy",
    "outputId": "db73ecb2-93f6-4c55-dffb-2df62f942efc"
   },
   "outputs": [
    {
     "data": {
      "application/vnd.google.colaboratory.intrinsic+json": {
       "type": "string"
      },
      "text/plain": [
       "'/content/models/oxford_pet_localization_classification_resnet101v2_weights/oxford_pet_lc_weights.ckpt'"
      ]
     },
     "execution_count": 84,
     "metadata": {
      "tags": []
     },
     "output_type": "execute_result"
    }
   ],
   "source": [
    "# 마지막으로 저장된 checkpoint 경로 확인\n",
    "best_weight_path = tf.train.latest_checkpoint('/content/models/oxford_pet_localization_classification_resnet101v2_weights')\n",
    "best_weight_path"
   ]
  },
  {
   "cell_type": "code",
   "execution_count": null,
   "metadata": {
    "colab": {
     "base_uri": "https://localhost:8080/"
    },
    "executionInfo": {
     "elapsed": 6649,
     "status": "ok",
     "timestamp": 1620806454726,
     "user": {
      "displayName": "ij_slango",
      "photoUrl": "",
      "userId": "09506281120044103924"
     },
     "user_tz": -540
    },
    "id": "LOHENYBbDXZ4",
    "outputId": "7d054b39-c102-40cf-be0a-cb88fa72a8e4"
   },
   "outputs": [
    {
     "data": {
      "text/plain": [
       "<tensorflow.python.training.tracking.util.CheckpointLoadStatus at 0x7f742d0ddf10>"
      ]
     },
     "execution_count": 85,
     "metadata": {
      "tags": []
     },
     "output_type": "execute_result"
    }
   ],
   "source": [
    "# 저장된 weight load \n",
    "saved_model2 = create_cl_model()\n",
    "saved_model2.load_weights(best_weight_path)"
   ]
  },
  {
   "cell_type": "markdown",
   "metadata": {
    "id": "B6NZewoeDXZ5"
   },
   "source": [
    "### Bounding Box 확인"
   ]
  },
  {
   "cell_type": "code",
   "execution_count": null,
   "metadata": {
    "colab": {
     "base_uri": "https://localhost:8080/",
     "height": 1000,
     "output_embedded_package_id": "1skubS_IN7efRVBw5An2b4po82bgPDHPx"
    },
    "executionInfo": {
     "elapsed": 12929,
     "status": "ok",
     "timestamp": 1620806478213,
     "user": {
      "displayName": "ij_slango",
      "photoUrl": "",
      "userId": "09506281120044103924"
     },
     "user_tz": -540
    },
    "id": "VCZr3D8GDXZ5",
    "outputId": "e997d9dd-7295-4863-9d06-6008d4919426"
   },
   "outputs": [
    {
     "data": {
      "text/plain": [
       "Output hidden; open in https://colab.research.google.com to view."
      ]
     },
     "metadata": {},
     "output_type": "display_data"
    }
   ],
   "source": [
    "# 배치중 idx번째 것만 확인\n",
    "idx = 1\n",
    "num_imgs = validation_steps \n",
    "for val_data, val_gt in val_dataset.take(num_imgs):\n",
    "    \n",
    "    gt_cls_name = np.where(val_gt[:,0]==0,'dog','cat')\n",
    "    \n",
    "    x = val_gt[:,1]\n",
    "    y = val_gt[:,2]\n",
    "    w = val_gt[:,3]\n",
    "    h = val_gt[:,4]\n",
    "    xmin = x[idx].numpy() - w[idx].numpy()/2.\n",
    "    ymin = y[idx].numpy() - h[idx].numpy()/2.\n",
    "    rect_x = int(xmin * IMG_SIZE)\n",
    "    rect_y = int(ymin * IMG_SIZE)\n",
    "    rect_w = int(w[idx].numpy() * IMG_SIZE)\n",
    "    rect_h = int(h[idx].numpy() * IMG_SIZE)\n",
    "    \n",
    "    rect = Rectangle((rect_x, rect_y), rect_w, rect_h, fill=False, color='red')\n",
    "    plt.axes().add_patch(rect)    \n",
    "    \n",
    "    prediction = saved_model2.predict(val_data)\n",
    "    \n",
    "    pred_cls_idx = np.argmax(prediction[:,:2], axis=-1)\n",
    "    pred_cls_name = np.where(pred_cls_idx==0, 'dog','cat')\n",
    "    \n",
    "    pred_x = prediction[:,2]\n",
    "    pred_y = prediction[:,3]\n",
    "    pred_w = prediction[:,4]\n",
    "    pred_h = prediction[:,5]\n",
    "    pred_xmin = pred_x[idx] - pred_w[idx]/2.\n",
    "    pred_ymin = pred_y[idx] - pred_h[idx]/2.\n",
    "    pred_rect_x = int(pred_xmin * IMG_SIZE)\n",
    "    pred_rect_y = int(pred_ymin * IMG_SIZE)\n",
    "    pred_rect_w = int(pred_w[idx] * IMG_SIZE)\n",
    "    pred_rect_h = int(pred_h[idx] * IMG_SIZE)\n",
    "    \n",
    "    pred_rect = Rectangle((pred_rect_x, pred_rect_y), pred_rect_w, pred_rect_h,\n",
    "                         fill=False, color='blue')\n",
    "    plt.axes().add_patch(pred_rect)\n",
    "    plt.title(f'Ground Truth-{gt_cls_name[idx]}, Pred:{pred_cls_name[idx]}')\n",
    "    \n",
    "    plt.imshow(val_data[idx])\n",
    "    plt.show()"
   ]
  },
  {
   "cell_type": "markdown",
   "metadata": {
    "id": "u-Z8utusDXZ6"
   },
   "source": [
    "### IoU 계산"
   ]
  },
  {
   "cell_type": "code",
   "execution_count": null,
   "metadata": {
    "colab": {
     "base_uri": "https://localhost:8080/"
    },
    "executionInfo": {
     "elapsed": 6937,
     "status": "ok",
     "timestamp": 1620806636476,
     "user": {
      "displayName": "ij_slango",
      "photoUrl": "",
      "userId": "09506281120044103924"
     },
     "user_tz": -540
    },
    "id": "HGmoIjrvDXZ8",
    "outputId": "effe3a17-f176-4c2a-c578-a8eabf8458ef"
   },
   "outputs": [
    {
     "name": "stdout",
     "output_type": "stream",
     "text": [
      "0.8277095223793521\n"
     ]
    }
   ],
   "source": [
    "avg_iou = 0\n",
    "num_imgs = validation_steps\n",
    "res = N_VAL % N_BATCH\n",
    "for i, (val_data, val_gt) in enumerate(val_dataset.take(num_imgs)):    \n",
    "    flag = (i == validation_steps-1)\n",
    "    x = val_gt[:,1]\n",
    "    y = val_gt[:,2]\n",
    "    w = val_gt[:,3]\n",
    "    h = val_gt[:,4]\n",
    "\n",
    "    prediction = saved_model2.predict(val_data)\n",
    "    \n",
    "    pred_x = prediction[:,2]\n",
    "    pred_y = prediction[:,3]\n",
    "    pred_w = prediction[:,4]\n",
    "    pred_h = prediction[:,5]\n",
    "    for idx in range(N_BATCH):\n",
    "        if(flag):\n",
    "            if idx == res:\n",
    "                flag = False\n",
    "                break          \n",
    "        xmin = int((x[idx].numpy() - w[idx].numpy()/2.)*IMG_SIZE)\n",
    "        ymin = int((y[idx].numpy() - h[idx].numpy()/2.)*IMG_SIZE)\n",
    "        xmax = int((x[idx].numpy() + w[idx].numpy()/2.)*IMG_SIZE)\n",
    "        ymax = int((y[idx].numpy() + h[idx].numpy()/2.)*IMG_SIZE)\n",
    "        \n",
    "        pred_xmin = int((pred_x[idx] - pred_w[idx]/2.)*IMG_SIZE)\n",
    "        pred_ymin = int((pred_y[idx] - pred_h[idx]/2.)*IMG_SIZE)\n",
    "        pred_xmax = int((pred_x[idx] + pred_w[idx]/2.)*IMG_SIZE)\n",
    "        pred_ymax = int((pred_y[idx] + pred_h[idx]/2.)*IMG_SIZE)\n",
    "\n",
    "        if xmin > pred_xmax or xmax < pred_xmin:        \n",
    "            continue\n",
    "        if ymin > pred_ymax or ymax < pred_ymin:        \n",
    "            continue\n",
    "        \n",
    "        gt_width = xmax-xmin\n",
    "        gt_height = ymax - ymin\n",
    "        pred_width = pred_xmax - pred_xmin\n",
    "        pred_height = pred_ymax - pred_ymin\n",
    "\n",
    "        inter_width  =  np.min((xmax, pred_xmax)) - np.max((xmin, pred_xmin))\n",
    "        inter_height = np.min((ymax, pred_ymax)) - np.max((ymin, pred_ymin))\n",
    "\n",
    "\n",
    "        iou = (inter_width * inter_height)/((gt_width * gt_height) + (pred_width * pred_height) - (inter_width * inter_height))\n",
    "        avg_iou += iou / N_VAL\n",
    "        \n",
    "print(avg_iou)"
   ]
  },
  {
   "cell_type": "markdown",
   "metadata": {
    "id": "_WNVCXYSDXaB"
   },
   "source": [
    "# 새로운 Image로 Test하기"
   ]
  },
  {
   "cell_type": "code",
   "execution_count": null,
   "metadata": {
    "colab": {
     "base_uri": "https://localhost:8080/"
    },
    "executionInfo": {
     "elapsed": 722,
     "status": "ok",
     "timestamp": 1620806792680,
     "user": {
      "displayName": "ij_slango",
      "photoUrl": "",
      "userId": "09506281120044103924"
     },
     "user_tz": -540
    },
    "id": "FtfXdXEADXaC",
    "outputId": "5866f800-950b-4998-ca2d-194f7be83ef7"
   },
   "outputs": [
    {
     "name": "stdout",
     "output_type": "stream",
     "text": [
      "(1, 224, 224, 3)\n"
     ]
    }
   ],
   "source": [
    "from PIL import Image\n",
    "image = Image.open('cat.jpg')\n",
    "image = image.resize((224, 224))\n",
    "image = np.array(image)\n",
    "image = image/255.\n",
    "image = image[np.newaxis, ...]\n",
    "print(image.shape)"
   ]
  },
  {
   "cell_type": "code",
   "execution_count": null,
   "metadata": {
    "colab": {
     "base_uri": "https://localhost:8080/",
     "height": 299
    },
    "executionInfo": {
     "elapsed": 1495,
     "status": "ok",
     "timestamp": 1620806794681,
     "user": {
      "displayName": "ij_slango",
      "photoUrl": "",
      "userId": "09506281120044103924"
     },
     "user_tz": -540
    },
    "id": "fFJ3qpdxDXaD",
    "outputId": "a137cb28-ba69-491c-d961-b5e15d0db540"
   },
   "outputs": [
    {
     "name": "stdout",
     "output_type": "stream",
     "text": [
      "cat\n"
     ]
    },
    {
     "data": {
      "image/png": "[encoded data removed]",
      "text/plain": [
       "<Figure size 432x288 with 1 Axes>"
      ]
     },
     "metadata": {
      "needs_background": "light",
      "tags": []
     },
     "output_type": "display_data"
    }
   ],
   "source": [
    "# 예측 결과 확인 - bounding box, class\n",
    "from matplotlib.patches import Rectangle\n",
    "prediction = saved_model2.predict(image)\n",
    "pred_cls = np.where(np.argmax(prediction[0,:2], axis=-1)==0, 'dog', 'cat')\n",
    "print(pred_cls)\n",
    "pred_x = prediction[0,2]\n",
    "pred_y = prediction[0,3]\n",
    "pred_w = prediction[0,4]\n",
    "pred_h = prediction[0,5]\n",
    "pred_xmin = pred_x - pred_w/2.\n",
    "pred_ymin = pred_y - pred_h/2.\n",
    "pred_rect_x = int(pred_xmin * IMG_SIZE)\n",
    "pred_rect_y = int(pred_ymin * IMG_SIZE)\n",
    "pred_rect_w = int(pred_w * IMG_SIZE)\n",
    "pred_rect_h = int(pred_h * IMG_SIZE)\n",
    "\n",
    "pred_rect = Rectangle((pred_rect_x, pred_rect_y), pred_rect_w, pred_rect_h,\n",
    "                       fill=False, color='red')\n",
    "plt.axes().add_patch(pred_rect)\n",
    "\n",
    "import matplotlib.pyplot as plt\n",
    "plt.imshow(image[0])\n",
    "plt.title(f'Prediction class:{pred_cls}')\n",
    "plt.show()"
   ]
  }
 ],
 "metadata": {
  "accelerator": "GPU",
  "colab": {
   "collapsed_sections": [
    "mhz0MLiDDXWk",
    "lRgElSs5DXXT",
    "J8UV1PmZDXXW",
    "Fah2KaqqDXYA",
    "yzfCTHMDDXYY",
    "T3vs06AeDXY_",
    "l3eiscTMDXZr",
    "B6NZewoeDXZ5",
    "u-Z8utusDXZ6"
   ],
   "name": "04_Oxford_pet_localiazation.ipynb",
   "provenance": [],
   "toc_visible": true
  },
  "kernelspec": {
   "display_name": "Python 3",
   "language": "python",
   "name": "python3"
  },
  "language_info": {
   "codemirror_mode": {
    "name": "ipython",
    "version": 3
   },
   "file_extension": ".py",
   "mimetype": "text/x-python",
   "name": "python",
   "nbconvert_exporter": "python",
   "pygments_lexer": "ipython3",
   "version": "3.7.10"
  },
  "varInspector": {
   "cols": {
    "lenName": 16,
    "lenType": 16,
    "lenVar": 40
   },
   "kernels_config": {
    "python": {
     "delete_cmd_postfix": "",
     "delete_cmd_prefix": "del ",
     "library": "var_list.py",
     "varRefreshCmd": "print(var_dic_list())"
    },
    "r": {
     "delete_cmd_postfix": ") ",
     "delete_cmd_prefix": "rm(",
     "library": "var_list.r",
     "varRefreshCmd": "cat(var_dic_list()) "
    }
   },
   "types_to_exclude": [
    "module",
    "function",
    "builtin_function_or_method",
    "instance",
    "_Feature"
   ],
   "window_display": false
  }
 },
 "nbformat": 4,
 "nbformat_minor": 5
}
