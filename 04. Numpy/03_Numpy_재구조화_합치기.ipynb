{
 "cells": [
  {
   "cell_type": "markdown",
   "metadata": {},
   "source": [
    "# 배열의 형태(shape) 변경\n",
    "\n",
    "## reshape()을 이용한 차원 변경\n",
    "- `numpy.reshape(a, newshape)` 또는 `ndarray.reshape(newshape)`\n",
    "    - a: 형태를 변경할 배열\n",
    "    - newshape : 변경할 형태 설정. \n",
    "        - 원소의 개수를 유지하는 shape으로만 변환 가능하다.\n",
    "    - 원본 배열을 변경시키지 않는다. (shape를 바꾼 새로운 배열(카피본)을 반환)"
   ]
  },
  {
   "cell_type": "code",
   "execution_count": 8,
   "metadata": {
    "collapsed": true
   },
   "outputs": [
    {
     "name": "stdout",
     "output_type": "stream",
     "text": [
      "(20,) 20\n",
      "[ 0  1  2  3  4  5  6  7  8  9 10 11 12 13 14 15 16 17 18 19]\n",
      "\n",
      "(4, 5) 20\n",
      "[[ 0  1  2  3  4]\n",
      " [ 5  6  7  8  9]\n",
      " [10 11 12 13 14]\n",
      " [15 16 17 18 19]]\n",
      "\n",
      "(5, 4) 20\n",
      "[[ 0  1  2  3]\n",
      " [ 4  5  6  7]\n",
      " [ 8  9 10 11]\n",
      " [12 13 14 15]\n",
      " [16 17 18 19]]\n",
      "\n",
      "[[[ 0  1  2  3  4  5  6]\n",
      "  [ 7  8  9 10 11 12 13]]\n",
      "\n",
      " [[14 15 16 17 18 19 20]\n",
      "  [21 22 23 24 25 26 27]]\n",
      "\n",
      " [[28 29 30 31 32 33 34]\n",
      "  [35 36 37 38 39 40 41]]]\n",
      "\n",
      "[ 0  1  2  3  4  5  6  7  8  9 10 11 12 13 14 15 16 17 18 19 20 21 22 23\n",
      " 24 25 26 27 28 29 30 31 32 33 34 35 36 37 38 39 40 41]\n",
      "\n"
     ]
    }
   ],
   "source": [
    "import numpy as np\n",
    "a = np.arange(20)\n",
    "print(a.shape, a.size)\n",
    "print(a,end='\\n\\n')\n",
    "\n",
    "b = np.reshape(a, (4,5))\n",
    "print(b.shape, b.size)\n",
    "print(b,end='\\n\\n')\n",
    "\n",
    "c = a.reshape((5,4))\n",
    "print(c.shape, c.size)\n",
    "print(c,end='\\n\\n')\n",
    "\n",
    "d = np.arange(3*2*7).reshape(3,2,7)\n",
    "print(d,end='\\n\\n')\n",
    "\n",
    "e = np.reshape(d, 42) # newshape에 정수를 넣으면 1차원 배열로 변환\n",
    "print(e,end='\\n\\n')"
   ]
  },
  {
   "cell_type": "markdown",
   "metadata": {},
   "source": [
    "- newshape을 지정할 때 특정 축에 -1를 주면 원소수에 맞춰서 size를 정한다.(전체 축 중 하나만 사용가능)"
   ]
  },
  {
   "cell_type": "code",
   "execution_count": 9,
   "metadata": {},
   "outputs": [
    {
     "name": "stdout",
     "output_type": "stream",
     "text": [
      "[[ 0  1  2  3]\n",
      " [ 4  5  6  7]\n",
      " [ 8  9 10 11]\n",
      " [12 13 14 15]\n",
      " [16 17 18 19]]\n"
     ]
    }
   ],
   "source": [
    "a_1 = np.reshape(a, (5,-1)) # 5 x ? = 20\n",
    "print(a_1)"
   ]
  },
  {
   "cell_type": "markdown",
   "metadata": {},
   "source": [
    "## 차원 늘리기(확장)\n",
    "\n",
    "### numpy.newaxis 속성을 이용해 차원 늘리기\n",
    "- size가 1인 축(axis)을 추가할 때 사용한다. \n",
    "    - 지정한 axis에 size 1인 축을 추가한다.\n",
    "- slicing에 사용하거나 indexing에 `...`과 같이 사용한다.\n",
    "    - slicing의 경우 원하는 위치의 축을 늘릴 수 있다.\n",
    "    - index에 ...과 사용하는 경우 첫번째나 마지막 축을 늘릴때 사용한다.\n",
    "    "
   ]
  },
  {
   "cell_type": "code",
   "execution_count": 11,
   "metadata": {},
   "outputs": [
    {
     "name": "stdout",
     "output_type": "stream",
     "text": [
      "(5,)\n",
      "[1 2 3 4 5]\n"
     ]
    }
   ],
   "source": [
    "import numpy as np\n",
    "a = np.arange(1,6)\n",
    "print(a.shape)\n",
    "print(a)"
   ]
  },
  {
   "cell_type": "code",
   "execution_count": 27,
   "metadata": {
    "collapsed": true
   },
   "outputs": [
    {
     "name": "stdout",
     "output_type": "stream",
     "text": [
      "(1, 5)\n",
      "[[1 2 3 4 5]]\n",
      "\n",
      "(5, 1)\n",
      "[[1]\n",
      " [2]\n",
      " [3]\n",
      " [4]\n",
      " [5]]\n",
      "(1, 5, 1)\n",
      "[[[1]\n",
      "  [2]\n",
      "  [3]\n",
      "  [4]\n",
      "  [5]]]\n",
      "(2, 3)\n",
      "[[0 1 2]\n",
      " [3 4 5]]\n",
      "(1, 2, 3)\n",
      "[[[0 1 2]\n",
      "  [3 4 5]]]\n",
      "(2, 1, 3)\n",
      "[[[0 1 2]]\n",
      "\n",
      " [[3 4 5]]]\n"
     ]
    }
   ],
   "source": [
    "# (5,) => (1, 5)\n",
    "x = a[np.newaxis, :]\n",
    "print(x.shape)\n",
    "print(x,end='\\n\\n')\n",
    "\n",
    "# a: (5,) => y: (5, 1)\n",
    "y = a[:, np.newaxis]\n",
    "print(y.shape)\n",
    "print(y)\n",
    "\n",
    "# a: (5, ) => z: (1, 5, 1)\n",
    "z = a[np.newaxis, :, np.newaxis]\n",
    "print(z.shape)\n",
    "print(z)\n",
    "\n",
    "b = np.arange(6).reshape(2,3)\n",
    "print(b.shape)\n",
    "print(b)\n",
    "# b: (2,3) => m: (1,2,3)\n",
    "m = b[np.newaxis, :, :]\n",
    "print(m.shape)\n",
    "print(m)\n",
    "\n",
    "n = b[:, np.newaxis, :]\n",
    "print(n.shape)\n",
    "print(n)"
   ]
  },
  {
   "cell_type": "markdown",
   "metadata": {},
   "source": [
    "### indexing에 ... 과 같이 사용\n",
    "- ndarray[..., np.newaxis]\n",
    "- 첫번째 축이나 마지막 축을 늘릴때만 사용가능"
   ]
  },
  {
   "cell_type": "code",
   "execution_count": 28,
   "metadata": {
    "collapsed": true
   },
   "outputs": [
    {
     "name": "stdout",
     "output_type": "stream",
     "text": [
      "(1, 2, 3)\n",
      "[[[0 1 2]\n",
      "  [3 4 5]]]\n",
      "(2, 3, 1)\n",
      "[[[0]\n",
      "  [1]\n",
      "  [2]]\n",
      "\n",
      " [[3]\n",
      "  [4]\n",
      "  [5]]]\n"
     ]
    }
   ],
   "source": [
    "b2 = b[np.newaxis, ...]\n",
    "print(b2.shape)\n",
    "print(b2)\n",
    "\n",
    "b3 = b[..., np.newaxis]\n",
    "print(b3.shape)\n",
    "print(b3)"
   ]
  },
  {
   "cell_type": "markdown",
   "metadata": {},
   "source": [
    "### numpy.expand_dims (배열, axis)\n",
    "- 매개변수로 받은 배열에 지정한 axis의 rank를 확장한다."
   ]
  },
  {
   "cell_type": "code",
   "execution_count": 32,
   "metadata": {
    "collapsed": true
   },
   "outputs": [
    {
     "name": "stdout",
     "output_type": "stream",
     "text": [
      "(5,)\n",
      "[1 2 3 4 5]\n",
      "\n",
      "(5, 1)\n",
      "[[1]\n",
      " [2]\n",
      " [3]\n",
      " [4]\n",
      " [5]]\n",
      "\n",
      "(1, 5)\n",
      "[[1 2 3 4 5]]\n"
     ]
    }
   ],
   "source": [
    "print(a.shape)\n",
    "print(a, end='\\n\\n')\n",
    "\n",
    "# (5,) -> (5,1)\n",
    "a1 = np.expand_dims(a, axis=1)\n",
    "print(a1.shape)\n",
    "print(a1, end='\\n\\n')\n",
    "\n",
    "# (5,) -> (1,5)\n",
    "a2 = np.expand_dims(a, axis=0)\n",
    "print(a2.shape)\n",
    "print(a2)"
   ]
  },
  {
   "cell_type": "markdown",
   "metadata": {},
   "source": [
    "## 차원 줄이기(축소)\n",
    "\n",
    "### numpy.squeeze(배열, axis=None), 배열객체.squeeze(axis=None)\n",
    "- 배열에서 지정한 축(axis)을 제거하여 차원(rank)를 줄인다.\n",
    "- 제거하려는 축의 size는 1이어야 한다.\n",
    "- 축을 지정하지 않으면 size가 1인 모든 축을 제거한다.\n",
    "    - (3,1,1,2) => (3,2)"
   ]
  },
  {
   "cell_type": "code",
   "execution_count": 37,
   "metadata": {},
   "outputs": [
    {
     "name": "stdout",
     "output_type": "stream",
     "text": [
      "(1, 2, 1, 2, 3, 1)\n",
      "(2, 2, 3)\n",
      "(1, 2, 2, 3, 1)\n",
      "[[[[[ 0]\n",
      "    [ 1]\n",
      "    [ 2]]\n",
      "\n",
      "   [[ 3]\n",
      "    [ 4]\n",
      "    [ 5]]]\n",
      "\n",
      "\n",
      "  [[[ 6]\n",
      "    [ 7]\n",
      "    [ 8]]\n",
      "\n",
      "   [[ 9]\n",
      "    [10]\n",
      "    [11]]]]]\n"
     ]
    }
   ],
   "source": [
    "a = np.arange(12).reshape(1,2,1,2,3,1)\n",
    "print(a.shape)\n",
    "\n",
    "b = np.squeeze(a)\n",
    "print(b.shape)\n",
    "\n",
    "c = np.squeeze(a, axis=2)\n",
    "print(c.shape)\n",
    "print(c)"
   ]
  },
  {
   "cell_type": "markdown",
   "metadata": {},
   "source": [
    "### 배열객체.flatten()\n",
    "- 다차원 배열을 1차원으로 만든다."
   ]
  },
  {
   "cell_type": "code",
   "execution_count": 41,
   "metadata": {},
   "outputs": [
    {
     "name": "stdout",
     "output_type": "stream",
     "text": [
      "(12,)\n",
      "[ 0  1  2  3  4  5  6  7  8  9 10 11]\n"
     ]
    }
   ],
   "source": [
    "# (2,3) => (6,)\n",
    "# (2,2,2,3) -> (24,)\n",
    "d = a.flatten()\n",
    "print(d.shape)\n",
    "print(d)"
   ]
  },
  {
   "cell_type": "markdown",
   "metadata": {},
   "source": [
    "## numpy.append(), numpy.insert(), numpy.delete()\n",
    "- ### append(배열, 추가할값, axis=None)\n",
    "    - 배열의 마지막 index에 추가할값을 추가\n",
    "    - axis : 축 지정\n",
    "        - None(기본값) : flatten 한 뒤 추가한다.\n",
    "- ### insert(배열, index, 추가할값, axis=None)\n",
    "    - 배열의 index에 추가할값을 추가. \n",
    "    - axis : 축 지정\n",
    "        - None(기본값) : flatten 한 뒤 삽입한다.\n",
    "- ### delete(배열, 삭제할index, axis=None)  \n",
    "    - 배열의 삭제할index의 값들을 삭제한다.\n",
    "    - 삭제할 index는 index 또는 slice\n",
    "    - axis : 축 지정\n",
    "        - None(기본값) : flatten 한 뒤 삭제한다."
   ]
  },
  {
   "cell_type": "markdown",
   "metadata": {},
   "source": [
    "### append()"
   ]
  },
  {
   "cell_type": "code",
   "execution_count": 44,
   "metadata": {},
   "outputs": [
    {
     "name": "stdout",
     "output_type": "stream",
     "text": [
      "[  1   2   3 100]\n",
      "[  1   2   3 200 300 400]\n"
     ]
    }
   ],
   "source": [
    "import numpy as np\n",
    "\n",
    "a = np.array([1,2,3])\n",
    "r = np.append(a, 100) # 1개의 값을 추가\n",
    "print(r)\n",
    "r = np.append(a, [200,300,400]) # 여러 개 값 동시에 추가시 리스트로 묶어 전달\n",
    "print(r)"
   ]
  },
  {
   "cell_type": "code",
   "execution_count": 52,
   "metadata": {
    "collapsed": true
   },
   "outputs": [
    {
     "name": "stdout",
     "output_type": "stream",
     "text": [
      "(3, 2)\n",
      "[[1 1]\n",
      " [2 2]\n",
      " [3 3]]\n",
      "(4, 2)\n",
      "[[1 1]\n",
      " [2 2]\n",
      " [3 3]\n",
      " [4 4]]\n",
      "(6, 2)\n",
      "[[1 1]\n",
      " [2 2]\n",
      " [3 3]\n",
      " [4 4]\n",
      " [5 5]\n",
      " [6 6]]\n",
      "(3, 3)\n",
      "[[1 1 1]\n",
      " [2 2 2]\n",
      " [3 3 3]]\n",
      "(3, 5)\n",
      "[[1 1 4 4 4]\n",
      " [2 2 5 5 5]\n",
      " [3 3 6 6 6]]\n",
      "(8,)\n",
      "[ 1  1  2  2  3  3 10 20]\n"
     ]
    }
   ],
   "source": [
    "l = [\n",
    "    [1,1],\n",
    "    [2,2],\n",
    "    [3,3]\n",
    "]\n",
    "b = np.array(l)\n",
    "print(b.shape)\n",
    "print(b)\n",
    "\n",
    "r1 = np.append(b, [[4,4]], axis=0)\n",
    "print(r1.shape)\n",
    "print(r1)\n",
    "\n",
    "r2 = np.append(b, [[4,4],[5,5],[6,6]], axis=0)\n",
    "print(r2.shape)\n",
    "print(r2)\n",
    "\n",
    "r3 = np.append(b, [[1],[2],[3]], axis=1)\n",
    "print(r3.shape)\n",
    "print(r3)\n",
    "\n",
    "r4 = np.append(b, [[4,4,4],[5,5,5],[6,6,6]], axis=1)\n",
    "print(r4.shape)\n",
    "print(r4)\n",
    "\n",
    "r5 = np.append(b, [10,20]) # 다차원배열에서 axis 생략 -> flatten() 후에 append()\n",
    "print(r5.shape)\n",
    "print(r5)"
   ]
  },
  {
   "cell_type": "markdown",
   "metadata": {},
   "source": [
    "### insert"
   ]
  },
  {
   "cell_type": "code",
   "execution_count": 64,
   "metadata": {
    "collapsed": true
   },
   "outputs": [
    {
     "name": "stdout",
     "output_type": "stream",
     "text": [
      "[1 2 3]\n",
      "[100   1   2   3]\n",
      "[  1   2 200   3]\n",
      "[ 1 10 20 30  2  3]\n",
      "[[1 1]\n",
      " [2 2]\n",
      " [3 3]]\n",
      "[  1 100   1   2   2   3   3]\n",
      "[[ 1  1]\n",
      " [10 10]\n",
      " [ 2  2]\n",
      " [ 3  3]]\n",
      "[[ 1  1]\n",
      " [10 10]\n",
      " [20 20]\n",
      " [ 2  2]\n",
      " [ 3  3]]\n",
      "[[  1   1]\n",
      " [  2   2]\n",
      " [100 100]\n",
      " [  3   3]]\n",
      "[[ 1 10  1]\n",
      " [ 2 20  2]\n",
      " [ 3 30  3]]\n",
      "[[ 1 10  5  1]\n",
      " [ 2 20  6  2]\n",
      " [ 3 30  7  3]]\n"
     ]
    }
   ],
   "source": [
    "a = np.array([1,2,3])\n",
    "print(a)\n",
    "\n",
    "r = np.insert(a, 0, 100) # index 0에 100을 삽입\n",
    "print(r)\n",
    "\n",
    "r1 = np.insert(a, 2, 200)\n",
    "print(r1)\n",
    "\n",
    "r2 = np.insert(a, 1, [10,20,30])\n",
    "print(r2)\n",
    "\n",
    "b = np.array([[1,1],[2,2],[3,3]])\n",
    "print(b)\n",
    "\n",
    "b1 = np.insert(b, 1, 100) # axis 생략시에는 무조건 faltten(), 그리고 뒤에 insert()\n",
    "print(b1)\n",
    "\n",
    "b2 = np.insert(b, 1, [10,10], axis=0)\n",
    "print(b2)\n",
    "\n",
    "b3 = np.insert(b, 1, [[10,10],[20,20]], axis=0)\n",
    "print(b3)\n",
    "\n",
    "b4 = np.insert(b, 2, 100, axis=0) # 동일한 값을 넣을 경우 정수 하나(스칼라값)을 넣어서도 가능\n",
    "print(b4)\n",
    "\n",
    "b5 = np.insert(b, 1, [10,20,30], axis=1)\n",
    "print(b5)\n",
    "\n",
    "b6 = np.insert(b, 1, [[10,20,30],[5,6,7]], axis=1)\n",
    "print(b6)"
   ]
  },
  {
   "cell_type": "markdown",
   "metadata": {},
   "source": [
    "### delete"
   ]
  },
  {
   "cell_type": "code",
   "execution_count": 66,
   "metadata": {},
   "outputs": [
    {
     "name": "stdout",
     "output_type": "stream",
     "text": [
      "[0 1 2 3 4 5 6 7 8 9]\n",
      "[1 2 3 4 5 6 7 8 9]\n",
      "[0 1 3 4 7 8 9]\n"
     ]
    }
   ],
   "source": [
    "a = np.arange(10)\n",
    "print(a)\n",
    "\n",
    "r = np.delete(a,0)\n",
    "print(r)\n",
    "\n",
    "r1 = np.delete(a, [2,5,6])\n",
    "print(r1)"
   ]
  },
  {
   "cell_type": "code",
   "execution_count": 69,
   "metadata": {},
   "outputs": [
    {
     "name": "stdout",
     "output_type": "stream",
     "text": [
      "[1 3 5 7 9]\n"
     ]
    }
   ],
   "source": [
    "# slicing을 이용해서 삭제\n",
    "# numpy상에서의 slicing 표기법, slicing을 함수의 매개변수로 전달할 경우\n",
    "# np.s_[slicing]\n",
    "r2 = np.delete(a, np.s_[::2])\n",
    "print(r2)"
   ]
  },
  {
   "cell_type": "code",
   "execution_count": 74,
   "metadata": {},
   "outputs": [
    {
     "name": "stdout",
     "output_type": "stream",
     "text": [
      "(6, 6)\n",
      "[[ 0  1  2  3  4  5]\n",
      " [ 6  7  8  9 10 11]\n",
      " [12 13 14 15 16 17]\n",
      " [18 19 20 21 22 23]\n",
      " [24 25 26 27 28 29]\n",
      " [30 31 32 33 34 35]]\n",
      "[[12 13 14 15 16 17]\n",
      " [18 19 20 21 22 23]\n",
      " [24 25 26 27 28 29]\n",
      " [30 31 32 33 34 35]]\n",
      "[[ 2  3  4  5]\n",
      " [ 8  9 10 11]\n",
      " [14 15 16 17]\n",
      " [20 21 22 23]\n",
      " [26 27 28 29]\n",
      " [32 33 34 35]]\n",
      "[ 1  2  3  4  5  6  7  8  9 10 11 12 13 14 15 16 17 18 19 20 21 22 23 24\n",
      " 25 26 27 28 29 30 31 32 33 34 35]\n"
     ]
    }
   ],
   "source": [
    "b = np.arange(36).reshape(6,6)\n",
    "print(b.shape)\n",
    "print(b)\n",
    "print(np.delete(b,[0,1],axis=0))\n",
    "print(np.delete(b,[0,1],axis=1))\n",
    "print(np.delete(b,0)) # axis 생략: flatten() 후에 delete()"
   ]
  },
  {
   "cell_type": "markdown",
   "metadata": {},
   "source": [
    "## 배열 합치기\n",
    "- ### np.concatenate(합칠 배열리스트, axis=0)\n",
    "    - 여러 배열을 **축의개수(rank)**를 유지하며 합친다.\n",
    "    - axis 파라미터 : 축지정\n",
    "        - 지정된 축을 기준으로 합친다. \n",
    "        - default : 0\n",
    "    - 합치는 배열의 축의 개수(rank) 은 같아야 한다.\n",
    "    - axis속성으로 지정한 축 이외의 축의 크기가 같아야 한다.\n",
    "    - 결과의 축의 개수(rank)는 대상 배열의 rank와 같다.\n",
    "        - 1차원끼리 합치면 1차원결과가 나옴\n",
    "- ##### 합칠 대상 배열의 rank가 2일 경우(행렬) \n",
    "    - vstack()\n",
    "    - hstack()\n",
    "    - np.concatenate()의 간단버전\n",
    "    - ##### vstack(합칠 배열리스트)\n",
    "        - 수직으로 쌓는다.\n",
    "        - concatenate() 의 axis=0 와 동일\n",
    "        - 합칠 배열들의 열수가 같아야 한다.\n",
    "    - ##### hstack(합칠 배열리스트)\n",
    "        - 수평으로 쌓는다.\n",
    "        - concatenate() 의 axis=1 와 동일\n",
    "        - 합칠 배열들의 행 수가 같아야 한다."
   ]
  },
  {
   "cell_type": "markdown",
   "metadata": {},
   "source": [
    "### concatenate()"
   ]
  },
  {
   "cell_type": "markdown",
   "metadata": {},
   "source": [
    "- axis=0 이면 0이 늘어난다. 0을 기준으로 합치므로 (그래서 밑으로 (행이 늘어남)붙는다.)\n",
    "    - 그래서 각 배열의 컬럼 수가 같아야 한다. \n",
    "- axis=1 이면 1이 늘어난다. 1을 기준으로 합치므로 (그래서 옆으로 (컬럼이 늘어남) 붙는다.)\n",
    "    - 그래서 각 배열의 행수가 같아야 한다."
   ]
  },
  {
   "cell_type": "code",
   "execution_count": 76,
   "metadata": {},
   "outputs": [
    {
     "name": "stdout",
     "output_type": "stream",
     "text": [
      "[ 1  2  3 10 20 30 40]\n",
      "[10 20 30 40  1  2  3]\n",
      "[  1   2   3  10  20  30  40 100 200]\n"
     ]
    }
   ],
   "source": [
    "import numpy as np\n",
    "a = np.array([1,2,3])\n",
    "b = np.array([10,20,30,40])\n",
    "c = np.array([100,200])\n",
    "\n",
    "# 1차원 배열 합치기\n",
    "d = np.concatenate([a,b])\n",
    "print(d)\n",
    "\n",
    "e = np.concatenate([b,a])\n",
    "print(e)\n",
    "\n",
    "f = np.concatenate([a,b,c])\n",
    "print(f)"
   ]
  },
  {
   "cell_type": "code",
   "execution_count": 78,
   "metadata": {},
   "outputs": [
    {
     "name": "stdout",
     "output_type": "stream",
     "text": [
      "(2, 3) (2, 3) (2, 3)\n"
     ]
    }
   ],
   "source": [
    "m = np.arange(6).reshape(2,3)\n",
    "n = np.arange(10,16).reshape(2,3)\n",
    "o = np.arange(20,26).reshape(2,3)\n",
    "print(m.shape, n.shape, o.shape)"
   ]
  },
  {
   "cell_type": "code",
   "execution_count": 84,
   "metadata": {},
   "outputs": [
    {
     "name": "stdout",
     "output_type": "stream",
     "text": [
      "(4, 3)\n",
      "[[ 0  1  2]\n",
      " [ 3  4  5]\n",
      " [10 11 12]\n",
      " [13 14 15]]\n",
      "(2, 9)\n",
      "[[ 0  1  2 10 11 12 20 21 22]\n",
      " [ 3  4  5 13 14 15 23 24 25]]\n"
     ]
    }
   ],
   "source": [
    "r = np.concatenate([m,n], axis=0)\n",
    "print(r.shape)\n",
    "print(r)\n",
    "\n",
    "s = np.concatenate([m,n,o], axis=1)\n",
    "print(s.shape)\n",
    "print(s)"
   ]
  },
  {
   "cell_type": "code",
   "execution_count": 85,
   "metadata": {},
   "outputs": [
    {
     "name": "stdout",
     "output_type": "stream",
     "text": [
      "(2, 2, 3) (2, 2, 7) (2, 2, 10)\n",
      "[[[ 0  1  2  0  1  2  3  4  5  6]\n",
      "  [ 3  4  5  7  8  9 10 11 12 13]]\n",
      "\n",
      " [[ 6  7  8 14 15 16 17 18 19 20]\n",
      "  [ 9 10 11 21 22 23 24 25 26 27]]]\n"
     ]
    }
   ],
   "source": [
    "a = np.arange(12).reshape(2,2,3)\n",
    "b = np.arange(2*2*7).reshape(2,2,7)\n",
    "r = np.concatenate([a,b], axis=2)\n",
    "print(a.shape, b.shape, r.shape)\n",
    "print(r)"
   ]
  },
  {
   "cell_type": "markdown",
   "metadata": {},
   "source": [
    "### vstack()\n",
    "- 아래에 붙이는 개념이므로 열수가 맞아야 한다. \n",
    "- axis=0과 동일"
   ]
  },
  {
   "cell_type": "code",
   "execution_count": 86,
   "metadata": {},
   "outputs": [
    {
     "data": {
      "text/plain": [
       "((2, 3), (2, 3), (2, 3))"
      ]
     },
     "execution_count": 86,
     "metadata": {},
     "output_type": "execute_result"
    }
   ],
   "source": [
    "m.shape, n.shape, o.shape"
   ]
  },
  {
   "cell_type": "code",
   "execution_count": 90,
   "metadata": {},
   "outputs": [
    {
     "name": "stdout",
     "output_type": "stream",
     "text": [
      "[[ 0  1  2]\n",
      " [ 3  4  5]\n",
      " [10 11 12]\n",
      " [13 14 15]]\n",
      "[[ 0  1  2]\n",
      " [ 3  4  5]\n",
      " [20 21 22]\n",
      " [23 24 25]\n",
      " [10 11 12]\n",
      " [13 14 15]]\n"
     ]
    }
   ],
   "source": [
    "print(np.vstack([m,n]))\n",
    "print(np.vstack([m,o,n]))\n",
    "# 1축의 개수가 같아야 한다."
   ]
  },
  {
   "cell_type": "markdown",
   "metadata": {},
   "source": [
    "### hstack()\n",
    "- 옆으로 붙이는 것이므로 행 수가 같아야 한다.\n",
    "- axis=1과 동일"
   ]
  },
  {
   "cell_type": "code",
   "execution_count": 92,
   "metadata": {},
   "outputs": [
    {
     "name": "stdout",
     "output_type": "stream",
     "text": [
      "[[ 0  1  2 10 11 12]\n",
      " [ 3  4  5 13 14 15]]\n",
      "[[ 0  1  2 20 21 22 10 11 12]\n",
      " [ 3  4  5 23 24 25 13 14 15]]\n"
     ]
    }
   ],
   "source": [
    "print(np.hstack([m,n]))\n",
    "print(np.hstack([m,o,n]))"
   ]
  },
  {
   "cell_type": "markdown",
   "metadata": {},
   "source": [
    "## 배열 분할 하기\n",
    "- ### split(배열, 분할기준, axis)\n",
    "    - 지정한 축을 기준으로 배열을 나눈다.. \n",
    "    - 반환값: 분할한 narray를 가진 리스트로 리턴.\n",
    "    - 배열: 분할할 배열\n",
    "    - 분할기준\n",
    "        - 정수 : 지정 개수만큼 분할\n",
    "        - 리스트 : 분할 기준 index들\n",
    "    - axis(축)\n",
    "        - 분할할 기준 축을 지정한다. axis = 0 (기본) \n",
    "        - 2D의 경우 axis=0: 행 기준 분할, axis=1: 열 기준 분할\n",
    "- ### vsplit(배열, 분할기준)\n",
    "    - 행 기준 분할\n",
    "    - split()의 axis=0과 동일\n",
    "    - 분할기준\n",
    "        - 정수 : 지정 개수만큼 분할\n",
    "        - 리스트 : 분할 기준 index들\n",
    "- ### hsplit(배열, 분할기준)\n",
    "    - 열 기준 분할\n",
    "    - split()의 axis=1과 동일\n",
    "    - 분할기준\n",
    "        - 정수 : 지정 개수만큼 분할\n",
    "        - 리스트 : 분할 기준 index들\n",
    "- **주의:** 분할기준을 정수(개수)로 할 경우 분할후 원소수가 같아야 한다. "
   ]
  },
  {
   "cell_type": "code",
   "execution_count": null,
   "metadata": {},
   "outputs": [],
   "source": []
  },
  {
   "cell_type": "code",
   "execution_count": null,
   "metadata": {},
   "outputs": [],
   "source": []
  },
  {
   "cell_type": "markdown",
   "metadata": {},
   "source": [
    "## hsplit()/vsplit()"
   ]
  },
  {
   "cell_type": "code",
   "execution_count": null,
   "metadata": {},
   "outputs": [],
   "source": []
  },
  {
   "cell_type": "code",
   "execution_count": null,
   "metadata": {},
   "outputs": [],
   "source": []
  }
 ],
 "metadata": {
  "kernelspec": {
   "display_name": "Python 3",
   "language": "python",
   "name": "python3"
  },
  "language_info": {
   "codemirror_mode": {
    "name": "ipython",
    "version": 3
   },
   "file_extension": ".py",
   "mimetype": "text/x-python",
   "name": "python",
   "nbconvert_exporter": "python",
   "pygments_lexer": "ipython3",
   "version": "3.8.5"
  },
  "toc": {
   "base_numbering": 1,
   "nav_menu": {},
   "number_sections": false,
   "sideBar": false,
   "skip_h1_title": false,
   "title_cell": "Table of Contents",
   "title_sidebar": "Contents",
   "toc_cell": false,
   "toc_position": {},
   "toc_section_display": true,
   "toc_window_display": false
  },
  "varInspector": {
   "cols": {
    "lenName": 16,
    "lenType": 16,
    "lenVar": 40
   },
   "kernels_config": {
    "python": {
     "delete_cmd_postfix": "",
     "delete_cmd_prefix": "del ",
     "library": "var_list.py",
     "varRefreshCmd": "print(var_dic_list())"
    },
    "r": {
     "delete_cmd_postfix": ") ",
     "delete_cmd_prefix": "rm(",
     "library": "var_list.r",
     "varRefreshCmd": "cat(var_dic_list()) "
    }
   },
   "types_to_exclude": [
    "module",
    "function",
    "builtin_function_or_method",
    "instance",
    "_Feature"
   ],
   "window_display": false
  }
 },
 "nbformat": 4,
 "nbformat_minor": 2
}
