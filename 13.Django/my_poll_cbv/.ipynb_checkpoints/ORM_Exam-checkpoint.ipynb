{
 "cells": [
  {
   "cell_type": "code",
   "execution_count": 1,
   "id": "670575cd",
   "metadata": {},
   "outputs": [],
   "source": [
    "# 프로젝트 디렉토리에서 실행\n",
    "# jupyter notebook에서 django shell을 사용할 수 있도록 설정\n",
    "import os\n",
    "os.environ['DJANGO_SETTINGS_MODULE'] = 'config.settings'\n",
    "os.environ['DJANGO_ALLOW_ASYNC_UNSAFE'] = 'true'\n",
    "\n",
    "import django\n",
    "django.setup()"
   ]
  },
  {
   "cell_type": "code",
   "execution_count": 3,
   "id": "e8a580c0",
   "metadata": {},
   "outputs": [],
   "source": [
    "from polls.models import Question, Choice"
   ]
  },
  {
   "cell_type": "markdown",
   "id": "00ddd64d",
   "metadata": {},
   "source": [
    "# 전체조회\n",
    "- all()"
   ]
  },
  {
   "cell_type": "code",
   "execution_count": 5,
   "id": "ed317efc",
   "metadata": {},
   "outputs": [
    {
     "data": {
      "text/plain": [
       "<QuerySet [<Question: 좋아하는 색깔은 무엇입니까?>, <Question: 가고 싶은 나라를 선택하세요.>]>"
      ]
     },
     "execution_count": 5,
     "metadata": {},
     "output_type": "execute_result"
    }
   ],
   "source": [
    "# Model클래스이름.objects.xxx\n",
    "qs = Question.objects.all() # QuerySet\n",
    "qs"
   ]
  },
  {
   "cell_type": "code",
   "execution_count": 7,
   "id": "cf714a28",
   "metadata": {},
   "outputs": [
    {
     "name": "stdout",
     "output_type": "stream",
     "text": [
      "SELECT \"polls_question\".\"id\", \"polls_question\".\"question_text\", \"polls_question\".\"pub_date\" FROM \"polls_question\"\n"
     ]
    }
   ],
   "source": [
    "# QuerySet.query : sql문 조회\n",
    "print(qs.query)"
   ]
  },
  {
   "cell_type": "code",
   "execution_count": 9,
   "id": "242804b6",
   "metadata": {},
   "outputs": [
    {
     "name": "stdout",
     "output_type": "stream",
     "text": [
      "좋아하는 색깔은 무엇입니까? <class 'polls.models.Question'>\n",
      "가고 싶은 나라를 선택하세요. <class 'polls.models.Question'>\n"
     ]
    }
   ],
   "source": [
    "for q in qs:\n",
    "    print(q, type(q))"
   ]
  },
  {
   "cell_type": "code",
   "execution_count": 10,
   "id": "30e4c2b0",
   "metadata": {},
   "outputs": [
    {
     "data": {
      "text/plain": [
       "<Question: 좋아하는 색깔은 무엇입니까?>"
      ]
     },
     "execution_count": 10,
     "metadata": {},
     "output_type": "execute_result"
    }
   ],
   "source": [
    "# 특정 조회결과 하나 조회 - indexing\n",
    "# 범위 조회: slicing\n",
    "qs[0]"
   ]
  },
  {
   "cell_type": "code",
   "execution_count": 11,
   "id": "3189b777",
   "metadata": {},
   "outputs": [
    {
     "data": {
      "text/plain": [
       "[<Question: 좋아하는 색깔은 무엇입니까?>, <Question: 가고 싶은 나라를 선택하세요.>]"
      ]
     },
     "execution_count": 11,
     "metadata": {},
     "output_type": "execute_result"
    }
   ],
   "source": [
    "qs[0:]"
   ]
  },
  {
   "cell_type": "code",
   "execution_count": 12,
   "id": "f56a28f3",
   "metadata": {
    "collapsed": true
   },
   "outputs": [
    {
     "ename": "AssertionError",
     "evalue": "Negative indexing is not supported.",
     "output_type": "error",
     "traceback": [
      "\u001b[1;31m---------------------------------------------------------------------------\u001b[0m",
      "\u001b[1;31mAssertionError\u001b[0m                            Traceback (most recent call last)",
      "\u001b[1;32m<ipython-input-12-e69b1a07305e>\u001b[0m in \u001b[0;36m<module>\u001b[1;34m\u001b[0m\n\u001b[1;32m----> 1\u001b[1;33m \u001b[0mqs\u001b[0m\u001b[1;33m[\u001b[0m\u001b[1;33m-\u001b[0m\u001b[1;36m1\u001b[0m\u001b[1;33m]\u001b[0m \u001b[1;31m# 음수 index는 사용 못함.\u001b[0m\u001b[1;33m\u001b[0m\u001b[1;33m\u001b[0m\u001b[0m\n\u001b[0m",
      "\u001b[1;32mc:\\users\\inje.jeong\\anaconda3\\envs\\django\\lib\\site-packages\\django\\db\\models\\query.py\u001b[0m in \u001b[0;36m__getitem__\u001b[1;34m(self, k)\u001b[0m\n\u001b[0;32m    295\u001b[0m                 (isinstance(k, slice) and (k.start is None or k.start >= 0) and\n\u001b[0;32m    296\u001b[0m                  (k.stop is None or k.stop >= 0))), \\\n\u001b[1;32m--> 297\u001b[1;33m             \u001b[1;34m\"Negative indexing is not supported.\"\u001b[0m\u001b[1;33m\u001b[0m\u001b[1;33m\u001b[0m\u001b[0m\n\u001b[0m\u001b[0;32m    298\u001b[0m \u001b[1;33m\u001b[0m\u001b[0m\n\u001b[0;32m    299\u001b[0m         \u001b[1;32mif\u001b[0m \u001b[0mself\u001b[0m\u001b[1;33m.\u001b[0m\u001b[0m_result_cache\u001b[0m \u001b[1;32mis\u001b[0m \u001b[1;32mnot\u001b[0m \u001b[1;32mNone\u001b[0m\u001b[1;33m:\u001b[0m\u001b[1;33m\u001b[0m\u001b[1;33m\u001b[0m\u001b[0m\n",
      "\u001b[1;31mAssertionError\u001b[0m: Negative indexing is not supported."
     ]
    }
   ],
   "source": [
    "qs[-1] # 음수 index는 사용 못함."
   ]
  },
  {
   "cell_type": "code",
   "execution_count": 13,
   "id": "6771db84",
   "metadata": {},
   "outputs": [
    {
     "data": {
      "text/plain": [
       "<Question: 좋아하는 색깔은 무엇입니까?>"
      ]
     },
     "execution_count": 13,
     "metadata": {},
     "output_type": "execute_result"
    }
   ],
   "source": [
    "qs.first()"
   ]
  },
  {
   "cell_type": "code",
   "execution_count": 14,
   "id": "146b4bfc",
   "metadata": {},
   "outputs": [
    {
     "data": {
      "text/plain": [
       "<Question: 가고 싶은 나라를 선택하세요.>"
      ]
     },
     "execution_count": 14,
     "metadata": {},
     "output_type": "execute_result"
    }
   ],
   "source": [
    "qs.last()"
   ]
  },
  {
   "cell_type": "code",
   "execution_count": 15,
   "id": "2065bca6",
   "metadata": {},
   "outputs": [
    {
     "data": {
      "text/plain": [
       "<QuerySet [<Choice: 검정색>, <Choice: 파란색>, <Choice: 노란색>, <Choice: 미국>, <Choice: 쿠바>]>"
      ]
     },
     "execution_count": 15,
     "metadata": {},
     "output_type": "execute_result"
    }
   ],
   "source": [
    "qs = Choice.objects.all()\n",
    "qs"
   ]
  },
  {
   "cell_type": "code",
   "execution_count": 16,
   "id": "fd691945",
   "metadata": {},
   "outputs": [
    {
     "data": {
      "text/plain": [
       "<QuerySet [<Choice: 검정색>, <Choice: 노란색>, <Choice: 미국>, <Choice: 쿠바>, <Choice: 파란색>]>"
      ]
     },
     "execution_count": 16,
     "metadata": {},
     "output_type": "execute_result"
    }
   ],
   "source": [
    "qs.order_by('choice_text') # ASC"
   ]
  },
  {
   "cell_type": "code",
   "execution_count": 17,
   "id": "84dc95f7",
   "metadata": {},
   "outputs": [
    {
     "data": {
      "text/plain": [
       "<QuerySet [<Choice: 파란색>, <Choice: 쿠바>, <Choice: 미국>, <Choice: 노란색>, <Choice: 검정색>]>"
      ]
     },
     "execution_count": 17,
     "metadata": {},
     "output_type": "execute_result"
    }
   ],
   "source": [
    "qs.order_by('-choice_text') # DESC"
   ]
  },
  {
   "cell_type": "code",
   "execution_count": 18,
   "id": "4269f630",
   "metadata": {},
   "outputs": [
    {
     "data": {
      "text/plain": [
       "<QuerySet [<Choice: 검정색>, <Choice: 노란색>, <Choice: 미국>, <Choice: 쿠바>, <Choice: 파란색>]>"
      ]
     },
     "execution_count": 18,
     "metadata": {},
     "output_type": "execute_result"
    }
   ],
   "source": [
    "qs = Choice.objects.all().order_by('choice_text')\n",
    "qs"
   ]
  },
  {
   "cell_type": "code",
   "execution_count": 19,
   "id": "46819004",
   "metadata": {},
   "outputs": [
    {
     "name": "stdout",
     "output_type": "stream",
     "text": [
      "SELECT \"polls_choice\".\"id\", \"polls_choice\".\"choice_text\", \"polls_choice\".\"vote\", \"polls_choice\".\"question_id\" FROM \"polls_choice\" ORDER BY \"polls_choice\".\"choice_text\" ASC\n"
     ]
    }
   ],
   "source": [
    "print(qs.query)"
   ]
  },
  {
   "cell_type": "code",
   "execution_count": 21,
   "id": "d66d7ec9",
   "metadata": {},
   "outputs": [
    {
     "name": "stdout",
     "output_type": "stream",
     "text": [
      "<class 'polls.models.Choice'>\n"
     ]
    }
   ],
   "source": [
    "c = qs.first()\n",
    "print(type(c))"
   ]
  },
  {
   "cell_type": "code",
   "execution_count": 23,
   "id": "4ffb34c5",
   "metadata": {},
   "outputs": [
    {
     "name": "stdout",
     "output_type": "stream",
     "text": [
      "1 검정색 2 1\n"
     ]
    }
   ],
   "source": [
    "# 조회한 Model의 속성을 조회 => 특정 컬럼값 조회 => '.' 표기법\n",
    "# Choice : id(pk), choice_text, vote, question_id\n",
    "print(c.id, c.choice_text, c.vote, c.question_id)"
   ]
  },
  {
   "cell_type": "code",
   "execution_count": 24,
   "id": "1fdc9470",
   "metadata": {},
   "outputs": [
    {
     "name": "stdout",
     "output_type": "stream",
     "text": [
      "1\t검정색\t2\t1\n",
      "3\t노란색\t100\t1\n",
      "4\t미국\t0\t3\n",
      "5\t쿠바\t2\t3\n",
      "2\t파란색\t5\t1\n"
     ]
    }
   ],
   "source": [
    "for c in qs:\n",
    "    print(c.id, c.choice_text, c.vote, c.question_id, sep='\\t')"
   ]
  },
  {
   "cell_type": "markdown",
   "id": "ec25f690",
   "metadata": {},
   "source": [
    "# where절\n",
    "- filter(조회조건)\n",
    "    - 조회조건을 만족하는 0개 이상의 행을 조회\n",
    "- exclude(조회조건)\n",
    "    - filter의 반대. 조회조건을 만족하지 않는 0개 이상의 행을 조회 (not)\n",
    "- get(조회조건)\n",
    "    - 조회조건을 만족하는 1개 행을 조회\n",
    "- filter/exclude : QuerySet으로 반환\n",
    "- get : Model 객체를 반환"
   ]
  },
  {
   "cell_type": "code",
   "execution_count": 31,
   "id": "6d3d932f",
   "metadata": {},
   "outputs": [
    {
     "data": {
      "text/plain": [
       "<QuerySet [<Question: 좋아하는 색깔은 무엇입니까?>]>"
      ]
     },
     "execution_count": 31,
     "metadata": {},
     "output_type": "execute_result"
    }
   ],
   "source": [
    "# where\n",
    "qs = Question.objects.filter(id=3)\n",
    "# primary key 컬럼 조회: 컬럼명, pk\n",
    "qs = Question.objects.filter(pk=1)\n",
    "qs"
   ]
  },
  {
   "cell_type": "code",
   "execution_count": 32,
   "id": "8c917c14",
   "metadata": {},
   "outputs": [
    {
     "name": "stdout",
     "output_type": "stream",
     "text": [
      "2021-05-25 05:18:45.775911+00:00\n"
     ]
    }
   ],
   "source": [
    "print(qs.first().pub_date)"
   ]
  },
  {
   "cell_type": "code",
   "execution_count": 35,
   "id": "81fca876",
   "metadata": {},
   "outputs": [
    {
     "name": "stdout",
     "output_type": "stream",
     "text": [
      "<class 'polls.models.Question'>\n"
     ]
    }
   ],
   "source": [
    "quest = Question.objects.get(pk=1) # get(): pk로 조회\n",
    "print(type(quest))"
   ]
  },
  {
   "cell_type": "code",
   "execution_count": 36,
   "id": "dd50dd24",
   "metadata": {},
   "outputs": [
    {
     "ename": "AttributeError",
     "evalue": "type object 'Question' has no attribute 'object'",
     "output_type": "error",
     "traceback": [
      "\u001b[1;31m---------------------------------------------------------------------------\u001b[0m",
      "\u001b[1;31mAttributeError\u001b[0m                            Traceback (most recent call last)",
      "\u001b[1;32m<ipython-input-36-e8f3e1d448a6>\u001b[0m in \u001b[0;36m<module>\u001b[1;34m\u001b[0m\n\u001b[1;32m----> 1\u001b[1;33m \u001b[0mQuestion\u001b[0m\u001b[1;33m.\u001b[0m\u001b[0mobject\u001b[0m\u001b[1;33m.\u001b[0m\u001b[0mget\u001b[0m\u001b[1;33m(\u001b[0m\u001b[0mpk\u001b[0m\u001b[1;33m=\u001b[0m\u001b[1;36m2\u001b[0m\u001b[1;33m)\u001b[0m\u001b[1;33m\u001b[0m\u001b[1;33m\u001b[0m\u001b[0m\n\u001b[0m",
      "\u001b[1;31mAttributeError\u001b[0m: type object 'Question' has no attribute 'object'"
     ]
    }
   ],
   "source": [
    "Question.object.get(pk=2)"
   ]
  },
  {
   "cell_type": "code",
   "execution_count": 37,
   "id": "f7ac0f1d",
   "metadata": {},
   "outputs": [
    {
     "name": "stdout",
     "output_type": "stream",
     "text": [
      "2021-05-25 05:18:45.775911+00:00\n"
     ]
    }
   ],
   "source": [
    "try:\n",
    "    r = Question.objects.get(pk=1)\n",
    "    print(r.pub_date)\n",
    "except:\n",
    "    print('조회결과가 없습니다.')"
   ]
  },
  {
   "cell_type": "code",
   "execution_count": 39,
   "id": "deb3d845",
   "metadata": {},
   "outputs": [
    {
     "data": {
      "text/plain": [
       "<Question: 가고 싶은 나라를 선택하세요.>"
      ]
     },
     "execution_count": 39,
     "metadata": {},
     "output_type": "execute_result"
    }
   ],
   "source": [
    "Question.objects.get(id__gt=1) # id > 1 # 조회결과가 2개 이상일 경우 예외 발생"
   ]
  },
  {
   "cell_type": "code",
   "execution_count": 43,
   "id": "f7e9ab33",
   "metadata": {},
   "outputs": [
    {
     "name": "stdout",
     "output_type": "stream",
     "text": [
      "3 노란색\n",
      "4 미국\n",
      "5 쿠바\n"
     ]
    }
   ],
   "source": [
    "# 조회조건\n",
    "# qs = Choice.objects.filter(id__gt=3) # id > 3\n",
    "qs = Choice.objects.filter(id__gte=3) # id >= 3\n",
    "for q in qs:\n",
    "    print(q.id, q.choice_text)"
   ]
  },
  {
   "cell_type": "code",
   "execution_count": 54,
   "id": "c0c20ca8",
   "metadata": {},
   "outputs": [
    {
     "name": "stdout",
     "output_type": "stream",
     "text": [
      "<QuerySet [<Question: 좋아하는 색깔은 무엇입니까?>]>\n",
      "1 좋아하는 색깔은 무엇입니까?\n"
     ]
    }
   ],
   "source": [
    "# qs = Question.objects.filter(question_text__startswith='가고') # q_t like '가고%'\n",
    "# qs = Question.objects.filter(question_text__endswith='하세요.') # q_t like '%하세요.'\n",
    "qs = Question.objects.filter(question_text__contains='하는') # q_t like '%하는%'\n",
    "print(qs)\n",
    "for q in qs:\n",
    "    print(q.id, q.question_text)"
   ]
  },
  {
   "cell_type": "code",
   "execution_count": 57,
   "id": "52b5d8b6",
   "metadata": {},
   "outputs": [
    {
     "name": "stdout",
     "output_type": "stream",
     "text": [
      "SELECT \"polls_choice\".\"id\", \"polls_choice\".\"choice_text\", \"polls_choice\".\"vote\", \"polls_choice\".\"question_id\" FROM \"polls_choice\" WHERE \"polls_choice\".\"id\" BETWEEN 3 AND 7\n",
      "3 노란색\n",
      "4 미국\n",
      "5 쿠바\n"
     ]
    }
   ],
   "source": [
    "# qs = Choice.objects.filter(id__in=[2,6,7,20]) # where id in [2,6,7,20]\n",
    "qs = Choice.objects.filter(id__range=[3,7]) # between 3 and 7\n",
    "print(qs.query)\n",
    "for q in qs:\n",
    "    print(q.id, q.choice_text)"
   ]
  },
  {
   "cell_type": "markdown",
   "id": "de297f68",
   "metadata": {},
   "source": [
    "## and조건"
   ]
  },
  {
   "cell_type": "code",
   "execution_count": 63,
   "id": "bf276d29",
   "metadata": {},
   "outputs": [
    {
     "data": {
      "text/plain": [
       "(3, '노란색')"
      ]
     },
     "execution_count": 63,
     "metadata": {},
     "output_type": "execute_result"
    }
   ],
   "source": [
    "qs = Choice.objects.filter(pk=3, choice_text='노란색')\n",
    "qs.first().id, qs.first().choice_text"
   ]
  },
  {
   "cell_type": "code",
   "execution_count": 65,
   "id": "fa5c122b",
   "metadata": {},
   "outputs": [
    {
     "name": "stdout",
     "output_type": "stream",
     "text": [
      "1 검정색\n",
      "2 파란색\n",
      "3 노란색\n"
     ]
    }
   ],
   "source": [
    "qs = Choice.objects.filter(pk__lt=5, choice_text__contains='색')\n",
    "for q in qs:\n",
    "    print(q.id, q.choice_text)"
   ]
  },
  {
   "cell_type": "code",
   "execution_count": 66,
   "id": "6beeba46",
   "metadata": {},
   "outputs": [],
   "source": [
    "qs = Choice.objects.filter(pk__gt=5, choice_text__contains='색')\n",
    "for q in qs:\n",
    "    print(q.id, q.choice_text)"
   ]
  },
  {
   "cell_type": "code",
   "execution_count": 73,
   "id": "e13852f5",
   "metadata": {},
   "outputs": [
    {
     "name": "stdout",
     "output_type": "stream",
     "text": [
      "1 검정색\n",
      "2 파란색\n",
      "3 노란색\n",
      "4 미국\n"
     ]
    }
   ],
   "source": [
    "# OR조건 Q()\n",
    "from django.db.models import Q\n",
    "\n",
    "# qs = Choice.objects.filter(Q(pk__gt=5)|Q(choice_text__contains='색'))\n",
    "# qs = Choice.objects.filter(Q(pk__gt=5)|~Q(choice_text__contains='색'))\n",
    "qs = Choice.objects.filter(~Q(pk=5))\n",
    "for q in qs:\n",
    "    print(q.id, q.choice_text)"
   ]
  },
  {
   "cell_type": "markdown",
   "id": "3768a2cc",
   "metadata": {},
   "source": [
    "## 컬럼선택\n",
    "select 컬럼, 컬럼\n",
    "- values(field이름, ...)\n",
    "    - 개별 조회결과를 Dictionary에 넣어서 반환"
   ]
  },
  {
   "cell_type": "code",
   "execution_count": 76,
   "id": "b9cfdbad",
   "metadata": {},
   "outputs": [
    {
     "name": "stdout",
     "output_type": "stream",
     "text": [
      "SELECT \"polls_choice\".\"choice_text\", \"polls_choice\".\"vote\" FROM \"polls_choice\"\n",
      "검정색 2 {'choice_text': '검정색', 'vote': 2}\n",
      "파란색 5 {'choice_text': '파란색', 'vote': 5}\n",
      "노란색 100 {'choice_text': '노란색', 'vote': 100}\n",
      "미국 0 {'choice_text': '미국', 'vote': 0}\n",
      "쿠바 2 {'choice_text': '쿠바', 'vote': 2}\n"
     ]
    }
   ],
   "source": [
    "qs = Choice.objects.all().values('choice_text', 'vote')\n",
    "print(qs.query)\n",
    "for q in qs:\n",
    "    print(q['choice_text'], q['vote'], q)"
   ]
  },
  {
   "cell_type": "code",
   "execution_count": null,
   "id": "c5b54945",
   "metadata": {},
   "outputs": [],
   "source": []
  },
  {
   "cell_type": "code",
   "execution_count": null,
   "id": "09bf8dd1",
   "metadata": {},
   "outputs": [],
   "source": []
  }
 ],
 "metadata": {
  "kernelspec": {
   "display_name": "Python 3",
   "language": "python",
   "name": "python3"
  },
  "language_info": {
   "codemirror_mode": {
    "name": "ipython",
    "version": 3
   },
   "file_extension": ".py",
   "mimetype": "text/x-python",
   "name": "python",
   "nbconvert_exporter": "python",
   "pygments_lexer": "ipython3",
   "version": "3.7.10"
  }
 },
 "nbformat": 4,
 "nbformat_minor": 5
}
