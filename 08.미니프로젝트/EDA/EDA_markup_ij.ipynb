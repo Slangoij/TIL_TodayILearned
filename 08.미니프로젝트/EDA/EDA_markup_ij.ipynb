{
 "cells": [
  {
   "cell_type": "markdown",
   "id": "instant-vietnam",
   "metadata": {},
   "source": [
    "# 데이터 확인하며 중간중간 전처리 하이퍼파라미터 정하기"
   ]
  },
  {
   "cell_type": "markdown",
   "id": "competitive-uruguay",
   "metadata": {},
   "source": [
    "기본적으로 test, train셋이 이미 구분되어 있는 데이터\n",
    "\n",
    "숫자형컬럼의 널값은\\\n",
    "`pre_churi(H_P_0=500, H_P_1=='mode')` 함수로 통계함수를 사용해 전처리\n",
    "\n",
    "`H_P`를 하이퍼파라미터로 표기\n",
    "\n",
    "H_P_0 = 한 데이터 drop시킬 `NaN`의 중복 개수\\\n",
    "H_P_1 = drop 후 여전히 남아있는 널값은 어떻게 처리할지(문자열로 입력) ex)"
   ]
  },
  {
   "cell_type": "markdown",
   "id": "exempt-destiny",
   "metadata": {},
   "source": [
    "# 컬럼명 번역하여 사용(은 번거로워지므로 생략)"
   ]
  },
  {
   "cell_type": "code",
   "execution_count": null,
   "id": "addressed-swaziland",
   "metadata": {},
   "outputs": [],
   "source": [
    "# 각 컬럼의 정보\n",
    "col_to_kor = {\n",
    "    'enrollee_id' : '고유ID',\n",
    "    'city': '도시코드',\n",
    "    'city_development_index' : '도시개발지수(scaled)',\n",
    "    'gender': '성별',\n",
    "    'relevent_experience': '관련경험',\n",
    "    'enrolled_university': '대학유형(있는 경우)',\n",
    "    'education_level': '학력',\n",
    "    'major_discipline' : '전공',\n",
    "    'experience': '연단위경력',\n",
    "    'company_size': '현재직장직원수',\n",
    "    'company_type' : '현재직장고용주유형',\n",
    "    'last_new_job': '현재직장직전공백기',\n",
    "    'training_hours': '교육이수시간',\n",
    "    'target': '이직희망여부'\n",
    "}"
   ]
  },
  {
   "cell_type": "markdown",
   "id": "naughty-designation",
   "metadata": {},
   "source": [
    "target:\n",
    "0 – 전직을 찾고 있지 않음, 1 – 전직을 찾고\n",
    "\n",
    "### 대학 과정\n",
    "no_enrollment 13817\n",
    "Full time course 3757\n",
    "Part time course 1198\n",
    "\n",
    "### 학력\n",
    "Phd : '박사'\n",
    "masters : '석사'\n",
    "graduate : '학사'\n",
    "high school : '고등'\n",
    "primary school : '초등'\n",
    "\n",
    "### 회사 분류\n",
    "pvt ltd : '주식 시장에 상장되지 않은 비공개 회사'\n",
    "NGO : '비정부 기구'"
   ]
  },
  {
   "cell_type": "markdown",
   "id": "tested-protein",
   "metadata": {},
   "source": [
    "# Issue"
   ]
  },
  {
   "cell_type": "markdown",
   "id": "related-smile",
   "metadata": {},
   "source": [
    "#### 컬럼전처리"
   ]
  },
  {
   "cell_type": "markdown",
   "id": "opposite-poverty",
   "metadata": {},
   "source": [
    "도시코드별 분포 파악 난항 => 도시 수가 데이터에 비해 많음\\\n",
    "각 컬럼의 value가 결과에 영향을 주는지 => 정규화를 해야하는지"
   ]
  },
  {
   "cell_type": "code",
   "execution_count": null,
   "id": "still-anderson",
   "metadata": {},
   "outputs": [],
   "source": [
    "category_feature = ['city', 'gender', 'relevent_experience',\n",
    "                    'major_discipline', 'company_size', 'company_type']\n",
    "\n",
    "numeric_feature = ['city_development_index', 'training_hours',\n",
    "                   'education_level', 'last_new_job',  'experience', 'enrolled_university']"
   ]
  },
  {
   "cell_type": "markdown",
   "id": "strong-westminster",
   "metadata": {},
   "source": [
    "결측치 처리 (500 이하)\n",
    "- 'education_level', 'enrolled_university', 'experience', 'last_new_job'\n",
    "\n",
    "**? 최빈값으로? 아니면 푸름님 KNN으로?** => 일단 최빈값으로\n",
    "\n",
    "\n",
    "\n",
    "gender 결측치\n",
    "- nan값 반반으로 male, famale\n",
    "\n",
    "=> 결측치의 양이 상대적으로 많지 않고 ??테스트??와의 연관??\n",
    "\n",
    "commany_size, type 결측치\n",
    "- unknown 으로 재정의\n",
    "\n",
    "major 결측치\n",
    "- major랑 non_major로 나누기(nan값은 non_major 으로)"
   ]
  }
 ],
 "metadata": {
  "kernelspec": {
   "display_name": "Python 3",
   "language": "python",
   "name": "python3"
  },
  "language_info": {
   "codemirror_mode": {
    "name": "ipython",
    "version": 3
   },
   "file_extension": ".py",
   "mimetype": "text/x-python",
   "name": "python",
   "nbconvert_exporter": "python",
   "pygments_lexer": "ipython3",
   "version": "3.7.10"
  }
 },
 "nbformat": 4,
 "nbformat_minor": 5
}
