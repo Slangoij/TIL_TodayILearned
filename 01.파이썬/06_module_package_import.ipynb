{
 "cells": [
  {
   "cell_type": "code",
   "execution_count": 1,
   "metadata": {},
   "outputs": [
    {
     "ename": "NameError",
     "evalue": "name 'minus' is not defined",
     "output_type": "error",
     "traceback": [
      "\u001b[1;31m----------------------------------------------------------------------\u001b[0m",
      "\u001b[1;31mNameError\u001b[0m                            Traceback (most recent call last)",
      "\u001b[1;32m<ipython-input-1-9ae246c05892>\u001b[0m in \u001b[0;36m<module>\u001b[1;34m\u001b[0m\n\u001b[1;32m----> 1\u001b[1;33m \u001b[0mminus\u001b[0m\u001b[1;33m(\u001b[0m\u001b[1;36m1\u001b[0m\u001b[1;33m,\u001b[0m\u001b[1;36m2\u001b[0m\u001b[1;33m)\u001b[0m\u001b[1;33m\u001b[0m\u001b[1;33m\u001b[0m\u001b[0m\n\u001b[0m",
      "\u001b[1;31mNameError\u001b[0m: name 'minus' is not defined"
     ]
    }
   ],
   "source": [
    "minus(1,2)"
   ]
  },
  {
   "cell_type": "markdown",
   "metadata": {},
   "source": [
    "- 외부 모듈이나 외부 모듈에 있는 내용들을 사용하기 위해서는 import를 해야 한다.\n",
    "- 구문\n",
    "```\n",
    "import 사용하려는 것\n",
    "```\n",
    "- 사용하려는 것: 모듈, 클래스, 함수\n",
    "- 한번에 여러 개를 import 할 수 있다."
   ]
  },
  {
   "cell_type": "code",
   "execution_count": 4,
   "metadata": {},
   "outputs": [
    {
     "name": "stdout",
     "output_type": "stream",
     "text": [
      "-1\n",
      "10.0\n"
     ]
    }
   ],
   "source": [
    "import my_module # import 모듈명\n",
    "# minus(1,2) # import해도 타 파일, 디렉토리의 함수나 클래스는 임포트한 모듈의 뒤에 '.'을 붙이고 사용\n",
    "# 모듈명.함수()\n",
    "print(my_module.minus(1,2))\n",
    "print(my_module.divide(100,10))"
   ]
  },
  {
   "cell_type": "code",
   "execution_count": 5,
   "metadata": {},
   "outputs": [
    {
     "name": "stdout",
     "output_type": "stream",
     "text": [
      "30\n",
      "50\n"
     ]
    }
   ],
   "source": [
    "# 모듈안에 있는 함수/클래스들을 import\n",
    "# from 모듈 import 함수1, 함수2, ...\n",
    "# from 사용할 것이 있는 경호 import 사용할 것\n",
    "\n",
    "# my_module안의 plus, minus함수를 import\n",
    "from my_module import plus, minus\n",
    "print(plus(10,20))\n",
    "print(minus(100,50))"
   ]
  },
  {
   "cell_type": "code",
   "execution_count": 3,
   "metadata": {},
   "outputs": [
    {
     "data": {
      "text/plain": [
       "30"
      ]
     },
     "execution_count": 3,
     "metadata": {},
     "output_type": "execute_result"
    }
   ],
   "source": [
    "# my_module을 mm이란 이름으로 import\n",
    "import my_module as mm\n",
    "\n",
    "# my_module.plus(10,20)\n",
    "mm.plus(10,20) # 별칭을 준 경우 별칭으로 사용해야 한다.\n",
    "# my_module.plus(10,20)는 에러!!"
   ]
  },
  {
   "cell_type": "code",
   "execution_count": 1,
   "metadata": {},
   "outputs": [
    {
     "name": "stdout",
     "output_type": "stream",
     "text": [
      "3\n",
      "5\n"
     ]
    }
   ],
   "source": [
    "# 별칭들도 관례적으로 사용하는 별칭이 정해져 있음\n",
    "# import numpy as np\n",
    "# imoport pandas as pd\n",
    "from my_module import plus as pu, minus as mu\n",
    "print(pu(1,2))\n",
    "print(mu(10,5))"
   ]
  },
  {
   "cell_type": "code",
   "execution_count": 2,
   "metadata": {},
   "outputs": [],
   "source": [
    "# from my_module import * \n",
    "# 는 기존의 라이브러리의 함수와 내가 작성한 함수가 충돌(재정의)될 우려가 있으므로 비추천"
   ]
  },
  {
   "cell_type": "code",
   "execution_count": 1,
   "metadata": {},
   "outputs": [
    {
     "name": "stdout",
     "output_type": "stream",
     "text": [
      "__name__: my_module\n"
     ]
    }
   ],
   "source": [
    "# 실행관점에서 import = my_module.py를 실행시켜 그 안에 정의한 함수나 메소드들을 메모리에 올리는 작업\n",
    "import my_module as mm"
   ]
  },
  {
   "cell_type": "code",
   "execution_count": 11,
   "metadata": {},
   "outputs": [
    {
     "name": "stdout",
     "output_type": "stream",
     "text": [
      "hello world\n",
      "hello world\n"
     ]
    }
   ],
   "source": [
    "# my_package/test_module 위치에 존재하는 폴더명.모듈명\n",
    "# import 패키지면.모듈명\n",
    "import my_package.test_module as tm\n",
    "# my_package.test_module.hello_world()\n",
    "tm.hello_world()\n",
    "\n",
    "# from 패키지명 import 모듈명\n",
    "from my_package import test_module\n",
    "test_module.hello_world()\n",
    "\n",
    "# test_module.hello_world함수 import\n",
    "from my_package.test_module import hello_world"
   ]
  },
  {
   "cell_type": "code",
   "execution_count": 1,
   "metadata": {},
   "outputs": [
    {
     "name": "stdout",
     "output_type": "stream",
     "text": [
      "__name__: my_module\n"
     ]
    },
    {
     "data": {
      "text/plain": [
       "['__builtins__',\n",
       " '__cached__',\n",
       " '__doc__',\n",
       " '__file__',\n",
       " '__loader__',\n",
       " '__name__',\n",
       " '__package__',\n",
       " '__spec__',\n",
       " 'divide',\n",
       " 'minus',\n",
       " 'multiply',\n",
       " 'plus']"
      ]
     },
     "execution_count": 1,
     "metadata": {},
     "output_type": "execute_result"
    }
   ],
   "source": [
    "import my_module\n",
    "dir(my_module)\n",
    "# my_module. + Tab 키 누르면 메소드 확인 가능"
   ]
  },
  {
   "cell_type": "code",
   "execution_count": null,
   "metadata": {},
   "outputs": [],
   "source": []
  },
  {
   "cell_type": "code",
   "execution_count": null,
   "metadata": {},
   "outputs": [],
   "source": []
  },
  {
   "cell_type": "code",
   "execution_count": null,
   "metadata": {},
   "outputs": [],
   "source": []
  },
  {
   "cell_type": "code",
   "execution_count": null,
   "metadata": {},
   "outputs": [],
   "source": []
  },
  {
   "cell_type": "code",
   "execution_count": null,
   "metadata": {},
   "outputs": [],
   "source": []
  },
  {
   "cell_type": "code",
   "execution_count": null,
   "metadata": {},
   "outputs": [],
   "source": []
  },
  {
   "cell_type": "code",
   "execution_count": null,
   "metadata": {},
   "outputs": [],
   "source": []
  },
  {
   "cell_type": "code",
   "execution_count": null,
   "metadata": {},
   "outputs": [],
   "source": []
  },
  {
   "cell_type": "code",
   "execution_count": null,
   "metadata": {},
   "outputs": [],
   "source": []
  }
 ],
 "metadata": {
  "kernelspec": {
   "display_name": "Python 3",
   "language": "python",
   "name": "python3"
  },
  "language_info": {
   "codemirror_mode": {
    "name": "ipython",
    "version": 3
   },
   "file_extension": ".py",
   "mimetype": "text/x-python",
   "name": "python",
   "nbconvert_exporter": "python",
   "pygments_lexer": "ipython3",
   "version": "3.8.5"
  }
 },
 "nbformat": 4,
 "nbformat_minor": 4
}
