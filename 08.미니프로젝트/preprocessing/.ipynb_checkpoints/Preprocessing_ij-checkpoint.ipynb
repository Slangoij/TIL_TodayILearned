{
 "cells": [
  {
   "cell_type": "markdown",
   "id": "trying-gasoline",
   "metadata": {},
   "source": [
    "# 전처리"
   ]
  },
  {
   "cell_type": "code",
   "execution_count": 148,
   "id": "metallic-gibraltar",
   "metadata": {},
   "outputs": [],
   "source": [
    "import numpy as np\n",
    "import pandas as pd\n",
    "import matplotlib as mpl\n",
    "import matplotlib.pyplot as plt\n",
    "import seaborn as sns\n",
    "from sklearn.model_selection import train_test_split, GridSearchCV, RandomizedSearchCV\n",
    "from sklearn.preprocessing import LabelEncoder, OneHotEncoder\n",
    "from sklearn.tree import DecisionTreeClassifier\n",
    "from sklearn.metrics import accuracy_score, classification_report, roc_auc_score\n",
    "\n",
    "mpl.style.use('seaborn')\n",
    "mpl.rcParams[\"font.family\"] = 'Malgun Gothic'\n",
    "mpl.rcParams[\"axes.unicode_minus\"] = False"
   ]
  },
  {
   "cell_type": "code",
   "execution_count": 149,
   "id": "disturbed-comparative",
   "metadata": {},
   "outputs": [],
   "source": [
    "import time\n",
    "def my_time(func):\n",
    "    def wrapper():\n",
    "        str_time = time.time()\n",
    "        func()\n",
    "        end_time = time.time()\n",
    "        print(end_time-str_time, '초 소요')\n",
    "    return wrapper"
   ]
  },
  {
   "cell_type": "code",
   "execution_count": 150,
   "id": "specialized-withdrawal",
   "metadata": {},
   "outputs": [],
   "source": [
    "X_train = pd.read_csv('../data/aug_train.csv')\n",
    "X_test = pd.read_csv('../data/aug_test.csv')"
   ]
  },
  {
   "cell_type": "code",
   "execution_count": 151,
   "id": "transparent-weather",
   "metadata": {},
   "outputs": [],
   "source": [
    "X_test['target'] = -1"
   ]
  },
  {
   "cell_type": "code",
   "execution_count": 152,
   "id": "academic-upgrade",
   "metadata": {
    "collapsed": true
   },
   "outputs": [
    {
     "data": {
      "text/plain": [
       "((19158, 14),\n",
       " Index(['enrollee_id', 'city', 'city_development_index', 'gender',\n",
       "        'relevent_experience', 'enrolled_university', 'education_level',\n",
       "        'major_discipline', 'experience', 'company_size', 'company_type',\n",
       "        'last_new_job', 'training_hours', 'target'],\n",
       "       dtype='object'),\n",
       " (2129, 14),\n",
       " Index(['enrollee_id', 'city', 'city_development_index', 'gender',\n",
       "        'relevent_experience', 'enrolled_university', 'education_level',\n",
       "        'major_discipline', 'experience', 'company_size', 'company_type',\n",
       "        'last_new_job', 'training_hours', 'target'],\n",
       "       dtype='object'))"
      ]
     },
     "execution_count": 152,
     "metadata": {},
     "output_type": "execute_result"
    }
   ],
   "source": [
    "X_train.shape, X_train.columns, X_test.shape, X_test.columns"
   ]
  },
  {
   "cell_type": "code",
   "execution_count": 153,
   "id": "heated-found",
   "metadata": {},
   "outputs": [],
   "source": [
    "X = pd.concat([X_train, X_test])\n",
    "# X.drop(columns=['enrollee_id','target'],inplace=True)"
   ]
  },
  {
   "cell_type": "code",
   "execution_count": 154,
   "id": "competent-cattle",
   "metadata": {},
   "outputs": [
    {
     "data": {
      "text/plain": [
       "(21287, 14)"
      ]
     },
     "execution_count": 154,
     "metadata": {},
     "output_type": "execute_result"
    }
   ],
   "source": [
    "X.shape"
   ]
  },
  {
   "cell_type": "markdown",
   "id": "sunrise-function",
   "metadata": {},
   "source": [
    "#### 해당 컬럼부터 숫자형으로 변경"
   ]
  },
  {
   "cell_type": "code",
   "execution_count": 155,
   "id": "polyphonic-error",
   "metadata": {},
   "outputs": [],
   "source": [
    "numeric_feature = ['city_development_index', 'training_hours',\n",
    "                   'education_level', 'last_new_job',  'experience', 'enrolled_university']"
   ]
  },
  {
   "cell_type": "code",
   "execution_count": 156,
   "id": "dietary-catch",
   "metadata": {
    "collapsed": true
   },
   "outputs": [
    {
     "name": "stdout",
     "output_type": "stream",
     "text": [
      "93\n",
      "[0.92  0.776 0.624 0.789 0.767 0.764 0.762 0.913 0.926 0.827 0.843 0.804\n",
      " 0.855 0.887 0.91  0.884 0.924 0.666 0.558 0.923 0.794 0.754 0.939 0.55\n",
      " 0.865 0.698 0.893 0.796 0.866 0.682 0.802 0.579 0.878 0.897 0.949 0.925\n",
      " 0.896 0.836 0.693 0.769 0.775 0.903 0.555 0.727 0.64  0.516 0.743 0.899\n",
      " 0.915 0.689 0.895 0.89  0.847 0.527 0.766 0.738 0.647 0.795 0.74  0.701\n",
      " 0.493 0.84  0.691 0.735 0.742 0.479 0.722 0.921 0.848 0.856 0.898 0.83\n",
      " 0.73  0.68  0.725 0.556 0.448 0.763 0.745 0.645 0.788 0.78  0.512 0.739\n",
      " 0.563 0.518 0.824 0.487 0.649 0.781 0.625 0.807 0.664]\n",
      "241\n",
      "[ 36  47  83  52   8  24  18  46 123  32 108  23  26 106   7 132  68  50\n",
      "  48  65  13  22 148  72  40 141  82 145 206 152  42  14 112  87  20  21\n",
      "  92 102  43  45  19  90  25  15  98 142  28 228  29  12  17  35   4 136\n",
      "  27  74  86  75 332 140 182 172  33  34 150 160   3   2 210 101  59 260\n",
      " 131 109  70  51  60 164 290 133  76 156 120 100  39  55  49   6 125 326\n",
      " 198  11  41 114 246  81  31  84 105  38 178 104 202  88 218  62  10  80\n",
      "  77  37 162 190  30  16   5  54  44 110 262 107 134 103  96  57 240  94\n",
      " 113  56  64 320   9 129  58 126 166  95  97 204 116 161 146 302  53 143\n",
      " 124 214 288 306 322  67  61 130 220  78 314 226 280  91 234 163 151  85\n",
      " 256 168 144  66 128  73 122 154  63 292 188  71 135 138 184  89 157 118\n",
      " 111 192 127 216 139 196  99 167 276 121  69 155 316 242 304 284 278 310\n",
      " 222 212 250 180 258 330 158 149 165  79 194 176 174 312 200 328 300 153\n",
      " 232 336 308 147 298 224 254 248 236 170 264 119 117 334 324   1 238 266\n",
      " 282 268 244 272 294 270 286]\n",
      "6\n",
      "['Graduate' 'Masters' 'High School' nan 'Phd' 'Primary School']\n",
      "7\n",
      "['1' '>4' 'never' '4' '3' '2' nan]\n",
      "23\n",
      "['>20' '15' '5' '<1' '11' '13' '7' '17' '2' '16' '1' '4' '10' '14' '18'\n",
      " '19' '12' '3' '6' '9' '8' '20' nan]\n",
      "4\n",
      "['no_enrollment' 'Full time course' nan 'Part time course']\n"
     ]
    }
   ],
   "source": [
    "# 각 컬럼 데이터 개수부터 확인\n",
    "for col in numeric_feature:\n",
    "    print(X[col].unique().size)\n",
    "    print(X[col].unique())"
   ]
  },
  {
   "cell_type": "markdown",
   "id": "unnecessary-failure",
   "metadata": {},
   "source": [
    "#### edu_lvl"
   ]
  },
  {
   "cell_type": "code",
   "execution_count": 157,
   "id": "rolled-motor",
   "metadata": {},
   "outputs": [],
   "source": [
    "education_level = ['Primary School', 'High School', 'Graduate', 'Masters', 'Phd']\n",
    "for i, v in enumerate(education_level):\n",
    "    X.loc[X['education_level']==v, 'education_level'] = i"
   ]
  },
  {
   "cell_type": "code",
   "execution_count": 158,
   "id": "average-welding",
   "metadata": {
    "collapsed": true
   },
   "outputs": [
    {
     "data": {
      "text/plain": [
       "2.0    12867\n",
       "3.0     4857\n",
       "1.0     2239\n",
       "NaN      512\n",
       "4.0      468\n",
       "0.0      344\n",
       "Name: education_level, dtype: int64"
      ]
     },
     "execution_count": 158,
     "metadata": {},
     "output_type": "execute_result"
    }
   ],
   "source": [
    "X['education_level'].value_counts(dropna=False)"
   ]
  },
  {
   "cell_type": "markdown",
   "id": "prostate-visibility",
   "metadata": {},
   "source": [
    "#### last_new_job"
   ]
  },
  {
   "cell_type": "code",
   "execution_count": 159,
   "id": "ranking-lexington",
   "metadata": {},
   "outputs": [],
   "source": [
    "X.loc[X['last_new_job'] == '>4', 'last_new_job'] = 5\n",
    "X.loc[X['last_new_job'] == 'never', 'last_new_job'] = 0\n",
    "\n",
    "X['last_new_job'] = pd.to_numeric(X['last_new_job'], downcast='integer')"
   ]
  },
  {
   "cell_type": "code",
   "execution_count": 160,
   "id": "average-bhutan",
   "metadata": {
    "collapsed": true
   },
   "outputs": [
    {
     "data": {
      "text/plain": [
       "1.0    8924\n",
       "5.0    3643\n",
       "2.0    3242\n",
       "0.0    2710\n",
       "3.0    1157\n",
       "4.0    1148\n",
       "Name: last_new_job, dtype: int64"
      ]
     },
     "execution_count": 160,
     "metadata": {},
     "output_type": "execute_result"
    }
   ],
   "source": [
    "X['last_new_job'].value_counts()"
   ]
  },
  {
   "cell_type": "markdown",
   "id": "public-adjustment",
   "metadata": {},
   "source": [
    "#### exp"
   ]
  },
  {
   "cell_type": "code",
   "execution_count": 161,
   "id": "precious-calvin",
   "metadata": {},
   "outputs": [],
   "source": [
    "X.loc[X['experience'] == '>20', 'experience'] = 21\n",
    "X.loc[X['experience'] == '<1', 'experience'] = 0\n",
    "\n",
    "X['experience'] = pd.to_numeric(X['experience'], downcast='integer')"
   ]
  },
  {
   "cell_type": "code",
   "execution_count": 162,
   "id": "clear-expansion",
   "metadata": {
    "collapsed": true
   },
   "outputs": [
    {
     "data": {
      "text/plain": [
       "21.0    3669\n",
       "5.0     1593\n",
       "4.0     1548\n",
       "3.0     1508\n",
       "6.0     1346\n",
       "2.0     1255\n",
       "7.0     1144\n",
       "9.0     1093\n",
       "10.0    1081\n",
       "8.0      884\n",
       "11.0     750\n",
       "15.0     745\n",
       "14.0     641\n",
       "1.0      605\n",
       "0.0      596\n",
       "16.0     576\n",
       "12.0     546\n",
       "13.0     453\n",
       "17.0     378\n",
       "19.0     333\n",
       "18.0     306\n",
       "20.0     167\n",
       "NaN       70\n",
       "Name: experience, dtype: int64"
      ]
     },
     "execution_count": 162,
     "metadata": {},
     "output_type": "execute_result"
    }
   ],
   "source": [
    "X['experience'].value_counts(dropna=False)"
   ]
  },
  {
   "cell_type": "markdown",
   "id": "victorian-christianity",
   "metadata": {},
   "source": [
    "#### enroll"
   ]
  },
  {
   "cell_type": "code",
   "execution_count": 163,
   "id": "subject-bangladesh",
   "metadata": {},
   "outputs": [],
   "source": [
    "enrolls = ['no_enrollment','Part time course','Full time course']\n",
    "for i,v in enumerate(enrolls):\n",
    "    X.loc[X['enrolled_university'] == v, 'enrolled_university'] = i"
   ]
  },
  {
   "cell_type": "code",
   "execution_count": 164,
   "id": "expanded-thermal",
   "metadata": {},
   "outputs": [
    {
     "data": {
      "text/plain": [
       "0.0    15336\n",
       "2.0     4192\n",
       "1.0     1342\n",
       "NaN      417\n",
       "Name: enrolled_university, dtype: int64"
      ]
     },
     "execution_count": 164,
     "metadata": {},
     "output_type": "execute_result"
    }
   ],
   "source": [
    "X['enrolled_university'].value_counts(dropna=False)"
   ]
  },
  {
   "cell_type": "markdown",
   "id": "warming-iceland",
   "metadata": {},
   "source": [
    "#### 결측치 3% 이하 컬럼의 결측치는 KNN으로 처리"
   ]
  },
  {
   "cell_type": "code",
   "execution_count": 167,
   "id": "portable-disney",
   "metadata": {},
   "outputs": [],
   "source": [
    "to_mode = ['education_level', 'enrolled_university',\n",
    "           'experience', 'last_new_job']"
   ]
  },
  {
   "cell_type": "code",
   "execution_count": 187,
   "id": "answering-fleece",
   "metadata": {},
   "outputs": [
    {
     "data": {
      "text/plain": [
       "['company_size']"
      ]
     },
     "execution_count": 187,
     "metadata": {},
     "output_type": "execute_result"
    }
   ],
   "source": [
    "limit = X.shape[0] * 0.03\n",
    "under_list = []\n",
    "for col in X.columns:\n",
    "    if 1 < X[col].isna().sum() < limit:\n",
    "        under_list.append(col)\n",
    "under_list.append('company_size')\n",
    "under_list"
   ]
  },
  {
   "cell_type": "code",
   "execution_count": 188,
   "id": "bigger-thought",
   "metadata": {},
   "outputs": [],
   "source": [
    "from sklearn.impute import KNNImputer\n",
    "\n",
    "imputer = KNNImputer(n_neighbors = 1)\n",
    "X[under_list] = imputer.fit_transform(X[under_list])"
   ]
  },
  {
   "cell_type": "code",
   "execution_count": 170,
   "id": "alternate-nowhere",
   "metadata": {},
   "outputs": [],
   "source": [
    "# 최빈값으로 결측치 처리\n",
    "# for col in to_mode:\n",
    "#     X.loc[X[col].isna(),col] = X[col].mode().values[0]   "
   ]
  },
  {
   "cell_type": "markdown",
   "id": "improved-arcade",
   "metadata": {},
   "source": [
    "#### gender: nan->위에서부터 반: Male / 나머지 반: Female"
   ]
  },
  {
   "cell_type": "code",
   "execution_count": 171,
   "id": "measured-preliminary",
   "metadata": {},
   "outputs": [
    {
     "data": {
      "text/plain": [
       "<AxesSubplot:xlabel='gender', ylabel='count'>"
      ]
     },
     "execution_count": 171,
     "metadata": {},
     "output_type": "execute_result"
    },
    {
     "data": {
      "image/png": "[encoded data removed]",
      "text/plain": [
       "<Figure size 576x396 with 1 Axes>"
      ]
     },
     "metadata": {},
     "output_type": "display_data"
    }
   ],
   "source": [
    "sns.countplot(x='gender', data=X)"
   ]
  },
  {
   "cell_type": "code",
   "execution_count": 172,
   "id": "pending-seeker",
   "metadata": {},
   "outputs": [
    {
     "data": {
      "text/plain": [
       "Male      14681\n",
       "NaN        5016\n",
       "Female     1375\n",
       "Other       215\n",
       "Name: gender, dtype: int64"
      ]
     },
     "execution_count": 172,
     "metadata": {},
     "output_type": "execute_result"
    }
   ],
   "source": [
    "X['gender'].value_counts(dropna=False)"
   ]
  },
  {
   "cell_type": "markdown",
   "id": "tamil-empire",
   "metadata": {},
   "source": [
    "### 1차 전처리: 결측치를 반반 남녀로 배분"
   ]
  },
  {
   "cell_type": "code",
   "execution_count": null,
   "id": "recreational-difference",
   "metadata": {},
   "outputs": [],
   "source": [
    "# gender_nan_cnt = X['gender'].isna().sum()//2\n",
    "# # 내 방법\n",
    "# # idx = 0\n",
    "# # for idx in range(X.shape[0]):\n",
    "# #     if gender_nan_cnt <= 0:\n",
    "# #         break\n",
    "# #     if X.loc[idx,'gender'] == np.nan:\n",
    "# #         X.loc[idx,'gender'] = 'Male'\n",
    "# #         gender_nan_cnt -= 1\n",
    "# # X.loc[X['gender'].isna(), 'gender'] = 'Female'\n",
    "\n",
    "# # 우상님 방법\n",
    "# X['gender'].fillna('Female', limit=gender_nan_cnt, inplace=True)\n",
    "# X['gender'].fillna('Male', inplace=True)"
   ]
  },
  {
   "cell_type": "markdown",
   "id": "alert-switch",
   "metadata": {},
   "source": [
    "#### company_size, type"
   ]
  },
  {
   "cell_type": "code",
   "execution_count": null,
   "id": "cleared-wichita",
   "metadata": {},
   "outputs": [],
   "source": [
    "X.loc[X['company_size'].isna(), 'company_size'] = 'unknown'\n",
    "X.loc[X['company_size']=='<10', 'company_size'] = '~10'\n",
    "X.loc[X['company_type'].isna(), 'company_type'] = 'unknown'"
   ]
  },
  {
   "cell_type": "markdown",
   "id": "overall-adjustment",
   "metadata": {},
   "source": [
    "#### major: 비율 맞춰 major nomajor로 나눠 결측치 처리x\n",
    "#### -> 최빈값과 나머지의 합과의 비율 차이가 크므로 최빈값 major로 처리"
   ]
  },
  {
   "cell_type": "code",
   "execution_count": null,
   "id": "split-cambodia",
   "metadata": {},
   "outputs": [],
   "source": [
    "# 비율맞춰 처리\n",
    "stem = X['major_discipline'].value_counts(dropna=False)['STEM']\n",
    "nonstem = X.shape[0] - X['major_discipline'].isna().sum() - stem\n",
    "stem, nonstem"
   ]
  },
  {
   "cell_type": "code",
   "execution_count": null,
   "id": "facial-observer",
   "metadata": {},
   "outputs": [],
   "source": [
    "# non_major_list = []\n",
    "# for val in X['major_discipline'].unique():\n",
    "#     if val != 'STEM':\n",
    "#         non_major_list.append(val)\n",
    "        \n",
    "# non_major = X['major_discipline'].isin(non_major_list)\n",
    "# major = X['major_discipline'] == 'STEM'\n",
    "\n",
    "# X.loc[non_major, 'major_discipline'] = 'non_major'\n",
    "# X.loc[major, 'major_discipline'] = 'major'"
   ]
  },
  {
   "cell_type": "code",
   "execution_count": null,
   "id": "requested-front",
   "metadata": {},
   "outputs": [],
   "source": [
    "nomajor_lst = list(X['major_discipline'].value_counts(dropna=False).index)\n",
    "nomajor_lst.remove(np.nan)\n",
    "nomajor_lst.remove('STEM')\n",
    "print(nomajor_lst)"
   ]
  },
  {
   "cell_type": "code",
   "execution_count": null,
   "id": "prostate-matter",
   "metadata": {},
   "outputs": [],
   "source": [
    "# X.loc[X['major_discipline'] == 'STEM', 'major_discipline'] = 'major'\n",
    "# X.loc[X['major_discipline'].isin(nomajor_lst), 'major_discipline'] = 'no_major'"
   ]
  },
  {
   "cell_type": "code",
   "execution_count": null,
   "id": "developing-sandwich",
   "metadata": {},
   "outputs": [],
   "source": [
    "# major_limit = int(X['major_discipline'].isna().sum() / (stem+nonstem) * stem)\n",
    "# X['major_discipline'].fillna('major', limit=major_limit, inplace=True)\n",
    "# X['major_discipline'].fillna('no_major', inplace=True)"
   ]
  },
  {
   "cell_type": "code",
   "execution_count": null,
   "id": "viral-budapest",
   "metadata": {},
   "outputs": [],
   "source": [
    "X.loc[(X['major_discipline'] == 'STEM')|(X['major_discipline'].isna()) , 'major_discipline'] = 'major'\n",
    "X.loc[X['major_discipline'] != 'major', 'major_discipline'] = 'no_major'"
   ]
  },
  {
   "cell_type": "markdown",
   "id": "functioning-blues",
   "metadata": {},
   "source": [
    "### 2차: 결측치를 큰 남자에게"
   ]
  },
  {
   "cell_type": "markdown",
   "id": "starting-sentence",
   "metadata": {},
   "source": [
    "#### gender"
   ]
  },
  {
   "cell_type": "code",
   "execution_count": 173,
   "id": "communist-stability",
   "metadata": {},
   "outputs": [],
   "source": [
    "X['gender'].fillna('Male', inplace=True)"
   ]
  },
  {
   "cell_type": "markdown",
   "id": "noted-devon",
   "metadata": {},
   "source": [
    "#### company_size, type"
   ]
  },
  {
   "cell_type": "code",
   "execution_count": 174,
   "id": "identical-northern",
   "metadata": {},
   "outputs": [],
   "source": [
    "X.loc[X['company_size']=='<10', 'company_size'] = '~10'\n",
    "X.loc[X['company_size']=='10/49', 'company_size'] = '10~49'\n",
    "\n",
    "company_siz = ['~10', '10~49', '50-99', '100-500', '500-999','1000-4999','5000-9999','10000+']\n",
    "for i, v in enumerate(company_siz):\n",
    "    X.loc[X['company_size']==v, 'company_size'] = i"
   ]
  },
  {
   "cell_type": "markdown",
   "id": "prostate-trouble",
   "metadata": {},
   "source": [
    "#### major: 비율 맞춰 major nomajor로 나눠 결측치 처리x\n",
    "#### -> 최빈값과 나머지의 합과의 비율 차이가 크므로 최빈값 major로 처리"
   ]
  },
  {
   "cell_type": "code",
   "execution_count": 175,
   "id": "alive-burden",
   "metadata": {},
   "outputs": [
    {
     "name": "stdout",
     "output_type": "stream",
     "text": [
      "['Humanities', 'Other', 'Business Degree', 'Arts', 'No Major']\n"
     ]
    }
   ],
   "source": [
    "nomajor_lst = list(X['major_discipline'].value_counts(dropna=False).index)\n",
    "nomajor_lst.remove(np.nan)\n",
    "nomajor_lst.remove('STEM')\n",
    "print(nomajor_lst)"
   ]
  },
  {
   "cell_type": "code",
   "execution_count": 176,
   "id": "viral-castle",
   "metadata": {},
   "outputs": [],
   "source": [
    "X.loc[(X['major_discipline'] == 'STEM')|(X['major_discipline'].isna()) , 'major_discipline'] = 'major'\n",
    "X.loc[X['major_discipline'] != 'major', 'major_discipline'] = 'no_major'"
   ]
  },
  {
   "cell_type": "markdown",
   "id": "approximate-spirituality",
   "metadata": {},
   "source": [
    "### 인코딩 전 현재 위아래로 concat되있어 \n",
    "### 중복되있으므로 인덱스 순번대로 재지정"
   ]
  },
  {
   "cell_type": "code",
   "execution_count": 177,
   "id": "tracked-camera",
   "metadata": {},
   "outputs": [],
   "source": [
    "X.reset_index(drop=True, inplace=True)"
   ]
  },
  {
   "cell_type": "markdown",
   "id": "signed-intro",
   "metadata": {},
   "source": [
    "## 1차 전처리:  city-lbe, elseobject-ohe"
   ]
  },
  {
   "cell_type": "markdown",
   "id": "scientific-family",
   "metadata": {},
   "source": [
    "#### 라벨 인코딩"
   ]
  },
  {
   "cell_type": "code",
   "execution_count": 178,
   "id": "excellent-mississippi",
   "metadata": {},
   "outputs": [],
   "source": [
    "# X['city'] = LabelEncoder().fit_transform(X['city'])"
   ]
  },
  {
   "cell_type": "markdown",
   "id": "legitimate-associate",
   "metadata": {},
   "source": [
    "#### 원핫인코딩"
   ]
  },
  {
   "cell_type": "code",
   "execution_count": 179,
   "id": "alternative-sixth",
   "metadata": {},
   "outputs": [],
   "source": [
    "# X['company_size'].unique()"
   ]
  },
  {
   "cell_type": "code",
   "execution_count": 180,
   "id": "spatial-spoke",
   "metadata": {},
   "outputs": [],
   "source": [
    "# to_ohe = list(X.columns[X[X.columns].dtypes == 'object'])\n",
    "# to_ohe\n",
    "\n",
    "# # 원핫 인코딩x 컬럼들\n",
    "# X_not_ohe = X.loc[:,~X.columns.isin(to_ohe)]\n",
    "# X_not_ohe.shape, X_not_ohe.columns\n",
    "\n",
    "# # 원핫 인코딩 컬럼들\n",
    "# X_ohe = X[to_ohe]\n",
    "# X_ohe\n",
    "\n",
    "# # 원핫인코딩 실행\n",
    "# ohe = OneHotEncoder(sparse=False)\n",
    "# X_df = ohe.fit_transform(X_ohe)\n",
    "# X_ohe = pd.DataFrame(X_df, columns=ohe.get_feature_names())\n",
    "# X_ohe.shape, X_ohe.columns\n",
    "\n",
    "# # 합치기\n",
    "# X_new = pd.concat([X_ohe, X_not_ohe], axis=1)\n",
    "# X_new\n",
    "\n",
    "# X_new.info()"
   ]
  },
  {
   "cell_type": "markdown",
   "id": "powerful-tennis",
   "metadata": {},
   "source": [
    "## 2차 전처리: object 전체 lbe"
   ]
  },
  {
   "cell_type": "code",
   "execution_count": 181,
   "id": "forbidden-salmon",
   "metadata": {},
   "outputs": [
    {
     "data": {
      "text/plain": [
       "['city',\n",
       " 'gender',\n",
       " 'relevent_experience',\n",
       " 'major_discipline',\n",
       " 'company_size',\n",
       " 'company_type']"
      ]
     },
     "execution_count": 181,
     "metadata": {},
     "output_type": "execute_result"
    }
   ],
   "source": [
    "to_lb = list(X.columns[X[X.columns].dtypes == 'object'])\n",
    "to_lb"
   ]
  },
  {
   "cell_type": "code",
   "execution_count": 182,
   "id": "conservative-graph",
   "metadata": {},
   "outputs": [
    {
     "data": {
      "text/html": [
       "<div>\n",
       "<style scoped>\n",
       "    .dataframe tbody tr th:only-of-type {\n",
       "        vertical-align: middle;\n",
       "    }\n",
       "\n",
       "    .dataframe tbody tr th {\n",
       "        vertical-align: top;\n",
       "    }\n",
       "\n",
       "    .dataframe thead th {\n",
       "        text-align: right;\n",
       "    }\n",
       "</style>\n",
       "<table border=\"1\" class=\"dataframe\">\n",
       "  <thead>\n",
       "    <tr style=\"text-align: right;\">\n",
       "      <th></th>\n",
       "      <th>enrollee_id</th>\n",
       "      <th>city</th>\n",
       "      <th>city_development_index</th>\n",
       "      <th>gender</th>\n",
       "      <th>relevent_experience</th>\n",
       "      <th>enrolled_university</th>\n",
       "      <th>education_level</th>\n",
       "      <th>major_discipline</th>\n",
       "      <th>experience</th>\n",
       "      <th>company_size</th>\n",
       "      <th>company_type</th>\n",
       "      <th>last_new_job</th>\n",
       "      <th>training_hours</th>\n",
       "      <th>target</th>\n",
       "    </tr>\n",
       "  </thead>\n",
       "  <tbody>\n",
       "    <tr>\n",
       "      <th>0</th>\n",
       "      <td>8949</td>\n",
       "      <td>5</td>\n",
       "      <td>0.920</td>\n",
       "      <td>1</td>\n",
       "      <td>0</td>\n",
       "      <td>0.0</td>\n",
       "      <td>2.0</td>\n",
       "      <td>0</td>\n",
       "      <td>21.0</td>\n",
       "      <td>8</td>\n",
       "      <td>6</td>\n",
       "      <td>1.0</td>\n",
       "      <td>36</td>\n",
       "      <td>1.0</td>\n",
       "    </tr>\n",
       "    <tr>\n",
       "      <th>1</th>\n",
       "      <td>29725</td>\n",
       "      <td>77</td>\n",
       "      <td>0.776</td>\n",
       "      <td>1</td>\n",
       "      <td>1</td>\n",
       "      <td>0.0</td>\n",
       "      <td>2.0</td>\n",
       "      <td>0</td>\n",
       "      <td>15.0</td>\n",
       "      <td>2</td>\n",
       "      <td>5</td>\n",
       "      <td>5.0</td>\n",
       "      <td>47</td>\n",
       "      <td>0.0</td>\n",
       "    </tr>\n",
       "    <tr>\n",
       "      <th>2</th>\n",
       "      <td>11561</td>\n",
       "      <td>64</td>\n",
       "      <td>0.624</td>\n",
       "      <td>1</td>\n",
       "      <td>1</td>\n",
       "      <td>2.0</td>\n",
       "      <td>2.0</td>\n",
       "      <td>0</td>\n",
       "      <td>5.0</td>\n",
       "      <td>8</td>\n",
       "      <td>6</td>\n",
       "      <td>0.0</td>\n",
       "      <td>83</td>\n",
       "      <td>0.0</td>\n",
       "    </tr>\n",
       "    <tr>\n",
       "      <th>3</th>\n",
       "      <td>33241</td>\n",
       "      <td>14</td>\n",
       "      <td>0.789</td>\n",
       "      <td>1</td>\n",
       "      <td>1</td>\n",
       "      <td>2.0</td>\n",
       "      <td>2.0</td>\n",
       "      <td>1</td>\n",
       "      <td>0.0</td>\n",
       "      <td>8</td>\n",
       "      <td>5</td>\n",
       "      <td>0.0</td>\n",
       "      <td>52</td>\n",
       "      <td>1.0</td>\n",
       "    </tr>\n",
       "    <tr>\n",
       "      <th>4</th>\n",
       "      <td>666</td>\n",
       "      <td>50</td>\n",
       "      <td>0.767</td>\n",
       "      <td>1</td>\n",
       "      <td>0</td>\n",
       "      <td>0.0</td>\n",
       "      <td>3.0</td>\n",
       "      <td>0</td>\n",
       "      <td>21.0</td>\n",
       "      <td>2</td>\n",
       "      <td>1</td>\n",
       "      <td>4.0</td>\n",
       "      <td>8</td>\n",
       "      <td>0.0</td>\n",
       "    </tr>\n",
       "    <tr>\n",
       "      <th>...</th>\n",
       "      <td>...</td>\n",
       "      <td>...</td>\n",
       "      <td>...</td>\n",
       "      <td>...</td>\n",
       "      <td>...</td>\n",
       "      <td>...</td>\n",
       "      <td>...</td>\n",
       "      <td>...</td>\n",
       "      <td>...</td>\n",
       "      <td>...</td>\n",
       "      <td>...</td>\n",
       "      <td>...</td>\n",
       "      <td>...</td>\n",
       "      <td>...</td>\n",
       "    </tr>\n",
       "    <tr>\n",
       "      <th>21282</th>\n",
       "      <td>1289</td>\n",
       "      <td>5</td>\n",
       "      <td>0.920</td>\n",
       "      <td>1</td>\n",
       "      <td>1</td>\n",
       "      <td>0.0</td>\n",
       "      <td>2.0</td>\n",
       "      <td>1</td>\n",
       "      <td>16.0</td>\n",
       "      <td>8</td>\n",
       "      <td>4</td>\n",
       "      <td>4.0</td>\n",
       "      <td>15</td>\n",
       "      <td>-1.0</td>\n",
       "    </tr>\n",
       "    <tr>\n",
       "      <th>21283</th>\n",
       "      <td>195</td>\n",
       "      <td>30</td>\n",
       "      <td>0.897</td>\n",
       "      <td>1</td>\n",
       "      <td>0</td>\n",
       "      <td>0.0</td>\n",
       "      <td>3.0</td>\n",
       "      <td>0</td>\n",
       "      <td>18.0</td>\n",
       "      <td>8</td>\n",
       "      <td>6</td>\n",
       "      <td>2.0</td>\n",
       "      <td>30</td>\n",
       "      <td>-1.0</td>\n",
       "    </tr>\n",
       "    <tr>\n",
       "      <th>21284</th>\n",
       "      <td>31762</td>\n",
       "      <td>2</td>\n",
       "      <td>0.887</td>\n",
       "      <td>1</td>\n",
       "      <td>1</td>\n",
       "      <td>0.0</td>\n",
       "      <td>0.0</td>\n",
       "      <td>0</td>\n",
       "      <td>3.0</td>\n",
       "      <td>8</td>\n",
       "      <td>5</td>\n",
       "      <td>0.0</td>\n",
       "      <td>18</td>\n",
       "      <td>-1.0</td>\n",
       "    </tr>\n",
       "    <tr>\n",
       "      <th>21285</th>\n",
       "      <td>7873</td>\n",
       "      <td>4</td>\n",
       "      <td>0.804</td>\n",
       "      <td>1</td>\n",
       "      <td>0</td>\n",
       "      <td>2.0</td>\n",
       "      <td>1.0</td>\n",
       "      <td>0</td>\n",
       "      <td>7.0</td>\n",
       "      <td>3</td>\n",
       "      <td>4</td>\n",
       "      <td>1.0</td>\n",
       "      <td>84</td>\n",
       "      <td>-1.0</td>\n",
       "    </tr>\n",
       "    <tr>\n",
       "      <th>21286</th>\n",
       "      <td>12215</td>\n",
       "      <td>4</td>\n",
       "      <td>0.804</td>\n",
       "      <td>1</td>\n",
       "      <td>0</td>\n",
       "      <td>0.0</td>\n",
       "      <td>3.0</td>\n",
       "      <td>0</td>\n",
       "      <td>15.0</td>\n",
       "      <td>7</td>\n",
       "      <td>5</td>\n",
       "      <td>2.0</td>\n",
       "      <td>11</td>\n",
       "      <td>-1.0</td>\n",
       "    </tr>\n",
       "  </tbody>\n",
       "</table>\n",
       "<p>21287 rows × 14 columns</p>\n",
       "</div>"
      ],
      "text/plain": [
       "       enrollee_id  city  city_development_index  gender  relevent_experience  \\\n",
       "0             8949     5                   0.920       1                    0   \n",
       "1            29725    77                   0.776       1                    1   \n",
       "2            11561    64                   0.624       1                    1   \n",
       "3            33241    14                   0.789       1                    1   \n",
       "4              666    50                   0.767       1                    0   \n",
       "...            ...   ...                     ...     ...                  ...   \n",
       "21282         1289     5                   0.920       1                    1   \n",
       "21283          195    30                   0.897       1                    0   \n",
       "21284        31762     2                   0.887       1                    1   \n",
       "21285         7873     4                   0.804       1                    0   \n",
       "21286        12215     4                   0.804       1                    0   \n",
       "\n",
       "       enrolled_university  education_level  major_discipline  experience  \\\n",
       "0                      0.0              2.0                 0        21.0   \n",
       "1                      0.0              2.0                 0        15.0   \n",
       "2                      2.0              2.0                 0         5.0   \n",
       "3                      2.0              2.0                 1         0.0   \n",
       "4                      0.0              3.0                 0        21.0   \n",
       "...                    ...              ...               ...         ...   \n",
       "21282                  0.0              2.0                 1        16.0   \n",
       "21283                  0.0              3.0                 0        18.0   \n",
       "21284                  0.0              0.0                 0         3.0   \n",
       "21285                  2.0              1.0                 0         7.0   \n",
       "21286                  0.0              3.0                 0        15.0   \n",
       "\n",
       "       company_size  company_type  last_new_job  training_hours  target  \n",
       "0                 8             6           1.0              36     1.0  \n",
       "1                 2             5           5.0              47     0.0  \n",
       "2                 8             6           0.0              83     0.0  \n",
       "3                 8             5           0.0              52     1.0  \n",
       "4                 2             1           4.0               8     0.0  \n",
       "...             ...           ...           ...             ...     ...  \n",
       "21282             8             4           4.0              15    -1.0  \n",
       "21283             8             6           2.0              30    -1.0  \n",
       "21284             8             5           0.0              18    -1.0  \n",
       "21285             3             4           1.0              84    -1.0  \n",
       "21286             7             5           2.0              11    -1.0  \n",
       "\n",
       "[21287 rows x 14 columns]"
      ]
     },
     "execution_count": 182,
     "metadata": {},
     "output_type": "execute_result"
    }
   ],
   "source": [
    "def lbe(x):\n",
    "    if x.name in to_lb:\n",
    "        return LabelEncoder().fit_transform(x)\n",
    "    else:\n",
    "        return x\n",
    "    \n",
    "X_new = X.apply(lbe)\n",
    "X_new"
   ]
  },
  {
   "cell_type": "markdown",
   "id": "contrary-mobile",
   "metadata": {},
   "source": [
    "### StandardScaled"
   ]
  },
  {
   "cell_type": "code",
   "execution_count": 183,
   "id": "phantom-sleep",
   "metadata": {},
   "outputs": [],
   "source": [
    "from sklearn.preprocessing import StandardScaler\n",
    "\n",
    "y_tmp = X_new['target']\n",
    "X_scaled = StandardScaler().fit_transform(X_new)\n",
    "X_scaled_df = pd.DataFrame(X_scaled, columns=X_new.columns)\n",
    "X_scaled_df.drop(columns='target',inplace=True)\n",
    "X_scaled_df = pd.concat([X_scaled_df, y_tmp], axis=1)"
   ]
  },
  {
   "cell_type": "markdown",
   "id": "immune-assist",
   "metadata": {},
   "source": [
    "#### enrollee_id 제거, 다시 train,test 분리 후 target 분리"
   ]
  },
  {
   "cell_type": "code",
   "execution_count": 184,
   "id": "metric-shepherd",
   "metadata": {},
   "outputs": [
    {
     "data": {
      "text/plain": [
       "0        1.0\n",
       "1        0.0\n",
       "2        0.0\n",
       "3        1.0\n",
       "4        0.0\n",
       "        ... \n",
       "21282   -1.0\n",
       "21283   -1.0\n",
       "21284   -1.0\n",
       "21285   -1.0\n",
       "21286   -1.0\n",
       "Name: target, Length: 21287, dtype: float64"
      ]
     },
     "execution_count": 184,
     "metadata": {},
     "output_type": "execute_result"
    }
   ],
   "source": [
    "X_scaled_df.loc[X_scaled_df.index,'target']"
   ]
  },
  {
   "cell_type": "code",
   "execution_count": 185,
   "id": "horizontal-jacksonville",
   "metadata": {},
   "outputs": [
    {
     "name": "stderr",
     "output_type": "stream",
     "text": [
      "c:\\users\\inje.jeong\\anaconda3\\envs\\ml\\lib\\site-packages\\pandas\\core\\frame.py:4315: SettingWithCopyWarning: \n",
      "A value is trying to be set on a copy of a slice from a DataFrame\n",
      "\n",
      "See the caveats in the documentation: https://pandas.pydata.org/pandas-docs/stable/user_guide/indexing.html#returning-a-view-versus-a-copy\n",
      "  errors=errors,\n"
     ]
    }
   ],
   "source": [
    "X_train = X_scaled_df.loc[X_scaled_df.loc[X_scaled_df.index, 'target'] != -1]\n",
    "X_test = X_scaled_df.loc[X_scaled_df.loc[X_scaled_df.index, 'target'] == -1]\n",
    "X_test.drop(columns='target',inplace=True)"
   ]
  },
  {
   "cell_type": "markdown",
   "id": "increasing-applicant",
   "metadata": {},
   "source": [
    "#### 테이블 저장"
   ]
  },
  {
   "cell_type": "markdown",
   "id": "personal-needle",
   "metadata": {},
   "source": [
    "### 1차"
   ]
  },
  {
   "cell_type": "code",
   "execution_count": 147,
   "id": "original-consultation",
   "metadata": {},
   "outputs": [],
   "source": [
    "X_train.to_csv('../data/prepcd_train.csv', index=False)\n",
    "X_test.to_csv('../data/prepcd_test.csv', index=False)"
   ]
  },
  {
   "cell_type": "markdown",
   "id": "conscious-rally",
   "metadata": {},
   "source": [
    "### 2차"
   ]
  },
  {
   "cell_type": "code",
   "execution_count": 186,
   "id": "utility-evidence",
   "metadata": {},
   "outputs": [],
   "source": [
    "X_train.to_csv('../data/prepcd_lbe_train.csv', index=False)\n",
    "X_test.to_csv('../data/prepcd_lbe_test.csv', index=False)"
   ]
  }
 ],
 "metadata": {
  "kernelspec": {
   "display_name": "Python 3",
   "language": "python",
   "name": "python3"
  },
  "language_info": {
   "codemirror_mode": {
    "name": "ipython",
    "version": 3
   },
   "file_extension": ".py",
   "mimetype": "text/x-python",
   "name": "python",
   "nbconvert_exporter": "python",
   "pygments_lexer": "ipython3",
   "version": "3.7.10"
  }
 },
 "nbformat": 4,
 "nbformat_minor": 5
}
