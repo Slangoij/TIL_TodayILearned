{
 "cells": [
  {
   "cell_type": "markdown",
   "id": "drawn-satin",
   "metadata": {},
   "source": [
    "## 결정트리"
   ]
  },
  {
   "cell_type": "code",
   "execution_count": 734,
   "id": "metallic-gibraltar",
   "metadata": {},
   "outputs": [],
   "source": [
    "import numpy as np\n",
    "import pandas as pd\n",
    "import matplotlib as mpl\n",
    "import matplotlib.pyplot as plt\n",
    "import seaborn as sns\n",
    "from sklearn.model_selection import train_test_split, GridSearchCV, RandomizedSearchCV\n",
    "from sklearn.preprocessing import LabelEncoder, OneHotEncoder\n",
    "from sklearn.tree import DecisionTreeClassifier\n",
    "from sklearn.metrics import accuracy_score, classification_report, roc_auc_score\n",
    "\n",
    "mpl.style.use('seaborn')\n",
    "mpl.rcParams[\"font.family\"] = 'Malgun Gothic'\n",
    "mpl.rcParams[\"axes.unicode_minus\"] = False"
   ]
  },
  {
   "cell_type": "code",
   "execution_count": 735,
   "id": "disturbed-comparative",
   "metadata": {},
   "outputs": [],
   "source": [
    "import time\n",
    "def my_time(func):\n",
    "    def wrapper():\n",
    "        str_time = time.time()\n",
    "        func()\n",
    "        end_time = time.time()\n",
    "        print(end_time-str_time, '초 소요')\n",
    "    return wrapper"
   ]
  },
  {
   "cell_type": "code",
   "execution_count": 736,
   "id": "specialized-withdrawal",
   "metadata": {},
   "outputs": [],
   "source": [
    "X = pd.read_csv('../data/aug_train.csv')\n",
    "X_test = pd.read_csv('../data/aug_test.csv')"
   ]
  },
  {
   "cell_type": "code",
   "execution_count": 737,
   "id": "academic-upgrade",
   "metadata": {},
   "outputs": [
    {
     "data": {
      "text/plain": [
       "((19158, 14),\n",
       " Index(['enrollee_id', 'city', 'city_development_index', 'gender',\n",
       "        'relevent_experience', 'enrolled_university', 'education_level',\n",
       "        'major_discipline', 'experience', 'company_size', 'company_type',\n",
       "        'last_new_job', 'training_hours', 'target'],\n",
       "       dtype='object'))"
      ]
     },
     "execution_count": 737,
     "metadata": {},
     "output_type": "execute_result"
    }
   ],
   "source": [
    "X.shape, X.columns"
   ]
  },
  {
   "cell_type": "code",
   "execution_count": 738,
   "id": "heated-found",
   "metadata": {},
   "outputs": [],
   "source": [
    "y = X['target']\n",
    "X.drop(columns=['enrollee_id','target'],inplace=True)"
   ]
  },
  {
   "cell_type": "code",
   "execution_count": 739,
   "id": "generous-comparison",
   "metadata": {},
   "outputs": [
    {
     "data": {
      "text/plain": [
       "['company_type',\n",
       " 'company_size',\n",
       " 'gender',\n",
       " 'major_discipline',\n",
       " 'education_level',\n",
       " 'last_new_job',\n",
       " 'enrolled_university',\n",
       " 'experience',\n",
       " 'city',\n",
       " 'city_development_index',\n",
       " 'relevent_experience',\n",
       " 'training_hours']"
      ]
     },
     "execution_count": 739,
     "metadata": {},
     "output_type": "execute_result"
    }
   ],
   "source": [
    "toplotlist = list(X.isna().sum().sort_values(ascending=False).index)\n",
    "toplotlist"
   ]
  },
  {
   "cell_type": "code",
   "execution_count": 740,
   "id": "unable-biography",
   "metadata": {},
   "outputs": [],
   "source": [
    "num_plot_lst = ['city_development_index','training_hours']\n",
    "for i in num_plot_lst:\n",
    "    toplotlist.remove(i)\n",
    "obj_plot_lst = toplotlist"
   ]
  },
  {
   "cell_type": "code",
   "execution_count": 741,
   "id": "danish-transparency",
   "metadata": {},
   "outputs": [
    {
     "data": {
      "text/plain": [
       "10"
      ]
     },
     "execution_count": 741,
     "metadata": {},
     "output_type": "execute_result"
    }
   ],
   "source": [
    "len(obj_plot_lst)"
   ]
  },
  {
   "cell_type": "code",
   "execution_count": 742,
   "id": "entertaining-cursor",
   "metadata": {},
   "outputs": [
    {
     "data": {
      "text/plain": [
       "['company_type',\n",
       " 'company_size',\n",
       " 'gender',\n",
       " 'major_discipline',\n",
       " 'education_level',\n",
       " 'last_new_job',\n",
       " 'enrolled_university',\n",
       " 'experience',\n",
       " 'city',\n",
       " 'relevent_experience']"
      ]
     },
     "execution_count": 742,
     "metadata": {},
     "output_type": "execute_result"
    }
   ],
   "source": [
    "obj_plot_lst"
   ]
  },
  {
   "cell_type": "markdown",
   "id": "killing-pressing",
   "metadata": {},
   "source": [
    "# Rawdata 시각화 "
   ]
  },
  {
   "cell_type": "code",
   "execution_count": 743,
   "id": "elder-assistant",
   "metadata": {},
   "outputs": [
    {
     "name": "stdout",
     "output_type": "stream",
     "text": [
      "<class 'pandas.core.frame.DataFrame'>\n",
      "RangeIndex: 19158 entries, 0 to 19157\n",
      "Data columns (total 12 columns):\n",
      " #   Column                  Non-Null Count  Dtype  \n",
      "---  ------                  --------------  -----  \n",
      " 0   city                    19158 non-null  object \n",
      " 1   city_development_index  19158 non-null  float64\n",
      " 2   gender                  14650 non-null  object \n",
      " 3   relevent_experience     19158 non-null  object \n",
      " 4   enrolled_university     18772 non-null  object \n",
      " 5   education_level         18698 non-null  object \n",
      " 6   major_discipline        16345 non-null  object \n",
      " 7   experience              19093 non-null  object \n",
      " 8   company_size            13220 non-null  object \n",
      " 9   company_type            13018 non-null  object \n",
      " 10  last_new_job            18735 non-null  object \n",
      " 11  training_hours          19158 non-null  int64  \n",
      "dtypes: float64(1), int64(1), object(10)\n",
      "memory usage: 1.8+ MB\n"
     ]
    }
   ],
   "source": [
    "X.info()"
   ]
  },
  {
   "cell_type": "code",
   "execution_count": 744,
   "id": "fundamental-measurement",
   "metadata": {},
   "outputs": [
    {
     "data": {
      "text/plain": [
       "company_type              6140\n",
       "company_size              5938\n",
       "gender                    4508\n",
       "major_discipline          2813\n",
       "education_level            460\n",
       "last_new_job               423\n",
       "enrolled_university        386\n",
       "experience                  65\n",
       "city                         0\n",
       "city_development_index       0\n",
       "relevent_experience          0\n",
       "training_hours               0\n",
       "dtype: int64"
      ]
     },
     "execution_count": 744,
     "metadata": {},
     "output_type": "execute_result"
    }
   ],
   "source": [
    "X.isna().sum().sort_values(ascending=False)"
   ]
  },
  {
   "cell_type": "code",
   "execution_count": 745,
   "id": "mighty-carol",
   "metadata": {},
   "outputs": [
    {
     "data": {
      "image/png": "[encoded data removed]",
      "text/plain": [
       "<Figure size 1080x504 with 2 Axes>"
      ]
     },
     "metadata": {},
     "output_type": "display_data"
    }
   ],
   "source": [
    "fig, axes = plt.subplots(nrows=1, ncols=len(num_plot_lst), figsize=(15,7))\n",
    "\n",
    "for idx,i in enumerate(num_plot_lst):\n",
    "    X[i].value_counts().sort_index().plot(ax=axes[idx])\n",
    "    axes[idx].set_xlabel(i, fontsize=20)\n",
    "    \n",
    "plt.tight_layout()\n",
    "plt.show()"
   ]
  },
  {
   "cell_type": "code",
   "execution_count": 746,
   "id": "subject-success",
   "metadata": {},
   "outputs": [],
   "source": [
    "# @my_time\n",
    "# def vis():\n",
    "#     n = 2 # 열 수\n",
    "#     fig, axes = plt.subplots(nrows=(len(obj_plot_lst)+1)//2, ncols=n, figsize=(15,30))\n",
    "#     for idx, i in enumerate(obj_plot_lst):\n",
    "#         sns.countplot(x=i, hue='target', data=X, ax=axes[idx//n, idx%n])\n",
    "#         axes[idx//n, idx%n].set_xlabel(i, fontsize=20)\n",
    "#         axes[idx//n, idx%n].legend(['이직미희망', '이직희망'],\n",
    "#                                    bbox_to_anchor=(1,1), loc='upper right', fontsize=12)\n",
    "#     plt.tight_layout()\n",
    "#     plt.show()\n",
    "    \n",
    "# vis()"
   ]
  },
  {
   "cell_type": "code",
   "execution_count": 747,
   "id": "olympic-concentrate",
   "metadata": {},
   "outputs": [],
   "source": [
    "# # city는 따로 확인\n",
    "# plt.figure(figsize=(10,50))\n",
    "# X.groupby(['city','target']).count().plot(kind='barh')\n",
    "# # sns.countplot(x='city', hue='target', data=X)\n",
    "# plt.plot(kind='barh', )\n",
    "# plt.legend(['이직미희망', '이직희망'],\n",
    "#                            bbox_to_anchor=(1,1), loc='upper right', fontsize=12)\n",
    "# plt.show()"
   ]
  },
  {
   "cell_type": "code",
   "execution_count": 748,
   "id": "great-spice",
   "metadata": {},
   "outputs": [
    {
     "data": {
      "text/plain": [
       "city_103    4355\n",
       "city_21     2702\n",
       "city_16     1533\n",
       "city_114    1336\n",
       "city_160     845\n",
       "            ... \n",
       "city_111       3\n",
       "city_121       3\n",
       "city_129       3\n",
       "city_171       1\n",
       "city_140       1\n",
       "Name: city, Length: 123, dtype: int64"
      ]
     },
     "execution_count": 748,
     "metadata": {},
     "output_type": "execute_result"
    }
   ],
   "source": [
    "X['city'].value_counts().sort_values(ascending=False)"
   ]
  },
  {
   "cell_type": "markdown",
   "id": "sought-persian",
   "metadata": {},
   "source": [
    "# 전처리"
   ]
  },
  {
   "cell_type": "markdown",
   "id": "sunrise-function",
   "metadata": {},
   "source": [
    "#### 해당 컬럼부터 숫자형으로 변경"
   ]
  },
  {
   "cell_type": "code",
   "execution_count": 749,
   "id": "polyphonic-error",
   "metadata": {},
   "outputs": [],
   "source": [
    "numeric_feature = ['city_development_index', 'training_hours',\n",
    "                   'education_level', 'last_new_job',  'experience', 'enrolled_university']"
   ]
  },
  {
   "cell_type": "code",
   "execution_count": 750,
   "id": "dietary-catch",
   "metadata": {},
   "outputs": [
    {
     "name": "stdout",
     "output_type": "stream",
     "text": [
      "93\n",
      "[0.92  0.776 0.624 0.789 0.767 0.764 0.762 0.913 0.926 0.827 0.843 0.804\n",
      " 0.855 0.887 0.91  0.884 0.924 0.666 0.558 0.923 0.794 0.754 0.939 0.55\n",
      " 0.865 0.698 0.893 0.796 0.866 0.682 0.802 0.579 0.878 0.897 0.949 0.925\n",
      " 0.896 0.836 0.693 0.769 0.775 0.903 0.555 0.727 0.64  0.516 0.743 0.899\n",
      " 0.915 0.689 0.895 0.89  0.847 0.527 0.766 0.738 0.647 0.795 0.74  0.701\n",
      " 0.493 0.84  0.691 0.735 0.742 0.479 0.722 0.921 0.848 0.856 0.898 0.83\n",
      " 0.73  0.68  0.725 0.556 0.448 0.763 0.745 0.645 0.788 0.78  0.512 0.739\n",
      " 0.563 0.518 0.824 0.487 0.649 0.781 0.625 0.807 0.664]\n",
      "241\n",
      "[ 36  47  83  52   8  24  18  46 123  32 108  23  26 106   7 132  68  50\n",
      "  48  65  13  22 148  72  40 141  82 145 206 152  42  14 112  87  20  21\n",
      "  92 102  43  45  19  90  25  15  98 142  28 228  29  12  17  35   4 136\n",
      "  27  74  86  75 332 140 182 172  33  34 150 160   3   2 210 101  59 260\n",
      " 131 109  70  51  60 164 290 133  76 156 120 100  39  55  49   6 125 326\n",
      " 198  11  41 114 246  81  31  84 105  38 178 104 202  88 218  62  10  80\n",
      "  77  37 162 190  30  16   5  54  44 110 262 107 134 103  96  57 240  94\n",
      " 113  56  64 320   9 129  58 126 166  95  97 204 116 161 146 302  53 143\n",
      " 124 214 288 306 322  67  61 130 220  78 314 226 280  91 234 163 151  85\n",
      " 256 168 144  66 128  73 122 154  63 292 188  71 135 138 184  89 157 118\n",
      " 111 192 127 216 139 196  99 167 276 121  69 155 316 242 304 284 278 310\n",
      " 222 212 250 180 258 330 158 149 165  79 194 176 174 312 200 328 300 153\n",
      " 232 336 308 147 298 224 254 248 236 170 264 119 117 334 324   1 238 266\n",
      " 282 268 244 272 294 270 286]\n",
      "6\n",
      "['Graduate' 'Masters' 'High School' nan 'Phd' 'Primary School']\n",
      "7\n",
      "['1' '>4' 'never' '4' '3' '2' nan]\n",
      "23\n",
      "['>20' '15' '5' '<1' '11' '13' '7' '17' '2' '16' '1' '4' '10' '14' '18'\n",
      " '19' '12' '3' '6' '9' '8' '20' nan]\n",
      "4\n",
      "['no_enrollment' 'Full time course' nan 'Part time course']\n"
     ]
    }
   ],
   "source": [
    "# 각 컬럼 데이터 개수부터 확인\n",
    "for col in numeric_feature:\n",
    "    print(X[col].unique().size)\n",
    "    print(X[col].unique())"
   ]
  },
  {
   "cell_type": "code",
   "execution_count": 751,
   "id": "signal-welding",
   "metadata": {},
   "outputs": [
    {
     "data": {
      "image/png": "[encoded data removed]",
      "text/plain": [
       "<Figure size 576x396 with 1 Axes>"
      ]
     },
     "metadata": {},
     "output_type": "display_data"
    },
    {
     "name": "stdout",
     "output_type": "stream",
     "text": [
      "460\n"
     ]
    }
   ],
   "source": [
    "sns.countplot(x='education_level', data=X)\n",
    "plt.show()\n",
    "print(X['education_level'].isna().sum())"
   ]
  },
  {
   "cell_type": "markdown",
   "id": "unnecessary-failure",
   "metadata": {},
   "source": [
    "#### edu_lvl"
   ]
  },
  {
   "cell_type": "code",
   "execution_count": 752,
   "id": "rolled-motor",
   "metadata": {},
   "outputs": [],
   "source": [
    "education_level = ['Primary School', 'High School', 'Graduate', 'Masters', 'Phd']\n",
    "for i, v in enumerate(education_level):\n",
    "    X.loc[X['education_level']==v, 'education_level'] = i"
   ]
  },
  {
   "cell_type": "code",
   "execution_count": 753,
   "id": "average-welding",
   "metadata": {},
   "outputs": [
    {
     "data": {
      "text/plain": [
       "2.0    11598\n",
       "3.0     4361\n",
       "1.0     2017\n",
       "NaN      460\n",
       "4.0      414\n",
       "0.0      308\n",
       "Name: education_level, dtype: int64"
      ]
     },
     "execution_count": 753,
     "metadata": {},
     "output_type": "execute_result"
    }
   ],
   "source": [
    "X['education_level'].value_counts(dropna=False)"
   ]
  },
  {
   "cell_type": "markdown",
   "id": "prostate-visibility",
   "metadata": {},
   "source": [
    "#### last_new_job"
   ]
  },
  {
   "cell_type": "code",
   "execution_count": 754,
   "id": "ranking-lexington",
   "metadata": {},
   "outputs": [],
   "source": [
    "X.loc[X['last_new_job'] == '>4', 'last_new_job'] = 5\n",
    "X.loc[X['last_new_job'] == 'never', 'last_new_job'] = 0\n",
    "\n",
    "X['last_new_job'] = pd.to_numeric(X['last_new_job'], downcast='integer')"
   ]
  },
  {
   "cell_type": "code",
   "execution_count": 755,
   "id": "average-bhutan",
   "metadata": {},
   "outputs": [
    {
     "data": {
      "text/plain": [
       "1.0    8040\n",
       "5.0    3290\n",
       "2.0    2900\n",
       "0.0    2452\n",
       "4.0    1029\n",
       "3.0    1024\n",
       "Name: last_new_job, dtype: int64"
      ]
     },
     "execution_count": 755,
     "metadata": {},
     "output_type": "execute_result"
    }
   ],
   "source": [
    "X['last_new_job'].value_counts()"
   ]
  },
  {
   "cell_type": "markdown",
   "id": "public-adjustment",
   "metadata": {},
   "source": [
    "#### exp"
   ]
  },
  {
   "cell_type": "code",
   "execution_count": 756,
   "id": "precious-calvin",
   "metadata": {},
   "outputs": [],
   "source": [
    "X.loc[X['experience'] == '>20', 'experience'] = 21\n",
    "X.loc[X['experience'] == '<1', 'experience'] = 0\n",
    "\n",
    "X['experience'] = pd.to_numeric(X['experience'], downcast='integer')"
   ]
  },
  {
   "cell_type": "code",
   "execution_count": 757,
   "id": "clear-expansion",
   "metadata": {},
   "outputs": [
    {
     "data": {
      "text/plain": [
       "21.0    3286\n",
       "5.0     1430\n",
       "4.0     1403\n",
       "3.0     1354\n",
       "6.0     1216\n",
       "2.0     1127\n",
       "7.0     1028\n",
       "10.0     985\n",
       "9.0      980\n",
       "8.0      802\n",
       "15.0     686\n",
       "11.0     664\n",
       "14.0     586\n",
       "1.0      549\n",
       "0.0      522\n",
       "16.0     508\n",
       "12.0     494\n",
       "13.0     399\n",
       "17.0     342\n",
       "19.0     304\n",
       "18.0     280\n",
       "20.0     148\n",
       "NaN       65\n",
       "Name: experience, dtype: int64"
      ]
     },
     "execution_count": 757,
     "metadata": {},
     "output_type": "execute_result"
    }
   ],
   "source": [
    "X['experience'].value_counts(dropna=False)"
   ]
  },
  {
   "cell_type": "markdown",
   "id": "victorian-christianity",
   "metadata": {},
   "source": [
    "#### enroll"
   ]
  },
  {
   "cell_type": "code",
   "execution_count": 758,
   "id": "subject-bangladesh",
   "metadata": {},
   "outputs": [],
   "source": [
    "enrolls = ['no_enrollment','Part time course','Full time course']\n",
    "for i,v in enumerate(enrolls):\n",
    "    X.loc[X['enrolled_university'] == v, 'enrolled_university'] = i"
   ]
  },
  {
   "cell_type": "code",
   "execution_count": 759,
   "id": "expanded-thermal",
   "metadata": {},
   "outputs": [
    {
     "data": {
      "text/plain": [
       "0.0    13817\n",
       "2.0     3757\n",
       "1.0     1198\n",
       "NaN      386\n",
       "Name: enrolled_university, dtype: int64"
      ]
     },
     "execution_count": 759,
     "metadata": {},
     "output_type": "execute_result"
    }
   ],
   "source": [
    "X['enrolled_university'].value_counts(dropna=False)"
   ]
  },
  {
   "cell_type": "code",
   "execution_count": 760,
   "id": "waiting-justice",
   "metadata": {},
   "outputs": [
    {
     "name": "stdout",
     "output_type": "stream",
     "text": [
      "<class 'pandas.core.frame.DataFrame'>\n",
      "RangeIndex: 19158 entries, 0 to 19157\n",
      "Data columns (total 12 columns):\n",
      " #   Column                  Non-Null Count  Dtype  \n",
      "---  ------                  --------------  -----  \n",
      " 0   city                    19158 non-null  object \n",
      " 1   city_development_index  19158 non-null  float64\n",
      " 2   gender                  14650 non-null  object \n",
      " 3   relevent_experience     19158 non-null  object \n",
      " 4   enrolled_university     18772 non-null  object \n",
      " 5   education_level         18698 non-null  object \n",
      " 6   major_discipline        16345 non-null  object \n",
      " 7   experience              19093 non-null  float64\n",
      " 8   company_size            13220 non-null  object \n",
      " 9   company_type            13018 non-null  object \n",
      " 10  last_new_job            18735 non-null  float64\n",
      " 11  training_hours          19158 non-null  int64  \n",
      "dtypes: float64(3), int64(1), object(8)\n",
      "memory usage: 1.8+ MB\n"
     ]
    }
   ],
   "source": [
    "X.info()"
   ]
  },
  {
   "cell_type": "code",
   "execution_count": 761,
   "id": "comparative-lobby",
   "metadata": {},
   "outputs": [
    {
     "data": {
      "text/plain": [
       "company_type              6140\n",
       "company_size              5938\n",
       "gender                    4508\n",
       "major_discipline          2813\n",
       "education_level            460\n",
       "last_new_job               423\n",
       "enrolled_university        386\n",
       "experience                  65\n",
       "city                         0\n",
       "city_development_index       0\n",
       "relevent_experience          0\n",
       "training_hours               0\n",
       "dtype: int64"
      ]
     },
     "execution_count": 761,
     "metadata": {},
     "output_type": "execute_result"
    }
   ],
   "source": [
    "X.isna().sum().sort_values(ascending=False)"
   ]
  },
  {
   "cell_type": "markdown",
   "id": "warming-iceland",
   "metadata": {},
   "source": [
    "#### 결측치 3% 이하 컬럼의 결측치는 KNN으로 처리"
   ]
  },
  {
   "cell_type": "code",
   "execution_count": 762,
   "id": "portable-disney",
   "metadata": {},
   "outputs": [],
   "source": [
    "to_mode = ['education_level', 'enrolled_university',\n",
    "           'experience', 'last_new_job']"
   ]
  },
  {
   "cell_type": "code",
   "execution_count": 763,
   "id": "answering-fleece",
   "metadata": {},
   "outputs": [
    {
     "data": {
      "text/plain": [
       "['enrolled_university', 'education_level', 'experience', 'last_new_job']"
      ]
     },
     "execution_count": 763,
     "metadata": {},
     "output_type": "execute_result"
    }
   ],
   "source": [
    "limit = X.shape[0] * 0.03\n",
    "under_list = []\n",
    "for col in X.columns:\n",
    "    if 1 < X[col].isna().sum() < limit:\n",
    "        under_list.append(col)\n",
    "under_list"
   ]
  },
  {
   "cell_type": "code",
   "execution_count": 764,
   "id": "bigger-thought",
   "metadata": {},
   "outputs": [],
   "source": [
    "from sklearn.impute import KNNImputer\n",
    "\n",
    "imputer = KNNImputer(n_neighbors = 1)\n",
    "X[under_list] = imputer.fit_transform(X[under_list])"
   ]
  },
  {
   "cell_type": "code",
   "execution_count": 765,
   "id": "alternate-nowhere",
   "metadata": {},
   "outputs": [],
   "source": [
    "# 최빈값으로 결측치 처리\n",
    "# for col in to_mode:\n",
    "#     X.loc[X[col].isna(),col] = X[col].mode().values[0]   "
   ]
  },
  {
   "cell_type": "markdown",
   "id": "improved-arcade",
   "metadata": {},
   "source": [
    "#### gender: nan->위에서부터 반: Male / 나머지 반: Female"
   ]
  },
  {
   "cell_type": "code",
   "execution_count": 766,
   "id": "likely-bristol",
   "metadata": {},
   "outputs": [],
   "source": [
    "gender_nan_cnt = X['gender'].isna().sum()//2\n",
    "# 내 방법\n",
    "# idx = 0\n",
    "# for idx in range(X.shape[0]):\n",
    "#     if gender_nan_cnt <= 0:\n",
    "#         break\n",
    "#     if X.loc[idx,'gender'] == np.nan:\n",
    "#         X.loc[idx,'gender'] = 'Male'\n",
    "#         gender_nan_cnt -= 1\n",
    "# X.loc[X['gender'].isna(), 'gender'] = 'Female'\n",
    "\n",
    "# 우상님 방법\n",
    "X['gender'].fillna('Female', limit=gender_nan_cnt, inplace=True)\n",
    "X['gender'].fillna('Male', inplace=True)"
   ]
  },
  {
   "cell_type": "markdown",
   "id": "alert-switch",
   "metadata": {},
   "source": [
    "#### company_size, type"
   ]
  },
  {
   "cell_type": "code",
   "execution_count": 767,
   "id": "medical-rider",
   "metadata": {},
   "outputs": [],
   "source": [
    "X.loc[X['company_size'].isna(), 'company_size'] = 'unknown'\n",
    "X.loc[X['company_size']=='<10', 'company_size'] = '~10'\n",
    "X.loc[X['company_type'].isna(), 'company_type'] = 'unknown'"
   ]
  },
  {
   "cell_type": "markdown",
   "id": "imposed-attack",
   "metadata": {},
   "source": [
    "#### major: 비율 맞춰 major nomajor로 나눠 결측치 처리x\n",
    "#### -> 최빈값과 나머지의 합과의 비율 차이가 크므로 최빈값 major로 처리"
   ]
  },
  {
   "cell_type": "code",
   "execution_count": 768,
   "id": "eight-lesbian",
   "metadata": {},
   "outputs": [],
   "source": [
    "# # 비율맞춰 처리\n",
    "# stem = X['major_discipline'].value_counts(dropna=False)['STEM']\n",
    "# nonstem = X.shape[0] - X['major_discipline'].isna().sum() - stem\n",
    "# stem, nonstem"
   ]
  },
  {
   "cell_type": "code",
   "execution_count": 769,
   "id": "packed-blade",
   "metadata": {},
   "outputs": [],
   "source": [
    "# non_major_list = []\n",
    "# for val in X['major_discipline'].unique():\n",
    "#     if val != 'STEM':\n",
    "#         non_major_list.append(val)\n",
    "        \n",
    "# non_major = X['major_discipline'].isin(non_major_list)\n",
    "# major = X['major_discipline'] == 'STEM'\n",
    "\n",
    "# X.loc[non_major, 'major_discipline'] = 'non_major'\n",
    "# X.loc[major, 'major_discipline'] = 'major'"
   ]
  },
  {
   "cell_type": "code",
   "execution_count": 770,
   "id": "discrete-birth",
   "metadata": {},
   "outputs": [
    {
     "name": "stdout",
     "output_type": "stream",
     "text": [
      "['Humanities', 'Other', 'Business Degree', 'Arts', 'No Major']\n"
     ]
    }
   ],
   "source": [
    "nomajor_lst = list(X['major_discipline'].value_counts(dropna=False).index)\n",
    "nomajor_lst.remove(np.nan)\n",
    "nomajor_lst.remove('STEM')\n",
    "print(nomajor_lst)"
   ]
  },
  {
   "cell_type": "code",
   "execution_count": 771,
   "id": "statistical-cleaners",
   "metadata": {},
   "outputs": [],
   "source": [
    "# X.loc[X['major_discipline'] == 'STEM', 'major_discipline'] = 'major'\n",
    "# X.loc[X['major_discipline'].isin(nomajor_lst), 'major_discipline'] = 'no_major'"
   ]
  },
  {
   "cell_type": "code",
   "execution_count": 772,
   "id": "weighted-wells",
   "metadata": {},
   "outputs": [],
   "source": [
    "# major_limit = int(X['major_discipline'].isna().sum() / (stem+nonstem) * stem)\n",
    "# X['major_discipline'].fillna('major', limit=major_limit, inplace=True)\n",
    "# X['major_discipline'].fillna('no_major', inplace=True)"
   ]
  },
  {
   "cell_type": "code",
   "execution_count": 773,
   "id": "coupled-adrian",
   "metadata": {},
   "outputs": [],
   "source": [
    "X.loc[(X['major_discipline'] == 'STEM')|(X['major_discipline'].isna()) , 'major_discipline'] = 'major'\n",
    "X.loc[X['major_discipline'] != 'major', 'major_discipline'] = 'no_major'"
   ]
  },
  {
   "cell_type": "code",
   "execution_count": 774,
   "id": "conceptual-local",
   "metadata": {},
   "outputs": [
    {
     "data": {
      "text/plain": [
       "major       17305\n",
       "no_major     1853\n",
       "Name: major_discipline, dtype: int64"
      ]
     },
     "execution_count": 774,
     "metadata": {},
     "output_type": "execute_result"
    }
   ],
   "source": [
    "X['major_discipline'].value_counts()"
   ]
  },
  {
   "cell_type": "code",
   "execution_count": 775,
   "id": "liberal-tradition",
   "metadata": {
    "scrolled": true
   },
   "outputs": [
    {
     "name": "stdout",
     "output_type": "stream",
     "text": [
      "<class 'pandas.core.frame.DataFrame'>\n",
      "RangeIndex: 19158 entries, 0 to 19157\n",
      "Data columns (total 12 columns):\n",
      " #   Column                  Non-Null Count  Dtype  \n",
      "---  ------                  --------------  -----  \n",
      " 0   city                    19158 non-null  object \n",
      " 1   city_development_index  19158 non-null  float64\n",
      " 2   gender                  19158 non-null  object \n",
      " 3   relevent_experience     19158 non-null  object \n",
      " 4   enrolled_university     19158 non-null  float64\n",
      " 5   education_level         19158 non-null  float64\n",
      " 6   major_discipline        19158 non-null  object \n",
      " 7   experience              19158 non-null  float64\n",
      " 8   company_size            19158 non-null  object \n",
      " 9   company_type            19158 non-null  object \n",
      " 10  last_new_job            19158 non-null  float64\n",
      " 11  training_hours          19158 non-null  int64  \n",
      "dtypes: float64(5), int64(1), object(6)\n",
      "memory usage: 1.8+ MB\n"
     ]
    }
   ],
   "source": [
    "X.info()"
   ]
  },
  {
   "cell_type": "markdown",
   "id": "scientific-family",
   "metadata": {},
   "source": [
    "#### 라벨 인코딩"
   ]
  },
  {
   "cell_type": "code",
   "execution_count": 776,
   "id": "excellent-mississippi",
   "metadata": {},
   "outputs": [],
   "source": [
    "X['city'] = LabelEncoder().fit_transform(X['city'])"
   ]
  },
  {
   "cell_type": "markdown",
   "id": "legitimate-associate",
   "metadata": {},
   "source": [
    "#### 원핫인코딩"
   ]
  },
  {
   "cell_type": "code",
   "execution_count": 777,
   "id": "alternative-sixth",
   "metadata": {},
   "outputs": [
    {
     "data": {
      "text/plain": [
       "array(['unknown', '50-99', '~10', '10000+', '5000-9999', '1000-4999',\n",
       "       '10/49', '100-500', '500-999'], dtype=object)"
      ]
     },
     "execution_count": 777,
     "metadata": {},
     "output_type": "execute_result"
    }
   ],
   "source": [
    "X['company_size'].unique()"
   ]
  },
  {
   "cell_type": "code",
   "execution_count": 778,
   "id": "spatial-spoke",
   "metadata": {},
   "outputs": [
    {
     "data": {
      "text/plain": [
       "['gender',\n",
       " 'relevent_experience',\n",
       " 'major_discipline',\n",
       " 'company_size',\n",
       " 'company_type']"
      ]
     },
     "execution_count": 778,
     "metadata": {},
     "output_type": "execute_result"
    }
   ],
   "source": [
    "to_ohe = list(X.columns[X[X.columns].dtypes == 'object'])\n",
    "to_ohe"
   ]
  },
  {
   "cell_type": "code",
   "execution_count": 779,
   "id": "satisfactory-following",
   "metadata": {},
   "outputs": [
    {
     "data": {
      "text/plain": [
       "((19158, 7),\n",
       " Index(['enrollee_id', 'city', 'city_development_index', 'enrolled_university',\n",
       "        'education_level', 'experience', 'last_new_job', 'training_hours',\n",
       "        'target'],\n",
       "       dtype='object'))"
      ]
     },
     "execution_count": 779,
     "metadata": {},
     "output_type": "execute_result"
    }
   ],
   "source": [
    "# 원핫 인코딩x 컬럼들\n",
    "X_not_ohe = X.loc[:,~X.columns.isin(to_ohe)]\n",
    "X_not_ohe.shape, X_not_enc.columns"
   ]
  },
  {
   "cell_type": "code",
   "execution_count": 780,
   "id": "minus-crack",
   "metadata": {},
   "outputs": [
    {
     "data": {
      "text/html": [
       "<div>\n",
       "<style scoped>\n",
       "    .dataframe tbody tr th:only-of-type {\n",
       "        vertical-align: middle;\n",
       "    }\n",
       "\n",
       "    .dataframe tbody tr th {\n",
       "        vertical-align: top;\n",
       "    }\n",
       "\n",
       "    .dataframe thead th {\n",
       "        text-align: right;\n",
       "    }\n",
       "</style>\n",
       "<table border=\"1\" class=\"dataframe\">\n",
       "  <thead>\n",
       "    <tr style=\"text-align: right;\">\n",
       "      <th></th>\n",
       "      <th>gender</th>\n",
       "      <th>relevent_experience</th>\n",
       "      <th>major_discipline</th>\n",
       "      <th>company_size</th>\n",
       "      <th>company_type</th>\n",
       "    </tr>\n",
       "  </thead>\n",
       "  <tbody>\n",
       "    <tr>\n",
       "      <th>0</th>\n",
       "      <td>Male</td>\n",
       "      <td>Has relevent experience</td>\n",
       "      <td>major</td>\n",
       "      <td>unknown</td>\n",
       "      <td>unknown</td>\n",
       "    </tr>\n",
       "    <tr>\n",
       "      <th>1</th>\n",
       "      <td>Male</td>\n",
       "      <td>No relevent experience</td>\n",
       "      <td>major</td>\n",
       "      <td>50-99</td>\n",
       "      <td>Pvt Ltd</td>\n",
       "    </tr>\n",
       "    <tr>\n",
       "      <th>2</th>\n",
       "      <td>Female</td>\n",
       "      <td>No relevent experience</td>\n",
       "      <td>major</td>\n",
       "      <td>unknown</td>\n",
       "      <td>unknown</td>\n",
       "    </tr>\n",
       "    <tr>\n",
       "      <th>3</th>\n",
       "      <td>Female</td>\n",
       "      <td>No relevent experience</td>\n",
       "      <td>no_major</td>\n",
       "      <td>unknown</td>\n",
       "      <td>Pvt Ltd</td>\n",
       "    </tr>\n",
       "    <tr>\n",
       "      <th>4</th>\n",
       "      <td>Male</td>\n",
       "      <td>Has relevent experience</td>\n",
       "      <td>major</td>\n",
       "      <td>50-99</td>\n",
       "      <td>Funded Startup</td>\n",
       "    </tr>\n",
       "    <tr>\n",
       "      <th>...</th>\n",
       "      <td>...</td>\n",
       "      <td>...</td>\n",
       "      <td>...</td>\n",
       "      <td>...</td>\n",
       "      <td>...</td>\n",
       "    </tr>\n",
       "    <tr>\n",
       "      <th>19153</th>\n",
       "      <td>Male</td>\n",
       "      <td>No relevent experience</td>\n",
       "      <td>no_major</td>\n",
       "      <td>unknown</td>\n",
       "      <td>unknown</td>\n",
       "    </tr>\n",
       "    <tr>\n",
       "      <th>19154</th>\n",
       "      <td>Male</td>\n",
       "      <td>Has relevent experience</td>\n",
       "      <td>major</td>\n",
       "      <td>unknown</td>\n",
       "      <td>unknown</td>\n",
       "    </tr>\n",
       "    <tr>\n",
       "      <th>19155</th>\n",
       "      <td>Male</td>\n",
       "      <td>Has relevent experience</td>\n",
       "      <td>major</td>\n",
       "      <td>50-99</td>\n",
       "      <td>Pvt Ltd</td>\n",
       "    </tr>\n",
       "    <tr>\n",
       "      <th>19156</th>\n",
       "      <td>Male</td>\n",
       "      <td>Has relevent experience</td>\n",
       "      <td>major</td>\n",
       "      <td>500-999</td>\n",
       "      <td>Pvt Ltd</td>\n",
       "    </tr>\n",
       "    <tr>\n",
       "      <th>19157</th>\n",
       "      <td>Male</td>\n",
       "      <td>No relevent experience</td>\n",
       "      <td>major</td>\n",
       "      <td>unknown</td>\n",
       "      <td>unknown</td>\n",
       "    </tr>\n",
       "  </tbody>\n",
       "</table>\n",
       "<p>19158 rows × 5 columns</p>\n",
       "</div>"
      ],
      "text/plain": [
       "       gender      relevent_experience major_discipline company_size  \\\n",
       "0        Male  Has relevent experience            major      unknown   \n",
       "1        Male   No relevent experience            major        50-99   \n",
       "2      Female   No relevent experience            major      unknown   \n",
       "3      Female   No relevent experience         no_major      unknown   \n",
       "4        Male  Has relevent experience            major        50-99   \n",
       "...       ...                      ...              ...          ...   \n",
       "19153    Male   No relevent experience         no_major      unknown   \n",
       "19154    Male  Has relevent experience            major      unknown   \n",
       "19155    Male  Has relevent experience            major        50-99   \n",
       "19156    Male  Has relevent experience            major      500-999   \n",
       "19157    Male   No relevent experience            major      unknown   \n",
       "\n",
       "         company_type  \n",
       "0             unknown  \n",
       "1             Pvt Ltd  \n",
       "2             unknown  \n",
       "3             Pvt Ltd  \n",
       "4      Funded Startup  \n",
       "...               ...  \n",
       "19153         unknown  \n",
       "19154         unknown  \n",
       "19155         Pvt Ltd  \n",
       "19156         Pvt Ltd  \n",
       "19157         unknown  \n",
       "\n",
       "[19158 rows x 5 columns]"
      ]
     },
     "execution_count": 780,
     "metadata": {},
     "output_type": "execute_result"
    }
   ],
   "source": [
    "# 원핫 인코딩 컬럼들\n",
    "X_ohe = X[to_ohe]\n",
    "X_ohe"
   ]
  },
  {
   "cell_type": "code",
   "execution_count": 781,
   "id": "dedicated-military",
   "metadata": {},
   "outputs": [
    {
     "data": {
      "text/plain": [
       "((19158, 23),\n",
       " Index(['x0_Female', 'x0_Male', 'x0_Other', 'x1_Has relevent experience',\n",
       "        'x1_No relevent experience', 'x2_major', 'x2_no_major', 'x3_10/49',\n",
       "        'x3_100-500', 'x3_1000-4999', 'x3_10000+', 'x3_50-99', 'x3_500-999',\n",
       "        'x3_5000-9999', 'x3_unknown', 'x3_~10', 'x4_Early Stage Startup',\n",
       "        'x4_Funded Startup', 'x4_NGO', 'x4_Other', 'x4_Public Sector',\n",
       "        'x4_Pvt Ltd', 'x4_unknown'],\n",
       "       dtype='object'))"
      ]
     },
     "execution_count": 781,
     "metadata": {},
     "output_type": "execute_result"
    }
   ],
   "source": [
    "# 원핫인코딩 실행\n",
    "ohe = OneHotEncoder(sparse=False)\n",
    "X_df = ohe.fit_transform(X_ohe)\n",
    "X_ohe = pd.DataFrame(X_df, columns=ohe.get_feature_names())\n",
    "X_ohe.shape, X_ohe.columns"
   ]
  },
  {
   "cell_type": "code",
   "execution_count": 782,
   "id": "burning-sussex",
   "metadata": {},
   "outputs": [
    {
     "data": {
      "text/html": [
       "<div>\n",
       "<style scoped>\n",
       "    .dataframe tbody tr th:only-of-type {\n",
       "        vertical-align: middle;\n",
       "    }\n",
       "\n",
       "    .dataframe tbody tr th {\n",
       "        vertical-align: top;\n",
       "    }\n",
       "\n",
       "    .dataframe thead th {\n",
       "        text-align: right;\n",
       "    }\n",
       "</style>\n",
       "<table border=\"1\" class=\"dataframe\">\n",
       "  <thead>\n",
       "    <tr style=\"text-align: right;\">\n",
       "      <th></th>\n",
       "      <th>x0_Female</th>\n",
       "      <th>x0_Male</th>\n",
       "      <th>x0_Other</th>\n",
       "      <th>x1_Has relevent experience</th>\n",
       "      <th>x1_No relevent experience</th>\n",
       "      <th>x2_major</th>\n",
       "      <th>x2_no_major</th>\n",
       "      <th>x3_10/49</th>\n",
       "      <th>x3_100-500</th>\n",
       "      <th>x3_1000-4999</th>\n",
       "      <th>...</th>\n",
       "      <th>x4_Public Sector</th>\n",
       "      <th>x4_Pvt Ltd</th>\n",
       "      <th>x4_unknown</th>\n",
       "      <th>city</th>\n",
       "      <th>city_development_index</th>\n",
       "      <th>enrolled_university</th>\n",
       "      <th>education_level</th>\n",
       "      <th>experience</th>\n",
       "      <th>last_new_job</th>\n",
       "      <th>training_hours</th>\n",
       "    </tr>\n",
       "  </thead>\n",
       "  <tbody>\n",
       "    <tr>\n",
       "      <th>0</th>\n",
       "      <td>0.0</td>\n",
       "      <td>1.0</td>\n",
       "      <td>0.0</td>\n",
       "      <td>1.0</td>\n",
       "      <td>0.0</td>\n",
       "      <td>1.0</td>\n",
       "      <td>0.0</td>\n",
       "      <td>0.0</td>\n",
       "      <td>0.0</td>\n",
       "      <td>0.0</td>\n",
       "      <td>...</td>\n",
       "      <td>0.0</td>\n",
       "      <td>0.0</td>\n",
       "      <td>1.0</td>\n",
       "      <td>5</td>\n",
       "      <td>0.920</td>\n",
       "      <td>0.0</td>\n",
       "      <td>2.0</td>\n",
       "      <td>21.0</td>\n",
       "      <td>1.0</td>\n",
       "      <td>36</td>\n",
       "    </tr>\n",
       "    <tr>\n",
       "      <th>1</th>\n",
       "      <td>0.0</td>\n",
       "      <td>1.0</td>\n",
       "      <td>0.0</td>\n",
       "      <td>0.0</td>\n",
       "      <td>1.0</td>\n",
       "      <td>1.0</td>\n",
       "      <td>0.0</td>\n",
       "      <td>0.0</td>\n",
       "      <td>0.0</td>\n",
       "      <td>0.0</td>\n",
       "      <td>...</td>\n",
       "      <td>0.0</td>\n",
       "      <td>1.0</td>\n",
       "      <td>0.0</td>\n",
       "      <td>77</td>\n",
       "      <td>0.776</td>\n",
       "      <td>0.0</td>\n",
       "      <td>2.0</td>\n",
       "      <td>15.0</td>\n",
       "      <td>5.0</td>\n",
       "      <td>47</td>\n",
       "    </tr>\n",
       "    <tr>\n",
       "      <th>2</th>\n",
       "      <td>1.0</td>\n",
       "      <td>0.0</td>\n",
       "      <td>0.0</td>\n",
       "      <td>0.0</td>\n",
       "      <td>1.0</td>\n",
       "      <td>1.0</td>\n",
       "      <td>0.0</td>\n",
       "      <td>0.0</td>\n",
       "      <td>0.0</td>\n",
       "      <td>0.0</td>\n",
       "      <td>...</td>\n",
       "      <td>0.0</td>\n",
       "      <td>0.0</td>\n",
       "      <td>1.0</td>\n",
       "      <td>64</td>\n",
       "      <td>0.624</td>\n",
       "      <td>2.0</td>\n",
       "      <td>2.0</td>\n",
       "      <td>5.0</td>\n",
       "      <td>0.0</td>\n",
       "      <td>83</td>\n",
       "    </tr>\n",
       "    <tr>\n",
       "      <th>3</th>\n",
       "      <td>1.0</td>\n",
       "      <td>0.0</td>\n",
       "      <td>0.0</td>\n",
       "      <td>0.0</td>\n",
       "      <td>1.0</td>\n",
       "      <td>0.0</td>\n",
       "      <td>1.0</td>\n",
       "      <td>0.0</td>\n",
       "      <td>0.0</td>\n",
       "      <td>0.0</td>\n",
       "      <td>...</td>\n",
       "      <td>0.0</td>\n",
       "      <td>1.0</td>\n",
       "      <td>0.0</td>\n",
       "      <td>14</td>\n",
       "      <td>0.789</td>\n",
       "      <td>2.0</td>\n",
       "      <td>2.0</td>\n",
       "      <td>0.0</td>\n",
       "      <td>0.0</td>\n",
       "      <td>52</td>\n",
       "    </tr>\n",
       "    <tr>\n",
       "      <th>4</th>\n",
       "      <td>0.0</td>\n",
       "      <td>1.0</td>\n",
       "      <td>0.0</td>\n",
       "      <td>1.0</td>\n",
       "      <td>0.0</td>\n",
       "      <td>1.0</td>\n",
       "      <td>0.0</td>\n",
       "      <td>0.0</td>\n",
       "      <td>0.0</td>\n",
       "      <td>0.0</td>\n",
       "      <td>...</td>\n",
       "      <td>0.0</td>\n",
       "      <td>0.0</td>\n",
       "      <td>0.0</td>\n",
       "      <td>50</td>\n",
       "      <td>0.767</td>\n",
       "      <td>0.0</td>\n",
       "      <td>3.0</td>\n",
       "      <td>21.0</td>\n",
       "      <td>4.0</td>\n",
       "      <td>8</td>\n",
       "    </tr>\n",
       "    <tr>\n",
       "      <th>...</th>\n",
       "      <td>...</td>\n",
       "      <td>...</td>\n",
       "      <td>...</td>\n",
       "      <td>...</td>\n",
       "      <td>...</td>\n",
       "      <td>...</td>\n",
       "      <td>...</td>\n",
       "      <td>...</td>\n",
       "      <td>...</td>\n",
       "      <td>...</td>\n",
       "      <td>...</td>\n",
       "      <td>...</td>\n",
       "      <td>...</td>\n",
       "      <td>...</td>\n",
       "      <td>...</td>\n",
       "      <td>...</td>\n",
       "      <td>...</td>\n",
       "      <td>...</td>\n",
       "      <td>...</td>\n",
       "      <td>...</td>\n",
       "      <td>...</td>\n",
       "    </tr>\n",
       "    <tr>\n",
       "      <th>19153</th>\n",
       "      <td>0.0</td>\n",
       "      <td>1.0</td>\n",
       "      <td>0.0</td>\n",
       "      <td>0.0</td>\n",
       "      <td>1.0</td>\n",
       "      <td>0.0</td>\n",
       "      <td>1.0</td>\n",
       "      <td>0.0</td>\n",
       "      <td>0.0</td>\n",
       "      <td>0.0</td>\n",
       "      <td>...</td>\n",
       "      <td>0.0</td>\n",
       "      <td>0.0</td>\n",
       "      <td>1.0</td>\n",
       "      <td>55</td>\n",
       "      <td>0.878</td>\n",
       "      <td>0.0</td>\n",
       "      <td>2.0</td>\n",
       "      <td>14.0</td>\n",
       "      <td>1.0</td>\n",
       "      <td>42</td>\n",
       "    </tr>\n",
       "    <tr>\n",
       "      <th>19154</th>\n",
       "      <td>0.0</td>\n",
       "      <td>1.0</td>\n",
       "      <td>0.0</td>\n",
       "      <td>1.0</td>\n",
       "      <td>0.0</td>\n",
       "      <td>1.0</td>\n",
       "      <td>0.0</td>\n",
       "      <td>0.0</td>\n",
       "      <td>0.0</td>\n",
       "      <td>0.0</td>\n",
       "      <td>...</td>\n",
       "      <td>0.0</td>\n",
       "      <td>0.0</td>\n",
       "      <td>1.0</td>\n",
       "      <td>5</td>\n",
       "      <td>0.920</td>\n",
       "      <td>0.0</td>\n",
       "      <td>2.0</td>\n",
       "      <td>14.0</td>\n",
       "      <td>4.0</td>\n",
       "      <td>52</td>\n",
       "    </tr>\n",
       "    <tr>\n",
       "      <th>19155</th>\n",
       "      <td>0.0</td>\n",
       "      <td>1.0</td>\n",
       "      <td>0.0</td>\n",
       "      <td>1.0</td>\n",
       "      <td>0.0</td>\n",
       "      <td>1.0</td>\n",
       "      <td>0.0</td>\n",
       "      <td>0.0</td>\n",
       "      <td>0.0</td>\n",
       "      <td>0.0</td>\n",
       "      <td>...</td>\n",
       "      <td>0.0</td>\n",
       "      <td>1.0</td>\n",
       "      <td>0.0</td>\n",
       "      <td>5</td>\n",
       "      <td>0.920</td>\n",
       "      <td>0.0</td>\n",
       "      <td>2.0</td>\n",
       "      <td>21.0</td>\n",
       "      <td>4.0</td>\n",
       "      <td>44</td>\n",
       "    </tr>\n",
       "    <tr>\n",
       "      <th>19156</th>\n",
       "      <td>0.0</td>\n",
       "      <td>1.0</td>\n",
       "      <td>0.0</td>\n",
       "      <td>1.0</td>\n",
       "      <td>0.0</td>\n",
       "      <td>1.0</td>\n",
       "      <td>0.0</td>\n",
       "      <td>0.0</td>\n",
       "      <td>0.0</td>\n",
       "      <td>0.0</td>\n",
       "      <td>...</td>\n",
       "      <td>0.0</td>\n",
       "      <td>1.0</td>\n",
       "      <td>0.0</td>\n",
       "      <td>94</td>\n",
       "      <td>0.802</td>\n",
       "      <td>0.0</td>\n",
       "      <td>1.0</td>\n",
       "      <td>0.0</td>\n",
       "      <td>2.0</td>\n",
       "      <td>97</td>\n",
       "    </tr>\n",
       "    <tr>\n",
       "      <th>19157</th>\n",
       "      <td>0.0</td>\n",
       "      <td>1.0</td>\n",
       "      <td>0.0</td>\n",
       "      <td>0.0</td>\n",
       "      <td>1.0</td>\n",
       "      <td>1.0</td>\n",
       "      <td>0.0</td>\n",
       "      <td>0.0</td>\n",
       "      <td>0.0</td>\n",
       "      <td>0.0</td>\n",
       "      <td>...</td>\n",
       "      <td>0.0</td>\n",
       "      <td>0.0</td>\n",
       "      <td>1.0</td>\n",
       "      <td>95</td>\n",
       "      <td>0.855</td>\n",
       "      <td>0.0</td>\n",
       "      <td>0.0</td>\n",
       "      <td>2.0</td>\n",
       "      <td>1.0</td>\n",
       "      <td>127</td>\n",
       "    </tr>\n",
       "  </tbody>\n",
       "</table>\n",
       "<p>19158 rows × 30 columns</p>\n",
       "</div>"
      ],
      "text/plain": [
       "       x0_Female  x0_Male  x0_Other  x1_Has relevent experience  \\\n",
       "0            0.0      1.0       0.0                         1.0   \n",
       "1            0.0      1.0       0.0                         0.0   \n",
       "2            1.0      0.0       0.0                         0.0   \n",
       "3            1.0      0.0       0.0                         0.0   \n",
       "4            0.0      1.0       0.0                         1.0   \n",
       "...          ...      ...       ...                         ...   \n",
       "19153        0.0      1.0       0.0                         0.0   \n",
       "19154        0.0      1.0       0.0                         1.0   \n",
       "19155        0.0      1.0       0.0                         1.0   \n",
       "19156        0.0      1.0       0.0                         1.0   \n",
       "19157        0.0      1.0       0.0                         0.0   \n",
       "\n",
       "       x1_No relevent experience  x2_major  x2_no_major  x3_10/49  x3_100-500  \\\n",
       "0                            0.0       1.0          0.0       0.0         0.0   \n",
       "1                            1.0       1.0          0.0       0.0         0.0   \n",
       "2                            1.0       1.0          0.0       0.0         0.0   \n",
       "3                            1.0       0.0          1.0       0.0         0.0   \n",
       "4                            0.0       1.0          0.0       0.0         0.0   \n",
       "...                          ...       ...          ...       ...         ...   \n",
       "19153                        1.0       0.0          1.0       0.0         0.0   \n",
       "19154                        0.0       1.0          0.0       0.0         0.0   \n",
       "19155                        0.0       1.0          0.0       0.0         0.0   \n",
       "19156                        0.0       1.0          0.0       0.0         0.0   \n",
       "19157                        1.0       1.0          0.0       0.0         0.0   \n",
       "\n",
       "       x3_1000-4999  ...  x4_Public Sector  x4_Pvt Ltd  x4_unknown  city  \\\n",
       "0               0.0  ...               0.0         0.0         1.0     5   \n",
       "1               0.0  ...               0.0         1.0         0.0    77   \n",
       "2               0.0  ...               0.0         0.0         1.0    64   \n",
       "3               0.0  ...               0.0         1.0         0.0    14   \n",
       "4               0.0  ...               0.0         0.0         0.0    50   \n",
       "...             ...  ...               ...         ...         ...   ...   \n",
       "19153           0.0  ...               0.0         0.0         1.0    55   \n",
       "19154           0.0  ...               0.0         0.0         1.0     5   \n",
       "19155           0.0  ...               0.0         1.0         0.0     5   \n",
       "19156           0.0  ...               0.0         1.0         0.0    94   \n",
       "19157           0.0  ...               0.0         0.0         1.0    95   \n",
       "\n",
       "       city_development_index  enrolled_university  education_level  \\\n",
       "0                       0.920                  0.0              2.0   \n",
       "1                       0.776                  0.0              2.0   \n",
       "2                       0.624                  2.0              2.0   \n",
       "3                       0.789                  2.0              2.0   \n",
       "4                       0.767                  0.0              3.0   \n",
       "...                       ...                  ...              ...   \n",
       "19153                   0.878                  0.0              2.0   \n",
       "19154                   0.920                  0.0              2.0   \n",
       "19155                   0.920                  0.0              2.0   \n",
       "19156                   0.802                  0.0              1.0   \n",
       "19157                   0.855                  0.0              0.0   \n",
       "\n",
       "       experience  last_new_job  training_hours  \n",
       "0            21.0           1.0              36  \n",
       "1            15.0           5.0              47  \n",
       "2             5.0           0.0              83  \n",
       "3             0.0           0.0              52  \n",
       "4            21.0           4.0               8  \n",
       "...           ...           ...             ...  \n",
       "19153        14.0           1.0              42  \n",
       "19154        14.0           4.0              52  \n",
       "19155        21.0           4.0              44  \n",
       "19156         0.0           2.0              97  \n",
       "19157         2.0           1.0             127  \n",
       "\n",
       "[19158 rows x 30 columns]"
      ]
     },
     "execution_count": 782,
     "metadata": {},
     "output_type": "execute_result"
    }
   ],
   "source": [
    "# 합치기\n",
    "X_new = pd.concat([X_ohe, X_not_ohe], axis=1)\n",
    "X_new"
   ]
  },
  {
   "cell_type": "code",
   "execution_count": 783,
   "id": "annoying-prophet",
   "metadata": {},
   "outputs": [
    {
     "name": "stdout",
     "output_type": "stream",
     "text": [
      "<class 'pandas.core.frame.DataFrame'>\n",
      "RangeIndex: 19158 entries, 0 to 19157\n",
      "Data columns (total 30 columns):\n",
      " #   Column                      Non-Null Count  Dtype  \n",
      "---  ------                      --------------  -----  \n",
      " 0   x0_Female                   19158 non-null  float64\n",
      " 1   x0_Male                     19158 non-null  float64\n",
      " 2   x0_Other                    19158 non-null  float64\n",
      " 3   x1_Has relevent experience  19158 non-null  float64\n",
      " 4   x1_No relevent experience   19158 non-null  float64\n",
      " 5   x2_major                    19158 non-null  float64\n",
      " 6   x2_no_major                 19158 non-null  float64\n",
      " 7   x3_10/49                    19158 non-null  float64\n",
      " 8   x3_100-500                  19158 non-null  float64\n",
      " 9   x3_1000-4999                19158 non-null  float64\n",
      " 10  x3_10000+                   19158 non-null  float64\n",
      " 11  x3_50-99                    19158 non-null  float64\n",
      " 12  x3_500-999                  19158 non-null  float64\n",
      " 13  x3_5000-9999                19158 non-null  float64\n",
      " 14  x3_unknown                  19158 non-null  float64\n",
      " 15  x3_~10                      19158 non-null  float64\n",
      " 16  x4_Early Stage Startup      19158 non-null  float64\n",
      " 17  x4_Funded Startup           19158 non-null  float64\n",
      " 18  x4_NGO                      19158 non-null  float64\n",
      " 19  x4_Other                    19158 non-null  float64\n",
      " 20  x4_Public Sector            19158 non-null  float64\n",
      " 21  x4_Pvt Ltd                  19158 non-null  float64\n",
      " 22  x4_unknown                  19158 non-null  float64\n",
      " 23  city                        19158 non-null  int32  \n",
      " 24  city_development_index      19158 non-null  float64\n",
      " 25  enrolled_university         19158 non-null  float64\n",
      " 26  education_level             19158 non-null  float64\n",
      " 27  experience                  19158 non-null  float64\n",
      " 28  last_new_job                19158 non-null  float64\n",
      " 29  training_hours              19158 non-null  int64  \n",
      "dtypes: float64(28), int32(1), int64(1)\n",
      "memory usage: 4.3 MB\n"
     ]
    }
   ],
   "source": [
    "X_new.info()"
   ]
  },
  {
   "cell_type": "markdown",
   "id": "mineral-stamp",
   "metadata": {},
   "source": [
    "#### 테이블 저장"
   ]
  },
  {
   "cell_type": "code",
   "execution_count": 784,
   "id": "decent-correlation",
   "metadata": {},
   "outputs": [
    {
     "data": {
      "text/plain": [
       "(19158, 30)"
      ]
     },
     "execution_count": 784,
     "metadata": {},
     "output_type": "execute_result"
    }
   ],
   "source": [
    "X_new.shape"
   ]
  },
  {
   "cell_type": "code",
   "execution_count": 785,
   "id": "helpful-assurance",
   "metadata": {},
   "outputs": [],
   "source": [
    "X_new.to_csv('../data/prepcd_train.csv', index=False)"
   ]
  },
  {
   "cell_type": "markdown",
   "id": "billion-medicine",
   "metadata": {},
   "source": [
    "### 행 내 결측치 개수 별 drop행수"
   ]
  },
  {
   "cell_type": "code",
   "execution_count": 488,
   "id": "fabulous-honey",
   "metadata": {},
   "outputs": [
    {
     "ename": "KeyboardInterrupt",
     "evalue": "",
     "output_type": "error",
     "traceback": [
      "\u001b[1;31m----------------------------------------------------------------------\u001b[0m",
      "\u001b[1;31mKeyboardInterrupt\u001b[0m                    Traceback (most recent call last)",
      "\u001b[1;32m<ipython-input-488-0c33b318e575>\u001b[0m in \u001b[0;36m<module>\u001b[1;34m\u001b[0m\n\u001b[0;32m      4\u001b[0m     \u001b[0mcnt_to_del\u001b[0m \u001b[1;33m=\u001b[0m \u001b[1;36m0\u001b[0m\u001b[1;33m\u001b[0m\u001b[1;33m\u001b[0m\u001b[0m\n\u001b[0;32m      5\u001b[0m     \u001b[1;32mfor\u001b[0m \u001b[0mi\u001b[0m \u001b[1;32min\u001b[0m \u001b[0mX\u001b[0m\u001b[1;33m.\u001b[0m\u001b[0mindex\u001b[0m\u001b[1;33m:\u001b[0m\u001b[1;33m\u001b[0m\u001b[1;33m\u001b[0m\u001b[0m\n\u001b[1;32m----> 6\u001b[1;33m         \u001b[1;32mif\u001b[0m \u001b[0mX\u001b[0m\u001b[1;33m.\u001b[0m\u001b[0mloc\u001b[0m\u001b[1;33m[\u001b[0m\u001b[0mi\u001b[0m\u001b[1;33m]\u001b[0m\u001b[1;33m.\u001b[0m\u001b[0misna\u001b[0m\u001b[1;33m(\u001b[0m\u001b[1;33m)\u001b[0m\u001b[1;33m.\u001b[0m\u001b[0msum\u001b[0m\u001b[1;33m(\u001b[0m\u001b[1;33m)\u001b[0m \u001b[1;33m>=\u001b[0m \u001b[0mj\u001b[0m\u001b[1;33m:\u001b[0m\u001b[1;33m\u001b[0m\u001b[1;33m\u001b[0m\u001b[0m\n\u001b[0m\u001b[0;32m      7\u001b[0m             \u001b[0mcnt_to_del\u001b[0m \u001b[1;33m+=\u001b[0m \u001b[1;36m1\u001b[0m\u001b[1;33m\u001b[0m\u001b[1;33m\u001b[0m\u001b[0m\n\u001b[0;32m      8\u001b[0m \u001b[1;31m#             drop_index.append(i)\u001b[0m\u001b[1;33m\u001b[0m\u001b[1;33m\u001b[0m\u001b[1;33m\u001b[0m\u001b[0m\n",
      "\u001b[1;32mc:\\users\\inje.jeong\\anaconda3\\envs\\ml\\lib\\site-packages\\pandas\\core\\series.py\u001b[0m in \u001b[0;36misna\u001b[1;34m(self)\u001b[0m\n\u001b[0;32m   4778\u001b[0m     \u001b[1;33m@\u001b[0m\u001b[0mdoc\u001b[0m\u001b[1;33m(\u001b[0m\u001b[0mNDFrame\u001b[0m\u001b[1;33m.\u001b[0m\u001b[0misna\u001b[0m\u001b[1;33m,\u001b[0m \u001b[0mklass\u001b[0m\u001b[1;33m=\u001b[0m\u001b[0m_shared_doc_kwargs\u001b[0m\u001b[1;33m[\u001b[0m\u001b[1;34m\"klass\"\u001b[0m\u001b[1;33m]\u001b[0m\u001b[1;33m)\u001b[0m\u001b[1;33m\u001b[0m\u001b[1;33m\u001b[0m\u001b[0m\n\u001b[0;32m   4779\u001b[0m     \u001b[1;32mdef\u001b[0m \u001b[0misna\u001b[0m\u001b[1;33m(\u001b[0m\u001b[0mself\u001b[0m\u001b[1;33m)\u001b[0m \u001b[1;33m->\u001b[0m \u001b[1;34m\"Series\"\u001b[0m\u001b[1;33m:\u001b[0m\u001b[1;33m\u001b[0m\u001b[1;33m\u001b[0m\u001b[0m\n\u001b[1;32m-> 4780\u001b[1;33m         \u001b[1;32mreturn\u001b[0m \u001b[0mgeneric\u001b[0m\u001b[1;33m.\u001b[0m\u001b[0mNDFrame\u001b[0m\u001b[1;33m.\u001b[0m\u001b[0misna\u001b[0m\u001b[1;33m(\u001b[0m\u001b[0mself\u001b[0m\u001b[1;33m)\u001b[0m\u001b[1;33m\u001b[0m\u001b[1;33m\u001b[0m\u001b[0m\n\u001b[0m\u001b[0;32m   4781\u001b[0m \u001b[1;33m\u001b[0m\u001b[0m\n\u001b[0;32m   4782\u001b[0m     \u001b[1;33m@\u001b[0m\u001b[0mdoc\u001b[0m\u001b[1;33m(\u001b[0m\u001b[0mNDFrame\u001b[0m\u001b[1;33m.\u001b[0m\u001b[0misna\u001b[0m\u001b[1;33m,\u001b[0m \u001b[0mklass\u001b[0m\u001b[1;33m=\u001b[0m\u001b[0m_shared_doc_kwargs\u001b[0m\u001b[1;33m[\u001b[0m\u001b[1;34m\"klass\"\u001b[0m\u001b[1;33m]\u001b[0m\u001b[1;33m)\u001b[0m\u001b[1;33m\u001b[0m\u001b[1;33m\u001b[0m\u001b[0m\n",
      "\u001b[1;32mc:\\users\\inje.jeong\\anaconda3\\envs\\ml\\lib\\site-packages\\pandas\\core\\generic.py\u001b[0m in \u001b[0;36misna\u001b[1;34m(self)\u001b[0m\n\u001b[0;32m   7475\u001b[0m         \u001b[0mdtype\u001b[0m\u001b[1;33m:\u001b[0m \u001b[0mbool\u001b[0m\u001b[1;33m\u001b[0m\u001b[1;33m\u001b[0m\u001b[0m\n\u001b[0;32m   7476\u001b[0m         \"\"\"\n\u001b[1;32m-> 7477\u001b[1;33m         \u001b[1;32mreturn\u001b[0m \u001b[0misna\u001b[0m\u001b[1;33m(\u001b[0m\u001b[0mself\u001b[0m\u001b[1;33m)\u001b[0m\u001b[1;33m.\u001b[0m\u001b[0m__finalize__\u001b[0m\u001b[1;33m(\u001b[0m\u001b[0mself\u001b[0m\u001b[1;33m,\u001b[0m \u001b[0mmethod\u001b[0m\u001b[1;33m=\u001b[0m\u001b[1;34m\"isna\"\u001b[0m\u001b[1;33m)\u001b[0m\u001b[1;33m\u001b[0m\u001b[1;33m\u001b[0m\u001b[0m\n\u001b[0m\u001b[0;32m   7478\u001b[0m \u001b[1;33m\u001b[0m\u001b[0m\n\u001b[0;32m   7479\u001b[0m     \u001b[1;33m@\u001b[0m\u001b[0mdoc\u001b[0m\u001b[1;33m(\u001b[0m\u001b[0misna\u001b[0m\u001b[1;33m,\u001b[0m \u001b[0mklass\u001b[0m\u001b[1;33m=\u001b[0m\u001b[0m_shared_doc_kwargs\u001b[0m\u001b[1;33m[\u001b[0m\u001b[1;34m\"klass\"\u001b[0m\u001b[1;33m]\u001b[0m\u001b[1;33m)\u001b[0m\u001b[1;33m\u001b[0m\u001b[1;33m\u001b[0m\u001b[0m\n",
      "\u001b[1;32mc:\\users\\inje.jeong\\anaconda3\\envs\\ml\\lib\\site-packages\\pandas\\core\\dtypes\\missing.py\u001b[0m in \u001b[0;36misna\u001b[1;34m(obj)\u001b[0m\n\u001b[0;32m    125\u001b[0m     \u001b[0mName\u001b[0m\u001b[1;33m:\u001b[0m \u001b[1;36m1\u001b[0m\u001b[1;33m,\u001b[0m \u001b[0mdtype\u001b[0m\u001b[1;33m:\u001b[0m \u001b[0mbool\u001b[0m\u001b[1;33m\u001b[0m\u001b[1;33m\u001b[0m\u001b[0m\n\u001b[0;32m    126\u001b[0m     \"\"\"\n\u001b[1;32m--> 127\u001b[1;33m     \u001b[1;32mreturn\u001b[0m \u001b[0m_isna\u001b[0m\u001b[1;33m(\u001b[0m\u001b[0mobj\u001b[0m\u001b[1;33m)\u001b[0m\u001b[1;33m\u001b[0m\u001b[1;33m\u001b[0m\u001b[0m\n\u001b[0m\u001b[0;32m    128\u001b[0m \u001b[1;33m\u001b[0m\u001b[0m\n\u001b[0;32m    129\u001b[0m \u001b[1;33m\u001b[0m\u001b[0m\n",
      "\u001b[1;32mc:\\users\\inje.jeong\\anaconda3\\envs\\ml\\lib\\site-packages\\pandas\\core\\dtypes\\missing.py\u001b[0m in \u001b[0;36m_isna\u001b[1;34m(obj, inf_as_na)\u001b[0m\n\u001b[0;32m    158\u001b[0m         \u001b[1;32mreturn\u001b[0m \u001b[1;32mFalse\u001b[0m\u001b[1;33m\u001b[0m\u001b[1;33m\u001b[0m\u001b[0m\n\u001b[0;32m    159\u001b[0m     \u001b[1;32melif\u001b[0m \u001b[0misinstance\u001b[0m\u001b[1;33m(\u001b[0m\u001b[0mobj\u001b[0m\u001b[1;33m,\u001b[0m \u001b[1;33m(\u001b[0m\u001b[0mABCSeries\u001b[0m\u001b[1;33m,\u001b[0m \u001b[0mnp\u001b[0m\u001b[1;33m.\u001b[0m\u001b[0mndarray\u001b[0m\u001b[1;33m,\u001b[0m \u001b[0mABCIndexClass\u001b[0m\u001b[1;33m,\u001b[0m \u001b[0mABCExtensionArray\u001b[0m\u001b[1;33m)\u001b[0m\u001b[1;33m)\u001b[0m\u001b[1;33m:\u001b[0m\u001b[1;33m\u001b[0m\u001b[1;33m\u001b[0m\u001b[0m\n\u001b[1;32m--> 160\u001b[1;33m         \u001b[1;32mreturn\u001b[0m \u001b[0m_isna_ndarraylike\u001b[0m\u001b[1;33m(\u001b[0m\u001b[0mobj\u001b[0m\u001b[1;33m,\u001b[0m \u001b[0minf_as_na\u001b[0m\u001b[1;33m=\u001b[0m\u001b[0minf_as_na\u001b[0m\u001b[1;33m)\u001b[0m\u001b[1;33m\u001b[0m\u001b[1;33m\u001b[0m\u001b[0m\n\u001b[0m\u001b[0;32m    161\u001b[0m     \u001b[1;32melif\u001b[0m \u001b[0misinstance\u001b[0m\u001b[1;33m(\u001b[0m\u001b[0mobj\u001b[0m\u001b[1;33m,\u001b[0m \u001b[0mABCDataFrame\u001b[0m\u001b[1;33m)\u001b[0m\u001b[1;33m:\u001b[0m\u001b[1;33m\u001b[0m\u001b[1;33m\u001b[0m\u001b[0m\n\u001b[0;32m    162\u001b[0m         \u001b[1;32mreturn\u001b[0m \u001b[0mobj\u001b[0m\u001b[1;33m.\u001b[0m\u001b[0misna\u001b[0m\u001b[1;33m(\u001b[0m\u001b[1;33m)\u001b[0m\u001b[1;33m\u001b[0m\u001b[1;33m\u001b[0m\u001b[0m\n",
      "\u001b[1;32mc:\\users\\inje.jeong\\anaconda3\\envs\\ml\\lib\\site-packages\\pandas\\core\\dtypes\\missing.py\u001b[0m in \u001b[0;36m_isna_ndarraylike\u001b[1;34m(obj, inf_as_na)\u001b[0m\n\u001b[0;32m    225\u001b[0m             \u001b[0mresult\u001b[0m \u001b[1;33m=\u001b[0m \u001b[0mvalues\u001b[0m\u001b[1;33m.\u001b[0m\u001b[0misna\u001b[0m\u001b[1;33m(\u001b[0m\u001b[1;33m)\u001b[0m\u001b[1;33m\u001b[0m\u001b[1;33m\u001b[0m\u001b[0m\n\u001b[0;32m    226\u001b[0m     \u001b[1;32melif\u001b[0m \u001b[0mis_string_dtype\u001b[0m\u001b[1;33m(\u001b[0m\u001b[0mdtype\u001b[0m\u001b[1;33m)\u001b[0m\u001b[1;33m:\u001b[0m\u001b[1;33m\u001b[0m\u001b[1;33m\u001b[0m\u001b[0m\n\u001b[1;32m--> 227\u001b[1;33m         \u001b[0mresult\u001b[0m \u001b[1;33m=\u001b[0m \u001b[0m_isna_string_dtype\u001b[0m\u001b[1;33m(\u001b[0m\u001b[0mvalues\u001b[0m\u001b[1;33m,\u001b[0m \u001b[0mdtype\u001b[0m\u001b[1;33m,\u001b[0m \u001b[0minf_as_na\u001b[0m\u001b[1;33m=\u001b[0m\u001b[0minf_as_na\u001b[0m\u001b[1;33m)\u001b[0m\u001b[1;33m\u001b[0m\u001b[1;33m\u001b[0m\u001b[0m\n\u001b[0m\u001b[0;32m    228\u001b[0m     \u001b[1;32melif\u001b[0m \u001b[0mneeds_i8_conversion\u001b[0m\u001b[1;33m(\u001b[0m\u001b[0mdtype\u001b[0m\u001b[1;33m)\u001b[0m\u001b[1;33m:\u001b[0m\u001b[1;33m\u001b[0m\u001b[1;33m\u001b[0m\u001b[0m\n\u001b[0;32m    229\u001b[0m         \u001b[1;31m# this is the NaT pattern\u001b[0m\u001b[1;33m\u001b[0m\u001b[1;33m\u001b[0m\u001b[1;33m\u001b[0m\u001b[0m\n",
      "\u001b[1;32mc:\\users\\inje.jeong\\anaconda3\\envs\\ml\\lib\\site-packages\\pandas\\core\\dtypes\\missing.py\u001b[0m in \u001b[0;36m_isna_string_dtype\u001b[1;34m(values, dtype, inf_as_na)\u001b[0m\n\u001b[0;32m    257\u001b[0m             \u001b[0mvec\u001b[0m \u001b[1;33m=\u001b[0m \u001b[0mlibmissing\u001b[0m\u001b[1;33m.\u001b[0m\u001b[0misnaobj\u001b[0m\u001b[1;33m(\u001b[0m\u001b[0mvalues\u001b[0m\u001b[1;33m.\u001b[0m\u001b[0mravel\u001b[0m\u001b[1;33m(\u001b[0m\u001b[1;33m)\u001b[0m\u001b[1;33m)\u001b[0m\u001b[1;33m\u001b[0m\u001b[1;33m\u001b[0m\u001b[0m\n\u001b[0;32m    258\u001b[0m \u001b[1;33m\u001b[0m\u001b[0m\n\u001b[1;32m--> 259\u001b[1;33m         \u001b[0mresult\u001b[0m\u001b[1;33m[\u001b[0m\u001b[1;33m...\u001b[0m\u001b[1;33m]\u001b[0m \u001b[1;33m=\u001b[0m \u001b[0mvec\u001b[0m\u001b[1;33m.\u001b[0m\u001b[0mreshape\u001b[0m\u001b[1;33m(\u001b[0m\u001b[0mshape\u001b[0m\u001b[1;33m)\u001b[0m\u001b[1;33m\u001b[0m\u001b[1;33m\u001b[0m\u001b[0m\n\u001b[0m\u001b[0;32m    260\u001b[0m \u001b[1;33m\u001b[0m\u001b[0m\n\u001b[0;32m    261\u001b[0m     \u001b[1;32mreturn\u001b[0m \u001b[0mresult\u001b[0m\u001b[1;33m\u001b[0m\u001b[1;33m\u001b[0m\u001b[0m\n",
      "\u001b[1;31mKeyboardInterrupt\u001b[0m: "
     ]
    }
   ],
   "source": [
    "# drop_index = {}\n",
    "\n",
    "# for j in range(X.shape[1]):\n",
    "#     cnt_to_del = 0\n",
    "#     for i in X.index:\n",
    "#         if X.loc[i].isna().sum() >= j:\n",
    "#             cnt_to_del += 1\n",
    "# #             drop_index.append(i)\n",
    "#     drop_index[j] = cnt_to_del\n",
    "\n",
    "# print(len(drop_index))"
   ]
  },
  {
   "cell_type": "code",
   "execution_count": null,
   "id": "answering-belgium",
   "metadata": {},
   "outputs": [],
   "source": [
    "drop_index"
   ]
  },
  {
   "cell_type": "code",
   "execution_count": null,
   "id": "elder-series",
   "metadata": {},
   "outputs": [],
   "source": [
    "def nul_churi(df, H_P_0=4, H_P_1=500, H_P_2='mode'):\n",
    "    df_new = df.copy()\n",
    "    how_to_left = ['mode','max','mean','median']\n",
    "    class InvalidModeError(Exception):\n",
    "        def __init__(self, invalid_mode):\n",
    "            self.invalid_mode = invalid_mode\n",
    "        def __str__(self):\n",
    "            return f\"{self.invalid_mode} - 사용할 수 없는 모드입니다. 입력값 확인!\"\n",
    "        \n",
    "    if type(H_P_0) != int and type(H_P_1) != int and H_P_2 not in how_to_left:\n",
    "        raise InvalidModeError(mode)\n",
    "        \n",
    "#     drop_list = []\n",
    "#     for col in df_new.columns:\n",
    "#         if 1 <= df_new[col].isna().sum() <= H_P_0:\n",
    "#             drop_list.append(col)\n",
    "#     print(drop_list)\n",
    "#     df_new.dropna(subset=drop_list, inplace=True)\n",
    "    # 한 행 결측치 개수 기준\n",
    "    drop_index = []\n",
    "    for i in df_new.index:\n",
    "        if df_new.loc[i].isna().sum() >= H_P_0:\n",
    "            df_new.drop(index=i, inplace=True)\n",
    "    \n",
    "#     for col in df_new.columns:\n",
    "#         if 1 <= df_new[col].isna().sum() <= H_P_1:\n",
    "#             if H_P_1=='mode':\n",
    "#                 df_new.loc[df_new[col].isna(), col] = df_new[col].mode()[0]\n",
    "#             elif H_P_1=='max':\n",
    "#                 df_new.loc[df_new[col].isna(), col] = df_new[col].max()[0]\n",
    "#             elif H_P_1=='mean':\n",
    "#                 df_new.loc[df_new[col].isna(), col] = df_new[col].mean()[0]\n",
    "#             elif H_P_1=='median':\n",
    "#                 df_new.loc[df_new[col].isna(), col] = df_new[col].median()[0]\n",
    "                \n",
    "    return df_new"
   ]
  },
  {
   "cell_type": "code",
   "execution_count": null,
   "id": "floral-hamburg",
   "metadata": {},
   "outputs": [],
   "source": [
    "@my_time\n",
    "def a():\n",
    "    X_train = nul_churi(X,4,500,'mode')\n",
    "    \n",
    "a()"
   ]
  },
  {
   "cell_type": "code",
   "execution_count": null,
   "id": "thermal-explorer",
   "metadata": {},
   "outputs": [],
   "source": [
    "for i in ['city_development_index']:#,'training_hours']:\n",
    "    X_train[i].value_counts().sort_index().plot()"
   ]
  },
  {
   "cell_type": "code",
   "execution_count": null,
   "id": "extra-entrepreneur",
   "metadata": {
    "scrolled": true
   },
   "outputs": [],
   "source": [
    "X_train.info()"
   ]
  },
  {
   "cell_type": "code",
   "execution_count": null,
   "id": "sitting-joseph",
   "metadata": {},
   "outputs": [],
   "source": [
    "# 모든 처리 끝낸 후 데이터 분리\n",
    "X_train, y_train = X_train.drop(columns=['enrollee_id','target']), X_train['target']"
   ]
  },
  {
   "cell_type": "code",
   "execution_count": null,
   "id": "adolescent-cyprus",
   "metadata": {},
   "outputs": [],
   "source": [
    "from sklearn.preprocessing import OneHotEncoder, LabelEncoder\n",
    "\n",
    "# 트레인/테스트 범주형 컬럼 전체 다 레이블인코딩\n",
    "def enco(x):\n",
    "    if x.dtypes=='object':\n",
    "        le = LabelEncoder()\n",
    "        xx = le.fit_transform(x)\n",
    "        return xx\n",
    "    else:\n",
    "        return x\n",
    "\n",
    "X_train = X_train.apply(enco)\n",
    "X_test = X_test.apply(enco)\n",
    "X_train.head()"
   ]
  },
  {
   "cell_type": "code",
   "execution_count": null,
   "id": "municipal-savage",
   "metadata": {},
   "outputs": [],
   "source": [
    "X_train.head()"
   ]
  },
  {
   "cell_type": "code",
   "execution_count": null,
   "id": "atmospheric-fight",
   "metadata": {},
   "outputs": [],
   "source": [
    "params = {\n",
    "    'max_depth':range(2,20),\n",
    "    'min_samples_leaf':range(100,1000,200),\n",
    "    'max_leaf_nodes':range(5,50,10)\n",
    "}\n",
    "\n",
    "tree = DecisionTreeClassifier(random_state=1)\n",
    "gs = GridSearchCV(tree,\n",
    "                 param_grid=params,\n",
    "                  scoring='accuracy',\n",
    "                  cv=10,\n",
    "                  n_jobs=-1\n",
    "                 )"
   ]
  },
  {
   "cell_type": "code",
   "execution_count": null,
   "id": "local-cooperation",
   "metadata": {},
   "outputs": [],
   "source": [
    "@my_time\n",
    "def detree_train():\n",
    "    gs.fit(X_train, y_train)\n",
    "    \n",
    "detree_train()"
   ]
  },
  {
   "cell_type": "code",
   "execution_count": null,
   "id": "chinese-sociology",
   "metadata": {
    "scrolled": true
   },
   "outputs": [],
   "source": [
    "df = pd.DataFrame(gs.cv_results_)\n",
    "df.sort_values(\"rank_test_score\")"
   ]
  },
  {
   "cell_type": "code",
   "execution_count": null,
   "id": "clear-christmas",
   "metadata": {},
   "outputs": [],
   "source": [
    "fi = gs.best_estimator_.feature_importances_\n",
    "fi_s = pd.Series(fi, index=X_train.columns)\n",
    "fi_s.sort_values(ascending=False)"
   ]
  }
 ],
 "metadata": {
  "kernelspec": {
   "display_name": "Python 3",
   "language": "python",
   "name": "python3"
  },
  "language_info": {
   "codemirror_mode": {
    "name": "ipython",
    "version": 3
   },
   "file_extension": ".py",
   "mimetype": "text/x-python",
   "name": "python",
   "nbconvert_exporter": "python",
   "pygments_lexer": "ipython3",
   "version": "3.7.10"
  }
 },
 "nbformat": 4,
 "nbformat_minor": 5
}
