{
 "cells": [
  {
   "cell_type": "code",
   "execution_count": null,
   "metadata": {},
   "outputs": [],
   "source": [
    "1st - 파이선 표준 라이브러리\n",
    "2nd - application (내가 직접 만든 라이브러리)\n",
    "3rd party library - 공유하는 라이브러리"
   ]
  },
  {
   "cell_type": "markdown",
   "metadata": {},
   "source": [
    "# 함수\n",
    "\n",
    "```python\n",
    "def 함수이름([변수,변수,..]): # 변수: 파라미터,매개변수\n",
    "    실행문\n",
    "    [return 반환값] # return이 실행 안되면 None이 반환.\n",
    "```\n",
    "- 함수이름: 관례적으로 소문자만 사용. 단어와 단어는 '_'로 연결.\n",
    "    - 어떤 값을 제공하는 함수: get_제공하는 값\n",
    "        - ex) get_name(), get_age()\n",
    "    - 어떤 값을 변경하는 함수: set_변경할 값\n",
    "        - ex) set_name(), set_age()\n",
    "    - 어떤 값을 제거: remove_삭제할 값\n",
    "        - ex) remove_name(), remove_age()"
   ]
  },
  {
   "cell_type": "code",
   "execution_count": 3,
   "metadata": {},
   "outputs": [],
   "source": [
    "def say_hello(): #선언부 - 코드작성 + 실행 (메모리에 올려 호출할 수 있게 해준다.)\n",
    "    # 구현부(필수적으로 작성해야 함)\n",
    "    print(\"안녕하세요\")"
   ]
  },
  {
   "cell_type": "code",
   "execution_count": 4,
   "metadata": {
    "scrolled": true
   },
   "outputs": [
    {
     "name": "stdout",
     "output_type": "stream",
     "text": [
      "안녕하세요\n"
     ]
    }
   ],
   "source": [
    "# 호출 = 함수이름([전달할 값])\n",
    "say_hello()"
   ]
  },
  {
   "cell_type": "code",
   "execution_count": 1,
   "metadata": {},
   "outputs": [],
   "source": [
    "def say_hello2(name): # name: 변수\n",
    "    print(f\"{name}님 안녕하세요\")"
   ]
  },
  {
   "cell_type": "code",
   "execution_count": 2,
   "metadata": {},
   "outputs": [
    {
     "name": "stdout",
     "output_type": "stream",
     "text": [
      "홍길동님 안녕하세요\n"
     ]
    }
   ],
   "source": [
    "say_hello2(\"홍길동\")"
   ]
  },
  {
   "cell_type": "code",
   "execution_count": 3,
   "metadata": {},
   "outputs": [],
   "source": [
    "def say_hello3(name):\n",
    "    greeting=f\"{name}님 안녕하세요, {name}, Hello\"\n",
    "    return greeting"
   ]
  },
  {
   "cell_type": "code",
   "execution_count": 4,
   "metadata": {},
   "outputs": [
    {
     "name": "stdout",
     "output_type": "stream",
     "text": [
      "slango님 안녕하세요, slango, Hello\n"
     ]
    }
   ],
   "source": [
    "g=say_hello3('slango')\n",
    "print(g)"
   ]
  },
  {
   "cell_type": "code",
   "execution_count": 7,
   "metadata": {},
   "outputs": [
    {
     "name": "stdout",
     "output_type": "stream",
     "text": [
      "slango님 안녕하세요\n",
      "None\n"
     ]
    }
   ],
   "source": [
    "r=say_hello2('slango')\n",
    "print(r) # say_hello2는 프린트만 하고 return을 안했기 때문에 None 저장."
   ]
  },
  {
   "cell_type": "code",
   "execution_count": 8,
   "metadata": {},
   "outputs": [
    {
     "name": "stdout",
     "output_type": "stream",
     "text": [
      "abc\n",
      "None\n"
     ]
    }
   ],
   "source": [
    "j=print('abc')\n",
    "print(j)"
   ]
  },
  {
   "cell_type": "code",
   "execution_count": 14,
   "metadata": {},
   "outputs": [],
   "source": [
    "def calculate(n1,n2):\n",
    "    a=n1+n2\n",
    "    b=n1-n2\n",
    "    c=n1*n2\n",
    "    d=n1/n2\n",
    "    # return [a,b,c,d]\n",
    "    return a,b,c,d\n",
    "# return 값. 반환값: 반드시 하나만 가능"
   ]
  },
  {
   "cell_type": "code",
   "execution_count": 15,
   "metadata": {},
   "outputs": [
    {
     "name": "stdout",
     "output_type": "stream",
     "text": [
      "(15, 5, 50, 2.0)\n"
     ]
    }
   ],
   "source": [
    "result=calculate(10,5)\n",
    "print(result)"
   ]
  },
  {
   "cell_type": "code",
   "execution_count": 16,
   "metadata": {},
   "outputs": [
    {
     "name": "stdout",
     "output_type": "stream",
     "text": [
      "덧셈: 6, 뺄셈: 2, 곱셈: 8, 나눗셈: 2.0\n"
     ]
    }
   ],
   "source": [
    "a,b,c,d=calculate(4,2)\n",
    "print(f\"덧셈: {a}, 뺄셈: {b}, 곱셈: {c}, 나눗셈: {d}\")"
   ]
  },
  {
   "cell_type": "code",
   "execution_count": 18,
   "metadata": {},
   "outputs": [],
   "source": [
    "def calculate2(n1,n2):\n",
    "    a=n1+n2\n",
    "    b=n1-n2\n",
    "    c=n1*n2\n",
    "    d=None\n",
    "    if n2:\n",
    "        d=n1/n2\n",
    "    return a,b,c,d\n",
    "# return 값. 반환값: 반드시 하나만 가능"
   ]
  },
  {
   "cell_type": "code",
   "execution_count": 19,
   "metadata": {},
   "outputs": [
    {
     "name": "stdout",
     "output_type": "stream",
     "text": [
      "덧셈: 6, 뺄셈: 2, 곱셈: 8, 나눗셈: 2.0\n"
     ]
    }
   ],
   "source": [
    "a,b,c,d=calculate(4,2)\n",
    "print(f\"덧셈: {a}, 뺄셈: {b}, 곱셈: {c}, 나눗셈: {d}\")"
   ]
  },
  {
   "cell_type": "markdown",
   "metadata": {},
   "source": [
    "## 매개변수 선언의 여러가지 문법\n",
    "\n",
    "### Positinal Parameter(Argument)\n",
    "- 매개변수를 순서대로 나열한 것.\n",
    "    - ex) def my_func(a,b,c):\n",
    "- 호출할 때 각 변수에 전달할 값을 순서대로 나열한다. 전달할 값 생략불가능.\n",
    "    - ex) my_func(10,20,30) a<=10,b<=20,c<=30\n",
    "    - ex) my_func(10,20) c에 전달할 값이 없으므로 에러"
   ]
  },
  {
   "cell_type": "code",
   "execution_count": 48,
   "metadata": {},
   "outputs": [
    {
     "name": "stdout",
     "output_type": "stream",
     "text": [
      "이름: slango, 나이: 20, 키: 175.8\n"
     ]
    }
   ],
   "source": [
    "def print_info(name,age,tall):\n",
    "    print(f\"이름: {name}, 나이: {age}, 키: {tall}\")\n",
    "    \n",
    "print_info('slango',20,175.8)"
   ]
  },
  {
   "cell_type": "markdown",
   "metadata": {},
   "source": [
    "### 기본값이 있는 매개변수\n",
    "- 매개변수 선언시 값을 대입한다.\n",
    "- 기본값이 있는 매개변수\n",
    "\n",
    "### Keyword Parameter(Argument-키워드 인자)\n",
    "- 호출시 전달할 값(Argument)을 어떤 변수에 대입할 지 변수명을 이용해 지정할 수 있다."
   ]
  },
  {
   "cell_type": "code",
   "execution_count": 2,
   "metadata": {},
   "outputs": [],
   "source": [
    "def print_info2(name=None,age=None,tall=None):\n",
    "    print(f\"이름: {name}, 나이: {age}, 키: {tall}\")"
   ]
  },
  {
   "cell_type": "code",
   "execution_count": 6,
   "metadata": {},
   "outputs": [
    {
     "name": "stdout",
     "output_type": "stream",
     "text": [
      "이름: slango, 나이: 35, 키: 183.8\n",
      "이름: django, 나이: None, 키: None\n",
      "이름: slango, 나이: 30, 키: 180\n",
      "이름: slango, 나이: 30, 키: 180\n"
     ]
    }
   ],
   "source": [
    "print_info2('slango',35,183.8)\n",
    "print_info2('django')\n",
    "print_info2(tall=180,age=30,name='slango')\n",
    "print_info2(age=30,name='slango',tall=180)"
   ]
  },
  {
   "cell_type": "markdown",
   "metadata": {},
   "source": [
    "### 기본값이 없는 매개변수와 있는 매개변수 같이 선언할 때, 반드시 없는 매개변수 먼저 선언해야 한다."
   ]
  },
  {
   "cell_type": "code",
   "execution_count": 47,
   "metadata": {},
   "outputs": [
    {
     "name": "stdout",
     "output_type": "stream",
     "text": [
      "이름: slango, 나이: 20, 키: 80, 몸무게: None\n"
     ]
    }
   ],
   "source": [
    "# 이렇게해야하고\n",
    "def print_info3(name,age,address,tall=None, weight=None):\n",
    "\n",
    "# 아래처럼 하면 안된다.\n",
    "# def print_info3(name,age,tall=None, weight=None,address):\n",
    "    print(f\"이름: {name}, 나이: {age}, 키: {tall}, 몸무게: {weight}\")\n",
    "    \n",
    "print_info3('slango',20,180,80)"
   ]
  },
  {
   "cell_type": "markdown",
   "metadata": {},
   "source": [
    "## 가변인자\n",
    "- def 함수명(*변수명) : 0 ~ n 개의 \n",
    "- "
   ]
  },
  {
   "cell_type": "code",
   "execution_count": 8,
   "metadata": {},
   "outputs": [
    {
     "name": "stdout",
     "output_type": "stream",
     "text": [
      "[1, 2, 3, 4]\n",
      "<class 'list'>\n"
     ]
    }
   ],
   "source": [
    "# 리스트를 받아서 총 합계를 구하는 함수\n",
    "def sum_nums(num_list):\n",
    "    print(num_list)\n",
    "    print(type(num_list))\n",
    "\n",
    "sum_nums([1,2,3,4])"
   ]
  },
  {
   "cell_type": "code",
   "execution_count": 5,
   "metadata": {},
   "outputs": [
    {
     "name": "stdout",
     "output_type": "stream",
     "text": [
      "()\n",
      "<class 'tuple'>\n",
      "(1, 2, 3)\n",
      "<class 'tuple'>\n",
      "(1, 2, 3, 4, 5, 6, 7)\n",
      "<class 'tuple'>\n",
      "([1, 2, 3],)\n",
      "<class 'tuple'>\n",
      "(1, 2, 3)\n",
      "<class 'tuple'>\n"
     ]
    }
   ],
   "source": [
    "def sum_nums2(*num_list): # '*'를 붙이면 가변인자로 인식.\n",
    "    print(num_list)\n",
    "    print(type(num_list))\n",
    "\n",
    "sum_nums2()\n",
    "sum_nums2(1,2,3)\n",
    "sum_nums2(1,2,3,4,5,6,7)\n",
    "nums=[1,2,3]\n",
    "sum_nums2(nums)     # 리스트 1개를 전달             sum_nums2([1,2,3])\n",
    "sum_nums2(*nums)   # 리스트의 원소들을 풀어서 전달  sum_nums2(1,2,3)"
   ]
  },
  {
   "cell_type": "markdown",
   "metadata": {},
   "source": [
    "- def 함수명(**변수명)\n",
    "    - 호출할 때 keyword 인자 형태로 전다랗고 가변인수는 이것을 dictionary로 처리한다.\n",
    "    - 관례적으로 변수명은 kwargs 로 준다."
   ]
  },
  {
   "cell_type": "code",
   "execution_count": 1,
   "metadata": {},
   "outputs": [
    {
     "name": "stdout",
     "output_type": "stream",
     "text": [
      "{'name': 'slango', 'age': 20}\n",
      "<class 'dict'>\n"
     ]
    }
   ],
   "source": [
    "def person_info(**info):\n",
    "    print(info)\n",
    "    print(type(info))\n",
    "\n",
    "# person_info('홍길동',20)\n",
    "person_info(name='slango',age=20) # dict()처럼 인자들 처리."
   ]
  },
  {
   "cell_type": "code",
   "execution_count": 46,
   "metadata": {},
   "outputs": [
    {
     "name": "stdout",
     "output_type": "stream",
     "text": [
      "{'id': 'id-1', 'password': '1111', 'name': 'slango'}\n",
      "<class 'dict'>\n",
      "{}\n",
      "<class 'dict'>\n",
      "{'name': 'slango'}\n",
      "<class 'dict'>\n",
      "{'name': 'slangi', 'age': 20, 'address': 'seoul', 'tall': 180, 'weight': 80.2}\n",
      "<class 'dict'>\n"
     ]
    }
   ],
   "source": [
    "d={\n",
    "    'id':'id-1',\n",
    "    'password':'1111',\n",
    "    'name':'slango'\n",
    "}\n",
    "\n",
    "person_info(**d)\n",
    "person_info()\n",
    "person_info(name='slango')\n",
    "person_info(name='slangi',age=20,address='seoul',tall=180,weight=80.2)"
   ]
  },
  {
   "cell_type": "markdown",
   "metadata": {},
   "source": [
    "- 하나의 함수 정의당 가변인자는 각각 한개씩만 가능\n",
    "- 가변인자와 일반 매개변수를 같이 선언할 경우 일반 매개변수를 먼저 선언해야 한다.\n",
    "- 이름 관례 : \\*args, \\*\\*kwargs"
   ]
  },
  {
   "cell_type": "code",
   "execution_count": 6,
   "metadata": {
    "scrolled": true
   },
   "outputs": [
    {
     "name": "stdout",
     "output_type": "stream",
     "text": [
      "(1, 2, 3, 4, 5, 6, 7)\n",
      "{}\n",
      "(1, 2, 3, 4, 5, 6, 7)\n",
      "{'name': '이름', 'address': '주소'}\n"
     ]
    }
   ],
   "source": [
    "# def test(a,b,*args):\n",
    "# def test(a,b,*args,*args2): # 같은 종류의 가변인자를 2개 이상 선언할 수 없다.\n",
    "#     print(a,b,args)\n",
    "test(1,2,3,4,5,6,7)\n",
    "\n",
    "def test(*args,**kwargs):\n",
    "    print(args)\n",
    "    print(kwargs)\n",
    "    \n",
    "test(1,2,3,4,5,6,7,name='이름',address='주소')"
   ]
  },
  {
   "cell_type": "code",
   "execution_count": null,
   "metadata": {},
   "outputs": [],
   "source": [
    "def print_info(name,age,address):\n",
    "    print(f'이름:{name},나이:{age},address:{address}\")"
   ]
  },
  {
   "cell_type": "code",
   "execution_count": null,
   "metadata": {},
   "outputs": [],
   "source": [
    "def print_info(**kwargs):\n",
    "    print(f'이름:{kwargs[name]},나이:{kwargs[age]},address:{kwargs[address]}\")"
   ]
  },
  {
   "cell_type": "code",
   "execution_count": 10,
   "metadata": {},
   "outputs": [
    {
     "ename": "NameError",
     "evalue": "name 'test2' is not defined",
     "output_type": "error",
     "traceback": [
      "\u001b[1;31m----------------------------------------------------------------------\u001b[0m",
      "\u001b[1;31mNameError\u001b[0m                            Traceback (most recent call last)",
      "\u001b[1;32m<ipython-input-10-65bca5ab7381>\u001b[0m in \u001b[0;36m<module>\u001b[1;34m\u001b[0m\n\u001b[1;32m----> 1\u001b[1;33m \u001b[0mi\u001b[0m\u001b[1;33m=\u001b[0m\u001b[0mtest2\u001b[0m\u001b[1;33m(\u001b[0m\u001b[1;36m1\u001b[0m\u001b[1;33m,\u001b[0m\u001b[1;36m2\u001b[0m\u001b[1;33m,\u001b[0m\u001b[1;36m3\u001b[0m\u001b[1;33m,\u001b[0m\u001b[1;36m4\u001b[0m\u001b[1;33m,\u001b[0m\u001b[1;36m5\u001b[0m\u001b[1;33m,\u001b[0m\u001b[0mname\u001b[0m\u001b[1;33m=\u001b[0m\u001b[1;34m'slang'\u001b[0m\u001b[1;33m,\u001b[0m\u001b[0maddress\u001b[0m\u001b[1;33m=\u001b[0m\u001b[1;34m'주소'\u001b[0m\u001b[1;33m)\u001b[0m\u001b[1;33m\u001b[0m\u001b[1;33m\u001b[0m\u001b[0m\n\u001b[0m\u001b[0;32m      2\u001b[0m \u001b[0mprint\u001b[0m\u001b[1;33m(\u001b[0m\u001b[0mi\u001b[0m\u001b[1;33m)\u001b[0m\u001b[1;33m\u001b[0m\u001b[1;33m\u001b[0m\u001b[0m\n",
      "\u001b[1;31mNameError\u001b[0m: name 'test2' is not defined"
     ]
    }
   ],
   "source": [
    "i=test2(1,2,3,4,5,name='slang',address='주소')\n",
    "print(i)"
   ]
  },
  {
   "cell_type": "code",
   "execution_count": null,
   "metadata": {},
   "outputs": [],
   "source": []
  },
  {
   "cell_type": "markdown",
   "metadata": {},
   "source": [
    "## 변수의 유효범위(Scope)"
   ]
  },
  {
   "cell_type": "code",
   "execution_count": 11,
   "metadata": {},
   "outputs": [
    {
     "name": "stdout",
     "output_type": "stream",
     "text": [
      "10\n"
     ]
    }
   ],
   "source": [
    "def my_func():\n",
    "    # 함수 내에서 선언된 변수: 지역변수(Local Variable)\n",
    "    x=10\n",
    "    print(x)\n",
    "    \n",
    "my_func()"
   ]
  },
  {
   "cell_type": "code",
   "execution_count": 18,
   "metadata": {},
   "outputs": [
    {
     "name": "stdout",
     "output_type": "stream",
     "text": [
      "1000\n",
      "50\n",
      "1000\n",
      "100\n"
     ]
    }
   ],
   "source": [
    "var=1000 # 전역변수(Global Variable)\n",
    "def test_func():\n",
    "    var=50\n",
    "    print(var)\n",
    "    \n",
    "def test_func2():\n",
    "    print(var)\n",
    "    \n",
    "def test_func3():\n",
    "    global var # 이제부터 var에 값을 전역변수 var에 대입하겠다.\n",
    "    var=100\n",
    "    print(var)\n",
    "\n",
    "print(var)\n",
    "test_func()   # 지역변수\n",
    "test_func2()  # 전역변수\n",
    "test_func3()  # 전역변수(재할당)"
   ]
  },
  {
   "cell_type": "code",
   "execution_count": null,
   "metadata": {},
   "outputs": [],
   "source": []
  },
  {
   "cell_type": "markdown",
   "metadata": {},
   "source": [
    "## 함수(Function)는 일급시민객체(First Class Citizen Object)\n",
    "\n",
    "### 일급시민객체\n",
    "- 변수에 대입할 수 있는 값(타입)\n",
    "- 함수 호출시 매개변수로 전달할 수 있는 값(타입)(argument)\n",
    "- 함수의 반환값으로 사용할 수 있는 값(타입)"
   ]
  },
  {
   "cell_type": "code",
   "execution_count": 20,
   "metadata": {},
   "outputs": [
    {
     "name": "stdout",
     "output_type": "stream",
     "text": [
      "10\n",
      "10\n"
     ]
    }
   ],
   "source": [
    "a=10 # 정수(int)\n",
    "def test_func(num):\n",
    "    print(num)\n",
    "    return 10\n",
    "\n",
    "i=test_func(10) # int 10을 argument\n",
    "print(i)\n",
    "# 따라서 int(정수)는 일급시민객체이다.->함수도 값이다."
   ]
  },
  {
   "cell_type": "code",
   "execution_count": 33,
   "metadata": {
    "scrolled": true
   },
   "outputs": [
    {
     "name": "stdout",
     "output_type": "stream",
     "text": [
      "안녕하세요\n",
      "<function plus at 0x000001757D30CDC0>\n",
      "안녕하세요\n",
      "3\n",
      "안녕하세요\n",
      "안녕하세요\n"
     ]
    },
    {
     "data": {
      "text/plain": [
       "3"
      ]
     },
     "execution_count": 33,
     "metadata": {},
     "output_type": "execute_result"
    }
   ],
   "source": [
    "# 함수의 이름: hello \n",
    "def plus(n1,n2):\n",
    "    print('안녕하세요')\n",
    "    return n1+n2\n",
    "    \n",
    "v=plus(1,2)      # hello함수 호출 후 반환된 값을 변수 v에 대입.\n",
    "print(plus)\n",
    "print(plus(1,2))\n",
    "my_hello=plus # hello함수 자체를 my_hello에 대입.\n",
    "my_hello(1,2)\n",
    "your_hello=plus\n",
    "your_hello(1,2)"
   ]
  },
  {
   "cell_type": "code",
   "execution_count": 37,
   "metadata": {},
   "outputs": [
    {
     "name": "stdout",
     "output_type": "stream",
     "text": [
      "30\n",
      "-10\n",
      "200\n"
     ]
    }
   ],
   "source": [
    "def calculate(func):\n",
    "    n1=10\n",
    "    n2=20\n",
    "    print(func(n1,n2))\n",
    "    \n",
    "def plus(n1,n2):\n",
    "    return n1+n2\n",
    "\n",
    "def minus(n1,n2):\n",
    "    return n1-n2\n",
    "\n",
    "def multiply(n1,n2):\n",
    "    return n1*n2\n",
    "    \n",
    "calculate(plus)\n",
    "calculate(minus)\n",
    "calculate(multiply)"
   ]
  },
  {
   "cell_type": "code",
   "execution_count": 1,
   "metadata": {},
   "outputs": [],
   "source": [
    "?sorted"
   ]
  },
  {
   "cell_type": "code",
   "execution_count": 41,
   "metadata": {},
   "outputs": [
    {
     "name": "stdout",
     "output_type": "stream",
     "text": [
      "[(0, 100, 1), (1, 2, 3), (10, -10, 5)]\n",
      "[(10, -10, 5), (1, 2, 3), (0, 100, 1)]\n"
     ]
    }
   ],
   "source": [
    "# 튜플을 받아 index 1의 값을 반환\n",
    "def get_key(tu):\n",
    "    return tu[1]\n",
    "\n",
    "lst=[\n",
    "    (1,2,3),\n",
    "    (10,-10,5),\n",
    "    (0,100,1)\n",
    "]\n",
    "print(sorted(lst)) # ,key=함수) # 오름차순\n",
    "print(sorted(lst,key=get_key))"
   ]
  },
  {
   "cell_type": "code",
   "execution_count": 44,
   "metadata": {
    "scrolled": true
   },
   "outputs": [
    {
     "name": "stdout",
     "output_type": "stream",
     "text": [
      "10\n",
      "[(10, -10, 5), (1, 2, 3), (0, 100, 1)]\n",
      "[(0, 100, 1), (1, 2, 3), (10, -10, 5)]\n"
     ]
    }
   ],
   "source": [
    "def tu_sum(tu):\n",
    "    return sum(tu)\n",
    "\n",
    "print(tu_sum((1,2,3,4)))\n",
    "print(sorted(lst,key=tu_sum))\n",
    "print(sorted(lst,key=tu_sum,reverse=True))"
   ]
  },
  {
   "cell_type": "markdown",
   "metadata": {},
   "source": [
    "### 람다표현식(람다식-Lambda Expression)\n",
    "- 단일 구문으로 표현하는 익명함수\n",
    "    - 익명함수: 이름(함수선언)없이 구현만 가지고 있는 함수 표현식\n",
    "- 일회성 사용 함수를 만들때 주로 사용\n",
    "    - 함수호출시 매개변수에 함수를 전달할 때 많이 사용\n",
    "- 구문\n",
    "```python\n",
    "lambda [매개변수] : 실행문\n",
    "```\n",
    "- 실행문: 하나의 구문만 가능, 실행문의 처리결과를 자동으로 반환(리턴 구문 필요 없다(생략한다))"
   ]
  },
  {
   "cell_type": "code",
   "execution_count": null,
   "metadata": {},
   "outputs": [],
   "source": [
    "def plus(num1,num2):\n",
    "    return num1+num2"
   ]
  },
  {
   "cell_type": "code",
   "execution_count": 49,
   "metadata": {},
   "outputs": [
    {
     "name": "stdout",
     "output_type": "stream",
     "text": [
      "30\n",
      "300\n"
     ]
    }
   ],
   "source": [
    "p=lambda num1,num2:num1+num2\n",
    "print(p(10,20))\n",
    "print(p(100,200))"
   ]
  },
  {
   "cell_type": "code",
   "execution_count": 51,
   "metadata": {},
   "outputs": [
    {
     "name": "stdout",
     "output_type": "stream",
     "text": [
      "30\n"
     ]
    }
   ],
   "source": [
    "def calculate(func):\n",
    "    n1=10\n",
    "    n2=20\n",
    "    print(func(n1,n2))\n",
    "\n",
    "calculate(lambda num1,num2:num1+num2)"
   ]
  },
  {
   "cell_type": "code",
   "execution_count": 52,
   "metadata": {},
   "outputs": [
    {
     "data": {
      "text/plain": [
       "[(10, -10, 5), (1, 2, 3), (0, 100, 1)]"
      ]
     },
     "execution_count": 52,
     "metadata": {},
     "output_type": "execute_result"
    }
   ],
   "source": [
    "# 튜플들의 총합을 기준으로 sorting\n",
    "lst=[\n",
    "    (1,2,3),\n",
    "    (10,-10,5),\n",
    "    (0,100,1)\n",
    "]\n",
    "\n",
    "sorted(lst,key=lambda t:sum(t))"
   ]
  },
  {
   "cell_type": "code",
   "execution_count": 3,
   "metadata": {},
   "outputs": [
    {
     "data": {
      "text/plain": [
       "['aaccsfsc', 'zxvsfaf', 'adsfd', 'sfsd']"
      ]
     },
     "execution_count": 3,
     "metadata": {},
     "output_type": "execute_result"
    }
   ],
   "source": [
    "# 글자수 많은 순서대로 정렬\n",
    "str_list=['adsfd','sfsd','aaccsfsc','zxvsfaf']\n",
    "\n",
    "# def check_length(s):\n",
    "#     return len(s)\n",
    "\n",
    "# sorted(str_list,key=check_length)\n",
    "sorted(str_list,key=lambda x:len(x),reverse=True)"
   ]
  },
  {
   "cell_type": "code",
   "execution_count": 7,
   "metadata": {},
   "outputs": [
    {
     "name": "stdout",
     "output_type": "stream",
     "text": [
      "['a', 'b', 'c']\n"
     ]
    },
    {
     "data": {
      "text/plain": [
       "{'c': 50, 'b': 100, 'a': 200}"
      ]
     },
     "execution_count": 7,
     "metadata": {},
     "output_type": "execute_result"
    }
   ],
   "source": [
    "# dictionary 정렬\n",
    "dic={\n",
    "    'b':100,\n",
    "    'a':200,\n",
    "    'c':50\n",
    "}\n",
    "print(sorted(dic))\n",
    "\n",
    "# value를 기준으로 정렬을 하려는 경우\n",
    "# (전제: value의 데이터 타입이 동일한 경우)\n",
    "result=sorted(dic.items(),key=lambda x:x[1])\n",
    "{k:v for k,v in result}"
   ]
  },
  {
   "cell_type": "markdown",
   "metadata": {},
   "source": [
    "- filter(함수, Iterable): Iterable의 원소들 중에서 특정 조건을 만족하는 원소들만 걸러주는 함수\n",
    "    - 함수: bool값을 반환\n",
    "    - Iterable의 원소 각각을 함수의 매개변수로 전달. 함수가 True를 반환하는 원소만 반환\n",
    "\n",
    "- map(함수, Iterable): Iterable의 원소들 각각을 처리해서 그 처리결과를 반환\n",
    "    - 함수: 어떻게 처리할지 정의. 매개변수 1개. 반환값은 원소를 처리한 결과\n",
    "    - lazy 실행: 어떻게 처리할지만 정해놓고 실제 연산은 호출할 때만 처리\n",
    "\n",
    "- filter/map 함수의 반환타입은 iterable(generator)"
   ]
  },
  {
   "cell_type": "code",
   "execution_count": 20,
   "metadata": {},
   "outputs": [],
   "source": [
    "num_list=list(range(50))"
   ]
  },
  {
   "cell_type": "code",
   "execution_count": 21,
   "metadata": {},
   "outputs": [
    {
     "name": "stdout",
     "output_type": "stream",
     "text": [
      "[0, 10, 20, 30, 40]\n"
     ]
    }
   ],
   "source": [
    "# 10의 배수만 걸러내기\n",
    "\n",
    "# def check(x):\n",
    "#     return not (x%10)\n",
    "\n",
    "f=filter(lambda x:not (x%10), num_list) # filter(check, num_list)\n",
    "# for i in f:\n",
    "#     print(i,end=' ')\n",
    "print(list(f))\n",
    "\n",
    "[i for i in num_list if not (i%10)]\n",
    "f=filter(lambda x:not (x%10),num_list)"
   ]
  },
  {
   "cell_type": "code",
   "execution_count": 23,
   "metadata": {},
   "outputs": [
    {
     "data": {
      "text/plain": [
       "<map at 0x2110802c040>"
      ]
     },
     "execution_count": 23,
     "metadata": {},
     "output_type": "execute_result"
    }
   ],
   "source": [
    "# num_list의 각 값들(원소들)을 10배한 값을 반환.\n",
    "\n",
    "# def change(x):\n",
    "#     return x*10\n",
    "\n",
    "m=map(lambda x:x*10,num_list) # (change,num_list)\n",
    "m\n",
    "\n",
    "for i in m:\n",
    "    print(i)"
   ]
  },
  {
   "cell_type": "markdown",
   "metadata": {},
   "source": [
    "## docstring\n",
    "- 함수/class에 대한 설명\n",
    "- 함수선언부와 구현부 사이에 여러줄 짜리 문자열(\"\"\" \"\"\") 로 작성한다.\n",
    "- 함수가 하는 역할, 매개변수 설명, 리턴값 설명."
   ]
  },
  {
   "cell_type": "code",
   "execution_count": 25,
   "metadata": {},
   "outputs": [],
   "source": [
    "def print_info(name, age, address):\n",
    "    \"\"\"\n",
    "    여기에 설명(docstring) 작성\n",
    "    ex) 회원 정보를 출력하는 함수\n",
    "    설명1, 설명2, \n",
    "    [매개변수]\n",
    "        name: str - 회원 이름\n",
    "        age: int - 회원 나이\n",
    "        address: str - 회원 주소\n",
    "    [반환값]\n",
    "        int - 나이에 10을 곱한 값\n",
    "    \"\"\"\n",
    "    \n",
    "    print(f\"이름:{name}, 나이: {age}, 주소: {address}\")\n",
    "    return age*10"
   ]
  },
  {
   "cell_type": "code",
   "execution_count": null,
   "metadata": {},
   "outputs": [],
   "source": [
    "# docstring 조회방법\n",
    "# ?print_info\n",
    "# print_info # Shift + Tab"
   ]
  },
  {
   "cell_type": "markdown",
   "metadata": {},
   "source": [
    "### pass 키워드(예약어)"
   ]
  },
  {
   "cell_type": "code",
   "execution_count": 26,
   "metadata": {},
   "outputs": [],
   "source": [
    "def test():\n",
    "    pass\n",
    "    #To Do 구현은 나중에"
   ]
  },
  {
   "cell_type": "code",
   "execution_count": null,
   "metadata": {},
   "outputs": [],
   "source": [
    "if False:\n",
    "    pass\n",
    "for i in range(10):\n",
    "    pass"
   ]
  },
  {
   "cell_type": "markdown",
   "metadata": {},
   "source": [
    "## 연습문제"
   ]
  },
  {
   "cell_type": "code",
   "execution_count": 27,
   "metadata": {},
   "outputs": [
    {
     "name": "stdout",
     "output_type": "stream",
     "text": [
      "3\n",
      "3 x 1 = 3\n",
      "3 x 2 = 6\n",
      "3 x 3 = 9\n",
      "3 x 4 = 12\n",
      "3 x 5 = 15\n",
      "3 x 6 = 18\n",
      "3 x 7 = 21\n",
      "3 x 8 = 24\n",
      "3 x 9 = 27\n"
     ]
    }
   ],
   "source": [
    "# 1. 사용자가 입력한 단의 구구단을 출력하는 함수를 구현\n",
    "\n",
    "def gugudan():\n",
    "    v = int(input())\n",
    "    for i in range(1, 10):\n",
    "        print(\"{0} x {1} = {2}\".format(v, i, v*i))\n",
    "        \n",
    "gugudan()"
   ]
  },
  {
   "cell_type": "code",
   "execution_count": 28,
   "metadata": {},
   "outputs": [
    {
     "name": "stdout",
     "output_type": "stream",
     "text": [
      "1\n",
      "3\n",
      "6\n"
     ]
    }
   ],
   "source": [
    "# 2. 시작 정수, 끝 정수를 받아 그 사이의 모든 정수의 합을 구해서 반환하는 함수를 구현\n",
    "\n",
    "def sum1():\n",
    "    v1 = int(input())\n",
    "    v2 = int(input())\n",
    "    range_lst = list(range(v1, v2+1))\n",
    "    ret = 0\n",
    "    for i in range_lst:\n",
    "        ret +=i\n",
    "    return ret\n",
    "    \n",
    "print(sum1())"
   ]
  },
  {
   "cell_type": "code",
   "execution_count": 29,
   "metadata": {},
   "outputs": [
    {
     "name": "stdout",
     "output_type": "stream",
     "text": [
      "1\n",
      "3\n",
      "6\n"
     ]
    }
   ],
   "source": [
    "# 3. 1번 문제에서 시작을 받지 않은 경우 0을, 끝 정수를 받지 않으면 10이 들어가도록 구현을 변경\n",
    "\n",
    "def sum2(v1=0,v2=10):\n",
    "    \"\"\"\n",
    "    시작정수부터 끝정수에 포함된 모든 정수의 합계를 계산하여 반환\n",
    "    [매개변수]\n",
    "        start: int - 시작정수\n",
    "        end: int - 종료정조\n",
    "    [반환값]\n",
    "        int: 총합계\n",
    "    \"\"\"\n",
    "    v1 = int(input())\n",
    "    v2 = int(input())\n",
    "#     range_lst = list(range(v1, v2+1))\n",
    "#     ret = 0\n",
    "#     for i in range_lst:\n",
    "#         ret +=i\n",
    "#     return ret\n",
    "    return sum(range(v1,v2+1))\n",
    "    \n",
    "print(sum2())"
   ]
  },
  {
   "cell_type": "code",
   "execution_count": 30,
   "metadata": {},
   "outputs": [
    {
     "name": "stdout",
     "output_type": "stream",
     "text": [
      "저체중\n"
     ]
    }
   ],
   "source": [
    "# 4. 체질량 지수(體質量指數, Body Mass Index, BMI)는 비만도를 나타내는 지수로 키가 a미터 이고 몸무게가 b kg일때 b/a**2 로 구한다.\n",
    "# 체질량 지수가\n",
    "#- 18.5 미만이면 저체중\n",
    "#- 18.5이상 25미만이면 정상\n",
    "#- 25이상이면 과체중\n",
    "#- 30이상이면 비만으로 하는데\n",
    "#몸무게와 키를 매개변수로 받아 비만인지 과체중인지 반환하는 함수를 구현하시오.\n",
    "# 람다식\n",
    "\n",
    "def bmi(a,b):\n",
    "    d=lambda a, b: b/a**2\n",
    "    c=d(a,b)\n",
    "    if c >= 30:\n",
    "        print(\"비만\")\n",
    "    elif c >= 25:\n",
    "        print(\"과체중\")\n",
    "    elif c >= 18.5:\n",
    "        print(\"정상\")\n",
    "    else:\n",
    "        print(\"저체중\")\n",
    "        \n",
    "bmi(170, 60)"
   ]
  },
  {
   "cell_type": "code",
   "execution_count": 32,
   "metadata": {},
   "outputs": [
    {
     "name": "stdout",
     "output_type": "stream",
     "text": [
      "[1, 20, 3, 21]\n"
     ]
    }
   ],
   "source": [
    "#5. filter를 이용해 다음 리스트에서 양수만 추출히 리스트를 구현\n",
    "ex1 = [1, -10, -2, 20, 3, -5, -7, 21]\n",
    "\n",
    "a = list(filter(lambda x: x>0,ex1 ))\n",
    "print(a)"
   ]
  },
  {
   "cell_type": "code",
   "execution_count": 31,
   "metadata": {},
   "outputs": [
    {
     "name": "stdout",
     "output_type": "stream",
     "text": [
      "[100, 4, 25, 49]\n"
     ]
    }
   ],
   "source": [
    "#6. filter와 map을 이용해 다음 리스트에서 음수만 추출한 뒤 그 제곱한 값들을 가지는 리스트를 구현\n",
    "ex2 = [1, -10, -2, 20, 3, -5, -7, 21]\n",
    "\n",
    "b = list(filter(lambda x: x<0, ex2))\n",
    "c = list(map(lambda y: y**2, b))\n",
    "print(c)"
   ]
  },
  {
   "cell_type": "code",
   "execution_count": null,
   "metadata": {},
   "outputs": [],
   "source": []
  },
  {
   "cell_type": "code",
   "execution_count": null,
   "metadata": {},
   "outputs": [],
   "source": []
  },
  {
   "cell_type": "code",
   "execution_count": null,
   "metadata": {},
   "outputs": [],
   "source": []
  }
 ],
 "metadata": {
  "kernelspec": {
   "display_name": "Python 3",
   "language": "python",
   "name": "python3"
  },
  "language_info": {
   "codemirror_mode": {
    "name": "ipython",
    "version": 3
   },
   "file_extension": ".py",
   "mimetype": "text/x-python",
   "name": "python",
   "nbconvert_exporter": "python",
   "pygments_lexer": "ipython3",
   "version": "3.8.5"
  }
 },
 "nbformat": 4,
 "nbformat_minor": 4
}
