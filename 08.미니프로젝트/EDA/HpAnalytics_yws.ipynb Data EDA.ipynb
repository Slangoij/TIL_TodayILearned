{
 "cells": [
  {
   "cell_type": "markdown",
   "id": "brave-decade",
   "metadata": {},
   "source": [
    "# HR Analytics: Job Change of Data Scientists\n",
    "- https://www.kaggle.com/arashnic/hr-analytics-job-change-of-data-scientists\n",
    "### data set\n",
    "- train set = 'hr_data/aug_train.csv'\n",
    "- test set = 'hr_data/aug_test.csv'\n",
    "- test set output = 'hr_data/sample_submission.csv'\n",
    "## Features\n",
    "- enrollee_id : 후보자 고유 ID\n",
    "- city: 도시 코드\n",
    "- city_ development _index : 도시 개발  지수(scaled)\n",
    "- gender: 후보자의 성별\n",
    "- relevent_experience: 후보자의 관련 경험\n",
    "- enrolled_university: 등록 된 대학 과정 유형 (있는 경우)\n",
    "- education_level: 지원자의 교육 수준\n",
    "- major_discipline : 후보자 교육 전공\n",
    "- experience: 경력(년)\n",
    "- company_size: 현재 고용주 회사의 직원 수\n",
    "- company_type : 현재 고용주의 유형\n",
    "- lastnewjob: 이전 직장과 현재 직장 간의 연도 차이\n",
    "- training_hours: 완료된 교육 시간\n",
    "- target:  0 – 전직을 찾고 있지 않음, 1 – 전직을 찾고"
   ]
  },
  {
   "cell_type": "markdown",
   "id": "fluid-orchestra",
   "metadata": {},
   "source": [
    "### **학력**\n",
    "- Phd : 박사\n",
    "- masters : 석사\n",
    "- graduate : 학사\n",
    "- high school : 고등\n",
    "- primary school : 초등\n",
    "\n",
    "### **회사 분류**\n",
    "- pvt ltd : 주식 시장에 상장되지 않은 비공개 회사\n",
    "- NGO : 비정부 기구"
   ]
  },
  {
   "cell_type": "markdown",
   "id": "decreased-royalty",
   "metadata": {},
   "source": [
    "# EDM"
   ]
  },
  {
   "cell_type": "code",
   "execution_count": 1,
   "id": "beneficial-topic",
   "metadata": {},
   "outputs": [],
   "source": [
    "import numpy as np\n",
    "import pandas as pd\n",
    "import matplotlib.pyplot as plt\n",
    "import matplotlib as mpl\n",
    "import seaborn as sns\n",
    "\n",
    "mpl.rcParams[\"font.size\"] = 15\n",
    "mpl.rcParams['font.family'] = 'malgun gothic'\n",
    "\n",
    "mpl.rcParams['axes.unicode_minus'] = False\n",
    "\n",
    "mpl.rcParams['xtick.labelsize'] = 12\n",
    "mpl.rcParams['ytick.labelsize'] = 12\n",
    "mpl.rcParams['axes.labelsize'] = 15"
   ]
  },
  {
   "cell_type": "code",
   "execution_count": 2,
   "id": "surgical-standard",
   "metadata": {},
   "outputs": [
    {
     "data": {
      "text/plain": [
       "(19158, 14)"
      ]
     },
     "execution_count": 2,
     "metadata": {},
     "output_type": "execute_result"
    }
   ],
   "source": [
    "train = pd.read_csv('hr_data/aug_train.csv')\n",
    "train.shape"
   ]
  },
  {
   "cell_type": "code",
   "execution_count": 3,
   "id": "legendary-catch",
   "metadata": {},
   "outputs": [
    {
     "name": "stdout",
     "output_type": "stream",
     "text": [
      "<class 'pandas.core.frame.DataFrame'>\n",
      "RangeIndex: 19158 entries, 0 to 19157\n",
      "Data columns (total 14 columns):\n",
      " #   Column                  Non-Null Count  Dtype  \n",
      "---  ------                  --------------  -----  \n",
      " 0   enrollee_id             19158 non-null  int64  \n",
      " 1   city                    19158 non-null  object \n",
      " 2   city_development_index  19158 non-null  float64\n",
      " 3   gender                  14650 non-null  object \n",
      " 4   relevent_experience     19158 non-null  object \n",
      " 5   enrolled_university     18772 non-null  object \n",
      " 6   education_level         18698 non-null  object \n",
      " 7   major_discipline        16345 non-null  object \n",
      " 8   experience              19093 non-null  object \n",
      " 9   company_size            13220 non-null  object \n",
      " 10  company_type            13018 non-null  object \n",
      " 11  last_new_job            18735 non-null  object \n",
      " 12  training_hours          19158 non-null  int64  \n",
      " 13  target                  19158 non-null  float64\n",
      "dtypes: float64(2), int64(2), object(10)\n",
      "memory usage: 2.0+ MB\n"
     ]
    }
   ],
   "source": [
    "train.info()"
   ]
  },
  {
   "cell_type": "code",
   "execution_count": 4,
   "id": "threatened-desperate",
   "metadata": {
    "scrolled": true
   },
   "outputs": [
    {
     "data": {
      "text/html": [
       "<div>\n",
       "<style scoped>\n",
       "    .dataframe tbody tr th:only-of-type {\n",
       "        vertical-align: middle;\n",
       "    }\n",
       "\n",
       "    .dataframe tbody tr th {\n",
       "        vertical-align: top;\n",
       "    }\n",
       "\n",
       "    .dataframe thead th {\n",
       "        text-align: right;\n",
       "    }\n",
       "</style>\n",
       "<table border=\"1\" class=\"dataframe\">\n",
       "  <thead>\n",
       "    <tr style=\"text-align: right;\">\n",
       "      <th></th>\n",
       "      <th>enrollee_id</th>\n",
       "      <th>city_development_index</th>\n",
       "      <th>training_hours</th>\n",
       "      <th>target</th>\n",
       "    </tr>\n",
       "  </thead>\n",
       "  <tbody>\n",
       "    <tr>\n",
       "      <th>count</th>\n",
       "      <td>19158.000000</td>\n",
       "      <td>19158.000000</td>\n",
       "      <td>19158.000000</td>\n",
       "      <td>19158.000000</td>\n",
       "    </tr>\n",
       "    <tr>\n",
       "      <th>mean</th>\n",
       "      <td>16875.358179</td>\n",
       "      <td>0.828848</td>\n",
       "      <td>65.366896</td>\n",
       "      <td>0.249348</td>\n",
       "    </tr>\n",
       "    <tr>\n",
       "      <th>std</th>\n",
       "      <td>9616.292592</td>\n",
       "      <td>0.123362</td>\n",
       "      <td>60.058462</td>\n",
       "      <td>0.432647</td>\n",
       "    </tr>\n",
       "    <tr>\n",
       "      <th>min</th>\n",
       "      <td>1.000000</td>\n",
       "      <td>0.448000</td>\n",
       "      <td>1.000000</td>\n",
       "      <td>0.000000</td>\n",
       "    </tr>\n",
       "    <tr>\n",
       "      <th>25%</th>\n",
       "      <td>8554.250000</td>\n",
       "      <td>0.740000</td>\n",
       "      <td>23.000000</td>\n",
       "      <td>0.000000</td>\n",
       "    </tr>\n",
       "    <tr>\n",
       "      <th>50%</th>\n",
       "      <td>16982.500000</td>\n",
       "      <td>0.903000</td>\n",
       "      <td>47.000000</td>\n",
       "      <td>0.000000</td>\n",
       "    </tr>\n",
       "    <tr>\n",
       "      <th>75%</th>\n",
       "      <td>25169.750000</td>\n",
       "      <td>0.920000</td>\n",
       "      <td>88.000000</td>\n",
       "      <td>0.000000</td>\n",
       "    </tr>\n",
       "    <tr>\n",
       "      <th>max</th>\n",
       "      <td>33380.000000</td>\n",
       "      <td>0.949000</td>\n",
       "      <td>336.000000</td>\n",
       "      <td>1.000000</td>\n",
       "    </tr>\n",
       "  </tbody>\n",
       "</table>\n",
       "</div>"
      ],
      "text/plain": [
       "        enrollee_id  city_development_index  training_hours        target\n",
       "count  19158.000000            19158.000000    19158.000000  19158.000000\n",
       "mean   16875.358179                0.828848       65.366896      0.249348\n",
       "std     9616.292592                0.123362       60.058462      0.432647\n",
       "min        1.000000                0.448000        1.000000      0.000000\n",
       "25%     8554.250000                0.740000       23.000000      0.000000\n",
       "50%    16982.500000                0.903000       47.000000      0.000000\n",
       "75%    25169.750000                0.920000       88.000000      0.000000\n",
       "max    33380.000000                0.949000      336.000000      1.000000"
      ]
     },
     "execution_count": 4,
     "metadata": {},
     "output_type": "execute_result"
    }
   ],
   "source": [
    "train.describe()"
   ]
  },
  {
   "cell_type": "code",
   "execution_count": 5,
   "id": "excited-progress",
   "metadata": {
    "scrolled": true
   },
   "outputs": [
    {
     "data": {
      "text/html": [
       "<div>\n",
       "<style scoped>\n",
       "    .dataframe tbody tr th:only-of-type {\n",
       "        vertical-align: middle;\n",
       "    }\n",
       "\n",
       "    .dataframe tbody tr th {\n",
       "        vertical-align: top;\n",
       "    }\n",
       "\n",
       "    .dataframe thead th {\n",
       "        text-align: right;\n",
       "    }\n",
       "</style>\n",
       "<table border=\"1\" class=\"dataframe\">\n",
       "  <thead>\n",
       "    <tr style=\"text-align: right;\">\n",
       "      <th></th>\n",
       "      <th>count</th>\n",
       "      <th>unique</th>\n",
       "      <th>top</th>\n",
       "      <th>freq</th>\n",
       "    </tr>\n",
       "  </thead>\n",
       "  <tbody>\n",
       "    <tr>\n",
       "      <th>city</th>\n",
       "      <td>19158</td>\n",
       "      <td>123</td>\n",
       "      <td>city_103</td>\n",
       "      <td>4355</td>\n",
       "    </tr>\n",
       "    <tr>\n",
       "      <th>gender</th>\n",
       "      <td>14650</td>\n",
       "      <td>3</td>\n",
       "      <td>Male</td>\n",
       "      <td>13221</td>\n",
       "    </tr>\n",
       "    <tr>\n",
       "      <th>relevent_experience</th>\n",
       "      <td>19158</td>\n",
       "      <td>2</td>\n",
       "      <td>Has relevent experience</td>\n",
       "      <td>13792</td>\n",
       "    </tr>\n",
       "    <tr>\n",
       "      <th>enrolled_university</th>\n",
       "      <td>18772</td>\n",
       "      <td>3</td>\n",
       "      <td>no_enrollment</td>\n",
       "      <td>13817</td>\n",
       "    </tr>\n",
       "    <tr>\n",
       "      <th>education_level</th>\n",
       "      <td>18698</td>\n",
       "      <td>5</td>\n",
       "      <td>Graduate</td>\n",
       "      <td>11598</td>\n",
       "    </tr>\n",
       "    <tr>\n",
       "      <th>major_discipline</th>\n",
       "      <td>16345</td>\n",
       "      <td>6</td>\n",
       "      <td>STEM</td>\n",
       "      <td>14492</td>\n",
       "    </tr>\n",
       "    <tr>\n",
       "      <th>experience</th>\n",
       "      <td>19093</td>\n",
       "      <td>22</td>\n",
       "      <td>&gt;20</td>\n",
       "      <td>3286</td>\n",
       "    </tr>\n",
       "    <tr>\n",
       "      <th>company_size</th>\n",
       "      <td>13220</td>\n",
       "      <td>8</td>\n",
       "      <td>50-99</td>\n",
       "      <td>3083</td>\n",
       "    </tr>\n",
       "    <tr>\n",
       "      <th>company_type</th>\n",
       "      <td>13018</td>\n",
       "      <td>6</td>\n",
       "      <td>Pvt Ltd</td>\n",
       "      <td>9817</td>\n",
       "    </tr>\n",
       "    <tr>\n",
       "      <th>last_new_job</th>\n",
       "      <td>18735</td>\n",
       "      <td>6</td>\n",
       "      <td>1</td>\n",
       "      <td>8040</td>\n",
       "    </tr>\n",
       "  </tbody>\n",
       "</table>\n",
       "</div>"
      ],
      "text/plain": [
       "                     count unique                      top   freq\n",
       "city                 19158    123                 city_103   4355\n",
       "gender               14650      3                     Male  13221\n",
       "relevent_experience  19158      2  Has relevent experience  13792\n",
       "enrolled_university  18772      3            no_enrollment  13817\n",
       "education_level      18698      5                 Graduate  11598\n",
       "major_discipline     16345      6                     STEM  14492\n",
       "experience           19093     22                      >20   3286\n",
       "company_size         13220      8                    50-99   3083\n",
       "company_type         13018      6                  Pvt Ltd   9817\n",
       "last_new_job         18735      6                        1   8040"
      ]
     },
     "execution_count": 5,
     "metadata": {},
     "output_type": "execute_result"
    }
   ],
   "source": [
    "train.describe(include='object').T"
   ]
  },
  {
   "cell_type": "markdown",
   "id": "early-result",
   "metadata": {
    "heading_collapsed": true
   },
   "source": [
    "# 컬럼별 결측치 처리\n",
    "- **null**값이 500 이하인 행 삭제\n",
    "- **gender** : 결측치를 other에 합친다.\n",
    "- **major_discipline** : 결측치를 최빈값에 합친다.\n",
    "- **company_size . type** : unkown이라는 새로운 컬럼에 정의"
   ]
  },
  {
   "cell_type": "code",
   "execution_count": 6,
   "id": "junior-louis",
   "metadata": {
    "hidden": true
   },
   "outputs": [
    {
     "data": {
      "text/plain": [
       "enrollee_id                  0\n",
       "city                         0\n",
       "city_development_index       0\n",
       "gender                    4508\n",
       "relevent_experience          0\n",
       "enrolled_university        386\n",
       "education_level            460\n",
       "major_discipline          2813\n",
       "experience                  65\n",
       "company_size              5938\n",
       "company_type              6140\n",
       "last_new_job               423\n",
       "training_hours               0\n",
       "target                       0\n",
       "dtype: int64"
      ]
     },
     "execution_count": 6,
     "metadata": {},
     "output_type": "execute_result"
    }
   ],
   "source": [
    "train.isna().sum()"
   ]
  },
  {
   "cell_type": "code",
   "execution_count": 7,
   "id": "front-outside",
   "metadata": {
    "hidden": true
   },
   "outputs": [
    {
     "data": {
      "text/plain": [
       "['enrolled_university', 'education_level', 'experience', 'last_new_job']"
      ]
     },
     "execution_count": 7,
     "metadata": {},
     "output_type": "execute_result"
    }
   ],
   "source": [
    "drop_list = []\n",
    "for col in train.columns:\n",
    "    if 1 < train[col].isna().sum() < 500:\n",
    "        drop_list.append(col)\n",
    "drop_list"
   ]
  },
  {
   "cell_type": "code",
   "execution_count": 8,
   "id": "pediatric-punishment",
   "metadata": {
    "hidden": true
   },
   "outputs": [],
   "source": [
    "# (null < 500) 행 처리\n",
    "train.dropna(subset=drop_list, inplace=True)"
   ]
  },
  {
   "cell_type": "code",
   "execution_count": 9,
   "id": "reported-hundred",
   "metadata": {
    "hidden": true
   },
   "outputs": [],
   "source": [
    "# gender 결측치 처리\n",
    "train.loc[train['gender'].isna(), 'gender'] = 'Other'"
   ]
  },
  {
   "cell_type": "code",
   "execution_count": 10,
   "id": "level-display",
   "metadata": {
    "hidden": true
   },
   "outputs": [],
   "source": [
    "# major_discipline 결측치 처리\n",
    "most_freq = train['major_discipline'].value_counts().idxmax()\n",
    "train['major_discipline'].fillna(most_freq, inplace=True)"
   ]
  },
  {
   "cell_type": "code",
   "execution_count": 11,
   "id": "equipped-island",
   "metadata": {
    "hidden": true
   },
   "outputs": [],
   "source": [
    "# company_size.type 결측치 처리\n",
    "train.loc[train['company_size'].isna(), 'company_size'] = 'unkown'\n",
    "train.loc[train['company_type'].isna(), 'company_type'] = 'unkown'"
   ]
  },
  {
   "cell_type": "code",
   "execution_count": 12,
   "id": "stupid-bradford",
   "metadata": {},
   "outputs": [
    {
     "data": {
      "text/plain": [
       "enrollee_id               0\n",
       "city                      0\n",
       "city_development_index    0\n",
       "gender                    0\n",
       "relevent_experience       0\n",
       "enrolled_university       0\n",
       "education_level           0\n",
       "major_discipline          0\n",
       "experience                0\n",
       "company_size              0\n",
       "company_type              0\n",
       "last_new_job              0\n",
       "training_hours            0\n",
       "target                    0\n",
       "dtype: int64"
      ]
     },
     "execution_count": 12,
     "metadata": {},
     "output_type": "execute_result"
    }
   ],
   "source": [
    "train.isna().sum()"
   ]
  },
  {
   "cell_type": "markdown",
   "id": "jewish-compression",
   "metadata": {},
   "source": [
    "# **시각화 분석**"
   ]
  },
  {
   "cell_type": "code",
   "execution_count": 13,
   "id": "unexpected-courage",
   "metadata": {},
   "outputs": [
    {
     "data": {
      "image/png": "[encoded data removed]",
      "text/plain": [
       "<Figure size 432x288 with 1 Axes>"
      ]
     },
     "metadata": {
      "needs_background": "light"
     },
     "output_type": "display_data"
    }
   ],
   "source": [
    "sns.countplot(x='gender', hue='target', data=train)\n",
    "plt.title('성별 별')\n",
    "plt.show()"
   ]
  },
  {
   "cell_type": "markdown",
   "id": "embedded-contact",
   "metadata": {},
   "source": [
    "# 도시 정보별 시각화"
   ]
  },
  {
   "cell_type": "code",
   "execution_count": 14,
   "id": "natural-cycle",
   "metadata": {},
   "outputs": [
    {
     "data": {
      "image/png": "[encoded data removed]",
      "text/plain": [
       "<Figure size 720x720 with 4 Axes>"
      ]
     },
     "metadata": {
      "needs_background": "light"
     },
     "output_type": "display_data"
    }
   ],
   "source": [
    "fig, axes = plt.subplots(nrows=2, ncols=2, figsize=(10, 10))\n",
    "\n",
    "train.groupby('city')['target'].sum().plot(ax=axes[0, 0],fontsize=13, rot=45)\n",
    "axes[0, 0].set_title('도시별 find job', fontdict=dict(fontsize=20))\n",
    "axes[0, 0].set_xlabel('city code', fontsize=13)\n",
    "\n",
    "train.groupby('city_development_index')['target'].sum().plot(ax=axes[0, 1])\n",
    "axes[0, 1].set_title('도시 개발지수별 find job', fontdict=dict(fontsize=20))\n",
    "axes[0, 1].set_xlabel('도시 개발', fontsize=13)\n",
    "\n",
    "train.groupby('city')['city_development_index'].count().plot(ax=axes[1,0],fontsize=13, rot=45)\n",
    "axes[1,0].set_title('도시별 도시개발지수 수', fontdict=dict(fontsize=20))\n",
    "axes[1,0].set_xlabel('city code', fontsize=13)\n",
    "\n",
    "train.groupby('city_development_index')['city'].count().plot(ax=axes[1,1])\n",
    "axes[1,1].set_title('도시개발지수별 도시의 수', fontdict=dict(fontsize=20))\n",
    "axes[1,1].set_xlabel('도시 개발', fontsize=13)\n",
    "\n",
    "plt.tight_layout()\n",
    "plt.grid(True)\n",
    "plt.show()"
   ]
  },
  {
   "cell_type": "code",
   "execution_count": 15,
   "id": "white-sample",
   "metadata": {},
   "outputs": [
    {
     "data": {
      "text/html": [
       "<div>\n",
       "<style scoped>\n",
       "    .dataframe tbody tr th:only-of-type {\n",
       "        vertical-align: middle;\n",
       "    }\n",
       "\n",
       "    .dataframe tbody tr th {\n",
       "        vertical-align: top;\n",
       "    }\n",
       "\n",
       "    .dataframe thead th {\n",
       "        text-align: right;\n",
       "    }\n",
       "</style>\n",
       "<table border=\"1\" class=\"dataframe\">\n",
       "  <thead>\n",
       "    <tr style=\"text-align: right;\">\n",
       "      <th>city</th>\n",
       "      <th>city_1</th>\n",
       "      <th>city_10</th>\n",
       "      <th>city_100</th>\n",
       "      <th>city_101</th>\n",
       "      <th>city_102</th>\n",
       "      <th>city_103</th>\n",
       "      <th>city_104</th>\n",
       "      <th>city_105</th>\n",
       "      <th>city_106</th>\n",
       "      <th>city_107</th>\n",
       "      <th>...</th>\n",
       "      <th>city_84</th>\n",
       "      <th>city_89</th>\n",
       "      <th>city_9</th>\n",
       "      <th>city_90</th>\n",
       "      <th>city_91</th>\n",
       "      <th>city_93</th>\n",
       "      <th>city_94</th>\n",
       "      <th>city_97</th>\n",
       "      <th>city_98</th>\n",
       "      <th>city_99</th>\n",
       "    </tr>\n",
       "  </thead>\n",
       "  <tbody>\n",
       "    <tr>\n",
       "      <th>city_development_index</th>\n",
       "      <td>25</td>\n",
       "      <td>82</td>\n",
       "      <td>259</td>\n",
       "      <td>70</td>\n",
       "      <td>287</td>\n",
       "      <td>4194</td>\n",
       "      <td>287</td>\n",
       "      <td>71</td>\n",
       "      <td>9</td>\n",
       "      <td>6</td>\n",
       "      <td>...</td>\n",
       "      <td>24</td>\n",
       "      <td>65</td>\n",
       "      <td>15</td>\n",
       "      <td>178</td>\n",
       "      <td>38</td>\n",
       "      <td>24</td>\n",
       "      <td>24</td>\n",
       "      <td>99</td>\n",
       "      <td>77</td>\n",
       "      <td>91</td>\n",
       "    </tr>\n",
       "  </tbody>\n",
       "</table>\n",
       "<p>1 rows × 123 columns</p>\n",
       "</div>"
      ],
      "text/plain": [
       "city                    city_1  city_10  city_100  city_101  city_102  \\\n",
       "city_development_index      25       82       259        70       287   \n",
       "\n",
       "city                    city_103  city_104  city_105  city_106  city_107  ...  \\\n",
       "city_development_index      4194       287        71         9         6  ...   \n",
       "\n",
       "city                    city_84  city_89  city_9  city_90  city_91  city_93  \\\n",
       "city_development_index       24       65      15      178       38       24   \n",
       "\n",
       "city                    city_94  city_97  city_98  city_99  \n",
       "city_development_index       24       99       77       91  \n",
       "\n",
       "[1 rows x 123 columns]"
      ]
     },
     "execution_count": 15,
     "metadata": {},
     "output_type": "execute_result"
    }
   ],
   "source": [
    "pd.DataFrame(train.groupby('city')['city_development_index'].count()).T"
   ]
  },
  {
   "cell_type": "markdown",
   "id": "lesbian-encyclopedia",
   "metadata": {},
   "source": [
    "# major_discipline 컬럼의 최빈값과 나머지의 차이가 많이 나므로 major과 non_major로 나누기"
   ]
  },
  {
   "cell_type": "code",
   "execution_count": 16,
   "id": "nominated-lawrence",
   "metadata": {},
   "outputs": [
    {
     "data": {
      "text/plain": [
       "['Arts', 'Humanities', 'Business Degree', 'No Major', 'Other']"
      ]
     },
     "execution_count": 16,
     "metadata": {},
     "output_type": "execute_result"
    }
   ],
   "source": [
    "# val가 전공과 상관이 없는 val 골라내기\n",
    "non_major_list = []\n",
    "for val in train['major_discipline'].unique():\n",
    "    if val != 'STEM':\n",
    "        non_major_list.append(val)\n",
    "non_major_list"
   ]
  },
  {
   "cell_type": "code",
   "execution_count": 17,
   "id": "monthly-implement",
   "metadata": {},
   "outputs": [],
   "source": [
    "# 전공과 비전공으로 나누어 val 바꾸기\n",
    "non_major = train['major_discipline'].isin(non_major_list)\n",
    "major = train['major_discipline'] == 'STEM'\n",
    "\n",
    "train.loc[non_major, 'major_discipline'] = 'non_major'\n",
    "train.loc[major, 'major_discipline'] = 'major'"
   ]
  },
  {
   "cell_type": "markdown",
   "id": "allied-astrology",
   "metadata": {},
   "source": [
    "## 학력, 전공, 대학 과정, 직무 관련 경험에 따른 이직 생각 시각화"
   ]
  },
  {
   "cell_type": "code",
   "execution_count": 18,
   "id": "narrow-owner",
   "metadata": {},
   "outputs": [
    {
     "data": {
      "image/png": "[encoded data removed]",
      "text/plain": [
       "<Figure size 720x720 with 4 Axes>"
      ]
     },
     "metadata": {
      "needs_background": "light"
     },
     "output_type": "display_data"
    }
   ],
   "source": [
    "fig, axes = plt.subplots(nrows=2, ncols=2, figsize=(10, 10))\n",
    "\n",
    "sns.countplot(x='education_level', hue='target', data=train, ax=axes[0, 0])\n",
    "sns.countplot(x='major_discipline', hue='target', data=train, ax=axes[0,1])\n",
    "sns.countplot(x='enrolled_university', hue='target', data=train, ax=axes[1,0])\n",
    "sns.countplot(x='relevent_experience', hue='target', data=train, ax=axes[1, 1])\n",
    "\n",
    "axes[0,0].set_title('학력별', fontsize=20)\n",
    "axes[0,0].set_xlabel('education_level', fontsize=15)\n",
    "axes[0,0].legend(['non_find_job', 'find_job'])\n",
    "\n",
    "axes[0,1].set_title('전공별', fontsize=20)\n",
    "axes[0,1].set_xlabel('major_discipline', fontsize=15)\n",
    "axes[0,1].legend(['non_find_job', 'find_job'])\n",
    "\n",
    "axes[1,0].set_title('대학 과정별', fontsize=20)\n",
    "axes[1,0].set_xlabel('enrolled_university', fontsize=15)\n",
    "axes[1,0].legend(['non_find_job', 'find_job'])\n",
    "\n",
    "axes[1,1].set_title('직무 관련 경험별', fontsize=20)\n",
    "axes[1,1].set_xlabel('relevent_experience', fontsize=15)\n",
    "axes[1,1].legend(['non_find_job', 'find_job'])\n",
    "\n",
    "plt.tight_layout()\n",
    "plt.show()"
   ]
  },
  {
   "cell_type": "markdown",
   "id": "scenic-maine",
   "metadata": {},
   "source": [
    "# experience type change to integer\n",
    "- 문자열을 정수형 val로 바꾸기 '>20'은 20으로 '<1'은 0으로"
   ]
  },
  {
   "cell_type": "code",
   "execution_count": 19,
   "id": "rational-summary",
   "metadata": {},
   "outputs": [],
   "source": [
    "over_range = train['experience'] == '>20'\n",
    "under_range = train['experience'] == '<1'\n",
    "train.loc[over_range, 'experience'] = 20\n",
    "train.loc[under_range, 'experience'] = 0\n",
    "\n",
    "train['experience'] = pd.to_numeric(train['experience'], downcast='integer')"
   ]
  },
  {
   "cell_type": "code",
   "execution_count": 20,
   "id": "thermal-andorra",
   "metadata": {},
   "outputs": [],
   "source": [
    "find_job_exp = train[train['target']==1]['experience'].value_counts()\n",
    "non_find_job_exp = train[train['target']==0]['experience'].value_counts()"
   ]
  },
  {
   "cell_type": "code",
   "execution_count": 21,
   "id": "consolidated-nutrition",
   "metadata": {},
   "outputs": [
    {
     "data": {
      "image/png": "[encoded data removed]",
      "text/plain": [
       "<Figure size 720x432 with 1 Axes>"
      ]
     },
     "metadata": {
      "needs_background": "light"
     },
     "output_type": "display_data"
    }
   ],
   "source": [
    "plt.figure(figsize=(10, 6))\n",
    "sns.countplot(x='experience', hue='target', data=train)\n",
    "plt.title('연차 별', fontsize=17)\n",
    "\n",
    "plt.grid(True)\n",
    "plt.legend(['non_find_job', 'find_job'])\n",
    "plt.show()"
   ]
  },
  {
   "cell_type": "code",
   "execution_count": 25,
   "id": "external-information",
   "metadata": {},
   "outputs": [
    {
     "name": "stdout",
     "output_type": "stream",
     "text": [
      "연차별\n"
     ]
    },
    {
     "data": {
      "text/html": [
       "<div>\n",
       "<style scoped>\n",
       "    .dataframe tbody tr th:only-of-type {\n",
       "        vertical-align: middle;\n",
       "    }\n",
       "\n",
       "    .dataframe tbody tr th {\n",
       "        vertical-align: top;\n",
       "    }\n",
       "\n",
       "    .dataframe thead th {\n",
       "        text-align: right;\n",
       "    }\n",
       "</style>\n",
       "<table border=\"1\" class=\"dataframe\">\n",
       "  <thead>\n",
       "    <tr style=\"text-align: right;\">\n",
       "      <th></th>\n",
       "      <th>0</th>\n",
       "      <th>1</th>\n",
       "      <th>2</th>\n",
       "      <th>3</th>\n",
       "      <th>4</th>\n",
       "      <th>5</th>\n",
       "      <th>6</th>\n",
       "      <th>7</th>\n",
       "      <th>8</th>\n",
       "      <th>9</th>\n",
       "      <th>...</th>\n",
       "      <th>11</th>\n",
       "      <th>12</th>\n",
       "      <th>13</th>\n",
       "      <th>14</th>\n",
       "      <th>15</th>\n",
       "      <th>16</th>\n",
       "      <th>17</th>\n",
       "      <th>18</th>\n",
       "      <th>19</th>\n",
       "      <th>20</th>\n",
       "    </tr>\n",
       "  </thead>\n",
       "  <tbody>\n",
       "    <tr>\n",
       "      <th>non_find_job</th>\n",
       "      <td>245</td>\n",
       "      <td>275</td>\n",
       "      <td>661</td>\n",
       "      <td>796</td>\n",
       "      <td>881</td>\n",
       "      <td>948</td>\n",
       "      <td>816</td>\n",
       "      <td>692</td>\n",
       "      <td>584</td>\n",
       "      <td>738</td>\n",
       "      <td>...</td>\n",
       "      <td>501</td>\n",
       "      <td>390</td>\n",
       "      <td>314</td>\n",
       "      <td>468</td>\n",
       "      <td>557</td>\n",
       "      <td>423</td>\n",
       "      <td>275</td>\n",
       "      <td>234</td>\n",
       "      <td>246</td>\n",
       "      <td>2805</td>\n",
       "    </tr>\n",
       "    <tr>\n",
       "      <th>find_job</th>\n",
       "      <td>206</td>\n",
       "      <td>200</td>\n",
       "      <td>336</td>\n",
       "      <td>427</td>\n",
       "      <td>417</td>\n",
       "      <td>389</td>\n",
       "      <td>327</td>\n",
       "      <td>290</td>\n",
       "      <td>184</td>\n",
       "      <td>198</td>\n",
       "      <td>...</td>\n",
       "      <td>148</td>\n",
       "      <td>85</td>\n",
       "      <td>73</td>\n",
       "      <td>101</td>\n",
       "      <td>111</td>\n",
       "      <td>65</td>\n",
       "      <td>56</td>\n",
       "      <td>39</td>\n",
       "      <td>48</td>\n",
       "      <td>519</td>\n",
       "    </tr>\n",
       "  </tbody>\n",
       "</table>\n",
       "<p>2 rows × 21 columns</p>\n",
       "</div>"
      ],
      "text/plain": [
       "               0    1    2    3    4    5    6    7    8    9   ...   11   12  \\\n",
       "non_find_job  245  275  661  796  881  948  816  692  584  738  ...  501  390   \n",
       "find_job      206  200  336  427  417  389  327  290  184  198  ...  148   85   \n",
       "\n",
       "               13   14   15   16   17   18   19    20  \n",
       "non_find_job  314  468  557  423  275  234  246  2805  \n",
       "find_job       73  101  111   65   56   39   48   519  \n",
       "\n",
       "[2 rows x 21 columns]"
      ]
     },
     "execution_count": 25,
     "metadata": {},
     "output_type": "execute_result"
    }
   ],
   "source": [
    "print('연차별')\n",
    "pd.DataFrame(dict(non_find_job=non_find_job_exp, find_job=find_job_exp)).T"
   ]
  },
  {
   "cell_type": "code",
   "execution_count": 22,
   "id": "earned-cleaners",
   "metadata": {},
   "outputs": [
    {
     "data": {
      "image/png": "[encoded data removed]",
      "text/plain": [
       "<Figure size 1080x360 with 2 Axes>"
      ]
     },
     "metadata": {
      "needs_background": "light"
     },
     "output_type": "display_data"
    }
   ],
   "source": [
    "fig, axes = plt.subplots(1, 2, figsize=(15, 5))\n",
    "\n",
    "company_size_labels = train['company_size'].unique()\n",
    "sns.countplot(x='company_size', hue='target', data=train, ax=axes[0])\n",
    "axes[0].set_title('직원 수별', fontsize=15)\n",
    "axes[0].set_xticklabels(company_size_labels, rotation=30, fontdict=dict(fontsize=12))\n",
    "axes[0].set_xlabel('company_size', fontsize=13)\n",
    "axes[0].legend(['non_find_job', 'find_job'])\n",
    "\n",
    "company_type_labels = train['company_type'].unique()\n",
    "sns.countplot(x='company_type', hue='target', data=train, ax=axes[1])\n",
    "axes[1].set_title('회사 분류', fontsize=15)\n",
    "axes[1].set_xticklabels(company_type_labels, rotation=30, fontdict=dict(fontsize=12))\n",
    "axes[1].set_xlabel('company_type', fontsize=13)\n",
    "axes[1].legend(['non_find_job', 'find_job'])\n",
    "\n",
    "plt.show()"
   ]
  },
  {
   "cell_type": "code",
   "execution_count": 23,
   "id": "circular-roads",
   "metadata": {},
   "outputs": [
    {
     "data": {
      "image/png": "[encoded data removed]",
      "text/plain": [
       "<Figure size 1080x432 with 2 Axes>"
      ]
     },
     "metadata": {
      "needs_background": "light"
     },
     "output_type": "display_data"
    }
   ],
   "source": [
    "fig, axes = plt.subplots(1, 2, figsize=(15, 6))\n",
    "\n",
    "train['last_new_job'].value_counts().plot.pie(autopct='%.2f%%',\n",
    "                                              fontsize=14, ax=axes[0])\n",
    "axes[0].set_title('전,현 직장 간의 연도 차(pie)', fontsize=16)\n",
    "axes[0].legend()\n",
    "\n",
    "sns.countplot(x='last_new_job', hue='target', data=train, ax=axes[1])\n",
    "axes[1].set_title('전,현 직장 간의 연도 차(bar)', fontsize=16)\n",
    "axes[1].legend()\n",
    "axes[1].legend(['non_find_job', 'find_job'])\n",
    "\n",
    "plt.show()"
   ]
  },
  {
   "cell_type": "code",
   "execution_count": null,
   "id": "logical-cleanup",
   "metadata": {},
   "outputs": [],
   "source": []
  },
  {
   "cell_type": "markdown",
   "id": "egyptian-possible",
   "metadata": {},
   "source": [
    "# 전처리(label encoding, OneHotEncoding)\n",
    "- 일단 정수형인 experience를 제외\n",
    "- 나머지 컬럼들 onehotencoding(relevent_experience,enrolled_university,education_level,major_discipline,last_new_job])"
   ]
  },
  {
   "cell_type": "code",
   "execution_count": 35,
   "id": "plain-smart",
   "metadata": {},
   "outputs": [],
   "source": [
    "drop_columns = ['city', 'city_development_index', 'enrollee_id', 'gender', 'company_size', 'company_type', 'training_hours', 'target']"
   ]
  },
  {
   "cell_type": "code",
   "execution_count": 37,
   "id": "compound-estimate",
   "metadata": {},
   "outputs": [],
   "source": [
    "y = train['target']\n",
    "X = train.drop(columns=drop_columns)"
   ]
  },
  {
   "cell_type": "code",
   "execution_count": 42,
   "id": "defined-horror",
   "metadata": {},
   "outputs": [],
   "source": [
    "# onehotencoding\n",
    "X = pd.get_dummies(X)"
   ]
  },
  {
   "cell_type": "markdown",
   "id": "broken-initial",
   "metadata": {},
   "source": [
    "# train set과 validation set으로 나누기"
   ]
  },
  {
   "cell_type": "code",
   "execution_count": 50,
   "id": "dated-damages",
   "metadata": {},
   "outputs": [],
   "source": [
    "from sklearn.model_selection import train_test_split, GridSearchCV\n",
    "from sklearn.neighbors import KNeighborsClassifier\n",
    "from sklearn.tree import DecisionTreeClassifier\n",
    "from sklearn.svm import SVC\n",
    "from sklearn.pipeline import make_pipeline\n",
    "from sklearn.metrics import accuracy_score, classification_report"
   ]
  },
  {
   "cell_type": "code",
   "execution_count": 44,
   "id": "lonely-survival",
   "metadata": {},
   "outputs": [],
   "source": [
    "X_train, X_val, y_train, y_val = train_test_split(X, y, stratify=y, random_state=1)"
   ]
  },
  {
   "cell_type": "code",
   "execution_count": 45,
   "id": "regional-reach",
   "metadata": {},
   "outputs": [
    {
     "data": {
      "text/plain": [
       "((13510,), (4504,))"
      ]
     },
     "execution_count": 45,
     "metadata": {},
     "output_type": "execute_result"
    }
   ],
   "source": [
    "y_train.shape, y_val.shape"
   ]
  },
  {
   "cell_type": "code",
   "execution_count": 51,
   "id": "together-compilation",
   "metadata": {},
   "outputs": [],
   "source": [
    "kn = KNeighborsClassifier()\n",
    "tree = DecisionTreeClassifier()\n",
    "svc = SVC()"
   ]
  },
  {
   "cell_type": "code",
   "execution_count": 53,
   "id": "fixed-destination",
   "metadata": {},
   "outputs": [
    {
     "data": {
      "text/plain": [
       "SVC()"
      ]
     },
     "execution_count": 53,
     "metadata": {},
     "output_type": "execute_result"
    }
   ],
   "source": [
    "kn.fit(X_train, y_train)\n",
    "tree.fit(X_train, y_train)\n",
    "svc.fit(X_train, y_train)"
   ]
  },
  {
   "cell_type": "code",
   "execution_count": 59,
   "id": "broke-violin",
   "metadata": {},
   "outputs": [
    {
     "name": "stdout",
     "output_type": "stream",
     "text": [
      "accuracy : KNeighborsClassifier()\n",
      "0.7592153960029607\n",
      "------------------------------\n",
      "accuracy : DecisionTreeClassifier()\n",
      "0.7840118430792006\n",
      "------------------------------\n",
      "accuracy : SVC()\n",
      "0.7545521835677276\n",
      "------------------------------\n"
     ]
    }
   ],
   "source": [
    "models = [kn, tree, svc]\n",
    "for model in models:\n",
    "    pred_train = model.predict(X_train)\n",
    "    \n",
    "    print('accuracy : {0}'.format(model))\n",
    "    print(accuracy_score(y_train, pred_train))\n",
    "    print('-'*30)"
   ]
  }
 ],
 "metadata": {
  "kernelspec": {
   "display_name": "Python 3",
   "language": "python",
   "name": "python3"
  },
  "language_info": {
   "codemirror_mode": {
    "name": "ipython",
    "version": 3
   },
   "file_extension": ".py",
   "mimetype": "text/x-python",
   "name": "python",
   "nbconvert_exporter": "python",
   "pygments_lexer": "ipython3",
   "version": "3.7.10"
  }
 },
 "nbformat": 4,
 "nbformat_minor": 5
}
