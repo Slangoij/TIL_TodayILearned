{
 "cells": [
  {
   "cell_type": "code",
   "execution_count": 4,
   "id": "6f19bdff",
   "metadata": {},
   "outputs": [],
   "source": [
    "# 나눗셈 함수\n",
    "# 2개의 갑을 받아서 나눈 다음에 결과를 올림(ceil)해서 출력\n",
    "import math\n",
    "def divide(num1, num2):\n",
    "    # 파라미터값 변환/검증\n",
    "    # 변환 (num1, num2를 int(정수)로 변환)\n",
    "    num1, num2 = int(num1), int(num2)\n",
    "    # num2가 0인지 확인 => 0일 경우 예외 발생 ==> 파라미터 검증\n",
    "    if num2 == 0:\n",
    "        raise Exception(\"0으로는 나눌 수 없습니다.\")\n",
    "        \n",
    "    # 나누고 올림 작업 - Business Logic (DB=>Model)\n",
    "    result = num1/num2\n",
    "    result = math.ceil(result)\n",
    "    \n",
    "    # 결과 출력(Template)\n",
    "    print(\"=\"*50)\n",
    "    print(\"나누기 결과는 올림해서 정수로 출력합니다.\")\n",
    "    print(\"결과 : {}\".format(result))\n",
    "    print(\"=\"*50)"
   ]
  },
  {
   "cell_type": "code",
   "execution_count": 5,
   "id": "1372ff06",
   "metadata": {},
   "outputs": [
    {
     "name": "stdout",
     "output_type": "stream",
     "text": [
      "==================================================\n",
      "나누기 결과는 올림해서 정수로 출력합니다.\n",
      "결과 : 5\n",
      "==================================================\n"
     ]
    }
   ],
   "source": [
    "divide(10, 2)"
   ]
  },
  {
   "cell_type": "code",
   "execution_count": 6,
   "id": "1c405d89",
   "metadata": {},
   "outputs": [
    {
     "name": "stdout",
     "output_type": "stream",
     "text": [
      "==================================================\n",
      "나누기 결과는 올림해서 정수로 출력합니다.\n",
      "결과 : 1\n",
      "==================================================\n"
     ]
    }
   ],
   "source": [
    "divide(\"10\",\"20\")"
   ]
  },
  {
   "cell_type": "code",
   "execution_count": 13,
   "id": "4ff34c60",
   "metadata": {},
   "outputs": [],
   "source": [
    "def validator(num1, num2):\n",
    "    # 파라미터값 변환/검증\n",
    "    # 변환 (num1, num2를 int(정수)로 변환)\n",
    "    num1, num2 = int(num1), int(num2)\n",
    "    # num2가 0인지 확인 => 0일 경우 예외 발생 ==> 파라미터 검증\n",
    "    if num2 == 0:\n",
    "        raise Exception(\"0으로는 나눌 수 없습니다.\")\n",
    "    return num1, num2"
   ]
  },
  {
   "cell_type": "code",
   "execution_count": 9,
   "id": "c67d496f",
   "metadata": {},
   "outputs": [],
   "source": [
    "def Model(num1, num2):\n",
    "    # 나누고 올림 작업 - Business Logic\n",
    "    result = num1/num2\n",
    "    result = math.ceil(result)\n",
    "    return result"
   ]
  },
  {
   "cell_type": "code",
   "execution_count": 10,
   "id": "7c048319",
   "metadata": {},
   "outputs": [],
   "source": [
    "def Template(result):\n",
    "    # 결과 출력\n",
    "    print(\"=\"*50)\n",
    "    print(\"나누기 결과는 올림해서 정수로 출력합니다.\")\n",
    "    print(\"결과 : {}\".format(result))\n",
    "    print(\"=\"*50)"
   ]
  },
  {
   "cell_type": "code",
   "execution_count": 14,
   "id": "ce0f46e3",
   "metadata": {},
   "outputs": [],
   "source": [
    "def divideView(num1, num2):\n",
    "    num1, num2 = validator(num1, num2)\n",
    "    result = Model(num1, num2)\n",
    "    Template(result)"
   ]
  },
  {
   "cell_type": "code",
   "execution_count": 15,
   "id": "2191f00e",
   "metadata": {},
   "outputs": [
    {
     "name": "stdout",
     "output_type": "stream",
     "text": [
      "==================================================\n",
      "나누기 결과는 올림해서 정수로 출력합니다.\n",
      "결과 : 5\n",
      "==================================================\n"
     ]
    }
   ],
   "source": [
    "divideView(10, 2)"
   ]
  },
  {
   "cell_type": "code",
   "execution_count": null,
   "id": "d59c891e",
   "metadata": {},
   "outputs": [],
   "source": [
    "divideView"
   ]
  }
 ],
 "metadata": {
  "kernelspec": {
   "display_name": "Python 3",
   "language": "python",
   "name": "python3"
  },
  "language_info": {
   "codemirror_mode": {
    "name": "ipython",
    "version": 3
   },
   "file_extension": ".py",
   "mimetype": "text/x-python",
   "name": "python",
   "nbconvert_exporter": "python",
   "pygments_lexer": "ipython3",
   "version": "3.7.10"
  }
 },
 "nbformat": 4,
 "nbformat_minor": 5
}
