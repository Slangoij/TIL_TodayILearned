{
 "cells": [
  {
   "cell_type": "code",
   "execution_count": 1,
   "metadata": {},
   "outputs": [],
   "source": [
    "# def fit_metrics_print(model, X_train, y_train, X_val, y_val):\n",
    "#     from sklearn.metrics import accuracy_score, classification_report\n",
    "#     model.fit(X_train, y_train)\n",
    "    \n",
    "#     pred_train = model.predict(X_train)\n",
    "#     pred_val = model.predict(X_val)\n",
    "#     print(model)\n",
    "#     print()\n",
    "#     print('train accuracy :', accuracy_score(y_train, pred_train))\n",
    "#     print('validation accuracy :', accuracy_score(y_val, pred_val))\n",
    "#     print('='*60)"
   ]
  },
  {
   "cell_type": "markdown",
   "metadata": {},
   "source": [
    "# company_size 순위형"
   ]
  },
  {
   "cell_type": "code",
   "execution_count": 1,
   "metadata": {},
   "outputs": [
    {
     "ename": "FileNotFoundError",
     "evalue": "[Errno 2] No such file or directory: '../data/마지막_test.csv'",
     "output_type": "error",
     "traceback": [
      "\u001b[1;31m----------------------------------------------------------------------\u001b[0m",
      "\u001b[1;31mFileNotFoundError\u001b[0m                    Traceback (most recent call last)",
      "\u001b[1;32m<ipython-input-1-220592508174>\u001b[0m in \u001b[0;36m<module>\u001b[1;34m\u001b[0m\n\u001b[0;32m      4\u001b[0m \u001b[1;32mfrom\u001b[0m \u001b[0msklearn\u001b[0m\u001b[1;33m.\u001b[0m\u001b[0mmodel_selection\u001b[0m \u001b[1;32mimport\u001b[0m \u001b[0mtrain_test_split\u001b[0m\u001b[1;33m\u001b[0m\u001b[1;33m\u001b[0m\u001b[0m\n\u001b[0;32m      5\u001b[0m \u001b[1;32mfrom\u001b[0m \u001b[0msklearn\u001b[0m\u001b[1;33m.\u001b[0m\u001b[0mmetrics\u001b[0m \u001b[1;32mimport\u001b[0m \u001b[0maccuracy_score\u001b[0m\u001b[1;33m,\u001b[0m \u001b[0mclassification_report\u001b[0m\u001b[1;33m\u001b[0m\u001b[1;33m\u001b[0m\u001b[0m\n\u001b[1;32m----> 6\u001b[1;33m \u001b[0mdf_test\u001b[0m \u001b[1;33m=\u001b[0m \u001b[0mpd\u001b[0m\u001b[1;33m.\u001b[0m\u001b[0mread_csv\u001b[0m\u001b[1;33m(\u001b[0m\u001b[1;34m'../data/마지막_test.csv'\u001b[0m\u001b[1;33m)\u001b[0m\u001b[1;33m\u001b[0m\u001b[1;33m\u001b[0m\u001b[0m\n\u001b[0m",
      "\u001b[1;32mc:\\users\\inje.jeong\\anaconda3\\envs\\ml\\lib\\site-packages\\pandas\\io\\parsers.py\u001b[0m in \u001b[0;36mread_csv\u001b[1;34m(filepath_or_buffer, sep, delimiter, header, names, index_col, usecols, squeeze, prefix, mangle_dupe_cols, dtype, engine, converters, true_values, false_values, skipinitialspace, skiprows, skipfooter, nrows, na_values, keep_default_na, na_filter, verbose, skip_blank_lines, parse_dates, infer_datetime_format, keep_date_col, date_parser, dayfirst, cache_dates, iterator, chunksize, compression, thousands, decimal, lineterminator, quotechar, quoting, doublequote, escapechar, comment, encoding, dialect, error_bad_lines, warn_bad_lines, delim_whitespace, low_memory, memory_map, float_precision, storage_options)\u001b[0m\n\u001b[0;32m    608\u001b[0m     \u001b[0mkwds\u001b[0m\u001b[1;33m.\u001b[0m\u001b[0mupdate\u001b[0m\u001b[1;33m(\u001b[0m\u001b[0mkwds_defaults\u001b[0m\u001b[1;33m)\u001b[0m\u001b[1;33m\u001b[0m\u001b[1;33m\u001b[0m\u001b[0m\n\u001b[0;32m    609\u001b[0m \u001b[1;33m\u001b[0m\u001b[0m\n\u001b[1;32m--> 610\u001b[1;33m     \u001b[1;32mreturn\u001b[0m \u001b[0m_read\u001b[0m\u001b[1;33m(\u001b[0m\u001b[0mfilepath_or_buffer\u001b[0m\u001b[1;33m,\u001b[0m \u001b[0mkwds\u001b[0m\u001b[1;33m)\u001b[0m\u001b[1;33m\u001b[0m\u001b[1;33m\u001b[0m\u001b[0m\n\u001b[0m\u001b[0;32m    611\u001b[0m \u001b[1;33m\u001b[0m\u001b[0m\n\u001b[0;32m    612\u001b[0m \u001b[1;33m\u001b[0m\u001b[0m\n",
      "\u001b[1;32mc:\\users\\inje.jeong\\anaconda3\\envs\\ml\\lib\\site-packages\\pandas\\io\\parsers.py\u001b[0m in \u001b[0;36m_read\u001b[1;34m(filepath_or_buffer, kwds)\u001b[0m\n\u001b[0;32m    460\u001b[0m \u001b[1;33m\u001b[0m\u001b[0m\n\u001b[0;32m    461\u001b[0m     \u001b[1;31m# Create the parser.\u001b[0m\u001b[1;33m\u001b[0m\u001b[1;33m\u001b[0m\u001b[1;33m\u001b[0m\u001b[0m\n\u001b[1;32m--> 462\u001b[1;33m     \u001b[0mparser\u001b[0m \u001b[1;33m=\u001b[0m \u001b[0mTextFileReader\u001b[0m\u001b[1;33m(\u001b[0m\u001b[0mfilepath_or_buffer\u001b[0m\u001b[1;33m,\u001b[0m \u001b[1;33m**\u001b[0m\u001b[0mkwds\u001b[0m\u001b[1;33m)\u001b[0m\u001b[1;33m\u001b[0m\u001b[1;33m\u001b[0m\u001b[0m\n\u001b[0m\u001b[0;32m    463\u001b[0m \u001b[1;33m\u001b[0m\u001b[0m\n\u001b[0;32m    464\u001b[0m     \u001b[1;32mif\u001b[0m \u001b[0mchunksize\u001b[0m \u001b[1;32mor\u001b[0m \u001b[0miterator\u001b[0m\u001b[1;33m:\u001b[0m\u001b[1;33m\u001b[0m\u001b[1;33m\u001b[0m\u001b[0m\n",
      "\u001b[1;32mc:\\users\\inje.jeong\\anaconda3\\envs\\ml\\lib\\site-packages\\pandas\\io\\parsers.py\u001b[0m in \u001b[0;36m__init__\u001b[1;34m(self, f, engine, **kwds)\u001b[0m\n\u001b[0;32m    817\u001b[0m             \u001b[0mself\u001b[0m\u001b[1;33m.\u001b[0m\u001b[0moptions\u001b[0m\u001b[1;33m[\u001b[0m\u001b[1;34m\"has_index_names\"\u001b[0m\u001b[1;33m]\u001b[0m \u001b[1;33m=\u001b[0m \u001b[0mkwds\u001b[0m\u001b[1;33m[\u001b[0m\u001b[1;34m\"has_index_names\"\u001b[0m\u001b[1;33m]\u001b[0m\u001b[1;33m\u001b[0m\u001b[1;33m\u001b[0m\u001b[0m\n\u001b[0;32m    818\u001b[0m \u001b[1;33m\u001b[0m\u001b[0m\n\u001b[1;32m--> 819\u001b[1;33m         \u001b[0mself\u001b[0m\u001b[1;33m.\u001b[0m\u001b[0m_engine\u001b[0m \u001b[1;33m=\u001b[0m \u001b[0mself\u001b[0m\u001b[1;33m.\u001b[0m\u001b[0m_make_engine\u001b[0m\u001b[1;33m(\u001b[0m\u001b[0mself\u001b[0m\u001b[1;33m.\u001b[0m\u001b[0mengine\u001b[0m\u001b[1;33m)\u001b[0m\u001b[1;33m\u001b[0m\u001b[1;33m\u001b[0m\u001b[0m\n\u001b[0m\u001b[0;32m    820\u001b[0m \u001b[1;33m\u001b[0m\u001b[0m\n\u001b[0;32m    821\u001b[0m     \u001b[1;32mdef\u001b[0m \u001b[0mclose\u001b[0m\u001b[1;33m(\u001b[0m\u001b[0mself\u001b[0m\u001b[1;33m)\u001b[0m\u001b[1;33m:\u001b[0m\u001b[1;33m\u001b[0m\u001b[1;33m\u001b[0m\u001b[0m\n",
      "\u001b[1;32mc:\\users\\inje.jeong\\anaconda3\\envs\\ml\\lib\\site-packages\\pandas\\io\\parsers.py\u001b[0m in \u001b[0;36m_make_engine\u001b[1;34m(self, engine)\u001b[0m\n\u001b[0;32m   1048\u001b[0m             )\n\u001b[0;32m   1049\u001b[0m         \u001b[1;31m# error: Too many arguments for \"ParserBase\"\u001b[0m\u001b[1;33m\u001b[0m\u001b[1;33m\u001b[0m\u001b[1;33m\u001b[0m\u001b[0m\n\u001b[1;32m-> 1050\u001b[1;33m         \u001b[1;32mreturn\u001b[0m \u001b[0mmapping\u001b[0m\u001b[1;33m[\u001b[0m\u001b[0mengine\u001b[0m\u001b[1;33m]\u001b[0m\u001b[1;33m(\u001b[0m\u001b[0mself\u001b[0m\u001b[1;33m.\u001b[0m\u001b[0mf\u001b[0m\u001b[1;33m,\u001b[0m \u001b[1;33m**\u001b[0m\u001b[0mself\u001b[0m\u001b[1;33m.\u001b[0m\u001b[0moptions\u001b[0m\u001b[1;33m)\u001b[0m  \u001b[1;31m# type: ignore[call-arg]\u001b[0m\u001b[1;33m\u001b[0m\u001b[1;33m\u001b[0m\u001b[0m\n\u001b[0m\u001b[0;32m   1051\u001b[0m \u001b[1;33m\u001b[0m\u001b[0m\n\u001b[0;32m   1052\u001b[0m     \u001b[1;32mdef\u001b[0m \u001b[0m_failover_to_python\u001b[0m\u001b[1;33m(\u001b[0m\u001b[0mself\u001b[0m\u001b[1;33m)\u001b[0m\u001b[1;33m:\u001b[0m\u001b[1;33m\u001b[0m\u001b[1;33m\u001b[0m\u001b[0m\n",
      "\u001b[1;32mc:\\users\\inje.jeong\\anaconda3\\envs\\ml\\lib\\site-packages\\pandas\\io\\parsers.py\u001b[0m in \u001b[0;36m__init__\u001b[1;34m(self, src, **kwds)\u001b[0m\n\u001b[0;32m   1865\u001b[0m \u001b[1;33m\u001b[0m\u001b[0m\n\u001b[0;32m   1866\u001b[0m         \u001b[1;31m# open handles\u001b[0m\u001b[1;33m\u001b[0m\u001b[1;33m\u001b[0m\u001b[1;33m\u001b[0m\u001b[0m\n\u001b[1;32m-> 1867\u001b[1;33m         \u001b[0mself\u001b[0m\u001b[1;33m.\u001b[0m\u001b[0m_open_handles\u001b[0m\u001b[1;33m(\u001b[0m\u001b[0msrc\u001b[0m\u001b[1;33m,\u001b[0m \u001b[0mkwds\u001b[0m\u001b[1;33m)\u001b[0m\u001b[1;33m\u001b[0m\u001b[1;33m\u001b[0m\u001b[0m\n\u001b[0m\u001b[0;32m   1868\u001b[0m         \u001b[1;32massert\u001b[0m \u001b[0mself\u001b[0m\u001b[1;33m.\u001b[0m\u001b[0mhandles\u001b[0m \u001b[1;32mis\u001b[0m \u001b[1;32mnot\u001b[0m \u001b[1;32mNone\u001b[0m\u001b[1;33m\u001b[0m\u001b[1;33m\u001b[0m\u001b[0m\n\u001b[0;32m   1869\u001b[0m         \u001b[1;32mfor\u001b[0m \u001b[0mkey\u001b[0m \u001b[1;32min\u001b[0m \u001b[1;33m(\u001b[0m\u001b[1;34m\"storage_options\"\u001b[0m\u001b[1;33m,\u001b[0m \u001b[1;34m\"encoding\"\u001b[0m\u001b[1;33m,\u001b[0m \u001b[1;34m\"memory_map\"\u001b[0m\u001b[1;33m,\u001b[0m \u001b[1;34m\"compression\"\u001b[0m\u001b[1;33m)\u001b[0m\u001b[1;33m:\u001b[0m\u001b[1;33m\u001b[0m\u001b[1;33m\u001b[0m\u001b[0m\n",
      "\u001b[1;32mc:\\users\\inje.jeong\\anaconda3\\envs\\ml\\lib\\site-packages\\pandas\\io\\parsers.py\u001b[0m in \u001b[0;36m_open_handles\u001b[1;34m(self, src, kwds)\u001b[0m\n\u001b[0;32m   1366\u001b[0m             \u001b[0mcompression\u001b[0m\u001b[1;33m=\u001b[0m\u001b[0mkwds\u001b[0m\u001b[1;33m.\u001b[0m\u001b[0mget\u001b[0m\u001b[1;33m(\u001b[0m\u001b[1;34m\"compression\"\u001b[0m\u001b[1;33m,\u001b[0m \u001b[1;32mNone\u001b[0m\u001b[1;33m)\u001b[0m\u001b[1;33m,\u001b[0m\u001b[1;33m\u001b[0m\u001b[1;33m\u001b[0m\u001b[0m\n\u001b[0;32m   1367\u001b[0m             \u001b[0mmemory_map\u001b[0m\u001b[1;33m=\u001b[0m\u001b[0mkwds\u001b[0m\u001b[1;33m.\u001b[0m\u001b[0mget\u001b[0m\u001b[1;33m(\u001b[0m\u001b[1;34m\"memory_map\"\u001b[0m\u001b[1;33m,\u001b[0m \u001b[1;32mFalse\u001b[0m\u001b[1;33m)\u001b[0m\u001b[1;33m,\u001b[0m\u001b[1;33m\u001b[0m\u001b[1;33m\u001b[0m\u001b[0m\n\u001b[1;32m-> 1368\u001b[1;33m             \u001b[0mstorage_options\u001b[0m\u001b[1;33m=\u001b[0m\u001b[0mkwds\u001b[0m\u001b[1;33m.\u001b[0m\u001b[0mget\u001b[0m\u001b[1;33m(\u001b[0m\u001b[1;34m\"storage_options\"\u001b[0m\u001b[1;33m,\u001b[0m \u001b[1;32mNone\u001b[0m\u001b[1;33m)\u001b[0m\u001b[1;33m,\u001b[0m\u001b[1;33m\u001b[0m\u001b[1;33m\u001b[0m\u001b[0m\n\u001b[0m\u001b[0;32m   1369\u001b[0m         )\n\u001b[0;32m   1370\u001b[0m \u001b[1;33m\u001b[0m\u001b[0m\n",
      "\u001b[1;32mc:\\users\\inje.jeong\\anaconda3\\envs\\ml\\lib\\site-packages\\pandas\\io\\common.py\u001b[0m in \u001b[0;36mget_handle\u001b[1;34m(path_or_buf, mode, encoding, compression, memory_map, is_text, errors, storage_options)\u001b[0m\n\u001b[0;32m    645\u001b[0m                 \u001b[0mencoding\u001b[0m\u001b[1;33m=\u001b[0m\u001b[0mioargs\u001b[0m\u001b[1;33m.\u001b[0m\u001b[0mencoding\u001b[0m\u001b[1;33m,\u001b[0m\u001b[1;33m\u001b[0m\u001b[1;33m\u001b[0m\u001b[0m\n\u001b[0;32m    646\u001b[0m                 \u001b[0merrors\u001b[0m\u001b[1;33m=\u001b[0m\u001b[0merrors\u001b[0m\u001b[1;33m,\u001b[0m\u001b[1;33m\u001b[0m\u001b[1;33m\u001b[0m\u001b[0m\n\u001b[1;32m--> 647\u001b[1;33m                 \u001b[0mnewline\u001b[0m\u001b[1;33m=\u001b[0m\u001b[1;34m\"\"\u001b[0m\u001b[1;33m,\u001b[0m\u001b[1;33m\u001b[0m\u001b[1;33m\u001b[0m\u001b[0m\n\u001b[0m\u001b[0;32m    648\u001b[0m             )\n\u001b[0;32m    649\u001b[0m         \u001b[1;32melse\u001b[0m\u001b[1;33m:\u001b[0m\u001b[1;33m\u001b[0m\u001b[1;33m\u001b[0m\u001b[0m\n",
      "\u001b[1;31mFileNotFoundError\u001b[0m: [Errno 2] No such file or directory: '../data/마지막_test.csv'"
     ]
    }
   ],
   "source": [
    "import pandas as pd\n",
    "import numpy as np\n",
    "from sklearn.model_selection import RandomizedSearchCV, GridSearchCV\n",
    "from sklearn.model_selection import train_test_split\n",
    "from sklearn.metrics import accuracy_score, classification_report\n",
    "df_test = pd.read_csv('../data/마지막_test.csv')"
   ]
  },
  {
   "cell_type": "code",
   "execution_count": 3,
   "metadata": {},
   "outputs": [],
   "source": [
    "drop_cols = ['enrollee_id']\n",
    "y_test = pd.Series(np.load('../data/jobchange_test_target_values.npy'))\n",
    "X_test = df_test.drop(columns=drop_cols)"
   ]
  },
  {
   "cell_type": "code",
   "execution_count": 4,
   "metadata": {},
   "outputs": [],
   "source": [
    "df = pd.read_csv('../data/마지막_train.csv')\n",
    "\n",
    "drop_cols = ['enrollee_id', 'target']\n",
    "y = df['target']\n",
    "X = df.drop(columns=drop_cols)"
   ]
  },
  {
   "cell_type": "code",
   "execution_count": 5,
   "metadata": {},
   "outputs": [
    {
     "data": {
      "text/plain": [
       "pandas.core.series.Series"
      ]
     },
     "execution_count": 5,
     "metadata": {},
     "output_type": "execute_result"
    }
   ],
   "source": [
    "type(y)"
   ]
  },
  {
   "cell_type": "code",
   "execution_count": 6,
   "metadata": {
    "scrolled": false
   },
   "outputs": [
    {
     "data": {
      "text/html": [
       "<div>\n",
       "<style scoped>\n",
       "    .dataframe tbody tr th:only-of-type {\n",
       "        vertical-align: middle;\n",
       "    }\n",
       "\n",
       "    .dataframe tbody tr th {\n",
       "        vertical-align: top;\n",
       "    }\n",
       "\n",
       "    .dataframe thead th {\n",
       "        text-align: right;\n",
       "    }\n",
       "</style>\n",
       "<table border=\"1\" class=\"dataframe\">\n",
       "  <thead>\n",
       "    <tr style=\"text-align: right;\">\n",
       "      <th></th>\n",
       "      <th>city</th>\n",
       "      <th>city_development_index</th>\n",
       "      <th>gender</th>\n",
       "      <th>relevent_experience</th>\n",
       "      <th>enrolled_university</th>\n",
       "      <th>education_level</th>\n",
       "      <th>major_discipline</th>\n",
       "      <th>experience</th>\n",
       "      <th>company_size</th>\n",
       "      <th>company_type</th>\n",
       "      <th>last_new_job</th>\n",
       "      <th>training_hours</th>\n",
       "    </tr>\n",
       "  </thead>\n",
       "  <tbody>\n",
       "    <tr>\n",
       "      <th>0</th>\n",
       "      <td>-1.106970</td>\n",
       "      <td>0.741001</td>\n",
       "      <td>0.203475</td>\n",
       "      <td>-0.624383</td>\n",
       "      <td>-0.583066</td>\n",
       "      <td>-0.201056</td>\n",
       "      <td>-0.326356</td>\n",
       "      <td>1.605053</td>\n",
       "      <td>-0.070479</td>\n",
       "      <td>0.504586</td>\n",
       "      <td>-0.585678</td>\n",
       "      <td>-0.488208</td>\n",
       "    </tr>\n",
       "    <tr>\n",
       "      <th>1</th>\n",
       "      <td>0.928915</td>\n",
       "      <td>-0.424674</td>\n",
       "      <td>0.203475</td>\n",
       "      <td>1.601582</td>\n",
       "      <td>-0.583066</td>\n",
       "      <td>-0.201056</td>\n",
       "      <td>-0.326356</td>\n",
       "      <td>0.721342</td>\n",
       "      <td>-0.534534</td>\n",
       "      <td>0.504586</td>\n",
       "      <td>1.805791</td>\n",
       "      <td>-0.305100</td>\n",
       "    </tr>\n",
       "    <tr>\n",
       "      <th>2</th>\n",
       "      <td>0.561325</td>\n",
       "      <td>-1.655108</td>\n",
       "      <td>0.203475</td>\n",
       "      <td>1.601582</td>\n",
       "      <td>1.882023</td>\n",
       "      <td>-0.201056</td>\n",
       "      <td>-0.326356</td>\n",
       "      <td>-0.751509</td>\n",
       "      <td>1.321684</td>\n",
       "      <td>0.504586</td>\n",
       "      <td>-1.183545</td>\n",
       "      <td>0.294163</td>\n",
       "    </tr>\n",
       "    <tr>\n",
       "      <th>3</th>\n",
       "      <td>-0.852484</td>\n",
       "      <td>-0.319439</td>\n",
       "      <td>0.203475</td>\n",
       "      <td>1.601582</td>\n",
       "      <td>1.882023</td>\n",
       "      <td>-0.201056</td>\n",
       "      <td>3.064143</td>\n",
       "      <td>-1.487934</td>\n",
       "      <td>1.785739</td>\n",
       "      <td>0.504586</td>\n",
       "      <td>-1.183545</td>\n",
       "      <td>-0.221869</td>\n",
       "    </tr>\n",
       "    <tr>\n",
       "      <th>4</th>\n",
       "      <td>0.165458</td>\n",
       "      <td>-0.497528</td>\n",
       "      <td>0.203475</td>\n",
       "      <td>-0.624383</td>\n",
       "      <td>-0.583066</td>\n",
       "      <td>1.221776</td>\n",
       "      <td>-0.326356</td>\n",
       "      <td>1.605053</td>\n",
       "      <td>-0.534534</td>\n",
       "      <td>-2.059235</td>\n",
       "      <td>1.207924</td>\n",
       "      <td>-0.954302</td>\n",
       "    </tr>\n",
       "    <tr>\n",
       "      <th>...</th>\n",
       "      <td>...</td>\n",
       "      <td>...</td>\n",
       "      <td>...</td>\n",
       "      <td>...</td>\n",
       "      <td>...</td>\n",
       "      <td>...</td>\n",
       "      <td>...</td>\n",
       "      <td>...</td>\n",
       "      <td>...</td>\n",
       "      <td>...</td>\n",
       "      <td>...</td>\n",
       "      <td>...</td>\n",
       "    </tr>\n",
       "    <tr>\n",
       "      <th>19153</th>\n",
       "      <td>0.306839</td>\n",
       "      <td>0.401012</td>\n",
       "      <td>0.203475</td>\n",
       "      <td>1.601582</td>\n",
       "      <td>-0.583066</td>\n",
       "      <td>-0.201056</td>\n",
       "      <td>3.064143</td>\n",
       "      <td>0.574057</td>\n",
       "      <td>0.857630</td>\n",
       "      <td>0.504586</td>\n",
       "      <td>-0.585678</td>\n",
       "      <td>-0.388331</td>\n",
       "    </tr>\n",
       "    <tr>\n",
       "      <th>19154</th>\n",
       "      <td>-1.106970</td>\n",
       "      <td>0.741001</td>\n",
       "      <td>0.203475</td>\n",
       "      <td>-0.624383</td>\n",
       "      <td>-0.583066</td>\n",
       "      <td>-0.201056</td>\n",
       "      <td>-0.326356</td>\n",
       "      <td>0.574057</td>\n",
       "      <td>-0.998588</td>\n",
       "      <td>0.504586</td>\n",
       "      <td>1.207924</td>\n",
       "      <td>-0.221869</td>\n",
       "    </tr>\n",
       "    <tr>\n",
       "      <th>19155</th>\n",
       "      <td>-1.106970</td>\n",
       "      <td>0.741001</td>\n",
       "      <td>0.203475</td>\n",
       "      <td>-0.624383</td>\n",
       "      <td>-0.583066</td>\n",
       "      <td>-0.201056</td>\n",
       "      <td>-0.326356</td>\n",
       "      <td>1.605053</td>\n",
       "      <td>-0.534534</td>\n",
       "      <td>0.504586</td>\n",
       "      <td>1.207924</td>\n",
       "      <td>-0.355039</td>\n",
       "    </tr>\n",
       "    <tr>\n",
       "      <th>19156</th>\n",
       "      <td>1.409610</td>\n",
       "      <td>-0.214205</td>\n",
       "      <td>0.203475</td>\n",
       "      <td>-0.624383</td>\n",
       "      <td>-0.583066</td>\n",
       "      <td>-1.623888</td>\n",
       "      <td>-0.326356</td>\n",
       "      <td>-1.487934</td>\n",
       "      <td>0.393575</td>\n",
       "      <td>0.504586</td>\n",
       "      <td>0.012189</td>\n",
       "      <td>0.527210</td>\n",
       "    </tr>\n",
       "    <tr>\n",
       "      <th>19157</th>\n",
       "      <td>1.437886</td>\n",
       "      <td>0.214828</td>\n",
       "      <td>0.203475</td>\n",
       "      <td>1.601582</td>\n",
       "      <td>-0.583066</td>\n",
       "      <td>-3.046720</td>\n",
       "      <td>-0.326356</td>\n",
       "      <td>-1.193364</td>\n",
       "      <td>-0.534534</td>\n",
       "      <td>-2.700190</td>\n",
       "      <td>-0.585678</td>\n",
       "      <td>1.026596</td>\n",
       "    </tr>\n",
       "  </tbody>\n",
       "</table>\n",
       "<p>19158 rows × 12 columns</p>\n",
       "</div>"
      ],
      "text/plain": [
       "           city  city_development_index    gender  relevent_experience  \\\n",
       "0     -1.106970                0.741001  0.203475            -0.624383   \n",
       "1      0.928915               -0.424674  0.203475             1.601582   \n",
       "2      0.561325               -1.655108  0.203475             1.601582   \n",
       "3     -0.852484               -0.319439  0.203475             1.601582   \n",
       "4      0.165458               -0.497528  0.203475            -0.624383   \n",
       "...         ...                     ...       ...                  ...   \n",
       "19153  0.306839                0.401012  0.203475             1.601582   \n",
       "19154 -1.106970                0.741001  0.203475            -0.624383   \n",
       "19155 -1.106970                0.741001  0.203475            -0.624383   \n",
       "19156  1.409610               -0.214205  0.203475            -0.624383   \n",
       "19157  1.437886                0.214828  0.203475             1.601582   \n",
       "\n",
       "       enrolled_university  education_level  major_discipline  experience  \\\n",
       "0                -0.583066        -0.201056         -0.326356    1.605053   \n",
       "1                -0.583066        -0.201056         -0.326356    0.721342   \n",
       "2                 1.882023        -0.201056         -0.326356   -0.751509   \n",
       "3                 1.882023        -0.201056          3.064143   -1.487934   \n",
       "4                -0.583066         1.221776         -0.326356    1.605053   \n",
       "...                    ...              ...               ...         ...   \n",
       "19153            -0.583066        -0.201056          3.064143    0.574057   \n",
       "19154            -0.583066        -0.201056         -0.326356    0.574057   \n",
       "19155            -0.583066        -0.201056         -0.326356    1.605053   \n",
       "19156            -0.583066        -1.623888         -0.326356   -1.487934   \n",
       "19157            -0.583066        -3.046720         -0.326356   -1.193364   \n",
       "\n",
       "       company_size  company_type  last_new_job  training_hours  \n",
       "0         -0.070479      0.504586     -0.585678       -0.488208  \n",
       "1         -0.534534      0.504586      1.805791       -0.305100  \n",
       "2          1.321684      0.504586     -1.183545        0.294163  \n",
       "3          1.785739      0.504586     -1.183545       -0.221869  \n",
       "4         -0.534534     -2.059235      1.207924       -0.954302  \n",
       "...             ...           ...           ...             ...  \n",
       "19153      0.857630      0.504586     -0.585678       -0.388331  \n",
       "19154     -0.998588      0.504586      1.207924       -0.221869  \n",
       "19155     -0.534534      0.504586      1.207924       -0.355039  \n",
       "19156      0.393575      0.504586      0.012189        0.527210  \n",
       "19157     -0.534534     -2.700190     -0.585678        1.026596  \n",
       "\n",
       "[19158 rows x 12 columns]"
      ]
     },
     "execution_count": 6,
     "metadata": {},
     "output_type": "execute_result"
    }
   ],
   "source": [
    "X"
   ]
  },
  {
   "cell_type": "code",
   "execution_count": 7,
   "metadata": {},
   "outputs": [],
   "source": [
    "X_train, X_val, y_train, y_val = train_test_split(X, y, stratify=y, random_state=1, shuffle=True)"
   ]
  },
  {
   "cell_type": "code",
   "execution_count": 8,
   "metadata": {},
   "outputs": [],
   "source": [
    "# from imblearn.over_sampling import *\n",
    "from imblearn.under_sampling import *\n",
    "# from imblearn.combine import *\n",
    "\n",
    "# over_sampling\n",
    "# X_train, y_train = SMOTE().fit_resample(X_train, y_train)\n",
    "# X_train, y_train = ADASYN().fit_resample(X_train, y_train)\n",
    "\n",
    "\n",
    "# # under_sampling\n",
    "X_train, y_train = TomekLinks().fit_resample(X_train, y_train)\n",
    "# # X_train, y_train = CondensedNearestNeighbour().fit_resample(X_train, y_train)  # 너무 오래걸림...\n",
    "# X_train, y_train = OneSidedSelection().fit_resample(X_train, y_train)\n",
    "# X_train, y_train = EditedNearestNeighbours().fit_resample(X_train, y_train)\n",
    "# X_train, y_train = NeighbourhoodCleaningRule().fit_resample(X_train, y_train)\n",
    "# X_train, y_train = CondensedNearestNeighbour().fit_resample(X_train, y_train)\n",
    "\n",
    "# # combine_sampling\n",
    "# X_train, y_train = SMOTEENN().fit_resample(X_train, y_train)\n",
    "# X_train, y_train = SMOTETomek().fit_resample(X_train, y_train)\n",
    "\n"
   ]
  },
  {
   "cell_type": "markdown",
   "metadata": {},
   "source": [
    "# Decision Tree"
   ]
  },
  {
   "cell_type": "code",
   "execution_count": 9,
   "metadata": {},
   "outputs": [
    {
     "data": {
      "text/plain": [
       "DecisionTreeClassifier()"
      ]
     },
     "execution_count": 9,
     "metadata": {},
     "output_type": "execute_result"
    }
   ],
   "source": [
    "# 학습\n",
    "from sklearn.tree import DecisionTreeClassifier\n",
    "tree = DecisionTreeClassifier()\n",
    "tree.fit(X_train, y_train)"
   ]
  },
  {
   "cell_type": "code",
   "execution_count": 10,
   "metadata": {
    "scrolled": true
   },
   "outputs": [
    {
     "name": "stdout",
     "output_type": "stream",
     "text": [
      "train accuracy : 0.9982691149909693\n",
      "validation accuracy : 0.6793319415448852\n"
     ]
    }
   ],
   "source": [
    "# 검증\n",
    "from sklearn.metrics import accuracy_score, classification_report\n",
    "\n",
    "pred_train = tree.predict(X_train)\n",
    "pred_val = tree.predict(X_val)\n",
    "\n",
    "print('train accuracy :', accuracy_score(y_train, pred_train))\n",
    "print('validation accuracy :', accuracy_score(y_val, pred_val))"
   ]
  },
  {
   "cell_type": "markdown",
   "metadata": {},
   "source": [
    "## gridsearch"
   ]
  },
  {
   "cell_type": "code",
   "execution_count": 11,
   "metadata": {},
   "outputs": [
    {
     "name": "stderr",
     "output_type": "stream",
     "text": [
      "c:\\users\\user\\anaconda3\\envs\\ml\\lib\\site-packages\\sklearn\\model_selection\\_search.py:918: UserWarning: One or more of the test scores are non-finite: [       nan 0.7871764  0.7871764  0.7871764  0.7871764  0.7871764\n",
      " 0.7871764  0.7871764  0.7871764         nan 0.7871764  0.7871764\n",
      " 0.78574654 0.78574654 0.78574654 0.78574654 0.78574654 0.78574654\n",
      "        nan 0.7871764  0.7871764  0.7871764  0.7871764  0.78574654\n",
      " 0.78567128 0.78664961 0.78664961        nan 0.7871764  0.7871764\n",
      " 0.7871764  0.78521975 0.78521975 0.78521975 0.78521975 0.78521975\n",
      "        nan 0.7871764  0.7871764  0.7871764  0.78521975 0.78680012\n",
      " 0.78680012 0.78680012 0.78680012        nan 0.7871764  0.7871764\n",
      " 0.7871764  0.78521975 0.78680012 0.78680012 0.78680012 0.78680012\n",
      "        nan 0.7871764  0.7871764  0.7871764  0.78521975 0.78680012\n",
      " 0.78680012 0.78680012 0.78680012        nan 0.7871764  0.7871764\n",
      " 0.7871764  0.78521975 0.78680012 0.78680012 0.78680012 0.78680012\n",
      "        nan 0.7871764  0.7871764  0.7871764  0.78521975 0.78680012\n",
      " 0.78680012 0.78680012 0.78680012]\n",
      "  warnings.warn(\n"
     ]
    },
    {
     "data": {
      "text/plain": [
       "GridSearchCV(cv=2, estimator=DecisionTreeClassifier(), n_jobs=-1,\n",
       "             param_grid={'max_depth': range(1, 10),\n",
       "                         'max_leaf_nodes': range(1, 10), 'random_state': [1]},\n",
       "             scoring='accuracy')"
      ]
     },
     "execution_count": 11,
     "metadata": {},
     "output_type": "execute_result"
    }
   ],
   "source": [
    "from sklearn.model_selection import GridSearchCV\n",
    "\n",
    "param_grid = dict(\n",
    "    max_depth=range(1, 10),\n",
    "    max_leaf_nodes=range(1, 10),\n",
    "    random_state=[1]\n",
    ")\n",
    "\n",
    "grid_tree = GridSearchCV(tree,\n",
    "                         param_grid=param_grid,\n",
    "                         scoring='accuracy',\n",
    "                         cv=2,\n",
    "                         n_jobs=-1)\n",
    "grid_tree.fit(X_train, y_train)"
   ]
  },
  {
   "cell_type": "code",
   "execution_count": 12,
   "metadata": {},
   "outputs": [
    {
     "data": {
      "text/plain": [
       "DecisionTreeClassifier(max_depth=1, max_leaf_nodes=2, random_state=1)"
      ]
     },
     "execution_count": 12,
     "metadata": {},
     "output_type": "execute_result"
    }
   ],
   "source": [
    "grid_tree.best_estimator_"
   ]
  },
  {
   "cell_type": "code",
   "execution_count": 13,
   "metadata": {
    "scrolled": true
   },
   "outputs": [
    {
     "name": "stdout",
     "output_type": "stream",
     "text": [
      "train accuracy : 0.7872516556291391\n",
      "validation accuracy : 0.7816283924843423\n"
     ]
    }
   ],
   "source": [
    "pred_train = grid_tree.predict(X_train)\n",
    "pred_val = grid_tree.predict(X_val)\n",
    "\n",
    "print('train accuracy :', accuracy_score(y_train, pred_train))\n",
    "print('validation accuracy :', accuracy_score(y_val, pred_val))"
   ]
  },
  {
   "cell_type": "markdown",
   "metadata": {},
   "source": [
    "-----------------------------------\n",
    "# RandomForest"
   ]
  },
  {
   "cell_type": "code",
   "execution_count": 14,
   "metadata": {},
   "outputs": [
    {
     "data": {
      "text/plain": [
       "RandomForestClassifier(max_depth=7, max_features=12, n_estimators=200,\n",
       "                       random_state=1)"
      ]
     },
     "execution_count": 14,
     "metadata": {},
     "output_type": "execute_result"
    }
   ],
   "source": [
    "from sklearn.ensemble import RandomForestClassifier\n",
    "\n",
    "rf = RandomForestClassifier(max_depth=7, max_features=12, n_estimators=200,\n",
    "                       random_state=1)\n",
    "rf.fit(X_train, y_train)"
   ]
  },
  {
   "cell_type": "code",
   "execution_count": 15,
   "metadata": {},
   "outputs": [
    {
     "name": "stdout",
     "output_type": "stream",
     "text": [
      "train accuracy : 0.8055388320288982\n",
      "validation accuracy : 0.7764091858037578\n"
     ]
    }
   ],
   "source": [
    "pred_train = rf.predict(X_train)\n",
    "pred_val = rf.predict(X_val)\n",
    "\n",
    "print('train accuracy :', accuracy_score(y_train, pred_train))\n",
    "print('validation accuracy :', accuracy_score(y_val, pred_val))"
   ]
  },
  {
   "cell_type": "markdown",
   "metadata": {},
   "source": [
    "## gridsearch"
   ]
  },
  {
   "cell_type": "code",
   "execution_count": 16,
   "metadata": {},
   "outputs": [
    {
     "data": {
      "text/plain": [
       "GridSearchCV(cv=3, estimator=RandomForestClassifier(), n_jobs=-1,\n",
       "             param_grid={'max_depth': range(1, 11),\n",
       "                         'max_features': range(10, 13), 'n_estimators': [200],\n",
       "                         'random_state': [1]},\n",
       "             scoring='accuracy')"
      ]
     },
     "execution_count": 16,
     "metadata": {},
     "output_type": "execute_result"
    }
   ],
   "source": [
    "param_grid = dict(\n",
    "    n_estimators=[200],\n",
    "    max_features=range(10, 13),\n",
    "    max_depth=range(1, 11),\n",
    "    random_state=[1]\n",
    ")\n",
    "\n",
    "rf = RandomForestClassifier()\n",
    "grid_rf = GridSearchCV(rf,\n",
    "                       param_grid=param_grid,\n",
    "                       scoring='accuracy',\n",
    "                       cv=3,\n",
    "                       n_jobs=-1)\n",
    "grid_rf.fit(X_train, y_train)"
   ]
  },
  {
   "cell_type": "code",
   "execution_count": 17,
   "metadata": {},
   "outputs": [
    {
     "data": {
      "text/plain": [
       "RandomForestClassifier(max_depth=9, max_features=11, n_estimators=200,\n",
       "                       random_state=1)"
      ]
     },
     "execution_count": 17,
     "metadata": {},
     "output_type": "execute_result"
    }
   ],
   "source": [
    "grid_rf.best_estimator_"
   ]
  },
  {
   "cell_type": "code",
   "execution_count": 18,
   "metadata": {},
   "outputs": [
    {
     "name": "stdout",
     "output_type": "stream",
     "text": [
      "train accuracy : 0.8270620108368453\n",
      "validation accuracy : 0.7762004175365345\n"
     ]
    }
   ],
   "source": [
    "pred_train = grid_rf.predict(X_train)\n",
    "pred_val = grid_rf.predict(X_val)\n",
    "\n",
    "print('train accuracy :', accuracy_score(y_train, pred_train))\n",
    "print('validation accuracy :', accuracy_score(y_val, pred_val))"
   ]
  },
  {
   "cell_type": "markdown",
   "metadata": {},
   "source": [
    "-----------------------------------\n",
    "# KNeighborsClassifier"
   ]
  },
  {
   "cell_type": "code",
   "execution_count": 19,
   "metadata": {},
   "outputs": [
    {
     "data": {
      "text/plain": [
       "KNeighborsClassifier()"
      ]
     },
     "execution_count": 19,
     "metadata": {},
     "output_type": "execute_result"
    }
   ],
   "source": [
    "from sklearn.neighbors import KNeighborsClassifier\n",
    "\n",
    "knn = KNeighborsClassifier()\n",
    "knn.fit(X_train, y_train)"
   ]
  },
  {
   "cell_type": "code",
   "execution_count": 20,
   "metadata": {},
   "outputs": [
    {
     "name": "stdout",
     "output_type": "stream",
     "text": [
      "train accuracy : 0.8307495484647802\n",
      "validation accuracy : 0.7450939457202506\n"
     ]
    }
   ],
   "source": [
    "pred_train = knn.predict(X_train)\n",
    "pred_val = knn.predict(X_val)\n",
    "\n",
    "print('train accuracy :', accuracy_score(y_train, pred_train))\n",
    "print('validation accuracy :', accuracy_score(y_val, pred_val))"
   ]
  },
  {
   "cell_type": "markdown",
   "metadata": {},
   "source": [
    "## gridsearch"
   ]
  },
  {
   "cell_type": "code",
   "execution_count": 21,
   "metadata": {},
   "outputs": [
    {
     "data": {
      "text/plain": [
       "GridSearchCV(cv=2, estimator=KNeighborsClassifier(), n_jobs=-1,\n",
       "             param_grid={'n_neighbors': range(1, 10)}, scoring='accuracy')"
      ]
     },
     "execution_count": 21,
     "metadata": {},
     "output_type": "execute_result"
    }
   ],
   "source": [
    "grid_knn = GridSearchCV(knn,\n",
    "                        param_grid=dict(n_neighbors=range(1, 10)),\n",
    "                        scoring='accuracy',\n",
    "                        n_jobs=-1,\n",
    "                        cv=2,\n",
    "                       )\n",
    "grid_knn.fit(X_train, y_train)"
   ]
  },
  {
   "cell_type": "code",
   "execution_count": 22,
   "metadata": {},
   "outputs": [
    {
     "data": {
      "text/plain": [
       "KNeighborsClassifier(n_neighbors=9)"
      ]
     },
     "execution_count": 22,
     "metadata": {},
     "output_type": "execute_result"
    }
   ],
   "source": [
    "grid_knn.best_estimator_"
   ]
  },
  {
   "cell_type": "code",
   "execution_count": 23,
   "metadata": {},
   "outputs": [
    {
     "name": "stdout",
     "output_type": "stream",
     "text": [
      "train accuracy : 0.8069686935580975\n",
      "validation accuracy : 0.7572025052192067\n"
     ]
    }
   ],
   "source": [
    "pred_train = grid_knn.predict(X_train)\n",
    "pred_val = grid_knn.predict(X_val)\n",
    "\n",
    "print('train accuracy :', accuracy_score(y_train, pred_train))\n",
    "print('validation accuracy :', accuracy_score(y_val, pred_val))"
   ]
  },
  {
   "cell_type": "markdown",
   "metadata": {},
   "source": [
    "-----------------------------------\n",
    "# svc"
   ]
  },
  {
   "cell_type": "code",
   "execution_count": 24,
   "metadata": {},
   "outputs": [
    {
     "data": {
      "text/plain": [
       "SVC()"
      ]
     },
     "execution_count": 24,
     "metadata": {},
     "output_type": "execute_result"
    }
   ],
   "source": [
    "from sklearn.svm import SVC\n",
    "\n",
    "svc = SVC()\n",
    "svc.fit(X_train, y_train)"
   ]
  },
  {
   "cell_type": "code",
   "execution_count": 25,
   "metadata": {},
   "outputs": [
    {
     "name": "stdout",
     "output_type": "stream",
     "text": [
      "train accuracy : 0.7969596628537026\n",
      "validation accuracy : 0.7749478079331942\n"
     ]
    }
   ],
   "source": [
    "pred_train = svc.predict(X_train)\n",
    "pred_val = svc.predict(X_val)\n",
    "\n",
    "print('train accuracy :', accuracy_score(y_train, pred_train))\n",
    "print('validation accuracy :', accuracy_score(y_val, pred_val))"
   ]
  },
  {
   "cell_type": "markdown",
   "metadata": {},
   "source": [
    "## RandomizedSearch"
   ]
  },
  {
   "cell_type": "code",
   "execution_count": 26,
   "metadata": {},
   "outputs": [
    {
     "data": {
      "text/plain": [
       "RandomizedSearchCV(cv=2, estimator=SVC(), n_jobs=-1,\n",
       "                   param_distributions={'C': [0.01, 0.1, 1, 10],\n",
       "                                        'gamma': [0.01, 0.1, 1],\n",
       "                                        'kernel': ['rbf', 'linear']},\n",
       "                   scoring='accuracy')"
      ]
     },
     "execution_count": 26,
     "metadata": {},
     "output_type": "execute_result"
    }
   ],
   "source": [
    "param = dict(\n",
    "    kernel=['rbf', 'linear'],\n",
    "    C=[0.01,  0.1, 1, 10],\n",
    "    gamma=[0.01, 0.1,  1]\n",
    ")\n",
    "\n",
    "random_svc = RandomizedSearchCV(svc,\n",
    "                                param_distributions=param,\n",
    "                                n_iter=10,\n",
    "                                scoring='accuracy',\n",
    "                                n_jobs=-1,\n",
    "                                cv=2)\n",
    "random_svc.fit(X_train, y_train)"
   ]
  },
  {
   "cell_type": "code",
   "execution_count": 27,
   "metadata": {},
   "outputs": [
    {
     "data": {
      "text/plain": [
       "SVC(C=10, gamma=0.01)"
      ]
     },
     "execution_count": 27,
     "metadata": {},
     "output_type": "execute_result"
    }
   ],
   "source": [
    "random_svc.best_estimator_"
   ]
  },
  {
   "cell_type": "code",
   "execution_count": 28,
   "metadata": {},
   "outputs": [
    {
     "name": "stdout",
     "output_type": "stream",
     "text": [
      "train accuracy : 0.7866496086694762\n",
      "validation accuracy : 0.7747390396659708\n"
     ]
    }
   ],
   "source": [
    "pred_train = random_svc.predict(X_train)\n",
    "pred_val = random_svc.predict(X_val)\n",
    "\n",
    "print('train accuracy :', accuracy_score(y_train, pred_train))\n",
    "print('validation accuracy :', accuracy_score(y_val, pred_val))"
   ]
  },
  {
   "cell_type": "markdown",
   "metadata": {},
   "source": [
    "-----------------------------------\n",
    "# voting (hard)"
   ]
  },
  {
   "cell_type": "code",
   "execution_count": 29,
   "metadata": {},
   "outputs": [
    {
     "data": {
      "text/plain": [
       "VotingClassifier(estimators=[('tree', DecisionTreeClassifier()),\n",
       "                             ('knn', KNeighborsClassifier()),\n",
       "                             ('random forest', RandomForestClassifier()),\n",
       "                             ('svm', SVC())])"
      ]
     },
     "execution_count": 29,
     "metadata": {},
     "output_type": "execute_result"
    }
   ],
   "source": [
    "from sklearn.ensemble import VotingClassifier\n",
    "\n",
    "estimators = [('tree', tree),\n",
    "              ('knn', knn), \n",
    "              ('random forest', rf), \n",
    "              ('svm', svc)]\n",
    "\n",
    "voting = VotingClassifier(estimators)\n",
    "voting.fit(X_train, y_train)"
   ]
  },
  {
   "cell_type": "code",
   "execution_count": 30,
   "metadata": {},
   "outputs": [
    {
     "name": "stdout",
     "output_type": "stream",
     "text": [
      "train accuracy : 0.9015653220951234\n",
      "validation accuracy : 0.7703549060542797\n"
     ]
    }
   ],
   "source": [
    "pred_train = voting.predict(X_train)\n",
    "pred_val = voting.predict(X_val)\n",
    "\n",
    "print('train accuracy :', accuracy_score(y_train, pred_train))\n",
    "print('validation accuracy :', accuracy_score(y_val, pred_val))"
   ]
  },
  {
   "cell_type": "markdown",
   "metadata": {},
   "source": [
    "# voting (soft)"
   ]
  },
  {
   "cell_type": "code",
   "execution_count": 31,
   "metadata": {},
   "outputs": [],
   "source": [
    "# voting_soft = VotingClassifier(estimators, voting='soft')\n",
    "# voting_soft.fit(X_train, y_train)"
   ]
  },
  {
   "cell_type": "code",
   "execution_count": 32,
   "metadata": {},
   "outputs": [],
   "source": [
    "# pred_train = voting.predict(X_train)\n",
    "# pred_val = voting.predict(X_val)\n",
    "\n",
    "# print('train accuracy :', accuracy_score(y_train, pred_train))\n",
    "# print('validation accuracy :', accuracy_score(y_val, pred_val))"
   ]
  },
  {
   "cell_type": "markdown",
   "metadata": {},
   "source": [
    "-----------------------------------\n",
    "# gradientboosting"
   ]
  },
  {
   "cell_type": "code",
   "execution_count": 33,
   "metadata": {},
   "outputs": [
    {
     "data": {
      "text/plain": [
       "GradientBoostingClassifier(random_state=1)"
      ]
     },
     "execution_count": 33,
     "metadata": {},
     "output_type": "execute_result"
    }
   ],
   "source": [
    "from sklearn.ensemble import GradientBoostingClassifier\n",
    "gb = GradientBoostingClassifier(random_state=1)\n",
    "gb.fit(X_train, y_train)"
   ]
  },
  {
   "cell_type": "code",
   "execution_count": 34,
   "metadata": {},
   "outputs": [
    {
     "name": "stdout",
     "output_type": "stream",
     "text": [
      "train accuracy : 0.797787477423239\n",
      "validation accuracy : 0.7759916492693111\n"
     ]
    }
   ],
   "source": [
    "pred_train = gb.predict(X_train)\n",
    "pred_val = gb.predict(X_val)\n",
    "\n",
    "print('train accuracy :', accuracy_score(y_train, pred_train))\n",
    "print('validation accuracy :', accuracy_score(y_val, pred_val))"
   ]
  },
  {
   "cell_type": "markdown",
   "metadata": {},
   "source": [
    "## randomized"
   ]
  },
  {
   "cell_type": "code",
   "execution_count": 35,
   "metadata": {},
   "outputs": [
    {
     "data": {
      "text/plain": [
       "RandomizedSearchCV(cv=3, estimator=GradientBoostingClassifier(random_state=1),\n",
       "                   n_jobs=-1,\n",
       "                   param_distributions={'learning_rate': [0.001, 0.005, 0.01,\n",
       "                                                          0.05, 0.1, 0.5],\n",
       "                                        'max_depth': range(1, 5),\n",
       "                                        'n_estimators': [100, 200, 300, 400,\n",
       "                                                         500],\n",
       "                                        'subsample': [0.5, 0.7, 1]},\n",
       "                   random_state=1, scoring='accuracy')"
      ]
     },
     "execution_count": 35,
     "metadata": {},
     "output_type": "execute_result"
    }
   ],
   "source": [
    "param = dict(\n",
    "    n_estimators=[100, 200, 300, 400, 500],\n",
    "    learning_rate=[0.001,0.005,0.01,0.05,0.1,0.5],\n",
    "    max_depth=range(1, 5),\n",
    "    subsample=[0.5,0.7,1]\n",
    ")\n",
    "\n",
    "random_gb = RandomizedSearchCV(gb,\n",
    "                             param_distributions=param,\n",
    "                             n_iter=10,\n",
    "                             scoring='accuracy',\n",
    "                             cv=3,\n",
    "                             n_jobs=-1,\n",
    "                             random_state=1\n",
    "                             )\n",
    "random_gb.fit(X_train, y_train)"
   ]
  },
  {
   "cell_type": "code",
   "execution_count": 36,
   "metadata": {},
   "outputs": [
    {
     "data": {
      "text/plain": [
       "GradientBoostingClassifier(learning_rate=0.01, max_depth=4, n_estimators=400,\n",
       "                           random_state=1, subsample=0.7)"
      ]
     },
     "execution_count": 36,
     "metadata": {},
     "output_type": "execute_result"
    }
   ],
   "source": [
    "random_gb.best_estimator_"
   ]
  },
  {
   "cell_type": "code",
   "execution_count": 37,
   "metadata": {},
   "outputs": [
    {
     "name": "stdout",
     "output_type": "stream",
     "text": [
      "train accuracy : 0.7986152919927755\n",
      "validation accuracy : 0.7780793319415449\n"
     ]
    }
   ],
   "source": [
    "pred_train = random_gb.predict(X_train)\n",
    "pred_val = random_gb.predict(X_val)\n",
    "\n",
    "print('train accuracy :', accuracy_score(y_train, pred_train))\n",
    "print('validation accuracy :', accuracy_score(y_val, pred_val))"
   ]
  },
  {
   "cell_type": "markdown",
   "metadata": {},
   "source": [
    "-------------------------------------\n",
    "# LogisticRegression"
   ]
  },
  {
   "cell_type": "code",
   "execution_count": 38,
   "metadata": {},
   "outputs": [
    {
     "data": {
      "text/plain": [
       "LogisticRegression(C=1, max_iter=300, random_state=1)"
      ]
     },
     "execution_count": 38,
     "metadata": {},
     "output_type": "execute_result"
    }
   ],
   "source": [
    "from sklearn.linear_model import LogisticRegression\n",
    "\n",
    "lr = LogisticRegression(random_state=1, C=1, max_iter=300)\n",
    "lr.fit(X_train, y_train)"
   ]
  },
  {
   "cell_type": "code",
   "execution_count": 39,
   "metadata": {
    "scrolled": true
   },
   "outputs": [
    {
     "name": "stdout",
     "output_type": "stream",
     "text": [
      "train accuracy : 0.768437688139675\n",
      "validation accuracy : 0.7684759916492693\n"
     ]
    }
   ],
   "source": [
    "pred_train = lr.predict(X_train)\n",
    "pred_val = lr.predict(X_val)\n",
    "\n",
    "print('train accuracy :', accuracy_score(y_train, pred_train))\n",
    "print('validation accuracy :', accuracy_score(y_val, pred_val))"
   ]
  },
  {
   "cell_type": "markdown",
   "metadata": {},
   "source": [
    "-------------------------------------\n",
    "# XGBoost"
   ]
  },
  {
   "cell_type": "code",
   "execution_count": 40,
   "metadata": {
    "scrolled": true
   },
   "outputs": [
    {
     "name": "stdout",
     "output_type": "stream",
     "text": [
      "[03:23:22] WARNING: C:/Users/Administrator/workspace/xgboost-win64_release_1.3.0/src/learner.cc:1061: Starting in XGBoost 1.3.0, the default evaluation metric used with the objective 'binary:logistic' was changed from 'error' to 'logloss'. Explicitly set eval_metric if you'd like to restore the old behavior.\n"
     ]
    },
    {
     "name": "stderr",
     "output_type": "stream",
     "text": [
      "c:\\users\\user\\anaconda3\\envs\\ml\\lib\\site-packages\\xgboost\\sklearn.py:888: UserWarning: The use of label encoder in XGBClassifier is deprecated and will be removed in a future release. To remove this warning, do the following: 1) Pass option use_label_encoder=False when constructing XGBClassifier object; and 2) Encode your labels (y) as integers starting with 0, i.e. 0, 1, 2, ..., [num_class - 1].\n",
      "  warnings.warn(label_encoder_deprecation_msg, UserWarning)\n"
     ]
    },
    {
     "data": {
      "text/plain": [
       "XGBClassifier(base_score=0.5, booster='gbtree', colsample_bylevel=1,\n",
       "              colsample_bynode=1, colsample_bytree=1, gamma=0, gpu_id=-1,\n",
       "              importance_type='gain', interaction_constraints='',\n",
       "              learning_rate=0.300000012, max_delta_step=0, max_depth=6,\n",
       "              min_child_weight=1, missing=nan, monotone_constraints='()',\n",
       "              n_estimators=100, n_jobs=12, num_parallel_tree=1, random_state=0,\n",
       "              reg_alpha=0, reg_lambda=1, scale_pos_weight=1, subsample=1,\n",
       "              tree_method='exact', validate_parameters=1, verbosity=None)"
      ]
     },
     "execution_count": 40,
     "metadata": {},
     "output_type": "execute_result"
    }
   ],
   "source": [
    "from xgboost import XGBClassifier\n",
    "\n",
    "xgb = XGBClassifier()\n",
    "xgb.fit(X_train, y_train)"
   ]
  },
  {
   "cell_type": "code",
   "execution_count": 41,
   "metadata": {
    "scrolled": true
   },
   "outputs": [
    {
     "name": "stdout",
     "output_type": "stream",
     "text": [
      "train accuracy : 0.8799668874172185\n",
      "validation accuracy : 0.7718162839248435\n"
     ]
    }
   ],
   "source": [
    "pred_train = xgb.predict(X_train)\n",
    "pred_val = xgb.predict(X_val)\n",
    "\n",
    "print('train accuracy :', accuracy_score(y_train, pred_train))\n",
    "print('validation accuracy :', accuracy_score(y_val, pred_val))"
   ]
  },
  {
   "cell_type": "code",
   "execution_count": null,
   "metadata": {},
   "outputs": [],
   "source": []
  },
  {
   "cell_type": "code",
   "execution_count": null,
   "metadata": {},
   "outputs": [],
   "source": []
  },
  {
   "cell_type": "code",
   "execution_count": 42,
   "metadata": {
    "scrolled": false
   },
   "outputs": [
    {
     "name": "stderr",
     "output_type": "stream",
     "text": [
      "c:\\users\\user\\anaconda3\\envs\\ml\\lib\\site-packages\\xgboost\\sklearn.py:888: UserWarning: The use of label encoder in XGBClassifier is deprecated and will be removed in a future release. To remove this warning, do the following: 1) Pass option use_label_encoder=False when constructing XGBClassifier object; and 2) Encode your labels (y) as integers starting with 0, i.e. 0, 1, 2, ..., [num_class - 1].\n",
      "  warnings.warn(label_encoder_deprecation_msg, UserWarning)\n"
     ]
    },
    {
     "name": "stdout",
     "output_type": "stream",
     "text": [
      "[03:23:36] WARNING: C:/Users/Administrator/workspace/xgboost-win64_release_1.3.0/src/learner.cc:1061: Starting in XGBoost 1.3.0, the default evaluation metric used with the objective 'binary:logistic' was changed from 'error' to 'logloss'. Explicitly set eval_metric if you'd like to restore the old behavior.\n"
     ]
    },
    {
     "data": {
      "text/plain": [
       "RandomizedSearchCV(cv=3,\n",
       "                   estimator=XGBClassifier(base_score=0.5, booster='gbtree',\n",
       "                                           colsample_bylevel=1,\n",
       "                                           colsample_bynode=1,\n",
       "                                           colsample_bytree=1, gamma=0,\n",
       "                                           gpu_id=-1, importance_type='gain',\n",
       "                                           interaction_constraints='',\n",
       "                                           learning_rate=0.300000012,\n",
       "                                           max_delta_step=0, max_depth=6,\n",
       "                                           min_child_weight=1, missing=nan,\n",
       "                                           monotone_constraints='()',\n",
       "                                           n_estimators=100, n_jobs=12,\n",
       "                                           num_parallel_tree=1, random_state=0,\n",
       "                                           reg_alpha=0, reg_lambda=1,\n",
       "                                           scale_pos_weight=1, subsample=1,\n",
       "                                           tree_method='exact',\n",
       "                                           validate_parameters=1,\n",
       "                                           verbosity=None),\n",
       "                   n_iter=30, n_jobs=-1,\n",
       "                   param_distributions={'learning_rate': [0.001, 0.005, 0.01,\n",
       "                                                          0.05, 0.1, 0.5],\n",
       "                                        'max_depth': range(1, 7),\n",
       "                                        'n_estimators': [100, 200, 300, 400,\n",
       "                                                         500]},\n",
       "                   random_state=1, scoring='accuracy')"
      ]
     },
     "execution_count": 42,
     "metadata": {},
     "output_type": "execute_result"
    }
   ],
   "source": [
    "param = dict(\n",
    "    n_estimators = [100, 200, 300, 400, 500],\n",
    "    learning_rate=[0.001,0.005,0.01,0.05,0.1,0.5],\n",
    "    max_depth=range(1,7)\n",
    ")\n",
    "\n",
    "random_xgb = RandomizedSearchCV(xgb,\n",
    "                                param_distributions=param,\n",
    "                                n_iter=30,\n",
    "                                scoring='accuracy',\n",
    "                                cv=3,\n",
    "                                n_jobs=-1,\n",
    "                                random_state=1)\n",
    "random_xgb.fit(X_train, y_train)"
   ]
  },
  {
   "cell_type": "code",
   "execution_count": 43,
   "metadata": {},
   "outputs": [
    {
     "data": {
      "text/plain": [
       "XGBClassifier(base_score=0.5, booster='gbtree', colsample_bylevel=1,\n",
       "              colsample_bynode=1, colsample_bytree=1, gamma=0, gpu_id=-1,\n",
       "              importance_type='gain', interaction_constraints='',\n",
       "              learning_rate=0.005, max_delta_step=0, max_depth=5,\n",
       "              min_child_weight=1, missing=nan, monotone_constraints='()',\n",
       "              n_estimators=500, n_jobs=12, num_parallel_tree=1, random_state=0,\n",
       "              reg_alpha=0, reg_lambda=1, scale_pos_weight=1, subsample=1,\n",
       "              tree_method='exact', validate_parameters=1, verbosity=None)"
      ]
     },
     "execution_count": 43,
     "metadata": {},
     "output_type": "execute_result"
    }
   ],
   "source": [
    "random_xgb.best_estimator_"
   ]
  },
  {
   "cell_type": "code",
   "execution_count": 44,
   "metadata": {},
   "outputs": [
    {
     "name": "stdout",
     "output_type": "stream",
     "text": [
      "train accuracy : 0.8799668874172185\n",
      "validation accuracy : 0.7789144050104384\n"
     ]
    }
   ],
   "source": [
    "## pred_train = random_xgb.predict(X_train)\n",
    "pred_val = random_xgb.predict(X_val)\n",
    "\n",
    "print('train accuracy :', accuracy_score(y_train, pred_train))\n",
    "print('validation accuracy :', accuracy_score(y_val, pred_val))"
   ]
  },
  {
   "cell_type": "code",
   "execution_count": null,
   "metadata": {},
   "outputs": [],
   "source": []
  },
  {
   "cell_type": "markdown",
   "metadata": {},
   "source": [
    "# test"
   ]
  },
  {
   "cell_type": "code",
   "execution_count": 45,
   "metadata": {
    "scrolled": true
   },
   "outputs": [
    {
     "name": "stdout",
     "output_type": "stream",
     "text": [
      "test accuracy tree: 0.6815406294034758\n"
     ]
    }
   ],
   "source": [
    "# 검증\n",
    "from sklearn.metrics import accuracy_score, classification_report\n",
    "pred_test = tree.predict(X_test)\n",
    "\n",
    "print('test accuracy tree:', accuracy_score(y_test, pred_test))"
   ]
  },
  {
   "cell_type": "code",
   "execution_count": 46,
   "metadata": {},
   "outputs": [
    {
     "name": "stdout",
     "output_type": "stream",
     "text": [
      "test accuracy grid_tree: 0.7797087834664161\n"
     ]
    }
   ],
   "source": [
    "pred_test = grid_tree.predict(X_test)\n",
    "\n",
    "print('test accuracy grid_tree:', accuracy_score(y_test, pred_test))"
   ]
  },
  {
   "cell_type": "code",
   "execution_count": 47,
   "metadata": {
    "scrolled": true
   },
   "outputs": [],
   "source": [
    "# pred_test = rf.predict(X_test)\n",
    "\n",
    "# print('test accuracy rf:', accuracy_score(y_test, pred_test))"
   ]
  },
  {
   "cell_type": "code",
   "execution_count": 48,
   "metadata": {},
   "outputs": [
    {
     "name": "stdout",
     "output_type": "stream",
     "text": [
      "test accuracy grid_rf: 0.7801784875528417\n"
     ]
    }
   ],
   "source": [
    "pred_test = grid_rf.predict(X_test)\n",
    "\n",
    "print('test accuracy grid_rf:', accuracy_score(y_test, pred_test))"
   ]
  },
  {
   "cell_type": "code",
   "execution_count": 49,
   "metadata": {
    "scrolled": true
   },
   "outputs": [
    {
     "name": "stdout",
     "output_type": "stream",
     "text": [
      "test accuracy knn: 0.7454203851573509\n"
     ]
    }
   ],
   "source": [
    "pred_test = knn.predict(X_test)\n",
    "\n",
    "print('test accuracy knn:', accuracy_score(y_test, pred_test))"
   ]
  },
  {
   "cell_type": "code",
   "execution_count": 50,
   "metadata": {},
   "outputs": [
    {
     "name": "stdout",
     "output_type": "stream",
     "text": [
      "test accuracy grid_knn: 0.7482386096759042\n"
     ]
    }
   ],
   "source": [
    "pred_test = grid_knn.predict(X_test)\n",
    "\n",
    "print('test accuracy grid_knn:', accuracy_score(y_test, pred_test))"
   ]
  },
  {
   "cell_type": "code",
   "execution_count": 51,
   "metadata": {},
   "outputs": [
    {
     "name": "stdout",
     "output_type": "stream",
     "text": [
      "test accuracy svc: 0.7801784875528417\n"
     ]
    }
   ],
   "source": [
    "pred_test = svc.predict(X_test)\n",
    "\n",
    "print('test accuracy svc:', accuracy_score(y_test, pred_test))"
   ]
  },
  {
   "cell_type": "code",
   "execution_count": 52,
   "metadata": {},
   "outputs": [
    {
     "name": "stdout",
     "output_type": "stream",
     "text": [
      "test accuracy random_svc: 0.7801784875528417\n"
     ]
    }
   ],
   "source": [
    "pred_test = random_svc.predict(X_test)\n",
    "\n",
    "print('test accuracy random_svc:', accuracy_score(y_test, pred_test))"
   ]
  },
  {
   "cell_type": "code",
   "execution_count": 53,
   "metadata": {},
   "outputs": [
    {
     "name": "stdout",
     "output_type": "stream",
     "text": [
      "test accuracy voting: 0.7721935180836074\n"
     ]
    }
   ],
   "source": [
    "pred_test = voting.predict(X_test)\n",
    "\n",
    "print('test accuracy voting:', accuracy_score(y_test, pred_test))"
   ]
  },
  {
   "cell_type": "code",
   "execution_count": 54,
   "metadata": {},
   "outputs": [
    {
     "name": "stdout",
     "output_type": "stream",
     "text": [
      "test accuracy gb: 0.778769375293565\n"
     ]
    }
   ],
   "source": [
    "pred_test = gb.predict(X_test)\n",
    "\n",
    "print('test accuracy gb:', accuracy_score(y_test, pred_test))"
   ]
  },
  {
   "cell_type": "code",
   "execution_count": 55,
   "metadata": {},
   "outputs": [
    {
     "name": "stdout",
     "output_type": "stream",
     "text": [
      "test accuracy random_gb: 0.7792390793799906\n"
     ]
    }
   ],
   "source": [
    "pred_test = random_gb.predict(X_test)\n",
    "\n",
    "print('test accuracy random_gb:', accuracy_score(y_test, pred_test))"
   ]
  },
  {
   "cell_type": "code",
   "execution_count": 56,
   "metadata": {},
   "outputs": [
    {
     "name": "stdout",
     "output_type": "stream",
     "text": [
      "test accuracy lr: 0.7642085486143729\n"
     ]
    }
   ],
   "source": [
    "pred_test = lr.predict(X_test)\n",
    "\n",
    "print('test accuracy lr:', accuracy_score(y_test, pred_test))"
   ]
  },
  {
   "cell_type": "code",
   "execution_count": 57,
   "metadata": {
    "scrolled": true
   },
   "outputs": [
    {
     "name": "stdout",
     "output_type": "stream",
     "text": [
      "test accuracy xgb: 0.7670267731329262\n"
     ]
    }
   ],
   "source": [
    "pred_test = xgb.predict(X_test)\n",
    "\n",
    "print('test accuracy xgb:', accuracy_score(y_test, pred_test))"
   ]
  },
  {
   "cell_type": "code",
   "execution_count": 58,
   "metadata": {
    "scrolled": true
   },
   "outputs": [
    {
     "name": "stdout",
     "output_type": "stream",
     "text": [
      "test accuracy random_xgb: 0.7815875998121183\n"
     ]
    }
   ],
   "source": [
    "pred_test = random_xgb.predict(X_test)\n",
    "\n",
    "print('test accuracy random_xgb:', accuracy_score(y_test, pred_test))"
   ]
  },
  {
   "cell_type": "code",
   "execution_count": null,
   "metadata": {},
   "outputs": [],
   "source": []
  },
  {
   "cell_type": "markdown",
   "metadata": {},
   "source": [
    "over_sampling = test accuracy random_xgb: 0.7698449976514796"
   ]
  },
  {
   "cell_type": "markdown",
   "metadata": {},
   "source": [
    "under_sampling = test accuracy random_xgb: 0.7815875998121183"
   ]
  },
  {
   "cell_type": "markdown",
   "metadata": {},
   "source": [
    "combine_sampling = test accuracy random_xgb: 0.7726632221700329"
   ]
  }
 ],
 "metadata": {
  "kernelspec": {
   "display_name": "Python 3",
   "language": "python",
   "name": "python3"
  },
  "language_info": {
   "codemirror_mode": {
    "name": "ipython",
    "version": 3
   },
   "file_extension": ".py",
   "mimetype": "text/x-python",
   "name": "python",
   "nbconvert_exporter": "python",
   "pygments_lexer": "ipython3",
   "version": "3.7.10"
  }
 },
 "nbformat": 4,
 "nbformat_minor": 4
}
