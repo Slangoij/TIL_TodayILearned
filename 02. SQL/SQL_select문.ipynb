{
 "cells": [
  {
   "cell_type": "markdown",
   "metadata": {},
   "source": [
    "# SELECT 문 실행 순서"
   ]
  },
  {
   "cell_type": "markdown",
   "metadata": {},
   "source": [
    "- 5. select 컬럼\n",
    "- 1. from 테이블\n",
    "- 2. where 행 조건\n",
    "- 3. group by 그룹기준 컬럼\n",
    "- 4. having 그룹 선택 조건\n",
    "- 6. order by 정렬"
   ]
  },
  {
   "cell_type": "markdown",
   "metadata": {},
   "source": [
    "## 조인"
   ]
  },
  {
   "cell_type": "markdown",
   "metadata": {},
   "source": [
    "- 1. `직원`은 `부서`에 소속되어 있다\n",
    "- 2. 외래키는 자식 테이블에서의 `PK(Primary Key)`로써 `FK(Foreign Key)`로 표기한다.\n",
    "- 3. 보통 여러 테이블을 조인할 때, 직접 연관이 없는 두 테이블은 중간에 연결되어 있는 테이블을 매개체로 조인하여 관계를 맺게 한다!"
   ]
  }
 ],
 "metadata": {
  "kernelspec": {
   "display_name": "Python 3",
   "language": "python",
   "name": "python3"
  },
  "language_info": {
   "codemirror_mode": {
    "name": "ipython",
    "version": 3
   },
   "file_extension": ".py",
   "mimetype": "text/x-python",
   "name": "python",
   "nbconvert_exporter": "python",
   "pygments_lexer": "ipython3",
   "version": "3.8.5"
  }
 },
 "nbformat": 4,
 "nbformat_minor": 4
}
