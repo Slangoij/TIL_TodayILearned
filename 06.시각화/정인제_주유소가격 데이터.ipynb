{
 "cells": [
  {
   "cell_type": "markdown",
   "metadata": {},
   "source": [
    "kgmyh@naver.com"
   ]
  },
  {
   "cell_type": "markdown",
   "metadata": {},
   "source": [
    "# 데이터 불러오기\n",
    "- 2019년 주유소들의 일자별 가격 데이터"
   ]
  },
  {
   "cell_type": "code",
   "execution_count": 65,
   "metadata": {},
   "outputs": [],
   "source": [
    "import numpy as np\n",
    "import pandas as pd\n",
    "import matplotlib as mpl\n",
    "import matplotlib.pyplot as plt\n",
    "import seaborn as sns\n",
    "mpl.rcParams.update(mpl.rcParamsDefault)\n",
    "plt.style.use('seaborn')"
   ]
  },
  {
   "cell_type": "code",
   "execution_count": 37,
   "metadata": {
    "ExecuteTime": {
     "end_time": "2020-08-16T12:00:17.372117Z",
     "start_time": "2020-08-16T12:00:16.763745Z"
    }
   },
   "outputs": [],
   "source": [
    "# 상반기, 하반기 주유소 가격 데이터 조회\n",
    "hf1 = pd.read_csv('data/2019년 상반기 주유소 판매가격.csv')\n",
    "hf2 = pd.read_csv('data/2019년 하반기 주유소 판매가격.csv')"
   ]
  },
  {
   "cell_type": "code",
   "execution_count": 38,
   "metadata": {
    "ExecuteTime": {
     "end_time": "2020-08-16T12:00:17.419988Z",
     "start_time": "2020-08-16T12:00:17.375108Z"
    }
   },
   "outputs": [
    {
     "data": {
      "text/html": [
       "<div>\n",
       "<style scoped>\n",
       "    .dataframe tbody tr th:only-of-type {\n",
       "        vertical-align: middle;\n",
       "    }\n",
       "\n",
       "    .dataframe tbody tr th {\n",
       "        vertical-align: top;\n",
       "    }\n",
       "\n",
       "    .dataframe thead th {\n",
       "        text-align: right;\n",
       "    }\n",
       "</style>\n",
       "<table border=\"1\" class=\"dataframe\">\n",
       "  <thead>\n",
       "    <tr style=\"text-align: right;\">\n",
       "      <th></th>\n",
       "      <th>번호</th>\n",
       "      <th>지역</th>\n",
       "      <th>상호</th>\n",
       "      <th>주소</th>\n",
       "      <th>기간</th>\n",
       "      <th>상표</th>\n",
       "      <th>셀프여부</th>\n",
       "      <th>고급휘발유</th>\n",
       "      <th>휘발유</th>\n",
       "      <th>경유</th>\n",
       "      <th>실내등유</th>\n",
       "    </tr>\n",
       "  </thead>\n",
       "  <tbody>\n",
       "    <tr>\n",
       "      <th>0</th>\n",
       "      <td>A0006039</td>\n",
       "      <td>서울 강남구</td>\n",
       "      <td>(주)동하힐탑셀프주유소</td>\n",
       "      <td>서울 강남구 논현로 640</td>\n",
       "      <td>20190101</td>\n",
       "      <td>SK에너지</td>\n",
       "      <td>셀프</td>\n",
       "      <td>1673</td>\n",
       "      <td>1465</td>\n",
       "      <td>1365</td>\n",
       "      <td>0</td>\n",
       "    </tr>\n",
       "    <tr>\n",
       "      <th>1</th>\n",
       "      <td>A0006039</td>\n",
       "      <td>서울 강남구</td>\n",
       "      <td>(주)동하힐탑셀프주유소</td>\n",
       "      <td>서울 강남구 논현로 640</td>\n",
       "      <td>20190102</td>\n",
       "      <td>SK에너지</td>\n",
       "      <td>셀프</td>\n",
       "      <td>1673</td>\n",
       "      <td>1465</td>\n",
       "      <td>1365</td>\n",
       "      <td>0</td>\n",
       "    </tr>\n",
       "    <tr>\n",
       "      <th>2</th>\n",
       "      <td>A0006039</td>\n",
       "      <td>서울 강남구</td>\n",
       "      <td>(주)동하힐탑셀프주유소</td>\n",
       "      <td>서울 강남구 논현로 640</td>\n",
       "      <td>20190103</td>\n",
       "      <td>SK에너지</td>\n",
       "      <td>셀프</td>\n",
       "      <td>1673</td>\n",
       "      <td>1465</td>\n",
       "      <td>1365</td>\n",
       "      <td>0</td>\n",
       "    </tr>\n",
       "    <tr>\n",
       "      <th>3</th>\n",
       "      <td>A0006039</td>\n",
       "      <td>서울 강남구</td>\n",
       "      <td>(주)동하힐탑셀프주유소</td>\n",
       "      <td>서울 강남구 논현로 640</td>\n",
       "      <td>20190104</td>\n",
       "      <td>SK에너지</td>\n",
       "      <td>셀프</td>\n",
       "      <td>1673</td>\n",
       "      <td>1465</td>\n",
       "      <td>1365</td>\n",
       "      <td>0</td>\n",
       "    </tr>\n",
       "    <tr>\n",
       "      <th>4</th>\n",
       "      <td>A0006039</td>\n",
       "      <td>서울 강남구</td>\n",
       "      <td>(주)동하힐탑셀프주유소</td>\n",
       "      <td>서울 강남구 논현로 640</td>\n",
       "      <td>20190105</td>\n",
       "      <td>SK에너지</td>\n",
       "      <td>셀프</td>\n",
       "      <td>1673</td>\n",
       "      <td>1465</td>\n",
       "      <td>1365</td>\n",
       "      <td>0</td>\n",
       "    </tr>\n",
       "    <tr>\n",
       "      <th>...</th>\n",
       "      <td>...</td>\n",
       "      <td>...</td>\n",
       "      <td>...</td>\n",
       "      <td>...</td>\n",
       "      <td>...</td>\n",
       "      <td>...</td>\n",
       "      <td>...</td>\n",
       "      <td>...</td>\n",
       "      <td>...</td>\n",
       "      <td>...</td>\n",
       "      <td>...</td>\n",
       "    </tr>\n",
       "    <tr>\n",
       "      <th>91119</th>\n",
       "      <td>A0032659</td>\n",
       "      <td>서울 중랑구</td>\n",
       "      <td>지에스칼텍스㈜ 소망주유소</td>\n",
       "      <td>서울 중랑구 망우로 475</td>\n",
       "      <td>20191227</td>\n",
       "      <td>GS칼텍스</td>\n",
       "      <td>셀프</td>\n",
       "      <td>0</td>\n",
       "      <td>1540</td>\n",
       "      <td>1389</td>\n",
       "      <td>1100</td>\n",
       "    </tr>\n",
       "    <tr>\n",
       "      <th>91120</th>\n",
       "      <td>A0032659</td>\n",
       "      <td>서울 중랑구</td>\n",
       "      <td>지에스칼텍스㈜ 소망주유소</td>\n",
       "      <td>서울 중랑구 망우로 475</td>\n",
       "      <td>20191228</td>\n",
       "      <td>GS칼텍스</td>\n",
       "      <td>셀프</td>\n",
       "      <td>0</td>\n",
       "      <td>1540</td>\n",
       "      <td>1389</td>\n",
       "      <td>1100</td>\n",
       "    </tr>\n",
       "    <tr>\n",
       "      <th>91121</th>\n",
       "      <td>A0032659</td>\n",
       "      <td>서울 중랑구</td>\n",
       "      <td>지에스칼텍스㈜ 소망주유소</td>\n",
       "      <td>서울 중랑구 망우로 475</td>\n",
       "      <td>20191229</td>\n",
       "      <td>GS칼텍스</td>\n",
       "      <td>셀프</td>\n",
       "      <td>0</td>\n",
       "      <td>1540</td>\n",
       "      <td>1389</td>\n",
       "      <td>1100</td>\n",
       "    </tr>\n",
       "    <tr>\n",
       "      <th>91122</th>\n",
       "      <td>A0032659</td>\n",
       "      <td>서울 중랑구</td>\n",
       "      <td>지에스칼텍스㈜ 소망주유소</td>\n",
       "      <td>서울 중랑구 망우로 475</td>\n",
       "      <td>20191230</td>\n",
       "      <td>GS칼텍스</td>\n",
       "      <td>셀프</td>\n",
       "      <td>0</td>\n",
       "      <td>1540</td>\n",
       "      <td>1389</td>\n",
       "      <td>1100</td>\n",
       "    </tr>\n",
       "    <tr>\n",
       "      <th>91123</th>\n",
       "      <td>A0032659</td>\n",
       "      <td>서울 중랑구</td>\n",
       "      <td>지에스칼텍스㈜ 소망주유소</td>\n",
       "      <td>서울 중랑구 망우로 475</td>\n",
       "      <td>20191231</td>\n",
       "      <td>GS칼텍스</td>\n",
       "      <td>셀프</td>\n",
       "      <td>0</td>\n",
       "      <td>1540</td>\n",
       "      <td>1389</td>\n",
       "      <td>1100</td>\n",
       "    </tr>\n",
       "  </tbody>\n",
       "</table>\n",
       "<p>181714 rows × 11 columns</p>\n",
       "</div>"
      ],
      "text/plain": [
       "             번호      지역             상호              주소        기간     상표 셀프여부  \\\n",
       "0      A0006039  서울 강남구   (주)동하힐탑셀프주유소  서울 강남구 논현로 640  20190101  SK에너지   셀프   \n",
       "1      A0006039  서울 강남구   (주)동하힐탑셀프주유소  서울 강남구 논현로 640  20190102  SK에너지   셀프   \n",
       "2      A0006039  서울 강남구   (주)동하힐탑셀프주유소  서울 강남구 논현로 640  20190103  SK에너지   셀프   \n",
       "3      A0006039  서울 강남구   (주)동하힐탑셀프주유소  서울 강남구 논현로 640  20190104  SK에너지   셀프   \n",
       "4      A0006039  서울 강남구   (주)동하힐탑셀프주유소  서울 강남구 논현로 640  20190105  SK에너지   셀프   \n",
       "...         ...     ...            ...             ...       ...    ...  ...   \n",
       "91119  A0032659  서울 중랑구  지에스칼텍스㈜ 소망주유소  서울 중랑구 망우로 475  20191227  GS칼텍스   셀프   \n",
       "91120  A0032659  서울 중랑구  지에스칼텍스㈜ 소망주유소  서울 중랑구 망우로 475  20191228  GS칼텍스   셀프   \n",
       "91121  A0032659  서울 중랑구  지에스칼텍스㈜ 소망주유소  서울 중랑구 망우로 475  20191229  GS칼텍스   셀프   \n",
       "91122  A0032659  서울 중랑구  지에스칼텍스㈜ 소망주유소  서울 중랑구 망우로 475  20191230  GS칼텍스   셀프   \n",
       "91123  A0032659  서울 중랑구  지에스칼텍스㈜ 소망주유소  서울 중랑구 망우로 475  20191231  GS칼텍스   셀프   \n",
       "\n",
       "       고급휘발유   휘발유    경유  실내등유  \n",
       "0       1673  1465  1365     0  \n",
       "1       1673  1465  1365     0  \n",
       "2       1673  1465  1365     0  \n",
       "3       1673  1465  1365     0  \n",
       "4       1673  1465  1365     0  \n",
       "...      ...   ...   ...   ...  \n",
       "91119      0  1540  1389  1100  \n",
       "91120      0  1540  1389  1100  \n",
       "91121      0  1540  1389  1100  \n",
       "91122      0  1540  1389  1100  \n",
       "91123      0  1540  1389  1100  \n",
       "\n",
       "[181714 rows x 11 columns]"
      ]
     },
     "execution_count": 38,
     "metadata": {},
     "output_type": "execute_result"
    }
   ],
   "source": [
    "# 상반기, 하반기 DataFrame 합치기\n",
    "df = pd.concat([hf1, hf2], axis=0)\n",
    "df"
   ]
  },
  {
   "cell_type": "code",
   "execution_count": 39,
   "metadata": {
    "ExecuteTime": {
     "end_time": "2020-08-16T12:21:48.358526Z",
     "start_time": "2020-08-16T12:21:48.350548Z"
    }
   },
   "outputs": [
    {
     "name": "stdout",
     "output_type": "stream",
     "text": [
      "<class 'pandas.core.frame.DataFrame'>\n",
      "Int64Index: 181714 entries, 0 to 91123\n",
      "Data columns (total 11 columns):\n",
      " #   Column  Non-Null Count   Dtype \n",
      "---  ------  --------------   ----- \n",
      " 0   번호      181714 non-null  object\n",
      " 1   지역      181714 non-null  object\n",
      " 2   상호      181714 non-null  object\n",
      " 3   주소      181714 non-null  object\n",
      " 4   기간      181714 non-null  int64 \n",
      " 5   상표      181714 non-null  object\n",
      " 6   셀프여부    181714 non-null  object\n",
      " 7   고급휘발유   181714 non-null  int64 \n",
      " 8   휘발유     181714 non-null  int64 \n",
      " 9   경유      181714 non-null  int64 \n",
      " 10  실내등유    181714 non-null  int64 \n",
      "dtypes: int64(5), object(6)\n",
      "memory usage: 16.6+ MB\n"
     ]
    }
   ],
   "source": [
    "# DataFrame 기본 정보 조회\n",
    "df.info()"
   ]
  },
  {
   "cell_type": "code",
   "execution_count": 40,
   "metadata": {
    "ExecuteTime": {
     "end_time": "2020-08-16T12:00:17.845850Z",
     "start_time": "2020-08-16T12:00:17.818922Z"
    }
   },
   "outputs": [
    {
     "data": {
      "text/plain": [
       "array(['SK에너지', 'GS칼텍스', 'S-OIL', '현대오일뱅크', '알뜰주유소', 'NH-OIL', '알뜰(ex)',\n",
       "       '자가상표'], dtype=object)"
      ]
     },
     "execution_count": 40,
     "metadata": {},
     "output_type": "execute_result"
    }
   ],
   "source": [
    "# 상표 컬럼의 고유값 조회\n",
    "df['상표'].unique()"
   ]
  },
  {
   "cell_type": "code",
   "execution_count": 41,
   "metadata": {
    "ExecuteTime": {
     "end_time": "2020-08-16T12:00:17.876769Z",
     "start_time": "2020-08-16T12:00:17.848841Z"
    }
   },
   "outputs": [
    {
     "data": {
      "text/plain": [
       "array(['서울 강남구', '서울 강동구', '서울 강북구', '서울 강서구', '서울 관악구', '서울 광진구',\n",
       "       '서울 구로구', '서울 금천구', '서울 노원구', '서울 도봉구', '서울 동대문구', '서울 동작구',\n",
       "       '서울 마포구', '서울 서대문구', '서울 서초구', '서울 성동구', '서울 성북구', '서울 송파구',\n",
       "       '서울 양천구', '서울 영등포구', '서울 용산구', '서울 은평구', '서울 종로구', '서울 중구',\n",
       "       '서울 중랑구'], dtype=object)"
      ]
     },
     "execution_count": 41,
     "metadata": {},
     "output_type": "execute_result"
    }
   ],
   "source": [
    "# 지역 컬럼의 고유값 조회\n",
    "df['지역'].unique()"
   ]
  },
  {
   "cell_type": "markdown",
   "metadata": {},
   "source": [
    "> ### str accessor\n",
    "> - `Series.str.String메소드()`\n",
    "> - 문자열 타입 Series에 String 메소드들을 사용하여 일괄처리 할 수 있도록 한다.\n",
    "> - str accessor 메소드 : https://pandas.pydata.org/pandas-docs/stable/reference/series.html#api-series-str\n",
    "\n",
    "> ### datetime으로 변환\n",
    "> - `pd.to_datetime(변환할 Series)`\n",
    "> - x 또는 y 축이 날짜 일 경우 datetime 타입으로 처리하는 것이 좋다.\n",
    "> - datetime을 변환하면 날짜만의 기능을 다룰 수 있다.\n",
    ">     - dt accessor를 이용해 datetime의 속성값들을(년, 월, 일 등) 추출할 수 있다.\n",
    ">     - https://pandas.pydata.org/pandas-docs/stable/reference/api/pandas.Series.dt.html"
   ]
  },
  {
   "cell_type": "code",
   "execution_count": 42,
   "metadata": {},
   "outputs": [],
   "source": [
    "import datetime"
   ]
  },
  {
   "cell_type": "code",
   "execution_count": 116,
   "metadata": {
    "ExecuteTime": {
     "end_time": "2020-08-16T12:00:18.289663Z",
     "start_time": "2020-08-16T12:00:17.881760Z"
    }
   },
   "outputs": [
    {
     "data": {
      "text/plain": [
       "array(['강남구', '강동구', '강북구', '강서구', '관악구', '광진구', '구로구', '금천구', '노원구',\n",
       "       '도봉구', '동대문구', '동작구', '마포구', '서대문구', '서초구', '성동구', '성북구', '송파구',\n",
       "       '양천구', '영등포구', '용산구', '은평구', '종로구', '중구', '중랑구'], dtype=object)"
      ]
     },
     "execution_count": 116,
     "metadata": {},
     "output_type": "execute_result"
    }
   ],
   "source": [
    "# 지역 컬럼의 값을 이용하여 \"구\" 컬럼 생성 (지역에서 구만 추출)\n",
    "df['구'] = df['지역'].str.replace('서울 ', '')\n",
    "df.head()\n",
    "df['구'].unique()"
   ]
  },
  {
   "cell_type": "code",
   "execution_count": 117,
   "metadata": {
    "ExecuteTime": {
     "end_time": "2020-08-16T12:00:18.334543Z",
     "start_time": "2020-08-16T12:00:18.292656Z"
    }
   },
   "outputs": [
    {
     "data": {
      "text/html": [
       "<div>\n",
       "<style scoped>\n",
       "    .dataframe tbody tr th:only-of-type {\n",
       "        vertical-align: middle;\n",
       "    }\n",
       "\n",
       "    .dataframe tbody tr th {\n",
       "        vertical-align: top;\n",
       "    }\n",
       "\n",
       "    .dataframe thead th {\n",
       "        text-align: right;\n",
       "    }\n",
       "</style>\n",
       "<table border=\"1\" class=\"dataframe\">\n",
       "  <thead>\n",
       "    <tr style=\"text-align: right;\">\n",
       "      <th></th>\n",
       "      <th>번호</th>\n",
       "      <th>지역</th>\n",
       "      <th>상호</th>\n",
       "      <th>주소</th>\n",
       "      <th>기간</th>\n",
       "      <th>상표</th>\n",
       "      <th>셀프여부</th>\n",
       "      <th>고급휘발유</th>\n",
       "      <th>휘발유</th>\n",
       "      <th>경유</th>\n",
       "      <th>실내등유</th>\n",
       "      <th>구</th>\n",
       "      <th>월</th>\n",
       "      <th>일</th>\n",
       "      <th>요일</th>\n",
       "    </tr>\n",
       "  </thead>\n",
       "  <tbody>\n",
       "    <tr>\n",
       "      <th>0</th>\n",
       "      <td>A0006039</td>\n",
       "      <td>서울 강남구</td>\n",
       "      <td>(주)동하힐탑셀프주유소</td>\n",
       "      <td>서울 강남구 논현로 640</td>\n",
       "      <td>2019-01-01</td>\n",
       "      <td>SK에너지</td>\n",
       "      <td>셀프</td>\n",
       "      <td>1673</td>\n",
       "      <td>1465</td>\n",
       "      <td>1365</td>\n",
       "      <td>0</td>\n",
       "      <td>강남구</td>\n",
       "      <td>1</td>\n",
       "      <td>1</td>\n",
       "      <td>1</td>\n",
       "    </tr>\n",
       "    <tr>\n",
       "      <th>1</th>\n",
       "      <td>A0006039</td>\n",
       "      <td>서울 강남구</td>\n",
       "      <td>(주)동하힐탑셀프주유소</td>\n",
       "      <td>서울 강남구 논현로 640</td>\n",
       "      <td>2019-01-02</td>\n",
       "      <td>SK에너지</td>\n",
       "      <td>셀프</td>\n",
       "      <td>1673</td>\n",
       "      <td>1465</td>\n",
       "      <td>1365</td>\n",
       "      <td>0</td>\n",
       "      <td>강남구</td>\n",
       "      <td>1</td>\n",
       "      <td>2</td>\n",
       "      <td>2</td>\n",
       "    </tr>\n",
       "    <tr>\n",
       "      <th>2</th>\n",
       "      <td>A0006039</td>\n",
       "      <td>서울 강남구</td>\n",
       "      <td>(주)동하힐탑셀프주유소</td>\n",
       "      <td>서울 강남구 논현로 640</td>\n",
       "      <td>2019-01-03</td>\n",
       "      <td>SK에너지</td>\n",
       "      <td>셀프</td>\n",
       "      <td>1673</td>\n",
       "      <td>1465</td>\n",
       "      <td>1365</td>\n",
       "      <td>0</td>\n",
       "      <td>강남구</td>\n",
       "      <td>1</td>\n",
       "      <td>3</td>\n",
       "      <td>3</td>\n",
       "    </tr>\n",
       "    <tr>\n",
       "      <th>3</th>\n",
       "      <td>A0006039</td>\n",
       "      <td>서울 강남구</td>\n",
       "      <td>(주)동하힐탑셀프주유소</td>\n",
       "      <td>서울 강남구 논현로 640</td>\n",
       "      <td>2019-01-04</td>\n",
       "      <td>SK에너지</td>\n",
       "      <td>셀프</td>\n",
       "      <td>1673</td>\n",
       "      <td>1465</td>\n",
       "      <td>1365</td>\n",
       "      <td>0</td>\n",
       "      <td>강남구</td>\n",
       "      <td>1</td>\n",
       "      <td>4</td>\n",
       "      <td>4</td>\n",
       "    </tr>\n",
       "    <tr>\n",
       "      <th>4</th>\n",
       "      <td>A0006039</td>\n",
       "      <td>서울 강남구</td>\n",
       "      <td>(주)동하힐탑셀프주유소</td>\n",
       "      <td>서울 강남구 논현로 640</td>\n",
       "      <td>2019-01-05</td>\n",
       "      <td>SK에너지</td>\n",
       "      <td>셀프</td>\n",
       "      <td>1673</td>\n",
       "      <td>1465</td>\n",
       "      <td>1365</td>\n",
       "      <td>0</td>\n",
       "      <td>강남구</td>\n",
       "      <td>1</td>\n",
       "      <td>5</td>\n",
       "      <td>5</td>\n",
       "    </tr>\n",
       "  </tbody>\n",
       "</table>\n",
       "</div>"
      ],
      "text/plain": [
       "         번호      지역            상호              주소         기간     상표 셀프여부  \\\n",
       "0  A0006039  서울 강남구  (주)동하힐탑셀프주유소  서울 강남구 논현로 640 2019-01-01  SK에너지   셀프   \n",
       "1  A0006039  서울 강남구  (주)동하힐탑셀프주유소  서울 강남구 논현로 640 2019-01-02  SK에너지   셀프   \n",
       "2  A0006039  서울 강남구  (주)동하힐탑셀프주유소  서울 강남구 논현로 640 2019-01-03  SK에너지   셀프   \n",
       "3  A0006039  서울 강남구  (주)동하힐탑셀프주유소  서울 강남구 논현로 640 2019-01-04  SK에너지   셀프   \n",
       "4  A0006039  서울 강남구  (주)동하힐탑셀프주유소  서울 강남구 논현로 640 2019-01-05  SK에너지   셀프   \n",
       "\n",
       "   고급휘발유   휘발유    경유  실내등유    구  월  일  요일  \n",
       "0   1673  1465  1365     0  강남구  1  1   1  \n",
       "1   1673  1465  1365     0  강남구  1  2   2  \n",
       "2   1673  1465  1365     0  강남구  1  3   3  \n",
       "3   1673  1465  1365     0  강남구  1  4   4  \n",
       "4   1673  1465  1365     0  강남구  1  5   5  "
      ]
     },
     "execution_count": 117,
     "metadata": {},
     "output_type": "execute_result"
    }
   ],
   "source": [
    "# 기간 컬럼을 datetime 타입으로 변경\n",
    "df['기간'] = pd.to_datetime(df['기간'], format='%Y%m%d')\n",
    "df.head()"
   ]
  },
  {
   "cell_type": "code",
   "execution_count": 118,
   "metadata": {
    "ExecuteTime": {
     "end_time": "2020-08-16T12:00:18.445247Z",
     "start_time": "2020-08-16T12:00:18.338532Z"
    }
   },
   "outputs": [
    {
     "data": {
      "text/html": [
       "<div>\n",
       "<style scoped>\n",
       "    .dataframe tbody tr th:only-of-type {\n",
       "        vertical-align: middle;\n",
       "    }\n",
       "\n",
       "    .dataframe tbody tr th {\n",
       "        vertical-align: top;\n",
       "    }\n",
       "\n",
       "    .dataframe thead th {\n",
       "        text-align: right;\n",
       "    }\n",
       "</style>\n",
       "<table border=\"1\" class=\"dataframe\">\n",
       "  <thead>\n",
       "    <tr style=\"text-align: right;\">\n",
       "      <th></th>\n",
       "      <th>번호</th>\n",
       "      <th>지역</th>\n",
       "      <th>상호</th>\n",
       "      <th>주소</th>\n",
       "      <th>기간</th>\n",
       "      <th>상표</th>\n",
       "      <th>셀프여부</th>\n",
       "      <th>고급휘발유</th>\n",
       "      <th>휘발유</th>\n",
       "      <th>경유</th>\n",
       "      <th>실내등유</th>\n",
       "      <th>구</th>\n",
       "      <th>월</th>\n",
       "      <th>일</th>\n",
       "      <th>요일</th>\n",
       "    </tr>\n",
       "  </thead>\n",
       "  <tbody>\n",
       "    <tr>\n",
       "      <th>0</th>\n",
       "      <td>A0006039</td>\n",
       "      <td>서울 강남구</td>\n",
       "      <td>(주)동하힐탑셀프주유소</td>\n",
       "      <td>서울 강남구 논현로 640</td>\n",
       "      <td>2019-01-01</td>\n",
       "      <td>SK에너지</td>\n",
       "      <td>셀프</td>\n",
       "      <td>1673</td>\n",
       "      <td>1465</td>\n",
       "      <td>1365</td>\n",
       "      <td>0</td>\n",
       "      <td>강남구</td>\n",
       "      <td>1</td>\n",
       "      <td>1</td>\n",
       "      <td>1</td>\n",
       "    </tr>\n",
       "    <tr>\n",
       "      <th>1</th>\n",
       "      <td>A0006039</td>\n",
       "      <td>서울 강남구</td>\n",
       "      <td>(주)동하힐탑셀프주유소</td>\n",
       "      <td>서울 강남구 논현로 640</td>\n",
       "      <td>2019-01-02</td>\n",
       "      <td>SK에너지</td>\n",
       "      <td>셀프</td>\n",
       "      <td>1673</td>\n",
       "      <td>1465</td>\n",
       "      <td>1365</td>\n",
       "      <td>0</td>\n",
       "      <td>강남구</td>\n",
       "      <td>1</td>\n",
       "      <td>2</td>\n",
       "      <td>2</td>\n",
       "    </tr>\n",
       "    <tr>\n",
       "      <th>2</th>\n",
       "      <td>A0006039</td>\n",
       "      <td>서울 강남구</td>\n",
       "      <td>(주)동하힐탑셀프주유소</td>\n",
       "      <td>서울 강남구 논현로 640</td>\n",
       "      <td>2019-01-03</td>\n",
       "      <td>SK에너지</td>\n",
       "      <td>셀프</td>\n",
       "      <td>1673</td>\n",
       "      <td>1465</td>\n",
       "      <td>1365</td>\n",
       "      <td>0</td>\n",
       "      <td>강남구</td>\n",
       "      <td>1</td>\n",
       "      <td>3</td>\n",
       "      <td>3</td>\n",
       "    </tr>\n",
       "    <tr>\n",
       "      <th>3</th>\n",
       "      <td>A0006039</td>\n",
       "      <td>서울 강남구</td>\n",
       "      <td>(주)동하힐탑셀프주유소</td>\n",
       "      <td>서울 강남구 논현로 640</td>\n",
       "      <td>2019-01-04</td>\n",
       "      <td>SK에너지</td>\n",
       "      <td>셀프</td>\n",
       "      <td>1673</td>\n",
       "      <td>1465</td>\n",
       "      <td>1365</td>\n",
       "      <td>0</td>\n",
       "      <td>강남구</td>\n",
       "      <td>1</td>\n",
       "      <td>4</td>\n",
       "      <td>4</td>\n",
       "    </tr>\n",
       "    <tr>\n",
       "      <th>4</th>\n",
       "      <td>A0006039</td>\n",
       "      <td>서울 강남구</td>\n",
       "      <td>(주)동하힐탑셀프주유소</td>\n",
       "      <td>서울 강남구 논현로 640</td>\n",
       "      <td>2019-01-05</td>\n",
       "      <td>SK에너지</td>\n",
       "      <td>셀프</td>\n",
       "      <td>1673</td>\n",
       "      <td>1465</td>\n",
       "      <td>1365</td>\n",
       "      <td>0</td>\n",
       "      <td>강남구</td>\n",
       "      <td>1</td>\n",
       "      <td>5</td>\n",
       "      <td>5</td>\n",
       "    </tr>\n",
       "  </tbody>\n",
       "</table>\n",
       "</div>"
      ],
      "text/plain": [
       "         번호      지역            상호              주소         기간     상표 셀프여부  \\\n",
       "0  A0006039  서울 강남구  (주)동하힐탑셀프주유소  서울 강남구 논현로 640 2019-01-01  SK에너지   셀프   \n",
       "1  A0006039  서울 강남구  (주)동하힐탑셀프주유소  서울 강남구 논현로 640 2019-01-02  SK에너지   셀프   \n",
       "2  A0006039  서울 강남구  (주)동하힐탑셀프주유소  서울 강남구 논현로 640 2019-01-03  SK에너지   셀프   \n",
       "3  A0006039  서울 강남구  (주)동하힐탑셀프주유소  서울 강남구 논현로 640 2019-01-04  SK에너지   셀프   \n",
       "4  A0006039  서울 강남구  (주)동하힐탑셀프주유소  서울 강남구 논현로 640 2019-01-05  SK에너지   셀프   \n",
       "\n",
       "   고급휘발유   휘발유    경유  실내등유    구  월  일  요일  \n",
       "0   1673  1465  1365     0  강남구  1  1   1  \n",
       "1   1673  1465  1365     0  강남구  1  2   2  \n",
       "2   1673  1465  1365     0  강남구  1  3   3  \n",
       "3   1673  1465  1365     0  강남구  1  4   4  \n",
       "4   1673  1465  1365     0  강남구  1  5   5  "
      ]
     },
     "execution_count": 118,
     "metadata": {},
     "output_type": "execute_result"
    }
   ],
   "source": [
    "# 기간 컬럼을 이용해 \"월\", \"일\", \"요일\" 컬럼 생성\n",
    "df['월'] = df['기간'].dt.month\n",
    "df['일'] = df['기간'].dt.day\n",
    "df['요일'] = df['기간'].dt.dayofweek\n",
    "df.head()#, df.tail()"
   ]
  },
  {
   "cell_type": "code",
   "execution_count": 119,
   "metadata": {
    "ExecuteTime": {
     "end_time": "2020-08-16T12:00:18.691588Z",
     "start_time": "2020-08-16T12:00:18.585871Z"
    }
   },
   "outputs": [
    {
     "data": {
      "text/html": [
       "<div>\n",
       "<style scoped>\n",
       "    .dataframe tbody tr th:only-of-type {\n",
       "        vertical-align: middle;\n",
       "    }\n",
       "\n",
       "    .dataframe tbody tr th {\n",
       "        vertical-align: top;\n",
       "    }\n",
       "\n",
       "    .dataframe thead th {\n",
       "        text-align: right;\n",
       "    }\n",
       "</style>\n",
       "<table border=\"1\" class=\"dataframe\">\n",
       "  <thead>\n",
       "    <tr style=\"text-align: right;\">\n",
       "      <th></th>\n",
       "      <th>번호</th>\n",
       "      <th>지역</th>\n",
       "      <th>상호</th>\n",
       "      <th>주소</th>\n",
       "      <th>기간</th>\n",
       "      <th>상표</th>\n",
       "      <th>셀프여부</th>\n",
       "      <th>고급휘발유</th>\n",
       "      <th>휘발유</th>\n",
       "      <th>경유</th>\n",
       "      <th>실내등유</th>\n",
       "      <th>구</th>\n",
       "      <th>월</th>\n",
       "      <th>일</th>\n",
       "      <th>요일</th>\n",
       "    </tr>\n",
       "  </thead>\n",
       "  <tbody>\n",
       "    <tr>\n",
       "      <th>86620</th>\n",
       "      <td>A0000767</td>\n",
       "      <td>서울 중구</td>\n",
       "      <td>서남주유소</td>\n",
       "      <td>서울 중구 통일로 30</td>\n",
       "      <td>2019-09-24</td>\n",
       "      <td>SK에너지</td>\n",
       "      <td>일반</td>\n",
       "      <td>2649</td>\n",
       "      <td>2356</td>\n",
       "      <td>2196</td>\n",
       "      <td>0</td>\n",
       "      <td>중구</td>\n",
       "      <td>9</td>\n",
       "      <td>24</td>\n",
       "      <td>1</td>\n",
       "    </tr>\n",
       "    <tr>\n",
       "      <th>86626</th>\n",
       "      <td>A0000767</td>\n",
       "      <td>서울 중구</td>\n",
       "      <td>서남주유소</td>\n",
       "      <td>서울 중구 통일로 30</td>\n",
       "      <td>2019-09-30</td>\n",
       "      <td>SK에너지</td>\n",
       "      <td>일반</td>\n",
       "      <td>2699</td>\n",
       "      <td>2356</td>\n",
       "      <td>2196</td>\n",
       "      <td>0</td>\n",
       "      <td>중구</td>\n",
       "      <td>9</td>\n",
       "      <td>30</td>\n",
       "      <td>0</td>\n",
       "    </tr>\n",
       "    <tr>\n",
       "      <th>86627</th>\n",
       "      <td>A0000767</td>\n",
       "      <td>서울 중구</td>\n",
       "      <td>서남주유소</td>\n",
       "      <td>서울 중구 통일로 30</td>\n",
       "      <td>2019-10-01</td>\n",
       "      <td>SK에너지</td>\n",
       "      <td>일반</td>\n",
       "      <td>2699</td>\n",
       "      <td>2356</td>\n",
       "      <td>2196</td>\n",
       "      <td>0</td>\n",
       "      <td>중구</td>\n",
       "      <td>10</td>\n",
       "      <td>1</td>\n",
       "      <td>1</td>\n",
       "    </tr>\n",
       "    <tr>\n",
       "      <th>86621</th>\n",
       "      <td>A0000767</td>\n",
       "      <td>서울 중구</td>\n",
       "      <td>서남주유소</td>\n",
       "      <td>서울 중구 통일로 30</td>\n",
       "      <td>2019-09-25</td>\n",
       "      <td>SK에너지</td>\n",
       "      <td>일반</td>\n",
       "      <td>2649</td>\n",
       "      <td>2356</td>\n",
       "      <td>2196</td>\n",
       "      <td>0</td>\n",
       "      <td>중구</td>\n",
       "      <td>9</td>\n",
       "      <td>25</td>\n",
       "      <td>2</td>\n",
       "    </tr>\n",
       "    <tr>\n",
       "      <th>86622</th>\n",
       "      <td>A0000767</td>\n",
       "      <td>서울 중구</td>\n",
       "      <td>서남주유소</td>\n",
       "      <td>서울 중구 통일로 30</td>\n",
       "      <td>2019-09-26</td>\n",
       "      <td>SK에너지</td>\n",
       "      <td>일반</td>\n",
       "      <td>2699</td>\n",
       "      <td>2356</td>\n",
       "      <td>2196</td>\n",
       "      <td>0</td>\n",
       "      <td>중구</td>\n",
       "      <td>9</td>\n",
       "      <td>26</td>\n",
       "      <td>3</td>\n",
       "    </tr>\n",
       "  </tbody>\n",
       "</table>\n",
       "</div>"
      ],
      "text/plain": [
       "             번호     지역     상호            주소         기간     상표 셀프여부  고급휘발유  \\\n",
       "86620  A0000767  서울 중구  서남주유소  서울 중구 통일로 30 2019-09-24  SK에너지   일반   2649   \n",
       "86626  A0000767  서울 중구  서남주유소  서울 중구 통일로 30 2019-09-30  SK에너지   일반   2699   \n",
       "86627  A0000767  서울 중구  서남주유소  서울 중구 통일로 30 2019-10-01  SK에너지   일반   2699   \n",
       "86621  A0000767  서울 중구  서남주유소  서울 중구 통일로 30 2019-09-25  SK에너지   일반   2649   \n",
       "86622  A0000767  서울 중구  서남주유소  서울 중구 통일로 30 2019-09-26  SK에너지   일반   2699   \n",
       "\n",
       "        휘발유    경유  실내등유   구   월   일  요일  \n",
       "86620  2356  2196     0  중구   9  24   1  \n",
       "86626  2356  2196     0  중구   9  30   0  \n",
       "86627  2356  2196     0  중구  10   1   1  \n",
       "86621  2356  2196     0  중구   9  25   2  \n",
       "86622  2356  2196     0  중구   9  26   3  "
      ]
     },
     "execution_count": 119,
     "metadata": {},
     "output_type": "execute_result"
    }
   ],
   "source": [
    "# 휘발유 가격이 가장 비싼 5개 행 조회\n",
    "df.sort_values('휘발유', ascending=False).head()"
   ]
  },
  {
   "cell_type": "code",
   "execution_count": 120,
   "metadata": {
    "ExecuteTime": {
     "end_time": "2020-08-16T12:00:18.816253Z",
     "start_time": "2020-08-16T12:00:18.694578Z"
    }
   },
   "outputs": [
    {
     "data": {
      "text/html": [
       "<div>\n",
       "<style scoped>\n",
       "    .dataframe tbody tr th:only-of-type {\n",
       "        vertical-align: middle;\n",
       "    }\n",
       "\n",
       "    .dataframe tbody tr th {\n",
       "        vertical-align: top;\n",
       "    }\n",
       "\n",
       "    .dataframe thead th {\n",
       "        text-align: right;\n",
       "    }\n",
       "</style>\n",
       "<table border=\"1\" class=\"dataframe\">\n",
       "  <thead>\n",
       "    <tr style=\"text-align: right;\">\n",
       "      <th></th>\n",
       "      <th>번호</th>\n",
       "      <th>지역</th>\n",
       "      <th>상호</th>\n",
       "      <th>주소</th>\n",
       "      <th>기간</th>\n",
       "      <th>상표</th>\n",
       "      <th>셀프여부</th>\n",
       "      <th>고급휘발유</th>\n",
       "      <th>휘발유</th>\n",
       "      <th>경유</th>\n",
       "      <th>실내등유</th>\n",
       "      <th>구</th>\n",
       "      <th>월</th>\n",
       "      <th>일</th>\n",
       "      <th>요일</th>\n",
       "    </tr>\n",
       "  </thead>\n",
       "  <tbody>\n",
       "    <tr>\n",
       "      <th>13148</th>\n",
       "      <td>A0033328</td>\n",
       "      <td>서울 강서구</td>\n",
       "      <td>KH에너지(주)직영 KH외발산주유소</td>\n",
       "      <td>서울 강서구 방화대로 30</td>\n",
       "      <td>2019-02-07</td>\n",
       "      <td>SK에너지</td>\n",
       "      <td>셀프</td>\n",
       "      <td>1788</td>\n",
       "      <td>1255</td>\n",
       "      <td>1155</td>\n",
       "      <td>0</td>\n",
       "      <td>강서구</td>\n",
       "      <td>2</td>\n",
       "      <td>7</td>\n",
       "      <td>3</td>\n",
       "    </tr>\n",
       "    <tr>\n",
       "      <th>82475</th>\n",
       "      <td>A0000605</td>\n",
       "      <td>서울 은평구</td>\n",
       "      <td>삼융주유소</td>\n",
       "      <td>서울 은평구 수색로 299 (수색동)</td>\n",
       "      <td>2019-01-31</td>\n",
       "      <td>SK에너지</td>\n",
       "      <td>일반</td>\n",
       "      <td>0</td>\n",
       "      <td>1260</td>\n",
       "      <td>1160</td>\n",
       "      <td>0</td>\n",
       "      <td>은평구</td>\n",
       "      <td>1</td>\n",
       "      <td>31</td>\n",
       "      <td>3</td>\n",
       "    </tr>\n",
       "    <tr>\n",
       "      <th>82474</th>\n",
       "      <td>A0000605</td>\n",
       "      <td>서울 은평구</td>\n",
       "      <td>삼융주유소</td>\n",
       "      <td>서울 은평구 수색로 299 (수색동)</td>\n",
       "      <td>2019-01-30</td>\n",
       "      <td>SK에너지</td>\n",
       "      <td>일반</td>\n",
       "      <td>0</td>\n",
       "      <td>1260</td>\n",
       "      <td>1160</td>\n",
       "      <td>0</td>\n",
       "      <td>은평구</td>\n",
       "      <td>1</td>\n",
       "      <td>30</td>\n",
       "      <td>2</td>\n",
       "    </tr>\n",
       "    <tr>\n",
       "      <th>82476</th>\n",
       "      <td>A0000605</td>\n",
       "      <td>서울 은평구</td>\n",
       "      <td>삼융주유소</td>\n",
       "      <td>서울 은평구 수색로 299 (수색동)</td>\n",
       "      <td>2019-02-01</td>\n",
       "      <td>SK에너지</td>\n",
       "      <td>일반</td>\n",
       "      <td>0</td>\n",
       "      <td>1260</td>\n",
       "      <td>1160</td>\n",
       "      <td>0</td>\n",
       "      <td>은평구</td>\n",
       "      <td>2</td>\n",
       "      <td>1</td>\n",
       "      <td>4</td>\n",
       "    </tr>\n",
       "    <tr>\n",
       "      <th>82998</th>\n",
       "      <td>A0000690</td>\n",
       "      <td>서울 은평구</td>\n",
       "      <td>지에스칼텍스(주)수색뉴타운주유소</td>\n",
       "      <td>서울 은평구 수색로 350 (수색동)</td>\n",
       "      <td>2019-01-26</td>\n",
       "      <td>GS칼텍스</td>\n",
       "      <td>셀프</td>\n",
       "      <td>0</td>\n",
       "      <td>1265</td>\n",
       "      <td>1165</td>\n",
       "      <td>0</td>\n",
       "      <td>은평구</td>\n",
       "      <td>1</td>\n",
       "      <td>26</td>\n",
       "      <td>5</td>\n",
       "    </tr>\n",
       "  </tbody>\n",
       "</table>\n",
       "</div>"
      ],
      "text/plain": [
       "             번호      지역                   상호                    주소         기간  \\\n",
       "13148  A0033328  서울 강서구  KH에너지(주)직영 KH외발산주유소        서울 강서구 방화대로 30 2019-02-07   \n",
       "82475  A0000605  서울 은평구                삼융주유소  서울 은평구 수색로 299 (수색동) 2019-01-31   \n",
       "82474  A0000605  서울 은평구                삼융주유소  서울 은평구 수색로 299 (수색동) 2019-01-30   \n",
       "82476  A0000605  서울 은평구                삼융주유소  서울 은평구 수색로 299 (수색동) 2019-02-01   \n",
       "82998  A0000690  서울 은평구    지에스칼텍스(주)수색뉴타운주유소  서울 은평구 수색로 350 (수색동) 2019-01-26   \n",
       "\n",
       "          상표 셀프여부  고급휘발유   휘발유    경유  실내등유    구  월   일  요일  \n",
       "13148  SK에너지   셀프   1788  1255  1155     0  강서구  2   7   3  \n",
       "82475  SK에너지   일반      0  1260  1160     0  은평구  1  31   3  \n",
       "82474  SK에너지   일반      0  1260  1160     0  은평구  1  30   2  \n",
       "82476  SK에너지   일반      0  1260  1160     0  은평구  2   1   4  \n",
       "82998  GS칼텍스   셀프      0  1265  1165     0  은평구  1  26   5  "
      ]
     },
     "execution_count": 120,
     "metadata": {},
     "output_type": "execute_result"
    }
   ],
   "source": [
    "# 휘발유 가격이 가장 저렴한 5개 행 조회 (단 0원인 주유소 제외)\n",
    "df[df['휘발유']>0].sort_values('휘발유').head()"
   ]
  },
  {
   "cell_type": "code",
   "execution_count": 121,
   "metadata": {
    "ExecuteTime": {
     "end_time": "2020-08-16T12:00:18.893049Z",
     "start_time": "2020-08-16T12:00:18.820243Z"
    }
   },
   "outputs": [
    {
     "data": {
      "text/html": [
       "<div>\n",
       "<style scoped>\n",
       "    .dataframe tbody tr th:only-of-type {\n",
       "        vertical-align: middle;\n",
       "    }\n",
       "\n",
       "    .dataframe tbody tr th {\n",
       "        vertical-align: top;\n",
       "    }\n",
       "\n",
       "    .dataframe thead th {\n",
       "        text-align: right;\n",
       "    }\n",
       "</style>\n",
       "<table border=\"1\" class=\"dataframe\">\n",
       "  <thead>\n",
       "    <tr style=\"text-align: right;\">\n",
       "      <th></th>\n",
       "      <th>번호</th>\n",
       "      <th>지역</th>\n",
       "      <th>상호</th>\n",
       "      <th>주소</th>\n",
       "      <th>기간</th>\n",
       "      <th>상표</th>\n",
       "      <th>셀프여부</th>\n",
       "      <th>고급휘발유</th>\n",
       "      <th>휘발유</th>\n",
       "      <th>경유</th>\n",
       "      <th>실내등유</th>\n",
       "      <th>구</th>\n",
       "      <th>월</th>\n",
       "      <th>일</th>\n",
       "      <th>요일</th>\n",
       "    </tr>\n",
       "  </thead>\n",
       "  <tbody>\n",
       "    <tr>\n",
       "      <th>86627</th>\n",
       "      <td>A0000767</td>\n",
       "      <td>서울 중구</td>\n",
       "      <td>서남주유소</td>\n",
       "      <td>서울 중구 통일로 30</td>\n",
       "      <td>2019-10-01</td>\n",
       "      <td>SK에너지</td>\n",
       "      <td>일반</td>\n",
       "      <td>2699</td>\n",
       "      <td>2356</td>\n",
       "      <td>2196</td>\n",
       "      <td>0</td>\n",
       "      <td>중구</td>\n",
       "      <td>10</td>\n",
       "      <td>1</td>\n",
       "      <td>1</td>\n",
       "    </tr>\n",
       "    <tr>\n",
       "      <th>86622</th>\n",
       "      <td>A0000767</td>\n",
       "      <td>서울 중구</td>\n",
       "      <td>서남주유소</td>\n",
       "      <td>서울 중구 통일로 30</td>\n",
       "      <td>2019-09-26</td>\n",
       "      <td>SK에너지</td>\n",
       "      <td>일반</td>\n",
       "      <td>2699</td>\n",
       "      <td>2356</td>\n",
       "      <td>2196</td>\n",
       "      <td>0</td>\n",
       "      <td>중구</td>\n",
       "      <td>9</td>\n",
       "      <td>26</td>\n",
       "      <td>3</td>\n",
       "    </tr>\n",
       "    <tr>\n",
       "      <th>86623</th>\n",
       "      <td>A0000767</td>\n",
       "      <td>서울 중구</td>\n",
       "      <td>서남주유소</td>\n",
       "      <td>서울 중구 통일로 30</td>\n",
       "      <td>2019-09-27</td>\n",
       "      <td>SK에너지</td>\n",
       "      <td>일반</td>\n",
       "      <td>2699</td>\n",
       "      <td>2356</td>\n",
       "      <td>2196</td>\n",
       "      <td>0</td>\n",
       "      <td>중구</td>\n",
       "      <td>9</td>\n",
       "      <td>27</td>\n",
       "      <td>4</td>\n",
       "    </tr>\n",
       "    <tr>\n",
       "      <th>86624</th>\n",
       "      <td>A0000767</td>\n",
       "      <td>서울 중구</td>\n",
       "      <td>서남주유소</td>\n",
       "      <td>서울 중구 통일로 30</td>\n",
       "      <td>2019-09-28</td>\n",
       "      <td>SK에너지</td>\n",
       "      <td>일반</td>\n",
       "      <td>2699</td>\n",
       "      <td>2356</td>\n",
       "      <td>2196</td>\n",
       "      <td>0</td>\n",
       "      <td>중구</td>\n",
       "      <td>9</td>\n",
       "      <td>28</td>\n",
       "      <td>5</td>\n",
       "    </tr>\n",
       "    <tr>\n",
       "      <th>86625</th>\n",
       "      <td>A0000767</td>\n",
       "      <td>서울 중구</td>\n",
       "      <td>서남주유소</td>\n",
       "      <td>서울 중구 통일로 30</td>\n",
       "      <td>2019-09-29</td>\n",
       "      <td>SK에너지</td>\n",
       "      <td>일반</td>\n",
       "      <td>2699</td>\n",
       "      <td>2356</td>\n",
       "      <td>2196</td>\n",
       "      <td>0</td>\n",
       "      <td>중구</td>\n",
       "      <td>9</td>\n",
       "      <td>29</td>\n",
       "      <td>6</td>\n",
       "    </tr>\n",
       "  </tbody>\n",
       "</table>\n",
       "</div>"
      ],
      "text/plain": [
       "             번호     지역     상호            주소         기간     상표 셀프여부  고급휘발유  \\\n",
       "86627  A0000767  서울 중구  서남주유소  서울 중구 통일로 30 2019-10-01  SK에너지   일반   2699   \n",
       "86622  A0000767  서울 중구  서남주유소  서울 중구 통일로 30 2019-09-26  SK에너지   일반   2699   \n",
       "86623  A0000767  서울 중구  서남주유소  서울 중구 통일로 30 2019-09-27  SK에너지   일반   2699   \n",
       "86624  A0000767  서울 중구  서남주유소  서울 중구 통일로 30 2019-09-28  SK에너지   일반   2699   \n",
       "86625  A0000767  서울 중구  서남주유소  서울 중구 통일로 30 2019-09-29  SK에너지   일반   2699   \n",
       "\n",
       "        휘발유    경유  실내등유   구   월   일  요일  \n",
       "86627  2356  2196     0  중구  10   1   1  \n",
       "86622  2356  2196     0  중구   9  26   3  \n",
       "86623  2356  2196     0  중구   9  27   4  \n",
       "86624  2356  2196     0  중구   9  28   5  \n",
       "86625  2356  2196     0  중구   9  29   6  "
      ]
     },
     "execution_count": 121,
     "metadata": {},
     "output_type": "execute_result"
    }
   ],
   "source": [
    "# 고급휘발유 가격이 가장 비싼 5개 행 조회\n",
    "df.sort_values('고급휘발유', ascending=False).head()"
   ]
  },
  {
   "cell_type": "code",
   "execution_count": 122,
   "metadata": {
    "ExecuteTime": {
     "end_time": "2020-08-16T12:00:18.971841Z",
     "start_time": "2020-08-16T12:00:18.896042Z"
    }
   },
   "outputs": [
    {
     "data": {
      "text/html": [
       "<div>\n",
       "<style scoped>\n",
       "    .dataframe tbody tr th:only-of-type {\n",
       "        vertical-align: middle;\n",
       "    }\n",
       "\n",
       "    .dataframe tbody tr th {\n",
       "        vertical-align: top;\n",
       "    }\n",
       "\n",
       "    .dataframe thead th {\n",
       "        text-align: right;\n",
       "    }\n",
       "</style>\n",
       "<table border=\"1\" class=\"dataframe\">\n",
       "  <thead>\n",
       "    <tr style=\"text-align: right;\">\n",
       "      <th></th>\n",
       "      <th>번호</th>\n",
       "      <th>지역</th>\n",
       "      <th>상호</th>\n",
       "      <th>주소</th>\n",
       "      <th>기간</th>\n",
       "      <th>상표</th>\n",
       "      <th>셀프여부</th>\n",
       "      <th>고급휘발유</th>\n",
       "      <th>휘발유</th>\n",
       "      <th>경유</th>\n",
       "      <th>실내등유</th>\n",
       "      <th>구</th>\n",
       "      <th>월</th>\n",
       "      <th>일</th>\n",
       "      <th>요일</th>\n",
       "    </tr>\n",
       "  </thead>\n",
       "  <tbody>\n",
       "    <tr>\n",
       "      <th>17460</th>\n",
       "      <td>A0000520</td>\n",
       "      <td>서울 강서구</td>\n",
       "      <td>하이웨이주유소</td>\n",
       "      <td>서울특별시 강서구 공항대로 432(화곡동)</td>\n",
       "      <td>2019-01-15</td>\n",
       "      <td>S-OIL</td>\n",
       "      <td>셀프</td>\n",
       "      <td>1397</td>\n",
       "      <td>1275</td>\n",
       "      <td>1175</td>\n",
       "      <td>0</td>\n",
       "      <td>강서구</td>\n",
       "      <td>1</td>\n",
       "      <td>15</td>\n",
       "      <td>1</td>\n",
       "    </tr>\n",
       "    <tr>\n",
       "      <th>17459</th>\n",
       "      <td>A0000520</td>\n",
       "      <td>서울 강서구</td>\n",
       "      <td>하이웨이주유소</td>\n",
       "      <td>서울특별시 강서구 공항대로 432(화곡동)</td>\n",
       "      <td>2019-01-14</td>\n",
       "      <td>S-OIL</td>\n",
       "      <td>셀프</td>\n",
       "      <td>1397</td>\n",
       "      <td>1275</td>\n",
       "      <td>1175</td>\n",
       "      <td>0</td>\n",
       "      <td>강서구</td>\n",
       "      <td>1</td>\n",
       "      <td>14</td>\n",
       "      <td>0</td>\n",
       "    </tr>\n",
       "    <tr>\n",
       "      <th>17458</th>\n",
       "      <td>A0000520</td>\n",
       "      <td>서울 강서구</td>\n",
       "      <td>하이웨이주유소</td>\n",
       "      <td>서울특별시 강서구 공항대로 432(화곡동)</td>\n",
       "      <td>2019-01-13</td>\n",
       "      <td>S-OIL</td>\n",
       "      <td>셀프</td>\n",
       "      <td>1397</td>\n",
       "      <td>1275</td>\n",
       "      <td>1175</td>\n",
       "      <td>0</td>\n",
       "      <td>강서구</td>\n",
       "      <td>1</td>\n",
       "      <td>13</td>\n",
       "      <td>6</td>\n",
       "    </tr>\n",
       "    <tr>\n",
       "      <th>17457</th>\n",
       "      <td>A0000520</td>\n",
       "      <td>서울 강서구</td>\n",
       "      <td>하이웨이주유소</td>\n",
       "      <td>서울특별시 강서구 공항대로 432(화곡동)</td>\n",
       "      <td>2019-01-12</td>\n",
       "      <td>S-OIL</td>\n",
       "      <td>셀프</td>\n",
       "      <td>1397</td>\n",
       "      <td>1275</td>\n",
       "      <td>1175</td>\n",
       "      <td>0</td>\n",
       "      <td>강서구</td>\n",
       "      <td>1</td>\n",
       "      <td>12</td>\n",
       "      <td>5</td>\n",
       "    </tr>\n",
       "    <tr>\n",
       "      <th>17456</th>\n",
       "      <td>A0000520</td>\n",
       "      <td>서울 강서구</td>\n",
       "      <td>하이웨이주유소</td>\n",
       "      <td>서울특별시 강서구 공항대로 432(화곡동)</td>\n",
       "      <td>2019-01-11</td>\n",
       "      <td>S-OIL</td>\n",
       "      <td>셀프</td>\n",
       "      <td>1397</td>\n",
       "      <td>1275</td>\n",
       "      <td>1175</td>\n",
       "      <td>0</td>\n",
       "      <td>강서구</td>\n",
       "      <td>1</td>\n",
       "      <td>11</td>\n",
       "      <td>4</td>\n",
       "    </tr>\n",
       "  </tbody>\n",
       "</table>\n",
       "</div>"
      ],
      "text/plain": [
       "             번호      지역       상호                       주소         기간     상표  \\\n",
       "17460  A0000520  서울 강서구  하이웨이주유소  서울특별시 강서구 공항대로 432(화곡동) 2019-01-15  S-OIL   \n",
       "17459  A0000520  서울 강서구  하이웨이주유소  서울특별시 강서구 공항대로 432(화곡동) 2019-01-14  S-OIL   \n",
       "17458  A0000520  서울 강서구  하이웨이주유소  서울특별시 강서구 공항대로 432(화곡동) 2019-01-13  S-OIL   \n",
       "17457  A0000520  서울 강서구  하이웨이주유소  서울특별시 강서구 공항대로 432(화곡동) 2019-01-12  S-OIL   \n",
       "17456  A0000520  서울 강서구  하이웨이주유소  서울특별시 강서구 공항대로 432(화곡동) 2019-01-11  S-OIL   \n",
       "\n",
       "      셀프여부  고급휘발유   휘발유    경유  실내등유    구  월   일  요일  \n",
       "17460   셀프   1397  1275  1175     0  강서구  1  15   1  \n",
       "17459   셀프   1397  1275  1175     0  강서구  1  14   0  \n",
       "17458   셀프   1397  1275  1175     0  강서구  1  13   6  \n",
       "17457   셀프   1397  1275  1175     0  강서구  1  12   5  \n",
       "17456   셀프   1397  1275  1175     0  강서구  1  11   4  "
      ]
     },
     "execution_count": 122,
     "metadata": {},
     "output_type": "execute_result"
    }
   ],
   "source": [
    "# 고급휘발유 가격이 가장 저렴한 5개 행 조회 (단 0원인 주유소 제외)\n",
    "df[df['고급휘발유']>0].sort_values('고급휘발유').head()"
   ]
  },
  {
   "cell_type": "code",
   "execution_count": 123,
   "metadata": {
    "ExecuteTime": {
     "end_time": "2020-08-16T12:00:19.051630Z",
     "start_time": "2020-08-16T12:00:18.975826Z"
    }
   },
   "outputs": [
    {
     "data": {
      "text/html": [
       "<div>\n",
       "<style scoped>\n",
       "    .dataframe tbody tr th:only-of-type {\n",
       "        vertical-align: middle;\n",
       "    }\n",
       "\n",
       "    .dataframe tbody tr th {\n",
       "        vertical-align: top;\n",
       "    }\n",
       "\n",
       "    .dataframe thead th {\n",
       "        text-align: right;\n",
       "    }\n",
       "</style>\n",
       "<table border=\"1\" class=\"dataframe\">\n",
       "  <thead>\n",
       "    <tr style=\"text-align: right;\">\n",
       "      <th></th>\n",
       "      <th>번호</th>\n",
       "      <th>지역</th>\n",
       "      <th>상호</th>\n",
       "      <th>주소</th>\n",
       "      <th>기간</th>\n",
       "      <th>상표</th>\n",
       "      <th>셀프여부</th>\n",
       "      <th>고급휘발유</th>\n",
       "      <th>휘발유</th>\n",
       "      <th>경유</th>\n",
       "      <th>실내등유</th>\n",
       "      <th>구</th>\n",
       "      <th>월</th>\n",
       "      <th>일</th>\n",
       "      <th>요일</th>\n",
       "    </tr>\n",
       "  </thead>\n",
       "  <tbody>\n",
       "    <tr>\n",
       "      <th>13148</th>\n",
       "      <td>A0033328</td>\n",
       "      <td>서울 강서구</td>\n",
       "      <td>KH에너지(주)직영 KH외발산주유소</td>\n",
       "      <td>서울 강서구 방화대로 30</td>\n",
       "      <td>2019-02-07</td>\n",
       "      <td>SK에너지</td>\n",
       "      <td>셀프</td>\n",
       "      <td>1788</td>\n",
       "      <td>1255</td>\n",
       "      <td>1155</td>\n",
       "      <td>0</td>\n",
       "      <td>강서구</td>\n",
       "      <td>2</td>\n",
       "      <td>7</td>\n",
       "      <td>3</td>\n",
       "    </tr>\n",
       "    <tr>\n",
       "      <th>50707</th>\n",
       "      <td>A0011826</td>\n",
       "      <td>서울 서초구</td>\n",
       "      <td>만남의광장주유소</td>\n",
       "      <td>서울 서초구 양재대로12길 73-71</td>\n",
       "      <td>2019-01-13</td>\n",
       "      <td>알뜰(ex)</td>\n",
       "      <td>셀프</td>\n",
       "      <td>0</td>\n",
       "      <td>1297</td>\n",
       "      <td>1157</td>\n",
       "      <td>0</td>\n",
       "      <td>서초구</td>\n",
       "      <td>1</td>\n",
       "      <td>13</td>\n",
       "      <td>6</td>\n",
       "    </tr>\n",
       "    <tr>\n",
       "      <th>82476</th>\n",
       "      <td>A0000605</td>\n",
       "      <td>서울 은평구</td>\n",
       "      <td>삼융주유소</td>\n",
       "      <td>서울 은평구 수색로 299 (수색동)</td>\n",
       "      <td>2019-02-01</td>\n",
       "      <td>SK에너지</td>\n",
       "      <td>일반</td>\n",
       "      <td>0</td>\n",
       "      <td>1260</td>\n",
       "      <td>1160</td>\n",
       "      <td>0</td>\n",
       "      <td>은평구</td>\n",
       "      <td>2</td>\n",
       "      <td>1</td>\n",
       "      <td>4</td>\n",
       "    </tr>\n",
       "    <tr>\n",
       "      <th>82475</th>\n",
       "      <td>A0000605</td>\n",
       "      <td>서울 은평구</td>\n",
       "      <td>삼융주유소</td>\n",
       "      <td>서울 은평구 수색로 299 (수색동)</td>\n",
       "      <td>2019-01-31</td>\n",
       "      <td>SK에너지</td>\n",
       "      <td>일반</td>\n",
       "      <td>0</td>\n",
       "      <td>1260</td>\n",
       "      <td>1160</td>\n",
       "      <td>0</td>\n",
       "      <td>은평구</td>\n",
       "      <td>1</td>\n",
       "      <td>31</td>\n",
       "      <td>3</td>\n",
       "    </tr>\n",
       "    <tr>\n",
       "      <th>82474</th>\n",
       "      <td>A0000605</td>\n",
       "      <td>서울 은평구</td>\n",
       "      <td>삼융주유소</td>\n",
       "      <td>서울 은평구 수색로 299 (수색동)</td>\n",
       "      <td>2019-01-30</td>\n",
       "      <td>SK에너지</td>\n",
       "      <td>일반</td>\n",
       "      <td>0</td>\n",
       "      <td>1260</td>\n",
       "      <td>1160</td>\n",
       "      <td>0</td>\n",
       "      <td>은평구</td>\n",
       "      <td>1</td>\n",
       "      <td>30</td>\n",
       "      <td>2</td>\n",
       "    </tr>\n",
       "  </tbody>\n",
       "</table>\n",
       "</div>"
      ],
      "text/plain": [
       "             번호      지역                   상호                    주소         기간  \\\n",
       "13148  A0033328  서울 강서구  KH에너지(주)직영 KH외발산주유소        서울 강서구 방화대로 30 2019-02-07   \n",
       "50707  A0011826  서울 서초구             만남의광장주유소  서울 서초구 양재대로12길 73-71 2019-01-13   \n",
       "82476  A0000605  서울 은평구                삼융주유소  서울 은평구 수색로 299 (수색동) 2019-02-01   \n",
       "82475  A0000605  서울 은평구                삼융주유소  서울 은평구 수색로 299 (수색동) 2019-01-31   \n",
       "82474  A0000605  서울 은평구                삼융주유소  서울 은평구 수색로 299 (수색동) 2019-01-30   \n",
       "\n",
       "           상표 셀프여부  고급휘발유   휘발유    경유  실내등유    구  월   일  요일  \n",
       "13148   SK에너지   셀프   1788  1255  1155     0  강서구  2   7   3  \n",
       "50707  알뜰(ex)   셀프      0  1297  1157     0  서초구  1  13   6  \n",
       "82476   SK에너지   일반      0  1260  1160     0  은평구  2   1   4  \n",
       "82475   SK에너지   일반      0  1260  1160     0  은평구  1  31   3  \n",
       "82474   SK에너지   일반      0  1260  1160     0  은평구  1  30   2  "
      ]
     },
     "execution_count": 123,
     "metadata": {},
     "output_type": "execute_result"
    }
   ],
   "source": [
    "# 경유 가격이 가장 비싼 5개 행 조회\n",
    "df[df['경유']>0].sort_values('경유').head()"
   ]
  },
  {
   "cell_type": "code",
   "execution_count": 124,
   "metadata": {
    "ExecuteTime": {
     "end_time": "2020-08-16T12:00:19.178286Z",
     "start_time": "2020-08-16T12:00:19.055613Z"
    }
   },
   "outputs": [
    {
     "data": {
      "text/html": [
       "<div>\n",
       "<style scoped>\n",
       "    .dataframe tbody tr th:only-of-type {\n",
       "        vertical-align: middle;\n",
       "    }\n",
       "\n",
       "    .dataframe tbody tr th {\n",
       "        vertical-align: top;\n",
       "    }\n",
       "\n",
       "    .dataframe thead th {\n",
       "        text-align: right;\n",
       "    }\n",
       "</style>\n",
       "<table border=\"1\" class=\"dataframe\">\n",
       "  <thead>\n",
       "    <tr style=\"text-align: right;\">\n",
       "      <th></th>\n",
       "      <th>번호</th>\n",
       "      <th>지역</th>\n",
       "      <th>상호</th>\n",
       "      <th>주소</th>\n",
       "      <th>기간</th>\n",
       "      <th>상표</th>\n",
       "      <th>셀프여부</th>\n",
       "      <th>고급휘발유</th>\n",
       "      <th>휘발유</th>\n",
       "      <th>경유</th>\n",
       "      <th>실내등유</th>\n",
       "      <th>구</th>\n",
       "      <th>월</th>\n",
       "      <th>일</th>\n",
       "      <th>요일</th>\n",
       "    </tr>\n",
       "  </thead>\n",
       "  <tbody>\n",
       "    <tr>\n",
       "      <th>13148</th>\n",
       "      <td>A0033328</td>\n",
       "      <td>서울 강서구</td>\n",
       "      <td>KH에너지(주)직영 KH외발산주유소</td>\n",
       "      <td>서울 강서구 방화대로 30</td>\n",
       "      <td>2019-02-07</td>\n",
       "      <td>SK에너지</td>\n",
       "      <td>셀프</td>\n",
       "      <td>1788</td>\n",
       "      <td>1255</td>\n",
       "      <td>1155</td>\n",
       "      <td>0</td>\n",
       "      <td>강서구</td>\n",
       "      <td>2</td>\n",
       "      <td>7</td>\n",
       "      <td>3</td>\n",
       "    </tr>\n",
       "    <tr>\n",
       "      <th>50707</th>\n",
       "      <td>A0011826</td>\n",
       "      <td>서울 서초구</td>\n",
       "      <td>만남의광장주유소</td>\n",
       "      <td>서울 서초구 양재대로12길 73-71</td>\n",
       "      <td>2019-01-13</td>\n",
       "      <td>알뜰(ex)</td>\n",
       "      <td>셀프</td>\n",
       "      <td>0</td>\n",
       "      <td>1297</td>\n",
       "      <td>1157</td>\n",
       "      <td>0</td>\n",
       "      <td>서초구</td>\n",
       "      <td>1</td>\n",
       "      <td>13</td>\n",
       "      <td>6</td>\n",
       "    </tr>\n",
       "    <tr>\n",
       "      <th>82476</th>\n",
       "      <td>A0000605</td>\n",
       "      <td>서울 은평구</td>\n",
       "      <td>삼융주유소</td>\n",
       "      <td>서울 은평구 수색로 299 (수색동)</td>\n",
       "      <td>2019-02-01</td>\n",
       "      <td>SK에너지</td>\n",
       "      <td>일반</td>\n",
       "      <td>0</td>\n",
       "      <td>1260</td>\n",
       "      <td>1160</td>\n",
       "      <td>0</td>\n",
       "      <td>은평구</td>\n",
       "      <td>2</td>\n",
       "      <td>1</td>\n",
       "      <td>4</td>\n",
       "    </tr>\n",
       "    <tr>\n",
       "      <th>82475</th>\n",
       "      <td>A0000605</td>\n",
       "      <td>서울 은평구</td>\n",
       "      <td>삼융주유소</td>\n",
       "      <td>서울 은평구 수색로 299 (수색동)</td>\n",
       "      <td>2019-01-31</td>\n",
       "      <td>SK에너지</td>\n",
       "      <td>일반</td>\n",
       "      <td>0</td>\n",
       "      <td>1260</td>\n",
       "      <td>1160</td>\n",
       "      <td>0</td>\n",
       "      <td>은평구</td>\n",
       "      <td>1</td>\n",
       "      <td>31</td>\n",
       "      <td>3</td>\n",
       "    </tr>\n",
       "    <tr>\n",
       "      <th>82474</th>\n",
       "      <td>A0000605</td>\n",
       "      <td>서울 은평구</td>\n",
       "      <td>삼융주유소</td>\n",
       "      <td>서울 은평구 수색로 299 (수색동)</td>\n",
       "      <td>2019-01-30</td>\n",
       "      <td>SK에너지</td>\n",
       "      <td>일반</td>\n",
       "      <td>0</td>\n",
       "      <td>1260</td>\n",
       "      <td>1160</td>\n",
       "      <td>0</td>\n",
       "      <td>은평구</td>\n",
       "      <td>1</td>\n",
       "      <td>30</td>\n",
       "      <td>2</td>\n",
       "    </tr>\n",
       "  </tbody>\n",
       "</table>\n",
       "</div>"
      ],
      "text/plain": [
       "             번호      지역                   상호                    주소         기간  \\\n",
       "13148  A0033328  서울 강서구  KH에너지(주)직영 KH외발산주유소        서울 강서구 방화대로 30 2019-02-07   \n",
       "50707  A0011826  서울 서초구             만남의광장주유소  서울 서초구 양재대로12길 73-71 2019-01-13   \n",
       "82476  A0000605  서울 은평구                삼융주유소  서울 은평구 수색로 299 (수색동) 2019-02-01   \n",
       "82475  A0000605  서울 은평구                삼융주유소  서울 은평구 수색로 299 (수색동) 2019-01-31   \n",
       "82474  A0000605  서울 은평구                삼융주유소  서울 은평구 수색로 299 (수색동) 2019-01-30   \n",
       "\n",
       "           상표 셀프여부  고급휘발유   휘발유    경유  실내등유    구  월   일  요일  \n",
       "13148   SK에너지   셀프   1788  1255  1155     0  강서구  2   7   3  \n",
       "50707  알뜰(ex)   셀프      0  1297  1157     0  서초구  1  13   6  \n",
       "82476   SK에너지   일반      0  1260  1160     0  은평구  2   1   4  \n",
       "82475   SK에너지   일반      0  1260  1160     0  은평구  1  31   3  \n",
       "82474   SK에너지   일반      0  1260  1160     0  은평구  1  30   2  "
      ]
     },
     "execution_count": 124,
     "metadata": {},
     "output_type": "execute_result"
    }
   ],
   "source": [
    "# 경유 가격이 가장 저렴한 5개 행 조회 (단 0원인 주유소 제외)\n",
    "df[df['경유']>0].sort_values('경유').head()"
   ]
  },
  {
   "cell_type": "code",
   "execution_count": 125,
   "metadata": {
    "ExecuteTime": {
     "end_time": "2020-08-16T12:00:19.223166Z",
     "start_time": "2020-08-16T12:00:19.181279Z"
    }
   },
   "outputs": [
    {
     "data": {
      "text/plain": [
       "상표\n",
       "GS칼텍스     1564.029014\n",
       "NH-OIL    1449.088889\n",
       "S-OIL     1532.302882\n",
       "SK에너지     1612.147153\n",
       "알뜰(ex)    1431.347945\n",
       "알뜰주유소     1447.875902\n",
       "자가상표      1492.085540\n",
       "현대오일뱅크    1515.458244\n",
       "Name: 휘발유, dtype: float64"
      ]
     },
     "execution_count": 125,
     "metadata": {},
     "output_type": "execute_result"
    }
   ],
   "source": [
    "# 상표별 휘발유 평균가격 조회\n",
    "df.groupby('상표')['휘발유'].mean()"
   ]
  },
  {
   "cell_type": "code",
   "execution_count": 126,
   "metadata": {},
   "outputs": [],
   "source": [
    "COLOR = 'black'\n",
    "mpl.rcParams['text.color'] = COLOR\n",
    "mpl.rcParams['axes.labelcolor'] = COLOR\n",
    "mpl.rcParams['xtick.color'] = COLOR\n",
    "mpl.rcParams['ytick.color'] = COLOR\n",
    "\n",
    "font_name = 'Malgun Gothic'\n",
    "mpl.rcParams[\"font.family\"] = font_name\n",
    "mpl.rcParams[\"font.size\"] = 15\n",
    "mpl.rcParams['xtick.labelsize'] = 12\n",
    "mpl.rcParams['ytick.labelsize'] = 12\n",
    "mpl.rcParams['axes.labelsize'] = 15\n",
    "# tick의 음수기호 '-' 가 깨지는 것 처리\n",
    "mpl.rcParams['axes.unicode_minus'] = False"
   ]
  },
  {
   "cell_type": "code",
   "execution_count": 127,
   "metadata": {
    "ExecuteTime": {
     "end_time": "2020-08-16T12:18:33.837103Z",
     "start_time": "2020-08-16T12:18:33.625672Z"
    }
   },
   "outputs": [
    {
     "data": {
      "image/png": "[encoded data removed]",
      "text/plain": [
       "<Figure size 800x550 with 1 Axes>"
      ]
     },
     "metadata": {},
     "output_type": "display_data"
    }
   ],
   "source": [
    "# 상표별 휘발유 평균가격 시각화\n",
    "mean_hwi = df.groupby('상표')['휘발유'].mean()\n",
    "# mean_hwi\n",
    "sns.lineplot(x=mean_hwi.index, y=mean_hwi)\n",
    "plt.xticks(mean_hwi.index, rotation=45)\n",
    "plt.show()"
   ]
  },
  {
   "cell_type": "code",
   "execution_count": 128,
   "metadata": {
    "ExecuteTime": {
     "end_time": "2020-08-16T12:00:19.596166Z",
     "start_time": "2020-08-16T12:00:19.555280Z"
    }
   },
   "outputs": [
    {
     "data": {
      "text/plain": [
       "일반    108492\n",
       "셀프     73222\n",
       "Name: 셀프여부, dtype: int64"
      ]
     },
     "execution_count": 128,
     "metadata": {},
     "output_type": "execute_result"
    }
   ],
   "source": [
    "# 셀프주유소와 일반주유소 개수 확인\n",
    "df['셀프여부'].value_counts()"
   ]
  },
  {
   "cell_type": "code",
   "execution_count": 129,
   "metadata": {
    "ExecuteTime": {
     "end_time": "2020-08-16T12:00:19.819570Z",
     "start_time": "2020-08-16T12:00:19.598165Z"
    }
   },
   "outputs": [
    {
     "data": {
      "text/plain": [
       "<AxesSubplot:>"
      ]
     },
     "execution_count": 129,
     "metadata": {},
     "output_type": "execute_result"
    },
    {
     "data": {
      "image/png": "[encoded data removed]",
      "text/plain": [
       "<Figure size 500x500 with 1 Axes>"
      ]
     },
     "metadata": {},
     "output_type": "display_data"
    }
   ],
   "source": [
    "# 셀프주유소와 일반주유소 개수 시각화\n",
    "df['셀프여부'].value_counts().plot.bar(figsize=(5,5))"
   ]
  },
  {
   "cell_type": "code",
   "execution_count": 130,
   "metadata": {
    "ExecuteTime": {
     "end_time": "2020-08-16T12:00:19.851487Z",
     "start_time": "2020-08-16T12:00:19.822565Z"
    }
   },
   "outputs": [
    {
     "data": {
      "text/plain": [
       "셀프여부\n",
       "셀프    1490.160266\n",
       "일반    1619.107824\n",
       "Name: 휘발유, dtype: float64"
      ]
     },
     "execution_count": 130,
     "metadata": {},
     "output_type": "execute_result"
    }
   ],
   "source": [
    "# 셀프 여부에 따른 휘발유 평균 가격 비교\n",
    "df.groupby('셀프여부')['휘발유'].mean()"
   ]
  },
  {
   "cell_type": "code",
   "execution_count": 131,
   "metadata": {
    "ExecuteTime": {
     "end_time": "2020-08-16T12:00:19.943273Z",
     "start_time": "2020-08-16T12:00:19.856472Z"
    }
   },
   "outputs": [
    {
     "data": {
      "text/plain": [
       "상표      셀프여부\n",
       "GS칼텍스   셀프      1481.410074\n",
       "        일반      1610.060123\n",
       "NH-OIL  일반      1449.088889\n",
       "S-OIL   셀프      1481.437428\n",
       "        일반      1579.451162\n",
       "SK에너지   셀프      1504.853863\n",
       "        일반      1690.377765\n",
       "알뜰(ex)  셀프      1431.347945\n",
       "알뜰주유소   셀프      1434.726027\n",
       "        일반      1455.372511\n",
       "자가상표    셀프      1494.409449\n",
       "        일반      1491.740351\n",
       "현대오일뱅크  셀프      1483.546767\n",
       "        일반      1534.254225\n",
       "Name: 휘발유, dtype: float64"
      ]
     },
     "execution_count": 131,
     "metadata": {},
     "output_type": "execute_result"
    }
   ],
   "source": [
    "# 상표별 일반/셀프 주유소의 휘발유 가격 평균 비교\n",
    "df1 = df.groupby(['상표','셀프여부'])['휘발유'].mean()\n",
    "df1"
   ]
  },
  {
   "cell_type": "code",
   "execution_count": 132,
   "metadata": {
    "ExecuteTime": {
     "end_time": "2020-08-16T12:00:20.228476Z",
     "start_time": "2020-08-16T12:00:19.946232Z"
    }
   },
   "outputs": [
    {
     "data": {
      "text/plain": [
       "<Figure size 700x700 with 0 Axes>"
      ]
     },
     "metadata": {},
     "output_type": "display_data"
    },
    {
     "data": {
      "image/png": "[encoded data removed]",
      "text/plain": [
       "<Figure size 800x550 with 1 Axes>"
      ]
     },
     "metadata": {},
     "output_type": "display_data"
    }
   ],
   "source": [
    "# 상표별 일반/셀프 주유소의 휘발유 가격 평균 비교 시각화\n",
    "plt.figure(figsize=(7,7))\n",
    "\n",
    "df.pivot_table(index='상표', columns='셀프여부', values='휘발유', aggfunc='mean').plot.bar()\n",
    "plt.legend(loc='upper right')\n",
    "\n",
    "plt.show()"
   ]
  },
  {
   "cell_type": "code",
   "execution_count": 133,
   "metadata": {
    "ExecuteTime": {
     "end_time": "2020-08-16T12:00:21.282664Z",
     "start_time": "2020-08-16T12:00:20.231469Z"
    }
   },
   "outputs": [
    {
     "name": "stderr",
     "output_type": "stream",
     "text": [
      "No handles with labels found to put in legend.\n",
      "No handles with labels found to put in legend.\n"
     ]
    },
    {
     "data": {
      "image/png": "[encoded data removed]",
      "text/plain": [
       "<Figure size 700x700 with 2 Axes>"
      ]
     },
     "metadata": {},
     "output_type": "display_data"
    }
   ],
   "source": [
    "# 상표별 일반/셀프 주유소의 휘발유 가격에 대한 분포 확인 - boxplot으로 시각화\n",
    "plt.figure(figsize=(7,7))\n",
    "\n",
    "nor_df = df.loc[df['셀프여부']=='일반']\n",
    "self_df = df.loc[df['셀프여부']=='셀프']\n",
    "\n",
    "plt.subplot(1,2,1)\n",
    "sns.boxplot(y='휘발유', x='상표',  data=nor_df)\n",
    "plt.legend(loc='upper right')\n",
    "plt.xticks(rotation=90)\n",
    "plt.title('일반')\n",
    "\n",
    "plt.subplot(1,2,2)\n",
    "sns.boxplot(y='휘발유', x='상표',  data=self_df)\n",
    "plt.legend(loc='upper right')\n",
    "plt.xticks(rotation=90)\n",
    "plt.title('셀프')\n",
    "\n",
    "plt.show()"
   ]
  },
  {
   "cell_type": "code",
   "execution_count": 134,
   "metadata": {
    "ExecuteTime": {
     "end_time": "2020-08-16T12:00:22.417164Z",
     "start_time": "2020-08-16T12:00:21.994261Z"
    }
   },
   "outputs": [
    {
     "name": "stderr",
     "output_type": "stream",
     "text": [
      "No handles with labels found to put in legend.\n"
     ]
    },
    {
     "data": {
      "image/png": "[encoded data removed]",
      "text/plain": [
       "<Figure size 700x700 with 1 Axes>"
      ]
     },
     "metadata": {},
     "output_type": "display_data"
    }
   ],
   "source": [
    "# 상표별 휘발유 가격의 분포를 boxplot으로 시각화\n",
    "plt.figure(figsize=(7,7))\n",
    "\n",
    "sns.boxplot(y='휘발유', x='상표', data=df)\n",
    "plt.legend(loc='upper right')\n",
    "plt.xticks(rotation=90)\n",
    "\n",
    "plt.show()"
   ]
  },
  {
   "cell_type": "code",
   "execution_count": 135,
   "metadata": {
    "ExecuteTime": {
     "end_time": "2020-08-16T12:00:23.046447Z",
     "start_time": "2020-08-16T12:00:22.419127Z"
    }
   },
   "outputs": [
    {
     "data": {
      "image/png": "[encoded data removed]",
      "text/plain": [
       "<Figure size 700x700 with 1 Axes>"
      ]
     },
     "metadata": {},
     "output_type": "display_data"
    }
   ],
   "source": [
    "# 상표별 휘발유 가격의 분포를 셀프여부로 나눠 boxplot으로 시각화\n",
    "plt.figure(figsize=(7,7))\n",
    "\n",
    "sns.boxplot(y='휘발유', x='상표', hue='셀프여부', data=df)\n",
    "plt.legend(loc='upper right')\n",
    "plt.xticks(rotation=90)\n",
    "\n",
    "plt.show()"
   ]
  },
  {
   "cell_type": "code",
   "execution_count": 136,
   "metadata": {
    "ExecuteTime": {
     "end_time": "2020-08-16T12:00:23.092358Z",
     "start_time": "2020-08-16T12:00:23.049440Z"
    }
   },
   "outputs": [
    {
     "data": {
      "text/plain": [
       "구\n",
       "강남구     1713.093581\n",
       "강동구     1576.685264\n",
       "강북구     1453.517525\n",
       "강서구     1488.818088\n",
       "관악구     1518.128564\n",
       "광진구     1490.597054\n",
       "구로구     1525.410383\n",
       "금천구     1477.121992\n",
       "노원구     1531.221551\n",
       "도봉구     1494.171062\n",
       "동대문구    1506.833542\n",
       "동작구     1512.470911\n",
       "마포구     1689.755616\n",
       "서대문구    1528.943332\n",
       "서초구     1577.131304\n",
       "성동구     1583.659561\n",
       "성북구     1507.948267\n",
       "송파구     1518.957954\n",
       "양천구     1512.890261\n",
       "영등포구    1568.279506\n",
       "용산구     1882.049825\n",
       "은평구     1481.964026\n",
       "종로구     1838.554945\n",
       "중구      1976.948052\n",
       "중랑구     1469.009092\n",
       "Name: 휘발유, dtype: float64"
      ]
     },
     "execution_count": 136,
     "metadata": {},
     "output_type": "execute_result"
    }
   ],
   "source": [
    "# 구별 휘발유 가격의 평균\n",
    "df.groupby('구')['휘발유'].mean()"
   ]
  },
  {
   "cell_type": "code",
   "execution_count": 137,
   "metadata": {
    "ExecuteTime": {
     "end_time": "2020-08-16T12:00:23.406484Z",
     "start_time": "2020-08-16T12:00:23.094319Z"
    }
   },
   "outputs": [
    {
     "data": {
      "text/plain": [
       "<AxesSubplot:xlabel='구'>"
      ]
     },
     "execution_count": 137,
     "metadata": {},
     "output_type": "execute_result"
    },
    {
     "data": {
      "image/png": "[encoded data removed]",
      "text/plain": [
       "<Figure size 800x550 with 1 Axes>"
      ]
     },
     "metadata": {},
     "output_type": "display_data"
    }
   ],
   "source": [
    "# 구별 휘발유 가격의 평균 시각화\n",
    "df.groupby('구')['휘발유'].mean().plot.bar()"
   ]
  },
  {
   "cell_type": "code",
   "execution_count": 138,
   "metadata": {
    "ExecuteTime": {
     "end_time": "2020-08-16T12:00:23.454390Z",
     "start_time": "2020-08-16T12:00:23.408479Z"
    },
    "scrolled": true
   },
   "outputs": [
    {
     "data": {
      "text/plain": [
       "상표\n",
       "GS칼텍스     2091.866438\n",
       "S-OIL     1783.369863\n",
       "SK에너지     2060.617512\n",
       "알뜰주유소     1601.552743\n",
       "자가상표      1418.859375\n",
       "현대오일뱅크    1711.669903\n",
       "Name: 휘발유, dtype: float64"
      ]
     },
     "execution_count": 138,
     "metadata": {},
     "output_type": "execute_result"
    }
   ],
   "source": [
    "# 중구(평균이 가장 높음)의 상표별 휘발유 평균가격\n",
    "df.loc[df['구']=='중구'].groupby('상표')['휘발유'].mean()"
   ]
  },
  {
   "cell_type": "code",
   "execution_count": 139,
   "metadata": {},
   "outputs": [
    {
     "name": "stdout",
     "output_type": "stream",
     "text": [
      "<class 'pandas.core.frame.DataFrame'>\n",
      "Int64Index: 181714 entries, 0 to 91123\n",
      "Data columns (total 15 columns):\n",
      " #   Column  Non-Null Count   Dtype         \n",
      "---  ------  --------------   -----         \n",
      " 0   번호      181714 non-null  object        \n",
      " 1   지역      181714 non-null  object        \n",
      " 2   상호      181714 non-null  object        \n",
      " 3   주소      181714 non-null  object        \n",
      " 4   기간      181714 non-null  datetime64[ns]\n",
      " 5   상표      181714 non-null  object        \n",
      " 6   셀프여부    181714 non-null  object        \n",
      " 7   고급휘발유   181714 non-null  int64         \n",
      " 8   휘발유     181714 non-null  int64         \n",
      " 9   경유      181714 non-null  int64         \n",
      " 10  실내등유    181714 non-null  int64         \n",
      " 11  구       181714 non-null  object        \n",
      " 12  월       181714 non-null  int64         \n",
      " 13  일       181714 non-null  int64         \n",
      " 14  요일      181714 non-null  int64         \n",
      "dtypes: datetime64[ns](1), int64(7), object(7)\n",
      "memory usage: 27.2+ MB\n"
     ]
    }
   ],
   "source": [
    "df.info()"
   ]
  },
  {
   "cell_type": "code",
   "execution_count": 140,
   "metadata": {
    "ExecuteTime": {
     "end_time": "2020-08-16T12:00:23.485274Z",
     "start_time": "2020-08-16T12:00:23.456351Z"
    }
   },
   "outputs": [
    {
     "data": {
      "text/plain": [
       "월\n",
       "1     1466.554672\n",
       "2     1446.624956\n",
       "3     1465.159889\n",
       "4     1519.481056\n",
       "5     1606.096255\n",
       "6     1605.343367\n",
       "7     1585.726529\n",
       "8     1589.339464\n",
       "9     1633.125891\n",
       "10    1634.464547\n",
       "11    1620.687606\n",
       "12    1630.535819\n",
       "Name: 휘발유, dtype: float64"
      ]
     },
     "execution_count": 140,
     "metadata": {},
     "output_type": "execute_result"
    }
   ],
   "source": [
    "# 월 평균 휘발유 가격의 평균\n",
    "mon_df = df.groupby('월')['휘발유'].mean()\n",
    "mon_df"
   ]
  },
  {
   "cell_type": "code",
   "execution_count": 141,
   "metadata": {
    "ExecuteTime": {
     "end_time": "2020-08-16T12:00:23.668816Z",
     "start_time": "2020-08-16T12:00:23.487268Z"
    }
   },
   "outputs": [
    {
     "data": {
      "image/png": "[encoded data removed]",
      "text/plain": [
       "<Figure size 800x550 with 1 Axes>"
      ]
     },
     "metadata": {},
     "output_type": "display_data"
    }
   ],
   "source": [
    "# 월별 휘발유 가격 변화 추세 시각화\n",
    "mon_df.plot.line()\n",
    "plt.show()"
   ]
  },
  {
   "cell_type": "code",
   "execution_count": 148,
   "metadata": {
    "ExecuteTime": {
     "end_time": "2020-08-16T12:00:23.844341Z",
     "start_time": "2020-08-16T12:00:23.671775Z"
    }
   },
   "outputs": [
    {
     "data": {
      "text/plain": [
       "구    월 \n",
       "강남구  1     1619.865825\n",
       "     2     1600.945536\n",
       "     3     1616.143548\n",
       "     4     1666.350000\n",
       "     5     1739.208232\n",
       "              ...     \n",
       "중랑구  8     1493.768145\n",
       "     9     1530.306250\n",
       "     10    1523.586694\n",
       "     11    1520.824635\n",
       "     12    1538.842742\n",
       "Name: 휘발유, Length: 300, dtype: float64"
      ]
     },
     "execution_count": 148,
     "metadata": {},
     "output_type": "execute_result"
    }
   ],
   "source": [
    "# 각 구의 월별 평균 휘발유 가격 \n",
    "gumon_df = df.groupby(['구','월'])['휘발유'].mean()\n",
    "gumon_df"
   ]
  },
  {
   "cell_type": "code",
   "execution_count": 227,
   "metadata": {
    "ExecuteTime": {
     "end_time": "2020-08-16T12:00:24.291151Z",
     "start_time": "2020-08-16T12:00:23.846309Z"
    }
   },
   "outputs": [
    {
     "data": {
      "image/png": "[encoded data removed]",
      "text/plain": [
       "<Figure size 800x550 with 1 Axes>"
      ]
     },
     "metadata": {},
     "output_type": "display_data"
    }
   ],
   "source": [
    "# 각 구의 월별 평균가격의 변화추이 시각화\n",
    "gus = gumon_df.unstack().T\n",
    "\n",
    "gus.plot(kind='line')\n",
    "plt.legend(bbox_to_anchor=(1,1), loc='upper left')\n",
    "\n",
    "plt.show()"
   ]
  },
  {
   "cell_type": "code",
   "execution_count": 230,
   "metadata": {
    "ExecuteTime": {
     "end_time": "2020-08-16T12:00:24.339023Z",
     "start_time": "2020-08-16T12:00:24.293112Z"
    },
    "scrolled": true
   },
   "outputs": [
    {
     "data": {
      "text/plain": [
       "(2098.095890410959,\n",
       "             상호          휘발유\n",
       " 0        서남주유소  2207.252055\n",
       " 1        장충주유소  2139.323288\n",
       " 2      뉴서울(강남)  2130.060274\n",
       " 3  SC(주) 역전주유소  2125.778082\n",
       " 4        필동주유소  2098.095890)"
      ]
     },
     "execution_count": 230,
     "metadata": {},
     "output_type": "execute_result"
    }
   ],
   "source": [
    "# 가장 휘발유가격이 비싼 주유소 상위 5 \n",
    "\n",
    "# df.sort_values('휘발유',ascending=False).head()\n",
    "max5 = df.groupby('상호')['휘발유'].mean().sort_values(ascending=False).iloc[:5]\n",
    "max5_df = max5.reset_index()\n",
    "tmp_max= max5.min()\n",
    "tmp_max, max5_df\n",
    "# expen = list(df.groupby('상호')sort_values('휘발유',ascending=False)['상호'].unique()[:5])\n",
    "# expen"
   ]
  },
  {
   "cell_type": "code",
   "execution_count": 231,
   "metadata": {
    "ExecuteTime": {
     "end_time": "2020-08-16T12:00:24.434734Z",
     "start_time": "2020-08-16T12:00:24.340986Z"
    },
    "scrolled": true
   },
   "outputs": [
    {
     "data": {
      "text/plain": [
       "(1419.131506849315,\n",
       "                   상호          휘발유\n",
       " 0         (주)창원현대주유소  1362.553719\n",
       " 1  SK네트웍스(주) 서울셀프주유소  1407.505051\n",
       " 2  KH에너지(주)직영 수명산주유소  1416.021739\n",
       " 3      이케이에너지㈜ 강산주유소  1416.290909\n",
       " 4           북서울고속주유소  1419.131507)"
      ]
     },
     "execution_count": 231,
     "metadata": {},
     "output_type": "execute_result"
    }
   ],
   "source": [
    "# 가장 휘발유가격이 저렴한 주유소 상위 5 \n",
    "min5 = df.loc[df['휘발유']>0].groupby('상호')['휘발유'].mean().sort_values().iloc[:5]\n",
    "tmp_min = min5.max()\n",
    "min5_df = min5.reset_index()\n",
    "tmp_min, min5_df\n",
    "# print(type(min5))\n",
    "# chp = list(df.loc[df['휘발유']>0].sort_values('휘발유')['상호'].unique()[:5])\n",
    "# chp"
   ]
  },
  {
   "cell_type": "code",
   "execution_count": 232,
   "metadata": {
    "ExecuteTime": {
     "end_time": "2020-08-16T12:00:24.510531Z",
     "start_time": "2020-08-16T12:00:24.439725Z"
    },
    "scrolled": true
   },
   "outputs": [
    {
     "data": {
      "text/html": [
       "<div>\n",
       "<style scoped>\n",
       "    .dataframe tbody tr th:only-of-type {\n",
       "        vertical-align: middle;\n",
       "    }\n",
       "\n",
       "    .dataframe tbody tr th {\n",
       "        vertical-align: top;\n",
       "    }\n",
       "\n",
       "    .dataframe thead th {\n",
       "        text-align: right;\n",
       "    }\n",
       "</style>\n",
       "<table border=\"1\" class=\"dataframe\">\n",
       "  <thead>\n",
       "    <tr style=\"text-align: right;\">\n",
       "      <th></th>\n",
       "      <th>상호</th>\n",
       "      <th>지역</th>\n",
       "      <th>주소</th>\n",
       "    </tr>\n",
       "  </thead>\n",
       "  <tbody>\n",
       "    <tr>\n",
       "      <th>2896</th>\n",
       "      <td>뉴서울(강남)</td>\n",
       "      <td>서울 강남구</td>\n",
       "      <td>서울 강남구 언주로 716 (논현동)</td>\n",
       "    </tr>\n",
       "    <tr>\n",
       "      <th>85869</th>\n",
       "      <td>SC(주) 역전주유소</td>\n",
       "      <td>서울 중구</td>\n",
       "      <td>서울 중구 퇴계로 15</td>\n",
       "    </tr>\n",
       "    <tr>\n",
       "      <th>86231</th>\n",
       "      <td>서남주유소</td>\n",
       "      <td>서울 중구</td>\n",
       "      <td>서울 중구 통일로 30</td>\n",
       "    </tr>\n",
       "    <tr>\n",
       "      <th>86955</th>\n",
       "      <td>장충주유소</td>\n",
       "      <td>서울 중구</td>\n",
       "      <td>서울 중구 장충단로 202 (장충동1가)</td>\n",
       "    </tr>\n",
       "    <tr>\n",
       "      <th>87317</th>\n",
       "      <td>필동주유소</td>\n",
       "      <td>서울 중구</td>\n",
       "      <td>서울 중구  퇴계로 196 (필동2가)</td>\n",
       "    </tr>\n",
       "  </tbody>\n",
       "</table>\n",
       "</div>"
      ],
      "text/plain": [
       "                상호      지역                      주소\n",
       "2896       뉴서울(강남)  서울 강남구    서울 강남구 언주로 716 (논현동)\n",
       "85869  SC(주) 역전주유소   서울 중구            서울 중구 퇴계로 15\n",
       "86231        서남주유소   서울 중구            서울 중구 통일로 30\n",
       "86955        장충주유소   서울 중구  서울 중구 장충단로 202 (장충동1가)\n",
       "87317        필동주유소   서울 중구   서울 중구  퇴계로 196 (필동2가)"
      ]
     },
     "execution_count": 232,
     "metadata": {},
     "output_type": "execute_result"
    }
   ],
   "source": [
    "# 휘발유 비싼 주유소의 상위 5개의 상호, 지역, 주소 조회(중복제거-drop_duplicates())\n",
    "df.groupby('상호').filter(lambda x: x['휘발유'].mean() >= tmp_max)[['상호','지역','주소']].drop_duplicates()\n",
    "# df.loc[df.groupby('상호')['휘발유'].mean()>=tmp_max][['상호','지역','주소']].drop_duplicates()"
   ]
  },
  {
   "cell_type": "code",
   "execution_count": 236,
   "metadata": {
    "ExecuteTime": {
     "end_time": "2020-08-16T12:00:24.587326Z",
     "start_time": "2020-08-16T12:00:24.515518Z"
    }
   },
   "outputs": [
    {
     "data": {
      "text/html": [
       "<div>\n",
       "<style scoped>\n",
       "    .dataframe tbody tr th:only-of-type {\n",
       "        vertical-align: middle;\n",
       "    }\n",
       "\n",
       "    .dataframe tbody tr th {\n",
       "        vertical-align: top;\n",
       "    }\n",
       "\n",
       "    .dataframe thead th {\n",
       "        text-align: right;\n",
       "    }\n",
       "</style>\n",
       "<table border=\"1\" class=\"dataframe\">\n",
       "  <thead>\n",
       "    <tr style=\"text-align: right;\">\n",
       "      <th></th>\n",
       "      <th>상호</th>\n",
       "      <th>지역</th>\n",
       "      <th>주소</th>\n",
       "    </tr>\n",
       "  </thead>\n",
       "  <tbody>\n",
       "    <tr>\n",
       "      <th>11120</th>\n",
       "      <td>북서울고속주유소</td>\n",
       "      <td>서울 강북구</td>\n",
       "      <td>서울 강북구 삼양로 410 (수유동)</td>\n",
       "    </tr>\n",
       "    <tr>\n",
       "      <th>13472</th>\n",
       "      <td>KH에너지(주)직영 수명산주유소</td>\n",
       "      <td>서울 강서구</td>\n",
       "      <td>서울 강서구 남부순환로 195 (내발산동)</td>\n",
       "    </tr>\n",
       "    <tr>\n",
       "      <th>19607</th>\n",
       "      <td>SK네트웍스(주) 서울셀프주유소</td>\n",
       "      <td>서울 관악구</td>\n",
       "      <td>서울 관악구 신림로 183 (신림동)</td>\n",
       "    </tr>\n",
       "    <tr>\n",
       "      <th>46052</th>\n",
       "      <td>(주)창원현대주유소</td>\n",
       "      <td>서울 서대문구</td>\n",
       "      <td>서울 서대문구 통일로 537</td>\n",
       "    </tr>\n",
       "    <tr>\n",
       "      <th>61061</th>\n",
       "      <td>이케이에너지㈜ 강산주유소</td>\n",
       "      <td>서울 성북구</td>\n",
       "      <td>서울 성북구 보문로 27 (보문동7가)</td>\n",
       "    </tr>\n",
       "  </tbody>\n",
       "</table>\n",
       "</div>"
      ],
      "text/plain": [
       "                      상호       지역                       주소\n",
       "11120           북서울고속주유소   서울 강북구     서울 강북구 삼양로 410 (수유동)\n",
       "13472  KH에너지(주)직영 수명산주유소   서울 강서구  서울 강서구 남부순환로 195 (내발산동)\n",
       "19607  SK네트웍스(주) 서울셀프주유소   서울 관악구     서울 관악구 신림로 183 (신림동)\n",
       "46052         (주)창원현대주유소  서울 서대문구          서울 서대문구 통일로 537\n",
       "61061      이케이에너지㈜ 강산주유소   서울 성북구    서울 성북구 보문로 27 (보문동7가)"
      ]
     },
     "execution_count": 236,
     "metadata": {},
     "output_type": "execute_result"
    }
   ],
   "source": [
    "# 휘발유 저렴한 주유소의 상위 5개의 상호, 지역, 주소 조회(중복제거)\n",
    "df.loc[df['휘발유']>0].groupby('상호').filter(lambda x: (x['휘발유'].mean() <= tmp_min) & (x['휘발유'].mean() != 0))[['상호','지역','주소']].drop_duplicates()"
   ]
  }
 ],
 "metadata": {
  "kernelspec": {
   "display_name": "Python 3",
   "language": "python",
   "name": "python3"
  },
  "language_info": {
   "codemirror_mode": {
    "name": "ipython",
    "version": 3
   },
   "file_extension": ".py",
   "mimetype": "text/x-python",
   "name": "python",
   "nbconvert_exporter": "python",
   "pygments_lexer": "ipython3",
   "version": "3.8.5"
  },
  "toc": {
   "base_numbering": 1,
   "nav_menu": {},
   "number_sections": true,
   "sideBar": true,
   "skip_h1_title": false,
   "title_cell": "Table of Contents",
   "title_sidebar": "Contents",
   "toc_cell": false,
   "toc_position": {},
   "toc_section_display": true,
   "toc_window_display": false
  },
  "varInspector": {
   "cols": {
    "lenName": 16,
    "lenType": 16,
    "lenVar": 40
   },
   "kernels_config": {
    "python": {
     "delete_cmd_postfix": "",
     "delete_cmd_prefix": "del ",
     "library": "var_list.py",
     "varRefreshCmd": "print(var_dic_list())"
    },
    "r": {
     "delete_cmd_postfix": ") ",
     "delete_cmd_prefix": "rm(",
     "library": "var_list.r",
     "varRefreshCmd": "cat(var_dic_list()) "
    }
   },
   "types_to_exclude": [
    "module",
    "function",
    "builtin_function_or_method",
    "instance",
    "_Feature"
   ],
   "window_display": false
  }
 },
 "nbformat": 4,
 "nbformat_minor": 4
}
