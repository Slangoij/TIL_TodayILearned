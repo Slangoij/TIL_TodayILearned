{
 "cells": [
  {
   "cell_type": "markdown",
   "metadata": {},
   "source": [
    "# 객체지향 프로그래밍\n",
    "\n",
    "### Class(클래스) 정의\n",
    "- 객체의 설계도\n",
    "    - 동일한 형태의 객체들이 가져야 하는 Attribute와 메소드(Method)를 정의한 것.\n",
    "    - 클래스로부터 객체(instance)를 생성\n",
    "- 구문\n",
    "```python\n",
    "class 클래스이름: #클래스 선언부\n",
    "    # 클래스 구현부\n",
    "    # 메소드들을 정의\n",
    "```\n",
    "- 클래스 이름의 관례\n",
    "    - 파스칼표기법: 각 단어의 첫글자는 대문자 나머진 소문자\n",
    "        - ex) BankAccount, Person\n",
    "\n",
    "- 객체 생성\n",
    "```python\n",
    "변수 = 클래스이름()\n",
    "```"
   ]
  },
  {
   "cell_type": "markdown",
   "metadata": {},
   "source": [
    "### Person 클래스 작성\n",
    "- 객체 구성요소\n",
    "    - Instance 속성(Attribute)\n",
    "        - 객체의 데이터/상태\n",
    "        - 변수 - instance 변수(variable)\n",
    "    - Instance method\n",
    "        - 객체가 제공하는 기능\n",
    "        - 함수를 객체에 넣은 것\n",
    "1. Person의 속성은?"
   ]
  },
  {
   "cell_type": "code",
   "execution_count": 46,
   "metadata": {},
   "outputs": [],
   "source": [
    "# 클래스 정의: 코드작성 + 실행\n",
    "class Person:\n",
    "    pass # 구현부를 비워둘 때."
   ]
  },
  {
   "cell_type": "code",
   "execution_count": 47,
   "metadata": {},
   "outputs": [
    {
     "name": "stdout",
     "output_type": "stream",
     "text": [
      "<class '__main__.Person'>\n"
     ]
    }
   ],
   "source": [
    "# 객체 생성\n",
    "p1 = Person()\n",
    "print(type(p1))\n",
    "# class는 instance의 타입\n",
    "# instance는 class의 값"
   ]
  },
  {
   "cell_type": "code",
   "execution_count": 48,
   "metadata": {},
   "outputs": [
    {
     "name": "stdout",
     "output_type": "stream",
     "text": [
      "<class 'int'> <class 'str'> <class 'list'> <class 'bool'> <class 'float'>\n"
     ]
    }
   ],
   "source": [
    "print(type(10),type('abc'),type([1,2,3]),type(True),type(3.5))"
   ]
  },
  {
   "cell_type": "markdown",
   "metadata": {},
   "source": [
    "### Attribute\n",
    "- instance 변수\n",
    "- instance에 Attribute를 추가\n",
    "    1. Initializer(생성자)를 이용해 추가\n",
    "    2. 객체.속성명 = 값\n",
    "        - 주로 변경\n",
    "    3. 메소드를 이용\n",
    "        - 주로 변경\n",
    "- 조회\n",
    "    - 객체.속성명"
   ]
  },
  {
   "cell_type": "code",
   "execution_count": 49,
   "metadata": {},
   "outputs": [
    {
     "name": "stdout",
     "output_type": "stream",
     "text": [
      "slango\n",
      "30\n",
      "seoul\n"
     ]
    }
   ],
   "source": [
    "p1 = Person()\n",
    "p1.name = 'slango'\n",
    "p1.age = 30\n",
    "p1.address = 'seoul'\n",
    "print(p1.name)\n",
    "print(p1.age)\n",
    "print(p1.address)"
   ]
  },
  {
   "cell_type": "markdown",
   "metadata": {},
   "source": [
    "## Initializer (생성자)\n",
    "- 역할: 클래스로부터 instance를 생성시 instance 변수(속성)을 초기화\n",
    "- 객체 생성시 딱 한번만 호출되는 특이한 형태의 메소드\n",
    "- 구문\n",
    "```python\n",
    "class 클래스:\n",
    "    \n",
    "    def __init__(self [, 매개변수, ...]):\n",
    "        구현\n",
    "        # self.변수명 = 값\n",
    "```\n",
    "\n",
    "## self 변수\n",
    "- 생성자(initializer)나 메소드(객체의 기능)의 첫번째 매개변수로 선언\n",
    "    - 현재 객체(instance)를 전달받는 변수\n",
    "- Initializer의 self: 현재 생성되고 있는 객체\n",
    "- 메소드: 메소드를 호출한 객체(메소드 소유객체)\n",
    "- 생성자/메소드 정의시, 호출시 전달받을 값을 저장하는 매개변수는 두번째부터 선언한다."
   ]
  },
  {
   "cell_type": "code",
   "execution_count": 50,
   "metadata": {},
   "outputs": [],
   "source": [
    "class Person:\n",
    "    # initializer(생성자) 구현\n",
    "    def __init__(self,name,age,address=None):\n",
    "        # Attribute를 매개변수로 받은 값으로 초기화\n",
    "        self.name = name # self.name : instance 변수 name.\n",
    "        self.age = age\n",
    "        self.address = address"
   ]
  },
  {
   "cell_type": "code",
   "execution_count": 51,
   "metadata": {},
   "outputs": [
    {
     "name": "stdout",
     "output_type": "stream",
     "text": [
      "slango 30 seoul\n",
      "ds 10 incheon\n"
     ]
    }
   ],
   "source": [
    "# 클래스이름(): __init__() 를 호출\n",
    "p1=Person(\"slango\",30,\"seoul\")\n",
    "print(p1.name,p1.age,p1.address)\n",
    "\n",
    "p2=Person('ds',10,'incheon')\n",
    "print(p2.name,p2.age,p2.address)"
   ]
  },
  {
   "cell_type": "markdown",
   "metadata": {},
   "source": [
    "### 딕셔너리와 클래스와의 차이\n",
    "- 딕셔너리: 모든 정보를 담을 때 쓸 수 있다.(범용적)\n",
    "    - 단점: 특정한 목표를 가진 메소드를 쓰기에 부적절\n",
    "- 클래스: 특정한 목표를 가진 데이터를 모아쓸 수 있다.(한정적)\n",
    "\n",
    "## instance 메소드 (method)\n",
    "- 객체의 기능(객체가 제공하는 기능)\n",
    "- 주로 instance변수(Attribute)의 값을 처리하는 역할\n",
    "- 구문 (함수구문과 **거의** 동일)\n",
    "```python\n",
    "def 이름(self[, 매개변수, ...]):\n",
    "    # 구현부\n",
    "    # self를 이용해서 객체의 속성이나 메소드 호출\n",
    "```\n",
    "- 메소드이름 관례는 함수/변수와 동일.\n",
    "    - snake 표기법: 다 소문자로 하고 단어 사이는 '_'로 연결(주로 파이썬)\n",
    "    - camel 표기법: 첫 단어는 소문자로 시작하고 두번째 단어부터 첫문자만 대문자로 표기(자바 등의 기타 언어의 표기법)\n",
    "- self 매개변수: 메소드가 호출된 객체(instance)를 가리킨다.\n",
    "- 메소드 호출\n",
    "    - 객체.메소드이름(argument1[, argument2, ...])\n",
    "    - argument1 -> 두번째 매개변수, argument2 -> 세번째 매개변수"
   ]
  },
  {
   "cell_type": "code",
   "execution_count": 52,
   "metadata": {},
   "outputs": [
    {
     "data": {
      "text/plain": [
       "[1, 2, 5]"
      ]
     },
     "execution_count": 52,
     "metadata": {},
     "output_type": "execute_result"
    }
   ],
   "source": [
    "li=[1,5,2]\n",
    "sorted(li) # 리스트, 튜플, 셋, ..."
   ]
  },
  {
   "cell_type": "code",
   "execution_count": 53,
   "metadata": {},
   "outputs": [
    {
     "data": {
      "text/plain": [
       "[1, 2, 5]"
      ]
     },
     "execution_count": 53,
     "metadata": {},
     "output_type": "execute_result"
    }
   ],
   "source": [
    "li.sort()\n",
    "li"
   ]
  },
  {
   "cell_type": "markdown",
   "metadata": {},
   "source": [
    "### Person 클래스 작성\n",
    "- 객체 구성요소\n",
    "    - Instance 속성(Attribute)\n",
    "        - 객체의 데이터/상태\n",
    "        - 변수 - instance 변수(variable)\n",
    "    - Instance method\n",
    "        - 객체가 제공하는 기능\n",
    "        - 함수를 객체에 넣은 것\n",
    "1. Person의 속성은?\n",
    "    - name, age, address\n",
    "2. Person method는?\n",
    "    - 나이를 더하는 메소드\n",
    "    - 전체 속성을 변경하는 메소드\n",
    "    - 전체 속성을 출력하는 메소드"
   ]
  },
  {
   "cell_type": "code",
   "execution_count": 54,
   "metadata": {},
   "outputs": [],
   "source": [
    "class Person2:\n",
    "    \"\"\"\n",
    "    클래스에 대한 설명 docstring\n",
    "    \"\"\"\n",
    "    \n",
    "    # 생성자\n",
    "    def __init__(self, name, age, address=None):\n",
    "        self.name = name\n",
    "        self. age = age\n",
    "        self. address = address\n",
    "    \n",
    "    # 모든 instance변수의 값을 출력하는 메소드\n",
    "    def print_info(self):\n",
    "        \"\"\"\n",
    "        모든 instance변수의 값을 출력하는 메소드\n",
    "        \"\"\"\n",
    "        print(f\"이름: {self.name}, 나이: {self.age}, 주소: {self.address}\")\n",
    "        \n",
    "    # 모든 instance변수의 값들을 한번에 변경하는 메소드\n",
    "    # 보통 값들을 변경한다고 칭할 때 set이란 표현을 주로 씀\n",
    "    def set_info(self, name, age, address):\n",
    "        \"\"\"\n",
    "        모든 instance변수의 값들을 한번에 변경하는 메소드\n",
    "        [매개변수]\n",
    "            xxx: xxx\n",
    "        [반환값]\n",
    "            xxx: xxx\n",
    "        \"\"\"\n",
    "        self.name = name\n",
    "        self. age = age\n",
    "        self. address = address\n",
    "        \n",
    "    # 나이를 매개변수로 받은 값에 기존 나이를 더한 값으로 변경하는 메소드\n",
    "    def add_age(self, add_age=0):\n",
    "        \"\"\"\n",
    "        나이를 매개변수로 받은 값에 기존 나이를\n",
    "         더한 값으로 변경하는 메소드\n",
    "        \"\"\"\n",
    "        self.age += add_age"
   ]
  },
  {
   "cell_type": "code",
   "execution_count": 55,
   "metadata": {},
   "outputs": [
    {
     "name": "stdout",
     "output_type": "stream",
     "text": [
      "이름: slango, 나이: 45, 주소: Busan\n"
     ]
    }
   ],
   "source": [
    "p1 = Person2('slango',45,'Busan')\n",
    "p1.print_info()"
   ]
  },
  {
   "cell_type": "code",
   "execution_count": 56,
   "metadata": {},
   "outputs": [
    {
     "name": "stdout",
     "output_type": "stream",
     "text": [
      "이름: slan, 나이: 30, 주소: Incheon\n"
     ]
    }
   ],
   "source": [
    "p1.set_info('slan',30,'Incheon')\n",
    "p1.print_info()"
   ]
  },
  {
   "cell_type": "code",
   "execution_count": 57,
   "metadata": {},
   "outputs": [
    {
     "name": "stdout",
     "output_type": "stream",
     "text": [
      "이름: slan, 나이: 33, 주소: Incheon\n"
     ]
    }
   ],
   "source": [
    "p1.add_age(3)\n",
    "p1.print_info()"
   ]
  },
  {
   "cell_type": "markdown",
   "metadata": {},
   "source": [
    "#### 클래스와 그의 각 메소드에 대한 docstring 조회 방법\n",
    "- ?클래스명\n",
    "- ?객체.메소드명"
   ]
  },
  {
   "cell_type": "markdown",
   "metadata": {},
   "source": [
    "## 정보 은닉 (Information Hiding)\n",
    "- instance 변수(Attribute)의 값을 외부에서 직접 접근(호출-변경/조회)하지 못하도록 막는다.\n",
    "- 목적: 마음대로 값을 변경하지 못하도록 한다.\n",
    "- instance변수의 값을 변경(setter)/조회(getter)할 수 있는 메소드를 제공한다.\n",
    "    - setter: instance변수의 값을 변경하는 메소드, 관례상 set으로 시작\n",
    "    - getter: instance변수의 값을 조회(반환)하는 메소드. 관례상 get으로 시작\n",
    "- 구현\n",
    "    - instance변수의 이름을 `__`로 시작. ex) `self.__name`,`self.__age`\n",
    "    - getter/setter 메소드를 제공. ex) set_name(), get_age()"
   ]
  },
  {
   "cell_type": "code",
   "execution_count": 58,
   "metadata": {},
   "outputs": [],
   "source": [
    "class MyDate:\n",
    "    \"\"\"\n",
    "    instance변수로 년, 월, 일(날짜)을 관리하는 클래스\n",
    "    \"\"\"\n",
    "    def __init__(self, year, month, day):\n",
    "        self.__year = year\n",
    "        self.__month = month\n",
    "        self.__day = day\n",
    "        \n",
    "    def set_month(self, month):\n",
    "        \"\"\"\n",
    "        월을 변경하는 메소드\n",
    "        [매개변수]\n",
    "            month: int - 월 (범위: 1 ~ 12)\n",
    "        \"\"\"\n",
    "        if month>=1 and month<=12:# and type(month)==int\n",
    "            # month in list(range(1,13)):\n",
    "            self.__month = month\n",
    "        else:\n",
    "            print(f\"{month}는 잘못된 월입니다. 1 ~ 12까지만 가능합니다.\")\n",
    "            \n",
    "    def get_month(self):\n",
    "        \"\"\"\n",
    "        instance변수의 월을 반환하는 메소드\n",
    "        [반환값]\n",
    "            int: 월\n",
    "        \"\"\"\n",
    "        return self.__month"
   ]
  },
  {
   "cell_type": "code",
   "execution_count": 59,
   "metadata": {},
   "outputs": [
    {
     "name": "stdout",
     "output_type": "stream",
     "text": [
      "1\n",
      "5\n",
      "1000는 잘못된 월입니다. 1 ~ 12까지만 가능합니다.\n",
      "5\n"
     ]
    }
   ],
   "source": [
    "date = MyDate(2021,1,13)\n",
    "# print(date.__year) 은닉하였기에 이렇게는 조회 불가능. \n",
    "print(date.get_month())\n",
    "date.set_month(5)\n",
    "print(date.get_month())\n",
    "date.set_month(1000)\n",
    "print(date.get_month())"
   ]
  },
  {
   "cell_type": "code",
   "execution_count": 60,
   "metadata": {},
   "outputs": [
    {
     "data": {
      "text/plain": [
       "{'_MyDate__year': 2021, '_MyDate__month': 5, '_MyDate__day': 13}"
      ]
     },
     "execution_count": 60,
     "metadata": {},
     "output_type": "execute_result"
    }
   ],
   "source": [
    "# 객체.__dict__ # 객체의 instance변수들을 확인\n",
    "date.__dict__"
   ]
  },
  {
   "cell_type": "code",
   "execution_count": 61,
   "metadata": {},
   "outputs": [],
   "source": [
    "class MyDate2:\n",
    "    \n",
    "    def __init__(self, year, month, day):\n",
    "        self.__year = year\n",
    "        self.__month = month\n",
    "        self.__day = day\n",
    "        \n",
    "    def set_year(self, year):\n",
    "        print(\">>> set_year\")\n",
    "        self.__year = year\n",
    "        \n",
    "    def get_year(self):\n",
    "        print(\">>> get_year\")\n",
    "        return self.__year\n",
    "    \n",
    "    def set_month(self, month):\n",
    "        print(\">>> set_month\")\n",
    "        self.__month = month\n",
    "        \n",
    "    def get_month(self):\n",
    "        print(\">>> get_month\")\n",
    "        return self.__month\n",
    "    \n",
    "    def set_day(self, day):\n",
    "        print(\">>> set_day\")\n",
    "        self.__day = day\n",
    "        \n",
    "    def get_day(self):\n",
    "        print(\">>> get_day\")\n",
    "        return self.__day\n",
    "    \n",
    "    # 변수명 = property(getter,setter)\n",
    "    # 외부에서 변수명으로 호출하면 getter\n",
    "    # 메소드를 변수에 값을 대입하면 setter메소드를 호출\n",
    "    year = property(get_year, set_year)\n",
    "    month = property(get_month, set_month)\n",
    "    day = property(get_day, set_day)\n"
   ]
  },
  {
   "cell_type": "code",
   "execution_count": 62,
   "metadata": {},
   "outputs": [
    {
     "name": "stdout",
     "output_type": "stream",
     "text": [
      ">>> get_year\n",
      "2013\n",
      ">>> set_year\n",
      ">>> get_year\n",
      "2030\n"
     ]
    }
   ],
   "source": [
    "today = MyDate2(2013,1,13)\n",
    "print(today.year) # 조회\n",
    "today.year=2030\n",
    "print(today.year)"
   ]
  },
  {
   "cell_type": "code",
   "execution_count": 63,
   "metadata": {},
   "outputs": [
    {
     "name": "stdout",
     "output_type": "stream",
     "text": [
      ">>> set_month\n",
      ">>> set_day\n",
      ">>> get_month\n",
      "10\n",
      ">>> get_day\n",
      "30\n"
     ]
    }
   ],
   "source": [
    "today.month=10\n",
    "today.day=30\n",
    "print(today.month) # 월 => 10\n",
    "print(today.day)   # 일 => 30"
   ]
  },
  {
   "cell_type": "code",
   "execution_count": 64,
   "metadata": {},
   "outputs": [],
   "source": [
    "# setter/getter + property 변수를 지정한느 것을 setter/getter 메소드에 직접 설정\n",
    "# 데코레이터(Decorator - 장식자) 이용\n",
    "# 1. getter/setter 메소드의 이름을 호출시 사용할 변수명으로 지정\n",
    "# 2. getter메소드에 @property 데코레이터를 추가\n",
    "# 3. setter메소드에 @getter메소드이름.setter 데코레이터를 추가\n",
    "# 메소드 정의 순서는 반드시 getter를 먼저 정의해야 한다.\n",
    "# getter/setter 메소드명은 동일"
   ]
  },
  {
   "cell_type": "code",
   "execution_count": 65,
   "metadata": {},
   "outputs": [],
   "source": [
    "class MyDate3:\n",
    "    \n",
    "    def __init__(self, year, month, day, sec):\n",
    "        self.__year = year\n",
    "        self.__month = month\n",
    "        self.__day = day\n",
    "        self.__sec = sec\n",
    "        \n",
    "    # year의 값을 반환하는 메소드(getter)\n",
    "    @property  # 밑의 메소드를 property로 인식\n",
    "    def year(self):\n",
    "        return self.__year\n",
    "    \n",
    "    # year의 값을 변경하는 메소드(setter)\n",
    "    @year.setter\n",
    "    def year(self, year):\n",
    "        self.__year = year\n",
    "        \n",
    "    # month, day\n",
    "    @property\n",
    "    def month(self):\n",
    "        return self.__month\n",
    "    \n",
    "    @month.setter\n",
    "    def month(self, month):\n",
    "        self.__month = month\n",
    "        \n",
    "    @property\n",
    "    def day(self):\n",
    "        return self.__day\n",
    "    \n",
    "    @day.setter\n",
    "    def day(self, day):\n",
    "        self.__day = day\n",
    "        \n",
    "    @property\n",
    "    def sec(self, sec):\n",
    "        self.__sec = day\n",
    "    \n",
    "    @day.getter\n",
    "    def day(self):\n",
    "        return self.__sec"
   ]
  },
  {
   "cell_type": "code",
   "execution_count": 66,
   "metadata": {},
   "outputs": [
    {
     "ename": "TypeError",
     "evalue": "__init__() missing 1 required positional argument: 'sec'",
     "output_type": "error",
     "traceback": [
      "\u001b[1;31m----------------------------------------------------------------------\u001b[0m",
      "\u001b[1;31mTypeError\u001b[0m                            Traceback (most recent call last)",
      "\u001b[1;32m<ipython-input-66-6d3ac1a6bfbc>\u001b[0m in \u001b[0;36m<module>\u001b[1;34m\u001b[0m\n\u001b[1;32m----> 1\u001b[1;33m \u001b[0mtoday\u001b[0m \u001b[1;33m=\u001b[0m \u001b[0mMyDate3\u001b[0m\u001b[1;33m(\u001b[0m\u001b[1;36m2021\u001b[0m\u001b[1;33m,\u001b[0m\u001b[1;36m1\u001b[0m\u001b[1;33m,\u001b[0m\u001b[1;36m13\u001b[0m\u001b[1;33m)\u001b[0m\u001b[1;33m\u001b[0m\u001b[1;33m\u001b[0m\u001b[0m\n\u001b[0m\u001b[0;32m      2\u001b[0m \u001b[0mprint\u001b[0m\u001b[1;33m(\u001b[0m\u001b[0mtoday\u001b[0m\u001b[1;33m.\u001b[0m\u001b[0myear\u001b[0m\u001b[1;33m)\u001b[0m\u001b[1;33m\u001b[0m\u001b[1;33m\u001b[0m\u001b[0m\n\u001b[0;32m      3\u001b[0m \u001b[0mtoday\u001b[0m\u001b[1;33m.\u001b[0m\u001b[0myear\u001b[0m\u001b[1;33m=\u001b[0m\u001b[1;36m2010\u001b[0m\u001b[1;33m\u001b[0m\u001b[1;33m\u001b[0m\u001b[0m\n\u001b[0;32m      4\u001b[0m \u001b[0mtoday\u001b[0m\u001b[1;33m.\u001b[0m\u001b[0m__dict__\u001b[0m\u001b[1;33m\u001b[0m\u001b[1;33m\u001b[0m\u001b[0m\n",
      "\u001b[1;31mTypeError\u001b[0m: __init__() missing 1 required positional argument: 'sec'"
     ]
    }
   ],
   "source": [
    "today = MyDate3(2021,1,13)\n",
    "print(today.year)\n",
    "today.year=2010\n",
    "today.__dict__"
   ]
  },
  {
   "cell_type": "code",
   "execution_count": null,
   "metadata": {},
   "outputs": [],
   "source": [
    "today = MyDate3(2021,1,13,21)\n",
    "today.sec=21"
   ]
  },
  {
   "cell_type": "markdown",
   "metadata": {},
   "source": [
    "## TO DO\n",
    "- 제품 클래스 구현\n",
    "- 속성: 제품ID: str / 제품이름: str / 제품가격: int / 제조사이름: str\n",
    "    - 정보은닉에 맞춰서 작성. 값을 대입/조회하는 것은 변수처리 방식을 할 수 잇도록\n",
    "- 메소드: 전체 정보를 출력하는 메소드\n",
    "\n",
    "메소드: setter - 4개 / getter - 4개 / 전체정보 출력하는 메소드 - 1개"
   ]
  },
  {
   "cell_type": "code",
   "execution_count": null,
   "metadata": {},
   "outputs": [],
   "source": [
    "item = Item('id-1','노트북',300000,'삼성')\n",
    "# id를 변경\n",
    "item.id='id-100'\n",
    "# id를 조회\n",
    "print(item.id)\n",
    "# 전체정보 출력하는 메소드\n",
    "item.print_all_info()"
   ]
  },
  {
   "cell_type": "code",
   "execution_count": null,
   "metadata": {},
   "outputs": [],
   "source": [
    "class Item:\n",
    "    \"\"\"\n",
    "    아이템에 대한 정보를 저장하는 클래스\n",
    "    [매개변수]\n",
    "        제품ID: str\n",
    "        제품이름: str\n",
    "        제품가격: int\n",
    "        제조사이름: str\n",
    "    \"\"\"\n",
    "    def __init__(self,prd_ID,prd_name,prd_price,prd_maker):\n",
    "        self.__prd_ID=prd_ID\n",
    "        self.__prd_name=prd_name\n",
    "        self.__prd_price=prd_price\n",
    "        self.__prd_maker=prd_maker        \n",
    "    \n",
    "    def print_all_items(self):\n",
    "        print(f\"제품ID: {self.__prd_ID}\\n제품이름: {self.__prd_name}\\n제품가격: {self.__prd_price}\\n제조사이름: {self.__prd_maker}\")\n",
    "    \n",
    "    @property\n",
    "    def useID(self):\n",
    "        return self.__prd_ID\n",
    "    @useID.setter\n",
    "    def useID(self,prd_ID):\n",
    "        self.__prd_ID=prd_ID\n",
    "        \n",
    "    @property\n",
    "    def useName(self):\n",
    "        return self.__prd_name\n",
    "    @useName.setter\n",
    "    def useName(self,prd_name):\n",
    "        self.__prd_name=prd_name\n",
    "\n",
    "    @property\n",
    "    def usePrice(self):\n",
    "        return self.__prd_price\n",
    "    @usePrice.setter\n",
    "    def usePrice(self,prd_price):\n",
    "        self.__prd_price=prd_price\n",
    "\n",
    "\n",
    "    @property\n",
    "    def useMaker(self):\n",
    "        return self.__prd_maker\n",
    "    @useMaker.setter\n",
    "    def useMaker(self,prd_maker):\n",
    "        self.__prd_maker=prd_maker"
   ]
  },
  {
   "cell_type": "code",
   "execution_count": null,
   "metadata": {},
   "outputs": [],
   "source": [
    "?Item\n",
    "\n",
    "it1=Item('sl-1','Laptop',1200000,'LGE')\n",
    "it1.print_all_items()\n",
    "print('')\n",
    "\n",
    "it1.useID='sl-2'\n",
    "it1.print_all_items()\n",
    "print(it1.useID,end='\\n\\n')\n",
    "\n",
    "it1.useName='Desktop'\n",
    "it1.print_all_items()\n",
    "print(it1.useName,end='\\n\\n')\n",
    "\n",
    "it1.usePrice=1500000\n",
    "it1.print_all_items()\n",
    "print(it1.usePrice,end='\\n\\n')\n",
    "\n",
    "it1.useMaker='SamsumgE'\n",
    "it1.print_all_items()\n",
    "print(it1.useMaker,end='\\n\\n')"
   ]
  },
  {
   "cell_type": "code",
   "execution_count": null,
   "metadata": {},
   "outputs": [],
   "source": []
  },
  {
   "cell_type": "code",
   "execution_count": null,
   "metadata": {},
   "outputs": [],
   "source": [
    "dblist = [[]]\n",
    "dblist.append([1,2])\n",
    "print(dblist)"
   ]
  },
  {
   "cell_type": "code",
   "execution_count": null,
   "metadata": {},
   "outputs": [],
   "source": [
    "int('a234')"
   ]
  },
  {
   "cell_type": "code",
   "execution_count": null,
   "metadata": {},
   "outputs": [],
   "source": []
  },
  {
   "cell_type": "markdown",
   "metadata": {},
   "source": [
    "## 상속\n",
    "- 기존 클래스를 확장해서 새로운 클래스를 구현하는 방식."
   ]
  },
  {
   "cell_type": "code",
   "execution_count": null,
   "metadata": {},
   "outputs": [],
   "source": [
    "class Person:\n",
    "    \n",
    "    def eat(self):\n",
    "        # 모든 하위클래스들에 구현될 수 있는 구현\n",
    "        #   -> 메소드의 구현이 추상적\n",
    "        print(\"사람이 먹는다.\")"
   ]
  },
  {
   "cell_type": "code",
   "execution_count": null,
   "metadata": {},
   "outputs": [],
   "source": [
    "# eat(), study()\n",
    "# Person: 상위(Super), 기반(base), 부모(Parent) 클래스\n",
    "# Student: 하위(Sub), 파생(Derived), 자식(Child) 클래스\n",
    "class Student(Person):\n",
    "#     def eat(self):\n",
    "#         pass\n",
    "    def study(self):\n",
    "        print(\"학생이 공부한다.\")"
   ]
  },
  {
   "cell_type": "code",
   "execution_count": null,
   "metadata": {},
   "outputs": [],
   "source": [
    "class Teacher(Person):\n",
    "    def teach(self):\n",
    "        print(\"선생이 가르친다.\")"
   ]
  },
  {
   "cell_type": "code",
   "execution_count": null,
   "metadata": {},
   "outputs": [],
   "source": [
    "s=Student()\n",
    "s.study()\n",
    "s.eat()\n",
    "\n",
    "t=Teacher()\n",
    "t.teach()\n",
    "t.eat()"
   ]
  },
  {
   "cell_type": "code",
   "execution_count": null,
   "metadata": {},
   "outputs": [],
   "source": [
    "# 상속받은 메소드를 하위클래스에서 재정의할 수 있다. - 메소드 오버라이딩(Method Overriding)\n",
    "# 상위클래스에 정의된 메소드는 추상적이므로 하위클래스에서 그에 맞게 구현을 재정의\n",
    "class Student2(Person):\n",
    "    def eat(self):\n",
    "        print('학생이 먹는다.')\n",
    "    def study(self):\n",
    "        print(\"학생이 공부한다.\")"
   ]
  },
  {
   "cell_type": "code",
   "execution_count": null,
   "metadata": {},
   "outputs": [],
   "source": [
    "s2=Student2()\n",
    "s2.eat()\n",
    "s2.study()"
   ]
  },
  {
   "cell_type": "code",
   "execution_count": null,
   "metadata": {},
   "outputs": [],
   "source": [
    "class Person:\n",
    "    \n",
    "    def __init__(self,name,age):\n",
    "        self.name = name\n",
    "        self.age = age\n",
    "        \n",
    "    def eat(self):\n",
    "        print(f\"{self.name}님이 먹는다.\")\n",
    "    \n",
    "    def get_info(self):\n",
    "        return f\"이름: {self.name}, 나이: {self.age}세\""
   ]
  },
  {
   "cell_type": "code",
   "execution_count": null,
   "metadata": {},
   "outputs": [],
   "source": [
    "p=Person('slango',20)\n",
    "p.eat()\n",
    "info=p.get_info()\n",
    "print(info)"
   ]
  },
  {
   "cell_type": "code",
   "execution_count": 68,
   "metadata": {},
   "outputs": [],
   "source": [
    "class Student(Person):\n",
    "    def __init__(self, name, age, school_name):\n",
    "        # 상위클래스(Person)의 객체에 name과 age는 전달\n",
    "        super().__init__(name,age)\n",
    "        self.school_name = school_name # Student의 속성\n",
    "        \n",
    "    def study(self):\n",
    "        print(f\"학생 {self.name}이 공부한다.\")\n",
    "        \n",
    "    def get_info(self):\n",
    "        info = super().get_info()+\"학교명: {}\".format(self.school_name)\n",
    "        return info\n",
    "        # return f\"이름: {self.name}, 나이: {self.age}세, 학교명: {self.school_name}\""
   ]
  },
  {
   "cell_type": "code",
   "execution_count": 69,
   "metadata": {},
   "outputs": [
    {
     "name": "stdout",
     "output_type": "stream",
     "text": [
      "A_school thistudent 15\n"
     ]
    }
   ],
   "source": [
    "s=Student(\"thistudent\",15,\"A_school\")\n",
    "print(s.school_name,s.name,s.age)"
   ]
  },
  {
   "cell_type": "code",
   "execution_count": 70,
   "metadata": {},
   "outputs": [
    {
     "name": "stdout",
     "output_type": "stream",
     "text": [
      "학생 SlaGi이 공부한다.\n"
     ]
    },
    {
     "ename": "AttributeError",
     "evalue": "'super' object has no attribute 'get_info'",
     "output_type": "error",
     "traceback": [
      "\u001b[1;31m----------------------------------------------------------------------\u001b[0m",
      "\u001b[1;31mAttributeError\u001b[0m                       Traceback (most recent call last)",
      "\u001b[1;32m<ipython-input-70-155cdeb889d4>\u001b[0m in \u001b[0;36m<module>\u001b[1;34m\u001b[0m\n\u001b[0;32m      1\u001b[0m \u001b[0ms2\u001b[0m\u001b[1;33m=\u001b[0m\u001b[0mStudent\u001b[0m\u001b[1;33m(\u001b[0m\u001b[1;34m'SlaGi'\u001b[0m\u001b[1;33m,\u001b[0m\u001b[1;36m13\u001b[0m\u001b[1;33m,\u001b[0m\u001b[1;34m\"B-schl\"\u001b[0m\u001b[1;33m)\u001b[0m\u001b[1;33m\u001b[0m\u001b[1;33m\u001b[0m\u001b[0m\n\u001b[0;32m      2\u001b[0m \u001b[0ms2\u001b[0m\u001b[1;33m.\u001b[0m\u001b[0mstudy\u001b[0m\u001b[1;33m(\u001b[0m\u001b[1;33m)\u001b[0m\u001b[1;33m\u001b[0m\u001b[1;33m\u001b[0m\u001b[0m\n\u001b[1;32m----> 3\u001b[1;33m \u001b[0minfo\u001b[0m\u001b[1;33m=\u001b[0m\u001b[0ms\u001b[0m\u001b[1;33m.\u001b[0m\u001b[0mget_info\u001b[0m\u001b[1;33m(\u001b[0m\u001b[1;33m)\u001b[0m\u001b[1;33m\u001b[0m\u001b[1;33m\u001b[0m\u001b[0m\n\u001b[0m\u001b[0;32m      4\u001b[0m \u001b[0mprint\u001b[0m\u001b[1;33m(\u001b[0m\u001b[0minfo\u001b[0m\u001b[1;33m)\u001b[0m\u001b[1;33m\u001b[0m\u001b[1;33m\u001b[0m\u001b[0m\n",
      "\u001b[1;32m<ipython-input-68-43e91c998569>\u001b[0m in \u001b[0;36mget_info\u001b[1;34m(self)\u001b[0m\n\u001b[0;32m      9\u001b[0m \u001b[1;33m\u001b[0m\u001b[0m\n\u001b[0;32m     10\u001b[0m     \u001b[1;32mdef\u001b[0m \u001b[0mget_info\u001b[0m\u001b[1;33m(\u001b[0m\u001b[0mself\u001b[0m\u001b[1;33m)\u001b[0m\u001b[1;33m:\u001b[0m\u001b[1;33m\u001b[0m\u001b[1;33m\u001b[0m\u001b[0m\n\u001b[1;32m---> 11\u001b[1;33m         \u001b[0minfo\u001b[0m \u001b[1;33m=\u001b[0m \u001b[0msuper\u001b[0m\u001b[1;33m(\u001b[0m\u001b[1;33m)\u001b[0m\u001b[1;33m.\u001b[0m\u001b[0mget_info\u001b[0m\u001b[1;33m(\u001b[0m\u001b[1;33m)\u001b[0m\u001b[1;33m+\u001b[0m\u001b[1;34m\"학교명: {}\"\u001b[0m\u001b[1;33m.\u001b[0m\u001b[0mformat\u001b[0m\u001b[1;33m(\u001b[0m\u001b[0mself\u001b[0m\u001b[1;33m.\u001b[0m\u001b[0mschool_name\u001b[0m\u001b[1;33m)\u001b[0m\u001b[1;33m\u001b[0m\u001b[1;33m\u001b[0m\u001b[0m\n\u001b[0m\u001b[0;32m     12\u001b[0m         \u001b[1;32mreturn\u001b[0m \u001b[0minfo\u001b[0m\u001b[1;33m\u001b[0m\u001b[1;33m\u001b[0m\u001b[0m\n\u001b[0;32m     13\u001b[0m         \u001b[1;31m# return f\"이름: {self.name}, 나이: {self.age}세, 학교명: {self.school_name}\"\u001b[0m\u001b[1;33m\u001b[0m\u001b[1;33m\u001b[0m\u001b[1;33m\u001b[0m\u001b[0m\n",
      "\u001b[1;31mAttributeError\u001b[0m: 'super' object has no attribute 'get_info'"
     ]
    }
   ],
   "source": [
    "s2=Student('SlaGi',13,\"B-schl\")\n",
    "s2.study()\n",
    "info=s.get_info()\n",
    "print(info)"
   ]
  },
  {
   "cell_type": "markdown",
   "metadata": {},
   "source": [
    "클래스이름() - Student('aa',20,'aaa') : rorcptodtjd\n",
    "\n",
    "1. 객체를 만든다.\n",
    "    - 상속: 상위/하위크래스의 객체를 모두 생성 - 상속으로 묶인다.\n",
    "2. 생성자 호출(`__init__`)\n",
    "    - 상속: `super().__init__()`을 이용해 하위클래스의 생성자에서 상위클래스의 생성자를 호출 가능"
   ]
  },
  {
   "cell_type": "markdown",
   "metadata": {},
   "source": [
    "### 다중상속\n",
    "- 여러클래스를 상속받는 것\n",
    "- MRO (Method Resolution Order): 호출된 메소드를 찾는 순서\n",
    "    1. 자기자신\n",
    "    2. 상위클래스: 상속시 먼저 선언된 클래스 순서대로 메소드 찾는다. (왼쪽 -> 오른쪽)"
   ]
  },
  {
   "cell_type": "code",
   "execution_count": 71,
   "metadata": {},
   "outputs": [],
   "source": [
    "class Printer:\n",
    "    def print(self):\n",
    "        print(\"프린트 한다.\")\n",
    "        \n",
    "    def test(self):\n",
    "        print(\"프린터기능 테스트\")\n",
    "        \n",
    "class Saver:\n",
    "    def save(self):\n",
    "        print(\"저장 한다.\")\n",
    "        \n",
    "    def test(self):\n",
    "        print(\"저장기능 테스트\")\n",
    "        \n",
    "class WordProcessor(Printer, Saver):\n",
    "    \n",
    "    def write(self):\n",
    "        print(\"글을 작성한다.\")"
   ]
  },
  {
   "cell_type": "code",
   "execution_count": 72,
   "metadata": {},
   "outputs": [
    {
     "name": "stdout",
     "output_type": "stream",
     "text": [
      "글을 작성한다.\n",
      "프린트 한다.\n",
      "저장 한다.\n"
     ]
    }
   ],
   "source": [
    "wp=WordProcessor()\n",
    "wp.write() # WordProcessor\n",
    "wp.print() # Printer\n",
    "wp.save() # Saver"
   ]
  },
  {
   "cell_type": "code",
   "execution_count": 73,
   "metadata": {},
   "outputs": [
    {
     "name": "stdout",
     "output_type": "stream",
     "text": [
      "프린터기능 테스트\n"
     ]
    }
   ],
   "source": [
    "wp.test()"
   ]
  },
  {
   "cell_type": "markdown",
   "metadata": {},
   "source": [
    "## 상속/객체관련 메소드, 변수"
   ]
  },
  {
   "cell_type": "code",
   "execution_count": 74,
   "metadata": {},
   "outputs": [
    {
     "name": "stdout",
     "output_type": "stream",
     "text": [
      "30\n",
      "정수만 가능\n"
     ]
    },
    {
     "data": {
      "text/plain": [
       "(True, False, True, True)"
      ]
     },
     "execution_count": 74,
     "metadata": {},
     "output_type": "execute_result"
    }
   ],
   "source": [
    "# isinstance(객체, 클래스) - 객체가 클래스로부터 생성되었는지 여부\n",
    "isinstance('abc',str), isinstance('abc',int) # str: 문자열 클래스\n",
    "\n",
    "def test(var): # 매개변수 var의 타입이 int이면\n",
    "    # if isinstance(var, int):\n",
    "    if type(var) == int:\n",
    "        print(var+20)\n",
    "    else:\n",
    "        print(\"정수만 가능\")\n",
    "        \n",
    "test(10)\n",
    "test('abc')\n",
    "p=Student('a',20,'c')\n",
    "wp=WordProcessor()\n",
    "isinstance(p,Student), isinstance(p,WordProcessor), isinstance(wp,Saver),isinstance(wp,Printer)"
   ]
  },
  {
   "cell_type": "code",
   "execution_count": null,
   "metadata": {},
   "outputs": [],
   "source": [
    "# 객체.__dict__: 객체의 속성정보를 dictionary로 반환(key-속성명, value-속성값) => 객체=변환=>딕셔너리\n",
    "p.__dict__\n",
    "# 객체.__class__ : 모듈.클래스이름\n",
    "p.__class__ #클래스 이름"
   ]
  },
  {
   "cell_type": "code",
   "execution_count": null,
   "metadata": {},
   "outputs": [],
   "source": [
    "# 특수메소드, 매직메소드, 던더(D(ouble)under)메소드\n",
    "class Person:\n",
    "    def __init__(self, name, age):\n",
    "        self.name = name\n",
    "        self.age = age\n",
    "        \n",
    "    def __str__(self): \n",
    "        \"\"\"\n",
    "        객체를 문자열로 변환하는 메소드\n",
    "        내장함수 str(객체)과 연동\n",
    "        str(객체)를 하면 아래서 리턴하는 문자열로 출력됨\n",
    "        [반환값]\n",
    "            str: 객체의 정보(데이터) -> instance변수들\n",
    "        \"\"\"\n",
    "        print(\">>>>>>>>>>>\")\n",
    "        return f\"이름: {self.name}, 나이: {self.age}\"\n",
    "    \n",
    "    def __repr__(self):\n",
    "        \"\"\"\n",
    "        객체를 표현하는 표현식을 문자열로 만들어 반환\n",
    "        내장함수 repr(객체)와 연동\n",
    "        [반환값]\n",
    "            str: 객체 생성했던 코드를 문자열로 반환\n",
    "        \"\"\"\n",
    "        return f'Person(\"{self.name}\", {self.age})'\n",
    "    \n",
    "    def __eq__(self, other):\n",
    "        \"\"\"\n",
    "        '==' 연산자를 재정의. 객체의 instance변수들의 값이 같으면 True가 나오도록 재정의\n",
    "        객체1 == 객체2.    self: 객체1, other: 객체2\n",
    "        \"\"\"\n",
    "        result = False\n",
    "        if isinstance(other, Person):\n",
    "            if self.name==other.name and self.age==other.age:\n",
    "                retult = True\n",
    "        return result\n",
    "    \n",
    "    def __gt__(self, other):\n",
    "        \"\"\"\n",
    "        '>' 연산자를 재정의\n",
    "        객체1 > 객체2      self: 객체1, other: 객체2\n",
    "        \"\"\"\n",
    "        result = False\n",
    "        if isinstance(other, Person):\n",
    "            # 나이크기\n",
    "            if self.age > other.age:\n",
    "                result = True\n",
    "            return result\n",
    "\n",
    "# __lt__(self,other): self < other (작다 연산)\n",
    "# __ge__(self,other): self >= other\n",
    "# __le__(self,other): self <= other\n",
    "# __ne__(self,other): self != other\n",
    "\n",
    "    \n",
    "    def __add_(self, other):\n",
    "        \"\"\"\n",
    "        '+' 연산을 재정의\n",
    "        객체1 + 객체2\n",
    "        \"\"\"\n",
    "        # 정수를 받아서 나이와 더한 값을 반환\n",
    "        result = None\n",
    "        if isinstance(other, int):\n",
    "            result = self.age + other\n",
    "        if isinstance(other, Person):\n",
    "            result = self.age + other.age\n",
    "        return result\n",
    "    \n",
    "# __sub__(self.other): self - other\n",
    "# __mul__(self.other): self * other\n",
    "# __truediv__(self.other): self / other\n",
    "# __floordiv__(self.other): self // other\n",
    "# __mod__(self.other): self % other"
   ]
  },
  {
   "cell_type": "code",
   "execution_count": null,
   "metadata": {},
   "outputs": [],
   "source": [
    "p=Person(\"slang\",20)\n",
    "s=str(p) #Person 객체를 문자열 => __str__()\n",
    "print(s)"
   ]
  },
  {
   "cell_type": "code",
   "execution_count": null,
   "metadata": {},
   "outputs": [],
   "source": [
    "p=Person(\"slango\",20)\n",
    "r=repr(p) #p.__repr__\n",
    "print(r)\n",
    "a=eval(r) # eval(문자열): 문자열을 코드로 평가해서 실행\n",
    "a.name"
   ]
  },
  {
   "cell_type": "code",
   "execution_count": null,
   "metadata": {},
   "outputs": [],
   "source": [
    "p1=Person('slagno',30)\n",
    "p2=Person('slagno',30)\n",
    "p1==p2"
   ]
  },
  {
   "cell_type": "markdown",
   "metadata": {},
   "source": [
    "## class(클래스)변수, class(클래스)메소드\n",
    "- class변수: 클래스 자체의 변수(속성, 데이터), Class메소드: 클래스 변수를 처리하는 메소드\n",
    "    - instance(객체)와는 관계없다.\n",
    "    \n",
    "## static(정적) 메소드\n",
    "- 클래스의 기능을 제공하는 메소드\n",
    "    - 클래스 변수를 처리하는 일을 하지 않는다.\n",
    "    - 즉, 클래스 변수가 필요없이 독자적인 매개변수만 있어도 제기능을 하는 메소드"
   ]
  },
  {
   "cell_type": "code",
   "execution_count": 96,
   "metadata": {},
   "outputs": [],
   "source": [
    "class Calculator:\n",
    "    \"\"\"다양한 연산을 하는 메소드들을 묶어놓은 클래스\"\"\"\n",
    "    # 클래스 변수: PI(원주율) : 객체마다 따로 갖고 있을 필요가 없으므로 클래스변수로 선언.\n",
    "    PI=3.14\n",
    "    \n",
    "    # 원의 넓이를 구하는 메소드\n",
    "    @classmethod\n",
    "    def cirArea(clzz, radius): # 'class' 예약어와 겹치므로 'clzz'로 관례상 자주 씀\n",
    "        return radius * radius * clzz.PI\n",
    "    \n",
    "    @staticmethod  # 지 할일만 따로 함, 그러나 기능상 유사하기 때문에 클래스로 묶어준 것\n",
    "    def plus(*args):\n",
    "        return sum(args)\n",
    "    \n",
    "    @staticmethod\n",
    "    def minus(n1,n2):\n",
    "        return n1-n2"
   ]
  },
  {
   "cell_type": "code",
   "execution_count": 97,
   "metadata": {},
   "outputs": [
    {
     "name": "stdout",
     "output_type": "stream",
     "text": [
      "3.14\n",
      "314.0\n",
      "5\n"
     ]
    }
   ],
   "source": [
    "print(Calculator.PI) # 클래스변수/메소드 호출 : 클래스이름.변수명, 클래스이름.메소드()\n",
    "print(Calculator.cirArea(10))\n",
    "print(Calculator.minus(10,5))"
   ]
  },
  {
   "cell_type": "code",
   "execution_count": 80,
   "metadata": {},
   "outputs": [],
   "source": []
  },
  {
   "cell_type": "code",
   "execution_count": null,
   "metadata": {},
   "outputs": [],
   "source": []
  },
  {
   "cell_type": "code",
   "execution_count": null,
   "metadata": {},
   "outputs": [],
   "source": []
  },
  {
   "cell_type": "code",
   "execution_count": null,
   "metadata": {},
   "outputs": [],
   "source": []
  },
  {
   "cell_type": "code",
   "execution_count": null,
   "metadata": {},
   "outputs": [],
   "source": []
  },
  {
   "cell_type": "code",
   "execution_count": null,
   "metadata": {},
   "outputs": [],
   "source": []
  },
  {
   "cell_type": "code",
   "execution_count": null,
   "metadata": {},
   "outputs": [],
   "source": []
  },
  {
   "cell_type": "code",
   "execution_count": null,
   "metadata": {},
   "outputs": [],
   "source": []
  },
  {
   "cell_type": "code",
   "execution_count": null,
   "metadata": {},
   "outputs": [],
   "source": []
  },
  {
   "cell_type": "code",
   "execution_count": null,
   "metadata": {},
   "outputs": [],
   "source": []
  }
 ],
 "metadata": {
  "kernelspec": {
   "display_name": "Python 3",
   "language": "python",
   "name": "python3"
  },
  "language_info": {
   "codemirror_mode": {
    "name": "ipython",
    "version": 3
   },
   "file_extension": ".py",
   "mimetype": "text/x-python",
   "name": "python",
   "nbconvert_exporter": "python",
   "pygments_lexer": "ipython3",
   "version": "3.8.5"
  }
 },
 "nbformat": 4,
 "nbformat_minor": 4
}
