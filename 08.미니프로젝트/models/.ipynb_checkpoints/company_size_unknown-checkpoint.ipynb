{
 "cells": [
  {
   "cell_type": "code",
   "execution_count": 1,
   "metadata": {},
   "outputs": [],
   "source": [
    "# def fit_metrics_print(model, X_train, y_train, X_val, y_val):\n",
    "#     from sklearn.metrics import accuracy_score, classification_report\n",
    "#     model.fit(X_train, y_train)\n",
    "    \n",
    "#     pred_train = model.predict(X_train)\n",
    "#     pred_val = model.predict(X_val)\n",
    "#     print(model)\n",
    "#     print()\n",
    "#     print('train accuracy :', accuracy_score(y_train, pred_train))\n",
    "#     print('validation accuracy :', accuracy_score(y_val, pred_val))\n",
    "#     print('='*60)"
   ]
  },
  {
   "cell_type": "code",
   "execution_count": 2,
   "metadata": {},
   "outputs": [],
   "source": [
    "import pandas as pd\n",
    "import numpy as np\n",
    "from sklearn.model_selection import RandomizedSearchCV, GridSearchCV\n",
    "from sklearn.model_selection import train_test_split\n",
    "from sklearn.metrics import accuracy_score, classification_report\n",
    "df_test = pd.read_csv('hr_data/prepcd_lbe_test.csv')\n"
   ]
  },
  {
   "cell_type": "code",
   "execution_count": 3,
   "metadata": {},
   "outputs": [],
   "source": [
    "drop_cols = ['enrollee_id']\n",
    "y_test = pd.Series(np.load('hr_data/jobchange_test_target_values.npy'))\n",
    "X_test = df_test.drop(columns=drop_cols)"
   ]
  },
  {
   "cell_type": "code",
   "execution_count": 4,
   "metadata": {},
   "outputs": [],
   "source": [
    "df = pd.read_csv('hr_data/prepcd_lbe_train.csv')\n",
    "\n",
    "drop_cols = ['enrollee_id', 'target']\n",
    "y = df['target']\n",
    "X = df.drop(columns=drop_cols)"
   ]
  },
  {
   "cell_type": "code",
   "execution_count": 5,
   "metadata": {},
   "outputs": [
    {
     "data": {
      "text/plain": [
       "pandas.core.series.Series"
      ]
     },
     "execution_count": 5,
     "metadata": {},
     "output_type": "execute_result"
    }
   ],
   "source": [
    "type(y)"
   ]
  },
  {
   "cell_type": "code",
   "execution_count": 6,
   "metadata": {
    "scrolled": false
   },
   "outputs": [
    {
     "data": {
      "text/html": [
       "<div>\n",
       "<style scoped>\n",
       "    .dataframe tbody tr th:only-of-type {\n",
       "        vertical-align: middle;\n",
       "    }\n",
       "\n",
       "    .dataframe tbody tr th {\n",
       "        vertical-align: top;\n",
       "    }\n",
       "\n",
       "    .dataframe thead th {\n",
       "        text-align: right;\n",
       "    }\n",
       "</style>\n",
       "<table border=\"1\" class=\"dataframe\">\n",
       "  <thead>\n",
       "    <tr style=\"text-align: right;\">\n",
       "      <th></th>\n",
       "      <th>city</th>\n",
       "      <th>city_development_index</th>\n",
       "      <th>gender</th>\n",
       "      <th>relevent_experience</th>\n",
       "      <th>enrolled_university</th>\n",
       "      <th>education_level</th>\n",
       "      <th>major_discipline</th>\n",
       "      <th>experience</th>\n",
       "      <th>company_size</th>\n",
       "      <th>company_type</th>\n",
       "      <th>last_new_job</th>\n",
       "      <th>training_hours</th>\n",
       "    </tr>\n",
       "  </thead>\n",
       "  <tbody>\n",
       "    <tr>\n",
       "      <th>0</th>\n",
       "      <td>-1.106970</td>\n",
       "      <td>0.741001</td>\n",
       "      <td>0.203475</td>\n",
       "      <td>-0.624383</td>\n",
       "      <td>-0.580364</td>\n",
       "      <td>-0.254614</td>\n",
       "      <td>-0.326356</td>\n",
       "      <td>1.603223</td>\n",
       "      <td>1.152978</td>\n",
       "      <td>0.799826</td>\n",
       "      <td>-0.584835</td>\n",
       "      <td>-0.488208</td>\n",
       "    </tr>\n",
       "    <tr>\n",
       "      <th>1</th>\n",
       "      <td>0.928915</td>\n",
       "      <td>-0.424674</td>\n",
       "      <td>0.203475</td>\n",
       "      <td>1.601582</td>\n",
       "      <td>-0.580364</td>\n",
       "      <td>-0.254614</td>\n",
       "      <td>-0.326356</td>\n",
       "      <td>0.720043</td>\n",
       "      <td>-0.950415</td>\n",
       "      <td>0.127264</td>\n",
       "      <td>1.808240</td>\n",
       "      <td>-0.305100</td>\n",
       "    </tr>\n",
       "    <tr>\n",
       "      <th>2</th>\n",
       "      <td>0.561325</td>\n",
       "      <td>-1.655108</td>\n",
       "      <td>0.203475</td>\n",
       "      <td>1.601582</td>\n",
       "      <td>1.891844</td>\n",
       "      <td>-0.254614</td>\n",
       "      <td>-0.326356</td>\n",
       "      <td>-0.751922</td>\n",
       "      <td>1.152978</td>\n",
       "      <td>0.799826</td>\n",
       "      <td>-1.183103</td>\n",
       "      <td>0.294163</td>\n",
       "    </tr>\n",
       "    <tr>\n",
       "      <th>3</th>\n",
       "      <td>-0.852484</td>\n",
       "      <td>-0.319439</td>\n",
       "      <td>0.203475</td>\n",
       "      <td>1.601582</td>\n",
       "      <td>1.891844</td>\n",
       "      <td>-0.254614</td>\n",
       "      <td>3.064143</td>\n",
       "      <td>-1.487905</td>\n",
       "      <td>1.152978</td>\n",
       "      <td>0.127264</td>\n",
       "      <td>-1.183103</td>\n",
       "      <td>-0.221869</td>\n",
       "    </tr>\n",
       "    <tr>\n",
       "      <th>4</th>\n",
       "      <td>0.165458</td>\n",
       "      <td>-0.497528</td>\n",
       "      <td>0.203475</td>\n",
       "      <td>-0.624383</td>\n",
       "      <td>-0.580364</td>\n",
       "      <td>0.976639</td>\n",
       "      <td>-0.326356</td>\n",
       "      <td>1.603223</td>\n",
       "      <td>-0.950415</td>\n",
       "      <td>-2.562982</td>\n",
       "      <td>1.209972</td>\n",
       "      <td>-0.954302</td>\n",
       "    </tr>\n",
       "    <tr>\n",
       "      <th>...</th>\n",
       "      <td>...</td>\n",
       "      <td>...</td>\n",
       "      <td>...</td>\n",
       "      <td>...</td>\n",
       "      <td>...</td>\n",
       "      <td>...</td>\n",
       "      <td>...</td>\n",
       "      <td>...</td>\n",
       "      <td>...</td>\n",
       "      <td>...</td>\n",
       "      <td>...</td>\n",
       "      <td>...</td>\n",
       "    </tr>\n",
       "    <tr>\n",
       "      <th>19153</th>\n",
       "      <td>0.306839</td>\n",
       "      <td>0.401012</td>\n",
       "      <td>0.203475</td>\n",
       "      <td>1.601582</td>\n",
       "      <td>-0.580364</td>\n",
       "      <td>-0.254614</td>\n",
       "      <td>3.064143</td>\n",
       "      <td>0.572847</td>\n",
       "      <td>1.152978</td>\n",
       "      <td>0.799826</td>\n",
       "      <td>-0.584835</td>\n",
       "      <td>-0.388331</td>\n",
       "    </tr>\n",
       "    <tr>\n",
       "      <th>19154</th>\n",
       "      <td>-1.106970</td>\n",
       "      <td>0.741001</td>\n",
       "      <td>0.203475</td>\n",
       "      <td>-0.624383</td>\n",
       "      <td>-0.580364</td>\n",
       "      <td>-0.254614</td>\n",
       "      <td>-0.326356</td>\n",
       "      <td>0.572847</td>\n",
       "      <td>1.152978</td>\n",
       "      <td>0.799826</td>\n",
       "      <td>1.209972</td>\n",
       "      <td>-0.221869</td>\n",
       "    </tr>\n",
       "    <tr>\n",
       "      <th>19155</th>\n",
       "      <td>-1.106970</td>\n",
       "      <td>0.741001</td>\n",
       "      <td>0.203475</td>\n",
       "      <td>-0.624383</td>\n",
       "      <td>-0.580364</td>\n",
       "      <td>-0.254614</td>\n",
       "      <td>-0.326356</td>\n",
       "      <td>1.603223</td>\n",
       "      <td>-0.950415</td>\n",
       "      <td>0.127264</td>\n",
       "      <td>1.209972</td>\n",
       "      <td>-0.355039</td>\n",
       "    </tr>\n",
       "    <tr>\n",
       "      <th>19156</th>\n",
       "      <td>1.409610</td>\n",
       "      <td>-0.214205</td>\n",
       "      <td>0.203475</td>\n",
       "      <td>-0.624383</td>\n",
       "      <td>-0.580364</td>\n",
       "      <td>-1.485868</td>\n",
       "      <td>-0.326356</td>\n",
       "      <td>-1.487905</td>\n",
       "      <td>-0.249284</td>\n",
       "      <td>0.127264</td>\n",
       "      <td>0.013434</td>\n",
       "      <td>0.527210</td>\n",
       "    </tr>\n",
       "    <tr>\n",
       "      <th>19157</th>\n",
       "      <td>1.437886</td>\n",
       "      <td>0.214828</td>\n",
       "      <td>0.203475</td>\n",
       "      <td>1.601582</td>\n",
       "      <td>-0.580364</td>\n",
       "      <td>-2.717121</td>\n",
       "      <td>-0.326356</td>\n",
       "      <td>-1.193512</td>\n",
       "      <td>1.152978</td>\n",
       "      <td>0.799826</td>\n",
       "      <td>-0.584835</td>\n",
       "      <td>1.026596</td>\n",
       "    </tr>\n",
       "  </tbody>\n",
       "</table>\n",
       "<p>19158 rows × 12 columns</p>\n",
       "</div>"
      ],
      "text/plain": [
       "           city  city_development_index    gender  relevent_experience  \\\n",
       "0     -1.106970                0.741001  0.203475            -0.624383   \n",
       "1      0.928915               -0.424674  0.203475             1.601582   \n",
       "2      0.561325               -1.655108  0.203475             1.601582   \n",
       "3     -0.852484               -0.319439  0.203475             1.601582   \n",
       "4      0.165458               -0.497528  0.203475            -0.624383   \n",
       "...         ...                     ...       ...                  ...   \n",
       "19153  0.306839                0.401012  0.203475             1.601582   \n",
       "19154 -1.106970                0.741001  0.203475            -0.624383   \n",
       "19155 -1.106970                0.741001  0.203475            -0.624383   \n",
       "19156  1.409610               -0.214205  0.203475            -0.624383   \n",
       "19157  1.437886                0.214828  0.203475             1.601582   \n",
       "\n",
       "       enrolled_university  education_level  major_discipline  experience  \\\n",
       "0                -0.580364        -0.254614         -0.326356    1.603223   \n",
       "1                -0.580364        -0.254614         -0.326356    0.720043   \n",
       "2                 1.891844        -0.254614         -0.326356   -0.751922   \n",
       "3                 1.891844        -0.254614          3.064143   -1.487905   \n",
       "4                -0.580364         0.976639         -0.326356    1.603223   \n",
       "...                    ...              ...               ...         ...   \n",
       "19153            -0.580364        -0.254614          3.064143    0.572847   \n",
       "19154            -0.580364        -0.254614         -0.326356    0.572847   \n",
       "19155            -0.580364        -0.254614         -0.326356    1.603223   \n",
       "19156            -0.580364        -1.485868         -0.326356   -1.487905   \n",
       "19157            -0.580364        -2.717121         -0.326356   -1.193512   \n",
       "\n",
       "       company_size  company_type  last_new_job  training_hours  \n",
       "0          1.152978      0.799826     -0.584835       -0.488208  \n",
       "1         -0.950415      0.127264      1.808240       -0.305100  \n",
       "2          1.152978      0.799826     -1.183103        0.294163  \n",
       "3          1.152978      0.127264     -1.183103       -0.221869  \n",
       "4         -0.950415     -2.562982      1.209972       -0.954302  \n",
       "...             ...           ...           ...             ...  \n",
       "19153      1.152978      0.799826     -0.584835       -0.388331  \n",
       "19154      1.152978      0.799826      1.209972       -0.221869  \n",
       "19155     -0.950415      0.127264      1.209972       -0.355039  \n",
       "19156     -0.249284      0.127264      0.013434        0.527210  \n",
       "19157      1.152978      0.799826     -0.584835        1.026596  \n",
       "\n",
       "[19158 rows x 12 columns]"
      ]
     },
     "execution_count": 6,
     "metadata": {},
     "output_type": "execute_result"
    }
   ],
   "source": [
    "X"
   ]
  },
  {
   "cell_type": "code",
   "execution_count": 7,
   "metadata": {},
   "outputs": [],
   "source": [
    "X_train, X_val, y_train, y_val = train_test_split(X, y, stratify=y, random_state=1, shuffle=True)"
   ]
  },
  {
   "cell_type": "code",
   "execution_count": 8,
   "metadata": {},
   "outputs": [],
   "source": [
    "# from imblearn.over_sampling import *\n",
    "from imblearn.under_sampling import *\n",
    "# from imblearn.combine import *\n",
    "\n",
    "# over_sampling\n",
    "# X_train, y_train = SMOTE().fit_resample(X_train, y_train)\n",
    "# X_train, y_train = ADASYN().fit_resample(X_train, y_train)\n",
    "\n",
    "\n",
    "# # under_sampling\n",
    "X_train, y_train = TomekLinks().fit_resample(X_train, y_train)\n",
    "# # X_train, y_train = CondensedNearestNeighbour().fit_resample(X_train, y_train)  # 너무 오래걸림...\n",
    "# X_train, y_train = OneSidedSelection().fit_resample(X_train, y_train)\n",
    "# X_train, y_train = EditedNearestNeighbours().fit_resample(X_train, y_train)\n",
    "# X_train, y_train = NeighbourhoodCleaningRule().fit_resample(X_train, y_train)\n",
    "# X_train, y_train = CondensedNearestNeighbour().fit_resample(X_train, y_train)\n",
    "\n",
    "# # combine_sampling\n",
    "# X_train, y_train = SMOTEENN().fit_resample(X_train, y_train)\n",
    "# X_train, y_train = SMOTETomek().fit_resample(X_train, y_train)\n",
    "\n"
   ]
  },
  {
   "cell_type": "markdown",
   "metadata": {},
   "source": [
    "# Decision Tree"
   ]
  },
  {
   "cell_type": "code",
   "execution_count": 9,
   "metadata": {},
   "outputs": [
    {
     "data": {
      "text/plain": [
       "DecisionTreeClassifier()"
      ]
     },
     "execution_count": 9,
     "metadata": {},
     "output_type": "execute_result"
    }
   ],
   "source": [
    "# 학습\n",
    "from sklearn.tree import DecisionTreeClassifier\n",
    "tree = DecisionTreeClassifier()\n",
    "tree.fit(X_train, y_train)"
   ]
  },
  {
   "cell_type": "code",
   "execution_count": 10,
   "metadata": {
    "scrolled": true
   },
   "outputs": [
    {
     "name": "stdout",
     "output_type": "stream",
     "text": [
      "train accuracy : 0.9985057900635039\n",
      "validation accuracy : 0.7121085594989561\n"
     ]
    }
   ],
   "source": [
    "# 검증\n",
    "from sklearn.metrics import accuracy_score, classification_report\n",
    "\n",
    "pred_train = tree.predict(X_train)\n",
    "pred_val = tree.predict(X_val)\n",
    "\n",
    "print('train accuracy :', accuracy_score(y_train, pred_train))\n",
    "print('validation accuracy :', accuracy_score(y_val, pred_val))"
   ]
  },
  {
   "cell_type": "markdown",
   "metadata": {},
   "source": [
    "## gridsearch"
   ]
  },
  {
   "cell_type": "code",
   "execution_count": 11,
   "metadata": {},
   "outputs": [
    {
     "name": "stderr",
     "output_type": "stream",
     "text": [
      "c:\\users\\user\\anaconda3\\envs\\ml\\lib\\site-packages\\sklearn\\model_selection\\_search.py:918: UserWarning: One or more of the test scores are non-finite: [       nan 0.78909231 0.78909231 0.78909231 0.78909231 0.78909231\n",
      " 0.78909231 0.78909231 0.78909231        nan 0.78909231 0.78909231\n",
      " 0.78827043 0.78827043 0.78827043 0.78827043 0.78827043 0.78827043\n",
      "        nan 0.78909231 0.78909231 0.78909231 0.78827043 0.78827043\n",
      " 0.78827043 0.78789697 0.78789697        nan 0.78909231 0.78909231\n",
      " 0.78909231 0.80052298 0.80052298 0.79970111 0.79880465 0.79798277\n",
      "        nan 0.78909231 0.78909231 0.78909231 0.80052298 0.79955167\n",
      " 0.80164341 0.80164341 0.80082154        nan 0.78909231 0.78909231\n",
      " 0.78909231 0.80052298 0.79955167 0.80597694 0.80597694 0.80739629\n",
      "        nan 0.78909231 0.78909231 0.78909231 0.80052298 0.79955167\n",
      " 0.80597694 0.80597694 0.80739629        nan 0.78909231 0.78909231\n",
      " 0.78909231 0.80052298 0.79955167 0.80597694 0.80597694 0.80739629\n",
      "        nan 0.78909231 0.78909231 0.78909231 0.80052298 0.79955167\n",
      " 0.80597694 0.80597694 0.80739629]\n",
      "  warnings.warn(\n"
     ]
    },
    {
     "data": {
      "text/plain": [
       "GridSearchCV(cv=2, estimator=DecisionTreeClassifier(), n_jobs=-1,\n",
       "             param_grid={'max_depth': range(1, 10),\n",
       "                         'max_leaf_nodes': range(1, 10), 'random_state': [1]},\n",
       "             scoring='accuracy')"
      ]
     },
     "execution_count": 11,
     "metadata": {},
     "output_type": "execute_result"
    }
   ],
   "source": [
    "from sklearn.model_selection import GridSearchCV\n",
    "\n",
    "param_grid = dict(\n",
    "    max_depth=range(1, 10),\n",
    "    max_leaf_nodes=range(1, 10),\n",
    "    random_state=[1]\n",
    ")\n",
    "\n",
    "grid_tree = GridSearchCV(tree,\n",
    "                         param_grid=param_grid,\n",
    "                         scoring='accuracy',\n",
    "                         cv=2,\n",
    "                         n_jobs=-1)\n",
    "grid_tree.fit(X_train, y_train)"
   ]
  },
  {
   "cell_type": "code",
   "execution_count": 12,
   "metadata": {},
   "outputs": [
    {
     "data": {
      "text/plain": [
       "DecisionTreeClassifier(max_depth=6, max_leaf_nodes=9, random_state=1)"
      ]
     },
     "execution_count": 12,
     "metadata": {},
     "output_type": "execute_result"
    }
   ],
   "source": [
    "grid_tree.best_estimator_"
   ]
  },
  {
   "cell_type": "code",
   "execution_count": 13,
   "metadata": {
    "scrolled": true
   },
   "outputs": [
    {
     "name": "stdout",
     "output_type": "stream",
     "text": [
      "train accuracy : 0.8091893911094509\n",
      "validation accuracy : 0.7810020876826722\n"
     ]
    }
   ],
   "source": [
    "pred_train = grid_tree.predict(X_train)\n",
    "pred_val = grid_tree.predict(X_val)\n",
    "\n",
    "print('train accuracy :', accuracy_score(y_train, pred_train))\n",
    "print('validation accuracy :', accuracy_score(y_val, pred_val))"
   ]
  },
  {
   "cell_type": "markdown",
   "metadata": {},
   "source": [
    "-----------------------------------\n",
    "# RandomForest"
   ]
  },
  {
   "cell_type": "code",
   "execution_count": 14,
   "metadata": {},
   "outputs": [
    {
     "data": {
      "text/plain": [
       "RandomForestClassifier(max_depth=7, max_features=12, n_estimators=200,\n",
       "                       random_state=1)"
      ]
     },
     "execution_count": 14,
     "metadata": {},
     "output_type": "execute_result"
    }
   ],
   "source": [
    "from sklearn.ensemble import RandomForestClassifier\n",
    "\n",
    "rf = RandomForestClassifier(max_depth=7, max_features=12, n_estimators=200,\n",
    "                       random_state=1)\n",
    "rf.fit(X_train, y_train)"
   ]
  },
  {
   "cell_type": "code",
   "execution_count": 15,
   "metadata": {},
   "outputs": [
    {
     "name": "stdout",
     "output_type": "stream",
     "text": [
      "train accuracy : 0.8291370937616735\n",
      "validation accuracy : 0.7966597077244258\n"
     ]
    }
   ],
   "source": [
    "pred_train = rf.predict(X_train)\n",
    "pred_val = rf.predict(X_val)\n",
    "\n",
    "print('train accuracy :', accuracy_score(y_train, pred_train))\n",
    "print('validation accuracy :', accuracy_score(y_val, pred_val))"
   ]
  },
  {
   "cell_type": "markdown",
   "metadata": {},
   "source": [
    "## gridsearch"
   ]
  },
  {
   "cell_type": "code",
   "execution_count": 16,
   "metadata": {},
   "outputs": [
    {
     "data": {
      "text/plain": [
       "GridSearchCV(cv=3, estimator=RandomForestClassifier(), n_jobs=-1,\n",
       "             param_grid={'max_depth': range(1, 11),\n",
       "                         'max_features': range(10, 13), 'n_estimators': [200],\n",
       "                         'random_state': [1]},\n",
       "             scoring='accuracy')"
      ]
     },
     "execution_count": 16,
     "metadata": {},
     "output_type": "execute_result"
    }
   ],
   "source": [
    "param_grid = dict(\n",
    "    n_estimators=[200],\n",
    "    max_features=range(10, 13),\n",
    "    max_depth=range(1, 11),\n",
    "    random_state=[1]\n",
    ")\n",
    "\n",
    "rf = RandomForestClassifier()\n",
    "grid_rf = GridSearchCV(rf,\n",
    "                       param_grid=param_grid,\n",
    "                       scoring='accuracy',\n",
    "                       cv=3,\n",
    "                       n_jobs=-1)\n",
    "grid_rf.fit(X_train, y_train)"
   ]
  },
  {
   "cell_type": "code",
   "execution_count": 17,
   "metadata": {},
   "outputs": [
    {
     "data": {
      "text/plain": [
       "RandomForestClassifier(max_depth=10, max_features=10, n_estimators=200,\n",
       "                       random_state=1)"
      ]
     },
     "execution_count": 17,
     "metadata": {},
     "output_type": "execute_result"
    }
   ],
   "source": [
    "grid_rf.best_estimator_"
   ]
  },
  {
   "cell_type": "code",
   "execution_count": 18,
   "metadata": {},
   "outputs": [
    {
     "name": "stdout",
     "output_type": "stream",
     "text": [
      "train accuracy : 0.8633545013074337\n",
      "validation accuracy : 0.7962421711899791\n"
     ]
    }
   ],
   "source": [
    "pred_train = grid_rf.predict(X_train)\n",
    "pred_val = grid_rf.predict(X_val)\n",
    "\n",
    "print('train accuracy :', accuracy_score(y_train, pred_train))\n",
    "print('validation accuracy :', accuracy_score(y_val, pred_val))"
   ]
  },
  {
   "cell_type": "markdown",
   "metadata": {},
   "source": [
    "-----------------------------------\n",
    "# KNeighborsClassifier"
   ]
  },
  {
   "cell_type": "code",
   "execution_count": 19,
   "metadata": {},
   "outputs": [
    {
     "data": {
      "text/plain": [
       "KNeighborsClassifier()"
      ]
     },
     "execution_count": 19,
     "metadata": {},
     "output_type": "execute_result"
    }
   ],
   "source": [
    "from sklearn.neighbors import KNeighborsClassifier\n",
    "\n",
    "knn = KNeighborsClassifier()\n",
    "knn.fit(X_train, y_train)"
   ]
  },
  {
   "cell_type": "code",
   "execution_count": 20,
   "metadata": {},
   "outputs": [
    {
     "name": "stdout",
     "output_type": "stream",
     "text": [
      "train accuracy : 0.8454239820694808\n",
      "validation accuracy : 0.7551148225469728\n"
     ]
    }
   ],
   "source": [
    "pred_train = knn.predict(X_train)\n",
    "pred_val = knn.predict(X_val)\n",
    "\n",
    "print('train accuracy :', accuracy_score(y_train, pred_train))\n",
    "print('validation accuracy :', accuracy_score(y_val, pred_val))"
   ]
  },
  {
   "cell_type": "markdown",
   "metadata": {},
   "source": [
    "## gridsearch"
   ]
  },
  {
   "cell_type": "code",
   "execution_count": 21,
   "metadata": {},
   "outputs": [
    {
     "data": {
      "text/plain": [
       "GridSearchCV(cv=2, estimator=KNeighborsClassifier(), n_jobs=-1,\n",
       "             param_grid={'n_neighbors': range(1, 10)}, scoring='accuracy')"
      ]
     },
     "execution_count": 21,
     "metadata": {},
     "output_type": "execute_result"
    }
   ],
   "source": [
    "grid_knn = GridSearchCV(knn,\n",
    "                        param_grid=dict(n_neighbors=range(1, 10)),\n",
    "                        scoring='accuracy',\n",
    "                        n_jobs=-1,\n",
    "                        cv=2,\n",
    "                       )\n",
    "grid_knn.fit(X_train, y_train)"
   ]
  },
  {
   "cell_type": "code",
   "execution_count": 22,
   "metadata": {},
   "outputs": [
    {
     "data": {
      "text/plain": [
       "KNeighborsClassifier(n_neighbors=9)"
      ]
     },
     "execution_count": 22,
     "metadata": {},
     "output_type": "execute_result"
    }
   ],
   "source": [
    "grid_knn.best_estimator_"
   ]
  },
  {
   "cell_type": "code",
   "execution_count": 23,
   "metadata": {},
   "outputs": [
    {
     "name": "stdout",
     "output_type": "stream",
     "text": [
      "train accuracy : 0.8234590960029884\n",
      "validation accuracy : 0.765553235908142\n"
     ]
    }
   ],
   "source": [
    "pred_train = grid_knn.predict(X_train)\n",
    "pred_val = grid_knn.predict(X_val)\n",
    "\n",
    "print('train accuracy :', accuracy_score(y_train, pred_train))\n",
    "print('validation accuracy :', accuracy_score(y_val, pred_val))"
   ]
  },
  {
   "cell_type": "markdown",
   "metadata": {},
   "source": [
    "-----------------------------------\n",
    "# svc"
   ]
  },
  {
   "cell_type": "code",
   "execution_count": 24,
   "metadata": {},
   "outputs": [
    {
     "data": {
      "text/plain": [
       "SVC()"
      ]
     },
     "execution_count": 24,
     "metadata": {},
     "output_type": "execute_result"
    }
   ],
   "source": [
    "from sklearn.svm import SVC\n",
    "\n",
    "svc = SVC()\n",
    "svc.fit(X_train, y_train)"
   ]
  },
  {
   "cell_type": "code",
   "execution_count": 25,
   "metadata": {},
   "outputs": [
    {
     "name": "stdout",
     "output_type": "stream",
     "text": [
      "train accuracy : 0.8140455734030632\n",
      "validation accuracy : 0.7801670146137787\n"
     ]
    }
   ],
   "source": [
    "pred_train = svc.predict(X_train)\n",
    "pred_val = svc.predict(X_val)\n",
    "\n",
    "print('train accuracy :', accuracy_score(y_train, pred_train))\n",
    "print('validation accuracy :', accuracy_score(y_val, pred_val))"
   ]
  },
  {
   "cell_type": "markdown",
   "metadata": {},
   "source": [
    "## RandomizedSearch"
   ]
  },
  {
   "cell_type": "code",
   "execution_count": 26,
   "metadata": {},
   "outputs": [
    {
     "data": {
      "text/plain": [
       "RandomizedSearchCV(cv=2, estimator=SVC(), n_jobs=-1,\n",
       "                   param_distributions={'C': [0.01, 0.1, 1, 10],\n",
       "                                        'gamma': [0.01, 0.1, 1],\n",
       "                                        'kernel': ['rbf', 'linear']},\n",
       "                   scoring='accuracy')"
      ]
     },
     "execution_count": 26,
     "metadata": {},
     "output_type": "execute_result"
    }
   ],
   "source": [
    "param = dict(\n",
    "    kernel=['rbf', 'linear'],\n",
    "    C=[0.01,  0.1, 1, 10],\n",
    "    gamma=[0.01, 0.1,  1]\n",
    ")\n",
    "\n",
    "random_svc = RandomizedSearchCV(svc,\n",
    "                                param_distributions=param,\n",
    "                                n_iter=10,\n",
    "                                scoring='accuracy',\n",
    "                                n_jobs=-1,\n",
    "                                cv=2)\n",
    "random_svc.fit(X_train, y_train)"
   ]
  },
  {
   "cell_type": "code",
   "execution_count": 27,
   "metadata": {},
   "outputs": [
    {
     "data": {
      "text/plain": [
       "SVC(C=1, gamma=0.1)"
      ]
     },
     "execution_count": 27,
     "metadata": {},
     "output_type": "execute_result"
    }
   ],
   "source": [
    "random_svc.best_estimator_"
   ]
  },
  {
   "cell_type": "code",
   "execution_count": 28,
   "metadata": {},
   "outputs": [
    {
     "name": "stdout",
     "output_type": "stream",
     "text": [
      "train accuracy : 0.8163615988046321\n",
      "validation accuracy : 0.783089770354906\n"
     ]
    }
   ],
   "source": [
    "pred_train = random_svc.predict(X_train)\n",
    "pred_val = random_svc.predict(X_val)\n",
    "\n",
    "print('train accuracy :', accuracy_score(y_train, pred_train))\n",
    "print('validation accuracy :', accuracy_score(y_val, pred_val))"
   ]
  },
  {
   "cell_type": "markdown",
   "metadata": {},
   "source": [
    "-----------------------------------\n",
    "# voting (hard)"
   ]
  },
  {
   "cell_type": "code",
   "execution_count": 29,
   "metadata": {},
   "outputs": [
    {
     "data": {
      "text/plain": [
       "VotingClassifier(estimators=[('tree', DecisionTreeClassifier()),\n",
       "                             ('knn', KNeighborsClassifier()),\n",
       "                             ('random forest', RandomForestClassifier()),\n",
       "                             ('svm', SVC())])"
      ]
     },
     "execution_count": 29,
     "metadata": {},
     "output_type": "execute_result"
    }
   ],
   "source": [
    "from sklearn.ensemble import VotingClassifier\n",
    "\n",
    "estimators = [('tree', tree),\n",
    "              ('knn', knn), \n",
    "              ('random forest', rf), \n",
    "              ('svm', svc)]\n",
    "\n",
    "voting = VotingClassifier(estimators)\n",
    "voting.fit(X_train, y_train)"
   ]
  },
  {
   "cell_type": "code",
   "execution_count": 30,
   "metadata": {},
   "outputs": [
    {
     "name": "stdout",
     "output_type": "stream",
     "text": [
      "train accuracy : 0.9229734777736271\n",
      "validation accuracy : 0.7876826722338205\n"
     ]
    }
   ],
   "source": [
    "pred_train = voting.predict(X_train)\n",
    "pred_val = voting.predict(X_val)\n",
    "\n",
    "print('train accuracy :', accuracy_score(y_train, pred_train))\n",
    "print('validation accuracy :', accuracy_score(y_val, pred_val))"
   ]
  },
  {
   "cell_type": "markdown",
   "metadata": {},
   "source": [
    "# voting (soft)"
   ]
  },
  {
   "cell_type": "code",
   "execution_count": 31,
   "metadata": {},
   "outputs": [],
   "source": [
    "# voting_soft = VotingClassifier(estimators, voting='soft')\n",
    "# voting_soft.fit(X_train, y_train)"
   ]
  },
  {
   "cell_type": "code",
   "execution_count": 32,
   "metadata": {},
   "outputs": [],
   "source": [
    "# pred_train = voting.predict(X_train)\n",
    "# pred_val = voting.predict(X_val)\n",
    "\n",
    "# print('train accuracy :', accuracy_score(y_train, pred_train))\n",
    "# print('validation accuracy :', accuracy_score(y_val, pred_val))"
   ]
  },
  {
   "cell_type": "markdown",
   "metadata": {},
   "source": [
    "-----------------------------------\n",
    "# gradientboosting"
   ]
  },
  {
   "cell_type": "code",
   "execution_count": 33,
   "metadata": {},
   "outputs": [
    {
     "data": {
      "text/plain": [
       "GradientBoostingClassifier(random_state=1)"
      ]
     },
     "execution_count": 33,
     "metadata": {},
     "output_type": "execute_result"
    }
   ],
   "source": [
    "from sklearn.ensemble import GradientBoostingClassifier\n",
    "gb = GradientBoostingClassifier(random_state=1)\n",
    "gb.fit(X_train, y_train)"
   ]
  },
  {
   "cell_type": "code",
   "execution_count": 34,
   "metadata": {},
   "outputs": [
    {
     "name": "stdout",
     "output_type": "stream",
     "text": [
      "train accuracy : 0.8242062009712364\n",
      "validation accuracy : 0.795615866388309\n"
     ]
    }
   ],
   "source": [
    "pred_train = gb.predict(X_train)\n",
    "pred_val = gb.predict(X_val)\n",
    "\n",
    "print('train accuracy :', accuracy_score(y_train, pred_train))\n",
    "print('validation accuracy :', accuracy_score(y_val, pred_val))"
   ]
  },
  {
   "cell_type": "markdown",
   "metadata": {},
   "source": [
    "## randomized"
   ]
  },
  {
   "cell_type": "code",
   "execution_count": 35,
   "metadata": {},
   "outputs": [
    {
     "data": {
      "text/plain": [
       "RandomizedSearchCV(cv=3, estimator=GradientBoostingClassifier(random_state=1),\n",
       "                   n_jobs=-1,\n",
       "                   param_distributions={'learning_rate': [0.001, 0.005, 0.01,\n",
       "                                                          0.05, 0.1, 0.5],\n",
       "                                        'max_depth': range(1, 5),\n",
       "                                        'n_estimators': [100, 200, 300, 400,\n",
       "                                                         500],\n",
       "                                        'subsample': [0.5, 0.7, 1]},\n",
       "                   random_state=1, scoring='accuracy')"
      ]
     },
     "execution_count": 35,
     "metadata": {},
     "output_type": "execute_result"
    }
   ],
   "source": [
    "param = dict(\n",
    "    n_estimators=[100, 200, 300, 400, 500],\n",
    "    learning_rate=[0.001,0.005,0.01,0.05,0.1,0.5],\n",
    "    max_depth=range(1, 5),\n",
    "    subsample=[0.5,0.7,1]\n",
    ")\n",
    "\n",
    "random_gb = RandomizedSearchCV(gb,\n",
    "                             param_distributions=param,\n",
    "                             n_iter=10,\n",
    "                             scoring='accuracy',\n",
    "                             cv=3,\n",
    "                             n_jobs=-1,\n",
    "                             random_state=1\n",
    "                             )\n",
    "random_gb.fit(X_train, y_train)"
   ]
  },
  {
   "cell_type": "code",
   "execution_count": 36,
   "metadata": {},
   "outputs": [
    {
     "data": {
      "text/plain": [
       "GradientBoostingClassifier(learning_rate=0.01, max_depth=4, n_estimators=400,\n",
       "                           random_state=1, subsample=0.7)"
      ]
     },
     "execution_count": 36,
     "metadata": {},
     "output_type": "execute_result"
    }
   ],
   "source": [
    "random_gb.best_estimator_"
   ]
  },
  {
   "cell_type": "code",
   "execution_count": 37,
   "metadata": {},
   "outputs": [
    {
     "name": "stdout",
     "output_type": "stream",
     "text": [
      "train accuracy : 0.8245797534553605\n",
      "validation accuracy : 0.7974947807933194\n"
     ]
    }
   ],
   "source": [
    "pred_train = random_gb.predict(X_train)\n",
    "pred_val = random_gb.predict(X_val)\n",
    "\n",
    "print('train accuracy :', accuracy_score(y_train, pred_train))\n",
    "print('validation accuracy :', accuracy_score(y_val, pred_val))"
   ]
  },
  {
   "cell_type": "markdown",
   "metadata": {},
   "source": [
    "-------------------------------------\n",
    "# LogisticRegression"
   ]
  },
  {
   "cell_type": "code",
   "execution_count": 38,
   "metadata": {},
   "outputs": [
    {
     "data": {
      "text/plain": [
       "LogisticRegression(C=1, max_iter=300, random_state=1)"
      ]
     },
     "execution_count": 38,
     "metadata": {},
     "output_type": "execute_result"
    }
   ],
   "source": [
    "from sklearn.linear_model import LogisticRegression\n",
    "\n",
    "lr = LogisticRegression(random_state=1, C=1, max_iter=300)\n",
    "lr.fit(X_train, y_train)"
   ]
  },
  {
   "cell_type": "code",
   "execution_count": 39,
   "metadata": {
    "scrolled": true
   },
   "outputs": [
    {
     "name": "stdout",
     "output_type": "stream",
     "text": [
      "train accuracy : 0.7713111692192753\n",
      "validation accuracy : 0.7626304801670146\n"
     ]
    }
   ],
   "source": [
    "pred_train = lr.predict(X_train)\n",
    "pred_val = lr.predict(X_val)\n",
    "\n",
    "print('train accuracy :', accuracy_score(y_train, pred_train))\n",
    "print('validation accuracy :', accuracy_score(y_val, pred_val))"
   ]
  },
  {
   "cell_type": "markdown",
   "metadata": {},
   "source": [
    "-------------------------------------\n",
    "# XGBoost"
   ]
  },
  {
   "cell_type": "code",
   "execution_count": 40,
   "metadata": {
    "scrolled": true
   },
   "outputs": [
    {
     "name": "stdout",
     "output_type": "stream",
     "text": [
      "[09:45:14] WARNING: C:/Users/Administrator/workspace/xgboost-win64_release_1.3.0/src/learner.cc:1061: Starting in XGBoost 1.3.0, the default evaluation metric used with the objective 'binary:logistic' was changed from 'error' to 'logloss'. Explicitly set eval_metric if you'd like to restore the old behavior.\n"
     ]
    },
    {
     "name": "stderr",
     "output_type": "stream",
     "text": [
      "c:\\users\\user\\anaconda3\\envs\\ml\\lib\\site-packages\\xgboost\\sklearn.py:888: UserWarning: The use of label encoder in XGBClassifier is deprecated and will be removed in a future release. To remove this warning, do the following: 1) Pass option use_label_encoder=False when constructing XGBClassifier object; and 2) Encode your labels (y) as integers starting with 0, i.e. 0, 1, 2, ..., [num_class - 1].\n",
      "  warnings.warn(label_encoder_deprecation_msg, UserWarning)\n"
     ]
    },
    {
     "data": {
      "text/plain": [
       "XGBClassifier(base_score=0.5, booster='gbtree', colsample_bylevel=1,\n",
       "              colsample_bynode=1, colsample_bytree=1, gamma=0, gpu_id=-1,\n",
       "              importance_type='gain', interaction_constraints='',\n",
       "              learning_rate=0.300000012, max_delta_step=0, max_depth=6,\n",
       "              min_child_weight=1, missing=nan, monotone_constraints='()',\n",
       "              n_estimators=100, n_jobs=12, num_parallel_tree=1, random_state=0,\n",
       "              reg_alpha=0, reg_lambda=1, scale_pos_weight=1, subsample=1,\n",
       "              tree_method='exact', validate_parameters=1, verbosity=None)"
      ]
     },
     "execution_count": 40,
     "metadata": {},
     "output_type": "execute_result"
    }
   ],
   "source": [
    "from xgboost import XGBClassifier\n",
    "\n",
    "xgb = XGBClassifier()\n",
    "xgb.fit(X_train, y_train)"
   ]
  },
  {
   "cell_type": "code",
   "execution_count": 41,
   "metadata": {
    "scrolled": true
   },
   "outputs": [
    {
     "name": "stdout",
     "output_type": "stream",
     "text": [
      "train accuracy : 0.8951064624579753\n",
      "validation accuracy : 0.7866388308977036\n"
     ]
    }
   ],
   "source": [
    "pred_train = xgb.predict(X_train)\n",
    "pred_val = xgb.predict(X_val)\n",
    "\n",
    "print('train accuracy :', accuracy_score(y_train, pred_train))\n",
    "print('validation accuracy :', accuracy_score(y_val, pred_val))"
   ]
  },
  {
   "cell_type": "code",
   "execution_count": null,
   "metadata": {},
   "outputs": [],
   "source": []
  },
  {
   "cell_type": "code",
   "execution_count": null,
   "metadata": {},
   "outputs": [],
   "source": []
  },
  {
   "cell_type": "code",
   "execution_count": 42,
   "metadata": {
    "scrolled": false
   },
   "outputs": [
    {
     "name": "stderr",
     "output_type": "stream",
     "text": [
      "c:\\users\\user\\anaconda3\\envs\\ml\\lib\\site-packages\\xgboost\\sklearn.py:888: UserWarning: The use of label encoder in XGBClassifier is deprecated and will be removed in a future release. To remove this warning, do the following: 1) Pass option use_label_encoder=False when constructing XGBClassifier object; and 2) Encode your labels (y) as integers starting with 0, i.e. 0, 1, 2, ..., [num_class - 1].\n",
      "  warnings.warn(label_encoder_deprecation_msg, UserWarning)\n"
     ]
    },
    {
     "name": "stdout",
     "output_type": "stream",
     "text": [
      "[09:45:29] WARNING: C:/Users/Administrator/workspace/xgboost-win64_release_1.3.0/src/learner.cc:1061: Starting in XGBoost 1.3.0, the default evaluation metric used with the objective 'binary:logistic' was changed from 'error' to 'logloss'. Explicitly set eval_metric if you'd like to restore the old behavior.\n"
     ]
    },
    {
     "data": {
      "text/plain": [
       "RandomizedSearchCV(cv=3,\n",
       "                   estimator=XGBClassifier(base_score=0.5, booster='gbtree',\n",
       "                                           colsample_bylevel=1,\n",
       "                                           colsample_bynode=1,\n",
       "                                           colsample_bytree=1, gamma=0,\n",
       "                                           gpu_id=-1, importance_type='gain',\n",
       "                                           interaction_constraints='',\n",
       "                                           learning_rate=0.300000012,\n",
       "                                           max_delta_step=0, max_depth=6,\n",
       "                                           min_child_weight=1, missing=nan,\n",
       "                                           monotone_constraints='()',\n",
       "                                           n_estimators=100, n_jobs=12,\n",
       "                                           num_parallel_tree=1, random_state=0,\n",
       "                                           reg_alpha=0, reg_lambda=1,\n",
       "                                           scale_pos_weight=1, subsample=1,\n",
       "                                           tree_method='exact',\n",
       "                                           validate_parameters=1,\n",
       "                                           verbosity=None),\n",
       "                   n_iter=30, n_jobs=-1,\n",
       "                   param_distributions={'learning_rate': [0.001, 0.005, 0.01,\n",
       "                                                          0.05, 0.1, 0.5],\n",
       "                                        'max_depth': range(1, 7),\n",
       "                                        'n_estimators': [100, 200, 300, 400,\n",
       "                                                         500]},\n",
       "                   random_state=1, scoring='accuracy')"
      ]
     },
     "execution_count": 42,
     "metadata": {},
     "output_type": "execute_result"
    }
   ],
   "source": [
    "param = dict(\n",
    "    n_estimators = [100, 200, 300, 400, 500],\n",
    "    learning_rate=[0.001,0.005,0.01,0.05,0.1,0.5],\n",
    "    max_depth=range(1,7)\n",
    ")\n",
    "\n",
    "random_xgb = RandomizedSearchCV(xgb,\n",
    "                                param_distributions=param,\n",
    "                                n_iter=30,\n",
    "                                scoring='accuracy',\n",
    "                                cv=3,\n",
    "                                n_jobs=-1,\n",
    "                                random_state=1)\n",
    "random_xgb.fit(X_train, y_train)"
   ]
  },
  {
   "cell_type": "code",
   "execution_count": 43,
   "metadata": {},
   "outputs": [
    {
     "data": {
      "text/plain": [
       "XGBClassifier(base_score=0.5, booster='gbtree', colsample_bylevel=1,\n",
       "              colsample_bynode=1, colsample_bytree=1, gamma=0, gpu_id=-1,\n",
       "              importance_type='gain', interaction_constraints='',\n",
       "              learning_rate=0.05, max_delta_step=0, max_depth=6,\n",
       "              min_child_weight=1, missing=nan, monotone_constraints='()',\n",
       "              n_estimators=200, n_jobs=12, num_parallel_tree=1, random_state=0,\n",
       "              reg_alpha=0, reg_lambda=1, scale_pos_weight=1, subsample=1,\n",
       "              tree_method='exact', validate_parameters=1, verbosity=None)"
      ]
     },
     "execution_count": 43,
     "metadata": {},
     "output_type": "execute_result"
    }
   ],
   "source": [
    "random_xgb.best_estimator_"
   ]
  },
  {
   "cell_type": "code",
   "execution_count": 44,
   "metadata": {},
   "outputs": [
    {
     "name": "stdout",
     "output_type": "stream",
     "text": [
      "train accuracy : 0.8951064624579753\n",
      "validation accuracy : 0.8\n"
     ]
    }
   ],
   "source": [
    "## pred_train = random_xgb.predict(X_train)\n",
    "pred_val = random_xgb.predict(X_val)\n",
    "\n",
    "print('train accuracy :', accuracy_score(y_train, pred_train))\n",
    "print('validation accuracy :', accuracy_score(y_val, pred_val))"
   ]
  },
  {
   "cell_type": "code",
   "execution_count": null,
   "metadata": {},
   "outputs": [],
   "source": []
  },
  {
   "cell_type": "markdown",
   "metadata": {},
   "source": [
    "# test"
   ]
  },
  {
   "cell_type": "code",
   "execution_count": 45,
   "metadata": {
    "scrolled": true
   },
   "outputs": [
    {
     "name": "stdout",
     "output_type": "stream",
     "text": [
      "test accuracy tree: 0.6914044152184124\n"
     ]
    }
   ],
   "source": [
    "# 검증\n",
    "from sklearn.metrics import accuracy_score, classification_report\n",
    "pred_test = tree.predict(X_test)\n",
    "\n",
    "print('test accuracy tree:', accuracy_score(y_test, pred_test))"
   ]
  },
  {
   "cell_type": "code",
   "execution_count": 46,
   "metadata": {},
   "outputs": [
    {
     "name": "stdout",
     "output_type": "stream",
     "text": [
      "test accuracy grid_tree: 0.7853452325035227\n"
     ]
    }
   ],
   "source": [
    "pred_test = grid_tree.predict(X_test)\n",
    "\n",
    "print('test accuracy grid_tree:', accuracy_score(y_test, pred_test))"
   ]
  },
  {
   "cell_type": "code",
   "execution_count": 48,
   "metadata": {
    "scrolled": true
   },
   "outputs": [],
   "source": [
    "# pred_test = rf.predict(X_test)\n",
    "\n",
    "# print('test accuracy rf:', accuracy_score(y_test, pred_test))"
   ]
  },
  {
   "cell_type": "code",
   "execution_count": 49,
   "metadata": {},
   "outputs": [
    {
     "name": "stdout",
     "output_type": "stream",
     "text": [
      "test accuracy grid_rf: 0.7970878346641616\n"
     ]
    }
   ],
   "source": [
    "pred_test = grid_rf.predict(X_test)\n",
    "\n",
    "print('test accuracy grid_rf:', accuracy_score(y_test, pred_test))"
   ]
  },
  {
   "cell_type": "code",
   "execution_count": 50,
   "metadata": {
    "scrolled": true
   },
   "outputs": [
    {
     "name": "stdout",
     "output_type": "stream",
     "text": [
      "test accuracy knn: 0.7505871301080319\n"
     ]
    }
   ],
   "source": [
    "pred_test = knn.predict(X_test)\n",
    "\n",
    "print('test accuracy knn:', accuracy_score(y_test, pred_test))"
   ]
  },
  {
   "cell_type": "code",
   "execution_count": 51,
   "metadata": {},
   "outputs": [
    {
     "name": "stdout",
     "output_type": "stream",
     "text": [
      "test accuracy grid_knn: 0.7609206200093941\n"
     ]
    }
   ],
   "source": [
    "pred_test = grid_knn.predict(X_test)\n",
    "\n",
    "print('test accuracy grid_knn:', accuracy_score(y_test, pred_test))"
   ]
  },
  {
   "cell_type": "code",
   "execution_count": 52,
   "metadata": {},
   "outputs": [
    {
     "name": "stdout",
     "output_type": "stream",
     "text": [
      "test accuracy svc: 0.7801784875528417\n"
     ]
    }
   ],
   "source": [
    "pred_test = svc.predict(X_test)\n",
    "\n",
    "print('test accuracy svc:', accuracy_score(y_test, pred_test))"
   ]
  },
  {
   "cell_type": "code",
   "execution_count": 53,
   "metadata": {},
   "outputs": [
    {
     "name": "stdout",
     "output_type": "stream",
     "text": [
      "test accuracy random_svc: 0.7768905589478629\n"
     ]
    }
   ],
   "source": [
    "pred_test = random_svc.predict(X_test)\n",
    "\n",
    "print('test accuracy random_svc:', accuracy_score(y_test, pred_test))"
   ]
  },
  {
   "cell_type": "code",
   "execution_count": 54,
   "metadata": {},
   "outputs": [
    {
     "name": "stdout",
     "output_type": "stream",
     "text": [
      "test accuracy voting: 0.7707844058243307\n"
     ]
    }
   ],
   "source": [
    "pred_test = voting.predict(X_test)\n",
    "\n",
    "print('test accuracy voting:', accuracy_score(y_test, pred_test))"
   ]
  },
  {
   "cell_type": "code",
   "execution_count": 55,
   "metadata": {},
   "outputs": [
    {
     "name": "stdout",
     "output_type": "stream",
     "text": [
      "test accuracy gb: 0.7905119774542039\n"
     ]
    }
   ],
   "source": [
    "pred_test = gb.predict(X_test)\n",
    "\n",
    "print('test accuracy gb:', accuracy_score(y_test, pred_test))"
   ]
  },
  {
   "cell_type": "code",
   "execution_count": 56,
   "metadata": {},
   "outputs": [
    {
     "name": "stdout",
     "output_type": "stream",
     "text": [
      "test accuracy random_gb: 0.7895725692813528\n"
     ]
    }
   ],
   "source": [
    "pred_test = random_gb.predict(X_test)\n",
    "\n",
    "print('test accuracy random_gb:', accuracy_score(y_test, pred_test))"
   ]
  },
  {
   "cell_type": "code",
   "execution_count": 57,
   "metadata": {},
   "outputs": [
    {
     "name": "stdout",
     "output_type": "stream",
     "text": [
      "test accuracy lr: 0.7585720995772663\n"
     ]
    }
   ],
   "source": [
    "pred_test = lr.predict(X_test)\n",
    "\n",
    "print('test accuracy lr:', accuracy_score(y_test, pred_test))"
   ]
  },
  {
   "cell_type": "code",
   "execution_count": 58,
   "metadata": {
    "scrolled": true
   },
   "outputs": [
    {
     "name": "stdout",
     "output_type": "stream",
     "text": [
      "test accuracy xgb: 0.7858149365899484\n"
     ]
    }
   ],
   "source": [
    "pred_test = xgb.predict(X_test)\n",
    "\n",
    "print('test accuracy xgb:', accuracy_score(y_test, pred_test))"
   ]
  },
  {
   "cell_type": "code",
   "execution_count": 59,
   "metadata": {
    "scrolled": true
   },
   "outputs": [
    {
     "name": "stdout",
     "output_type": "stream",
     "text": [
      "test accuracy random_xgb: 0.7942696101456083\n"
     ]
    }
   ],
   "source": [
    "pred_test = random_xgb.predict(X_test)\n",
    "\n",
    "print('test accuracy random_xgb:', accuracy_score(y_test, pred_test))"
   ]
  }
 ],
 "metadata": {
  "kernelspec": {
   "display_name": "Python 3",
   "language": "python",
   "name": "python3"
  },
  "language_info": {
   "codemirror_mode": {
    "name": "ipython",
    "version": 3
   },
   "file_extension": ".py",
   "mimetype": "text/x-python",
   "name": "python",
   "nbconvert_exporter": "python",
   "pygments_lexer": "ipython3",
   "version": "3.7.10"
  }
 },
 "nbformat": 4,
 "nbformat_minor": 4
}
