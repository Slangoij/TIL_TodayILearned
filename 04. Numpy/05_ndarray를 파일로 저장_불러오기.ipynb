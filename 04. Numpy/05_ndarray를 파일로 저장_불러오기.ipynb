{
 "cells": [
  {
   "cell_type": "markdown",
   "metadata": {},
   "source": [
    "# 배열을 파일에 저장 및 불러오기\n",
    "- ## 바이너리 파일로 저장/불러오기\n",
    "    - ### np.save(\"파일경로\", 배열)\n",
    "        - 배열을 raw 바이너리 형식으로 저장한다. (압축하지 않은)\n",
    "        - 파일명에 확장자로 npy를 붙인다. (무조건 붙인다. abc.xxx 해도 abc.xxx.npy 로 저장)\n",
    "    - ### np.load(\"파일경로\") \n",
    "        - 파일에 저장된 배열을 불러온다.\n",
    "    - ### np.savez(\"파일경로\", 이름=배열, 이름=배열, ...)\n",
    "        - 여러 개의 배열을 저장할 때 사용\n",
    "        - 파일명에 확장자로 npz가 붙는다.\n",
    "        - 내부적으로 압축해서 저장한다.\n",
    "        - load() 함수로 불러오면 저장된 배열목록이 반환 된다. 저장시 지정한 이름을 이용해 조회 \n",
    "- ## 텍스트 파일로 저장하고 불러오기\n",
    "    - ### savetxt(\"파일경로\", 배열 [, delimiter='공백'])\n",
    "        - 텍스트 형태로 저장.\n",
    "        - 각 원소는 공백을 기준으로 나뉘며 delimiter 속성으로 구분자를 지정할 수 있다. (delimiter생략시 공백)\n",
    "        - 1차원과 2차원 배열만 저장 가능하다. (3차원 이상은 저장이 안된다.)\n",
    "    - ### loadtxt(\"파일경로\" [,dtype=float, delimiter=공백])"
   ]
  },
  {
   "cell_type": "code",
   "execution_count": 1,
   "metadata": {},
   "outputs": [],
   "source": [
    "import numpy as np\n",
    "a = np.arange(10)\n",
    "b = np.arange(12).reshape(4,3)\n",
    "c = np.arange(24).reshape(4,2,3)"
   ]
  },
  {
   "cell_type": "code",
   "execution_count": 7,
   "metadata": {},
   "outputs": [
    {
     "name": "stdout",
     "output_type": "stream",
     "text": [
      "[0 1 2 3 4 5 6 7 8 9]\n",
      "[[ 0  1  2]\n",
      " [ 3  4  5]\n",
      " [ 6  7  8]\n",
      " [ 9 10 11]]\n",
      "[[[ 0  1  2]\n",
      "  [ 3  4  5]]\n",
      "\n",
      " [[ 6  7  8]\n",
      "  [ 9 10 11]]\n",
      "\n",
      " [[12 13 14]\n",
      "  [15 16 17]]\n",
      "\n",
      " [[18 19 20]\n",
      "  [21 22 23]]]\n"
     ]
    }
   ],
   "source": [
    "# 한개의 배열 저장\n",
    "np.save('a.npy', a) # 배열 a를 'a.npy' 파일로 저장\n",
    "np.save('b', b) # 확장자를 생략해도 npy 확장자는 자동으로 붙는다.\n",
    "np.save('c.arr', c)\n",
    "\n",
    "a2 = np.load('a.npy')\n",
    "print(a2)\n",
    "b2 = np.load('b.npy')\n",
    "print(b2)\n",
    "c2 = np.load('c.arr.npy')\n",
    "print(c2)"
   ]
  },
  {
   "cell_type": "code",
   "execution_count": 14,
   "metadata": {
    "collapsed": true
   },
   "outputs": [
    {
     "name": "stdout",
     "output_type": "stream",
     "text": [
      "<numpy.lib.npyio.NpzFile object at 0x000002850C6EEBB0>\n",
      "['one', 'two', 'three']\n",
      "[0 1 2 3 4 5 6 7 8 9] [[ 0  1  2]\n",
      " [ 3  4  5]\n",
      " [ 6  7  8]\n",
      " [ 9 10 11]] [[[ 0  1  2]\n",
      "  [ 3  4  5]]\n",
      "\n",
      " [[ 6  7  8]\n",
      "  [ 9 10 11]]\n",
      "\n",
      " [[12 13 14]\n",
      "  [15 16 17]]\n",
      "\n",
      " [[18 19 20]\n",
      "  [21 22 23]]]\n",
      "[0 1 2 3 4 5 6 7 8 9] [[ 0  1  2]\n",
      " [ 3  4  5]\n",
      " [ 6  7  8]\n",
      " [ 9 10 11]] [[[ 0  1  2]\n",
      "  [ 3  4  5]]\n",
      "\n",
      " [[ 6  7  8]\n",
      "  [ 9 10 11]]\n",
      "\n",
      " [[12 13 14]\n",
      "  [15 16 17]]\n",
      "\n",
      " [[18 19 20]\n",
      "  [21 22 23]]]\n"
     ]
    }
   ],
   "source": [
    "# 한 파일에 여러 배열 저장(압축)\n",
    "np.savez('arr.npz', one=a, two=b, three=c)\n",
    "arr = np.load('arr.npz')\n",
    "print(arr)\n",
    "print(arr.files)\n",
    "\n",
    "a3, b3, c3 = arr\n",
    "print(arr[a3], arr[b3], arr[c3])\n",
    "\n",
    "# 아니면\n",
    "a3 = arr['one']\n",
    "b3 = arr['two']\n",
    "c3 = arr['three']\n",
    "print(a3, b3, c3)"
   ]
  },
  {
   "cell_type": "code",
   "execution_count": 19,
   "metadata": {},
   "outputs": [],
   "source": [
    "# 텍스트 파일로 저장\n",
    "np.savetxt('a.txt', a)\n",
    "np.savetxt('b.txt', b)\n",
    "np.savetxt('b.csv', b, delimiter=',')\n",
    "# np.savetxt('c.txt', c) # 1,2차원까지만 가능하므로 불가능"
   ]
  },
  {
   "cell_type": "code",
   "execution_count": 20,
   "metadata": {},
   "outputs": [
    {
     "name": "stdout",
     "output_type": "stream",
     "text": [
      "[[ 0.  1.  2.]\n",
      " [ 3.  4.  5.]\n",
      " [ 6.  7.  8.]\n",
      " [ 9. 10. 11.]]\n"
     ]
    }
   ],
   "source": [
    "b4 = np.loadtxt('b.csv', delimiter=',')\n",
    "print(b4)"
   ]
  },
  {
   "cell_type": "code",
   "execution_count": null,
   "metadata": {},
   "outputs": [],
   "source": []
  }
 ],
 "metadata": {
  "kernelspec": {
   "display_name": "Python 3",
   "language": "python",
   "name": "python3"
  },
  "language_info": {
   "codemirror_mode": {
    "name": "ipython",
    "version": 3
   },
   "file_extension": ".py",
   "mimetype": "text/x-python",
   "name": "python",
   "nbconvert_exporter": "python",
   "pygments_lexer": "ipython3",
   "version": "3.8.5"
  },
  "toc": {
   "base_numbering": 1,
   "nav_menu": {},
   "number_sections": true,
   "sideBar": true,
   "skip_h1_title": false,
   "title_cell": "Table of Contents",
   "title_sidebar": "Contents",
   "toc_cell": false,
   "toc_position": {},
   "toc_section_display": true,
   "toc_window_display": false
  },
  "varInspector": {
   "cols": {
    "lenName": 16,
    "lenType": 16,
    "lenVar": 40
   },
   "kernels_config": {
    "python": {
     "delete_cmd_postfix": "",
     "delete_cmd_prefix": "del ",
     "library": "var_list.py",
     "varRefreshCmd": "print(var_dic_list())"
    },
    "r": {
     "delete_cmd_postfix": ") ",
     "delete_cmd_prefix": "rm(",
     "library": "var_list.r",
     "varRefreshCmd": "cat(var_dic_list()) "
    }
   },
   "types_to_exclude": [
    "module",
    "function",
    "builtin_function_or_method",
    "instance",
    "_Feature"
   ],
   "window_display": false
  }
 },
 "nbformat": 4,
 "nbformat_minor": 2
}
