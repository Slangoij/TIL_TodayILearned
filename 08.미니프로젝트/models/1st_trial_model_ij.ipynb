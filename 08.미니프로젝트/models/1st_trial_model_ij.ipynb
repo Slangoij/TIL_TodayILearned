{
 "cells": [
  {
   "cell_type": "code",
   "execution_count": 84,
   "metadata": {},
   "outputs": [],
   "source": [
    "import pandas as pd\n",
    "import numpy as np\n",
    "import matplotlib.pyplot as plt\n",
    "import matplotlib as mpl\n",
    "\n",
    "from sklearn.model_selection import RandomizedSearchCV, GridSearchCV\n",
    "from sklearn.model_selection import train_test_split\n",
    "from sklearn.metrics import accuracy_score, classification_report\n",
    "from sklearn.metrics import roc_auc_score, f1_score, plot_confusion_matrix, \\\n",
    "    plot_roc_curve, plot_precision_recall_curve, classification_report, precision_score, recall_score\n",
    "\n",
    "mpl.style.use('seaborn')"
   ]
  },
  {
   "cell_type": "code",
   "execution_count": 85,
   "metadata": {},
   "outputs": [],
   "source": [
    "def show_report(model, model_name, X_val, y_val, pred_val):\n",
    "    y_pred_proba = model.predict_proba(X_val)[:,1]\n",
    "\n",
    "    df_report = pd.DataFrame(columns={'ROC-AUC'}, data=[0])\n",
    "    df_report['ROC-AUC'] = roc_auc_score(y_val, y_pred_proba)\n",
    "    df_report['F1'] = f1_score(y_val, pred_val)\n",
    "    df_report['precision_0'] = precision_score(y_val, pred_val, pos_label=0)\n",
    "    df_report['recall_0'] = recall_score(y_val, pred_val, pos_label=0)\n",
    "    df_report['precision_1'] = precision_score(y_val, pred_val, pos_label=1)\n",
    "    df_report['recall_1'] = recall_score(y_val, pred_val, pos_label=1)\n",
    "\n",
    "    df_report.index = [model_name]\n",
    "    return df_report\n",
    "\n",
    "def score_graph(model, model_name, X_val, y_val, pred_val):\n",
    "    # ROC curve 그리는 코드\n",
    "    fig, (ax1, ax2) = plt.subplots(1, 2, figsize=(13, 5))\n",
    "\n",
    "    plot_precision_recall_curve(model, X_val, y_val, ax=ax1)\n",
    "    plot_roc_curve(model, X_val, y_val, ax=ax2)\n",
    "    plt.title(model_name)\n",
    "    plt.show()"
   ]
  },
  {
   "cell_type": "code",
   "execution_count": 86,
   "metadata": {},
   "outputs": [],
   "source": [
    "#### before"
   ]
  },
  {
   "cell_type": "code",
   "execution_count": 87,
   "metadata": {},
   "outputs": [],
   "source": [
    "# X_bfr = pd.read_csv('../data/prepcd_scaled_train.csv')\n",
    "# X_bfr.drop(columns='target', inplace=True)\n",
    "# y_bfr = pd.read_csv('../data/prepcd_scaled_train.csv')['target']\n",
    "# X_test_bfr = pd.read_csv('../data/prepcd_scaled_test.csv')\n",
    "\n",
    "# X_train_bfr, X_val_bfr, y_train_bfr, y_val_bfr = train_test_split(X_bfr, y_bfr, stratify=y_bfr, shuffle=True, random_state=1)\n",
    "# X_train_bfr.shape, X_val_bfr.shape, y_train_bfr.shape, y_val_bfr.shape"
   ]
  },
  {
   "cell_type": "code",
   "execution_count": 88,
   "metadata": {},
   "outputs": [
    {
     "data": {
      "text/plain": [
       "((15965, 37), (5322, 37), (15965,), (5322,))"
      ]
     },
     "execution_count": 88,
     "metadata": {},
     "output_type": "execute_result"
    }
   ],
   "source": [
    "X = pd.read_csv('../data/prepcd_train.csv')\n",
    "X.drop(columns='target', inplace=True)\n",
    "y = pd.read_csv('../data/prepcd_train.csv')['target']\n",
    "X_test = pd.read_csv('../data/prepcd_train.csv')\n",
    "\n",
    "X_train, X_val, y_train, y_val = train_test_split(X, y, stratify=y, shuffle=True, random_state=1)\n",
    "X_train.shape, X_val.shape, y_train.shape, y_val.shape"
   ]
  },
  {
   "cell_type": "markdown",
   "metadata": {},
   "source": [
    "- - -\n",
    "# XGBoost_randomized"
   ]
  },
  {
   "cell_type": "code",
   "execution_count": 89,
   "metadata": {},
   "outputs": [],
   "source": [
    "param = dict(\n",
    "    n_estimators=[100, 200, 300, 400, 500],\n",
    "    learning_rate=[0.001,0.005,0.01,0.05,0.1,0.5],\n",
    "    max_depth=range(1, 7)\n",
    ")"
   ]
  },
  {
   "cell_type": "code",
   "execution_count": 90,
   "metadata": {},
   "outputs": [
    {
     "name": "stderr",
     "output_type": "stream",
     "text": [
      "c:\\users\\inje.jeong\\anaconda3\\envs\\ml\\lib\\site-packages\\xgboost\\sklearn.py:888: UserWarning: The use of label encoder in XGBClassifier is deprecated and will be removed in a future release. To remove this warning, do the following: 1) Pass option use_label_encoder=False when constructing XGBClassifier object; and 2) Encode your labels (y) as integers starting with 0, i.e. 0, 1, 2, ..., [num_class - 1].\n",
      "  warnings.warn(label_encoder_deprecation_msg, UserWarning)\n"
     ]
    },
    {
     "name": "stdout",
     "output_type": "stream",
     "text": [
      "[13:31:15] WARNING: C:/Users/Administrator/workspace/xgboost-win64_release_1.3.0/src/learner.cc:1061: Starting in XGBoost 1.3.0, the default evaluation metric used with the objective 'binary:logistic' was changed from 'error' to 'logloss'. Explicitly set eval_metric if you'd like to restore the old behavior.\n"
     ]
    },
    {
     "data": {
      "text/plain": [
       "XGBClassifier(base_score=0.5, booster='gbtree', colsample_bylevel=1,\n",
       "              colsample_bynode=1, colsample_bytree=1, gamma=0, gpu_id=-1,\n",
       "              importance_type='gain', interaction_constraints='',\n",
       "              learning_rate=0.5, max_delta_step=0, max_depth=2,\n",
       "              min_child_weight=1, missing=nan, monotone_constraints='()',\n",
       "              n_estimators=200, n_jobs=12, num_parallel_tree=1, random_state=1,\n",
       "              reg_alpha=0, reg_lambda=1, scale_pos_weight=1, subsample=1,\n",
       "              tree_method='exact', validate_parameters=1, verbosity=None)"
      ]
     },
     "execution_count": 90,
     "metadata": {},
     "output_type": "execute_result"
    }
   ],
   "source": [
    "from xgboost import XGBClassifier\n",
    "\n",
    "xgb = XGBClassifier(n_estimators=200,\n",
    "                   learning_rate=0.5,\n",
    "                   max_depth=2,\n",
    "                   random_state=1)\n",
    "xgb.fit(X_train, y_train)"
   ]
  },
  {
   "cell_type": "code",
   "execution_count": 91,
   "metadata": {
    "scrolled": true
   },
   "outputs": [
    {
     "name": "stderr",
     "output_type": "stream",
     "text": [
      "c:\\users\\inje.jeong\\anaconda3\\envs\\ml\\lib\\site-packages\\xgboost\\sklearn.py:888: UserWarning: The use of label encoder in XGBClassifier is deprecated and will be removed in a future release. To remove this warning, do the following: 1) Pass option use_label_encoder=False when constructing XGBClassifier object; and 2) Encode your labels (y) as integers starting with 0, i.e. 0, 1, 2, ..., [num_class - 1].\n",
      "  warnings.warn(label_encoder_deprecation_msg, UserWarning)\n"
     ]
    },
    {
     "name": "stdout",
     "output_type": "stream",
     "text": [
      "[13:31:37] WARNING: C:/Users/Administrator/workspace/xgboost-win64_release_1.3.0/src/learner.cc:1061: Starting in XGBoost 1.3.0, the default evaluation metric used with the objective 'binary:logistic' was changed from 'error' to 'logloss'. Explicitly set eval_metric if you'd like to restore the old behavior.\n"
     ]
    },
    {
     "data": {
      "text/plain": [
       "x3_unknown                    0.303834\n",
       "city_development_index        0.187092\n",
       "x4_unknown                    0.078680\n",
       "education_level               0.062851\n",
       "x2_major                      0.037172\n",
       "city                          0.025449\n",
       "x1_Has relevent experience    0.025148\n",
       "x4_Pvt Ltd                    0.024257\n",
       "x2_STEM                       0.019174\n",
       "x2_Business Degree            0.018283\n",
       "last_new_job                  0.017412\n",
       "experience                    0.015309\n",
       "x4_Public Sector              0.014897\n",
       "x3_10000+                     0.014723\n",
       "enrolled_university           0.014348\n",
       "x3_5000-9999                  0.013873\n",
       "x3_100-500                    0.010538\n",
       "x0_Male                       0.010165\n",
       "x2_no_major                   0.009896\n",
       "x3_10/49                      0.009421\n",
       "x2_Humanities                 0.009213\n",
       "training_hours                0.009099\n",
       "enrollee_id                   0.009088\n",
       "x3_1000-4999                  0.008930\n",
       "x4_Other                      0.008778\n",
       "x4_Funded Startup             0.008674\n",
       "x3_50-99                      0.008432\n",
       "x0_Female                     0.008236\n",
       "x2_No Major                   0.006399\n",
       "x4_Early Stage Startup        0.005981\n",
       "x2_Arts                       0.004645\n",
       "x4_NGO                        0.000000\n",
       "x3_~10                        0.000000\n",
       "x2_Other                      0.000000\n",
       "x1_No relevent experience     0.000000\n",
       "x0_Other                      0.000000\n",
       "x3_500-999                    0.000000\n",
       "dtype: float32"
      ]
     },
     "execution_count": 91,
     "metadata": {},
     "output_type": "execute_result"
    }
   ],
   "source": [
    "random_xgb = RandomizedSearchCV(xgb,\n",
    "                             param_distributions=param,\n",
    "                             n_iter=10,\n",
    "                             scoring='accuracy',\n",
    "                             cv=3,\n",
    "                             n_jobs=-1,\n",
    "                             random_state=1\n",
    "                             )\n",
    "random_xgb.fit(X_train, y_train)\n",
    "\n",
    "be = random_xgb.best_estimator_\n",
    "pd.Series(be.feature_importances_, index=X_train.columns).sort_values(ascending=False)"
   ]
  },
  {
   "cell_type": "code",
   "execution_count": 92,
   "metadata": {},
   "outputs": [
    {
     "name": "stdout",
     "output_type": "stream",
     "text": [
      "train accuracy : 0.7988725336673974\n",
      "validation accuracy : 0.7857948139797069\n"
     ]
    }
   ],
   "source": [
    "pred_train = random_xgb.predict(X_train)\n",
    "pred_val = random_xgb.predict(X_val)\n",
    "\n",
    "print('train accuracy :', accuracy_score(y_train, pred_train))\n",
    "print('validation accuracy :', accuracy_score(y_val, pred_val))"
   ]
  },
  {
   "cell_type": "markdown",
   "metadata": {},
   "source": [
    "## ROC Curve vs. PR Curve (feat. 김성환 강사님)\n",
    "- ROC: 이진분류에서 양성클래스 탐지와 음성클래스 탐지의 중요도가 비슷할 때 사용(개고양이 분류)\n",
    "- PR curve(Precision Recall 커브): 양성 클래스 탐지가 음성클래스 탐지의 중요도보다 높을 경우 사용(암환자 진단)"
   ]
  },
  {
   "cell_type": "code",
   "execution_count": 93,
   "metadata": {},
   "outputs": [
    {
     "data": {
      "text/html": [
       "<div>\n",
       "<style scoped>\n",
       "    .dataframe tbody tr th:only-of-type {\n",
       "        vertical-align: middle;\n",
       "    }\n",
       "\n",
       "    .dataframe tbody tr th {\n",
       "        vertical-align: top;\n",
       "    }\n",
       "\n",
       "    .dataframe thead th {\n",
       "        text-align: right;\n",
       "    }\n",
       "</style>\n",
       "<table border=\"1\" class=\"dataframe\">\n",
       "  <thead>\n",
       "    <tr style=\"text-align: right;\">\n",
       "      <th></th>\n",
       "      <th>ROC-AUC</th>\n",
       "      <th>F1</th>\n",
       "      <th>precision_0</th>\n",
       "      <th>recall_0</th>\n",
       "      <th>precision_1</th>\n",
       "      <th>recall_1</th>\n",
       "    </tr>\n",
       "  </thead>\n",
       "  <tbody>\n",
       "    <tr>\n",
       "      <th>XGB</th>\n",
       "      <td>0.785026</td>\n",
       "      <td>0.556765</td>\n",
       "      <td>0.850761</td>\n",
       "      <td>0.866933</td>\n",
       "      <td>0.573718</td>\n",
       "      <td>0.540785</td>\n",
       "    </tr>\n",
       "  </tbody>\n",
       "</table>\n",
       "</div>"
      ],
      "text/plain": [
       "      ROC-AUC        F1  precision_0  recall_0  precision_1  recall_1\n",
       "XGB  0.785026  0.556765     0.850761  0.866933     0.573718  0.540785"
      ]
     },
     "execution_count": 93,
     "metadata": {},
     "output_type": "execute_result"
    }
   ],
   "source": [
    "show_report(random_xgb, \"XGB\", X_val, y_val, pred_val)"
   ]
  },
  {
   "cell_type": "code",
   "execution_count": 94,
   "metadata": {},
   "outputs": [
    {
     "data": {
      "image/png": "[encoded data removed]",
      "text/plain": [
       "<Figure size 936x360 with 2 Axes>"
      ]
     },
     "metadata": {},
     "output_type": "display_data"
    }
   ],
   "source": [
    "score_graph(random_xgb, \"XGB\", X_val, y_val, pred_val)"
   ]
  },
  {
   "cell_type": "code",
   "execution_count": 95,
   "metadata": {},
   "outputs": [
    {
     "data": {
      "image/png": "[encoded data removed]",
      "text/plain": [
       "<IPython.core.display.Image object>"
      ]
     },
     "execution_count": 95,
     "metadata": {},
     "output_type": "execute_result"
    }
   ],
   "source": [
    "from IPython.display import Image\n",
    "Image(r\"C:\\Users\\inje.jeong\\Desktop/발표용.PNG\")"
   ]
  },
  {
   "cell_type": "markdown",
   "metadata": {},
   "source": [
    "### Polynomial 컬럼 추가(Trial&Error) XGBoost모델 feature_importances_ 기준"
   ]
  },
  {
   "cell_type": "markdown",
   "metadata": {},
   "source": [
    "#### 중요도 컬럼뽑기 - 랜덤서치(nopoly,no oversampling) 한번 실행후"
   ]
  },
  {
   "cell_type": "code",
   "execution_count": 96,
   "metadata": {},
   "outputs": [
    {
     "data": {
      "text/plain": [
       "['x3_unknown',\n",
       " 'city_development_index',\n",
       " 'x4_unknown',\n",
       " 'education_level',\n",
       " 'x2_major',\n",
       " 'city',\n",
       " 'x1_Has relevent experience',\n",
       " 'x4_Pvt Ltd']"
      ]
     },
     "execution_count": 96,
     "metadata": {},
     "output_type": "execute_result"
    }
   ],
   "source": [
    "imprt_lst = pd.Series(be.feature_importances_, index=X_train.columns).sort_values(ascending=False)\n",
    "to_poly_lst = list(imprt_lst[imprt_lst>imprt_lst.quantile(q=0.8)].index)\n",
    "to_poly_lst"
   ]
  },
  {
   "cell_type": "code",
   "execution_count": 97,
   "metadata": {},
   "outputs": [],
   "source": [
    "from sklearn.preprocessing import PolynomialFeatures\n",
    "\n",
    "poly_f = PolynomialFeatures(degree=2, include_bias=False)\n",
    "poly_f1 = PolynomialFeatures(degree=2, include_bias=False)\n",
    "\n",
    "poly_train = poly_f.fit_transform(X.loc[:,X.columns.isin(to_poly_lst)])\n",
    "poly_test = poly_f1.fit_transform(X_test.loc[:,X_test.columns.isin(to_poly_lst)])\n",
    "\n",
    "X_train_poly_tomerge = pd.DataFrame(poly_train, columns=poly_f.get_feature_names())\n",
    "X_test_poly_tomerge = pd.DataFrame(poly_test, columns=poly_f1.get_feature_names())\n",
    "\n",
    "X_train_poly = pd.concat([X, X_train_poly_tomerge], axis=1)\n",
    "X_test_poly = pd.concat([X_test, X_test_poly_tomerge], axis=1)"
   ]
  },
  {
   "cell_type": "code",
   "execution_count": 98,
   "metadata": {},
   "outputs": [
    {
     "data": {
      "text/plain": [
       "{'x0': 'x3_unknown',\n",
       " 'x1': 'city_development_index',\n",
       " 'x2': 'x4_unknown',\n",
       " 'x3': 'education_level',\n",
       " 'x4': 'x2_major',\n",
       " 'x5': 'city',\n",
       " 'x6': 'x1_Has relevent experience',\n",
       " 'x7': 'x4_Pvt Ltd'}"
      ]
     },
     "execution_count": 98,
     "metadata": {},
     "output_type": "execute_result"
    }
   ],
   "source": [
    "vars_poly = {f'x{i}':v for i,v in enumerate(to_poly_lst)}\n",
    "vars_poly"
   ]
  },
  {
   "cell_type": "code",
   "execution_count": 99,
   "metadata": {},
   "outputs": [
    {
     "data": {
      "text/plain": [
       "((15965, 81), (5322, 81), (15965,), (5322,))"
      ]
     },
     "execution_count": 99,
     "metadata": {},
     "output_type": "execute_result"
    }
   ],
   "source": [
    "X_train_poly, X_val_poly, y_train_poly, y_val_poly = train_test_split(X_train_poly, y, stratify=y, shuffle=True, random_state=1)\n",
    "X_train_poly.shape, X_val_poly.shape, y_train_poly.shape, y_val_poly.shape"
   ]
  },
  {
   "cell_type": "code",
   "execution_count": 100,
   "metadata": {},
   "outputs": [
    {
     "data": {
      "text/html": [
       "<div>\n",
       "<style scoped>\n",
       "    .dataframe tbody tr th:only-of-type {\n",
       "        vertical-align: middle;\n",
       "    }\n",
       "\n",
       "    .dataframe tbody tr th {\n",
       "        vertical-align: top;\n",
       "    }\n",
       "\n",
       "    .dataframe thead th {\n",
       "        text-align: right;\n",
       "    }\n",
       "</style>\n",
       "<table border=\"1\" class=\"dataframe\">\n",
       "  <thead>\n",
       "    <tr style=\"text-align: right;\">\n",
       "      <th></th>\n",
       "      <th>x0_Female</th>\n",
       "      <th>x0_Male</th>\n",
       "      <th>x0_Other</th>\n",
       "      <th>x1_Has relevent experience</th>\n",
       "      <th>x1_No relevent experience</th>\n",
       "      <th>x2_Arts</th>\n",
       "      <th>x2_Business Degree</th>\n",
       "      <th>x2_Humanities</th>\n",
       "      <th>x2_No Major</th>\n",
       "      <th>x2_Other</th>\n",
       "      <th>...</th>\n",
       "      <th>x4^2</th>\n",
       "      <th>x4 x5</th>\n",
       "      <th>x4 x6</th>\n",
       "      <th>x4 x7</th>\n",
       "      <th>x5^2</th>\n",
       "      <th>x5 x6</th>\n",
       "      <th>x5 x7</th>\n",
       "      <th>x6^2</th>\n",
       "      <th>x6 x7</th>\n",
       "      <th>x7^2</th>\n",
       "    </tr>\n",
       "  </thead>\n",
       "  <tbody>\n",
       "    <tr>\n",
       "      <th>15870</th>\n",
       "      <td>-0.472345</td>\n",
       "      <td>0.488271</td>\n",
       "      <td>-0.10101</td>\n",
       "      <td>0.624383</td>\n",
       "      <td>-0.624383</td>\n",
       "      <td>-0.113343</td>\n",
       "      <td>-0.131898</td>\n",
       "      <td>-0.190969</td>\n",
       "      <td>-0.107904</td>\n",
       "      <td>-0.142044</td>\n",
       "      <td>...</td>\n",
       "      <td>0.466754</td>\n",
       "      <td>0.601730</td>\n",
       "      <td>-0.539430</td>\n",
       "      <td>-0.835129</td>\n",
       "      <td>0.775739</td>\n",
       "      <td>-0.695422</td>\n",
       "      <td>-1.076632</td>\n",
       "      <td>0.623421</td>\n",
       "      <td>0.965162</td>\n",
       "      <td>1.494235</td>\n",
       "    </tr>\n",
       "    <tr>\n",
       "      <th>15145</th>\n",
       "      <td>-0.472345</td>\n",
       "      <td>0.488271</td>\n",
       "      <td>-0.10101</td>\n",
       "      <td>-1.601582</td>\n",
       "      <td>1.601582</td>\n",
       "      <td>-0.113343</td>\n",
       "      <td>-0.131898</td>\n",
       "      <td>-0.190969</td>\n",
       "      <td>-0.107904</td>\n",
       "      <td>-0.142044</td>\n",
       "      <td>...</td>\n",
       "      <td>0.466754</td>\n",
       "      <td>0.756275</td>\n",
       "      <td>-0.506247</td>\n",
       "      <td>0.136844</td>\n",
       "      <td>1.225382</td>\n",
       "      <td>-0.820265</td>\n",
       "      <td>0.221727</td>\n",
       "      <td>0.549082</td>\n",
       "      <td>-0.148423</td>\n",
       "      <td>0.040120</td>\n",
       "    </tr>\n",
       "    <tr>\n",
       "      <th>9228</th>\n",
       "      <td>2.117097</td>\n",
       "      <td>-2.048044</td>\n",
       "      <td>-0.10101</td>\n",
       "      <td>-1.601582</td>\n",
       "      <td>1.601582</td>\n",
       "      <td>-0.113343</td>\n",
       "      <td>-0.131898</td>\n",
       "      <td>-0.190969</td>\n",
       "      <td>-0.107904</td>\n",
       "      <td>-0.142044</td>\n",
       "      <td>...</td>\n",
       "      <td>0.466754</td>\n",
       "      <td>-1.349399</td>\n",
       "      <td>-0.533899</td>\n",
       "      <td>0.136844</td>\n",
       "      <td>3.901154</td>\n",
       "      <td>1.543518</td>\n",
       "      <td>-0.395621</td>\n",
       "      <td>0.610704</td>\n",
       "      <td>-0.156530</td>\n",
       "      <td>0.040120</td>\n",
       "    </tr>\n",
       "    <tr>\n",
       "      <th>15292</th>\n",
       "      <td>-0.472345</td>\n",
       "      <td>0.488271</td>\n",
       "      <td>-0.10101</td>\n",
       "      <td>0.624383</td>\n",
       "      <td>-0.624383</td>\n",
       "      <td>-0.113343</td>\n",
       "      <td>-0.131898</td>\n",
       "      <td>-0.190969</td>\n",
       "      <td>-0.107904</td>\n",
       "      <td>-0.142044</td>\n",
       "      <td>...</td>\n",
       "      <td>0.466754</td>\n",
       "      <td>0.601730</td>\n",
       "      <td>-0.539430</td>\n",
       "      <td>0.136844</td>\n",
       "      <td>0.775739</td>\n",
       "      <td>-0.695422</td>\n",
       "      <td>0.176417</td>\n",
       "      <td>0.623421</td>\n",
       "      <td>-0.158151</td>\n",
       "      <td>0.040120</td>\n",
       "    </tr>\n",
       "    <tr>\n",
       "      <th>17117</th>\n",
       "      <td>-0.472345</td>\n",
       "      <td>0.488271</td>\n",
       "      <td>-0.10101</td>\n",
       "      <td>-1.601582</td>\n",
       "      <td>1.601582</td>\n",
       "      <td>-0.113343</td>\n",
       "      <td>-0.131898</td>\n",
       "      <td>-0.190969</td>\n",
       "      <td>-0.107904</td>\n",
       "      <td>-0.142044</td>\n",
       "      <td>...</td>\n",
       "      <td>0.466754</td>\n",
       "      <td>-0.383494</td>\n",
       "      <td>1.130760</td>\n",
       "      <td>0.136844</td>\n",
       "      <td>0.315086</td>\n",
       "      <td>-0.929053</td>\n",
       "      <td>-0.112434</td>\n",
       "      <td>2.739382</td>\n",
       "      <td>0.331519</td>\n",
       "      <td>0.040120</td>\n",
       "    </tr>\n",
       "    <tr>\n",
       "      <th>...</th>\n",
       "      <td>...</td>\n",
       "      <td>...</td>\n",
       "      <td>...</td>\n",
       "      <td>...</td>\n",
       "      <td>...</td>\n",
       "      <td>...</td>\n",
       "      <td>...</td>\n",
       "      <td>...</td>\n",
       "      <td>...</td>\n",
       "      <td>...</td>\n",
       "      <td>...</td>\n",
       "      <td>...</td>\n",
       "      <td>...</td>\n",
       "      <td>...</td>\n",
       "      <td>...</td>\n",
       "      <td>...</td>\n",
       "      <td>...</td>\n",
       "      <td>...</td>\n",
       "      <td>...</td>\n",
       "      <td>...</td>\n",
       "      <td>...</td>\n",
       "    </tr>\n",
       "    <tr>\n",
       "      <th>369</th>\n",
       "      <td>2.117097</td>\n",
       "      <td>-2.048044</td>\n",
       "      <td>-0.10101</td>\n",
       "      <td>0.624383</td>\n",
       "      <td>-0.624383</td>\n",
       "      <td>-0.113343</td>\n",
       "      <td>-0.131898</td>\n",
       "      <td>-0.190969</td>\n",
       "      <td>-0.107904</td>\n",
       "      <td>-0.142044</td>\n",
       "      <td>...</td>\n",
       "      <td>0.466754</td>\n",
       "      <td>-0.074404</td>\n",
       "      <td>-0.450943</td>\n",
       "      <td>0.136844</td>\n",
       "      <td>0.011860</td>\n",
       "      <td>0.071883</td>\n",
       "      <td>-0.021814</td>\n",
       "      <td>0.435667</td>\n",
       "      <td>-0.132209</td>\n",
       "      <td>0.040120</td>\n",
       "    </tr>\n",
       "    <tr>\n",
       "      <th>2221</th>\n",
       "      <td>-0.472345</td>\n",
       "      <td>0.488271</td>\n",
       "      <td>-0.10101</td>\n",
       "      <td>0.624383</td>\n",
       "      <td>-0.624383</td>\n",
       "      <td>-0.113343</td>\n",
       "      <td>-0.131898</td>\n",
       "      <td>-0.190969</td>\n",
       "      <td>-0.107904</td>\n",
       "      <td>-0.142044</td>\n",
       "      <td>...</td>\n",
       "      <td>0.466754</td>\n",
       "      <td>-0.383494</td>\n",
       "      <td>1.130760</td>\n",
       "      <td>0.136844</td>\n",
       "      <td>0.315086</td>\n",
       "      <td>-0.929053</td>\n",
       "      <td>-0.112434</td>\n",
       "      <td>2.739382</td>\n",
       "      <td>0.331519</td>\n",
       "      <td>0.040120</td>\n",
       "    </tr>\n",
       "    <tr>\n",
       "      <th>8027</th>\n",
       "      <td>2.117097</td>\n",
       "      <td>-2.048044</td>\n",
       "      <td>-0.10101</td>\n",
       "      <td>-1.601582</td>\n",
       "      <td>1.601582</td>\n",
       "      <td>-0.113343</td>\n",
       "      <td>-0.131898</td>\n",
       "      <td>-0.190969</td>\n",
       "      <td>-0.107904</td>\n",
       "      <td>-0.142044</td>\n",
       "      <td>...</td>\n",
       "      <td>2.142456</td>\n",
       "      <td>1.401054</td>\n",
       "      <td>-0.017317</td>\n",
       "      <td>-0.293183</td>\n",
       "      <td>0.916215</td>\n",
       "      <td>-0.011324</td>\n",
       "      <td>-0.191726</td>\n",
       "      <td>0.000140</td>\n",
       "      <td>0.002370</td>\n",
       "      <td>0.040120</td>\n",
       "    </tr>\n",
       "    <tr>\n",
       "      <th>7068</th>\n",
       "      <td>-0.472345</td>\n",
       "      <td>0.488271</td>\n",
       "      <td>-0.10101</td>\n",
       "      <td>-1.601582</td>\n",
       "      <td>1.601582</td>\n",
       "      <td>-0.113343</td>\n",
       "      <td>-0.131898</td>\n",
       "      <td>-0.190969</td>\n",
       "      <td>-0.107904</td>\n",
       "      <td>-0.142044</td>\n",
       "      <td>...</td>\n",
       "      <td>2.142456</td>\n",
       "      <td>0.159407</td>\n",
       "      <td>0.966125</td>\n",
       "      <td>-4.458003</td>\n",
       "      <td>0.011860</td>\n",
       "      <td>0.071883</td>\n",
       "      <td>-0.331692</td>\n",
       "      <td>0.435667</td>\n",
       "      <td>-2.010304</td>\n",
       "      <td>9.276169</td>\n",
       "    </tr>\n",
       "    <tr>\n",
       "      <th>2992</th>\n",
       "      <td>-0.472345</td>\n",
       "      <td>0.488271</td>\n",
       "      <td>-0.10101</td>\n",
       "      <td>0.624383</td>\n",
       "      <td>-0.624383</td>\n",
       "      <td>-0.113343</td>\n",
       "      <td>-0.131898</td>\n",
       "      <td>-0.190969</td>\n",
       "      <td>-0.107904</td>\n",
       "      <td>-0.142044</td>\n",
       "      <td>...</td>\n",
       "      <td>0.466754</td>\n",
       "      <td>-0.402812</td>\n",
       "      <td>-0.390108</td>\n",
       "      <td>0.136844</td>\n",
       "      <td>0.347629</td>\n",
       "      <td>0.336666</td>\n",
       "      <td>-0.118097</td>\n",
       "      <td>0.326048</td>\n",
       "      <td>-0.114373</td>\n",
       "      <td>0.040120</td>\n",
       "    </tr>\n",
       "  </tbody>\n",
       "</table>\n",
       "<p>15965 rows × 81 columns</p>\n",
       "</div>"
      ],
      "text/plain": [
       "       x0_Female   x0_Male  x0_Other  x1_Has relevent experience  \\\n",
       "15870  -0.472345  0.488271  -0.10101                    0.624383   \n",
       "15145  -0.472345  0.488271  -0.10101                   -1.601582   \n",
       "9228    2.117097 -2.048044  -0.10101                   -1.601582   \n",
       "15292  -0.472345  0.488271  -0.10101                    0.624383   \n",
       "17117  -0.472345  0.488271  -0.10101                   -1.601582   \n",
       "...          ...       ...       ...                         ...   \n",
       "369     2.117097 -2.048044  -0.10101                    0.624383   \n",
       "2221   -0.472345  0.488271  -0.10101                    0.624383   \n",
       "8027    2.117097 -2.048044  -0.10101                   -1.601582   \n",
       "7068   -0.472345  0.488271  -0.10101                   -1.601582   \n",
       "2992   -0.472345  0.488271  -0.10101                    0.624383   \n",
       "\n",
       "       x1_No relevent experience   x2_Arts  x2_Business Degree  x2_Humanities  \\\n",
       "15870                  -0.624383 -0.113343           -0.131898      -0.190969   \n",
       "15145                   1.601582 -0.113343           -0.131898      -0.190969   \n",
       "9228                    1.601582 -0.113343           -0.131898      -0.190969   \n",
       "15292                  -0.624383 -0.113343           -0.131898      -0.190969   \n",
       "17117                   1.601582 -0.113343           -0.131898      -0.190969   \n",
       "...                          ...       ...                 ...            ...   \n",
       "369                    -0.624383 -0.113343           -0.131898      -0.190969   \n",
       "2221                   -0.624383 -0.113343           -0.131898      -0.190969   \n",
       "8027                    1.601582 -0.113343           -0.131898      -0.190969   \n",
       "7068                    1.601582 -0.113343           -0.131898      -0.190969   \n",
       "2992                   -0.624383 -0.113343           -0.131898      -0.190969   \n",
       "\n",
       "       x2_No Major  x2_Other  ...      x4^2     x4 x5     x4 x6     x4 x7  \\\n",
       "15870    -0.107904 -0.142044  ...  0.466754  0.601730 -0.539430 -0.835129   \n",
       "15145    -0.107904 -0.142044  ...  0.466754  0.756275 -0.506247  0.136844   \n",
       "9228     -0.107904 -0.142044  ...  0.466754 -1.349399 -0.533899  0.136844   \n",
       "15292    -0.107904 -0.142044  ...  0.466754  0.601730 -0.539430  0.136844   \n",
       "17117    -0.107904 -0.142044  ...  0.466754 -0.383494  1.130760  0.136844   \n",
       "...            ...       ...  ...       ...       ...       ...       ...   \n",
       "369      -0.107904 -0.142044  ...  0.466754 -0.074404 -0.450943  0.136844   \n",
       "2221     -0.107904 -0.142044  ...  0.466754 -0.383494  1.130760  0.136844   \n",
       "8027     -0.107904 -0.142044  ...  2.142456  1.401054 -0.017317 -0.293183   \n",
       "7068     -0.107904 -0.142044  ...  2.142456  0.159407  0.966125 -4.458003   \n",
       "2992     -0.107904 -0.142044  ...  0.466754 -0.402812 -0.390108  0.136844   \n",
       "\n",
       "           x5^2     x5 x6     x5 x7      x6^2     x6 x7      x7^2  \n",
       "15870  0.775739 -0.695422 -1.076632  0.623421  0.965162  1.494235  \n",
       "15145  1.225382 -0.820265  0.221727  0.549082 -0.148423  0.040120  \n",
       "9228   3.901154  1.543518 -0.395621  0.610704 -0.156530  0.040120  \n",
       "15292  0.775739 -0.695422  0.176417  0.623421 -0.158151  0.040120  \n",
       "17117  0.315086 -0.929053 -0.112434  2.739382  0.331519  0.040120  \n",
       "...         ...       ...       ...       ...       ...       ...  \n",
       "369    0.011860  0.071883 -0.021814  0.435667 -0.132209  0.040120  \n",
       "2221   0.315086 -0.929053 -0.112434  2.739382  0.331519  0.040120  \n",
       "8027   0.916215 -0.011324 -0.191726  0.000140  0.002370  0.040120  \n",
       "7068   0.011860  0.071883 -0.331692  0.435667 -2.010304  9.276169  \n",
       "2992   0.347629  0.336666 -0.118097  0.326048 -0.114373  0.040120  \n",
       "\n",
       "[15965 rows x 81 columns]"
      ]
     },
     "execution_count": 100,
     "metadata": {},
     "output_type": "execute_result"
    }
   ],
   "source": [
    "X_train_poly"
   ]
  },
  {
   "cell_type": "markdown",
   "metadata": {},
   "source": [
    "#### poly-nooversampling"
   ]
  },
  {
   "cell_type": "code",
   "execution_count": 101,
   "metadata": {
    "scrolled": true
   },
   "outputs": [
    {
     "name": "stderr",
     "output_type": "stream",
     "text": [
      "c:\\users\\inje.jeong\\anaconda3\\envs\\ml\\lib\\site-packages\\xgboost\\sklearn.py:888: UserWarning: The use of label encoder in XGBClassifier is deprecated and will be removed in a future release. To remove this warning, do the following: 1) Pass option use_label_encoder=False when constructing XGBClassifier object; and 2) Encode your labels (y) as integers starting with 0, i.e. 0, 1, 2, ..., [num_class - 1].\n",
      "  warnings.warn(label_encoder_deprecation_msg, UserWarning)\n"
     ]
    },
    {
     "name": "stdout",
     "output_type": "stream",
     "text": [
      "[13:32:13] WARNING: C:/Users/Administrator/workspace/xgboost-win64_release_1.3.0/src/learner.cc:1061: Starting in XGBoost 1.3.0, the default evaluation metric used with the objective 'binary:logistic' was changed from 'error' to 'logloss'. Explicitly set eval_metric if you'd like to restore the old behavior.\n"
     ]
    },
    {
     "data": {
      "text/plain": [
       "x2 x3                     0.303579\n",
       "city_development_index    0.121432\n",
       "x3_unknown                0.111596\n",
       "x1 x2                     0.096234\n",
       "x2 x6                     0.048728\n",
       "                            ...   \n",
       "x2                        0.000000\n",
       "x4                        0.000000\n",
       "x5                        0.000000\n",
       "x6                        0.000000\n",
       "x3                        0.000000\n",
       "Length: 81, dtype: float32"
      ]
     },
     "execution_count": 101,
     "metadata": {},
     "output_type": "execute_result"
    }
   ],
   "source": [
    "random_xgb_poly = RandomizedSearchCV(xgb,\n",
    "                             param_distributions=param,\n",
    "                             n_iter=10,\n",
    "                             scoring='accuracy',\n",
    "                             cv=3,\n",
    "                             n_jobs=-1,\n",
    "                             random_state=1\n",
    "                             )\n",
    "random_xgb_poly.fit(X_train_poly, y_train_poly)\n",
    "\n",
    "be_poly = random_xgb_poly.best_estimator_\n",
    "pd.Series(be_poly.feature_importances_, index=X_train_poly.columns).sort_values(ascending=False)"
   ]
  },
  {
   "cell_type": "code",
   "execution_count": 102,
   "metadata": {},
   "outputs": [
    {
     "name": "stdout",
     "output_type": "stream",
     "text": [
      "train accuracy : 0.7964923269652364\n",
      "validation accuracy : 0.7854190154077415\n"
     ]
    }
   ],
   "source": [
    "pred_train_poly = random_xgb_poly.predict(X_train_poly)\n",
    "pred_val_poly = random_xgb_poly.predict(X_val_poly)\n",
    "\n",
    "print('train accuracy :', accuracy_score(y_train_poly, pred_train_poly))\n",
    "print('validation accuracy :', accuracy_score(y_val_poly, pred_val_poly))"
   ]
  },
  {
   "cell_type": "code",
   "execution_count": 103,
   "metadata": {},
   "outputs": [
    {
     "data": {
      "text/html": [
       "<div>\n",
       "<style scoped>\n",
       "    .dataframe tbody tr th:only-of-type {\n",
       "        vertical-align: middle;\n",
       "    }\n",
       "\n",
       "    .dataframe tbody tr th {\n",
       "        vertical-align: top;\n",
       "    }\n",
       "\n",
       "    .dataframe thead th {\n",
       "        text-align: right;\n",
       "    }\n",
       "</style>\n",
       "<table border=\"1\" class=\"dataframe\">\n",
       "  <thead>\n",
       "    <tr style=\"text-align: right;\">\n",
       "      <th></th>\n",
       "      <th>ROC-AUC</th>\n",
       "      <th>F1</th>\n",
       "      <th>precision_0</th>\n",
       "      <th>recall_0</th>\n",
       "      <th>precision_1</th>\n",
       "      <th>recall_1</th>\n",
       "    </tr>\n",
       "  </thead>\n",
       "  <tbody>\n",
       "    <tr>\n",
       "      <th>XGB_poly</th>\n",
       "      <td>0.789355</td>\n",
       "      <td>0.538399</td>\n",
       "      <td>0.842282</td>\n",
       "      <td>0.878939</td>\n",
       "      <td>0.57913</td>\n",
       "      <td>0.503021</td>\n",
       "    </tr>\n",
       "  </tbody>\n",
       "</table>\n",
       "</div>"
      ],
      "text/plain": [
       "           ROC-AUC        F1  precision_0  recall_0  precision_1  recall_1\n",
       "XGB_poly  0.789355  0.538399     0.842282  0.878939      0.57913  0.503021"
      ]
     },
     "execution_count": 103,
     "metadata": {},
     "output_type": "execute_result"
    }
   ],
   "source": [
    "show_report(random_xgb_poly, \"XGB_poly\", X_val_poly, y_val_poly, pred_val_poly)"
   ]
  },
  {
   "cell_type": "code",
   "execution_count": 104,
   "metadata": {},
   "outputs": [
    {
     "data": {
      "image/png": "[encoded data removed]",
      "text/plain": [
       "<Figure size 936x360 with 2 Axes>"
      ]
     },
     "metadata": {},
     "output_type": "display_data"
    }
   ],
   "source": [
    "score_graph(random_xgb_poly, \"XGB_poly\", X_val_poly, y_val_poly, pred_val_poly)"
   ]
  },
  {
   "cell_type": "markdown",
   "metadata": {},
   "source": [
    "### 오버샘플링"
   ]
  },
  {
   "cell_type": "code",
   "execution_count": 105,
   "metadata": {},
   "outputs": [
    {
     "data": {
      "image/png": "[encoded data removed]",
      "text/plain": [
       "<IPython.core.display.Image object>"
      ]
     },
     "execution_count": 105,
     "metadata": {},
     "output_type": "execute_result"
    }
   ],
   "source": [
    "from IPython.display import Image\n",
    "Image(r\"C:\\Users\\inje.jeong\\Desktop/발표용.PNG\")"
   ]
  },
  {
   "cell_type": "code",
   "execution_count": 106,
   "metadata": {
    "scrolled": true
   },
   "outputs": [],
   "source": [
    "# from sklearn.decomposition import PCA\n",
    "from imblearn.over_sampling import SMOTE\n",
    "\n",
    "sm = SMOTE(random_state=0)\n",
    "X_train_ovsp, y_train_ovsp = sm.fit_resample(X_train, list(y_train))\n",
    "\n",
    "sm_poly = SMOTE(random_state=0)\n",
    "X_train_poly_ovsp, y_train_poly_ovsp = sm_poly.fit_resample(X_train_poly, list(y_train_poly))"
   ]
  },
  {
   "cell_type": "markdown",
   "metadata": {},
   "source": [
    "#### nopoly-oversampling"
   ]
  },
  {
   "cell_type": "code",
   "execution_count": 107,
   "metadata": {
    "scrolled": true
   },
   "outputs": [
    {
     "name": "stderr",
     "output_type": "stream",
     "text": [
      "c:\\users\\inje.jeong\\anaconda3\\envs\\ml\\lib\\site-packages\\xgboost\\sklearn.py:888: UserWarning: The use of label encoder in XGBClassifier is deprecated and will be removed in a future release. To remove this warning, do the following: 1) Pass option use_label_encoder=False when constructing XGBClassifier object; and 2) Encode your labels (y) as integers starting with 0, i.e. 0, 1, 2, ..., [num_class - 1].\n",
      "  warnings.warn(label_encoder_deprecation_msg, UserWarning)\n"
     ]
    },
    {
     "name": "stdout",
     "output_type": "stream",
     "text": [
      "[13:34:23] WARNING: C:/Users/Administrator/workspace/xgboost-win64_release_1.3.0/src/learner.cc:1061: Starting in XGBoost 1.3.0, the default evaluation metric used with the objective 'binary:logistic' was changed from 'error' to 'logloss'. Explicitly set eval_metric if you'd like to restore the old behavior.\n"
     ]
    },
    {
     "data": {
      "text/plain": [
       "x3_unknown                    0.241468\n",
       "city_development_index        0.116414\n",
       "education_level               0.093454\n",
       "last_new_job                  0.074847\n",
       "enrolled_university           0.060705\n",
       "experience                    0.058617\n",
       "x4_unknown                    0.047431\n",
       "x4_Pvt Ltd                    0.037618\n",
       "city                          0.032196\n",
       "x2_major                      0.028442\n",
       "x1_Has relevent experience    0.027756\n",
       "x2_STEM                       0.016432\n",
       "x3_10000+                     0.014752\n",
       "training_hours                0.012818\n",
       "x4_Funded Startup             0.012500\n",
       "x3_10/49                      0.012207\n",
       "x3_5000-9999                  0.010002\n",
       "x4_Other                      0.009205\n",
       "x2_Humanities                 0.008652\n",
       "enrollee_id                   0.008580\n",
       "x4_Public Sector              0.008162\n",
       "x3_500-999                    0.007578\n",
       "x0_Male                       0.007494\n",
       "x3_~10                        0.007174\n",
       "x0_Female                     0.006848\n",
       "x3_50-99                      0.006835\n",
       "x3_100-500                    0.006817\n",
       "x2_no_major                   0.006131\n",
       "x4_NGO                        0.005644\n",
       "x4_Early Stage Startup        0.005327\n",
       "x2_Business Degree            0.004659\n",
       "x3_1000-4999                  0.003236\n",
       "x2_Other                      0.000000\n",
       "x2_No Major                   0.000000\n",
       "x2_Arts                       0.000000\n",
       "x1_No relevent experience     0.000000\n",
       "x0_Other                      0.000000\n",
       "dtype: float32"
      ]
     },
     "execution_count": 107,
     "metadata": {},
     "output_type": "execute_result"
    }
   ],
   "source": [
    "random_xgb_ovsp = RandomizedSearchCV(xgb,\n",
    "                             param_distributions=param,\n",
    "                             n_iter=10,\n",
    "                             scoring='accuracy',\n",
    "                             cv=3,\n",
    "                             n_jobs=-1,\n",
    "                             random_state=1\n",
    "                             )\n",
    "random_xgb_ovsp.fit(X_train_ovsp, y_train_ovsp)\n",
    "\n",
    "be_ovsp = random_xgb_ovsp.best_estimator_\n",
    "pd.Series(be_ovsp.feature_importances_, index=X_train_ovsp.columns).sort_values(ascending=False)"
   ]
  },
  {
   "cell_type": "code",
   "execution_count": 111,
   "metadata": {},
   "outputs": [
    {
     "name": "stdout",
     "output_type": "stream",
     "text": [
      "train accuracy : 0.8356958225631619\n",
      "validation accuracy : 0.771326568959038\n"
     ]
    }
   ],
   "source": [
    "pred_train_ovsp = random_xgb_ovsp.predict(X_train_ovsp)\n",
    "pred_val_ovsp = random_xgb_ovsp.predict(X_val)\n",
    "\n",
    "print('train accuracy :', accuracy_score(y_train_ovsp, pred_train_ovsp))\n",
    "print('validation accuracy :', accuracy_score(y_val, pred_val_ovsp))"
   ]
  },
  {
   "cell_type": "markdown",
   "metadata": {},
   "source": [
    "#### poly-oversampleling"
   ]
  },
  {
   "cell_type": "code",
   "execution_count": 124,
   "metadata": {
    "collapsed": true
   },
   "outputs": [
    {
     "name": "stderr",
     "output_type": "stream",
     "text": [
      "c:\\users\\inje.jeong\\anaconda3\\envs\\ml\\lib\\site-packages\\xgboost\\sklearn.py:888: UserWarning: The use of label encoder in XGBClassifier is deprecated and will be removed in a future release. To remove this warning, do the following: 1) Pass option use_label_encoder=False when constructing XGBClassifier object; and 2) Encode your labels (y) as integers starting with 0, i.e. 0, 1, 2, ..., [num_class - 1].\n",
      "  warnings.warn(label_encoder_deprecation_msg, UserWarning)\n"
     ]
    },
    {
     "name": "stdout",
     "output_type": "stream",
     "text": [
      "[14:12:11] WARNING: C:/Users/Administrator/workspace/xgboost-win64_release_1.3.0/src/learner.cc:1061: Starting in XGBoost 1.3.0, the default evaluation metric used with the objective 'binary:logistic' was changed from 'error' to 'logloss'. Explicitly set eval_metric if you'd like to restore the old behavior.\n"
     ]
    },
    {
     "data": {
      "text/plain": [
       "x2 x3                  0.237875\n",
       "x6^2                   0.118414\n",
       "x7^2                   0.063286\n",
       "enrolled_university    0.047933\n",
       "x2 x4                  0.041545\n",
       "                         ...   \n",
       "x2                     0.000000\n",
       "x4                     0.000000\n",
       "x5                     0.000000\n",
       "x6                     0.000000\n",
       "x3                     0.000000\n",
       "Length: 81, dtype: float32"
      ]
     },
     "execution_count": 124,
     "metadata": {},
     "output_type": "execute_result"
    }
   ],
   "source": [
    "random_xgb_poly_ovsp = RandomizedSearchCV(xgb,\n",
    "                             param_distributions=param,\n",
    "                             n_iter=10,\n",
    "                             scoring='accuracy',\n",
    "                             cv=3,\n",
    "                             n_jobs=-1,\n",
    "                             random_state=1\n",
    "                             )\n",
    "random_xgb_poly_ovsp.fit(X_train_poly_ovsp, y_train_poly_ovsp)\n",
    "\n",
    "be_poly_ovsp = random_xgb_poly_ovsp.best_estimator_\n",
    "pd.Series(be_poly_ovsp.feature_importances_, index=X_train_poly_ovsp.columns).sort_values(ascending=False)"
   ]
  },
  {
   "cell_type": "code",
   "execution_count": 125,
   "metadata": {},
   "outputs": [
    {
     "name": "stdout",
     "output_type": "stream",
     "text": [
      "train accuracy : 0.8394480113399483\n",
      "validation accuracy : 0.7829763246899661\n"
     ]
    }
   ],
   "source": [
    "pred_train_poly_ovsp = random_xgb_poly_ovsp.predict(X_train_poly_ovsp)\n",
    "pred_val_poly_ovsp = random_xgb_poly_ovsp.predict(X_val_poly)\n",
    "\n",
    "print('train accuracy :', accuracy_score(y_train_poly_ovsp, pred_train_poly_ovsp))\n",
    "print('validation accuracy :', accuracy_score(y_val, pred_val_poly_ovsp))"
   ]
  }
 ],
 "metadata": {
  "kernelspec": {
   "display_name": "Python 3",
   "language": "python",
   "name": "python3"
  },
  "language_info": {
   "codemirror_mode": {
    "name": "ipython",
    "version": 3
   },
   "file_extension": ".py",
   "mimetype": "text/x-python",
   "name": "python",
   "nbconvert_exporter": "python",
   "pygments_lexer": "ipython3",
   "version": "3.7.10"
  }
 },
 "nbformat": 4,
 "nbformat_minor": 4
}
