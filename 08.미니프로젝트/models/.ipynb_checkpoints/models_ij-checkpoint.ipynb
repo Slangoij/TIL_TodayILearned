{
 "cells": [
  {
   "cell_type": "code",
   "execution_count": 53,
   "metadata": {},
   "outputs": [],
   "source": [
    "# def fit_metrics_print(model, X_train, y_train, X_val, y_val):\n",
    "#     from sklearn.metrics import accuracy_score, classification_report\n",
    "#     model.fit(X_train, y_train)\n",
    "    \n",
    "#     pred_train = model.predict(X_train)\n",
    "#     pred_val = model.predict(X_val)\n",
    "#     print(model)\n",
    "#     print()\n",
    "#     print('train accuracy :', accuracy_score(y_train, pred_train))\n",
    "#     print('validation accuracy :', accuracy_score(y_val, pred_val))\n",
    "#     print('='*60)"
   ]
  },
  {
   "cell_type": "code",
   "execution_count": 145,
   "metadata": {},
   "outputs": [],
   "source": [
    "import pandas as pd\n",
    "import numpy as np\n",
    "from sklearn.model_selection import RandomizedSearchCV, GridSearchCV\n",
    "from sklearn.model_selection import train_test_split\n",
    "from sklearn.metrics import accuracy_score, classification_report"
   ]
  },
  {
   "cell_type": "code",
   "execution_count": 146,
   "metadata": {},
   "outputs": [],
   "source": [
    "X = pd.read_csv('../data/prepcd_train.csv')\n",
    "X.drop(columns='target', inplace=True)\n",
    "y = pd.read_csv('../data/prepcd_train.csv')['target']\n",
    "X_test = pd.read_csv('../data/prepcd_test.csv')"
   ]
  },
  {
   "cell_type": "code",
   "execution_count": 158,
   "metadata": {},
   "outputs": [
    {
     "data": {
      "text/plain": [
       "((14368, 31), (4790, 31), (14368,), (4790,))"
      ]
     },
     "execution_count": 158,
     "metadata": {},
     "output_type": "execute_result"
    }
   ],
   "source": [
    "X_train, X_val, y_train, y_val = train_test_split(X, y, stratify=y, shuffle=True, random_state=1)\n",
    "X_train.shape, X_val.shape, y_train.shape, y_val.shape"
   ]
  },
  {
   "cell_type": "markdown",
   "metadata": {},
   "source": [
    "### Polynomial 컬럼 추가(Trial&Error) XGBoost모델 feature_importances_ 기준"
   ]
  },
  {
   "cell_type": "code",
   "execution_count": 159,
   "metadata": {},
   "outputs": [],
   "source": [
    "from sklearn.preprocessing import PolynomialFeatures\n",
    "\n",
    "poly_f = PolynomialFeatures(degree=2, include_bias=False)\n",
    "poly_f1 = PolynomialFeatures(degree=2, include_bias=False)\n",
    "\n",
    "poly_train = poly_f.fit_transform(X.loc[:,X.columns.isin(to_poly_lst)])\n",
    "poly_test = poly_f1.fit_transform(X_test.loc[:,X_test.columns.isin(to_poly_lst)])\n",
    "\n",
    "X_train_poly = pd.DataFrame(poly_train, columns=poly_f.get_feature_names())\n",
    "X_test_poly = pd.DataFrame(poly_test, columns=poly_f1.get_feature_names())\n",
    "# def add_poly(df, rangelist, degree=2):\n",
    "#     df_new = df.copy()\n",
    "#     poly_f = PolynomialFeatures(degree=degree, include_bias=False)\n",
    "#     poly = poly_f.fit_transform(X)\n",
    "\n",
    "X = pd.concat([X, X_train_poly], axis=1)\n",
    "X_test = pd.concat([X_test, X_test_poly], axis=1)"
   ]
  },
  {
   "cell_type": "code",
   "execution_count": 160,
   "metadata": {},
   "outputs": [
    {
     "name": "stdout",
     "output_type": "stream",
     "text": [
      "<class 'pandas.core.frame.DataFrame'>\n",
      "RangeIndex: 19158 entries, 0 to 19157\n",
      "Data columns (total 66 columns):\n",
      " #   Column                      Non-Null Count  Dtype  \n",
      "---  ------                      --------------  -----  \n",
      " 0   x0_Female                   19158 non-null  float64\n",
      " 1   x0_Male                     19158 non-null  float64\n",
      " 2   x0_Other                    19158 non-null  float64\n",
      " 3   x1_Has relevent experience  19158 non-null  float64\n",
      " 4   x1_No relevent experience   19158 non-null  float64\n",
      " 5   x2_major                    19158 non-null  float64\n",
      " 6   x2_no_major                 19158 non-null  float64\n",
      " 7   x3_10/49                    19158 non-null  float64\n",
      " 8   x3_100-500                  19158 non-null  float64\n",
      " 9   x3_1000-4999                19158 non-null  float64\n",
      " 10  x3_10000+                   19158 non-null  float64\n",
      " 11  x3_50-99                    19158 non-null  float64\n",
      " 12  x3_500-999                  19158 non-null  float64\n",
      " 13  x3_5000-9999                19158 non-null  float64\n",
      " 14  x3_unknown                  19158 non-null  float64\n",
      " 15  x3_~10                      19158 non-null  float64\n",
      " 16  x4_Early Stage Startup      19158 non-null  float64\n",
      " 17  x4_Funded Startup           19158 non-null  float64\n",
      " 18  x4_NGO                      19158 non-null  float64\n",
      " 19  x4_Other                    19158 non-null  float64\n",
      " 20  x4_Public Sector            19158 non-null  float64\n",
      " 21  x4_Pvt Ltd                  19158 non-null  float64\n",
      " 22  x4_unknown                  19158 non-null  float64\n",
      " 23  enrollee_id                 19158 non-null  float64\n",
      " 24  city                        19158 non-null  float64\n",
      " 25  city_development_index      19158 non-null  float64\n",
      " 26  enrolled_university         19158 non-null  float64\n",
      " 27  education_level             19158 non-null  float64\n",
      " 28  experience                  19158 non-null  float64\n",
      " 29  last_new_job                19158 non-null  float64\n",
      " 30  training_hours              19158 non-null  float64\n",
      " 31  x0                          19158 non-null  float64\n",
      " 32  x1                          19158 non-null  float64\n",
      " 33  x2                          19158 non-null  float64\n",
      " 34  x3                          19158 non-null  float64\n",
      " 35  x4                          19158 non-null  float64\n",
      " 36  x5                          19158 non-null  float64\n",
      " 37  x6                          19158 non-null  float64\n",
      " 38  x0^2                        19158 non-null  float64\n",
      " 39  x0 x1                       19158 non-null  float64\n",
      " 40  x0 x2                       19158 non-null  float64\n",
      " 41  x0 x3                       19158 non-null  float64\n",
      " 42  x0 x4                       19158 non-null  float64\n",
      " 43  x0 x5                       19158 non-null  float64\n",
      " 44  x0 x6                       19158 non-null  float64\n",
      " 45  x1^2                        19158 non-null  float64\n",
      " 46  x1 x2                       19158 non-null  float64\n",
      " 47  x1 x3                       19158 non-null  float64\n",
      " 48  x1 x4                       19158 non-null  float64\n",
      " 49  x1 x5                       19158 non-null  float64\n",
      " 50  x1 x6                       19158 non-null  float64\n",
      " 51  x2^2                        19158 non-null  float64\n",
      " 52  x2 x3                       19158 non-null  float64\n",
      " 53  x2 x4                       19158 non-null  float64\n",
      " 54  x2 x5                       19158 non-null  float64\n",
      " 55  x2 x6                       19158 non-null  float64\n",
      " 56  x3^2                        19158 non-null  float64\n",
      " 57  x3 x4                       19158 non-null  float64\n",
      " 58  x3 x5                       19158 non-null  float64\n",
      " 59  x3 x6                       19158 non-null  float64\n",
      " 60  x4^2                        19158 non-null  float64\n",
      " 61  x4 x5                       19158 non-null  float64\n",
      " 62  x4 x6                       19158 non-null  float64\n",
      " 63  x5^2                        19158 non-null  float64\n",
      " 64  x5 x6                       19158 non-null  float64\n",
      " 65  x6^2                        19158 non-null  float64\n",
      "dtypes: float64(66)\n",
      "memory usage: 9.6 MB\n"
     ]
    }
   ],
   "source": [
    "X.info()"
   ]
  },
  {
   "cell_type": "code",
   "execution_count": 161,
   "metadata": {},
   "outputs": [
    {
     "data": {
      "text/plain": [
       "0        1.0\n",
       "1        0.0\n",
       "2        0.0\n",
       "3        1.0\n",
       "4        0.0\n",
       "        ... \n",
       "19153    1.0\n",
       "19154    1.0\n",
       "19155    0.0\n",
       "19156    0.0\n",
       "19157    0.0\n",
       "Name: target, Length: 19158, dtype: float64"
      ]
     },
     "execution_count": 161,
     "metadata": {},
     "output_type": "execute_result"
    }
   ],
   "source": [
    "y"
   ]
  },
  {
   "cell_type": "code",
   "execution_count": 163,
   "metadata": {},
   "outputs": [
    {
     "data": {
      "text/plain": [
       "((14368, 66), (4790, 66), (14368,), (4790,))"
      ]
     },
     "execution_count": 163,
     "metadata": {},
     "output_type": "execute_result"
    }
   ],
   "source": [
    "X_train_poly, X_val_poly, y_train_poly, y_val_poly = train_test_split(X, y, stratify=y, shuffle=True, random_state=1)\n",
    "X_train_poly.shape, X_val_poly.shape, y_train_poly.shape, y_val_poly.shape"
   ]
  },
  {
   "cell_type": "code",
   "execution_count": 137,
   "metadata": {},
   "outputs": [],
   "source": [
    "# !pip install imblearn"
   ]
  },
  {
   "cell_type": "code",
   "execution_count": 138,
   "metadata": {},
   "outputs": [],
   "source": [
    "# from sklearn.decomposition import PCA\n",
    "from imblearn.over_sampling import SMOTE\n",
    "\n",
    "# oversample = SMOTE()\n",
    "# sm = SMOTE(ratio='auto', kind='regular')\n",
    "sm = SMOTE(random_state=0)\n",
    "X_train, y_train = sm.fit_resample(X_train, list(y_train))"
   ]
  },
  {
   "cell_type": "code",
   "execution_count": 139,
   "metadata": {},
   "outputs": [
    {
     "data": {
      "text/html": [
       "<div>\n",
       "<style scoped>\n",
       "    .dataframe tbody tr th:only-of-type {\n",
       "        vertical-align: middle;\n",
       "    }\n",
       "\n",
       "    .dataframe tbody tr th {\n",
       "        vertical-align: top;\n",
       "    }\n",
       "\n",
       "    .dataframe thead th {\n",
       "        text-align: right;\n",
       "    }\n",
       "</style>\n",
       "<table border=\"1\" class=\"dataframe\">\n",
       "  <thead>\n",
       "    <tr style=\"text-align: right;\">\n",
       "      <th></th>\n",
       "      <th>x0_Female</th>\n",
       "      <th>x0_Male</th>\n",
       "      <th>x0_Other</th>\n",
       "      <th>x1_Has relevent experience</th>\n",
       "      <th>x1_No relevent experience</th>\n",
       "      <th>x2_major</th>\n",
       "      <th>x2_no_major</th>\n",
       "      <th>x3_10/49</th>\n",
       "      <th>x3_100-500</th>\n",
       "      <th>x3_1000-4999</th>\n",
       "      <th>...</th>\n",
       "      <th>x2^2</th>\n",
       "      <th>x2 x3</th>\n",
       "      <th>x2 x4</th>\n",
       "      <th>x2 x5</th>\n",
       "      <th>x3^2</th>\n",
       "      <th>x3 x4</th>\n",
       "      <th>x3 x5</th>\n",
       "      <th>x4^2</th>\n",
       "      <th>x4 x5</th>\n",
       "      <th>x5^2</th>\n",
       "    </tr>\n",
       "  </thead>\n",
       "  <tbody>\n",
       "    <tr>\n",
       "      <th>0</th>\n",
       "      <td>-0.472345</td>\n",
       "      <td>0.488271</td>\n",
       "      <td>-0.10101</td>\n",
       "      <td>-1.601582</td>\n",
       "      <td>1.601582</td>\n",
       "      <td>0.326356</td>\n",
       "      <td>-0.326356</td>\n",
       "      <td>-0.289204</td>\n",
       "      <td>2.523548</td>\n",
       "      <td>-0.272457</td>\n",
       "      <td>...</td>\n",
       "      <td>0.44544</td>\n",
       "      <td>0.455973</td>\n",
       "      <td>0.359070</td>\n",
       "      <td>0.131235</td>\n",
       "      <td>0.466754</td>\n",
       "      <td>0.367561</td>\n",
       "      <td>0.134338</td>\n",
       "      <td>0.289448</td>\n",
       "      <td>0.105789</td>\n",
       "      <td>0.038664</td>\n",
       "    </tr>\n",
       "    <tr>\n",
       "      <th>1</th>\n",
       "      <td>-0.472345</td>\n",
       "      <td>0.488271</td>\n",
       "      <td>-0.10101</td>\n",
       "      <td>0.624383</td>\n",
       "      <td>-0.624383</td>\n",
       "      <td>0.326356</td>\n",
       "      <td>-0.326356</td>\n",
       "      <td>-0.289204</td>\n",
       "      <td>-0.396268</td>\n",
       "      <td>-0.272457</td>\n",
       "      <td>...</td>\n",
       "      <td>0.44544</td>\n",
       "      <td>0.455973</td>\n",
       "      <td>1.104641</td>\n",
       "      <td>0.131235</td>\n",
       "      <td>0.466754</td>\n",
       "      <td>1.130760</td>\n",
       "      <td>0.134338</td>\n",
       "      <td>2.739382</td>\n",
       "      <td>0.325448</td>\n",
       "      <td>0.038664</td>\n",
       "    </tr>\n",
       "    <tr>\n",
       "      <th>2</th>\n",
       "      <td>-0.472345</td>\n",
       "      <td>0.488271</td>\n",
       "      <td>-0.10101</td>\n",
       "      <td>-1.601582</td>\n",
       "      <td>1.601582</td>\n",
       "      <td>0.326356</td>\n",
       "      <td>-0.326356</td>\n",
       "      <td>-0.289204</td>\n",
       "      <td>-0.396268</td>\n",
       "      <td>-0.272457</td>\n",
       "      <td>...</td>\n",
       "      <td>2.24497</td>\n",
       "      <td>2.193114</td>\n",
       "      <td>1.110258</td>\n",
       "      <td>-0.294618</td>\n",
       "      <td>2.142456</td>\n",
       "      <td>1.084612</td>\n",
       "      <td>-0.287813</td>\n",
       "      <td>0.549082</td>\n",
       "      <td>-0.145705</td>\n",
       "      <td>0.038664</td>\n",
       "    </tr>\n",
       "    <tr>\n",
       "      <th>3</th>\n",
       "      <td>-0.472345</td>\n",
       "      <td>0.488271</td>\n",
       "      <td>-0.10101</td>\n",
       "      <td>-1.601582</td>\n",
       "      <td>1.601582</td>\n",
       "      <td>0.326356</td>\n",
       "      <td>-0.326356</td>\n",
       "      <td>-0.289204</td>\n",
       "      <td>-0.396268</td>\n",
       "      <td>-0.272457</td>\n",
       "      <td>...</td>\n",
       "      <td>0.44544</td>\n",
       "      <td>0.455973</td>\n",
       "      <td>1.104641</td>\n",
       "      <td>0.131235</td>\n",
       "      <td>0.466754</td>\n",
       "      <td>1.130760</td>\n",
       "      <td>0.134338</td>\n",
       "      <td>2.739382</td>\n",
       "      <td>0.325448</td>\n",
       "      <td>0.038664</td>\n",
       "    </tr>\n",
       "    <tr>\n",
       "      <th>4</th>\n",
       "      <td>-0.472345</td>\n",
       "      <td>0.488271</td>\n",
       "      <td>-0.10101</td>\n",
       "      <td>0.624383</td>\n",
       "      <td>-0.624383</td>\n",
       "      <td>0.326356</td>\n",
       "      <td>-0.326356</td>\n",
       "      <td>-0.289204</td>\n",
       "      <td>-0.396268</td>\n",
       "      <td>-0.272457</td>\n",
       "      <td>...</td>\n",
       "      <td>0.44544</td>\n",
       "      <td>0.455973</td>\n",
       "      <td>-0.494554</td>\n",
       "      <td>0.131235</td>\n",
       "      <td>0.466754</td>\n",
       "      <td>-0.506247</td>\n",
       "      <td>0.134338</td>\n",
       "      <td>0.549082</td>\n",
       "      <td>-0.145705</td>\n",
       "      <td>0.038664</td>\n",
       "    </tr>\n",
       "    <tr>\n",
       "      <th>...</th>\n",
       "      <td>...</td>\n",
       "      <td>...</td>\n",
       "      <td>...</td>\n",
       "      <td>...</td>\n",
       "      <td>...</td>\n",
       "      <td>...</td>\n",
       "      <td>...</td>\n",
       "      <td>...</td>\n",
       "      <td>...</td>\n",
       "      <td>...</td>\n",
       "      <td>...</td>\n",
       "      <td>...</td>\n",
       "      <td>...</td>\n",
       "      <td>...</td>\n",
       "      <td>...</td>\n",
       "      <td>...</td>\n",
       "      <td>...</td>\n",
       "      <td>...</td>\n",
       "      <td>...</td>\n",
       "      <td>...</td>\n",
       "      <td>...</td>\n",
       "    </tr>\n",
       "    <tr>\n",
       "      <th>21565</th>\n",
       "      <td>-0.472345</td>\n",
       "      <td>0.488271</td>\n",
       "      <td>-0.10101</td>\n",
       "      <td>0.624383</td>\n",
       "      <td>-0.624383</td>\n",
       "      <td>0.326356</td>\n",
       "      <td>-0.326356</td>\n",
       "      <td>-0.289204</td>\n",
       "      <td>-0.396268</td>\n",
       "      <td>-0.272457</td>\n",
       "      <td>...</td>\n",
       "      <td>0.44544</td>\n",
       "      <td>0.455973</td>\n",
       "      <td>1.104641</td>\n",
       "      <td>0.131235</td>\n",
       "      <td>0.466754</td>\n",
       "      <td>1.130760</td>\n",
       "      <td>0.134338</td>\n",
       "      <td>2.739382</td>\n",
       "      <td>0.325448</td>\n",
       "      <td>0.038664</td>\n",
       "    </tr>\n",
       "    <tr>\n",
       "      <th>21566</th>\n",
       "      <td>-0.472345</td>\n",
       "      <td>0.488271</td>\n",
       "      <td>-0.10101</td>\n",
       "      <td>-1.601582</td>\n",
       "      <td>1.601582</td>\n",
       "      <td>0.326356</td>\n",
       "      <td>-0.326356</td>\n",
       "      <td>-0.289204</td>\n",
       "      <td>0.264747</td>\n",
       "      <td>-0.272457</td>\n",
       "      <td>...</td>\n",
       "      <td>0.44544</td>\n",
       "      <td>0.455973</td>\n",
       "      <td>-0.450522</td>\n",
       "      <td>1.086311</td>\n",
       "      <td>0.466754</td>\n",
       "      <td>-0.461174</td>\n",
       "      <td>1.111997</td>\n",
       "      <td>0.470534</td>\n",
       "      <td>-1.098703</td>\n",
       "      <td>2.649226</td>\n",
       "    </tr>\n",
       "    <tr>\n",
       "      <th>21567</th>\n",
       "      <td>-0.472345</td>\n",
       "      <td>0.488271</td>\n",
       "      <td>-0.10101</td>\n",
       "      <td>0.624383</td>\n",
       "      <td>-0.624383</td>\n",
       "      <td>0.326356</td>\n",
       "      <td>-0.326356</td>\n",
       "      <td>-0.289204</td>\n",
       "      <td>-0.396268</td>\n",
       "      <td>-0.272457</td>\n",
       "      <td>...</td>\n",
       "      <td>2.24497</td>\n",
       "      <td>2.193114</td>\n",
       "      <td>-1.657983</td>\n",
       "      <td>-0.294618</td>\n",
       "      <td>2.142456</td>\n",
       "      <td>-1.619686</td>\n",
       "      <td>-0.287813</td>\n",
       "      <td>1.224786</td>\n",
       "      <td>0.217585</td>\n",
       "      <td>0.038664</td>\n",
       "    </tr>\n",
       "    <tr>\n",
       "      <th>21568</th>\n",
       "      <td>-0.472345</td>\n",
       "      <td>0.488271</td>\n",
       "      <td>-0.10101</td>\n",
       "      <td>0.624383</td>\n",
       "      <td>-0.624383</td>\n",
       "      <td>0.326356</td>\n",
       "      <td>-0.326356</td>\n",
       "      <td>-0.289204</td>\n",
       "      <td>-0.396268</td>\n",
       "      <td>-0.272457</td>\n",
       "      <td>...</td>\n",
       "      <td>2.24497</td>\n",
       "      <td>2.193114</td>\n",
       "      <td>-2.479885</td>\n",
       "      <td>-0.294618</td>\n",
       "      <td>2.142456</td>\n",
       "      <td>-2.422603</td>\n",
       "      <td>-0.287813</td>\n",
       "      <td>2.739382</td>\n",
       "      <td>0.325448</td>\n",
       "      <td>0.038664</td>\n",
       "    </tr>\n",
       "    <tr>\n",
       "      <th>21569</th>\n",
       "      <td>-0.472345</td>\n",
       "      <td>0.488271</td>\n",
       "      <td>-0.10101</td>\n",
       "      <td>0.624383</td>\n",
       "      <td>-0.624383</td>\n",
       "      <td>0.326356</td>\n",
       "      <td>-0.326356</td>\n",
       "      <td>-0.289204</td>\n",
       "      <td>-0.396268</td>\n",
       "      <td>-0.272457</td>\n",
       "      <td>...</td>\n",
       "      <td>0.44544</td>\n",
       "      <td>0.455973</td>\n",
       "      <td>1.104641</td>\n",
       "      <td>0.131235</td>\n",
       "      <td>0.466754</td>\n",
       "      <td>1.130760</td>\n",
       "      <td>0.134338</td>\n",
       "      <td>2.739382</td>\n",
       "      <td>0.325448</td>\n",
       "      <td>0.038664</td>\n",
       "    </tr>\n",
       "  </tbody>\n",
       "</table>\n",
       "<p>21570 rows × 58 columns</p>\n",
       "</div>"
      ],
      "text/plain": [
       "       x0_Female   x0_Male  x0_Other  x1_Has relevent experience  \\\n",
       "0      -0.472345  0.488271  -0.10101                   -1.601582   \n",
       "1      -0.472345  0.488271  -0.10101                    0.624383   \n",
       "2      -0.472345  0.488271  -0.10101                   -1.601582   \n",
       "3      -0.472345  0.488271  -0.10101                   -1.601582   \n",
       "4      -0.472345  0.488271  -0.10101                    0.624383   \n",
       "...          ...       ...       ...                         ...   \n",
       "21565  -0.472345  0.488271  -0.10101                    0.624383   \n",
       "21566  -0.472345  0.488271  -0.10101                   -1.601582   \n",
       "21567  -0.472345  0.488271  -0.10101                    0.624383   \n",
       "21568  -0.472345  0.488271  -0.10101                    0.624383   \n",
       "21569  -0.472345  0.488271  -0.10101                    0.624383   \n",
       "\n",
       "       x1_No relevent experience  x2_major  x2_no_major  x3_10/49  x3_100-500  \\\n",
       "0                       1.601582  0.326356    -0.326356 -0.289204    2.523548   \n",
       "1                      -0.624383  0.326356    -0.326356 -0.289204   -0.396268   \n",
       "2                       1.601582  0.326356    -0.326356 -0.289204   -0.396268   \n",
       "3                       1.601582  0.326356    -0.326356 -0.289204   -0.396268   \n",
       "4                      -0.624383  0.326356    -0.326356 -0.289204   -0.396268   \n",
       "...                          ...       ...          ...       ...         ...   \n",
       "21565                  -0.624383  0.326356    -0.326356 -0.289204   -0.396268   \n",
       "21566                   1.601582  0.326356    -0.326356 -0.289204    0.264747   \n",
       "21567                  -0.624383  0.326356    -0.326356 -0.289204   -0.396268   \n",
       "21568                  -0.624383  0.326356    -0.326356 -0.289204   -0.396268   \n",
       "21569                  -0.624383  0.326356    -0.326356 -0.289204   -0.396268   \n",
       "\n",
       "       x3_1000-4999  ...     x2^2     x2 x3     x2 x4     x2 x5      x3^2  \\\n",
       "0         -0.272457  ...  0.44544  0.455973  0.359070  0.131235  0.466754   \n",
       "1         -0.272457  ...  0.44544  0.455973  1.104641  0.131235  0.466754   \n",
       "2         -0.272457  ...  2.24497  2.193114  1.110258 -0.294618  2.142456   \n",
       "3         -0.272457  ...  0.44544  0.455973  1.104641  0.131235  0.466754   \n",
       "4         -0.272457  ...  0.44544  0.455973 -0.494554  0.131235  0.466754   \n",
       "...             ...  ...      ...       ...       ...       ...       ...   \n",
       "21565     -0.272457  ...  0.44544  0.455973  1.104641  0.131235  0.466754   \n",
       "21566     -0.272457  ...  0.44544  0.455973 -0.450522  1.086311  0.466754   \n",
       "21567     -0.272457  ...  2.24497  2.193114 -1.657983 -0.294618  2.142456   \n",
       "21568     -0.272457  ...  2.24497  2.193114 -2.479885 -0.294618  2.142456   \n",
       "21569     -0.272457  ...  0.44544  0.455973  1.104641  0.131235  0.466754   \n",
       "\n",
       "          x3 x4     x3 x5      x4^2     x4 x5      x5^2  \n",
       "0      0.367561  0.134338  0.289448  0.105789  0.038664  \n",
       "1      1.130760  0.134338  2.739382  0.325448  0.038664  \n",
       "2      1.084612 -0.287813  0.549082 -0.145705  0.038664  \n",
       "3      1.130760  0.134338  2.739382  0.325448  0.038664  \n",
       "4     -0.506247  0.134338  0.549082 -0.145705  0.038664  \n",
       "...         ...       ...       ...       ...       ...  \n",
       "21565  1.130760  0.134338  2.739382  0.325448  0.038664  \n",
       "21566 -0.461174  1.111997  0.470534 -1.098703  2.649226  \n",
       "21567 -1.619686 -0.287813  1.224786  0.217585  0.038664  \n",
       "21568 -2.422603 -0.287813  2.739382  0.325448  0.038664  \n",
       "21569  1.130760  0.134338  2.739382  0.325448  0.038664  \n",
       "\n",
       "[21570 rows x 58 columns]"
      ]
     },
     "execution_count": 139,
     "metadata": {},
     "output_type": "execute_result"
    }
   ],
   "source": [
    "X_train"
   ]
  },
  {
   "cell_type": "code",
   "execution_count": 140,
   "metadata": {},
   "outputs": [
    {
     "data": {
      "text/plain": [
       "(21570, (21570, 58))"
      ]
     },
     "execution_count": 140,
     "metadata": {},
     "output_type": "execute_result"
    }
   ],
   "source": [
    "len(y_train), X_train.shape"
   ]
  },
  {
   "cell_type": "markdown",
   "metadata": {},
   "source": [
    "# Decision Tree"
   ]
  },
  {
   "cell_type": "code",
   "execution_count": 154,
   "metadata": {
    "scrolled": true
   },
   "outputs": [
    {
     "data": {
      "text/plain": [
       "array([0.01217373, 0.01059961, 0.00403256, 0.00712578, 0.00578641,\n",
       "       0.00652435, 0.00655075, 0.00672643, 0.00830162, 0.00731365,\n",
       "       0.00513266, 0.00748059, 0.0037365 , 0.00428348, 0.06832079,\n",
       "       0.0054625 , 0.00478772, 0.0050353 , 0.00338973, 0.00175522,\n",
       "       0.00573019, 0.00806565, 0.00824937, 0.20306308, 0.05872666,\n",
       "       0.18737826, 0.01914687, 0.04348345, 0.09000388, 0.03621712,\n",
       "       0.15541609])"
      ]
     },
     "execution_count": 154,
     "metadata": {},
     "output_type": "execute_result"
    }
   ],
   "source": [
    "# 학습\n",
    "from sklearn.tree import DecisionTreeClassifier\n",
    "tree = DecisionTreeClassifier()\n",
    "tree.fit(X_train, y_train)\n",
    "\n",
    "tree.feature_importances_"
   ]
  },
  {
   "cell_type": "code",
   "execution_count": 155,
   "metadata": {},
   "outputs": [
    {
     "name": "stdout",
     "output_type": "stream",
     "text": [
      "train accuracy : 1.0\n",
      "validation accuracy : 0.7035490605427975\n"
     ]
    }
   ],
   "source": [
    "# 검증\n",
    "from sklearn.metrics import accuracy_score, classification_report\n",
    "\n",
    "pred_train = tree.predict(X_train)\n",
    "pred_val = tree.predict(X_val)\n",
    "\n",
    "print('train accuracy :', accuracy_score(y_train, pred_train))\n",
    "print('validation accuracy :', accuracy_score(y_val, pred_val))"
   ]
  },
  {
   "cell_type": "code",
   "execution_count": 156,
   "metadata": {},
   "outputs": [
    {
     "name": "stdout",
     "output_type": "stream",
     "text": [
      "train accuracy : 1.0\n",
      "validation accuracy : 0.7035490605427975\n"
     ]
    }
   ],
   "source": [
    "# 검증\n",
    "from sklearn.metrics import accuracy_score, classification_report\n",
    "\n",
    "pred_train = tree.predict(X_train)\n",
    "pred_val = tree.predict(X_val)\n",
    "\n",
    "print('train accuracy :', accuracy_score(y_train, pred_train))\n",
    "print('validation accuracy :', accuracy_score(y_val, pred_val))"
   ]
  },
  {
   "cell_type": "markdown",
   "metadata": {},
   "source": [
    "## gridsearch"
   ]
  },
  {
   "cell_type": "code",
   "execution_count": 68,
   "metadata": {},
   "outputs": [
    {
     "name": "stderr",
     "output_type": "stream",
     "text": [
      "c:\\users\\inje.jeong\\anaconda3\\envs\\ml\\lib\\site-packages\\sklearn\\model_selection\\_search.py:921: UserWarning: One or more of the test scores are non-finite: [       nan 0.70690774 0.70690774 0.70690774 0.70690774 0.70690774\n",
      " 0.70690774 0.70690774 0.70690774 0.70690774        nan 0.70690774\n",
      " 0.76838201 0.76838201 0.76838201 0.76838201 0.76838201 0.76838201\n",
      " 0.76838201 0.76838201        nan 0.70690774 0.76838201 0.76838201\n",
      " 0.79388039 0.79388039 0.7865554  0.7865554  0.7865554  0.7865554\n",
      "        nan 0.70690774 0.76838201 0.76838201 0.79388039 0.77649513\n",
      " 0.77436254 0.76402411 0.76560037 0.76560037        nan 0.70690774\n",
      " 0.76838201 0.76838201 0.79388039 0.77649513 0.77649513 0.77436254\n",
      " 0.76402411 0.77023644        nan 0.70690774 0.76838201 0.76838201\n",
      " 0.79388039 0.77649513 0.77649513 0.77436254 0.74483078 0.74265183\n",
      "        nan 0.70690774 0.76838201 0.76838201 0.79388039 0.77649513\n",
      " 0.77649513 0.77436254 0.74483078 0.74265183        nan 0.70690774\n",
      " 0.76838201 0.76838201 0.79388039 0.77649513 0.77649513 0.77436254\n",
      " 0.74483078 0.74265183        nan 0.70690774 0.76838201 0.76838201\n",
      " 0.79388039 0.77649513 0.77649513 0.77436254 0.74483078 0.74265183\n",
      "        nan 0.70690774 0.76838201 0.76838201 0.79388039 0.77649513\n",
      " 0.77649513 0.77436254 0.74483078 0.74265183]\n",
      "  category=UserWarning\n"
     ]
    },
    {
     "data": {
      "text/plain": [
       "GridSearchCV(cv=3, estimator=DecisionTreeClassifier(), n_jobs=-1,\n",
       "             param_grid={'max_depth': range(1, 11),\n",
       "                         'max_leaf_nodes': range(1, 11), 'random_state': [1]},\n",
       "             scoring='accuracy')"
      ]
     },
     "execution_count": 68,
     "metadata": {},
     "output_type": "execute_result"
    }
   ],
   "source": [
    "from sklearn.model_selection import GridSearchCV\n",
    "\n",
    "param_grid = dict(\n",
    "    max_depth=range(1, 11),\n",
    "    max_leaf_nodes=range(1, 11),\n",
    "    random_state=[1]\n",
    ")\n",
    "\n",
    "grid_tree = GridSearchCV(tree,\n",
    "                         param_grid=param_grid,\n",
    "                         scoring='accuracy',\n",
    "                         cv=3,\n",
    "                         n_jobs=-1)\n",
    "grid_tree.fit(X_train, y_train)"
   ]
  },
  {
   "cell_type": "code",
   "execution_count": 69,
   "metadata": {},
   "outputs": [
    {
     "data": {
      "text/plain": [
       "DecisionTreeClassifier(max_depth=3, max_leaf_nodes=5, random_state=1)"
      ]
     },
     "execution_count": 69,
     "metadata": {},
     "output_type": "execute_result"
    }
   ],
   "source": [
    "grid_tree.best_estimator_"
   ]
  },
  {
   "cell_type": "code",
   "execution_count": 70,
   "metadata": {},
   "outputs": [
    {
     "name": "stdout",
     "output_type": "stream",
     "text": [
      "train accuracy : 0.7950857672693555\n",
      "validation accuracy : 0.741544885177453\n"
     ]
    }
   ],
   "source": [
    "pred_train = grid_tree.predict(X_train)\n",
    "pred_val = grid_tree.predict(X_val)\n",
    "\n",
    "print('train accuracy :', accuracy_score(y_train, pred_train))\n",
    "print('validation accuracy :', accuracy_score(y_val, pred_val))"
   ]
  },
  {
   "cell_type": "code",
   "execution_count": null,
   "metadata": {},
   "outputs": [],
   "source": []
  },
  {
   "cell_type": "markdown",
   "metadata": {},
   "source": [
    "-----------------------------------\n",
    "# RandomForest"
   ]
  },
  {
   "cell_type": "code",
   "execution_count": 71,
   "metadata": {},
   "outputs": [
    {
     "data": {
      "text/plain": [
       "RandomForestClassifier(max_depth=7, max_features=12, n_estimators=200,\n",
       "                       random_state=1)"
      ]
     },
     "execution_count": 71,
     "metadata": {},
     "output_type": "execute_result"
    }
   ],
   "source": [
    "from sklearn.ensemble import RandomForestClassifier\n",
    "\n",
    "rf = RandomForestClassifier(max_depth=7, max_features=12, n_estimators=200,\n",
    "                       random_state=1)\n",
    "rf.fit(X_train, y_train)"
   ]
  },
  {
   "cell_type": "code",
   "execution_count": 72,
   "metadata": {},
   "outputs": [
    {
     "name": "stdout",
     "output_type": "stream",
     "text": [
      "train accuracy : 0.8526657394529439\n",
      "validation accuracy : 0.7782881002087683\n"
     ]
    }
   ],
   "source": [
    "pred_train = rf.predict(X_train)\n",
    "pred_val = rf.predict(X_val)\n",
    "\n",
    "print('train accuracy :', accuracy_score(y_train, pred_train))\n",
    "print('validation accuracy :', accuracy_score(y_val, pred_val))"
   ]
  },
  {
   "cell_type": "markdown",
   "metadata": {},
   "source": [
    "## gridsearch"
   ]
  },
  {
   "cell_type": "code",
   "execution_count": 49,
   "metadata": {},
   "outputs": [
    {
     "data": {
      "text/plain": [
       "GridSearchCV(cv=3, estimator=RandomForestClassifier(), n_jobs=-1,\n",
       "             param_grid={'max_depth': range(1, 11),\n",
       "                         'max_features': range(10, 13), 'n_estimators': [200],\n",
       "                         'random_state': [1]},\n",
       "             scoring='accuracy')"
      ]
     },
     "execution_count": 49,
     "metadata": {},
     "output_type": "execute_result"
    }
   ],
   "source": [
    "param_grid = dict(\n",
    "    n_estimators=[200],\n",
    "    max_features=range(10, 13),\n",
    "    max_depth=range(1, 11),\n",
    "    random_state=[1]\n",
    ")\n",
    "\n",
    "rf = RandomForestClassifier()\n",
    "grid_rf = GridSearchCV(rf,\n",
    "                       param_grid=param_grid,\n",
    "                       scoring='accuracy',\n",
    "                       cv=3,\n",
    "                       n_jobs=-1)\n",
    "grid_rf.fit(X_train, y_train)"
   ]
  },
  {
   "cell_type": "code",
   "execution_count": 50,
   "metadata": {},
   "outputs": [
    {
     "data": {
      "text/plain": [
       "RandomForestClassifier(max_depth=2, max_features=10, n_estimators=200,\n",
       "                       random_state=1)"
      ]
     },
     "execution_count": 50,
     "metadata": {},
     "output_type": "execute_result"
    }
   ],
   "source": [
    "grid_rf.best_estimator_"
   ]
  },
  {
   "cell_type": "code",
   "execution_count": 51,
   "metadata": {},
   "outputs": [
    {
     "name": "stdout",
     "output_type": "stream",
     "text": [
      "train accuracy : 1.0\n",
      "validation accuracy : 1.0\n"
     ]
    }
   ],
   "source": [
    "pred_train = grid_rf.predict(X_train)\n",
    "pred_val = grid_rf.predict(X_val)\n",
    "\n",
    "print('train accuracy :', accuracy_score(y_train, pred_train))\n",
    "print('validation accuracy :', accuracy_score(y_val, pred_val))"
   ]
  },
  {
   "cell_type": "markdown",
   "metadata": {},
   "source": [
    "-----------------------------------\n",
    "# KNeighborsClassifier"
   ]
  },
  {
   "cell_type": "code",
   "execution_count": 219,
   "metadata": {},
   "outputs": [
    {
     "data": {
      "text/plain": [
       "KNeighborsClassifier()"
      ]
     },
     "execution_count": 219,
     "metadata": {},
     "output_type": "execute_result"
    }
   ],
   "source": [
    "from sklearn.neighbors import KNeighborsClassifier\n",
    "\n",
    "knn = KNeighborsClassifier()\n",
    "knn.fit(X_train, y_train)"
   ]
  },
  {
   "cell_type": "code",
   "execution_count": 220,
   "metadata": {},
   "outputs": [
    {
     "name": "stdout",
     "output_type": "stream",
     "text": [
      "train accuracy : 0.843115438108484\n",
      "validation accuracy : 0.6342379958246347\n"
     ]
    }
   ],
   "source": [
    "pred_train = knn.predict(X_train)\n",
    "pred_val = knn.predict(X_val)\n",
    "\n",
    "print('train accuracy :', accuracy_score(y_train, pred_train))\n",
    "print('validation accuracy :', accuracy_score(y_val, pred_val))"
   ]
  },
  {
   "cell_type": "markdown",
   "metadata": {},
   "source": [
    "## gridsearch"
   ]
  },
  {
   "cell_type": "code",
   "execution_count": 221,
   "metadata": {},
   "outputs": [
    {
     "name": "stderr",
     "output_type": "stream",
     "text": [
      "c:\\users\\inje.jeong\\anaconda3\\envs\\ml\\lib\\site-packages\\sklearn\\model_selection\\_search.py:921: UserWarning: One or more of the test scores are non-finite: [0.79939731        nan        nan 0.74979138        nan 0.73022717\n",
      " 0.71831247        nan        nan]\n",
      "  category=UserWarning\n"
     ]
    },
    {
     "data": {
      "text/plain": [
       "GridSearchCV(cv=2, estimator=KNeighborsClassifier(), n_jobs=-1,\n",
       "             param_grid={'n_neighbors': range(1, 10)}, scoring='accuracy')"
      ]
     },
     "execution_count": 221,
     "metadata": {},
     "output_type": "execute_result"
    }
   ],
   "source": [
    "grid_knn = GridSearchCV(knn,\n",
    "                        param_grid=dict(n_neighbors=range(1, 10)),\n",
    "                        scoring='accuracy',\n",
    "                        n_jobs=-1,\n",
    "                        cv=2,\n",
    "                       )\n",
    "grid_knn.fit(X_train, y_train)"
   ]
  },
  {
   "cell_type": "code",
   "execution_count": 222,
   "metadata": {},
   "outputs": [
    {
     "data": {
      "text/plain": [
       "KNeighborsClassifier(n_neighbors=1)"
      ]
     },
     "execution_count": 222,
     "metadata": {},
     "output_type": "execute_result"
    }
   ],
   "source": [
    "grid_knn.best_estimator_"
   ]
  },
  {
   "cell_type": "code",
   "execution_count": 223,
   "metadata": {},
   "outputs": [
    {
     "name": "stdout",
     "output_type": "stream",
     "text": [
      "train accuracy : 0.9990264255910988\n",
      "validation accuracy : 0.6494780793319416\n"
     ]
    }
   ],
   "source": [
    "pred_train = grid_knn.predict(X_train)\n",
    "pred_val = grid_knn.predict(X_val)\n",
    "\n",
    "print('train accuracy :', accuracy_score(y_train, pred_train))\n",
    "print('validation accuracy :', accuracy_score(y_val, pred_val))"
   ]
  },
  {
   "cell_type": "markdown",
   "metadata": {},
   "source": [
    "-----------------------------------\n",
    "# svc"
   ]
  },
  {
   "cell_type": "markdown",
   "metadata": {},
   "source": [
    "#### poly이전"
   ]
  },
  {
   "cell_type": "code",
   "execution_count": 224,
   "metadata": {},
   "outputs": [
    {
     "data": {
      "text/plain": [
       "SVC()"
      ]
     },
     "execution_count": 224,
     "metadata": {},
     "output_type": "execute_result"
    }
   ],
   "source": [
    "from sklearn.svm import SVC\n",
    "\n",
    "svc = SVC()\n",
    "svc.fit(X_train, y_train)"
   ]
  },
  {
   "cell_type": "code",
   "execution_count": 225,
   "metadata": {},
   "outputs": [
    {
     "name": "stdout",
     "output_type": "stream",
     "text": [
      "train accuracy : 0.6245711636532221\n",
      "validation accuracy : 0.6549060542797495\n"
     ]
    }
   ],
   "source": [
    "pred_train = svc.predict(X_train)\n",
    "pred_val = svc.predict(X_val)\n",
    "\n",
    "print('train accuracy :', accuracy_score(y_train, pred_train))\n",
    "print('validation accuracy :', accuracy_score(y_val, pred_val))"
   ]
  },
  {
   "cell_type": "markdown",
   "metadata": {},
   "source": [
    "#### poly이후"
   ]
  },
  {
   "cell_type": "code",
   "execution_count": 224,
   "metadata": {},
   "outputs": [
    {
     "data": {
      "text/plain": [
       "SVC()"
      ]
     },
     "execution_count": 224,
     "metadata": {},
     "output_type": "execute_result"
    }
   ],
   "source": [
    "from sklearn.svm import SVC\n",
    "\n",
    "svc = SVC()\n",
    "svc.fit(X_train, y_train)"
   ]
  },
  {
   "cell_type": "code",
   "execution_count": 225,
   "metadata": {},
   "outputs": [
    {
     "name": "stdout",
     "output_type": "stream",
     "text": [
      "train accuracy : 0.6245711636532221\n",
      "validation accuracy : 0.6549060542797495\n"
     ]
    }
   ],
   "source": [
    "pred_train = svc.predict(X_train)\n",
    "pred_val = svc.predict(X_val)\n",
    "\n",
    "print('train accuracy :', accuracy_score(y_train, pred_train))\n",
    "print('validation accuracy :', accuracy_score(y_val, pred_val))"
   ]
  },
  {
   "cell_type": "markdown",
   "metadata": {},
   "source": [
    "## RandomizedSearch"
   ]
  },
  {
   "cell_type": "code",
   "execution_count": null,
   "metadata": {},
   "outputs": [],
   "source": [
    "param = dict(\n",
    "    kernel=['rbf', 'linear'],\n",
    "    C=[0.01,  0.1, 1, 10],\n",
    "    gamma=[0.01, 0.1,  1]\n",
    ")\n",
    "\n",
    "random_svc = RandomizedSearchCV(svc,\n",
    "                                param_distributions=param,\n",
    "                                n_iter=10,\n",
    "                                scoring='accuracy',\n",
    "                                n_jobs=-1,\n",
    "                                cv=2)\n",
    "random_svc.fit(X_train, y_train)"
   ]
  },
  {
   "cell_type": "code",
   "execution_count": null,
   "metadata": {},
   "outputs": [],
   "source": [
    "random_svc.best_estimator_"
   ]
  },
  {
   "cell_type": "code",
   "execution_count": null,
   "metadata": {},
   "outputs": [],
   "source": [
    "pred_train = random_svc.predict(X_train)\n",
    "pred_val = random_svc.predict(X_val)\n",
    "\n",
    "print('train accuracy :', accuracy_score(y_train, pred_train))\n",
    "print('validation accuracy :', accuracy_score(y_val, pred_val))"
   ]
  },
  {
   "cell_type": "markdown",
   "metadata": {},
   "source": [
    "-----------------------------------\n",
    "# voting (hard)"
   ]
  },
  {
   "cell_type": "code",
   "execution_count": null,
   "metadata": {},
   "outputs": [],
   "source": [
    "from sklearn.ensemble import VotingClassifier\n",
    "\n",
    "estimators = [('tree', tree),\n",
    "              ('knn', knn), \n",
    "              ('random forest', rf), \n",
    "              ('svm', svc)]\n",
    "\n",
    "voting = VotingClassifier(estimators)\n",
    "voting.fit(X_train, y_train)"
   ]
  },
  {
   "cell_type": "code",
   "execution_count": null,
   "metadata": {},
   "outputs": [],
   "source": [
    "pred_train = voting.predict(X_train)\n",
    "pred_val = voting.predict(X_val)\n",
    "\n",
    "print('train accuracy :', accuracy_score(y_train, pred_train))\n",
    "print('validation accuracy :', accuracy_score(y_val, pred_val))"
   ]
  },
  {
   "cell_type": "markdown",
   "metadata": {},
   "source": [
    "# voting (soft)"
   ]
  },
  {
   "cell_type": "code",
   "execution_count": null,
   "metadata": {},
   "outputs": [],
   "source": [
    "voting_soft = VotingClassifier(estimators, voting='soft')\n",
    "voting_soft.fit(X_train, y_train)"
   ]
  },
  {
   "cell_type": "code",
   "execution_count": null,
   "metadata": {},
   "outputs": [],
   "source": [
    "pred_train = voting.predict(X_train)\n",
    "pred_val = voting.predict(X_val)\n",
    "\n",
    "print('train accuracy :', accuracy_score(y_train, pred_train))\n",
    "print('validation accuracy :', accuracy_score(y_val, pred_val))"
   ]
  },
  {
   "cell_type": "markdown",
   "metadata": {},
   "source": [
    "-----------------------------------\n",
    "# gradientboosting"
   ]
  },
  {
   "cell_type": "code",
   "execution_count": null,
   "metadata": {},
   "outputs": [],
   "source": [
    "from sklearn.ensemble import GradientBoostingClassifier\n",
    "gb = GradientBoostingClassifier(random_state=1)\n",
    "gb.fit(X_train, y_train)"
   ]
  },
  {
   "cell_type": "code",
   "execution_count": null,
   "metadata": {},
   "outputs": [],
   "source": [
    "pred_train = gb.predict(X_train)\n",
    "pred_val = gb.predict(X_val)\n",
    "\n",
    "print('train accuracy :', accuracy_score(y_train, pred_train))\n",
    "print('validation accuracy :', accuracy_score(y_val, pred_val))"
   ]
  },
  {
   "cell_type": "markdown",
   "metadata": {},
   "source": [
    "## randomized"
   ]
  },
  {
   "cell_type": "code",
   "execution_count": null,
   "metadata": {},
   "outputs": [],
   "source": [
    "param = dict(\n",
    "    n_estimators=[100, 200, 300, 400, 500],\n",
    "    learning_rate=[0.001,0.005,0.01,0.05,0.1,0.5],\n",
    "    max_depth=range(1, 5),\n",
    "    subsample=[0.5,0.7,1]\n",
    ")\n",
    "\n",
    "random_gb = RandomizedSearchCV(gb,\n",
    "                             param_distributions=param,\n",
    "                             n_iter=10,\n",
    "                             scoring='accuracy',\n",
    "                             cv=3,\n",
    "                             n_jobs=-1,\n",
    "                             random_state=1\n",
    "                             )\n",
    "random_gb.fit(X_train, y_train)"
   ]
  },
  {
   "cell_type": "code",
   "execution_count": null,
   "metadata": {},
   "outputs": [],
   "source": [
    "random_gb.best_estimator_"
   ]
  },
  {
   "cell_type": "code",
   "execution_count": null,
   "metadata": {},
   "outputs": [],
   "source": [
    "pred_train = random_gb.predict(X_train)\n",
    "pred_val = random_gb.predict(X_val)\n",
    "\n",
    "print('train accuracy :', accuracy_score(y_train, pred_train))\n",
    "print('validation accuracy :', accuracy_score(y_val, pred_val))"
   ]
  },
  {
   "cell_type": "markdown",
   "metadata": {},
   "source": [
    "-------------------------------------\n",
    "# LogisticRegression"
   ]
  },
  {
   "cell_type": "code",
   "execution_count": null,
   "metadata": {},
   "outputs": [],
   "source": [
    "from sklearn.linear_model import LogisticRegression\n",
    "\n",
    "lr = LogisticRegression(random_state=1, C=1, max_iter=300)\n",
    "lr.fit(X_train, y_train)"
   ]
  },
  {
   "cell_type": "code",
   "execution_count": null,
   "metadata": {},
   "outputs": [],
   "source": [
    "pred_train = lr.predict(X_train)\n",
    "pred_val = lr.predict(X_val)\n",
    "\n",
    "print('train accuracy :', accuracy_score(y_train, pred_train))\n",
    "print('validation accuracy :', accuracy_score(y_val, pred_val))"
   ]
  },
  {
   "cell_type": "markdown",
   "metadata": {},
   "source": [
    "-------------------------------------\n",
    "# XGBoost"
   ]
  },
  {
   "cell_type": "code",
   "execution_count": 73,
   "metadata": {
    "scrolled": true
   },
   "outputs": [
    {
     "data": {
      "text/plain": [
       "['x0_Female',\n",
       " 'x0_Male',\n",
       " 'x0_Other',\n",
       " 'x1_Has relevent experience',\n",
       " 'x1_No relevent experience',\n",
       " 'x2_major',\n",
       " 'x2_no_major',\n",
       " 'x3_10/49',\n",
       " 'x3_100-500',\n",
       " 'x3_1000-4999',\n",
       " 'x3_10000+',\n",
       " 'x3_50-99',\n",
       " 'x3_500-999',\n",
       " 'x3_5000-9999',\n",
       " 'x3_unknown',\n",
       " 'x3_~10',\n",
       " 'x4_Early Stage Startup',\n",
       " 'x4_Funded Startup',\n",
       " 'x4_NGO',\n",
       " 'x4_Other',\n",
       " 'x4_Public Sector',\n",
       " 'x4_Pvt Ltd',\n",
       " 'x4_unknown',\n",
       " 'enrollee_id',\n",
       " 'city',\n",
       " 'city_development_index',\n",
       " 'enrolled_university',\n",
       " 'education_level',\n",
       " 'experience',\n",
       " 'last_new_job',\n",
       " 'training_hours']"
      ]
     },
     "execution_count": 73,
     "metadata": {},
     "output_type": "execute_result"
    }
   ],
   "source": [
    "list(X_train.columns)"
   ]
  },
  {
   "cell_type": "code",
   "execution_count": 74,
   "metadata": {
    "scrolled": true
   },
   "outputs": [
    {
     "name": "stderr",
     "output_type": "stream",
     "text": [
      "c:\\users\\inje.jeong\\anaconda3\\envs\\ml\\lib\\site-packages\\xgboost\\sklearn.py:888: UserWarning: The use of label encoder in XGBClassifier is deprecated and will be removed in a future release. To remove this warning, do the following: 1) Pass option use_label_encoder=False when constructing XGBClassifier object; and 2) Encode your labels (y) as integers starting with 0, i.e. 0, 1, 2, ..., [num_class - 1].\n",
      "  warnings.warn(label_encoder_deprecation_msg, UserWarning)\n"
     ]
    },
    {
     "name": "stdout",
     "output_type": "stream",
     "text": [
      "[17:26:52] WARNING: C:/Users/Administrator/workspace/xgboost-win64_release_1.3.0/src/learner.cc:1061: Starting in XGBoost 1.3.0, the default evaluation metric used with the objective 'binary:logistic' was changed from 'error' to 'logloss'. Explicitly set eval_metric if you'd like to restore the old behavior.\n"
     ]
    },
    {
     "data": {
      "text/plain": [
       "XGBClassifier(base_score=0.5, booster='gbtree', colsample_bylevel=1,\n",
       "              colsample_bynode=1, colsample_bytree=1, gamma=0, gpu_id=-1,\n",
       "              importance_type='gain', interaction_constraints='',\n",
       "              learning_rate=0.5, max_delta_step=0, max_depth=2,\n",
       "              min_child_weight=1, missing=nan, monotone_constraints='()',\n",
       "              n_estimators=200, n_jobs=12, num_parallel_tree=1, random_state=1,\n",
       "              reg_alpha=0, reg_lambda=1, scale_pos_weight=1, subsample=1,\n",
       "              tree_method='exact', validate_parameters=1, verbosity=None)"
      ]
     },
     "execution_count": 74,
     "metadata": {},
     "output_type": "execute_result"
    }
   ],
   "source": [
    "from xgboost import XGBClassifier\n",
    "\n",
    "xgb = XGBClassifier(n_estimators=200,\n",
    "                   learning_rate=0.5,\n",
    "                   max_depth=2,\n",
    "                   random_state=1)\n",
    "xgb.fit(X_train, y_train)"
   ]
  },
  {
   "cell_type": "code",
   "execution_count": 75,
   "metadata": {},
   "outputs": [],
   "source": [
    "pred_train = xgb.predict(X_train)\n",
    "pred_val = xgb.predict(X_val)"
   ]
  },
  {
   "cell_type": "code",
   "execution_count": 76,
   "metadata": {},
   "outputs": [
    {
     "name": "stdout",
     "output_type": "stream",
     "text": [
      "train accuracy : 0.8785350023180343\n",
      "validation accuracy : 0.7860125260960334\n",
      "feature_importances\n",
      " [0.11112104 0.018601   0.00056848 0.06148743 0.         0.00926852\n",
      " 0.         0.00206058 0.04370997 0.00545864 0.01394838 0.04323168\n",
      " 0.01542656 0.00339751 0.30576745 0.0548442  0.006063   0.01486609\n",
      " 0.00241289 0.002252   0.00468924 0.03974945 0.0418891  0.00206633\n",
      " 0.00308973 0.06403867 0.05058322 0.04601271 0.00327814 0.02827494\n",
      " 0.00184306]\n"
     ]
    }
   ],
   "source": [
    "print('train accuracy :', accuracy_score(y_train, pred_train))\n",
    "print('validation accuracy :', accuracy_score(y_val, pred_val))\n",
    "print('feature_importances\\n',xgb.feature_importances_)"
   ]
  },
  {
   "cell_type": "markdown",
   "metadata": {},
   "source": [
    "## randomized"
   ]
  },
  {
   "cell_type": "code",
   "execution_count": 150,
   "metadata": {},
   "outputs": [
    {
     "name": "stderr",
     "output_type": "stream",
     "text": [
      "c:\\users\\inje.jeong\\anaconda3\\envs\\ml\\lib\\site-packages\\xgboost\\sklearn.py:888: UserWarning: The use of label encoder in XGBClassifier is deprecated and will be removed in a future release. To remove this warning, do the following: 1) Pass option use_label_encoder=False when constructing XGBClassifier object; and 2) Encode your labels (y) as integers starting with 0, i.e. 0, 1, 2, ..., [num_class - 1].\n",
      "  warnings.warn(label_encoder_deprecation_msg, UserWarning)\n"
     ]
    },
    {
     "name": "stdout",
     "output_type": "stream",
     "text": [
      "[00:27:56] WARNING: C:/Users/Administrator/workspace/xgboost-win64_release_1.3.0/src/learner.cc:1061: Starting in XGBoost 1.3.0, the default evaluation metric used with the objective 'binary:logistic' was changed from 'error' to 'logloss'. Explicitly set eval_metric if you'd like to restore the old behavior.\n"
     ]
    },
    {
     "data": {
      "text/plain": [
       "RandomizedSearchCV(cv=3,\n",
       "                   estimator=XGBClassifier(base_score=0.5, booster='gbtree',\n",
       "                                           colsample_bylevel=1,\n",
       "                                           colsample_bynode=1,\n",
       "                                           colsample_bytree=1, gamma=0,\n",
       "                                           gpu_id=-1, importance_type='gain',\n",
       "                                           interaction_constraints='',\n",
       "                                           learning_rate=0.5, max_delta_step=0,\n",
       "                                           max_depth=2, min_child_weight=1,\n",
       "                                           missing=nan,\n",
       "                                           monotone_constraints='()',\n",
       "                                           n_estimators=200, n_jobs=12,\n",
       "                                           num_parallel_tree=1, random_state=1,\n",
       "                                           reg_alpha=0, reg_lambda=1,\n",
       "                                           scale_pos_weight=1, subsample=1,\n",
       "                                           tree_method='exact',\n",
       "                                           validate_parameters=1,\n",
       "                                           verbosity=None),\n",
       "                   n_jobs=-1,\n",
       "                   param_distributions={'learning_rate': [0.001, 0.005, 0.01,\n",
       "                                                          0.05, 0.1, 0.5],\n",
       "                                        'max_depth': range(1, 7),\n",
       "                                        'n_estimators': [100, 200, 300, 400,\n",
       "                                                         500]},\n",
       "                   random_state=1, scoring='accuracy')"
      ]
     },
     "execution_count": 150,
     "metadata": {},
     "output_type": "execute_result"
    }
   ],
   "source": [
    "param = dict(\n",
    "    n_estimators=[100, 200, 300, 400, 500],\n",
    "    learning_rate=[0.001,0.005,0.01,0.05,0.1,0.5],\n",
    "    max_depth=range(1, 7)\n",
    ")\n",
    "\n",
    "random_xgb = RandomizedSearchCV(xgb,\n",
    "                             param_distributions=param,\n",
    "                             n_iter=10,\n",
    "                             scoring='accuracy',\n",
    "                             cv=3,\n",
    "                             n_jobs=-1,\n",
    "                             random_state=1\n",
    "                             )\n",
    "random_xgb.fit(X_train, y_train)"
   ]
  },
  {
   "cell_type": "code",
   "execution_count": 151,
   "metadata": {
    "scrolled": true
   },
   "outputs": [
    {
     "data": {
      "text/plain": [
       "XGBClassifier(base_score=0.5, booster='gbtree', colsample_bylevel=1,\n",
       "              colsample_bynode=1, colsample_bytree=1, gamma=0, gpu_id=-1,\n",
       "              importance_type='gain', interaction_constraints='',\n",
       "              learning_rate=0.005, max_delta_step=0, max_depth=5,\n",
       "              min_child_weight=1, missing=nan, monotone_constraints='()',\n",
       "              n_estimators=500, n_jobs=12, num_parallel_tree=1, random_state=1,\n",
       "              reg_alpha=0, reg_lambda=1, scale_pos_weight=1, subsample=1,\n",
       "              tree_method='exact', validate_parameters=1, verbosity=None)"
      ]
     },
     "execution_count": 151,
     "metadata": {},
     "output_type": "execute_result"
    }
   ],
   "source": [
    "be = random_xgb.best_estimator_\n",
    "be"
   ]
  },
  {
   "cell_type": "code",
   "execution_count": 152,
   "metadata": {},
   "outputs": [
    {
     "data": {
      "text/plain": [
       "(array([0.00483441, 0.01354241, 0.        , 0.02563836, 0.        ,\n",
       "        0.01140479, 0.        , 0.01047426, 0.00965255, 0.01332698,\n",
       "        0.        , 0.01181658, 0.00725933, 0.01023661, 0.34791633,\n",
       "        0.01081433, 0.00692362, 0.00926239, 0.        , 0.00795555,\n",
       "        0.01094658, 0.03678853, 0.04474266, 0.01107178, 0.02197549,\n",
       "        0.23499927, 0.01729829, 0.07115315, 0.01752604, 0.02194918,\n",
       "        0.0104905 ], dtype=float32),\n",
       " Index(['x0_Female', 'x0_Male', 'x0_Other', 'x1_Has relevent experience',\n",
       "        'x1_No relevent experience', 'x2_major', 'x2_no_major', 'x3_10/49',\n",
       "        'x3_100-500', 'x3_1000-4999', 'x3_10000+', 'x3_50-99', 'x3_500-999',\n",
       "        'x3_5000-9999', 'x3_unknown', 'x3_~10', 'x4_Early Stage Startup',\n",
       "        'x4_Funded Startup', 'x4_NGO', 'x4_Other', 'x4_Public Sector',\n",
       "        'x4_Pvt Ltd', 'x4_unknown', 'enrollee_id', 'city',\n",
       "        'city_development_index', 'enrolled_university', 'education_level',\n",
       "        'experience', 'last_new_job', 'training_hours'],\n",
       "       dtype='object'))"
      ]
     },
     "execution_count": 152,
     "metadata": {},
     "output_type": "execute_result"
    }
   ],
   "source": [
    "be.feature_importances_, X_train.columns"
   ]
  },
  {
   "cell_type": "code",
   "execution_count": 143,
   "metadata": {},
   "outputs": [
    {
     "data": {
      "text/plain": [
       "['x2 x3',\n",
       " 'x3_unknown',\n",
       " 'x4^2',\n",
       " 'x5^2',\n",
       " 'enrolled_university',\n",
       " 'last_new_job',\n",
       " 'x4_Public Sector',\n",
       " 'city_development_index',\n",
       " 'x1 x5',\n",
       " 'x2 x4',\n",
       " 'experience',\n",
       " 'education_level']"
      ]
     },
     "execution_count": 143,
     "metadata": {},
     "output_type": "execute_result"
    }
   ],
   "source": [
    "imprt_lst = pd.Series(be.feature_importances_, index=X_train.columns).sort_values(ascending=False)\n",
    "to_poly_lst = list(imprt_lst[imprt_lst>imprt_lst.quantile(q=0.8)].index)\n",
    "to_poly_lst"
   ]
  },
  {
   "cell_type": "markdown",
   "metadata": {},
   "source": [
    "#### poly 후"
   ]
  },
  {
   "cell_type": "code",
   "execution_count": 164,
   "metadata": {},
   "outputs": [
    {
     "ename": "ValueError",
     "evalue": "feature_names mismatch: ['x0_Female', 'x0_Male', 'x0_Other', 'x1_Has relevent experience', 'x1_No relevent experience', 'x2_major', 'x2_no_major', 'x3_10/49', 'x3_100-500', 'x3_1000-4999', 'x3_10000+', 'x3_50-99', 'x3_500-999', 'x3_5000-9999', 'x3_unknown', 'x3_~10', 'x4_Early Stage Startup', 'x4_Funded Startup', 'x4_NGO', 'x4_Other', 'x4_Public Sector', 'x4_Pvt Ltd', 'x4_unknown', 'enrollee_id', 'city', 'city_development_index', 'enrolled_university', 'education_level', 'experience', 'last_new_job', 'training_hours'] ['x0_Female', 'x0_Male', 'x0_Other', 'x1_Has relevent experience', 'x1_No relevent experience', 'x2_major', 'x2_no_major', 'x3_10/49', 'x3_100-500', 'x3_1000-4999', 'x3_10000+', 'x3_50-99', 'x3_500-999', 'x3_5000-9999', 'x3_unknown', 'x3_~10', 'x4_Early Stage Startup', 'x4_Funded Startup', 'x4_NGO', 'x4_Other', 'x4_Public Sector', 'x4_Pvt Ltd', 'x4_unknown', 'enrollee_id', 'city', 'city_development_index', 'enrolled_university', 'education_level', 'experience', 'last_new_job', 'training_hours', 'x0', 'x1', 'x2', 'x3', 'x4', 'x5', 'x6', 'x0^2', 'x0 x1', 'x0 x2', 'x0 x3', 'x0 x4', 'x0 x5', 'x0 x6', 'x1^2', 'x1 x2', 'x1 x3', 'x1 x4', 'x1 x5', 'x1 x6', 'x2^2', 'x2 x3', 'x2 x4', 'x2 x5', 'x2 x6', 'x3^2', 'x3 x4', 'x3 x5', 'x3 x6', 'x4^2', 'x4 x5', 'x4 x6', 'x5^2', 'x5 x6', 'x6^2']\ntraining data did not have the following fields: x3, x4 x6, x2 x3, x4^2, x3 x6, x5, x0 x1, x4 x5, x4, x3^2, x1 x4, x2 x6, x3 x4, x1^2, x0 x3, x1 x3, x0 x5, x1, x1 x5, x0 x2, x1 x6, x2 x4, x0^2, x5 x6, x0 x6, x2 x5, x0 x4, x2, x6^2, x3 x5, x0, x5^2, x6, x2^2, x1 x2",
     "output_type": "error",
     "traceback": [
      "\u001b[1;31m----------------------------------------------------------------------\u001b[0m",
      "\u001b[1;31mValueError\u001b[0m                           Traceback (most recent call last)",
      "\u001b[1;32m<ipython-input-164-8d4928d7cad2>\u001b[0m in \u001b[0;36m<module>\u001b[1;34m\u001b[0m\n\u001b[1;32m----> 1\u001b[1;33m \u001b[0mpred_train\u001b[0m \u001b[1;33m=\u001b[0m \u001b[0mrandom_xgb\u001b[0m\u001b[1;33m.\u001b[0m\u001b[0mpredict\u001b[0m\u001b[1;33m(\u001b[0m\u001b[0mX_train\u001b[0m\u001b[1;33m)\u001b[0m\u001b[1;33m\u001b[0m\u001b[1;33m\u001b[0m\u001b[0m\n\u001b[0m\u001b[0;32m      2\u001b[0m \u001b[0mpred_val\u001b[0m \u001b[1;33m=\u001b[0m \u001b[0mrandom_xgb\u001b[0m\u001b[1;33m.\u001b[0m\u001b[0mpredict\u001b[0m\u001b[1;33m(\u001b[0m\u001b[0mX_val\u001b[0m\u001b[1;33m)\u001b[0m\u001b[1;33m\u001b[0m\u001b[1;33m\u001b[0m\u001b[0m\n\u001b[0;32m      3\u001b[0m \u001b[1;33m\u001b[0m\u001b[0m\n\u001b[0;32m      4\u001b[0m \u001b[0mprint\u001b[0m\u001b[1;33m(\u001b[0m\u001b[1;34m'train accuracy :'\u001b[0m\u001b[1;33m,\u001b[0m \u001b[0maccuracy_score\u001b[0m\u001b[1;33m(\u001b[0m\u001b[0my_train\u001b[0m\u001b[1;33m,\u001b[0m \u001b[0mpred_train\u001b[0m\u001b[1;33m)\u001b[0m\u001b[1;33m)\u001b[0m\u001b[1;33m\u001b[0m\u001b[1;33m\u001b[0m\u001b[0m\n\u001b[0;32m      5\u001b[0m \u001b[0mprint\u001b[0m\u001b[1;33m(\u001b[0m\u001b[1;34m'validation accuracy :'\u001b[0m\u001b[1;33m,\u001b[0m \u001b[0maccuracy_score\u001b[0m\u001b[1;33m(\u001b[0m\u001b[0my_val\u001b[0m\u001b[1;33m,\u001b[0m \u001b[0mpred_val\u001b[0m\u001b[1;33m)\u001b[0m\u001b[1;33m)\u001b[0m\u001b[1;33m\u001b[0m\u001b[1;33m\u001b[0m\u001b[0m\n",
      "\u001b[1;32mc:\\users\\inje.jeong\\anaconda3\\envs\\ml\\lib\\site-packages\\sklearn\\utils\\metaestimators.py\u001b[0m in \u001b[0;36m<lambda>\u001b[1;34m(*args, **kwargs)\u001b[0m\n\u001b[0;32m    118\u001b[0m \u001b[1;33m\u001b[0m\u001b[0m\n\u001b[0;32m    119\u001b[0m         \u001b[1;31m# lambda, but not partial, allows help() to work with update_wrapper\u001b[0m\u001b[1;33m\u001b[0m\u001b[1;33m\u001b[0m\u001b[1;33m\u001b[0m\u001b[0m\n\u001b[1;32m--> 120\u001b[1;33m         \u001b[0mout\u001b[0m \u001b[1;33m=\u001b[0m \u001b[1;32mlambda\u001b[0m \u001b[1;33m*\u001b[0m\u001b[0margs\u001b[0m\u001b[1;33m,\u001b[0m \u001b[1;33m**\u001b[0m\u001b[0mkwargs\u001b[0m\u001b[1;33m:\u001b[0m \u001b[0mself\u001b[0m\u001b[1;33m.\u001b[0m\u001b[0mfn\u001b[0m\u001b[1;33m(\u001b[0m\u001b[0mobj\u001b[0m\u001b[1;33m,\u001b[0m \u001b[1;33m*\u001b[0m\u001b[0margs\u001b[0m\u001b[1;33m,\u001b[0m \u001b[1;33m**\u001b[0m\u001b[0mkwargs\u001b[0m\u001b[1;33m)\u001b[0m\u001b[1;33m\u001b[0m\u001b[1;33m\u001b[0m\u001b[0m\n\u001b[0m\u001b[0;32m    121\u001b[0m         \u001b[1;31m# update the docstring of the returned function\u001b[0m\u001b[1;33m\u001b[0m\u001b[1;33m\u001b[0m\u001b[1;33m\u001b[0m\u001b[0m\n\u001b[0;32m    122\u001b[0m         \u001b[0mupdate_wrapper\u001b[0m\u001b[1;33m(\u001b[0m\u001b[0mout\u001b[0m\u001b[1;33m,\u001b[0m \u001b[0mself\u001b[0m\u001b[1;33m.\u001b[0m\u001b[0mfn\u001b[0m\u001b[1;33m)\u001b[0m\u001b[1;33m\u001b[0m\u001b[1;33m\u001b[0m\u001b[0m\n",
      "\u001b[1;32mc:\\users\\inje.jeong\\anaconda3\\envs\\ml\\lib\\site-packages\\sklearn\\model_selection\\_search.py\u001b[0m in \u001b[0;36mpredict\u001b[1;34m(self, X)\u001b[0m\n\u001b[0;32m    538\u001b[0m         \"\"\"\n\u001b[0;32m    539\u001b[0m         \u001b[0mself\u001b[0m\u001b[1;33m.\u001b[0m\u001b[0m_check_is_fitted\u001b[0m\u001b[1;33m(\u001b[0m\u001b[1;34m'predict'\u001b[0m\u001b[1;33m)\u001b[0m\u001b[1;33m\u001b[0m\u001b[1;33m\u001b[0m\u001b[0m\n\u001b[1;32m--> 540\u001b[1;33m         \u001b[1;32mreturn\u001b[0m \u001b[0mself\u001b[0m\u001b[1;33m.\u001b[0m\u001b[0mbest_estimator_\u001b[0m\u001b[1;33m.\u001b[0m\u001b[0mpredict\u001b[0m\u001b[1;33m(\u001b[0m\u001b[0mX\u001b[0m\u001b[1;33m)\u001b[0m\u001b[1;33m\u001b[0m\u001b[1;33m\u001b[0m\u001b[0m\n\u001b[0m\u001b[0;32m    541\u001b[0m \u001b[1;33m\u001b[0m\u001b[0m\n\u001b[0;32m    542\u001b[0m     \u001b[1;33m@\u001b[0m\u001b[0mif_delegate_has_method\u001b[0m\u001b[1;33m(\u001b[0m\u001b[0mdelegate\u001b[0m\u001b[1;33m=\u001b[0m\u001b[1;33m(\u001b[0m\u001b[1;34m'best_estimator_'\u001b[0m\u001b[1;33m,\u001b[0m \u001b[1;34m'estimator'\u001b[0m\u001b[1;33m)\u001b[0m\u001b[1;33m)\u001b[0m\u001b[1;33m\u001b[0m\u001b[1;33m\u001b[0m\u001b[0m\n",
      "\u001b[1;32mc:\\users\\inje.jeong\\anaconda3\\envs\\ml\\lib\\site-packages\\xgboost\\sklearn.py\u001b[0m in \u001b[0;36mpredict\u001b[1;34m(self, data, output_margin, ntree_limit, validate_features, base_margin)\u001b[0m\n\u001b[0;32m    972\u001b[0m             \u001b[0moutput_margin\u001b[0m\u001b[1;33m=\u001b[0m\u001b[0moutput_margin\u001b[0m\u001b[1;33m,\u001b[0m\u001b[1;33m\u001b[0m\u001b[1;33m\u001b[0m\u001b[0m\n\u001b[0;32m    973\u001b[0m             \u001b[0mntree_limit\u001b[0m\u001b[1;33m=\u001b[0m\u001b[0mntree_limit\u001b[0m\u001b[1;33m,\u001b[0m\u001b[1;33m\u001b[0m\u001b[1;33m\u001b[0m\u001b[0m\n\u001b[1;32m--> 974\u001b[1;33m             validate_features=validate_features)\n\u001b[0m\u001b[0;32m    975\u001b[0m         \u001b[1;32mif\u001b[0m \u001b[0moutput_margin\u001b[0m\u001b[1;33m:\u001b[0m\u001b[1;33m\u001b[0m\u001b[1;33m\u001b[0m\u001b[0m\n\u001b[0;32m    976\u001b[0m             \u001b[1;31m# If output_margin is active, simply return the scores\u001b[0m\u001b[1;33m\u001b[0m\u001b[1;33m\u001b[0m\u001b[1;33m\u001b[0m\u001b[0m\n",
      "\u001b[1;32mc:\\users\\inje.jeong\\anaconda3\\envs\\ml\\lib\\site-packages\\xgboost\\core.py\u001b[0m in \u001b[0;36mpredict\u001b[1;34m(self, data, output_margin, ntree_limit, pred_leaf, pred_contribs, approx_contribs, pred_interactions, validate_features, training)\u001b[0m\n\u001b[0;32m   1483\u001b[0m \u001b[1;33m\u001b[0m\u001b[0m\n\u001b[0;32m   1484\u001b[0m         \u001b[1;32mif\u001b[0m \u001b[0mvalidate_features\u001b[0m\u001b[1;33m:\u001b[0m\u001b[1;33m\u001b[0m\u001b[1;33m\u001b[0m\u001b[0m\n\u001b[1;32m-> 1485\u001b[1;33m             \u001b[0mself\u001b[0m\u001b[1;33m.\u001b[0m\u001b[0m_validate_features\u001b[0m\u001b[1;33m(\u001b[0m\u001b[0mdata\u001b[0m\u001b[1;33m)\u001b[0m\u001b[1;33m\u001b[0m\u001b[1;33m\u001b[0m\u001b[0m\n\u001b[0m\u001b[0;32m   1486\u001b[0m \u001b[1;33m\u001b[0m\u001b[0m\n\u001b[0;32m   1487\u001b[0m         \u001b[0mlength\u001b[0m \u001b[1;33m=\u001b[0m \u001b[0mc_bst_ulong\u001b[0m\u001b[1;33m(\u001b[0m\u001b[1;33m)\u001b[0m\u001b[1;33m\u001b[0m\u001b[1;33m\u001b[0m\u001b[0m\n",
      "\u001b[1;32mc:\\users\\inje.jeong\\anaconda3\\envs\\ml\\lib\\site-packages\\xgboost\\core.py\u001b[0m in \u001b[0;36m_validate_features\u001b[1;34m(self, data)\u001b[0m\n\u001b[0;32m   2059\u001b[0m \u001b[1;33m\u001b[0m\u001b[0m\n\u001b[0;32m   2060\u001b[0m                 raise ValueError(msg.format(self.feature_names,\n\u001b[1;32m-> 2061\u001b[1;33m                                             data.feature_names))\n\u001b[0m\u001b[0;32m   2062\u001b[0m \u001b[1;33m\u001b[0m\u001b[0m\n\u001b[0;32m   2063\u001b[0m     def get_split_value_histogram(self, feature, fmap='', bins=None,\n",
      "\u001b[1;31mValueError\u001b[0m: feature_names mismatch: ['x0_Female', 'x0_Male', 'x0_Other', 'x1_Has relevent experience', 'x1_No relevent experience', 'x2_major', 'x2_no_major', 'x3_10/49', 'x3_100-500', 'x3_1000-4999', 'x3_10000+', 'x3_50-99', 'x3_500-999', 'x3_5000-9999', 'x3_unknown', 'x3_~10', 'x4_Early Stage Startup', 'x4_Funded Startup', 'x4_NGO', 'x4_Other', 'x4_Public Sector', 'x4_Pvt Ltd', 'x4_unknown', 'enrollee_id', 'city', 'city_development_index', 'enrolled_university', 'education_level', 'experience', 'last_new_job', 'training_hours'] ['x0_Female', 'x0_Male', 'x0_Other', 'x1_Has relevent experience', 'x1_No relevent experience', 'x2_major', 'x2_no_major', 'x3_10/49', 'x3_100-500', 'x3_1000-4999', 'x3_10000+', 'x3_50-99', 'x3_500-999', 'x3_5000-9999', 'x3_unknown', 'x3_~10', 'x4_Early Stage Startup', 'x4_Funded Startup', 'x4_NGO', 'x4_Other', 'x4_Public Sector', 'x4_Pvt Ltd', 'x4_unknown', 'enrollee_id', 'city', 'city_development_index', 'enrolled_university', 'education_level', 'experience', 'last_new_job', 'training_hours', 'x0', 'x1', 'x2', 'x3', 'x4', 'x5', 'x6', 'x0^2', 'x0 x1', 'x0 x2', 'x0 x3', 'x0 x4', 'x0 x5', 'x0 x6', 'x1^2', 'x1 x2', 'x1 x3', 'x1 x4', 'x1 x5', 'x1 x6', 'x2^2', 'x2 x3', 'x2 x4', 'x2 x5', 'x2 x6', 'x3^2', 'x3 x4', 'x3 x5', 'x3 x6', 'x4^2', 'x4 x5', 'x4 x6', 'x5^2', 'x5 x6', 'x6^2']\ntraining data did not have the following fields: x3, x4 x6, x2 x3, x4^2, x3 x6, x5, x0 x1, x4 x5, x4, x3^2, x1 x4, x2 x6, x3 x4, x1^2, x0 x3, x1 x3, x0 x5, x1, x1 x5, x0 x2, x1 x6, x2 x4, x0^2, x5 x6, x0 x6, x2 x5, x0 x4, x2, x6^2, x3 x5, x0, x5^2, x6, x2^2, x1 x2"
     ]
    }
   ],
   "source": [
    "pred_train = random_xgb.predict(X_train)\n",
    "pred_val = random_xgb.predict(X_val)\n",
    "\n",
    "print('train accuracy :', accuracy_score(y_train, pred_train))\n",
    "print('validation accuracy :', accuracy_score(y_val, pred_val))"
   ]
  },
  {
   "cell_type": "markdown",
   "metadata": {},
   "source": [
    "#### poly 없이"
   ]
  },
  {
   "cell_type": "code",
   "execution_count": 150,
   "metadata": {},
   "outputs": [
    {
     "name": "stderr",
     "output_type": "stream",
     "text": [
      "c:\\users\\inje.jeong\\anaconda3\\envs\\ml\\lib\\site-packages\\xgboost\\sklearn.py:888: UserWarning: The use of label encoder in XGBClassifier is deprecated and will be removed in a future release. To remove this warning, do the following: 1) Pass option use_label_encoder=False when constructing XGBClassifier object; and 2) Encode your labels (y) as integers starting with 0, i.e. 0, 1, 2, ..., [num_class - 1].\n",
      "  warnings.warn(label_encoder_deprecation_msg, UserWarning)\n"
     ]
    },
    {
     "name": "stdout",
     "output_type": "stream",
     "text": [
      "[00:27:56] WARNING: C:/Users/Administrator/workspace/xgboost-win64_release_1.3.0/src/learner.cc:1061: Starting in XGBoost 1.3.0, the default evaluation metric used with the objective 'binary:logistic' was changed from 'error' to 'logloss'. Explicitly set eval_metric if you'd like to restore the old behavior.\n"
     ]
    },
    {
     "data": {
      "text/plain": [
       "RandomizedSearchCV(cv=3,\n",
       "                   estimator=XGBClassifier(base_score=0.5, booster='gbtree',\n",
       "                                           colsample_bylevel=1,\n",
       "                                           colsample_bynode=1,\n",
       "                                           colsample_bytree=1, gamma=0,\n",
       "                                           gpu_id=-1, importance_type='gain',\n",
       "                                           interaction_constraints='',\n",
       "                                           learning_rate=0.5, max_delta_step=0,\n",
       "                                           max_depth=2, min_child_weight=1,\n",
       "                                           missing=nan,\n",
       "                                           monotone_constraints='()',\n",
       "                                           n_estimators=200, n_jobs=12,\n",
       "                                           num_parallel_tree=1, random_state=1,\n",
       "                                           reg_alpha=0, reg_lambda=1,\n",
       "                                           scale_pos_weight=1, subsample=1,\n",
       "                                           tree_method='exact',\n",
       "                                           validate_parameters=1,\n",
       "                                           verbosity=None),\n",
       "                   n_jobs=-1,\n",
       "                   param_distributions={'learning_rate': [0.001, 0.005, 0.01,\n",
       "                                                          0.05, 0.1, 0.5],\n",
       "                                        'max_depth': range(1, 7),\n",
       "                                        'n_estimators': [100, 200, 300, 400,\n",
       "                                                         500]},\n",
       "                   random_state=1, scoring='accuracy')"
      ]
     },
     "execution_count": 150,
     "metadata": {},
     "output_type": "execute_result"
    }
   ],
   "source": [
    "param = dict(\n",
    "    n_estimators=[100, 200, 300, 400, 500],\n",
    "    learning_rate=[0.001,0.005,0.01,0.05,0.1,0.5],\n",
    "    max_depth=range(1, 7)\n",
    ")\n",
    "\n",
    "random_xgb = RandomizedSearchCV(xgb,\n",
    "                             param_distributions=param,\n",
    "                             n_iter=10,\n",
    "                             scoring='accuracy',\n",
    "                             cv=3,\n",
    "                             n_jobs=-1,\n",
    "                             random_state=1\n",
    "                             )\n",
    "random_xgb.fit(X_train, y_train)"
   ]
  },
  {
   "cell_type": "code",
   "execution_count": 151,
   "metadata": {
    "scrolled": true
   },
   "outputs": [
    {
     "data": {
      "text/plain": [
       "XGBClassifier(base_score=0.5, booster='gbtree', colsample_bylevel=1,\n",
       "              colsample_bynode=1, colsample_bytree=1, gamma=0, gpu_id=-1,\n",
       "              importance_type='gain', interaction_constraints='',\n",
       "              learning_rate=0.005, max_delta_step=0, max_depth=5,\n",
       "              min_child_weight=1, missing=nan, monotone_constraints='()',\n",
       "              n_estimators=500, n_jobs=12, num_parallel_tree=1, random_state=1,\n",
       "              reg_alpha=0, reg_lambda=1, scale_pos_weight=1, subsample=1,\n",
       "              tree_method='exact', validate_parameters=1, verbosity=None)"
      ]
     },
     "execution_count": 151,
     "metadata": {},
     "output_type": "execute_result"
    }
   ],
   "source": [
    "be = random_xgb.best_estimator_\n",
    "be"
   ]
  },
  {
   "cell_type": "code",
   "execution_count": 152,
   "metadata": {},
   "outputs": [
    {
     "data": {
      "text/plain": [
       "(array([0.00483441, 0.01354241, 0.        , 0.02563836, 0.        ,\n",
       "        0.01140479, 0.        , 0.01047426, 0.00965255, 0.01332698,\n",
       "        0.        , 0.01181658, 0.00725933, 0.01023661, 0.34791633,\n",
       "        0.01081433, 0.00692362, 0.00926239, 0.        , 0.00795555,\n",
       "        0.01094658, 0.03678853, 0.04474266, 0.01107178, 0.02197549,\n",
       "        0.23499927, 0.01729829, 0.07115315, 0.01752604, 0.02194918,\n",
       "        0.0104905 ], dtype=float32),\n",
       " Index(['x0_Female', 'x0_Male', 'x0_Other', 'x1_Has relevent experience',\n",
       "        'x1_No relevent experience', 'x2_major', 'x2_no_major', 'x3_10/49',\n",
       "        'x3_100-500', 'x3_1000-4999', 'x3_10000+', 'x3_50-99', 'x3_500-999',\n",
       "        'x3_5000-9999', 'x3_unknown', 'x3_~10', 'x4_Early Stage Startup',\n",
       "        'x4_Funded Startup', 'x4_NGO', 'x4_Other', 'x4_Public Sector',\n",
       "        'x4_Pvt Ltd', 'x4_unknown', 'enrollee_id', 'city',\n",
       "        'city_development_index', 'enrolled_university', 'education_level',\n",
       "        'experience', 'last_new_job', 'training_hours'],\n",
       "       dtype='object'))"
      ]
     },
     "execution_count": 152,
     "metadata": {},
     "output_type": "execute_result"
    }
   ],
   "source": [
    "be.feature_importances_, X_train.columns"
   ]
  },
  {
   "cell_type": "code",
   "execution_count": 153,
   "metadata": {},
   "outputs": [
    {
     "name": "stdout",
     "output_type": "stream",
     "text": [
      "train accuracy : 0.8080456570155902\n",
      "validation accuracy : 0.7937369519832985\n"
     ]
    }
   ],
   "source": [
    "pred_train_poly = random_xgb.predict(X_train_poly)\n",
    "pred_val_poly = random_xgb.predict(X_val_poly)\n",
    "\n",
    "print('train accuracy :', accuracy_score(y_train, pred_train_poly))\n",
    "print('validation accuracy :', accuracy_score(y_val, pred_val_poly))"
   ]
  }
 ],
 "metadata": {
  "kernelspec": {
   "display_name": "Python 3",
   "language": "python",
   "name": "python3"
  },
  "language_info": {
   "codemirror_mode": {
    "name": "ipython",
    "version": 3
   },
   "file_extension": ".py",
   "mimetype": "text/x-python",
   "name": "python",
   "nbconvert_exporter": "python",
   "pygments_lexer": "ipython3",
   "version": "3.7.10"
  }
 },
 "nbformat": 4,
 "nbformat_minor": 4
}
