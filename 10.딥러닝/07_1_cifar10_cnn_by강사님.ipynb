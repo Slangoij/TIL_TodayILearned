{
 "cells": [
  {
   "cell_type": "code",
   "execution_count": null,
   "metadata": {
    "ExecuteTime": {
     "end_time": "2021-04-25T23:57:22.273579Z",
     "start_time": "2021-04-25T23:57:16.802079Z"
    },
    "executionInfo": {
     "elapsed": 750,
     "status": "ok",
     "timestamp": 1604507807254,
     "user": {
      "displayName": "김성환",
      "photoUrl": "https://lh3.googleusercontent.com/a-/AOh14GjqNkeEG8Sp5Fmsq56VZoiRsSxwUXmtH2Mb14M3YQA=s64",
      "userId": "02802166581970122576"
     },
     "user_tz": -540
    },
    "id": "XBgWpx7WFGjK"
   },
   "outputs": [],
   "source": [
    "import numpy as np\n",
    "import tensorflow as tf\n",
    "from tensorflow import keras\n",
    " \n",
    "np.random.seed(1)\n",
    "tf.random.set_seed(1)"
   ]
  },
  {
   "cell_type": "code",
   "execution_count": null,
   "metadata": {
    "ExecuteTime": {
     "end_time": "2021-04-25T23:57:22.336314Z",
     "start_time": "2021-04-25T23:57:22.323308Z"
    },
    "executionInfo": {
     "elapsed": 1018,
     "status": "ok",
     "timestamp": 1604507807554,
     "user": {
      "displayName": "김성환",
      "photoUrl": "https://lh3.googleusercontent.com/a-/AOh14GjqNkeEG8Sp5Fmsq56VZoiRsSxwUXmtH2Mb14M3YQA=s64",
      "userId": "02802166581970122576"
     },
     "user_tz": -540
    },
    "id": "uKyuZw6lHCJK"
   },
   "outputs": [],
   "source": [
    "# hyper parameter\n",
    "LEARNING_RATE = 0.005\n",
    "N_EPOCHS = 100\n",
    "N_BATCHS = 100\n",
    "N_CLASS = 10\n",
    "DROPOUT_RATE = 0.3"
   ]
  },
  {
   "cell_type": "code",
   "execution_count": null,
   "metadata": {
    "ExecuteTime": {
     "end_time": "2021-04-25T23:57:22.400327Z",
     "start_time": "2021-04-25T23:57:22.376317Z"
    },
    "executionInfo": {
     "elapsed": 1006,
     "status": "ok",
     "timestamp": 1604507807555,
     "user": {
      "displayName": "김성환",
      "photoUrl": "https://lh3.googleusercontent.com/a-/AOh14GjqNkeEG8Sp5Fmsq56VZoiRsSxwUXmtH2Mb14M3YQA=s64",
      "userId": "02802166581970122576"
     },
     "user_tz": -540
    },
    "id": "Bc3SvjreHKgi"
   },
   "outputs": [],
   "source": [
    "label = ['비행기','자동차','새','고양이','사슴','개','개구리','말','배','트럭']\n",
    "label_eng = ['airplane', 'automobile', 'bird', 'cat', 'deer', 'dog', 'frog', 'horse', 'ship', 'truck']"
   ]
  },
  {
   "cell_type": "code",
   "execution_count": null,
   "metadata": {
    "ExecuteTime": {
     "end_time": "2021-04-25T23:58:19.260331Z",
     "start_time": "2021-04-25T23:58:18.499726Z"
    },
    "executionInfo": {
     "elapsed": 2430,
     "status": "ok",
     "timestamp": 1604507808994,
     "user": {
      "displayName": "김성환",
      "photoUrl": "https://lh3.googleusercontent.com/a-/AOh14GjqNkeEG8Sp5Fmsq56VZoiRsSxwUXmtH2Mb14M3YQA=s64",
      "userId": "02802166581970122576"
     },
     "user_tz": -540
    },
    "id": "RtHAOGNFFkOj"
   },
   "outputs": [],
   "source": [
    "# 다운로드 받는다.\n",
    "(train_image, train_label), (test_image, test_label) = keras.datasets.cifar10.load_data()"
   ]
  },
  {
   "cell_type": "code",
   "execution_count": null,
   "metadata": {
    "ExecuteTime": {
     "end_time": "2021-04-25T23:58:26.471646Z",
     "start_time": "2021-04-25T23:58:26.459652Z"
    },
    "colab": {
     "base_uri": "https://localhost:8080/"
    },
    "executionInfo": {
     "elapsed": 2432,
     "status": "ok",
     "timestamp": 1604507809016,
     "user": {
      "displayName": "김성환",
      "photoUrl": "https://lh3.googleusercontent.com/a-/AOh14GjqNkeEG8Sp5Fmsq56VZoiRsSxwUXmtH2Mb14M3YQA=s64",
      "userId": "02802166581970122576"
     },
     "user_tz": -540
    },
    "id": "lGmDMbbLFzie",
    "outputId": "3b669208-0653-4fb2-e053-c5ff0f9272cf"
   },
   "outputs": [],
   "source": [
    "# 32 * 32 * 3\n",
    "train_image.shape, test_image.shape"
   ]
  },
  {
   "cell_type": "code",
   "execution_count": null,
   "metadata": {
    "ExecuteTime": {
     "end_time": "2021-04-25T23:59:55.628396Z",
     "start_time": "2021-04-25T23:59:55.612406Z"
    }
   },
   "outputs": [],
   "source": [
    "N_TRAIN = train_image.shape[0]\n",
    "N_TEST = test_image.shape[0]"
   ]
  },
  {
   "cell_type": "code",
   "execution_count": null,
   "metadata": {
    "ExecuteTime": {
     "end_time": "2021-04-25T23:58:31.946498Z",
     "start_time": "2021-04-25T23:58:31.924504Z"
    },
    "colab": {
     "base_uri": "https://localhost:8080/"
    },
    "executionInfo": {
     "elapsed": 2409,
     "status": "ok",
     "timestamp": 1604507809017,
     "user": {
      "displayName": "김성환",
      "photoUrl": "https://lh3.googleusercontent.com/a-/AOh14GjqNkeEG8Sp5Fmsq56VZoiRsSxwUXmtH2Mb14M3YQA=s64",
      "userId": "02802166581970122576"
     },
     "user_tz": -540
    },
    "id": "YVDtdXspF5ew",
    "outputId": "17ebad73-fe1f-4323-85bf-384803ea3bfe"
   },
   "outputs": [],
   "source": [
    "np.unique(train_label, return_counts=True)"
   ]
  },
  {
   "cell_type": "code",
   "execution_count": null,
   "metadata": {
    "ExecuteTime": {
     "end_time": "2021-04-25T23:58:37.295768Z",
     "start_time": "2021-04-25T23:58:37.283767Z"
    },
    "colab": {
     "base_uri": "https://localhost:8080/"
    },
    "executionInfo": {
     "elapsed": 2390,
     "status": "ok",
     "timestamp": 1604507809018,
     "user": {
      "displayName": "김성환",
      "photoUrl": "https://lh3.googleusercontent.com/a-/AOh14GjqNkeEG8Sp5Fmsq56VZoiRsSxwUXmtH2Mb14M3YQA=s64",
      "userId": "02802166581970122576"
     },
     "user_tz": -540
    },
    "id": "tcXCOEOgIeOd",
    "outputId": "5f3848b7-1b24-45f2-feb1-959881308648"
   },
   "outputs": [],
   "source": [
    "train_label[:5]"
   ]
  },
  {
   "cell_type": "code",
   "execution_count": null,
   "metadata": {
    "ExecuteTime": {
     "end_time": "2021-04-25T23:58:15.938369Z",
     "start_time": "2021-04-25T23:58:14.699459Z"
    },
    "colab": {
     "base_uri": "https://localhost:8080/",
     "height": 264
    },
    "executionInfo": {
     "elapsed": 2379,
     "status": "ok",
     "timestamp": 1604507809023,
     "user": {
      "displayName": "김성환",
      "photoUrl": "https://lh3.googleusercontent.com/a-/AOh14GjqNkeEG8Sp5Fmsq56VZoiRsSxwUXmtH2Mb14M3YQA=s64",
      "userId": "02802166581970122576"
     },
     "user_tz": -540
    },
    "id": "AHVwSLz2GApl",
    "outputId": "7ab5864e-20ac-45c2-98de-dc0ca0de751c"
   },
   "outputs": [],
   "source": [
    "import matplotlib.pyplot as plt\n",
    "for i in range(0,15):\n",
    "    plt.subplot(3,5, i+1)\n",
    "    plt.imshow(X_train[i])\n",
    "    plt.axis('off')\n",
    "    plt.title(f'{y_train[i]}-{label_eng[y_train[i,0]]}')\n",
    "plt.show()    "
   ]
  },
  {
   "cell_type": "markdown",
   "metadata": {
    "id": "mjKq8Yg5I8HC"
   },
   "source": [
    "# Dataset 생성"
   ]
  },
  {
   "cell_type": "code",
   "execution_count": null,
   "metadata": {
    "ExecuteTime": {
     "end_time": "2021-04-25T23:59:08.893652Z",
     "start_time": "2021-04-25T23:59:08.331967Z"
    },
    "executionInfo": {
     "elapsed": 2910,
     "status": "ok",
     "timestamp": 1604507809564,
     "user": {
      "displayName": "김성환",
      "photoUrl": "https://lh3.googleusercontent.com/a-/AOh14GjqNkeEG8Sp5Fmsq56VZoiRsSxwUXmtH2Mb14M3YQA=s64",
      "userId": "02802166581970122576"
     },
     "user_tz": -540
    },
    "id": "sUg7jVqxGX4e"
   },
   "outputs": [],
   "source": [
    "# pixel값을 0 ~ 1 사이로 조정\n",
    "X_train = train_image.astype(np.float32)/255.\n",
    "X_test = test_image.astype(np.float32) /255.\n",
    "\n",
    "# y - onehot encoding\n",
    "y_train = keras.utils.to_categorical(train_label, num_classes=10)\n",
    "y_test = keras.utils.to_categorical(test_label, 10) "
   ]
  },
  {
   "cell_type": "code",
   "execution_count": null,
   "metadata": {
    "ExecuteTime": {
     "end_time": "2021-04-26T00:00:32.949508Z",
     "start_time": "2021-04-26T00:00:32.477504Z"
    },
    "executionInfo": {
     "elapsed": 2905,
     "status": "ok",
     "timestamp": 1604507809566,
     "user": {
      "displayName": "김성환",
      "photoUrl": "https://lh3.googleusercontent.com/a-/AOh14GjqNkeEG8Sp5Fmsq56VZoiRsSxwUXmtH2Mb14M3YQA=s64",
      "userId": "02802166581970122576"
     },
     "user_tz": -540
    },
    "id": "Sjy1fVPyJxTv"
   },
   "outputs": [],
   "source": [
    "# dataset 구성\n",
    "train_dataset = tf.data.Dataset.from_tensor_slices((X_train, y_train))\\\n",
    "                               .shuffle(buffer_size=N_TRAIN)\\\n",
    "                               .batch(N_BATCHS,drop_remainder=True).repeat()\n",
    "test_dataset = tf.data.Dataset.from_tensor_slices((X_test, y_test))\\\n",
    "                              .batch(N_BATCHS)                        "
   ]
  },
  {
   "cell_type": "markdown",
   "metadata": {
    "id": "HLvQqFYVKpUV"
   },
   "source": [
    "## 모델 구성"
   ]
  },
  {
   "cell_type": "code",
   "execution_count": null,
   "metadata": {
    "ExecuteTime": {
     "end_time": "2021-04-26T00:01:01.713948Z",
     "start_time": "2021-04-26T00:01:01.691950Z"
    },
    "executionInfo": {
     "elapsed": 2900,
     "status": "ok",
     "timestamp": 1604507809568,
     "user": {
      "displayName": "김성환",
      "photoUrl": "https://lh3.googleusercontent.com/a-/AOh14GjqNkeEG8Sp5Fmsq56VZoiRsSxwUXmtH2Mb14M3YQA=s64",
      "userId": "02802166581970122576"
     },
     "user_tz": -540
    },
    "id": "O7-VMg0zKjgv"
   },
   "outputs": [],
   "source": [
    "from tensorflow.keras import layers\n",
    "def create_model():\n",
    "    model = keras.Sequential()\n",
    "    #Conv Layer\n",
    "    model.add(layers.Input((32,32,3))) #InputLayer(input_shape=(32,32,3)) : 동일\n",
    "    \n",
    "    model.add(layers.Conv2D(filters=32, kernel_size=3, padding='SAME'))\n",
    "    model.add(layers.BatchNormalization())\n",
    "    model.add(layers.Activation('relu'))\n",
    "    \n",
    "    model.add(layers.Conv2D(filters=32, kernel_size=3, padding='SAME'))\n",
    "    model.add(layers.BatchNormalization())\n",
    "    model.add(layers.Activation('relu'))\n",
    "\n",
    "    model.add(layers.MaxPooling2D(padding='SAME'))\n",
    "\n",
    "    model.add(layers.Conv2D(filters=64, kernel_size=3, padding='SAME'))\n",
    "    model.add(layers.BatchNormalization())\n",
    "    model.add(layers.Activation('relu'))\n",
    "    \n",
    "    model.add(layers.Conv2D(filters=64, kernel_size=3, padding='SAME'))\n",
    "    model.add(layers.BatchNormalization())\n",
    "    model.add(layers.Activation('relu'))\n",
    "\n",
    "    model.add(layers.MaxPooling2D(padding='SAME'))\n",
    "    \n",
    "    model.add(layers.Conv2D(filters=128, kernel_size=3, padding='SAME'))\n",
    "    model.add(layers.BatchNormalization())\n",
    "    model.add(layers.Activation('relu'))\n",
    "    \n",
    "    model.add(layers.Conv2D(filters=128, kernel_size=3, padding='SAME'))\n",
    "    model.add(layers.BatchNormalization())\n",
    "    model.add(layers.Activation('relu'))\n",
    "\n",
    "    model.add(layers.MaxPooling2D(padding='SAME'))\n",
    "\n",
    " \n",
    "    # Full Connected Layer\n",
    "    model.add(layers.Flatten())\n",
    "    model.add(layers.Dropout(DROPOUT_RATE))\n",
    "    model.add(layers.Dense(512))\n",
    "    model.add(layers.BatchNormalization())\n",
    "    model.add(layers.ReLU())    \n",
    "    model.add(layers.Dense(10, activation='softmax'))\n",
    "    return model"
   ]
  },
  {
   "cell_type": "code",
   "execution_count": null,
   "metadata": {
    "ExecuteTime": {
     "end_time": "2021-04-26T00:01:16.966968Z",
     "start_time": "2021-04-26T00:01:16.709875Z"
    },
    "colab": {
     "base_uri": "https://localhost:8080/"
    },
    "executionInfo": {
     "elapsed": 2893,
     "status": "ok",
     "timestamp": 1604507809570,
     "user": {
      "displayName": "김성환",
      "photoUrl": "https://lh3.googleusercontent.com/a-/AOh14GjqNkeEG8Sp5Fmsq56VZoiRsSxwUXmtH2Mb14M3YQA=s64",
      "userId": "02802166581970122576"
     },
     "user_tz": -540
    },
    "id": "l8LxRPUILFBe",
    "outputId": "b9be6770-d064-4f59-ac49-3841c2f55387"
   },
   "outputs": [],
   "source": [
    "# model = create_model()\n",
    "model = create_model()\n",
    "model.compile(optimizer=tf.keras.optimizers.Adam(learning_rate=LEARNING_RATE), \n",
    "              loss='categorical_crossentropy', \n",
    "              metrics=['accuracy'])\n",
    "model.summary()"
   ]
  },
  {
   "cell_type": "code",
   "execution_count": null,
   "metadata": {
    "ExecuteTime": {
     "end_time": "2021-04-26T00:01:56.113877Z",
     "start_time": "2021-04-26T00:01:55.347861Z"
    },
    "executionInfo": {
     "elapsed": 2885,
     "status": "ok",
     "timestamp": 1604507809572,
     "user": {
      "displayName": "김성환",
      "photoUrl": "https://lh3.googleusercontent.com/a-/AOh14GjqNkeEG8Sp5Fmsq56VZoiRsSxwUXmtH2Mb14M3YQA=s64",
      "userId": "02802166581970122576"
     },
     "user_tz": -540
    },
    "id": "AlTecWjF-yFr"
   },
   "outputs": [],
   "source": [
    "keras.utils.plot_model(model, to_file='model_shapes.png', show_shapes=True)"
   ]
  },
  {
   "cell_type": "code",
   "execution_count": null,
   "metadata": {
    "ExecuteTime": {
     "end_time": "2021-04-26T00:01:52.111472Z",
     "start_time": "2021-04-26T00:01:40.299767Z"
    },
    "colab": {
     "base_uri": "https://localhost:8080/"
    },
    "executionInfo": {
     "elapsed": 4597,
     "status": "ok",
     "timestamp": 1604507811293,
     "user": {
      "displayName": "김성환",
      "photoUrl": "https://lh3.googleusercontent.com/a-/AOh14GjqNkeEG8Sp5Fmsq56VZoiRsSxwUXmtH2Mb14M3YQA=s64",
      "userId": "02802166581970122576"
     },
     "user_tz": -540
    },
    "id": "UrYiL5xVLVbW",
    "outputId": "b5aaab10-6f1a-4c43-cb8c-76834787297d"
   },
   "outputs": [],
   "source": [
    "# 학습 전에 테스트\n",
    "model.evaluate(test_dataset)"
   ]
  },
  {
   "cell_type": "code",
   "execution_count": null,
   "metadata": {
    "ExecuteTime": {
     "end_time": "2021-04-26T00:02:43.308974Z",
     "start_time": "2021-04-26T00:02:43.301014Z"
    },
    "colab": {
     "base_uri": "https://localhost:8080/"
    },
    "executionInfo": {
     "elapsed": 4593,
     "status": "ok",
     "timestamp": 1604507811300,
     "user": {
      "displayName": "김성환",
      "photoUrl": "https://lh3.googleusercontent.com/a-/AOh14GjqNkeEG8Sp5Fmsq56VZoiRsSxwUXmtH2Mb14M3YQA=s64",
      "userId": "02802166581970122576"
     },
     "user_tz": -540
    },
    "id": "SeGbL0FCLf6e",
    "outputId": "b334fa89-bf25-4d42-cb52-f8b5908e0012"
   },
   "outputs": [],
   "source": [
    "# 학습시 전달할 매개변수\n",
    "steps_per_epoch = N_TRAIN//N_BATCHS\n",
    "validation_steps = int(np.ceil(N_TEST/N_BATCHS))\n",
    "print(steps_per_epoch, validation_steps)"
   ]
  },
  {
   "cell_type": "code",
   "execution_count": null,
   "metadata": {
    "ExecuteTime": {
     "end_time": "2021-04-26T00:02:55.935083Z",
     "start_time": "2021-04-26T00:02:55.915857Z"
    },
    "colab": {
     "base_uri": "https://localhost:8080/",
     "height": 35
    },
    "executionInfo": {
     "elapsed": 4589,
     "status": "ok",
     "timestamp": 1604507811308,
     "user": {
      "displayName": "김성환",
      "photoUrl": "https://lh3.googleusercontent.com/a-/AOh14GjqNkeEG8Sp5Fmsq56VZoiRsSxwUXmtH2Mb14M3YQA=s64",
      "userId": "02802166581970122576"
     },
     "user_tz": -540
    },
    "id": "rAZX6pbZo82I",
    "outputId": "59d6aa50-4209-40ac-dccf-4a50a6d9c24c"
   },
   "outputs": [],
   "source": [
    "import os\n",
    "base_dir = '/content/drive/My Drive/save_models'\n",
    "save_path = os.path.join(base_dir, 'cifar10_best_model')\n",
    "save_path"
   ]
  },
  {
   "cell_type": "code",
   "execution_count": null,
   "metadata": {
    "ExecuteTime": {
     "end_time": "2021-04-26T00:09:05.643001Z",
     "start_time": "2021-04-26T00:03:19.651627Z"
    },
    "colab": {
     "base_uri": "https://localhost:8080/"
    },
    "executionInfo": {
     "elapsed": 1612793,
     "status": "ok",
     "timestamp": 1604509419544,
     "user": {
      "displayName": "김성환",
      "photoUrl": "https://lh3.googleusercontent.com/a-/AOh14GjqNkeEG8Sp5Fmsq56VZoiRsSxwUXmtH2Mb14M3YQA=s64",
      "userId": "02802166581970122576"
     },
     "user_tz": -540
    },
    "id": "gnYem_4DNvhP",
    "outputId": "9e633da9-b173-4a8a-c4fa-55496ad28f09"
   },
   "outputs": [],
   "source": [
    "import time\n",
    "start = time.time()\n",
    "modelcheckpoint_callback = keras.callbacks.ModelCheckpoint(filepath=save_path, monitor='val_loss', save_best_only=True)\n",
    "\n",
    "history = model.fit(train_dataset, \n",
    "                    epochs=N_BATCHS,\n",
    "                    steps_per_epoch=steps_per_epoch,\n",
    "                    validation_data=test_dataset,\n",
    "                    validation_steps=validation_steps)\n",
    "                    callbacks=[modelcheckpoint_callback])\n",
    "end = time.time()"
   ]
  },
  {
   "cell_type": "code",
   "execution_count": null,
   "metadata": {
    "ExecuteTime": {
     "end_time": "2021-04-26T00:09:08.753137Z",
     "start_time": "2021-04-26T00:09:08.725102Z"
    },
    "colab": {
     "base_uri": "https://localhost:8080/"
    },
    "executionInfo": {
     "elapsed": 1612768,
     "status": "ok",
     "timestamp": 1604509419548,
     "user": {
      "displayName": "김성환",
      "photoUrl": "https://lh3.googleusercontent.com/a-/AOh14GjqNkeEG8Sp5Fmsq56VZoiRsSxwUXmtH2Mb14M3YQA=s64",
      "userId": "02802166581970122576"
     },
     "user_tz": -540
    },
    "id": "25yvDb4OBjwe",
    "outputId": "50ab529e-70ed-4eb0-814a-890bc447a31a"
   },
   "outputs": [],
   "source": [
    "(end-start)/60"
   ]
  },
  {
   "cell_type": "code",
   "execution_count": null,
   "metadata": {
    "ExecuteTime": {
     "end_time": "2021-04-26T00:09:09.353179Z",
     "start_time": "2021-04-26T00:09:09.296184Z"
    },
    "executionInfo": {
     "elapsed": 3081,
     "status": "ok",
     "timestamp": 1604509497253,
     "user": {
      "displayName": "김성환",
      "photoUrl": "https://lh3.googleusercontent.com/a-/AOh14GjqNkeEG8Sp5Fmsq56VZoiRsSxwUXmtH2Mb14M3YQA=s64",
      "userId": "02802166581970122576"
     },
     "user_tz": -540
    },
    "id": "WL8OSo1019NO"
   },
   "outputs": [],
   "source": [
    "saved_model = keras.models.load_model(save_path)"
   ]
  },
  {
   "cell_type": "code",
   "execution_count": null,
   "metadata": {
    "ExecuteTime": {
     "end_time": "2021-04-26T00:09:16.830730Z",
     "start_time": "2021-04-26T00:09:16.796720Z"
    },
    "colab": {
     "base_uri": "https://localhost:8080/"
    },
    "executionInfo": {
     "elapsed": 1776,
     "status": "ok",
     "timestamp": 1604509498790,
     "user": {
      "displayName": "김성환",
      "photoUrl": "https://lh3.googleusercontent.com/a-/AOh14GjqNkeEG8Sp5Fmsq56VZoiRsSxwUXmtH2Mb14M3YQA=s64",
      "userId": "02802166581970122576"
     },
     "user_tz": -540
    },
    "id": "rpsaNbMoN9Vx",
    "outputId": "cbc51cca-1404-44bd-ffff-6ad64e799843"
   },
   "outputs": [],
   "source": [
    "saved_model.evaluate(test_dataset)"
   ]
  },
  {
   "cell_type": "code",
   "execution_count": null,
   "metadata": {
    "ExecuteTime": {
     "end_time": "2021-04-26T00:09:18.075047Z",
     "start_time": "2021-04-26T00:09:18.053045Z"
    },
    "colab": {
     "base_uri": "https://localhost:8080/"
    },
    "executionInfo": {
     "elapsed": 730,
     "status": "ok",
     "timestamp": 1604509501744,
     "user": {
      "displayName": "김성환",
      "photoUrl": "https://lh3.googleusercontent.com/a-/AOh14GjqNkeEG8Sp5Fmsq56VZoiRsSxwUXmtH2Mb14M3YQA=s64",
      "userId": "02802166581970122576"
     },
     "user_tz": -540
    },
    "id": "Es6hNG5x7v_y",
    "outputId": "bf04846a-b1ce-459b-db55-77fdf8f61336"
   },
   "outputs": [],
   "source": [
    "history.history.keys()"
   ]
  },
  {
   "cell_type": "code",
   "execution_count": null,
   "metadata": {
    "ExecuteTime": {
     "end_time": "2021-04-26T00:09:20.623147Z",
     "start_time": "2021-04-26T00:09:20.580154Z"
    },
    "colab": {
     "base_uri": "https://localhost:8080/",
     "height": 390
    },
    "executionInfo": {
     "elapsed": 1032,
     "status": "ok",
     "timestamp": 1604509503592,
     "user": {
      "displayName": "김성환",
      "photoUrl": "https://lh3.googleusercontent.com/a-/AOh14GjqNkeEG8Sp5Fmsq56VZoiRsSxwUXmtH2Mb14M3YQA=s64",
      "userId": "02802166581970122576"
     },
     "user_tz": -540
    },
    "id": "U7KCSrfH7XDr",
    "outputId": "7850c7da-c599-4aed-8035-72847e5425b4"
   },
   "outputs": [],
   "source": [
    "import matplotlib.pyplot as plt\n",
    "plt.figure(figsize=(10,6))\n",
    "plt.plot(range(N_EPOCHS+1), history.history['loss'], label='train loss')\n",
    "plt.plot(range(N_EPOCHS+1), history.history['val_loss'], label='val loss')\n",
    "plt.legend()\n",
    "plt.title('loss')\n",
    "plt.show()"
   ]
  },
  {
   "cell_type": "code",
   "execution_count": null,
   "metadata": {
    "colab": {
     "base_uri": "https://localhost:8080/",
     "height": 374
    },
    "executionInfo": {
     "elapsed": 939,
     "status": "ok",
     "timestamp": 1604509505368,
     "user": {
      "displayName": "김성환",
      "photoUrl": "https://lh3.googleusercontent.com/a-/AOh14GjqNkeEG8Sp5Fmsq56VZoiRsSxwUXmtH2Mb14M3YQA=s64",
      "userId": "02802166581970122576"
     },
     "user_tz": -540
    },
    "id": "z2NWEKPW7pKp",
    "outputId": "ddfed844-3b91-416b-915c-a3c3589df9e7"
   },
   "outputs": [],
   "source": [
    "import matplotlib.pyplot as plt\n",
    "plt.figure(figsize=(10,6))\n",
    "plt.plot(range(N_EPOCHS+1), history.history['accuracy'], label='train accuracy')\n",
    "plt.plot(range(N_EPOCHS+1), history.history['val_accuracy'], label='val accuracy')\n",
    "plt.legend()\n",
    "plt.show()"
   ]
  },
  {
   "cell_type": "code",
   "execution_count": null,
   "metadata": {
    "executionInfo": {
     "elapsed": 1616753,
     "status": "ok",
     "timestamp": 1604509423645,
     "user": {
      "displayName": "김성환",
      "photoUrl": "https://lh3.googleusercontent.com/a-/AOh14GjqNkeEG8Sp5Fmsq56VZoiRsSxwUXmtH2Mb14M3YQA=s64",
      "userId": "02802166581970122576"
     },
     "user_tz": -540
    },
    "id": "ZuOW4HzBDv6t"
   },
   "outputs": [],
   "source": []
  }
 ],
 "metadata": {
  "accelerator": "GPU",
  "colab": {
   "authorship_tag": "ABX9TyMuYRRzI63WtPT3BKwT+k3D",
   "collapsed_sections": [],
   "mount_file_id": "1mMGusYFCwZBp5Qlu0YfzkdZCkDMswlSV",
   "name": "cifar10_cnn.ipynb_튜닝_no_augment",
   "provenance": [
    {
     "file_id": "15qSV9YRUFG-E39Vu1CMFnoGitUZhp6NZ",
     "timestamp": 1603802630325
    }
   ]
  },
  "kernelspec": {
   "display_name": "Python 3",
   "language": "python",
   "name": "python3"
  },
  "language_info": {
   "codemirror_mode": {
    "name": "ipython",
    "version": 3
   },
   "file_extension": ".py",
   "mimetype": "text/x-python",
   "name": "python",
   "nbconvert_exporter": "python",
   "pygments_lexer": "ipython3",
   "version": "3.7.10"
  },
  "varInspector": {
   "cols": {
    "lenName": 16,
    "lenType": 16,
    "lenVar": 40
   },
   "kernels_config": {
    "python": {
     "delete_cmd_postfix": "",
     "delete_cmd_prefix": "del ",
     "library": "var_list.py",
     "varRefreshCmd": "print(var_dic_list())"
    },
    "r": {
     "delete_cmd_postfix": ") ",
     "delete_cmd_prefix": "rm(",
     "library": "var_list.r",
     "varRefreshCmd": "cat(var_dic_list()) "
    }
   },
   "types_to_exclude": [
    "module",
    "function",
    "builtin_function_or_method",
    "instance",
    "_Feature"
   ],
   "window_display": false
  }
 },
 "nbformat": 4,
 "nbformat_minor": 1
}
