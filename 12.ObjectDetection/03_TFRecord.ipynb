{
 "cells": [
  {
   "cell_type": "markdown",
   "metadata": {},
   "source": [
    "# TFRecord\n",
    "- https://www.tensorflow.org/tutorials/load_data/tfrecord\n",
    "    - ~~텐서플로우 공부하기 좋음~~\n",
    "- Tensorflow에서 제공하는 데이터셋을 파일 저장방식.\n",
    "    - 데이터 양이 많을 경우 이를 Binary로 Seralization(직렬화)하여 하나의 파일로 저장하고 있다가, 이를 다시 읽어 들여  처리하면 처리속도를 향상시킬 수 있다. Tensorflow에서 이를 위해서 데이터 셋을 Protocol Buffer 형태로 Serialization을 수행해서 저장할 수 있는 TFRecords 파일 포맷 형태를 지원한다. \n",
    "        - ~~Protocol Buffer : 파일 포멧이라 생각하자~~\n",
    "    - tf.train.Example 클래스를 이용해서 {“string” : tf.train.Feature} 의 딕셔너리 형태로 데이터들을 TFRecords 파일에 저장할 수 있다.\n",
    "- `tf.train.Example`\n",
    "    - 하나의 데이터를 TFRecord에 저장하기 위해 변환하는 클래스. 하나의 데이터를 tf.train.Example 의 객체로 변환해서 저장한다.\n",
    "- `tf.train.Feature`\n",
    "    - 하나의 데이터를 구성하는 속성(feature)들을 변환하는 클래스.\n",
    "    - tf.train.Feature는 다음 세가지 타입을 지원한다.\n",
    "        - `tf.train.BytesList` – string, byte(일반파일, 이미지) 타입을 변환\n",
    "        - `tf.train.FloatList` –  float(float32), double(float64) 타입을 변환\n",
    "        - `tf.train.Int64List` – bool, enum, int32, uint32, int64, uint64 타입을 변환\n",
    "- tf.train.Example의 형태\n",
    "```python\n",
    "{\n",
    "    \"feature명\":tf.train.Feature타입객체,\n",
    "    \"feature명\":tf.train.Feature타입객체,\n",
    "    ...\n",
    "}\n",
    "```"
   ]
  },
  {
   "cell_type": "code",
   "execution_count": 3,
   "metadata": {},
   "outputs": [],
   "source": [
    "import tensorflow as tf"
   ]
  },
  {
   "cell_type": "code",
   "execution_count": 4,
   "metadata": {},
   "outputs": [],
   "source": [
    "# tf.train.Feature 객체들을 생성하는 (기본타입의 값들을 Feature로 변환하는) 함수 구현.\n",
    "def _bytes_feature(value):\n",
    "    \"\"\"\n",
    "    value로 string, bypes를 받아 Byteslist로 변환하는 함수\n",
    "    \"\"\"\n",
    "    # value가 Tensor(텐서플로우의 배열 타입)타입인 경우 ndarray로 변환\n",
    "    # ==> binary 파일\n",
    "    if isinstance(value, type(tf.constant(0))):\n",
    "        value = value.numpy()\n",
    "        \n",
    "    return tf.train.Feature(bytes_list=tf.train.BytesList(value=[value]))\n",
    "\n",
    "def _float_feature(value):\n",
    "    \"\"\"\n",
    "    float타입의 value를 받아 FloatList로 변환하는 함수\n",
    "    \"\"\"\n",
    "    return tf.train.Feature(float_list=tf.train.FloatList(value=[value]))\n",
    "\n",
    "def _int64_feature(value):\n",
    "    \"\"\"\n",
    "    int, uint, bool 타입의 value를 받아 Int64List로 변환하는 함수\n",
    "    \"\"\"\n",
    "    return tf.train.Feature(int64_list=tf.train.Int64List(value=[value]))"
   ]
  },
  {
   "cell_type": "code",
   "execution_count": 5,
   "metadata": {},
   "outputs": [
    {
     "data": {
      "text/plain": [
       "tensorflow.python.framework.ops.EagerTensor"
      ]
     },
     "execution_count": 5,
     "metadata": {},
     "output_type": "execute_result"
    }
   ],
   "source": [
    "type(tf.constant(0))"
   ]
  },
  {
   "cell_type": "code",
   "execution_count": 6,
   "metadata": {},
   "outputs": [
    {
     "name": "stdout",
     "output_type": "stream",
     "text": [
      "<class 'tensorflow.core.example.feature_pb2.Feature'>\n",
      "int64_list {\n",
      "  value: 20\n",
      "}\n",
      "\n"
     ]
    }
   ],
   "source": [
    "v = _int64_feature(20)\n",
    "print(type(v))\n",
    "print(v)"
   ]
  },
  {
   "cell_type": "code",
   "execution_count": 7,
   "metadata": {},
   "outputs": [
    {
     "name": "stdout",
     "output_type": "stream",
     "text": [
      "<class 'tensorflow.core.example.feature_pb2.Feature'>\n",
      "float_list {\n",
      "  value: 56.7\n",
      "}\n",
      "\n"
     ]
    }
   ],
   "source": [
    "v = _float_feature(56.7)\n",
    "print(type(v))\n",
    "print(v)"
   ]
  },
  {
   "cell_type": "code",
   "execution_count": 8,
   "metadata": {},
   "outputs": [
    {
     "name": "stdout",
     "output_type": "stream",
     "text": [
      "<class 'tensorflow.core.example.feature_pb2.Feature'>\n",
      "int64_list {\n",
      "  value: 1\n",
      "}\n",
      "\n"
     ]
    }
   ],
   "source": [
    "v = _int64_feature(True)\n",
    "print(type(v))\n",
    "print(v)"
   ]
  },
  {
   "cell_type": "code",
   "execution_count": 9,
   "metadata": {},
   "outputs": [
    {
     "name": "stdout",
     "output_type": "stream",
     "text": [
      "bytes_list {\n",
      "  value: \"hello\"\n",
      "}\n",
      "\n"
     ]
    }
   ],
   "source": [
    "v = _bytes_feature(b'hello') # 문자열, byte => bytes타입으로 전달해줘야함\n",
    "print(v)"
   ]
  },
  {
   "cell_type": "code",
   "execution_count": 10,
   "metadata": {},
   "outputs": [
    {
     "data": {
      "text/plain": [
       "bytes_list {\n",
       "  value: \"\\355\\231\\215\\352\\270\\270\\353\\217\\231\"\n",
       "}"
      ]
     },
     "execution_count": 10,
     "metadata": {},
     "output_type": "execute_result"
    }
   ],
   "source": [
    "s = '홍길동' # 일반 string일 경우 => byte타입으로 변환한 뒤에 byteslist로 변환\n",
    "_bytes_feature(s.encode('utf-8'))"
   ]
  },
  {
   "cell_type": "code",
   "execution_count": 11,
   "metadata": {},
   "outputs": [
    {
     "ename": "FileNotFoundError",
     "evalue": "[Errno 2] No such file or directory: 'lion.jpg'",
     "output_type": "error",
     "traceback": [
      "\u001b[1;31m----------------------------------------------------------------------\u001b[0m",
      "\u001b[1;31mFileNotFoundError\u001b[0m                    Traceback (most recent call last)",
      "\u001b[1;32m<ipython-input-11-7bacce152dce>\u001b[0m in \u001b[0;36m<module>\u001b[1;34m\u001b[0m\n\u001b[0;32m      1\u001b[0m \u001b[1;31m# binary 파일(이미지)\u001b[0m\u001b[1;33m\u001b[0m\u001b[1;33m\u001b[0m\u001b[1;33m\u001b[0m\u001b[0m\n\u001b[1;32m----> 2\u001b[1;33m \u001b[1;32mwith\u001b[0m \u001b[0mopen\u001b[0m\u001b[1;33m(\u001b[0m\u001b[1;34m'lion.jpg'\u001b[0m\u001b[1;33m,\u001b[0m \u001b[1;34m'rb'\u001b[0m\u001b[1;33m)\u001b[0m \u001b[1;32mas\u001b[0m \u001b[0mf\u001b[0m\u001b[1;33m:\u001b[0m\u001b[1;33m\u001b[0m\u001b[1;33m\u001b[0m\u001b[0m\n\u001b[0m\u001b[0;32m      3\u001b[0m     \u001b[0mimg\u001b[0m \u001b[1;33m=\u001b[0m \u001b[0mf\u001b[0m\u001b[1;33m.\u001b[0m\u001b[0mread\u001b[0m\u001b[1;33m(\u001b[0m\u001b[1;33m)\u001b[0m\u001b[1;33m\u001b[0m\u001b[1;33m\u001b[0m\u001b[0m\n\u001b[0;32m      4\u001b[0m \u001b[0mtype\u001b[0m\u001b[1;33m(\u001b[0m\u001b[0mimg\u001b[0m\u001b[1;33m)\u001b[0m\u001b[1;33m\u001b[0m\u001b[1;33m\u001b[0m\u001b[0m\n",
      "\u001b[1;31mFileNotFoundError\u001b[0m: [Errno 2] No such file or directory: 'lion.jpg'"
     ]
    }
   ],
   "source": [
    "# binary 파일(이미지)\n",
    "with open('lion.jpg', 'rb') as f:\n",
    "    img = f.read()\n",
    "type(img)"
   ]
  },
  {
   "cell_type": "code",
   "execution_count": 12,
   "metadata": {},
   "outputs": [
    {
     "ename": "NameError",
     "evalue": "name 'img' is not defined",
     "output_type": "error",
     "traceback": [
      "\u001b[1;31m----------------------------------------------------------------------\u001b[0m",
      "\u001b[1;31mNameError\u001b[0m                            Traceback (most recent call last)",
      "\u001b[1;32m<ipython-input-12-f7cb70e9f5e2>\u001b[0m in \u001b[0;36m<module>\u001b[1;34m\u001b[0m\n\u001b[1;32m----> 1\u001b[1;33m \u001b[0mv\u001b[0m \u001b[1;33m=\u001b[0m \u001b[0m_bytes_feature\u001b[0m\u001b[1;33m(\u001b[0m\u001b[0mimg\u001b[0m\u001b[1;33m)\u001b[0m\u001b[1;33m\u001b[0m\u001b[1;33m\u001b[0m\u001b[0m\n\u001b[0m\u001b[0;32m      2\u001b[0m \u001b[0mprint\u001b[0m\u001b[1;33m(\u001b[0m\u001b[0mtype\u001b[0m\u001b[1;33m(\u001b[0m\u001b[0mv\u001b[0m\u001b[1;33m)\u001b[0m\u001b[1;33m)\u001b[0m\u001b[1;33m\u001b[0m\u001b[1;33m\u001b[0m\u001b[0m\n\u001b[0;32m      3\u001b[0m \u001b[0mprint\u001b[0m\u001b[1;33m(\u001b[0m\u001b[0mv\u001b[0m\u001b[1;33m)\u001b[0m\u001b[1;33m\u001b[0m\u001b[1;33m\u001b[0m\u001b[0m\n",
      "\u001b[1;31mNameError\u001b[0m: name 'img' is not defined"
     ]
    }
   ],
   "source": [
    "v = _bytes_feature(img)\n",
    "print(type(v))\n",
    "print(v)"
   ]
  },
  {
   "cell_type": "markdown",
   "metadata": {},
   "source": [
    "### Feature 직렬화\n",
    "- .SerializeToString()\n",
    "    - proto 메세지를 bytes(binary string)로 직렬화\n",
    "    - Example을 tfrecord로 출력하기 전에 변환해야 한다."
   ]
  },
  {
   "cell_type": "code",
   "execution_count": 13,
   "metadata": {},
   "outputs": [
    {
     "name": "stdout",
     "output_type": "stream",
     "text": [
      "float_list {\n",
      "  value: 30.2\n",
      "}\n",
      "\n"
     ]
    }
   ],
   "source": [
    "feature = _float_feature(30.2)\n",
    "print(feature)"
   ]
  },
  {
   "cell_type": "code",
   "execution_count": 14,
   "metadata": {},
   "outputs": [
    {
     "data": {
      "text/plain": [
       "tensorflow.core.example.feature_pb2.Feature"
      ]
     },
     "execution_count": 14,
     "metadata": {},
     "output_type": "execute_result"
    }
   ],
   "source": [
    "type(feature)"
   ]
  },
  {
   "cell_type": "code",
   "execution_count": 15,
   "metadata": {},
   "outputs": [
    {
     "data": {
      "text/plain": [
       "bytes"
      ]
     },
     "execution_count": 15,
     "metadata": {},
     "output_type": "execute_result"
    }
   ],
   "source": [
    "v = feature.SerializeToString() # 출력형태로 변환. String => btyes\n",
    "type(v)"
   ]
  },
  {
   "cell_type": "code",
   "execution_count": 16,
   "metadata": {},
   "outputs": [
    {
     "name": "stdout",
     "output_type": "stream",
     "text": [
      "b'\\x12\\x06\\n\\x04\\x9a\\x99\\xf1A'\n"
     ]
    }
   ],
   "source": [
    "print(v)"
   ]
  },
  {
   "cell_type": "markdown",
   "metadata": {},
   "source": [
    "# TFRecord 저장 예제"
   ]
  },
  {
   "cell_type": "markdown",
   "metadata": {},
   "source": [
    "### tf.train.Example 생성 및 직렬화(Serialize)\n",
    "1. 각 관측값의 Feature들 하나하나는 위의 함수 중 하나를 사용하여 3가지 호환 유형 중 하나를 포함하는 tf.train.Feature로 변환(인코딩)되어야 한다.\n",
    "2. Feature이름 문자열에 1번에서 에서 생성 된 인코딩된 기능 값으로 딕셔너리를 생성한다.\n",
    "3. 2단계에서 생성된 맵은 Features 메시지로 변환한다.\n"
   ]
  },
  {
   "cell_type": "markdown",
   "metadata": {},
   "source": [
    "###  TFRecord로 저장할 Toy Dataset을 생성"
   ]
  },
  {
   "cell_type": "code",
   "execution_count": 17,
   "metadata": {},
   "outputs": [
    {
     "data": {
      "text/plain": [
       "((1000,), (1000,), (1000,), (1000,))"
      ]
     },
     "execution_count": 17,
     "metadata": {},
     "output_type": "execute_result"
    }
   ],
   "source": [
    "import numpy as np\n",
    "N_DATA = 1000 # dataset의 데이터 개수\n",
    "\n",
    "# bool 1000 생성\n",
    "feature0 = np.random.choice([False, True], N_DATA)\n",
    "feature0.shape\n",
    "\n",
    "# 정수 1000\n",
    "feature1 = np.random.randint(0, 5, N_DATA)\n",
    "\n",
    "# string 1000\n",
    "str_list = np.array([b'lion', b'tiger', b'cat', b'dog', b'bear'])\n",
    "feature2 = str_list[feature1]\n",
    "\n",
    "# float 1000\n",
    "feature3 = np.random.randn(N_DATA)\n",
    "feature0.shape, feature1.shape, feature2.shape, feature3.shape"
   ]
  },
  {
   "cell_type": "code",
   "execution_count": 18,
   "metadata": {},
   "outputs": [],
   "source": [
    "def serialize_example(feature0, feature1, feature2, feature3):\n",
    "    \"\"\"\n",
    "    하나의 데이터의 속성(feature)값들을 받아 Example을 생성한 뒤 그 Example을 출력가능한 bytes로 만들어 반환(SeruauzeToString()이용)\n",
    "    feature0 : bool,\n",
    "    feature1 : int, \n",
    "    feature2 : string,\n",
    "    feature3 : float\n",
    "    \"\"\"\n",
    "    # feature들을 dictionary로 생성\n",
    "    feature = {\n",
    "        'feature0' : _int64_feature(feature0),\n",
    "        'feature1' : _int64_feature(feature1),\n",
    "        'feature2' : _bytes_feature(feature2),\n",
    "        'feature3' : _float_feature(feature3),\n",
    "    }\n",
    "    # feature들을 가진 tf.train.Example 객체를 생성\n",
    "    example = tf.train.Example(features=tf.train.Features(feature=feature))\n",
    "#     print(type(example))\n",
    "    \n",
    "    # Example을 TFRecord에 저장하기 위한 형태인 bytes로 변환 => SerializeToString()이용\n",
    "    return example.SerializeToString()"
   ]
  },
  {
   "cell_type": "markdown",
   "metadata": {},
   "source": [
    "### 출력 처리\n",
    "- 출력 처리 속도가 증대된다.\n",
    "- \\_bytes_feature() , \\_float_feature() , \\_int64_feature() 중 하나를 사용하여 tf.train.Feature로 각각의 값을 변환한 뒤 tf.train.Example 메시지를 만든다.\n",
    "- serializeToString()을 이용해 binary string 으로 변환한다.\n",
    "- tf.io.TFRecordWriter를 이용해 출력한다."
   ]
  },
  {
   "cell_type": "code",
   "execution_count": 19,
   "metadata": {},
   "outputs": [],
   "source": [
    "import os\n",
    "# TFrecord 파일 저장할 디렉토리를 생성\n",
    "if not os.path.isdir('tfrecord'):\n",
    "    os.mkdir('tfrecord')"
   ]
  },
  {
   "cell_type": "code",
   "execution_count": 20,
   "metadata": {},
   "outputs": [],
   "source": [
    "# TFRecordWriter 객체를 생성 -> TFRecord파일로 직렬화된 EXample을 출력하는 메소드 제공\n",
    "tfrecord_file_path = './tfrecord/data.tfr' # 확장자: tfr, record, tfrecord\n",
    "tfrecord_writer = tf.io.TFRecordWriter(tfrecord_file_path)"
   ]
  },
  {
   "cell_type": "code",
   "execution_count": 21,
   "metadata": {},
   "outputs": [],
   "source": [
    "for data in zip(feature0, feature1, feature2, feature3):\n",
    "    sv = serialize_example(bool(data[0]), data[1], data[2], data[3])\n",
    "    tfrecord_writer.write(sv)\n",
    "    \n",
    "tfrecord_writer.close() # 출력 Stream 연결 닫기"
   ]
  },
  {
   "cell_type": "markdown",
   "metadata": {},
   "source": [
    "# TFRecord파일 읽기 및 역직렬화(Deserialize)\n",
    "- tfrecord 파일로 저장된 직렬화된 데이터를 읽어 들어와서 feature들을 parsing\n",
    "- tf.data.TFRecordDataset를 이용해 읽는다."
   ]
  },
  {
   "cell_type": "code",
   "execution_count": 22,
   "metadata": {},
   "outputs": [],
   "source": [
    "def _parse_function(tfrecord_serialized):\n",
    "    \"\"\"\n",
    "    serialize(직렬화-bytes)된 Example 데이터 하나를 받아서 역직렬화한 뒤 반환하는 함수\n",
    "    [매개변수]\n",
    "        tfrecord_serialized: 직렬화된 Example\n",
    "    [반환값]\n",
    "        Example구성 Feature들 (feature0,1,2,3)\n",
    "    \"\"\"\n",
    "    # 역직렬화해서 읽어온 Feature들을 저장할 Feature들을 dictionary로 구성\n",
    "    # 이름: 저장할 때 사용한 name, value: 읽어온 Feature를 저장할 빈 Feature(역질려화한 값의 타입을 선언한다))\n",
    "    feature = {\n",
    "        'feature0':tf.io.FixedLenFeature([], tf.int64),\n",
    "        'feature1':tf.io.FixedLenFeature([], tf.int64),\n",
    "        'feature2':tf.io.FixedLenFeature([], tf.string),\n",
    "        'feature3':tf.io.FixedLenFeature([], tf.float32),\n",
    "    }\n",
    "    parsed_features = tf.io.parse_single_example(tfrecord_serialized, feature)\n",
    "    # tf.cast(값, dtype) : 값의 데이터 타입을 지정한 dtype으로 변환\n",
    "    feature0 = tf.cast(parsed_features['feature0'], tf.bool)\n",
    "    feature1 = tf.cast(parsed_features['feature1'], tf.int64)\n",
    "    feature2 = tf.cast(parsed_features['feature2'], tf.string)\n",
    "    feature3 = tf.cast(parsed_features['feature3'], tf.float32)\n",
    "    return feature0, feature1, feature2, feature3"
   ]
  },
  {
   "cell_type": "code",
   "execution_count": 23,
   "metadata": {},
   "outputs": [],
   "source": [
    "# tfrecord 파일 읽기\n",
    "dataset = tf.data.TFRecordDataset(tfrecord_file_path).map(_parse_function)"
   ]
  },
  {
   "cell_type": "code",
   "execution_count": 24,
   "metadata": {},
   "outputs": [
    {
     "name": "stdout",
     "output_type": "stream",
     "text": [
      "True 0 b'lion' 0.15445788\n",
      "False 2 b'cat' -0.6320585\n",
      "False 1 b'tiger' -0.7691321\n"
     ]
    }
   ],
   "source": [
    "# dataset에서 3개의 테이터만 조회\n",
    "for data in dataset.take(3):\n",
    "#     print(type(data))\n",
    "    print(data[0].numpy(), data[1].numpy(),\n",
    "          data[2].numpy(), data[3].numpy())"
   ]
  },
  {
   "cell_type": "code",
   "execution_count": 25,
   "metadata": {},
   "outputs": [
    {
     "data": {
      "text/plain": [
       "(True, False, False, True)"
      ]
     },
     "execution_count": 25,
     "metadata": {},
     "output_type": "execute_result"
    }
   ],
   "source": [
    "feature0[0], feature0[1], feature0[2], feature0[3]"
   ]
  }
 ],
 "metadata": {
  "kernelspec": {
   "display_name": "Python 3",
   "language": "python",
   "name": "python3"
  },
  "language_info": {
   "codemirror_mode": {
    "name": "ipython",
    "version": 3
   },
   "file_extension": ".py",
   "mimetype": "text/x-python",
   "name": "python",
   "nbconvert_exporter": "python",
   "pygments_lexer": "ipython3",
   "version": "3.7.10"
  },
  "varInspector": {
   "cols": {
    "lenName": 16,
    "lenType": 16,
    "lenVar": 40
   },
   "kernels_config": {
    "python": {
     "delete_cmd_postfix": "",
     "delete_cmd_prefix": "del ",
     "library": "var_list.py",
     "varRefreshCmd": "print(var_dic_list())"
    },
    "r": {
     "delete_cmd_postfix": ") ",
     "delete_cmd_prefix": "rm(",
     "library": "var_list.r",
     "varRefreshCmd": "cat(var_dic_list()) "
    }
   },
   "types_to_exclude": [
    "module",
    "function",
    "builtin_function_or_method",
    "instance",
    "_Feature"
   ],
   "window_display": false
  }
 },
 "nbformat": 4,
 "nbformat_minor": 4
}
