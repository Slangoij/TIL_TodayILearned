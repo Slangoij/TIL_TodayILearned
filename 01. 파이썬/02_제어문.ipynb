{
 "cells": [
  {
   "cell_type": "code",
   "execution_count": 1,
   "metadata": {},
   "outputs": [
    {
     "data": {
      "text/plain": [
       "(False, False)"
      ]
     },
     "execution_count": 1,
     "metadata": {},
     "output_type": "execute_result"
    }
   ],
   "source": [
    "bool([]), bool({})\n",
    "# 자료구조: 원소가 0개이면 False, 1개 이상이면 True"
   ]
  },
  {
   "cell_type": "code",
   "execution_count": 3,
   "metadata": {},
   "outputs": [],
   "source": [
    "num=10 # 만약 num이 0이면 \"0입니다.\"로 출력, 아니면 출력안함.\n",
    "if num==0:\n",
    "    print(\"0입니다\")\n",
    "print(\"종료\")"
   ]
  },
  {
   "cell_type": "code",
   "execution_count": 4,
   "metadata": {},
   "outputs": [
    {
     "name": "stdout",
     "output_type": "stream",
     "text": [
      "종료\n"
     ]
    }
   ],
   "source": [
    "num=10\n",
    "# if 조건: -조건: bool타입이 들어오는 곳. 다른 타입이 들어오면 알아서 타입변경.\n",
    "if not num:\n",
    "    print(\"0입니다\")\n",
    "print(\"종료\")"
   ]
  },
  {
   "cell_type": "code",
   "execution_count": null,
   "metadata": {},
   "outputs": [],
   "source": [
    "# ?print # ?함수 : 함수 설명\n",
    "# tab: 자동완성\n",
    "# print   # Shift + Tab"
   ]
  },
  {
   "cell_type": "code",
   "execution_count": 5,
   "metadata": {},
   "outputs": [
    {
     "name": "stdout",
     "output_type": "stream",
     "text": [
      "0\n"
     ]
    }
   ],
   "source": [
    "# num이 0보다 크면 \"양수\" 출력,\n",
    "# 0이면 \"0\"을 출력, 0보다 작으면 \"음수\" 출력\n",
    "num=0\n",
    "if num>0:\n",
    "    print(\"양수\")\n",
    "elif num==0:\n",
    "    print(\"0\")\n",
    "else:\n",
    "    print(\"음수\")"
   ]
  },
  {
   "cell_type": "code",
   "execution_count": 11,
   "metadata": {},
   "outputs": [
    {
     "name": "stdout",
     "output_type": "stream",
     "text": [
      "도시명:광주\n"
     ]
    }
   ],
   "source": [
    "# '서울': 특별시\n",
    "# 인천, 부산, 대구, 광주, 대전, 울산: 광역시\n",
    "city=input(\"도시명:\")"
   ]
  },
  {
   "cell_type": "code",
   "execution_count": 13,
   "metadata": {},
   "outputs": [
    {
     "name": "stdout",
     "output_type": "stream",
     "text": [
      "광주는 광역시\n"
     ]
    }
   ],
   "source": [
    "if city=='서울':\n",
    "    print(city+'특별시')\n",
    "elif city in ['인천','부산','대구',\n",
    "              '광주','대전','울산']:\n",
    "    print(city+'는 광역시')\n",
    "else:\n",
    "    print('일반시')"
   ]
  },
  {
   "cell_type": "code",
   "execution_count": null,
   "metadata": {},
   "outputs": [],
   "source": [
    "print(city, \"특별시\")#, sep=\"\") \n",
    "# 구분자를 sep를 통하여 넣으면 여러개를 프린트할 때 \n",
    "# 그 사이를 마음대로 변경 가능"
   ]
  },
  {
   "cell_type": "code",
   "execution_count": null,
   "metadata": {},
   "outputs": [],
   "source": [
    "# Shift + L은 각 라인 번호 표시 토글키"
   ]
  },
  {
   "cell_type": "markdown",
   "metadata": {},
   "source": [
    "# 반복문\n",
    "- while 문\n",
    "    - 조건이 True인 동안 반복\n",
    "- for in 문\n",
    "    - 자료구조(리스트,튜플,셋,딕셔너리)의 원소들을 하나씩 모두 조회할 때 사용."
   ]
  },
  {
   "cell_type": "markdown",
   "metadata": {},
   "source": [
    "## while 문"
   ]
  },
  {
   "cell_type": "code",
   "execution_count": 5,
   "metadata": {
    "scrolled": false
   },
   "outputs": [
    {
     "name": "stdout",
     "output_type": "stream",
     "text": [
      "0 1 2 3 4 5 6 7 8 9 종료\n"
     ]
    }
   ],
   "source": [
    "cnt=0\n",
    "while cnt<10:\n",
    "    print(cnt,end=' ')\n",
    "    cnt+=1\n",
    "\n",
    "print(\"종료\")"
   ]
  },
  {
   "cell_type": "code",
   "execution_count": 2,
   "metadata": {
    "scrolled": true
   },
   "outputs": [
    {
     "name": "stdout",
     "output_type": "stream",
     "text": [
      "5 10 15 20 25 30 35 40 45 50 55 60 65 70 75 80 85 90 95 100 "
     ]
    }
   ],
   "source": [
    "cnt=1\n",
    "while cnt<=100:\n",
    "    if cnt%5==0:\n",
    "        print(cnt,end=' ')\n",
    "    cnt+=1"
   ]
  },
  {
   "cell_type": "code",
   "execution_count": 1,
   "metadata": {
    "scrolled": true
   },
   "outputs": [
    {
     "name": "stdout",
     "output_type": "stream",
     "text": [
      "5 10 15 20 25 30 35 40 45 50 55 60 65 70 75 80 85 90 95 100 "
     ]
    }
   ],
   "source": [
    "cnt=1\n",
    "flag=True\n",
    "while flag:\n",
    "    if cnt%5==0:\n",
    "        print(cnt,end=' ')\n",
    "    cnt+=1\n",
    "    if cnt>100:\n",
    "        flag=False"
   ]
  },
  {
   "cell_type": "markdown",
   "metadata": {},
   "source": [
    "## for in 문\n",
    "```python\n",
    "for 변수 in iterable:\n",
    "    반복할 구문\n",
    "```"
   ]
  },
  {
   "cell_type": "code",
   "execution_count": 7,
   "metadata": {},
   "outputs": [
    {
     "name": "stdout",
     "output_type": "stream",
     "text": [
      "사과\n",
      "복숭아\n",
      "귤\n",
      "수박\n",
      "배\n"
     ]
    }
   ],
   "source": [
    "fruits=['사과','복숭아','귤','수박','배']\n",
    "\n",
    "index=0 #리스트의 index\n",
    "length=len(fruits)\n",
    "while index<length:\n",
    "    print(fruits[index])\n",
    "    index+=1"
   ]
  },
  {
   "cell_type": "code",
   "execution_count": 8,
   "metadata": {},
   "outputs": [
    {
     "name": "stdout",
     "output_type": "stream",
     "text": [
      "사과,복숭아,귤,수박,배,\n",
      "\n",
      "1,2,3,4,5,\n",
      "\n",
      "10,20,30,\n",
      "\n"
     ]
    }
   ],
   "source": [
    "for fruit in fruits:\n",
    "    print(fruit,end=',')\n",
    "print('\\n')\n",
    "for num in (1,2,3,4,5):\n",
    "    print(num,end=',')\n",
    "print('\\n')\n",
    "for num in {10,20,30}:\n",
    "    print(num,end=',')\n",
    "print('\\n')"
   ]
  },
  {
   "cell_type": "code",
   "execution_count": 10,
   "metadata": {},
   "outputs": [
    {
     "name": "stdout",
     "output_type": "stream",
     "text": [
      "a-10\n",
      "b-20\n",
      "c-30\n"
     ]
    }
   ],
   "source": [
    "d={\n",
    "    'a':10,\n",
    "    'b':20,\n",
    "    'c':30\n",
    "}\n",
    "for key in d:\n",
    "    print(key, end=\"-\")\n",
    "    print(d[key], end=\"\\n\")"
   ]
  },
  {
   "cell_type": "code",
   "execution_count": 11,
   "metadata": {},
   "outputs": [
    {
     "name": "stdout",
     "output_type": "stream",
     "text": [
      "10, 20, 30, a 10/b 20/c 30/"
     ]
    }
   ],
   "source": [
    "d.values(),d.keys(),d.items()\n",
    "for v in d.values():\n",
    "    print(v,end=', ')\n",
    "for v in d.items():\n",
    "    print(v[0],v[1],end='/')"
   ]
  },
  {
   "cell_type": "code",
   "execution_count": 20,
   "metadata": {},
   "outputs": [
    {
     "name": "stdout",
     "output_type": "stream",
     "text": [
      "20\n"
     ]
    }
   ],
   "source": [
    "# key가 'b'인 item의 value를 출력\n",
    "for v in d.items(): #(key,value)\n",
    "    if v[0]=='b':\n",
    "        print(v[1])"
   ]
  },
  {
   "cell_type": "code",
   "execution_count": 22,
   "metadata": {},
   "outputs": [
    {
     "name": "stdout",
     "output_type": "stream",
     "text": [
      "('c', 30)\n"
     ]
    }
   ],
   "source": [
    "for key,value in d.items():\n",
    "    if key=='b':\n",
    "        print(v)"
   ]
  },
  {
   "cell_type": "code",
   "execution_count": 24,
   "metadata": {},
   "outputs": [
    {
     "name": "stdout",
     "output_type": "stream",
     "text": [
      "[1, 2, 3]\n",
      "[10, 20, 30]\n",
      "[100, 200, 300]\n"
     ]
    }
   ],
   "source": [
    "lst=[\n",
    "    [1,2,3],\n",
    "    [10,20,30],\n",
    "    [100,200,300]\n",
    "]\n",
    "# 아래는 모든 자료의 갯수가 똑같을 때만 사용가능\n",
    "for l in lst:\n",
    "    print(l,sep='-')"
   ]
  },
  {
   "cell_type": "code",
   "execution_count": 28,
   "metadata": {},
   "outputs": [
    {
     "name": "stdout",
     "output_type": "stream",
     "text": [
      "100, 200, 300, 100, 200, 300, 100, 200, 300, "
     ]
    }
   ],
   "source": [
    "# 만약 모든 자료의 개수가 같지 않다면 이중 반복문으로\n",
    "for s in lst:\n",
    "    for v in l:\n",
    "        print(v,end=\", \")"
   ]
  },
  {
   "cell_type": "code",
   "execution_count": 27,
   "metadata": {},
   "outputs": [
    {
     "name": "stdout",
     "output_type": "stream",
     "text": [
      "a/b/c/가/나/다/"
     ]
    }
   ],
   "source": [
    "for s in \"abc가나다\":\n",
    "    print(s,end=\"/\")\n",
    "# print로 출력할때 줄이 떨어지는게 싫으면\n",
    "# print(\"aaa\",end=\"\") 이런식으로 end 캐릭터 사용"
   ]
  },
  {
   "cell_type": "code",
   "execution_count": 32,
   "metadata": {
    "scrolled": true
   },
   "outputs": [
    {
     "name": "stdout",
     "output_type": "stream",
     "text": [
      "5, 10, 15, 20, 25, 30, 35, 40, 45, 50, 55, 60, 65, 70, 75, 80, 85, 90, 95, 100, "
     ]
    }
   ],
   "source": [
    "cnt=1\n",
    "while True:\n",
    "    if cnt%5==0:\n",
    "        print(cnt, end=', ')\n",
    "    cnt+=1\n",
    "    if cnt>100:\n",
    "        break # 반복문 끝내기 예약어"
   ]
  },
  {
   "cell_type": "code",
   "execution_count": null,
   "metadata": {},
   "outputs": [],
   "source": [
    "# while True:\n",
    "#     print(1)\n",
    "#     if 멈출조건:\n",
    "#     break"
   ]
  },
  {
   "cell_type": "code",
   "execution_count": 34,
   "metadata": {},
   "outputs": [
    {
     "name": "stdout",
     "output_type": "stream",
     "text": [
      "5, 10, 15, 20, 25, 30, 35, 40, 45, 50, 55, 60, 65, 70, 75, 80, 85, 90, 95, 100, "
     ]
    }
   ],
   "source": [
    "cnt=1\n",
    "while cnt<=100:\n",
    "    if cnt%5!=0: # 5의 배수가 아니면\n",
    "        cnt+=1\n",
    "        continue\n",
    "    print(cnt,end=', ')\n",
    "    cnt+=1"
   ]
  },
  {
   "cell_type": "markdown",
   "metadata": {},
   "source": [
    "## for in 문 관련 내장함수\n",
    "- range()\n",
    "- enumerate()\n",
    "- zip()"
   ]
  },
  {
   "cell_type": "markdown",
   "metadata": {},
   "source": [
    "### range([시작정수],종료정수,[증감정수]) - []는 생략가능"
   ]
  },
  {
   "cell_type": "code",
   "execution_count": 14,
   "metadata": {},
   "outputs": [
    {
     "name": "stdout",
     "output_type": "stream",
     "text": [
      "1 3 5 7 9 "
     ]
    }
   ],
   "source": [
    "range(1,10,2)    # 1 ~ 10-1 2씩 증가\n",
    "for i in range(1,10,2):\n",
    "    print(i, end=' ')\n",
    "#    break"
   ]
  },
  {
   "cell_type": "code",
   "execution_count": 15,
   "metadata": {},
   "outputs": [
    {
     "data": {
      "text/plain": [
       "[1, 2, 3, 4, 5, 6, 7, 8, 9, 10]"
      ]
     },
     "execution_count": 15,
     "metadata": {},
     "output_type": "execute_result"
    }
   ],
   "source": [
    "lst=list(range(1,11))   # 1 ~ 11-1 1씩 증가(증감치 생략)\n",
    "lst"
   ]
  },
  {
   "cell_type": "code",
   "execution_count": 16,
   "metadata": {},
   "outputs": [
    {
     "data": {
      "text/plain": [
       "(0, 1, 2, 3, 4)"
      ]
     },
     "execution_count": 16,
     "metadata": {},
     "output_type": "execute_result"
    }
   ],
   "source": [
    "tu=tuple(range(5)) # range(5): 종료정수. 0 ~ 4, 1씩 증가\n",
    "tu"
   ]
  },
  {
   "cell_type": "code",
   "execution_count": 18,
   "metadata": {},
   "outputs": [
    {
     "data": {
      "text/plain": [
       "{0, 1, 2, 3, 4}"
      ]
     },
     "execution_count": 18,
     "metadata": {},
     "output_type": "execute_result"
    }
   ],
   "source": [
    "s=set(range(5))\n",
    "s"
   ]
  },
  {
   "cell_type": "code",
   "execution_count": 20,
   "metadata": {},
   "outputs": [
    {
     "name": "stdout",
     "output_type": "stream",
     "text": [
      "[]\n",
      "[10, 9, 8, 7, 6, 5, 4, 3, 2, 1, 0, -1, -2, -3, -4, -5, -6, -7, -8, -9]\n"
     ]
    }
   ],
   "source": [
    "print(list(range(1,10,-1)))\n",
    "print(list(range(10,-10,-1)))"
   ]
  },
  {
   "cell_type": "code",
   "execution_count": 21,
   "metadata": {},
   "outputs": [
    {
     "name": "stdout",
     "output_type": "stream",
     "text": [
      "안녕, 안녕, 안녕, 안녕, 안녕, 안녕, 안녕, 안녕, 안녕, 안녕, "
     ]
    }
   ],
   "source": [
    "# 안녕 10번 반복 사용\n",
    "# 변수를 '_' : 반복문 내에서 사용하지 않겠다.\n",
    "for _ in range(10): # 0 ~ 9 : 10번\n",
    "    print('안녕',end=', ')"
   ]
  },
  {
   "cell_type": "markdown",
   "metadata": {},
   "source": [
    "### enumerate(Iterable [,start=시작값]) []: 생략가능"
   ]
  },
  {
   "cell_type": "code",
   "execution_count": 28,
   "metadata": {},
   "outputs": [
    {
     "name": "stdout",
     "output_type": "stream",
     "text": [
      "(0, '가')\n",
      "(1, '나')\n",
      "(2, '다')\n"
     ]
    }
   ],
   "source": [
    "str_list=['가','나','다']\n",
    "for s in enumerate(str_list):\n",
    "    print(s)#,end=', ')"
   ]
  },
  {
   "cell_type": "code",
   "execution_count": 29,
   "metadata": {},
   "outputs": [
    {
     "name": "stdout",
     "output_type": "stream",
     "text": [
      "2 다\n"
     ]
    }
   ],
   "source": [
    "for idx,s in enumerate(str_list):\n",
    "    if idx==2:\n",
    "        print(idx,s)"
   ]
  },
  {
   "cell_type": "code",
   "execution_count": 31,
   "metadata": {},
   "outputs": [
    {
     "name": "stdout",
     "output_type": "stream",
     "text": [
      "100 가\n",
      "101 나\n",
      "102 다\n"
     ]
    }
   ],
   "source": [
    "for idx,s in enumerate(str_list,start=100):\n",
    "    print(idx,s)"
   ]
  },
  {
   "cell_type": "markdown",
   "metadata": {},
   "source": [
    "### zip(iterable,iterable [, ...])"
   ]
  },
  {
   "cell_type": "code",
   "execution_count": 32,
   "metadata": {},
   "outputs": [],
   "source": [
    "a=[1,2,3]\n",
    "b=[10,20,30]\n",
    "c=100,200,300,\n",
    "d={'가','나','다'}"
   ]
  },
  {
   "cell_type": "code",
   "execution_count": 34,
   "metadata": {
    "scrolled": true
   },
   "outputs": [
    {
     "name": "stdout",
     "output_type": "stream",
     "text": [
      "(1, 10, 100, '나')\n",
      "(2, 20, 200, '가')\n",
      "(3, 30, 300, '다')\n"
     ]
    }
   ],
   "source": [
    "for v in zip(a,b,c,d):\n",
    "    print(v)"
   ]
  },
  {
   "cell_type": "code",
   "execution_count": 35,
   "metadata": {},
   "outputs": [],
   "source": [
    "names=['홍길동','이순신','박영희']\n",
    "ages=[20,30,40]\n",
    "talls=[180,190,200]"
   ]
  },
  {
   "cell_type": "code",
   "execution_count": 36,
   "metadata": {},
   "outputs": [
    {
     "name": "stdout",
     "output_type": "stream",
     "text": [
      "('홍길동', 20, 180)\n",
      "('이순신', 30, 190)\n",
      "('박영희', 40, 200)\n"
     ]
    }
   ],
   "source": [
    "for info in zip(names,ages,talls):\n",
    "    print(info)"
   ]
  },
  {
   "cell_type": "code",
   "execution_count": 37,
   "metadata": {},
   "outputs": [
    {
     "name": "stdout",
     "output_type": "stream",
     "text": [
      "홍길동 20 180\n",
      "이순신 30 190\n",
      "박영희 40 200\n"
     ]
    }
   ],
   "source": [
    "for names,age,tall in zip(names,ages,talls):\n",
    "    print(names,age,tall)"
   ]
  },
  {
   "cell_type": "markdown",
   "metadata": {},
   "source": [
    "## 컴프리헨션(Comprehension)"
   ]
  },
  {
   "cell_type": "code",
   "execution_count": 39,
   "metadata": {},
   "outputs": [],
   "source": [
    "lst=[1,2,3,4,5]\n",
    "# lst의 원소들에 각각 10을 더한 새로운 리스트 생성."
   ]
  },
  {
   "cell_type": "code",
   "execution_count": 40,
   "metadata": {},
   "outputs": [],
   "source": [
    "lst2=[]\n",
    "for num in lst:\n",
    "    lst2.append(num+10)"
   ]
  },
  {
   "cell_type": "code",
   "execution_count": 41,
   "metadata": {},
   "outputs": [
    {
     "data": {
      "text/plain": [
       "[11, 12, 13, 14, 15]"
      ]
     },
     "execution_count": 41,
     "metadata": {},
     "output_type": "execute_result"
    }
   ],
   "source": [
    "lst2"
   ]
  },
  {
   "cell_type": "code",
   "execution_count": 43,
   "metadata": {},
   "outputs": [
    {
     "data": {
      "text/plain": [
       "[22, 24, 26, 28, 30]"
      ]
     },
     "execution_count": 43,
     "metadata": {},
     "output_type": "execute_result"
    }
   ],
   "source": [
    "# 리스트 컴프리헨션\n",
    "result=[(num+10)*2 for num in lst]\n",
    "result"
   ]
  },
  {
   "cell_type": "code",
   "execution_count": 44,
   "metadata": {},
   "outputs": [
    {
     "data": {
      "text/plain": [
       "{22, 24, 26, 28, 30}"
      ]
     },
     "execution_count": 44,
     "metadata": {},
     "output_type": "execute_result"
    }
   ],
   "source": [
    "# set 컴프리헨션\n",
    "result={(num+10)*2 for num in lst}\n",
    "result"
   ]
  },
  {
   "cell_type": "code",
   "execution_count": 45,
   "metadata": {},
   "outputs": [
    {
     "data": {
      "text/plain": [
       "({1: '가', 2: '가', 3: '가', 4: '가', 5: '가'}, dict)"
      ]
     },
     "execution_count": 45,
     "metadata": {},
     "output_type": "execute_result"
    }
   ],
   "source": [
    "result2={num:'가' for num in lst} #{k:v, k:v}: 딕셔너리\n",
    "result2, type(result2)"
   ]
  },
  {
   "cell_type": "code",
   "execution_count": 47,
   "metadata": {},
   "outputs": [
    {
     "data": {
      "text/plain": [
       "{0: 11, 2: 12, 4: 13, 6: 14, 8: 15}"
      ]
     },
     "execution_count": 47,
     "metadata": {},
     "output_type": "execute_result"
    }
   ],
   "source": [
    "result3={idx*2:num for idx,num in enumerate(lst2)}\n",
    "result3"
   ]
  },
  {
   "cell_type": "code",
   "execution_count": 49,
   "metadata": {},
   "outputs": [],
   "source": [
    "num_list=list(range(100))"
   ]
  },
  {
   "cell_type": "code",
   "execution_count": 52,
   "metadata": {},
   "outputs": [
    {
     "name": "stdout",
     "output_type": "stream",
     "text": [
      "0 10 20 30 40 50 60 70 80 90 "
     ]
    }
   ],
   "source": [
    "#num_list의 원소들 중에 10의 배수만 가지는 리스트를 생성.\n",
    "result=[]\n",
    "for num in num_list:\n",
    "    if num%10==0:\n",
    "        result.append(num)\n",
    "        print(num,end=\" \")"
   ]
  },
  {
   "cell_type": "code",
   "execution_count": 53,
   "metadata": {},
   "outputs": [
    {
     "data": {
      "text/plain": [
       "[0, 10, 20, 30, 40, 50, 60, 70, 80, 90]"
      ]
     },
     "execution_count": 53,
     "metadata": {},
     "output_type": "execute_result"
    }
   ],
   "source": [
    "result"
   ]
  },
  {
   "cell_type": "code",
   "execution_count": 55,
   "metadata": {},
   "outputs": [
    {
     "data": {
      "text/plain": [
       "[0, 10, 20, 30, 40, 50, 60, 70, 80, 90]"
      ]
     },
     "execution_count": 55,
     "metadata": {},
     "output_type": "execute_result"
    }
   ],
   "source": [
    "result2=[num for num in num_list if num%10==0]\n",
    "result2"
   ]
  },
  {
   "cell_type": "code",
   "execution_count": null,
   "metadata": {},
   "outputs": [],
   "source": [
    "# [변수 for 변수 in iterable [for in 또는 if문][for in 또는 if문][for in 또는 if문]]"
   ]
  },
  {
   "cell_type": "markdown",
   "metadata": {},
   "source": [
    "## To Do"
   ]
  },
  {
   "cell_type": "code",
   "execution_count": 1,
   "metadata": {},
   "outputs": [
    {
     "data": {
      "text/plain": [
       "False"
      ]
     },
     "execution_count": 1,
     "metadata": {},
     "output_type": "execute_result"
    }
   ],
   "source": [
    "x=20\n",
    "# 91<=x<=100 # 기본문법은 지원, 하지만 이외 라이브러리서는 지원x\n",
    "x>=91 and x<=100\n",
    "(x>=91)&(x<=100)"
   ]
  },
  {
   "cell_type": "code",
   "execution_count": 3,
   "metadata": {
    "scrolled": true
   },
   "outputs": [
    {
     "name": "stdout",
     "output_type": "stream",
     "text": [
      "A학점\n"
     ]
    }
   ],
   "source": [
    "#(1) 다음 점수 구간에 맞게 학점을 출력하세요.\n",
    "# 91 ~ 100 : A학점\n",
    "# 81 ~ 90 :  B학점\n",
    "# 71 ~ 80 :  C학점\n",
    "# 61 ~ 70 :  D학점\n",
    "# 60이하   : F학점\n",
    "value=99 # int(input(\"학점입력: \"))\n",
    "if value>90:\n",
    "    print(\"A학점\")\n",
    "elif value>80:\n",
    "    print(\"B학점\")\n",
    "elif value>70:\n",
    "    print(\"C학점\")\n",
    "elif value>60:\n",
    "    print(\"D학점\")\n",
    "else:\n",
    "    print('F학점')"
   ]
  },
  {
   "cell_type": "code",
   "execution_count": 21,
   "metadata": {},
   "outputs": [
    {
     "data": {
      "text/plain": [
       "89.0"
      ]
     },
     "execution_count": 21,
     "metadata": {},
     "output_type": "execute_result"
    }
   ],
   "source": [
    "#(2) 아래 리스트의 평균을 구하시오.\n",
    "jumsu = [100, 90, 100, 80, 70, 100, 80, 90, 95, 85]\n",
    "s_v=0\n",
    "for num in jumsu:\n",
    "    s_v+=num\n",
    "average=s_v/len(jumsu)\n",
    "average"
   ]
  },
  {
   "cell_type": "code",
   "execution_count": 23,
   "metadata": {},
   "outputs": [
    {
     "data": {
      "text/plain": [
       "2.3333333333333335"
      ]
     },
     "execution_count": 23,
     "metadata": {},
     "output_type": "execute_result"
    }
   ],
   "source": [
    "# sum(Iterable) : 합계 구하는 내장 함수.\n",
    "sdf=[1,2,4]\n",
    "del sum\n",
    "sum(sdf)/len(sdf)"
   ]
  },
  {
   "cell_type": "code",
   "execution_count": 60,
   "metadata": {},
   "outputs": [
    {
     "name": "stdout",
     "output_type": "stream",
     "text": [
      "0-pass\n",
      "1-pass\n",
      "2-pass\n",
      "3-fail\n",
      "4-fail\n",
      "5-pass\n",
      "6-fail\n",
      "7-pass\n",
      "8-pass\n",
      "9-fail\n"
     ]
    }
   ],
   "source": [
    "#(3) 위 jumsu리스트에서 평균점수이상은 pass, 미만은 fail을 index번호와 함께 출력하시오. (ex: 0-pass, 1-pass, 2-fail)\n",
    "\t\t\n",
    "for idx,jum in enumerate(jumsu):\n",
    "    if jum>=average:\n",
    "        print(str(idx)+'-'+'pass')\n",
    "    else:\n",
    "        print(str(idx)+'-'+'fail')"
   ]
  },
  {
   "cell_type": "code",
   "execution_count": 26,
   "metadata": {},
   "outputs": [
    {
     "name": "stdout",
     "output_type": "stream",
     "text": [
      "95\n"
     ]
    }
   ],
   "source": [
    "#(4) 아래 리스트 값들 중 최대값을 조회해 출력\n",
    "jumsu = [60, 90, 80, 80, 70, 55, 80, 90, 95, 85]\n",
    "max_val=0\n",
    "for jum in jumsu:\n",
    "    if max_val<jum:\n",
    "        max_val=jum\n",
    "print(max_val)"
   ]
  },
  {
   "cell_type": "code",
   "execution_count": 27,
   "metadata": {},
   "outputs": [
    {
     "name": "stdout",
     "output_type": "stream",
     "text": [
      "95\n",
      "55\n",
      "785\n"
     ]
    }
   ],
   "source": [
    "# 내장함수\n",
    "print(max(jumsu))\n",
    "print(min(jumsu))\n",
    "print(sum(jumsu))"
   ]
  },
  {
   "cell_type": "code",
   "execution_count": 63,
   "metadata": {},
   "outputs": [
    {
     "name": "stdout",
     "output_type": "stream",
     "text": [
      "갑\n",
      "을\n",
      "병\n"
     ]
    }
   ],
   "source": [
    "#(5) 다음 리스트 중에서 '정' 글자를 제외하고 출력하세요.\n",
    "str_list = [\"갑\", \"을\", \"병\", \"정\"]\n",
    "for jum in str_list:\n",
    "    if jum=='정':\n",
    "        continue\n",
    "    print(jum)"
   ]
  },
  {
   "cell_type": "code",
   "execution_count": 64,
   "metadata": {},
   "outputs": [
    {
     "name": "stdout",
     "output_type": "stream",
     "text": [
      "단을 입력하시오 :2\n",
      "2 x 1  =  2\n",
      "2 x 2  =  4\n",
      "2 x 3  =  6\n",
      "2 x 4  =  8\n",
      "2 x 5  =  10\n",
      "2 x 6  =  12\n",
      "2 x 7  =  14\n",
      "2 x 8  =  16\n",
      "2 x 9  =  18\n"
     ]
    }
   ],
   "source": [
    "#(6) 사용자로부터 정수를 입력받아 그 단의 구구단을 출력하시오.\n",
    "# ex) 단을 입력하시오 : 2\n",
    "# 2 x 1 = 2\n",
    "# 2 x 2 = 4\n",
    "#..\n",
    "# 2 x 9 = 18\n",
    "value=int(input(\"단을 입력하시오 :\"))\n",
    "for num in range(9):\n",
    "    print(value,'x',num+1,' = ',value*(num+1))"
   ]
  },
  {
   "cell_type": "code",
   "execution_count": 65,
   "metadata": {},
   "outputs": [
    {
     "data": {
      "text/plain": [
       "[20, 60, 140, 10, 240, 1400, 2, 70]"
      ]
     },
     "execution_count": 65,
     "metadata": {},
     "output_type": "execute_result"
    }
   ],
   "source": [
    "#컴프리헨션\n",
    "#(7) 다음 리스트가 가진 값에 두배(* 2)를 가지는 새로운 리스트를 만드시오. (리스트 컴프리헨션 이용)\n",
    "lst = [10, 30, 70, 5, 120, 700, 1, 35]\n",
    "lst2=[num*2 for num in lst]\n",
    "lst2"
   ]
  },
  {
   "cell_type": "code",
   "execution_count": 67,
   "metadata": {},
   "outputs": [
    {
     "data": {
      "text/plain": [
       "[(10, 100),\n",
       " (30, 300),\n",
       " (70, 700),\n",
       " (5, 50),\n",
       " (5, 50),\n",
       " (120, 1200),\n",
       " (700, 7000),\n",
       " (1, 10),\n",
       " (35, 350),\n",
       " (35, 350)]"
      ]
     },
     "execution_count": 67,
     "metadata": {},
     "output_type": "execute_result"
    }
   ],
   "source": [
    "#(8) 다음 리스트가 가진 값에 10배의 값을 가지는 값을 (원래값, 10배값) 의 튜플묶음으로 가지는 리스트를 만드시오 (리스트 컴프리헨션 이용)\n",
    "# Ex) [(10,100), (30,300), .., (35, 350)]\n",
    "lst = [10, 30, 70, 5, 5, 120, 700, 1, 35, 35]\n",
    "lst2=[num*10 for num in lst]\n",
    "\n",
    "lst3=[]\n",
    "for z in zip(lst,lst2):\n",
    "    lst3.append(z)\n",
    "lst3"
   ]
  },
  {
   "cell_type": "code",
   "execution_count": 70,
   "metadata": {},
   "outputs": [
    {
     "data": {
      "text/plain": [
       "[3, 33, 21, 33, 60, 120]"
      ]
     },
     "execution_count": 70,
     "metadata": {},
     "output_type": "execute_result"
    }
   ],
   "source": [
    "#(9) 다음 리스트가 가진 값들 중 3의 배수만 가지는 리스트를 만드시오. (리스트 컴프리헨션 이용)\n",
    "lst2 = [ 3, 20, 33, 21, 33, 8, 11, 10, 7, 17, 60, 120, 2]\n",
    "\n",
    "lst4=[num for num in lst2 if num%3==0]\n",
    "lst4"
   ]
  },
  {
   "cell_type": "code",
   "execution_count": 73,
   "metadata": {},
   "outputs": [
    {
     "data": {
      "text/plain": [
       "['a.exe', 'function.exe', 'b.exe', 'run.exe']"
      ]
     },
     "execution_count": 73,
     "metadata": {},
     "output_type": "execute_result"
    }
   ],
   "source": [
    "#(10) 다음 파일이름들을 담은 리스트에서 확장자가 exe인 파일만 골라서 새로운 리스트에 담으시오.(string의 endswith()함수 이용)\n",
    "file_name=[\"test.txt\", \"a.exe\", \"jupyter.bat\", \"function.exe\", \"b.exe\", \"cat.jpg\", \"dog.png\", \"run.exe\", \"i.dll\"]\n",
    "\n",
    "lst5=[str1 for str1 in file_name if str1.endswith('exe')]\n",
    "lst5"
   ]
  },
  {
   "cell_type": "code",
   "execution_count": 75,
   "metadata": {},
   "outputs": [
    {
     "data": {
      "text/plain": [
       "['mystroy.txt', 'jupyter.bat', 'function.exe']"
      ]
     },
     "execution_count": 75,
     "metadata": {},
     "output_type": "execute_result"
    }
   ],
   "source": [
    "#(11) 다음 중 10글자 이상인 파일명(확장자포함)만 가지는 리스트를 만드시오.\n",
    "file_name=[\"mystroy.txt\", \"a.exe\", \"jupyter.bat\", \"function.exe\", \"b.exe\", \"cat.jpg\", \"dog.png\", \"run.exe\", \"i.dll\"]\n",
    "\n",
    "lst6=[str1 for str1 in file_name if len(str1)>=10]\n",
    "lst6"
   ]
  },
  {
   "cell_type": "code",
   "execution_count": 49,
   "metadata": {},
   "outputs": [
    {
     "name": "stdout",
     "output_type": "stream",
     "text": [
      "72\n"
     ]
    }
   ],
   "source": [
    "import random\n",
    "num=random.randint(1,100)\n",
    "print(num)"
   ]
  },
  {
   "cell_type": "code",
   "execution_count": null,
   "metadata": {},
   "outputs": [],
   "source": [
    "1. random으로 모르는 수 생성.\n",
    "2. 값을 입력.\n",
    "3. while문 사용\n",
    "4. 와일문 내에서 모르는수 입력받은 수를 비교.\n",
    "5. 맞을 시에는 종료 아니면 계속 반복.입력하는 작업 반복.\n",
    "6. count를 세야함. hint도 출력."
   ]
  },
  {
   "cell_type": "code",
   "execution_count": 52,
   "metadata": {},
   "outputs": [
    {
     "name": "stdout",
     "output_type": "stream",
     "text": [
      "1에서 100 사이의 숫자를 입력하시오: 50\n",
      ">>> 더 작은 숫자를 입력하세요.\n",
      "1번째 시도입니다\n",
      "----------\n",
      "1에서 100 사이의 숫자를 입력하시오: 20\n",
      ">>> 더 작은 숫자를 입력하세요.\n",
      "2번째 시도입니다\n",
      "----------\n",
      "1에서 100 사이의 숫자를 입력하시오: 10\n",
      "3번째 시도에 맞췄습니다\n"
     ]
    }
   ],
   "source": [
    "import random\n",
    "num = random.randint(1,100)\n",
    "\n",
    "value = int(input(\"1에서 100 사이의 숫자를 입력하시오: \"))\n",
    "cnt = 1\n",
    "while True:\n",
    "    if value == num:\n",
    "        print(f'{cnt}번째 시도에 맞췄습니다')\n",
    "        break\n",
    "    elif value > num:\n",
    "        print('>>> 더 작은 숫자를 입력하세요.')\n",
    "        print(f'{cnt}번째 시도입니다')\n",
    "        print('-'*10)\n",
    "        value = int(input(\"1에서 100 사이의 숫자를 입력하시오: \"))\n",
    "        cnt+=1\n",
    "        \n",
    "    else:\n",
    "        print('>>> 더 큰 숫자를 입력하세요.')\n",
    "        print(f'{cnt}번째 시도입니다')\n",
    "        print('-'*10)\n",
    "        value = int(input(\"1에서 100 사이의 숫자를 입력하시오: \"))\n",
    "        cnt+=1"
   ]
  },
  {
   "cell_type": "code",
   "execution_count": null,
   "metadata": {},
   "outputs": [],
   "source": []
  },
  {
   "cell_type": "code",
   "execution_count": null,
   "metadata": {},
   "outputs": [],
   "source": []
  }
 ],
 "metadata": {
  "kernelspec": {
   "display_name": "Python 3",
   "language": "python",
   "name": "python3"
  },
  "language_info": {
   "codemirror_mode": {
    "name": "ipython",
    "version": 3
   },
   "file_extension": ".py",
   "mimetype": "text/x-python",
   "name": "python",
   "nbconvert_exporter": "python",
   "pygments_lexer": "ipython3",
   "version": "3.8.5"
  }
 },
 "nbformat": 4,
 "nbformat_minor": 4
}
