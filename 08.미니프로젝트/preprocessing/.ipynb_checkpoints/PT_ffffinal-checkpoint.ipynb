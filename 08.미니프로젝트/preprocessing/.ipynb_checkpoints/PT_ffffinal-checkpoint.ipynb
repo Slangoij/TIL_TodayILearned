{
 "cells": [
  {
   "cell_type": "markdown",
   "id": "trying-gasoline",
   "metadata": {},
   "source": [
    "# 전처리"
   ]
  },
  {
   "cell_type": "code",
   "execution_count": 81,
   "id": "metallic-gibraltar",
   "metadata": {},
   "outputs": [],
   "source": [
    "import numpy as np\n",
    "import pandas as pd\n",
    "import matplotlib as mpl\n",
    "import matplotlib.pyplot as plt\n",
    "import seaborn as sns\n",
    "from sklearn.model_selection import train_test_split, GridSearchCV, RandomizedSearchCV\n",
    "from sklearn.preprocessing import LabelEncoder, OneHotEncoder\n",
    "from sklearn.tree import DecisionTreeClassifier\n",
    "from sklearn.metrics import accuracy_score, classification_report, roc_auc_score\n",
    "\n",
    "mpl.style.use('seaborn')\n",
    "mpl.rcParams[\"font.family\"] = 'Malgun Gothic'\n",
    "mpl.rcParams[\"axes.unicode_minus\"] = False"
   ]
  },
  {
   "cell_type": "code",
   "execution_count": 82,
   "id": "specialized-withdrawal",
   "metadata": {},
   "outputs": [],
   "source": [
    "X_train = pd.read_csv('../data/aug_train.csv')\n",
    "X_test = pd.read_csv('../data/aug_test.csv')"
   ]
  },
  {
   "cell_type": "code",
   "execution_count": 83,
   "id": "heated-found",
   "metadata": {},
   "outputs": [],
   "source": [
    "X = pd.concat([X_train, X_test])\n",
    "# X.drop(columns=['enrollee_id','target'],inplace=True)"
   ]
  },
  {
   "cell_type": "markdown",
   "id": "broad-cutting",
   "metadata": {},
   "source": [
    "## 1. 숫자형으로 변경\n",
    "#### 'education_level',  'last_new_job',  'experience', 'enrolled_university'\n",
    "- 순위형 변수의 특징을 갖고 있어 숫자형 타입으로 변경"
   ]
  },
  {
   "cell_type": "markdown",
   "id": "unnecessary-failure",
   "metadata": {},
   "source": [
    "#### education_level"
   ]
  },
  {
   "cell_type": "code",
   "execution_count": 84,
   "id": "rolled-motor",
   "metadata": {},
   "outputs": [],
   "source": [
    "education_level = ['Primary School', 'High School', 'Graduate', 'Masters', 'Phd']\n",
    "for i, v in enumerate(education_level):\n",
    "    X.loc[X['education_level']==v, 'education_level'] = i"
   ]
  },
  {
   "cell_type": "code",
   "execution_count": 85,
   "id": "average-welding",
   "metadata": {},
   "outputs": [
    {
     "data": {
      "text/plain": [
       "2.0    12867\n",
       "3.0     4857\n",
       "1.0     2239\n",
       "NaN      512\n",
       "4.0      468\n",
       "0.0      344\n",
       "Name: education_level, dtype: int64"
      ]
     },
     "execution_count": 85,
     "metadata": {},
     "output_type": "execute_result"
    }
   ],
   "source": [
    "X['education_level'].value_counts(dropna=False)"
   ]
  },
  {
   "cell_type": "markdown",
   "id": "prostate-visibility",
   "metadata": {},
   "source": [
    "#### last_new_job"
   ]
  },
  {
   "cell_type": "code",
   "execution_count": 86,
   "id": "ranking-lexington",
   "metadata": {},
   "outputs": [],
   "source": [
    "X.loc[X['last_new_job'] == '>4', 'last_new_job'] = 5\n",
    "X.loc[X['last_new_job'] == 'never', 'last_new_job'] = 0\n",
    "\n",
    "X['last_new_job'] = pd.to_numeric(X['last_new_job'], downcast='integer')"
   ]
  },
  {
   "cell_type": "code",
   "execution_count": 87,
   "id": "average-bhutan",
   "metadata": {},
   "outputs": [
    {
     "data": {
      "text/plain": [
       "1.0    8924\n",
       "5.0    3643\n",
       "2.0    3242\n",
       "0.0    2710\n",
       "3.0    1157\n",
       "4.0    1148\n",
       "Name: last_new_job, dtype: int64"
      ]
     },
     "execution_count": 87,
     "metadata": {},
     "output_type": "execute_result"
    }
   ],
   "source": [
    "X['last_new_job'].value_counts()"
   ]
  },
  {
   "cell_type": "markdown",
   "id": "public-adjustment",
   "metadata": {},
   "source": [
    "#### experience"
   ]
  },
  {
   "cell_type": "code",
   "execution_count": 88,
   "id": "precious-calvin",
   "metadata": {},
   "outputs": [],
   "source": [
    "X.loc[X['experience'] == '>20', 'experience'] = 21\n",
    "X.loc[X['experience'] == '<1', 'experience'] = 0\n",
    "\n",
    "X['experience'] = pd.to_numeric(X['experience'], downcast='integer')"
   ]
  },
  {
   "cell_type": "code",
   "execution_count": 89,
   "id": "clear-expansion",
   "metadata": {
    "scrolled": true
   },
   "outputs": [
    {
     "data": {
      "text/plain": [
       "21.0    3669\n",
       "5.0     1593\n",
       "4.0     1548\n",
       "3.0     1508\n",
       "6.0     1346\n",
       "2.0     1255\n",
       "7.0     1144\n",
       "9.0     1093\n",
       "10.0    1081\n",
       "8.0      884\n",
       "11.0     750\n",
       "15.0     745\n",
       "14.0     641\n",
       "1.0      605\n",
       "0.0      596\n",
       "16.0     576\n",
       "12.0     546\n",
       "13.0     453\n",
       "17.0     378\n",
       "19.0     333\n",
       "18.0     306\n",
       "20.0     167\n",
       "NaN       70\n",
       "Name: experience, dtype: int64"
      ]
     },
     "execution_count": 89,
     "metadata": {},
     "output_type": "execute_result"
    }
   ],
   "source": [
    "X['experience'].value_counts(dropna=False)"
   ]
  },
  {
   "cell_type": "markdown",
   "id": "victorian-christianity",
   "metadata": {},
   "source": [
    "#### enrolled_university"
   ]
  },
  {
   "cell_type": "code",
   "execution_count": 90,
   "id": "subject-bangladesh",
   "metadata": {},
   "outputs": [],
   "source": [
    "enrolls = ['no_enrollment','Part time course','Full time course']\n",
    "for i,v in enumerate(enrolls):\n",
    "    X.loc[X['enrolled_university'] == v, 'enrolled_university'] = i"
   ]
  },
  {
   "cell_type": "code",
   "execution_count": 91,
   "id": "expanded-thermal",
   "metadata": {},
   "outputs": [
    {
     "data": {
      "text/plain": [
       "0.0    15336\n",
       "2.0     4192\n",
       "1.0     1342\n",
       "NaN      417\n",
       "Name: enrolled_university, dtype: int64"
      ]
     },
     "execution_count": 91,
     "metadata": {},
     "output_type": "execute_result"
    }
   ],
   "source": [
    "X['enrolled_university'].value_counts(dropna=False)"
   ]
  },
  {
   "cell_type": "markdown",
   "id": "tamil-empire",
   "metadata": {},
   "source": [
    "## 1차 전처리: 결측치를 반반 남녀로 배분\n",
    "#### gender: Nan => Male/Female\n",
    "#### company_size, type\n",
    "#### major: Nan => 비율 맞춰 major/nomajor"
   ]
  },
  {
   "cell_type": "markdown",
   "id": "korean-remains",
   "metadata": {},
   "source": [
    "#### gender"
   ]
  },
  {
   "cell_type": "code",
   "execution_count": 92,
   "id": "recreational-difference",
   "metadata": {},
   "outputs": [],
   "source": [
    "gender_nan_cnt = X['gender'].isna().sum()//2\n",
    "X['gender'].fillna('Female', limit=gender_nan_cnt, inplace=True)\n",
    "X['gender'].fillna('Male', inplace=True)"
   ]
  },
  {
   "cell_type": "markdown",
   "id": "alert-switch",
   "metadata": {},
   "source": [
    "#### company_size, type"
   ]
  },
  {
   "cell_type": "code",
   "execution_count": 93,
   "id": "cleared-wichita",
   "metadata": {},
   "outputs": [],
   "source": [
    "X.loc[X['company_size'].isna(), 'company_size'] = 'unknown'\n",
    "X.loc[X['company_size']=='<10', 'company_size'] = '~10'\n",
    "X.loc[X['company_type'].isna(), 'company_type'] = 'unknown'"
   ]
  },
  {
   "cell_type": "markdown",
   "id": "exterior-anaheim",
   "metadata": {},
   "source": [
    "#### major"
   ]
  },
  {
   "cell_type": "code",
   "execution_count": 94,
   "id": "split-cambodia",
   "metadata": {},
   "outputs": [],
   "source": [
    "# 비율맞춰 처리\n",
    "stem = X['major_discipline'].value_counts(dropna=False)['STEM']\n",
    "nonstem = X.shape[0] - X['major_discipline'].isna().sum() - stem\n",
    "\n",
    "major_limit = int(X['major_discipline'].isna().sum() / (stem+nonstem) * stem)\n",
    "X['major_discipline'].fillna('major', limit=major_limit, inplace=True)\n",
    "X['major_discipline'].fillna('no_major', inplace=True)"
   ]
  },
  {
   "cell_type": "code",
   "execution_count": 95,
   "id": "conscious-personal",
   "metadata": {},
   "outputs": [],
   "source": [
    "# nomajor_lst = list(X['major_discipline'].value_counts(dropna=False).index)\n",
    "# nomajor_lst.remove(np.nan)\n",
    "# nomajor_lst.remove('STEM')\n",
    "# print(nomajor_lst)"
   ]
  },
  {
   "cell_type": "code",
   "execution_count": 96,
   "id": "facial-observer",
   "metadata": {},
   "outputs": [],
   "source": [
    "# non_major_list = []\n",
    "# for val in X['major_discipline'].unique():\n",
    "#     if val != 'STEM':\n",
    "#         non_major_list.append(val)\n",
    "        \n",
    "# non_major = X['major_discipline'].isin(non_major_list)\n",
    "# major = X['major_discipline'] == 'STEM'\n",
    "\n",
    "# X.loc[non_major, 'major_discipline'] = 'non_major'\n",
    "# X.loc[major, 'major_discipline'] = 'major'"
   ]
  },
  {
   "cell_type": "code",
   "execution_count": 97,
   "id": "viral-budapest",
   "metadata": {},
   "outputs": [],
   "source": [
    "# X.loc[(X['major_discipline'] == 'STEM')|(X['major_discipline'].isna()) , 'major_discipline'] = 'major'\n",
    "# X.loc[X['major_discipline'] != 'major', 'major_discipline'] = 'no_major'"
   ]
  },
  {
   "cell_type": "markdown",
   "id": "comparative-democrat",
   "metadata": {},
   "source": [
    "### 최종 결측치 처리: KNN"
   ]
  },
  {
   "cell_type": "code",
   "execution_count": 98,
   "id": "serious-secondary",
   "metadata": {},
   "outputs": [
    {
     "data": {
      "text/plain": [
       "['enrolled_university',\n",
       " 'education_level',\n",
       " 'experience',\n",
       " 'last_new_job',\n",
       " 'target']"
      ]
     },
     "execution_count": 98,
     "metadata": {},
     "output_type": "execute_result"
    }
   ],
   "source": [
    "from sklearn.impute import KNNImputer\n",
    "\n",
    "under_list = []\n",
    "for col in X.columns:\n",
    "    if X[col].isna().sum():\n",
    "        under_list.append(col)\n",
    "        \n",
    "under_list"
   ]
  },
  {
   "cell_type": "code",
   "execution_count": 99,
   "id": "guilty-prairie",
   "metadata": {},
   "outputs": [],
   "source": [
    "imputer = KNNImputer(n_neighbors = 1)\n",
    "X[under_list] = imputer.fit_transform(X[under_list])"
   ]
  },
  {
   "cell_type": "markdown",
   "id": "approximate-spirituality",
   "metadata": {},
   "source": [
    "### 인코딩 전 현재 위아래로 concat되있어 \n",
    "### 중복되있으므로 인덱스 순번대로 재지정"
   ]
  },
  {
   "cell_type": "code",
   "execution_count": 100,
   "id": "tracked-camera",
   "metadata": {},
   "outputs": [],
   "source": [
    "X.reset_index(drop=True, inplace=True)"
   ]
  },
  {
   "cell_type": "markdown",
   "id": "signed-intro",
   "metadata": {},
   "source": [
    "## 1차 전처리:  city-lbe, elseobject-ohe"
   ]
  },
  {
   "cell_type": "markdown",
   "id": "scientific-family",
   "metadata": {},
   "source": [
    "#### 라벨 인코딩"
   ]
  },
  {
   "cell_type": "code",
   "execution_count": 101,
   "id": "excellent-mississippi",
   "metadata": {},
   "outputs": [],
   "source": [
    "X['city'] = LabelEncoder().fit_transform(X['city'])"
   ]
  },
  {
   "cell_type": "markdown",
   "id": "legitimate-associate",
   "metadata": {},
   "source": [
    "#### 원핫인코딩"
   ]
  },
  {
   "cell_type": "code",
   "execution_count": 102,
   "id": "residential-uniform",
   "metadata": {},
   "outputs": [
    {
     "data": {
      "text/plain": [
       "['gender',\n",
       " 'relevent_experience',\n",
       " 'major_discipline',\n",
       " 'company_size',\n",
       " 'company_type']"
      ]
     },
     "execution_count": 102,
     "metadata": {},
     "output_type": "execute_result"
    }
   ],
   "source": [
    "to_ohe = list(X.columns[X[X.columns].dtypes == 'object'])\n",
    "to_ohe"
   ]
  },
  {
   "cell_type": "code",
   "execution_count": 103,
   "id": "furnished-possession",
   "metadata": {},
   "outputs": [
    {
     "data": {
      "text/plain": [
       "((21287, 9),\n",
       " Index(['enrollee_id', 'city', 'city_development_index', 'enrolled_university',\n",
       "        'education_level', 'experience', 'last_new_job', 'training_hours',\n",
       "        'target'],\n",
       "       dtype='object'))"
      ]
     },
     "execution_count": 103,
     "metadata": {},
     "output_type": "execute_result"
    }
   ],
   "source": [
    "# 원핫 인코딩x 컬럼들\n",
    "X_not_ohe = X.loc[:,~X.columns.isin(to_ohe)]\n",
    "X_not_ohe.shape, X_not_ohe.columns"
   ]
  },
  {
   "cell_type": "code",
   "execution_count": 104,
   "id": "worse-messenger",
   "metadata": {},
   "outputs": [
    {
     "data": {
      "text/html": [
       "<div>\n",
       "<style scoped>\n",
       "    .dataframe tbody tr th:only-of-type {\n",
       "        vertical-align: middle;\n",
       "    }\n",
       "\n",
       "    .dataframe tbody tr th {\n",
       "        vertical-align: top;\n",
       "    }\n",
       "\n",
       "    .dataframe thead th {\n",
       "        text-align: right;\n",
       "    }\n",
       "</style>\n",
       "<table border=\"1\" class=\"dataframe\">\n",
       "  <thead>\n",
       "    <tr style=\"text-align: right;\">\n",
       "      <th></th>\n",
       "      <th>gender</th>\n",
       "      <th>relevent_experience</th>\n",
       "      <th>major_discipline</th>\n",
       "      <th>company_size</th>\n",
       "      <th>company_type</th>\n",
       "    </tr>\n",
       "  </thead>\n",
       "  <tbody>\n",
       "    <tr>\n",
       "      <th>0</th>\n",
       "      <td>Male</td>\n",
       "      <td>Has relevent experience</td>\n",
       "      <td>STEM</td>\n",
       "      <td>unknown</td>\n",
       "      <td>unknown</td>\n",
       "    </tr>\n",
       "    <tr>\n",
       "      <th>1</th>\n",
       "      <td>Male</td>\n",
       "      <td>No relevent experience</td>\n",
       "      <td>STEM</td>\n",
       "      <td>50-99</td>\n",
       "      <td>Pvt Ltd</td>\n",
       "    </tr>\n",
       "    <tr>\n",
       "      <th>2</th>\n",
       "      <td>Female</td>\n",
       "      <td>No relevent experience</td>\n",
       "      <td>STEM</td>\n",
       "      <td>unknown</td>\n",
       "      <td>unknown</td>\n",
       "    </tr>\n",
       "    <tr>\n",
       "      <th>3</th>\n",
       "      <td>Female</td>\n",
       "      <td>No relevent experience</td>\n",
       "      <td>Business Degree</td>\n",
       "      <td>unknown</td>\n",
       "      <td>Pvt Ltd</td>\n",
       "    </tr>\n",
       "    <tr>\n",
       "      <th>4</th>\n",
       "      <td>Male</td>\n",
       "      <td>Has relevent experience</td>\n",
       "      <td>STEM</td>\n",
       "      <td>50-99</td>\n",
       "      <td>Funded Startup</td>\n",
       "    </tr>\n",
       "    <tr>\n",
       "      <th>...</th>\n",
       "      <td>...</td>\n",
       "      <td>...</td>\n",
       "      <td>...</td>\n",
       "      <td>...</td>\n",
       "      <td>...</td>\n",
       "    </tr>\n",
       "    <tr>\n",
       "      <th>21282</th>\n",
       "      <td>Male</td>\n",
       "      <td>No relevent experience</td>\n",
       "      <td>Humanities</td>\n",
       "      <td>unknown</td>\n",
       "      <td>Public Sector</td>\n",
       "    </tr>\n",
       "    <tr>\n",
       "      <th>21283</th>\n",
       "      <td>Male</td>\n",
       "      <td>Has relevent experience</td>\n",
       "      <td>STEM</td>\n",
       "      <td>unknown</td>\n",
       "      <td>unknown</td>\n",
       "    </tr>\n",
       "    <tr>\n",
       "      <th>21284</th>\n",
       "      <td>Male</td>\n",
       "      <td>No relevent experience</td>\n",
       "      <td>no_major</td>\n",
       "      <td>unknown</td>\n",
       "      <td>Pvt Ltd</td>\n",
       "    </tr>\n",
       "    <tr>\n",
       "      <th>21285</th>\n",
       "      <td>Male</td>\n",
       "      <td>Has relevent experience</td>\n",
       "      <td>no_major</td>\n",
       "      <td>100-500</td>\n",
       "      <td>Public Sector</td>\n",
       "    </tr>\n",
       "    <tr>\n",
       "      <th>21286</th>\n",
       "      <td>Male</td>\n",
       "      <td>Has relevent experience</td>\n",
       "      <td>STEM</td>\n",
       "      <td>10000+</td>\n",
       "      <td>Pvt Ltd</td>\n",
       "    </tr>\n",
       "  </tbody>\n",
       "</table>\n",
       "<p>21287 rows × 5 columns</p>\n",
       "</div>"
      ],
      "text/plain": [
       "       gender      relevent_experience major_discipline company_size  \\\n",
       "0        Male  Has relevent experience             STEM      unknown   \n",
       "1        Male   No relevent experience             STEM        50-99   \n",
       "2      Female   No relevent experience             STEM      unknown   \n",
       "3      Female   No relevent experience  Business Degree      unknown   \n",
       "4        Male  Has relevent experience             STEM        50-99   \n",
       "...       ...                      ...              ...          ...   \n",
       "21282    Male   No relevent experience       Humanities      unknown   \n",
       "21283    Male  Has relevent experience             STEM      unknown   \n",
       "21284    Male   No relevent experience         no_major      unknown   \n",
       "21285    Male  Has relevent experience         no_major      100-500   \n",
       "21286    Male  Has relevent experience             STEM       10000+   \n",
       "\n",
       "         company_type  \n",
       "0             unknown  \n",
       "1             Pvt Ltd  \n",
       "2             unknown  \n",
       "3             Pvt Ltd  \n",
       "4      Funded Startup  \n",
       "...               ...  \n",
       "21282   Public Sector  \n",
       "21283         unknown  \n",
       "21284         Pvt Ltd  \n",
       "21285   Public Sector  \n",
       "21286         Pvt Ltd  \n",
       "\n",
       "[21287 rows x 5 columns]"
      ]
     },
     "execution_count": 104,
     "metadata": {},
     "output_type": "execute_result"
    }
   ],
   "source": [
    "# 원핫 인코딩 컬럼들\n",
    "X_ohe = X[to_ohe]\n",
    "X_ohe"
   ]
  },
  {
   "cell_type": "code",
   "execution_count": 105,
   "id": "spatial-spoke",
   "metadata": {
    "scrolled": true
   },
   "outputs": [
    {
     "name": "stdout",
     "output_type": "stream",
     "text": [
      "<class 'pandas.core.frame.DataFrame'>\n",
      "RangeIndex: 21287 entries, 0 to 21286\n",
      "Data columns (total 38 columns):\n",
      " #   Column                      Non-Null Count  Dtype  \n",
      "---  ------                      --------------  -----  \n",
      " 0   x0_Female                   21287 non-null  float64\n",
      " 1   x0_Male                     21287 non-null  float64\n",
      " 2   x0_Other                    21287 non-null  float64\n",
      " 3   x1_Has relevent experience  21287 non-null  float64\n",
      " 4   x1_No relevent experience   21287 non-null  float64\n",
      " 5   x2_Arts                     21287 non-null  float64\n",
      " 6   x2_Business Degree          21287 non-null  float64\n",
      " 7   x2_Humanities               21287 non-null  float64\n",
      " 8   x2_No Major                 21287 non-null  float64\n",
      " 9   x2_Other                    21287 non-null  float64\n",
      " 10  x2_STEM                     21287 non-null  float64\n",
      " 11  x2_major                    21287 non-null  float64\n",
      " 12  x2_no_major                 21287 non-null  float64\n",
      " 13  x3_10/49                    21287 non-null  float64\n",
      " 14  x3_100-500                  21287 non-null  float64\n",
      " 15  x3_1000-4999                21287 non-null  float64\n",
      " 16  x3_10000+                   21287 non-null  float64\n",
      " 17  x3_50-99                    21287 non-null  float64\n",
      " 18  x3_500-999                  21287 non-null  float64\n",
      " 19  x3_5000-9999                21287 non-null  float64\n",
      " 20  x3_unknown                  21287 non-null  float64\n",
      " 21  x3_~10                      21287 non-null  float64\n",
      " 22  x4_Early Stage Startup      21287 non-null  float64\n",
      " 23  x4_Funded Startup           21287 non-null  float64\n",
      " 24  x4_NGO                      21287 non-null  float64\n",
      " 25  x4_Other                    21287 non-null  float64\n",
      " 26  x4_Public Sector            21287 non-null  float64\n",
      " 27  x4_Pvt Ltd                  21287 non-null  float64\n",
      " 28  x4_unknown                  21287 non-null  float64\n",
      " 29  enrollee_id                 21287 non-null  int64  \n",
      " 30  city                        21287 non-null  int32  \n",
      " 31  city_development_index      21287 non-null  float64\n",
      " 32  enrolled_university         21287 non-null  float64\n",
      " 33  education_level             21287 non-null  float64\n",
      " 34  experience                  21287 non-null  float64\n",
      " 35  last_new_job                21287 non-null  float64\n",
      " 36  training_hours              21287 non-null  int64  \n",
      " 37  target                      21287 non-null  float64\n",
      "dtypes: float64(35), int32(1), int64(2)\n",
      "memory usage: 6.1 MB\n"
     ]
    }
   ],
   "source": [
    "# 원핫인코딩 실행\n",
    "ohe = OneHotEncoder(sparse=False)\n",
    "X_df = ohe.fit_transform(X_ohe)\n",
    "X_ohe = pd.DataFrame(X_df, columns=ohe.get_feature_names())\n",
    "X_ohe.shape, X_ohe.columns\n",
    "\n",
    "# 합치기\n",
    "X_new = pd.concat([X_ohe, X_not_ohe], axis=1)\n",
    "X_new\n",
    "\n",
    "X_new.info()"
   ]
  },
  {
   "cell_type": "markdown",
   "id": "contrary-mobile",
   "metadata": {},
   "source": [
    "### StandardScaled"
   ]
  },
  {
   "cell_type": "code",
   "execution_count": 106,
   "id": "phantom-sleep",
   "metadata": {},
   "outputs": [],
   "source": [
    "from sklearn.preprocessing import StandardScaler\n",
    "\n",
    "y_tmp = X_new['target']\n",
    "X_scaled = StandardScaler().fit_transform(X_new)\n",
    "X_scaled_df = pd.DataFrame(X_scaled, columns=X_new.columns)\n",
    "X_scaled_df.drop(columns='target',inplace=True)\n",
    "X_scaled_df = pd.concat([X_scaled_df, y_tmp], axis=1)"
   ]
  },
  {
   "cell_type": "markdown",
   "id": "immune-assist",
   "metadata": {},
   "source": [
    "#### enrollee_id 제거, 다시 train,test 분리 후 target 분리"
   ]
  },
  {
   "cell_type": "code",
   "execution_count": 107,
   "id": "metric-shepherd",
   "metadata": {},
   "outputs": [
    {
     "data": {
      "text/plain": [
       "0        1.0\n",
       "1        0.0\n",
       "2        0.0\n",
       "3        1.0\n",
       "4        0.0\n",
       "        ... \n",
       "21282    0.0\n",
       "21283    0.0\n",
       "21284    0.0\n",
       "21285    0.0\n",
       "21286    0.0\n",
       "Name: target, Length: 21287, dtype: float64"
      ]
     },
     "execution_count": 107,
     "metadata": {},
     "output_type": "execute_result"
    }
   ],
   "source": [
    "X_scaled_df.loc[X_scaled_df.index,'target']"
   ]
  },
  {
   "cell_type": "code",
   "execution_count": 108,
   "id": "horizontal-jacksonville",
   "metadata": {},
   "outputs": [
    {
     "name": "stderr",
     "output_type": "stream",
     "text": [
      "c:\\users\\inje.jeong\\anaconda3\\envs\\ml\\lib\\site-packages\\pandas\\core\\frame.py:4315: SettingWithCopyWarning: \n",
      "A value is trying to be set on a copy of a slice from a DataFrame\n",
      "\n",
      "See the caveats in the documentation: https://pandas.pydata.org/pandas-docs/stable/user_guide/indexing.html#returning-a-view-versus-a-copy\n",
      "  errors=errors,\n"
     ]
    }
   ],
   "source": [
    "X_train = X_scaled_df.loc[X_scaled_df.loc[X_scaled_df.index, 'target'] != -1]\n",
    "X_test = X_scaled_df.loc[X_scaled_df.loc[X_scaled_df.index, 'target'] == -1]\n",
    "X_test.drop(columns='target',inplace=True)"
   ]
  },
  {
   "cell_type": "markdown",
   "id": "increasing-applicant",
   "metadata": {},
   "source": [
    "#### 테이블 저장"
   ]
  },
  {
   "cell_type": "code",
   "execution_count": 110,
   "id": "original-consultation",
   "metadata": {},
   "outputs": [],
   "source": [
    "X_train.to_csv('../data/prepcd_train.csv', index=False)\n",
    "X_test.to_csv('../data/prepcd_test.csv', index=False)"
   ]
  }
 ],
 "metadata": {
  "kernelspec": {
   "display_name": "Python 3",
   "language": "python",
   "name": "python3"
  },
  "language_info": {
   "codemirror_mode": {
    "name": "ipython",
    "version": 3
   },
   "file_extension": ".py",
   "mimetype": "text/x-python",
   "name": "python",
   "nbconvert_exporter": "python",
   "pygments_lexer": "ipython3",
   "version": "3.7.10"
  }
 },
 "nbformat": 4,
 "nbformat_minor": 5
}
