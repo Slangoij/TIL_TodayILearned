{
 "cells": [
  {
   "cell_type": "markdown",
   "id": "trying-gasoline",
   "metadata": {},
   "source": [
    "# 전처리"
   ]
  },
  {
   "cell_type": "code",
   "execution_count": 189,
   "id": "metallic-gibraltar",
   "metadata": {},
   "outputs": [],
   "source": [
    "import numpy as np\n",
    "import pandas as pd\n",
    "import matplotlib as mpl\n",
    "import matplotlib.pyplot as plt\n",
    "import seaborn as sns\n",
    "from sklearn.model_selection import train_test_split, GridSearchCV, RandomizedSearchCV\n",
    "from sklearn.preprocessing import LabelEncoder, OneHotEncoder\n",
    "from sklearn.tree import DecisionTreeClassifier\n",
    "from sklearn.metrics import accuracy_score, classification_report, roc_auc_score\n",
    "\n",
    "mpl.style.use('seaborn')\n",
    "mpl.rcParams[\"font.family\"] = 'Malgun Gothic'\n",
    "mpl.rcParams[\"axes.unicode_minus\"] = False"
   ]
  },
  {
   "cell_type": "code",
   "execution_count": 190,
   "id": "disturbed-comparative",
   "metadata": {},
   "outputs": [],
   "source": [
    "import time\n",
    "def my_time(func):\n",
    "    def wrapper():\n",
    "        str_time = time.time()\n",
    "        func()\n",
    "        end_time = time.time()\n",
    "        print(end_time-str_time, '초 소요')\n",
    "    return wrapper"
   ]
  },
  {
   "cell_type": "code",
   "execution_count": 191,
   "id": "specialized-withdrawal",
   "metadata": {},
   "outputs": [],
   "source": [
    "X_train = pd.read_csv('../data/aug_train.csv')\n",
    "X_test = pd.read_csv('../data/aug_test.csv')"
   ]
  },
  {
   "cell_type": "code",
   "execution_count": 192,
   "id": "transparent-weather",
   "metadata": {},
   "outputs": [],
   "source": [
    "X_test['target'] = -1"
   ]
  },
  {
   "cell_type": "code",
   "execution_count": 193,
   "id": "academic-upgrade",
   "metadata": {},
   "outputs": [
    {
     "data": {
      "text/plain": [
       "((19158, 14),\n",
       " Index(['enrollee_id', 'city', 'city_development_index', 'gender',\n",
       "        'relevent_experience', 'enrolled_university', 'education_level',\n",
       "        'major_discipline', 'experience', 'company_size', 'company_type',\n",
       "        'last_new_job', 'training_hours', 'target'],\n",
       "       dtype='object'),\n",
       " (2129, 14),\n",
       " Index(['enrollee_id', 'city', 'city_development_index', 'gender',\n",
       "        'relevent_experience', 'enrolled_university', 'education_level',\n",
       "        'major_discipline', 'experience', 'company_size', 'company_type',\n",
       "        'last_new_job', 'training_hours', 'target'],\n",
       "       dtype='object'))"
      ]
     },
     "execution_count": 193,
     "metadata": {},
     "output_type": "execute_result"
    }
   ],
   "source": [
    "X_train.shape, X_train.columns, X_test.shape, X_test.columns"
   ]
  },
  {
   "cell_type": "code",
   "execution_count": 194,
   "id": "heated-found",
   "metadata": {},
   "outputs": [],
   "source": [
    "X = pd.concat([X_train, X_test])\n",
    "# X.drop(columns=['enrollee_id','target'],inplace=True)"
   ]
  },
  {
   "cell_type": "code",
   "execution_count": 195,
   "id": "competent-cattle",
   "metadata": {},
   "outputs": [
    {
     "data": {
      "text/plain": [
       "(21287, 14)"
      ]
     },
     "execution_count": 195,
     "metadata": {},
     "output_type": "execute_result"
    }
   ],
   "source": [
    "X.shape"
   ]
  },
  {
   "cell_type": "markdown",
   "id": "sunrise-function",
   "metadata": {},
   "source": [
    "#### 해당 컬럼부터 숫자형으로 변경"
   ]
  },
  {
   "cell_type": "code",
   "execution_count": 196,
   "id": "polyphonic-error",
   "metadata": {},
   "outputs": [],
   "source": [
    "numeric_feature = ['city_development_index', 'training_hours',\n",
    "                   'education_level', 'last_new_job',  'experience', 'enrolled_university']"
   ]
  },
  {
   "cell_type": "code",
   "execution_count": 197,
   "id": "dietary-catch",
   "metadata": {},
   "outputs": [
    {
     "name": "stdout",
     "output_type": "stream",
     "text": [
      "93\n",
      "[0.92  0.776 0.624 0.789 0.767 0.764 0.762 0.913 0.926 0.827 0.843 0.804\n",
      " 0.855 0.887 0.91  0.884 0.924 0.666 0.558 0.923 0.794 0.754 0.939 0.55\n",
      " 0.865 0.698 0.893 0.796 0.866 0.682 0.802 0.579 0.878 0.897 0.949 0.925\n",
      " 0.896 0.836 0.693 0.769 0.775 0.903 0.555 0.727 0.64  0.516 0.743 0.899\n",
      " 0.915 0.689 0.895 0.89  0.847 0.527 0.766 0.738 0.647 0.795 0.74  0.701\n",
      " 0.493 0.84  0.691 0.735 0.742 0.479 0.722 0.921 0.848 0.856 0.898 0.83\n",
      " 0.73  0.68  0.725 0.556 0.448 0.763 0.745 0.645 0.788 0.78  0.512 0.739\n",
      " 0.563 0.518 0.824 0.487 0.649 0.781 0.625 0.807 0.664]\n",
      "241\n",
      "[ 36  47  83  52   8  24  18  46 123  32 108  23  26 106   7 132  68  50\n",
      "  48  65  13  22 148  72  40 141  82 145 206 152  42  14 112  87  20  21\n",
      "  92 102  43  45  19  90  25  15  98 142  28 228  29  12  17  35   4 136\n",
      "  27  74  86  75 332 140 182 172  33  34 150 160   3   2 210 101  59 260\n",
      " 131 109  70  51  60 164 290 133  76 156 120 100  39  55  49   6 125 326\n",
      " 198  11  41 114 246  81  31  84 105  38 178 104 202  88 218  62  10  80\n",
      "  77  37 162 190  30  16   5  54  44 110 262 107 134 103  96  57 240  94\n",
      " 113  56  64 320   9 129  58 126 166  95  97 204 116 161 146 302  53 143\n",
      " 124 214 288 306 322  67  61 130 220  78 314 226 280  91 234 163 151  85\n",
      " 256 168 144  66 128  73 122 154  63 292 188  71 135 138 184  89 157 118\n",
      " 111 192 127 216 139 196  99 167 276 121  69 155 316 242 304 284 278 310\n",
      " 222 212 250 180 258 330 158 149 165  79 194 176 174 312 200 328 300 153\n",
      " 232 336 308 147 298 224 254 248 236 170 264 119 117 334 324   1 238 266\n",
      " 282 268 244 272 294 270 286]\n",
      "6\n",
      "['Graduate' 'Masters' 'High School' nan 'Phd' 'Primary School']\n",
      "7\n",
      "['1' '>4' 'never' '4' '3' '2' nan]\n",
      "23\n",
      "['>20' '15' '5' '<1' '11' '13' '7' '17' '2' '16' '1' '4' '10' '14' '18'\n",
      " '19' '12' '3' '6' '9' '8' '20' nan]\n",
      "4\n",
      "['no_enrollment' 'Full time course' nan 'Part time course']\n"
     ]
    }
   ],
   "source": [
    "# 각 컬럼 데이터 개수부터 확인\n",
    "for col in numeric_feature:\n",
    "    print(X[col].unique().size)\n",
    "    print(X[col].unique())"
   ]
  },
  {
   "cell_type": "markdown",
   "id": "unnecessary-failure",
   "metadata": {},
   "source": [
    "#### edu_lvl"
   ]
  },
  {
   "cell_type": "code",
   "execution_count": 198,
   "id": "rolled-motor",
   "metadata": {},
   "outputs": [],
   "source": [
    "education_level = ['Primary School', 'High School', 'Graduate', 'Masters', 'Phd']\n",
    "for i, v in enumerate(education_level):\n",
    "    X.loc[X['education_level']==v, 'education_level'] = i"
   ]
  },
  {
   "cell_type": "code",
   "execution_count": 199,
   "id": "average-welding",
   "metadata": {},
   "outputs": [
    {
     "data": {
      "text/plain": [
       "2.0    12867\n",
       "3.0     4857\n",
       "1.0     2239\n",
       "NaN      512\n",
       "4.0      468\n",
       "0.0      344\n",
       "Name: education_level, dtype: int64"
      ]
     },
     "execution_count": 199,
     "metadata": {},
     "output_type": "execute_result"
    }
   ],
   "source": [
    "X['education_level'].value_counts(dropna=False)"
   ]
  },
  {
   "cell_type": "markdown",
   "id": "prostate-visibility",
   "metadata": {},
   "source": [
    "#### last_new_job"
   ]
  },
  {
   "cell_type": "code",
   "execution_count": 200,
   "id": "ranking-lexington",
   "metadata": {},
   "outputs": [],
   "source": [
    "X.loc[X['last_new_job'] == '>4', 'last_new_job'] = 5\n",
    "X.loc[X['last_new_job'] == 'never', 'last_new_job'] = 0\n",
    "\n",
    "X['last_new_job'] = pd.to_numeric(X['last_new_job'], downcast='integer')"
   ]
  },
  {
   "cell_type": "code",
   "execution_count": 201,
   "id": "average-bhutan",
   "metadata": {},
   "outputs": [
    {
     "data": {
      "text/plain": [
       "1.0    8924\n",
       "5.0    3643\n",
       "2.0    3242\n",
       "0.0    2710\n",
       "3.0    1157\n",
       "4.0    1148\n",
       "Name: last_new_job, dtype: int64"
      ]
     },
     "execution_count": 201,
     "metadata": {},
     "output_type": "execute_result"
    }
   ],
   "source": [
    "X['last_new_job'].value_counts()"
   ]
  },
  {
   "cell_type": "markdown",
   "id": "public-adjustment",
   "metadata": {},
   "source": [
    "#### exp"
   ]
  },
  {
   "cell_type": "code",
   "execution_count": 202,
   "id": "precious-calvin",
   "metadata": {},
   "outputs": [],
   "source": [
    "X.loc[X['experience'] == '>20', 'experience'] = 21\n",
    "X.loc[X['experience'] == '<1', 'experience'] = 0\n",
    "\n",
    "X['experience'] = pd.to_numeric(X['experience'], downcast='integer')"
   ]
  },
  {
   "cell_type": "code",
   "execution_count": 203,
   "id": "clear-expansion",
   "metadata": {
    "scrolled": true
   },
   "outputs": [
    {
     "data": {
      "text/plain": [
       "21.0    3669\n",
       "5.0     1593\n",
       "4.0     1548\n",
       "3.0     1508\n",
       "6.0     1346\n",
       "2.0     1255\n",
       "7.0     1144\n",
       "9.0     1093\n",
       "10.0    1081\n",
       "8.0      884\n",
       "11.0     750\n",
       "15.0     745\n",
       "14.0     641\n",
       "1.0      605\n",
       "0.0      596\n",
       "16.0     576\n",
       "12.0     546\n",
       "13.0     453\n",
       "17.0     378\n",
       "19.0     333\n",
       "18.0     306\n",
       "20.0     167\n",
       "NaN       70\n",
       "Name: experience, dtype: int64"
      ]
     },
     "execution_count": 203,
     "metadata": {},
     "output_type": "execute_result"
    }
   ],
   "source": [
    "X['experience'].value_counts(dropna=False)"
   ]
  },
  {
   "cell_type": "markdown",
   "id": "victorian-christianity",
   "metadata": {},
   "source": [
    "#### enroll"
   ]
  },
  {
   "cell_type": "code",
   "execution_count": 204,
   "id": "subject-bangladesh",
   "metadata": {},
   "outputs": [],
   "source": [
    "enrolls = ['no_enrollment','Part time course','Full time course']\n",
    "for i,v in enumerate(enrolls):\n",
    "    X.loc[X['enrolled_university'] == v, 'enrolled_university'] = i"
   ]
  },
  {
   "cell_type": "code",
   "execution_count": 205,
   "id": "expanded-thermal",
   "metadata": {},
   "outputs": [
    {
     "data": {
      "text/plain": [
       "0.0    15336\n",
       "2.0     4192\n",
       "1.0     1342\n",
       "NaN      417\n",
       "Name: enrolled_university, dtype: int64"
      ]
     },
     "execution_count": 205,
     "metadata": {},
     "output_type": "execute_result"
    }
   ],
   "source": [
    "X['enrolled_university'].value_counts(dropna=False)"
   ]
  },
  {
   "cell_type": "code",
   "execution_count": 206,
   "id": "waiting-justice",
   "metadata": {},
   "outputs": [
    {
     "name": "stdout",
     "output_type": "stream",
     "text": [
      "<class 'pandas.core.frame.DataFrame'>\n",
      "Int64Index: 21287 entries, 0 to 2128\n",
      "Data columns (total 14 columns):\n",
      " #   Column                  Non-Null Count  Dtype  \n",
      "---  ------                  --------------  -----  \n",
      " 0   enrollee_id             21287 non-null  int64  \n",
      " 1   city                    21287 non-null  object \n",
      " 2   city_development_index  21287 non-null  float64\n",
      " 3   gender                  16271 non-null  object \n",
      " 4   relevent_experience     21287 non-null  object \n",
      " 5   enrolled_university     20870 non-null  object \n",
      " 6   education_level         20775 non-null  object \n",
      " 7   major_discipline        18162 non-null  object \n",
      " 8   experience              21217 non-null  float64\n",
      " 9   company_size            14727 non-null  object \n",
      " 10  company_type            14513 non-null  object \n",
      " 11  last_new_job            20824 non-null  float64\n",
      " 12  training_hours          21287 non-null  int64  \n",
      " 13  target                  21287 non-null  float64\n",
      "dtypes: float64(4), int64(2), object(8)\n",
      "memory usage: 2.4+ MB\n"
     ]
    }
   ],
   "source": [
    "X.info()"
   ]
  },
  {
   "cell_type": "code",
   "execution_count": 207,
   "id": "comparative-lobby",
   "metadata": {},
   "outputs": [
    {
     "data": {
      "text/plain": [
       "company_type              6774\n",
       "company_size              6560\n",
       "gender                    5016\n",
       "major_discipline          3125\n",
       "education_level            512\n",
       "last_new_job               463\n",
       "enrolled_university        417\n",
       "experience                  70\n",
       "enrollee_id                  0\n",
       "city                         0\n",
       "city_development_index       0\n",
       "relevent_experience          0\n",
       "training_hours               0\n",
       "target                       0\n",
       "dtype: int64"
      ]
     },
     "execution_count": 207,
     "metadata": {},
     "output_type": "execute_result"
    }
   ],
   "source": [
    "X.isna().sum().sort_values(ascending=False)"
   ]
  },
  {
   "cell_type": "markdown",
   "id": "warming-iceland",
   "metadata": {},
   "source": [
    "#### 결측치 3% 이하 컬럼의 결측치는 KNN으로 처리"
   ]
  },
  {
   "cell_type": "code",
   "execution_count": 208,
   "id": "portable-disney",
   "metadata": {},
   "outputs": [],
   "source": [
    "to_mode = ['education_level', 'enrolled_university',\n",
    "           'experience', 'last_new_job']"
   ]
  },
  {
   "cell_type": "code",
   "execution_count": 209,
   "id": "answering-fleece",
   "metadata": {},
   "outputs": [
    {
     "data": {
      "text/plain": [
       "['enrolled_university',\n",
       " 'education_level',\n",
       " 'experience',\n",
       " 'last_new_job',\n",
       " 'company_size']"
      ]
     },
     "execution_count": 209,
     "metadata": {},
     "output_type": "execute_result"
    }
   ],
   "source": [
    "limit = X.shape[0] * 0.03\n",
    "under_list = []\n",
    "for col in X.columns:\n",
    "    if 1 < X[col].isna().sum() < limit:\n",
    "        under_list.append(col)\n",
    "under_list.append('company_size')\n",
    "under_list"
   ]
  },
  {
   "cell_type": "code",
   "execution_count": 210,
   "id": "bigger-thought",
   "metadata": {},
   "outputs": [
    {
     "ename": "ValueError",
     "evalue": "could not convert string to float: '50-99'",
     "output_type": "error",
     "traceback": [
      "\u001b[1;31m----------------------------------------------------------------------\u001b[0m",
      "\u001b[1;31mValueError\u001b[0m                           Traceback (most recent call last)",
      "\u001b[1;32m<ipython-input-210-2b018154ecac>\u001b[0m in \u001b[0;36m<module>\u001b[1;34m\u001b[0m\n\u001b[0;32m      2\u001b[0m \u001b[1;33m\u001b[0m\u001b[0m\n\u001b[0;32m      3\u001b[0m \u001b[0mimputer\u001b[0m \u001b[1;33m=\u001b[0m \u001b[0mKNNImputer\u001b[0m\u001b[1;33m(\u001b[0m\u001b[0mn_neighbors\u001b[0m \u001b[1;33m=\u001b[0m \u001b[1;36m1\u001b[0m\u001b[1;33m)\u001b[0m\u001b[1;33m\u001b[0m\u001b[1;33m\u001b[0m\u001b[0m\n\u001b[1;32m----> 4\u001b[1;33m \u001b[0mX\u001b[0m\u001b[1;33m[\u001b[0m\u001b[0munder_list\u001b[0m\u001b[1;33m]\u001b[0m \u001b[1;33m=\u001b[0m \u001b[0mimputer\u001b[0m\u001b[1;33m.\u001b[0m\u001b[0mfit_transform\u001b[0m\u001b[1;33m(\u001b[0m\u001b[0mX\u001b[0m\u001b[1;33m[\u001b[0m\u001b[0munder_list\u001b[0m\u001b[1;33m]\u001b[0m\u001b[1;33m)\u001b[0m\u001b[1;33m\u001b[0m\u001b[1;33m\u001b[0m\u001b[0m\n\u001b[0m",
      "\u001b[1;32mc:\\users\\inje.jeong\\anaconda3\\envs\\ml\\lib\\site-packages\\sklearn\\base.py\u001b[0m in \u001b[0;36mfit_transform\u001b[1;34m(self, X, y, **fit_params)\u001b[0m\n\u001b[0;32m    697\u001b[0m         \u001b[1;32mif\u001b[0m \u001b[0my\u001b[0m \u001b[1;32mis\u001b[0m \u001b[1;32mNone\u001b[0m\u001b[1;33m:\u001b[0m\u001b[1;33m\u001b[0m\u001b[1;33m\u001b[0m\u001b[0m\n\u001b[0;32m    698\u001b[0m             \u001b[1;31m# fit method of arity 1 (unsupervised transformation)\u001b[0m\u001b[1;33m\u001b[0m\u001b[1;33m\u001b[0m\u001b[1;33m\u001b[0m\u001b[0m\n\u001b[1;32m--> 699\u001b[1;33m             \u001b[1;32mreturn\u001b[0m \u001b[0mself\u001b[0m\u001b[1;33m.\u001b[0m\u001b[0mfit\u001b[0m\u001b[1;33m(\u001b[0m\u001b[0mX\u001b[0m\u001b[1;33m,\u001b[0m \u001b[1;33m**\u001b[0m\u001b[0mfit_params\u001b[0m\u001b[1;33m)\u001b[0m\u001b[1;33m.\u001b[0m\u001b[0mtransform\u001b[0m\u001b[1;33m(\u001b[0m\u001b[0mX\u001b[0m\u001b[1;33m)\u001b[0m\u001b[1;33m\u001b[0m\u001b[1;33m\u001b[0m\u001b[0m\n\u001b[0m\u001b[0;32m    700\u001b[0m         \u001b[1;32melse\u001b[0m\u001b[1;33m:\u001b[0m\u001b[1;33m\u001b[0m\u001b[1;33m\u001b[0m\u001b[0m\n\u001b[0;32m    701\u001b[0m             \u001b[1;31m# fit method of arity 2 (supervised transformation)\u001b[0m\u001b[1;33m\u001b[0m\u001b[1;33m\u001b[0m\u001b[1;33m\u001b[0m\u001b[0m\n",
      "\u001b[1;32mc:\\users\\inje.jeong\\anaconda3\\envs\\ml\\lib\\site-packages\\sklearn\\impute\\_knn.py\u001b[0m in \u001b[0;36mfit\u001b[1;34m(self, X, y)\u001b[0m\n\u001b[0;32m    183\u001b[0m         X = self._validate_data(X, accept_sparse=False, dtype=FLOAT_DTYPES,\n\u001b[0;32m    184\u001b[0m                                 \u001b[0mforce_all_finite\u001b[0m\u001b[1;33m=\u001b[0m\u001b[0mforce_all_finite\u001b[0m\u001b[1;33m,\u001b[0m\u001b[1;33m\u001b[0m\u001b[1;33m\u001b[0m\u001b[0m\n\u001b[1;32m--> 185\u001b[1;33m                                 copy=self.copy)\n\u001b[0m\u001b[0;32m    186\u001b[0m \u001b[1;33m\u001b[0m\u001b[0m\n\u001b[0;32m    187\u001b[0m         \u001b[0m_check_weights\u001b[0m\u001b[1;33m(\u001b[0m\u001b[0mself\u001b[0m\u001b[1;33m.\u001b[0m\u001b[0mweights\u001b[0m\u001b[1;33m)\u001b[0m\u001b[1;33m\u001b[0m\u001b[1;33m\u001b[0m\u001b[0m\n",
      "\u001b[1;32mc:\\users\\inje.jeong\\anaconda3\\envs\\ml\\lib\\site-packages\\sklearn\\base.py\u001b[0m in \u001b[0;36m_validate_data\u001b[1;34m(self, X, y, reset, validate_separately, **check_params)\u001b[0m\n\u001b[0;32m    419\u001b[0m             \u001b[0mout\u001b[0m \u001b[1;33m=\u001b[0m \u001b[0mX\u001b[0m\u001b[1;33m\u001b[0m\u001b[1;33m\u001b[0m\u001b[0m\n\u001b[0;32m    420\u001b[0m         \u001b[1;32melif\u001b[0m \u001b[0misinstance\u001b[0m\u001b[1;33m(\u001b[0m\u001b[0my\u001b[0m\u001b[1;33m,\u001b[0m \u001b[0mstr\u001b[0m\u001b[1;33m)\u001b[0m \u001b[1;32mand\u001b[0m \u001b[0my\u001b[0m \u001b[1;33m==\u001b[0m \u001b[1;34m'no_validation'\u001b[0m\u001b[1;33m:\u001b[0m\u001b[1;33m\u001b[0m\u001b[1;33m\u001b[0m\u001b[0m\n\u001b[1;32m--> 421\u001b[1;33m             \u001b[0mX\u001b[0m \u001b[1;33m=\u001b[0m \u001b[0mcheck_array\u001b[0m\u001b[1;33m(\u001b[0m\u001b[0mX\u001b[0m\u001b[1;33m,\u001b[0m \u001b[1;33m**\u001b[0m\u001b[0mcheck_params\u001b[0m\u001b[1;33m)\u001b[0m\u001b[1;33m\u001b[0m\u001b[1;33m\u001b[0m\u001b[0m\n\u001b[0m\u001b[0;32m    422\u001b[0m             \u001b[0mout\u001b[0m \u001b[1;33m=\u001b[0m \u001b[0mX\u001b[0m\u001b[1;33m\u001b[0m\u001b[1;33m\u001b[0m\u001b[0m\n\u001b[0;32m    423\u001b[0m         \u001b[1;32melse\u001b[0m\u001b[1;33m:\u001b[0m\u001b[1;33m\u001b[0m\u001b[1;33m\u001b[0m\u001b[0m\n",
      "\u001b[1;32mc:\\users\\inje.jeong\\anaconda3\\envs\\ml\\lib\\site-packages\\sklearn\\utils\\validation.py\u001b[0m in \u001b[0;36minner_f\u001b[1;34m(*args, **kwargs)\u001b[0m\n\u001b[0;32m     61\u001b[0m             \u001b[0mextra_args\u001b[0m \u001b[1;33m=\u001b[0m \u001b[0mlen\u001b[0m\u001b[1;33m(\u001b[0m\u001b[0margs\u001b[0m\u001b[1;33m)\u001b[0m \u001b[1;33m-\u001b[0m \u001b[0mlen\u001b[0m\u001b[1;33m(\u001b[0m\u001b[0mall_args\u001b[0m\u001b[1;33m)\u001b[0m\u001b[1;33m\u001b[0m\u001b[1;33m\u001b[0m\u001b[0m\n\u001b[0;32m     62\u001b[0m             \u001b[1;32mif\u001b[0m \u001b[0mextra_args\u001b[0m \u001b[1;33m<=\u001b[0m \u001b[1;36m0\u001b[0m\u001b[1;33m:\u001b[0m\u001b[1;33m\u001b[0m\u001b[1;33m\u001b[0m\u001b[0m\n\u001b[1;32m---> 63\u001b[1;33m                 \u001b[1;32mreturn\u001b[0m \u001b[0mf\u001b[0m\u001b[1;33m(\u001b[0m\u001b[1;33m*\u001b[0m\u001b[0margs\u001b[0m\u001b[1;33m,\u001b[0m \u001b[1;33m**\u001b[0m\u001b[0mkwargs\u001b[0m\u001b[1;33m)\u001b[0m\u001b[1;33m\u001b[0m\u001b[1;33m\u001b[0m\u001b[0m\n\u001b[0m\u001b[0;32m     64\u001b[0m \u001b[1;33m\u001b[0m\u001b[0m\n\u001b[0;32m     65\u001b[0m             \u001b[1;31m# extra_args > 0\u001b[0m\u001b[1;33m\u001b[0m\u001b[1;33m\u001b[0m\u001b[1;33m\u001b[0m\u001b[0m\n",
      "\u001b[1;32mc:\\users\\inje.jeong\\anaconda3\\envs\\ml\\lib\\site-packages\\sklearn\\utils\\validation.py\u001b[0m in \u001b[0;36mcheck_array\u001b[1;34m(array, accept_sparse, accept_large_sparse, dtype, order, copy, force_all_finite, ensure_2d, allow_nd, ensure_min_samples, ensure_min_features, estimator)\u001b[0m\n\u001b[0;32m    614\u001b[0m                     \u001b[0marray\u001b[0m \u001b[1;33m=\u001b[0m \u001b[0marray\u001b[0m\u001b[1;33m.\u001b[0m\u001b[0mastype\u001b[0m\u001b[1;33m(\u001b[0m\u001b[0mdtype\u001b[0m\u001b[1;33m,\u001b[0m \u001b[0mcasting\u001b[0m\u001b[1;33m=\u001b[0m\u001b[1;34m\"unsafe\"\u001b[0m\u001b[1;33m,\u001b[0m \u001b[0mcopy\u001b[0m\u001b[1;33m=\u001b[0m\u001b[1;32mFalse\u001b[0m\u001b[1;33m)\u001b[0m\u001b[1;33m\u001b[0m\u001b[1;33m\u001b[0m\u001b[0m\n\u001b[0;32m    615\u001b[0m                 \u001b[1;32melse\u001b[0m\u001b[1;33m:\u001b[0m\u001b[1;33m\u001b[0m\u001b[1;33m\u001b[0m\u001b[0m\n\u001b[1;32m--> 616\u001b[1;33m                     \u001b[0marray\u001b[0m \u001b[1;33m=\u001b[0m \u001b[0mnp\u001b[0m\u001b[1;33m.\u001b[0m\u001b[0masarray\u001b[0m\u001b[1;33m(\u001b[0m\u001b[0marray\u001b[0m\u001b[1;33m,\u001b[0m \u001b[0morder\u001b[0m\u001b[1;33m=\u001b[0m\u001b[0morder\u001b[0m\u001b[1;33m,\u001b[0m \u001b[0mdtype\u001b[0m\u001b[1;33m=\u001b[0m\u001b[0mdtype\u001b[0m\u001b[1;33m)\u001b[0m\u001b[1;33m\u001b[0m\u001b[1;33m\u001b[0m\u001b[0m\n\u001b[0m\u001b[0;32m    617\u001b[0m             \u001b[1;32mexcept\u001b[0m \u001b[0mComplexWarning\u001b[0m \u001b[1;32mas\u001b[0m \u001b[0mcomplex_warning\u001b[0m\u001b[1;33m:\u001b[0m\u001b[1;33m\u001b[0m\u001b[1;33m\u001b[0m\u001b[0m\n\u001b[0;32m    618\u001b[0m                 raise ValueError(\"Complex data not supported\\n\"\n",
      "\u001b[1;32mc:\\users\\inje.jeong\\anaconda3\\envs\\ml\\lib\\site-packages\\numpy\\core\\_asarray.py\u001b[0m in \u001b[0;36masarray\u001b[1;34m(a, dtype, order, like)\u001b[0m\n\u001b[0;32m    100\u001b[0m         \u001b[1;32mreturn\u001b[0m \u001b[0m_asarray_with_like\u001b[0m\u001b[1;33m(\u001b[0m\u001b[0ma\u001b[0m\u001b[1;33m,\u001b[0m \u001b[0mdtype\u001b[0m\u001b[1;33m=\u001b[0m\u001b[0mdtype\u001b[0m\u001b[1;33m,\u001b[0m \u001b[0morder\u001b[0m\u001b[1;33m=\u001b[0m\u001b[0morder\u001b[0m\u001b[1;33m,\u001b[0m \u001b[0mlike\u001b[0m\u001b[1;33m=\u001b[0m\u001b[0mlike\u001b[0m\u001b[1;33m)\u001b[0m\u001b[1;33m\u001b[0m\u001b[1;33m\u001b[0m\u001b[0m\n\u001b[0;32m    101\u001b[0m \u001b[1;33m\u001b[0m\u001b[0m\n\u001b[1;32m--> 102\u001b[1;33m     \u001b[1;32mreturn\u001b[0m \u001b[0marray\u001b[0m\u001b[1;33m(\u001b[0m\u001b[0ma\u001b[0m\u001b[1;33m,\u001b[0m \u001b[0mdtype\u001b[0m\u001b[1;33m,\u001b[0m \u001b[0mcopy\u001b[0m\u001b[1;33m=\u001b[0m\u001b[1;32mFalse\u001b[0m\u001b[1;33m,\u001b[0m \u001b[0morder\u001b[0m\u001b[1;33m=\u001b[0m\u001b[0morder\u001b[0m\u001b[1;33m)\u001b[0m\u001b[1;33m\u001b[0m\u001b[1;33m\u001b[0m\u001b[0m\n\u001b[0m\u001b[0;32m    103\u001b[0m \u001b[1;33m\u001b[0m\u001b[0m\n\u001b[0;32m    104\u001b[0m \u001b[1;33m\u001b[0m\u001b[0m\n",
      "\u001b[1;32mc:\\users\\inje.jeong\\anaconda3\\envs\\ml\\lib\\site-packages\\pandas\\core\\generic.py\u001b[0m in \u001b[0;36m__array__\u001b[1;34m(self, dtype)\u001b[0m\n\u001b[0;32m   1897\u001b[0m \u001b[1;33m\u001b[0m\u001b[0m\n\u001b[0;32m   1898\u001b[0m     \u001b[1;32mdef\u001b[0m \u001b[0m__array__\u001b[0m\u001b[1;33m(\u001b[0m\u001b[0mself\u001b[0m\u001b[1;33m,\u001b[0m \u001b[0mdtype\u001b[0m\u001b[1;33m=\u001b[0m\u001b[1;32mNone\u001b[0m\u001b[1;33m)\u001b[0m \u001b[1;33m->\u001b[0m \u001b[0mnp\u001b[0m\u001b[1;33m.\u001b[0m\u001b[0mndarray\u001b[0m\u001b[1;33m:\u001b[0m\u001b[1;33m\u001b[0m\u001b[1;33m\u001b[0m\u001b[0m\n\u001b[1;32m-> 1899\u001b[1;33m         \u001b[1;32mreturn\u001b[0m \u001b[0mnp\u001b[0m\u001b[1;33m.\u001b[0m\u001b[0masarray\u001b[0m\u001b[1;33m(\u001b[0m\u001b[0mself\u001b[0m\u001b[1;33m.\u001b[0m\u001b[0m_values\u001b[0m\u001b[1;33m,\u001b[0m \u001b[0mdtype\u001b[0m\u001b[1;33m=\u001b[0m\u001b[0mdtype\u001b[0m\u001b[1;33m)\u001b[0m\u001b[1;33m\u001b[0m\u001b[1;33m\u001b[0m\u001b[0m\n\u001b[0m\u001b[0;32m   1900\u001b[0m \u001b[1;33m\u001b[0m\u001b[0m\n\u001b[0;32m   1901\u001b[0m     def __array_wrap__(\n",
      "\u001b[1;32mc:\\users\\inje.jeong\\anaconda3\\envs\\ml\\lib\\site-packages\\numpy\\core\\_asarray.py\u001b[0m in \u001b[0;36masarray\u001b[1;34m(a, dtype, order, like)\u001b[0m\n\u001b[0;32m    100\u001b[0m         \u001b[1;32mreturn\u001b[0m \u001b[0m_asarray_with_like\u001b[0m\u001b[1;33m(\u001b[0m\u001b[0ma\u001b[0m\u001b[1;33m,\u001b[0m \u001b[0mdtype\u001b[0m\u001b[1;33m=\u001b[0m\u001b[0mdtype\u001b[0m\u001b[1;33m,\u001b[0m \u001b[0morder\u001b[0m\u001b[1;33m=\u001b[0m\u001b[0morder\u001b[0m\u001b[1;33m,\u001b[0m \u001b[0mlike\u001b[0m\u001b[1;33m=\u001b[0m\u001b[0mlike\u001b[0m\u001b[1;33m)\u001b[0m\u001b[1;33m\u001b[0m\u001b[1;33m\u001b[0m\u001b[0m\n\u001b[0;32m    101\u001b[0m \u001b[1;33m\u001b[0m\u001b[0m\n\u001b[1;32m--> 102\u001b[1;33m     \u001b[1;32mreturn\u001b[0m \u001b[0marray\u001b[0m\u001b[1;33m(\u001b[0m\u001b[0ma\u001b[0m\u001b[1;33m,\u001b[0m \u001b[0mdtype\u001b[0m\u001b[1;33m,\u001b[0m \u001b[0mcopy\u001b[0m\u001b[1;33m=\u001b[0m\u001b[1;32mFalse\u001b[0m\u001b[1;33m,\u001b[0m \u001b[0morder\u001b[0m\u001b[1;33m=\u001b[0m\u001b[0morder\u001b[0m\u001b[1;33m)\u001b[0m\u001b[1;33m\u001b[0m\u001b[1;33m\u001b[0m\u001b[0m\n\u001b[0m\u001b[0;32m    103\u001b[0m \u001b[1;33m\u001b[0m\u001b[0m\n\u001b[0;32m    104\u001b[0m \u001b[1;33m\u001b[0m\u001b[0m\n",
      "\u001b[1;31mValueError\u001b[0m: could not convert string to float: '50-99'"
     ]
    }
   ],
   "source": [
    "from sklearn.impute import KNNImputer\n",
    "\n",
    "imputer = KNNImputer(n_neighbors = 1)\n",
    "X[under_list] = imputer.fit_transform(X[under_list])"
   ]
  },
  {
   "cell_type": "code",
   "execution_count": null,
   "id": "alternate-nowhere",
   "metadata": {},
   "outputs": [],
   "source": [
    "# 최빈값으로 결측치 처리\n",
    "# for col in to_mode:\n",
    "#     X.loc[X[col].isna(),col] = X[col].mode().values[0]   "
   ]
  },
  {
   "cell_type": "markdown",
   "id": "improved-arcade",
   "metadata": {},
   "source": [
    "#### gender: nan->위에서부터 반: Male / 나머지 반: Female"
   ]
  },
  {
   "cell_type": "code",
   "execution_count": null,
   "id": "conscious-neighbor",
   "metadata": {},
   "outputs": [],
   "source": [
    "sns.countplot(x='gender', data=X)"
   ]
  },
  {
   "cell_type": "code",
   "execution_count": null,
   "id": "smooth-combining",
   "metadata": {},
   "outputs": [],
   "source": [
    "X['gender'].value_counts(dropna=False)"
   ]
  },
  {
   "cell_type": "markdown",
   "id": "muslim-insulin",
   "metadata": {},
   "source": [
    "### 1차 전처리: 결측치를 반반 남녀로 배분"
   ]
  },
  {
   "cell_type": "code",
   "execution_count": null,
   "id": "overall-spread",
   "metadata": {},
   "outputs": [],
   "source": [
    "# gender_nan_cnt = X['gender'].isna().sum()//2\n",
    "# # 내 방법\n",
    "# # idx = 0\n",
    "# # for idx in range(X.shape[0]):\n",
    "# #     if gender_nan_cnt <= 0:\n",
    "# #         break\n",
    "# #     if X.loc[idx,'gender'] == np.nan:\n",
    "# #         X.loc[idx,'gender'] = 'Male'\n",
    "# #         gender_nan_cnt -= 1\n",
    "# # X.loc[X['gender'].isna(), 'gender'] = 'Female'\n",
    "\n",
    "# # 우상님 방법\n",
    "# X['gender'].fillna('Female', limit=gender_nan_cnt, inplace=True)\n",
    "# X['gender'].fillna('Male', inplace=True)"
   ]
  },
  {
   "cell_type": "markdown",
   "id": "alert-switch",
   "metadata": {},
   "source": [
    "#### company_size, type"
   ]
  },
  {
   "cell_type": "code",
   "execution_count": null,
   "id": "direct-illness",
   "metadata": {},
   "outputs": [],
   "source": [
    "# X.loc[X['company_size'].isna(), 'company_size'] = 'unknown'\n",
    "# X.loc[X['company_size']=='<10', 'company_size'] = '~10'\n",
    "# X.loc[X['company_type'].isna(), 'company_type'] = 'unknown'"
   ]
  },
  {
   "cell_type": "code",
   "execution_count": null,
   "id": "authentic-delhi",
   "metadata": {},
   "outputs": [],
   "source": [
    "#### major: 비율 맞춰 major nomajor로 나눠 결측치 처리x\n",
    "#### -> 최빈값과 나머지의 합과의 비율 차이가 크므로 최빈값 major로 처리"
   ]
  },
  {
   "cell_type": "code",
   "execution_count": null,
   "id": "received-egyptian",
   "metadata": {},
   "outputs": [],
   "source": [
    "# # 비율맞춰 처리\n",
    "# stem = X['major_discipline'].value_counts(dropna=False)['STEM']\n",
    "# nonstem = X.shape[0] - X['major_discipline'].isna().sum() - stem\n",
    "# stem, nonstem"
   ]
  },
  {
   "cell_type": "code",
   "execution_count": null,
   "id": "equivalent-prince",
   "metadata": {},
   "outputs": [],
   "source": [
    "# non_major_list = []\n",
    "# for val in X['major_discipline'].unique():\n",
    "#     if val != 'STEM':\n",
    "#         non_major_list.append(val)\n",
    "        \n",
    "# non_major = X['major_discipline'].isin(non_major_list)\n",
    "# major = X['major_discipline'] == 'STEM'\n",
    "\n",
    "# X.loc[non_major, 'major_discipline'] = 'non_major'\n",
    "# X.loc[major, 'major_discipline'] = 'major'"
   ]
  },
  {
   "cell_type": "code",
   "execution_count": null,
   "id": "informed-taste",
   "metadata": {},
   "outputs": [],
   "source": [
    "# nomajor_lst = list(X['major_discipline'].value_counts(dropna=False).index)\n",
    "# nomajor_lst.remove(np.nan)\n",
    "# nomajor_lst.remove('STEM')\n",
    "# print(nomajor_lst)"
   ]
  },
  {
   "cell_type": "code",
   "execution_count": null,
   "id": "competitive-confidentiality",
   "metadata": {},
   "outputs": [],
   "source": [
    "# X.loc[X['major_discipline'] == 'STEM', 'major_discipline'] = 'major'\n",
    "# X.loc[X['major_discipline'].isin(nomajor_lst), 'major_discipline'] = 'no_major'"
   ]
  },
  {
   "cell_type": "code",
   "execution_count": null,
   "id": "approximate-mambo",
   "metadata": {},
   "outputs": [],
   "source": [
    "# major_limit = int(X['major_discipline'].isna().sum() / (stem+nonstem) * stem)\n",
    "# X['major_discipline'].fillna('major', limit=major_limit, inplace=True)\n",
    "# X['major_discipline'].fillna('no_major', inplace=True)"
   ]
  },
  {
   "cell_type": "code",
   "execution_count": null,
   "id": "commercial-start",
   "metadata": {},
   "outputs": [],
   "source": [
    "# X.loc[(X['major_discipline'] == 'STEM')|(X['major_discipline'].isna()) , 'major_discipline'] = 'major'\n",
    "# X.loc[X['major_discipline'] != 'major', 'major_discipline'] = 'no_major'"
   ]
  },
  {
   "cell_type": "markdown",
   "id": "suburban-information",
   "metadata": {},
   "source": [
    "### 2차: 결측치를 큰 남자에게"
   ]
  },
  {
   "cell_type": "markdown",
   "id": "boxed-credit",
   "metadata": {},
   "source": [
    "#### gender"
   ]
  },
  {
   "cell_type": "code",
   "execution_count": null,
   "id": "instant-airplane",
   "metadata": {},
   "outputs": [],
   "source": [
    "X['gender'].fillna('Male', inplace=True)"
   ]
  },
  {
   "cell_type": "markdown",
   "id": "geological-rolling",
   "metadata": {},
   "source": [
    "#### company_size, type"
   ]
  },
  {
   "cell_type": "code",
   "execution_count": null,
   "id": "breeding-tennessee",
   "metadata": {},
   "outputs": [],
   "source": [
    "X.loc[X['company_size']=='<10', 'company_size'] = '~10'\n",
    "X.loc[X['company_size']=='10/49', 'company_size'] = '10~49'\n",
    "\n",
    "company_siz = ['~10', '10~49', '50-99', '100-500', '500-999','1000-4999','5000-9999','10000+']\n",
    "for i, v in enumerate(company_siz):\n",
    "    X.loc[X['company_size']==v, 'company_size'] = i"
   ]
  },
  {
   "cell_type": "markdown",
   "id": "relevant-slave",
   "metadata": {},
   "source": [
    "#### major: 비율 맞춰 major nomajor로 나눠 결측치 처리x\n",
    "#### -> 최빈값과 나머지의 합과의 비율 차이가 크므로 최빈값 major로 처리"
   ]
  },
  {
   "cell_type": "code",
   "execution_count": null,
   "id": "resident-theta",
   "metadata": {},
   "outputs": [],
   "source": [
    "nomajor_lst = list(X['major_discipline'].value_counts(dropna=False).index)\n",
    "nomajor_lst.remove(np.nan)\n",
    "nomajor_lst.remove('STEM')\n",
    "print(nomajor_lst)"
   ]
  },
  {
   "cell_type": "code",
   "execution_count": null,
   "id": "ranking-insert",
   "metadata": {},
   "outputs": [],
   "source": [
    "X.loc[(X['major_discipline'] == 'STEM')|(X['major_discipline'].isna()) , 'major_discipline'] = 'major'\n",
    "X.loc[X['major_discipline'] != 'major', 'major_discipline'] = 'no_major'"
   ]
  },
  {
   "cell_type": "markdown",
   "id": "approximate-spirituality",
   "metadata": {},
   "source": [
    "### 인코딩 전 현재 위아래로 concat되있어 \n",
    "### 중복되있으므로 인덱스 순번대로 재지정"
   ]
  },
  {
   "cell_type": "code",
   "execution_count": null,
   "id": "tracked-camera",
   "metadata": {},
   "outputs": [],
   "source": [
    "X.reset_index(drop=True, inplace=True)"
   ]
  },
  {
   "cell_type": "markdown",
   "id": "internal-plymouth",
   "metadata": {},
   "source": [
    "## 1차 전처리:  city-lbe, elseobject-ohe"
   ]
  },
  {
   "cell_type": "markdown",
   "id": "scientific-family",
   "metadata": {},
   "source": [
    "#### 라벨 인코딩"
   ]
  },
  {
   "cell_type": "code",
   "execution_count": null,
   "id": "excellent-mississippi",
   "metadata": {},
   "outputs": [],
   "source": [
    "# X['city'] = LabelEncoder().fit_transform(X['city'])"
   ]
  },
  {
   "cell_type": "markdown",
   "id": "legitimate-associate",
   "metadata": {},
   "source": [
    "#### 원핫인코딩"
   ]
  },
  {
   "cell_type": "code",
   "execution_count": null,
   "id": "alternative-sixth",
   "metadata": {},
   "outputs": [],
   "source": [
    "# X['company_size'].unique()"
   ]
  },
  {
   "cell_type": "code",
   "execution_count": null,
   "id": "spatial-spoke",
   "metadata": {},
   "outputs": [],
   "source": [
    "# to_ohe = list(X.columns[X[X.columns].dtypes == 'object'])\n",
    "# to_ohe\n",
    "\n",
    "# # 원핫 인코딩x 컬럼들\n",
    "# X_not_ohe = X.loc[:,~X.columns.isin(to_ohe)]\n",
    "# X_not_ohe.shape, X_not_ohe.columns\n",
    "\n",
    "# # 원핫 인코딩 컬럼들\n",
    "# X_ohe = X[to_ohe]\n",
    "# X_ohe\n",
    "\n",
    "# # 원핫인코딩 실행\n",
    "# ohe = OneHotEncoder(sparse=False)\n",
    "# X_df = ohe.fit_transform(X_ohe)\n",
    "# X_ohe = pd.DataFrame(X_df, columns=ohe.get_feature_names())\n",
    "# X_ohe.shape, X_ohe.columns\n",
    "\n",
    "# # 합치기\n",
    "# X_new = pd.concat([X_ohe, X_not_ohe], axis=1)\n",
    "# X_new\n",
    "\n",
    "# X_new.info()"
   ]
  },
  {
   "cell_type": "markdown",
   "id": "positive-benjamin",
   "metadata": {},
   "source": [
    "## 2차 전처리: object 전체 lbe"
   ]
  },
  {
   "cell_type": "code",
   "execution_count": null,
   "id": "lasting-mustang",
   "metadata": {},
   "outputs": [],
   "source": [
    "to_lb = list(X.columns[X[X.columns].dtypes == 'object'])\n",
    "to_lb"
   ]
  },
  {
   "cell_type": "code",
   "execution_count": null,
   "id": "blocked-modern",
   "metadata": {},
   "outputs": [],
   "source": [
    "def lbe(x):\n",
    "    if x.name in to_lb:\n",
    "        return LabelEncoder().fit_transform(x)\n",
    "    else:\n",
    "        return x\n",
    "    \n",
    "X_new = X.apply(lbe)\n",
    "X_new"
   ]
  },
  {
   "cell_type": "markdown",
   "id": "contrary-mobile",
   "metadata": {},
   "source": [
    "### StandardScaled"
   ]
  },
  {
   "cell_type": "code",
   "execution_count": null,
   "id": "phantom-sleep",
   "metadata": {},
   "outputs": [],
   "source": [
    "from sklearn.preprocessing import StandardScaler\n",
    "\n",
    "y_tmp = X_new['target']\n",
    "X_scaled = StandardScaler().fit_transform(X_new)\n",
    "X_scaled_df = pd.DataFrame(X_scaled, columns=X_new.columns)\n",
    "X_scaled_df.drop(columns='target',inplace=True)\n",
    "X_scaled_df = pd.concat([X_scaled_df, y_tmp], axis=1)"
   ]
  },
  {
   "cell_type": "markdown",
   "id": "immune-assist",
   "metadata": {},
   "source": [
    "#### enrollee_id 제거, 다시 train,test 분리 후 target 분리"
   ]
  },
  {
   "cell_type": "code",
   "execution_count": null,
   "id": "metric-shepherd",
   "metadata": {},
   "outputs": [],
   "source": [
    "X_scaled_df.loc[X_scaled_df.index,'target']"
   ]
  },
  {
   "cell_type": "code",
   "execution_count": null,
   "id": "horizontal-jacksonville",
   "metadata": {},
   "outputs": [],
   "source": [
    "X_train = X_scaled_df.loc[X_scaled_df.loc[X_scaled_df.index, 'target'] != -1]\n",
    "X_test = X_scaled_df.loc[X_scaled_df.loc[X_scaled_df.index, 'target'] == -1]\n",
    "X_test.drop(columns='target',inplace=True)"
   ]
  },
  {
   "cell_type": "markdown",
   "id": "increasing-applicant",
   "metadata": {},
   "source": [
    "#### 테이블 저장"
   ]
  },
  {
   "cell_type": "markdown",
   "id": "seven-terrace",
   "metadata": {},
   "source": [
    "### 1차"
   ]
  },
  {
   "cell_type": "code",
   "execution_count": null,
   "id": "original-consultation",
   "metadata": {},
   "outputs": [],
   "source": [
    "# X_train.to_csv('../data/prepcd_train.csv', index=False)\n",
    "# X_test.to_csv('../data/prepcd_test.csv', index=False)"
   ]
  },
  {
   "cell_type": "markdown",
   "id": "alternate-torture",
   "metadata": {},
   "source": [
    "### 2차"
   ]
  },
  {
   "cell_type": "code",
   "execution_count": null,
   "id": "cross-wallet",
   "metadata": {},
   "outputs": [],
   "source": [
    "X_train.to_csv('../data/prepcd_lbe_train.csv', index=False)\n",
    "X_test.to_csv('../data/prepcd_lbe_test.csv', index=False)"
   ]
  }
 ],
 "metadata": {
  "kernelspec": {
   "display_name": "Python 3",
   "language": "python",
   "name": "python3"
  },
  "language_info": {
   "codemirror_mode": {
    "name": "ipython",
    "version": 3
   },
   "file_extension": ".py",
   "mimetype": "text/x-python",
   "name": "python",
   "nbconvert_exporter": "python",
   "pygments_lexer": "ipython3",
   "version": "3.7.10"
  }
 },
 "nbformat": 4,
 "nbformat_minor": 5
}
