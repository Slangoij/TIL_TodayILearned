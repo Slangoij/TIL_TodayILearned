{
 "cells": [
  {
   "cell_type": "code",
   "execution_count": null,
   "metadata": {},
   "outputs": [],
   "source": [
    "# def fit_metrics_print(model, X_train, y_train, X_val, y_val):\n",
    "#     from sklearn.metrics import accuracy_score, classification_report\n",
    "#     model.fit(X_train, y_train)\n",
    "    \n",
    "#     pred_train = model.predict(X_train)\n",
    "#     pred_val = model.predict(X_val)\n",
    "#     print(model)\n",
    "#     print()\n",
    "#     print('train accuracy :', accuracy_score(y_train, pred_train))\n",
    "#     print('validation accuracy :', accuracy_score(y_val, pred_val))\n",
    "#     print('='*60)"
   ]
  },
  {
   "cell_type": "code",
   "execution_count": 2,
   "metadata": {},
   "outputs": [],
   "source": [
    "import pandas as pd\n",
    "import numpy as np\n",
    "import matplotlib.pyplot as plt\n",
    "import matplotlib as mpl\n",
    "\n",
    "from sklearn.model_selection import RandomizedSearchCV, GridSearchCV\n",
    "from sklearn.model_selection import train_test_split\n",
    "from sklearn.metrics import accuracy_score, classification_report\n",
    "\n",
    "mpl.style.use('seaborn')"
   ]
  },
  {
   "cell_type": "markdown",
   "metadata": {},
   "source": [
    "#### before"
   ]
  },
  {
   "cell_type": "code",
   "execution_count": 13,
   "metadata": {},
   "outputs": [
    {
     "data": {
      "text/plain": [
       "((14368, 31), (4790, 31), (14368,), (4790,))"
      ]
     },
     "execution_count": 13,
     "metadata": {},
     "output_type": "execute_result"
    }
   ],
   "source": [
    "X_bfr = pd.read_csv('../data/prepcd_scaled_train.csv')\n",
    "X_bfr.drop(columns='target', inplace=True)\n",
    "y_bfr = pd.read_csv('../data/prepcd_scaled_train.csv')['target']\n",
    "X_test_bfr = pd.read_csv('../data/prepcd_scaled_test.csv')\n",
    "\n",
    "X_train_bfr, X_val_bfr, y_train_bfr, y_val_bfr = train_test_split(X_bfr, y_bfr, stratify=y_bfr, shuffle=True, random_state=1)\n",
    "X_train_bfr.shape, X_val_bfr.shape, y_train_bfr.shape, y_val_bfr.shape"
   ]
  },
  {
   "cell_type": "markdown",
   "metadata": {},
   "source": [
    "#### after"
   ]
  },
  {
   "cell_type": "code",
   "execution_count": 4,
   "metadata": {},
   "outputs": [
    {
     "data": {
      "text/plain": [
       "((14368, 13), (4790, 13), (14368,), (4790,))"
      ]
     },
     "execution_count": 4,
     "metadata": {},
     "output_type": "execute_result"
    }
   ],
   "source": [
    "X = pd.read_csv('../data/prepcd_lbe_train.csv')\n",
    "X.drop(columns='target', inplace=True)\n",
    "y = pd.read_csv('../data/prepcd_lbe_train.csv')['target']\n",
    "X_test = pd.read_csv('../data/prepcd_lbe_test.csv')\n",
    "\n",
    "X_train, X_val, y_train, y_val = train_test_split(X, y, stratify=y, shuffle=True, random_state=1)\n",
    "X_train.shape, X_val.shape, y_train.shape, y_val.shape"
   ]
  },
  {
   "cell_type": "code",
   "execution_count": null,
   "metadata": {},
   "outputs": [],
   "source": []
  },
  {
   "cell_type": "code",
   "execution_count": null,
   "metadata": {},
   "outputs": [],
   "source": []
  },
  {
   "cell_type": "code",
   "execution_count": null,
   "metadata": {},
   "outputs": [],
   "source": []
  },
  {
   "cell_type": "markdown",
   "metadata": {},
   "source": [
    "# Decision Tree"
   ]
  },
  {
   "cell_type": "code",
   "execution_count": 5,
   "metadata": {},
   "outputs": [
    {
     "data": {
      "text/plain": [
       "array([0.21213177, 0.05155809, 0.19324802, 0.01205063, 0.01611156,\n",
       "       0.02091905, 0.05616288, 0.0106196 , 0.09127076, 0.10129706,\n",
       "       0.02735522, 0.04963034, 0.15764504])"
      ]
     },
     "execution_count": 5,
     "metadata": {},
     "output_type": "execute_result"
    }
   ],
   "source": [
    "# 학습\n",
    "from sklearn.tree import DecisionTreeClassifier\n",
    "tree = DecisionTreeClassifier()\n",
    "tree.fit(X_train, y_train)\n",
    "\n",
    "tree.feature_importances_"
   ]
  },
  {
   "cell_type": "code",
   "execution_count": 6,
   "metadata": {},
   "outputs": [
    {
     "name": "stdout",
     "output_type": "stream",
     "text": [
      "train accuracy : 1.0\n",
      "validation accuracy : 0.7137787056367432\n"
     ]
    }
   ],
   "source": [
    "# 검증\n",
    "from sklearn.metrics import accuracy_score, classification_report\n",
    "\n",
    "pred_train = tree.predict(X_train)\n",
    "pred_val = tree.predict(X_val)\n",
    "\n",
    "print('train accuracy :', accuracy_score(y_train, pred_train))\n",
    "print('validation accuracy :', accuracy_score(y_val, pred_val))"
   ]
  },
  {
   "cell_type": "markdown",
   "metadata": {},
   "source": [
    "## gridsearch"
   ]
  },
  {
   "cell_type": "code",
   "execution_count": 7,
   "metadata": {},
   "outputs": [
    {
     "name": "stderr",
     "output_type": "stream",
     "text": [
      "c:\\users\\inje.jeong\\anaconda3\\envs\\ml\\lib\\site-packages\\sklearn\\model_selection\\_search.py:921: UserWarning: One or more of the test scores are non-finite: [       nan 0.78250277 0.78250277 0.78250277 0.78250277 0.78250277\n",
      " 0.78250277 0.78250277 0.78250277 0.78250277        nan 0.78250277\n",
      " 0.78250277 0.78257236 0.78257236 0.78257236 0.78257236 0.78257236\n",
      " 0.78257236 0.78257236        nan 0.78250277 0.78250277 0.78250277\n",
      " 0.78250277 0.78257236 0.78222434 0.78222434 0.78222434 0.78222434\n",
      "        nan 0.78250277 0.78250277 0.78250277 0.78250277 0.78250277\n",
      " 0.78250277 0.78250277 0.78215475 0.78236355        nan 0.78250277\n",
      " 0.78250277 0.78250277 0.78250277 0.7858433  0.7858433  0.7858433\n",
      " 0.7858433  0.7858433         nan 0.78250277 0.78250277 0.78250277\n",
      " 0.78250277 0.7858433  0.7858433  0.78702656 0.78841835 0.78841835\n",
      "        nan 0.78250277 0.78250277 0.78250277 0.78250277 0.7858433\n",
      " 0.7858433  0.78897516 0.79015842 0.79015842        nan 0.78250277\n",
      " 0.78250277 0.78250277 0.78250277 0.7858433  0.7858433  0.78897516\n",
      " 0.79015842 0.79064565        nan 0.78250277 0.78250277 0.78250277\n",
      " 0.78250277 0.7858433  0.7858433  0.78897516 0.79015842 0.79064565\n",
      "        nan 0.78250277 0.78250277 0.78250277 0.78250277 0.7858433\n",
      " 0.7858433  0.78897516 0.79015842 0.79064565]\n",
      "  category=UserWarning\n"
     ]
    },
    {
     "data": {
      "text/plain": [
       "GridSearchCV(cv=3, estimator=DecisionTreeClassifier(), n_jobs=-1,\n",
       "             param_grid={'max_depth': range(1, 11),\n",
       "                         'max_leaf_nodes': range(1, 11), 'random_state': [1]},\n",
       "             scoring='accuracy')"
      ]
     },
     "execution_count": 7,
     "metadata": {},
     "output_type": "execute_result"
    }
   ],
   "source": [
    "from sklearn.model_selection import GridSearchCV\n",
    "\n",
    "param_grid = dict(\n",
    "    max_depth=range(1, 11),\n",
    "    max_leaf_nodes=range(1, 11),\n",
    "    random_state=[1]\n",
    ")\n",
    "\n",
    "grid_tree = GridSearchCV(tree,\n",
    "                         param_grid=param_grid,\n",
    "                         scoring='accuracy',\n",
    "                         cv=3,\n",
    "                         n_jobs=-1)\n",
    "grid_tree.fit(X_train, y_train)"
   ]
  },
  {
   "cell_type": "code",
   "execution_count": 8,
   "metadata": {},
   "outputs": [
    {
     "data": {
      "text/plain": [
       "DecisionTreeClassifier(max_depth=8, max_leaf_nodes=10, random_state=1)"
      ]
     },
     "execution_count": 8,
     "metadata": {},
     "output_type": "execute_result"
    }
   ],
   "source": [
    "grid_tree.best_estimator_"
   ]
  },
  {
   "cell_type": "code",
   "execution_count": 9,
   "metadata": {},
   "outputs": [
    {
     "name": "stdout",
     "output_type": "stream",
     "text": [
      "train accuracy : 0.7930818485523385\n",
      "validation accuracy : 0.7835073068893528\n"
     ]
    }
   ],
   "source": [
    "pred_train = grid_tree.predict(X_train)\n",
    "pred_val = grid_tree.predict(X_val)\n",
    "\n",
    "print('train accuracy :', accuracy_score(y_train, pred_train))\n",
    "print('validation accuracy :', accuracy_score(y_val, pred_val))"
   ]
  },
  {
   "cell_type": "code",
   "execution_count": null,
   "metadata": {},
   "outputs": [],
   "source": []
  },
  {
   "cell_type": "markdown",
   "metadata": {},
   "source": [
    "-----------------------------------\n",
    "# RandomForest"
   ]
  },
  {
   "cell_type": "code",
   "execution_count": 10,
   "metadata": {},
   "outputs": [
    {
     "data": {
      "text/plain": [
       "RandomForestClassifier(max_depth=7, max_features=12, n_estimators=200,\n",
       "                       random_state=1)"
      ]
     },
     "execution_count": 10,
     "metadata": {},
     "output_type": "execute_result"
    }
   ],
   "source": [
    "from sklearn.ensemble import RandomForestClassifier\n",
    "\n",
    "rf = RandomForestClassifier(max_depth=7, max_features=12, n_estimators=200,\n",
    "                       random_state=1)\n",
    "rf.fit(X_train, y_train)"
   ]
  },
  {
   "cell_type": "code",
   "execution_count": 11,
   "metadata": {},
   "outputs": [
    {
     "name": "stdout",
     "output_type": "stream",
     "text": [
      "train accuracy : 0.813195991091314\n",
      "validation accuracy : 0.7931106471816284\n"
     ]
    }
   ],
   "source": [
    "pred_train = rf.predict(X_train)\n",
    "pred_val = rf.predict(X_val)\n",
    "\n",
    "print('train accuracy :', accuracy_score(y_train, pred_train))\n",
    "print('validation accuracy :', accuracy_score(y_val, pred_val))"
   ]
  },
  {
   "cell_type": "markdown",
   "metadata": {},
   "source": [
    "## gridsearch"
   ]
  },
  {
   "cell_type": "code",
   "execution_count": 12,
   "metadata": {},
   "outputs": [
    {
     "data": {
      "text/plain": [
       "GridSearchCV(cv=3, estimator=RandomForestClassifier(), n_jobs=-1,\n",
       "             param_grid={'max_depth': range(1, 11),\n",
       "                         'max_features': range(10, 13), 'n_estimators': [200],\n",
       "                         'random_state': [1]},\n",
       "             scoring='accuracy')"
      ]
     },
     "execution_count": 12,
     "metadata": {},
     "output_type": "execute_result"
    }
   ],
   "source": [
    "param_grid = dict(\n",
    "    n_estimators=[200],\n",
    "    max_features=range(10, 13),\n",
    "    max_depth=range(1, 11),\n",
    "    random_state=[1]\n",
    ")\n",
    "\n",
    "rf = RandomForestClassifier()\n",
    "grid_rf = GridSearchCV(rf,\n",
    "                       param_grid=param_grid,\n",
    "                       scoring='accuracy',\n",
    "                       cv=3,\n",
    "                       n_jobs=-1)\n",
    "grid_rf.fit(X_train, y_train)"
   ]
  },
  {
   "cell_type": "code",
   "execution_count": null,
   "metadata": {},
   "outputs": [],
   "source": [
    "grid_rf.best_estimator_"
   ]
  },
  {
   "cell_type": "code",
   "execution_count": null,
   "metadata": {},
   "outputs": [],
   "source": [
    "pred_train = grid_rf.predict(X_train)\n",
    "pred_val = grid_rf.predict(X_val)\n",
    "\n",
    "print('train accuracy :', accuracy_score(y_train, pred_train))\n",
    "print('validation accuracy :', accuracy_score(y_val, pred_val))"
   ]
  },
  {
   "cell_type": "markdown",
   "metadata": {},
   "source": [
    "-----------------------------------\n",
    "# KNeighborsClassifier"
   ]
  },
  {
   "cell_type": "code",
   "execution_count": null,
   "metadata": {},
   "outputs": [],
   "source": [
    "from sklearn.neighbors import KNeighborsClassifier\n",
    "\n",
    "knn = KNeighborsClassifier()\n",
    "knn.fit(X_train, y_train)"
   ]
  },
  {
   "cell_type": "code",
   "execution_count": null,
   "metadata": {},
   "outputs": [],
   "source": [
    "pred_train = knn.predict(X_train)\n",
    "pred_val = knn.predict(X_val)\n",
    "\n",
    "print('train accuracy :', accuracy_score(y_train, pred_train))\n",
    "print('validation accuracy :', accuracy_score(y_val, pred_val))"
   ]
  },
  {
   "cell_type": "markdown",
   "metadata": {},
   "source": [
    "## gridsearch"
   ]
  },
  {
   "cell_type": "code",
   "execution_count": null,
   "metadata": {},
   "outputs": [],
   "source": [
    "grid_knn = GridSearchCV(knn,\n",
    "                        param_grid=dict(n_neighbors=range(1, 10)),\n",
    "                        scoring='accuracy',\n",
    "                        n_jobs=-1,\n",
    "                        cv=2,\n",
    "                       )\n",
    "grid_knn.fit(X_train, y_train)"
   ]
  },
  {
   "cell_type": "code",
   "execution_count": null,
   "metadata": {},
   "outputs": [],
   "source": [
    "grid_knn.best_estimator_"
   ]
  },
  {
   "cell_type": "code",
   "execution_count": null,
   "metadata": {},
   "outputs": [],
   "source": [
    "pred_train = grid_knn.predict(X_train)\n",
    "pred_val = grid_knn.predict(X_val)\n",
    "\n",
    "print('train accuracy :', accuracy_score(y_train, pred_train))\n",
    "print('validation accuracy :', accuracy_score(y_val, pred_val))"
   ]
  },
  {
   "cell_type": "markdown",
   "metadata": {},
   "source": [
    "-----------------------------------\n",
    "# svc"
   ]
  },
  {
   "cell_type": "code",
   "execution_count": null,
   "metadata": {},
   "outputs": [],
   "source": [
    "from sklearn.svm import SVC\n",
    "\n",
    "svc = SVC()\n",
    "svc.fit(X_train, y_train)"
   ]
  },
  {
   "cell_type": "code",
   "execution_count": null,
   "metadata": {},
   "outputs": [],
   "source": [
    "pred_train = svc.predict(X_train)\n",
    "pred_val = svc.predict(X_val)\n",
    "\n",
    "print('train accuracy :', accuracy_score(y_train, pred_train))\n",
    "print('validation accuracy :', accuracy_score(y_val, pred_val))"
   ]
  },
  {
   "cell_type": "markdown",
   "metadata": {},
   "source": [
    "## RandomizedSearch"
   ]
  },
  {
   "cell_type": "code",
   "execution_count": null,
   "metadata": {},
   "outputs": [],
   "source": [
    "param = dict(\n",
    "    kernel=['rbf', 'linear'],\n",
    "    C=[0.01,  0.1, 1, 10],\n",
    "    gamma=[0.01, 0.1,  1]\n",
    ")\n",
    "\n",
    "random_svc = RandomizedSearchCV(svc,\n",
    "                                param_distributions=param,\n",
    "                                n_iter=10,\n",
    "                                scoring='accuracy',\n",
    "                                n_jobs=-1,\n",
    "                                cv=2)\n",
    "random_svc.fit(X_train, y_train)"
   ]
  },
  {
   "cell_type": "code",
   "execution_count": null,
   "metadata": {},
   "outputs": [],
   "source": [
    "random_svc.best_estimator_"
   ]
  },
  {
   "cell_type": "code",
   "execution_count": null,
   "metadata": {},
   "outputs": [],
   "source": [
    "pred_train = random_svc.predict(X_train)\n",
    "pred_val = random_svc.predict(X_val)\n",
    "\n",
    "print('train accuracy :', accuracy_score(y_train, pred_train))\n",
    "print('validation accuracy :', accuracy_score(y_val, pred_val))"
   ]
  },
  {
   "cell_type": "markdown",
   "metadata": {},
   "source": [
    "-----------------------------------\n",
    "# voting (hard)"
   ]
  },
  {
   "cell_type": "code",
   "execution_count": null,
   "metadata": {},
   "outputs": [],
   "source": [
    "from sklearn.ensemble import VotingClassifier\n",
    "\n",
    "estimators = [('tree', tree),\n",
    "              ('knn', knn), \n",
    "              ('random forest', rf), \n",
    "              ('svm', svc)]\n",
    "\n",
    "voting = VotingClassifier(estimators)\n",
    "voting.fit(X_train, y_train)"
   ]
  },
  {
   "cell_type": "code",
   "execution_count": null,
   "metadata": {},
   "outputs": [],
   "source": [
    "pred_train = voting.predict(X_train)\n",
    "pred_val = voting.predict(X_val)\n",
    "\n",
    "print('train accuracy :', accuracy_score(y_train, pred_train))\n",
    "print('validation accuracy :', accuracy_score(y_val, pred_val))"
   ]
  },
  {
   "cell_type": "markdown",
   "metadata": {},
   "source": [
    "# voting (soft)"
   ]
  },
  {
   "cell_type": "code",
   "execution_count": null,
   "metadata": {},
   "outputs": [],
   "source": [
    "voting_soft = VotingClassifier(estimators, voting='soft')\n",
    "voting_soft.fit(X_train, y_train)"
   ]
  },
  {
   "cell_type": "code",
   "execution_count": null,
   "metadata": {},
   "outputs": [],
   "source": [
    "pred_train = voting.predict(X_train)\n",
    "pred_val = voting.predict(X_val)\n",
    "\n",
    "print('train accuracy :', accuracy_score(y_train, pred_train))\n",
    "print('validation accuracy :', accuracy_score(y_val, pred_val))"
   ]
  },
  {
   "cell_type": "markdown",
   "metadata": {},
   "source": [
    "-----------------------------------\n",
    "# gradientboosting"
   ]
  },
  {
   "cell_type": "code",
   "execution_count": null,
   "metadata": {},
   "outputs": [],
   "source": [
    "from sklearn.ensemble import GradientBoostingClassifier\n",
    "gb = GradientBoostingClassifier(random_state=1)\n",
    "gb.fit(X_train, y_train)"
   ]
  },
  {
   "cell_type": "code",
   "execution_count": null,
   "metadata": {},
   "outputs": [],
   "source": [
    "pred_train = gb.predict(X_train)\n",
    "pred_val = gb.predict(X_val)\n",
    "\n",
    "print('train accuracy :', accuracy_score(y_train, pred_train))\n",
    "print('validation accuracy :', accuracy_score(y_val, pred_val))"
   ]
  },
  {
   "cell_type": "markdown",
   "metadata": {},
   "source": [
    "## randomized"
   ]
  },
  {
   "cell_type": "code",
   "execution_count": null,
   "metadata": {},
   "outputs": [],
   "source": [
    "param = dict(\n",
    "    n_estimators=[100, 200, 300, 400, 500],\n",
    "    learning_rate=[0.001,0.005,0.01,0.05,0.1,0.5],\n",
    "    max_depth=range(1, 5),\n",
    "    subsample=[0.5,0.7,1]\n",
    ")\n",
    "\n",
    "random_gb = RandomizedSearchCV(gb,\n",
    "                             param_distributions=param,\n",
    "                             n_iter=10,\n",
    "                             scoring='accuracy',\n",
    "                             cv=3,\n",
    "                             n_jobs=-1,\n",
    "                             random_state=1\n",
    "                             )\n",
    "random_gb.fit(X_train, y_train)"
   ]
  },
  {
   "cell_type": "code",
   "execution_count": null,
   "metadata": {},
   "outputs": [],
   "source": [
    "random_gb.best_estimator_"
   ]
  },
  {
   "cell_type": "code",
   "execution_count": null,
   "metadata": {},
   "outputs": [],
   "source": [
    "pred_train = random_gb.predict(X_train)\n",
    "pred_val = random_gb.predict(X_val)\n",
    "\n",
    "print('train accuracy :', accuracy_score(y_train, pred_train))\n",
    "print('validation accuracy :', accuracy_score(y_val, pred_val))"
   ]
  },
  {
   "cell_type": "markdown",
   "metadata": {},
   "source": [
    "-------------------------------------\n",
    "# LogisticRegression"
   ]
  },
  {
   "cell_type": "code",
   "execution_count": null,
   "metadata": {},
   "outputs": [],
   "source": [
    "from sklearn.linear_model import LogisticRegression\n",
    "\n",
    "lr = LogisticRegression(random_state=1, C=1, max_iter=300)\n",
    "lr.fit(X_train, y_train)"
   ]
  },
  {
   "cell_type": "code",
   "execution_count": null,
   "metadata": {},
   "outputs": [],
   "source": [
    "pred_train = lr.predict(X_train)\n",
    "pred_val = lr.predict(X_val)\n",
    "\n",
    "print('train accuracy :', accuracy_score(y_train, pred_train))\n",
    "print('validation accuracy :', accuracy_score(y_val, pred_val))"
   ]
  }
 ],
 "metadata": {
  "kernelspec": {
   "display_name": "Python 3",
   "language": "python",
   "name": "python3"
  },
  "language_info": {
   "codemirror_mode": {
    "name": "ipython",
    "version": 3
   },
   "file_extension": ".py",
   "mimetype": "text/x-python",
   "name": "python",
   "nbconvert_exporter": "python",
   "pygments_lexer": "ipython3",
   "version": "3.7.10"
  }
 },
 "nbformat": 4,
 "nbformat_minor": 4
}
