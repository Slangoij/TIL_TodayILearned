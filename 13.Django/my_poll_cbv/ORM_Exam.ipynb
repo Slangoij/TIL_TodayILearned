{
 "cells": [
  {
   "cell_type": "code",
   "execution_count": 5,
   "id": "670575cd",
   "metadata": {},
   "outputs": [],
   "source": [
    "# 프로젝트 디렉토리에서 실행\n",
    "# jupyter notebook에서 django shell을 사용할 수 있도록 설정\n",
    "import os\n",
    "os.environ['DJANGO_SETTINGS_MODULE'] = 'config.settings'\n",
    "os.environ['DJANGO_ALLOW_ASYNC_UNSAFE'] = 'true'\n",
    "\n",
    "import django\n",
    "django.setup()"
   ]
  },
  {
   "cell_type": "code",
   "execution_count": 6,
   "id": "e8a580c0",
   "metadata": {},
   "outputs": [],
   "source": [
    "from polls.models import Question, Choice"
   ]
  },
  {
   "cell_type": "markdown",
   "id": "00ddd64d",
   "metadata": {},
   "source": [
    "# 전체조회\n",
    "- all()"
   ]
  },
  {
   "cell_type": "code",
   "execution_count": 4,
   "id": "ed317efc",
   "metadata": {},
   "outputs": [
    {
     "data": {
      "text/plain": [
       "<QuerySet [<Question: 좋아하는 색깔은 무엇입니까?>, <Question: 가고 싶은 나라를 선택하세요.>]>"
      ]
     },
     "execution_count": 4,
     "metadata": {},
     "output_type": "execute_result"
    }
   ],
   "source": [
    "# Model클래스이름.objects.xxx\n",
    "qs = Question.objects.all() # QuerySet\n",
    "qs"
   ]
  },
  {
   "cell_type": "code",
   "execution_count": 7,
   "id": "cf714a28",
   "metadata": {},
   "outputs": [
    {
     "name": "stdout",
     "output_type": "stream",
     "text": [
      "SELECT \"polls_question\".\"id\", \"polls_question\".\"question_text\", \"polls_question\".\"pub_date\" FROM \"polls_question\"\n"
     ]
    }
   ],
   "source": [
    "# QuerySet.query : sql문 조회\n",
    "print(qs.query)"
   ]
  },
  {
   "cell_type": "code",
   "execution_count": 9,
   "id": "242804b6",
   "metadata": {},
   "outputs": [
    {
     "name": "stdout",
     "output_type": "stream",
     "text": [
      "좋아하는 색깔은 무엇입니까? <class 'polls.models.Question'>\n",
      "가고 싶은 나라를 선택하세요. <class 'polls.models.Question'>\n"
     ]
    }
   ],
   "source": [
    "for q in qs:\n",
    "    print(q, type(q))"
   ]
  },
  {
   "cell_type": "code",
   "execution_count": 10,
   "id": "30e4c2b0",
   "metadata": {},
   "outputs": [
    {
     "data": {
      "text/plain": [
       "<Question: 좋아하는 색깔은 무엇입니까?>"
      ]
     },
     "execution_count": 10,
     "metadata": {},
     "output_type": "execute_result"
    }
   ],
   "source": [
    "# 특정 조회결과 하나 조회 - indexing\n",
    "# 범위 조회: slicing\n",
    "qs[0]"
   ]
  },
  {
   "cell_type": "code",
   "execution_count": 11,
   "id": "3189b777",
   "metadata": {},
   "outputs": [
    {
     "data": {
      "text/plain": [
       "[<Question: 좋아하는 색깔은 무엇입니까?>, <Question: 가고 싶은 나라를 선택하세요.>]"
      ]
     },
     "execution_count": 11,
     "metadata": {},
     "output_type": "execute_result"
    }
   ],
   "source": [
    "qs[0:]"
   ]
  },
  {
   "cell_type": "code",
   "execution_count": 12,
   "id": "f56a28f3",
   "metadata": {
    "collapsed": true
   },
   "outputs": [
    {
     "ename": "AssertionError",
     "evalue": "Negative indexing is not supported.",
     "output_type": "error",
     "traceback": [
      "\u001b[1;31m---------------------------------------------------------------------------\u001b[0m",
      "\u001b[1;31mAssertionError\u001b[0m                            Traceback (most recent call last)",
      "\u001b[1;32m<ipython-input-12-e69b1a07305e>\u001b[0m in \u001b[0;36m<module>\u001b[1;34m\u001b[0m\n\u001b[1;32m----> 1\u001b[1;33m \u001b[0mqs\u001b[0m\u001b[1;33m[\u001b[0m\u001b[1;33m-\u001b[0m\u001b[1;36m1\u001b[0m\u001b[1;33m]\u001b[0m \u001b[1;31m# 음수 index는 사용 못함.\u001b[0m\u001b[1;33m\u001b[0m\u001b[1;33m\u001b[0m\u001b[0m\n\u001b[0m",
      "\u001b[1;32mc:\\users\\inje.jeong\\anaconda3\\envs\\django\\lib\\site-packages\\django\\db\\models\\query.py\u001b[0m in \u001b[0;36m__getitem__\u001b[1;34m(self, k)\u001b[0m\n\u001b[0;32m    295\u001b[0m                 (isinstance(k, slice) and (k.start is None or k.start >= 0) and\n\u001b[0;32m    296\u001b[0m                  (k.stop is None or k.stop >= 0))), \\\n\u001b[1;32m--> 297\u001b[1;33m             \u001b[1;34m\"Negative indexing is not supported.\"\u001b[0m\u001b[1;33m\u001b[0m\u001b[1;33m\u001b[0m\u001b[0m\n\u001b[0m\u001b[0;32m    298\u001b[0m \u001b[1;33m\u001b[0m\u001b[0m\n\u001b[0;32m    299\u001b[0m         \u001b[1;32mif\u001b[0m \u001b[0mself\u001b[0m\u001b[1;33m.\u001b[0m\u001b[0m_result_cache\u001b[0m \u001b[1;32mis\u001b[0m \u001b[1;32mnot\u001b[0m \u001b[1;32mNone\u001b[0m\u001b[1;33m:\u001b[0m\u001b[1;33m\u001b[0m\u001b[1;33m\u001b[0m\u001b[0m\n",
      "\u001b[1;31mAssertionError\u001b[0m: Negative indexing is not supported."
     ]
    }
   ],
   "source": [
    "qs[-1] # 음수 index는 사용 못함."
   ]
  },
  {
   "cell_type": "code",
   "execution_count": 13,
   "id": "6771db84",
   "metadata": {},
   "outputs": [
    {
     "data": {
      "text/plain": [
       "<Question: 좋아하는 색깔은 무엇입니까?>"
      ]
     },
     "execution_count": 13,
     "metadata": {},
     "output_type": "execute_result"
    }
   ],
   "source": [
    "qs.first()"
   ]
  },
  {
   "cell_type": "code",
   "execution_count": 14,
   "id": "146b4bfc",
   "metadata": {},
   "outputs": [
    {
     "data": {
      "text/plain": [
       "<Question: 가고 싶은 나라를 선택하세요.>"
      ]
     },
     "execution_count": 14,
     "metadata": {},
     "output_type": "execute_result"
    }
   ],
   "source": [
    "qs.last()"
   ]
  },
  {
   "cell_type": "code",
   "execution_count": 15,
   "id": "2065bca6",
   "metadata": {},
   "outputs": [
    {
     "data": {
      "text/plain": [
       "<QuerySet [<Choice: 검정색>, <Choice: 파란색>, <Choice: 노란색>, <Choice: 미국>, <Choice: 쿠바>]>"
      ]
     },
     "execution_count": 15,
     "metadata": {},
     "output_type": "execute_result"
    }
   ],
   "source": [
    "qs = Choice.objects.all()\n",
    "qs"
   ]
  },
  {
   "cell_type": "code",
   "execution_count": 16,
   "id": "fd691945",
   "metadata": {},
   "outputs": [
    {
     "data": {
      "text/plain": [
       "<QuerySet [<Choice: 검정색>, <Choice: 노란색>, <Choice: 미국>, <Choice: 쿠바>, <Choice: 파란색>]>"
      ]
     },
     "execution_count": 16,
     "metadata": {},
     "output_type": "execute_result"
    }
   ],
   "source": [
    "qs.order_by('choice_text') # ASC"
   ]
  },
  {
   "cell_type": "code",
   "execution_count": 17,
   "id": "84dc95f7",
   "metadata": {},
   "outputs": [
    {
     "data": {
      "text/plain": [
       "<QuerySet [<Choice: 파란색>, <Choice: 쿠바>, <Choice: 미국>, <Choice: 노란색>, <Choice: 검정색>]>"
      ]
     },
     "execution_count": 17,
     "metadata": {},
     "output_type": "execute_result"
    }
   ],
   "source": [
    "qs.order_by('-choice_text') # DESC"
   ]
  },
  {
   "cell_type": "code",
   "execution_count": 18,
   "id": "4269f630",
   "metadata": {},
   "outputs": [
    {
     "data": {
      "text/plain": [
       "<QuerySet [<Choice: 검정색>, <Choice: 노란색>, <Choice: 미국>, <Choice: 쿠바>, <Choice: 파란색>]>"
      ]
     },
     "execution_count": 18,
     "metadata": {},
     "output_type": "execute_result"
    }
   ],
   "source": [
    "qs = Choice.objects.all().order_by('choice_text')\n",
    "qs"
   ]
  },
  {
   "cell_type": "code",
   "execution_count": 19,
   "id": "46819004",
   "metadata": {},
   "outputs": [
    {
     "name": "stdout",
     "output_type": "stream",
     "text": [
      "SELECT \"polls_choice\".\"id\", \"polls_choice\".\"choice_text\", \"polls_choice\".\"vote\", \"polls_choice\".\"question_id\" FROM \"polls_choice\" ORDER BY \"polls_choice\".\"choice_text\" ASC\n"
     ]
    }
   ],
   "source": [
    "print(qs.query)"
   ]
  },
  {
   "cell_type": "code",
   "execution_count": 21,
   "id": "d66d7ec9",
   "metadata": {},
   "outputs": [
    {
     "name": "stdout",
     "output_type": "stream",
     "text": [
      "<class 'polls.models.Choice'>\n"
     ]
    }
   ],
   "source": [
    "c = qs.first()\n",
    "print(type(c))"
   ]
  },
  {
   "cell_type": "code",
   "execution_count": 23,
   "id": "4ffb34c5",
   "metadata": {},
   "outputs": [
    {
     "name": "stdout",
     "output_type": "stream",
     "text": [
      "1 검정색 2 1\n"
     ]
    }
   ],
   "source": [
    "# 조회한 Model의 속성을 조회 => 특정 컬럼값 조회 => '.' 표기법\n",
    "# Choice : id(pk), choice_text, vote, question_id\n",
    "print(c.id, c.choice_text, c.vote, c.question_id)"
   ]
  },
  {
   "cell_type": "code",
   "execution_count": 24,
   "id": "1fdc9470",
   "metadata": {},
   "outputs": [
    {
     "name": "stdout",
     "output_type": "stream",
     "text": [
      "1\t검정색\t2\t1\n",
      "3\t노란색\t100\t1\n",
      "4\t미국\t0\t3\n",
      "5\t쿠바\t2\t3\n",
      "2\t파란색\t5\t1\n"
     ]
    }
   ],
   "source": [
    "for c in qs:\n",
    "    print(c.id, c.choice_text, c.vote, c.question_id, sep='\\t')"
   ]
  },
  {
   "cell_type": "markdown",
   "id": "ec25f690",
   "metadata": {},
   "source": [
    "# where절\n",
    "- filter(조회조건)\n",
    "    - 조회조건을 만족하는 0개 이상의 행을 조회\n",
    "- exclude(조회조건)\n",
    "    - filter의 반대. 조회조건을 만족하지 않는 0개 이상의 행을 조회 (not)\n",
    "- get(조회조건)\n",
    "    - 조회조건을 만족하는 1개 행을 조회\n",
    "- filter/exclude : QuerySet으로 반환\n",
    "- get : Model 객체를 반환"
   ]
  },
  {
   "cell_type": "code",
   "execution_count": 31,
   "id": "6d3d932f",
   "metadata": {},
   "outputs": [
    {
     "data": {
      "text/plain": [
       "<QuerySet [<Question: 좋아하는 색깔은 무엇입니까?>]>"
      ]
     },
     "execution_count": 31,
     "metadata": {},
     "output_type": "execute_result"
    }
   ],
   "source": [
    "# where\n",
    "qs = Question.objects.filter(id=3)\n",
    "# primary key 컬럼 조회: 컬럼명, pk\n",
    "qs = Question.objects.filter(pk=1)\n",
    "qs"
   ]
  },
  {
   "cell_type": "code",
   "execution_count": 32,
   "id": "8c917c14",
   "metadata": {},
   "outputs": [
    {
     "name": "stdout",
     "output_type": "stream",
     "text": [
      "2021-05-25 05:18:45.775911+00:00\n"
     ]
    }
   ],
   "source": [
    "print(qs.first().pub_date)"
   ]
  },
  {
   "cell_type": "code",
   "execution_count": 35,
   "id": "81fca876",
   "metadata": {},
   "outputs": [
    {
     "name": "stdout",
     "output_type": "stream",
     "text": [
      "<class 'polls.models.Question'>\n"
     ]
    }
   ],
   "source": [
    "quest = Question.objects.get(pk=1) # get(): pk로 조회\n",
    "print(type(quest))"
   ]
  },
  {
   "cell_type": "code",
   "execution_count": 36,
   "id": "dd50dd24",
   "metadata": {},
   "outputs": [
    {
     "ename": "AttributeError",
     "evalue": "type object 'Question' has no attribute 'object'",
     "output_type": "error",
     "traceback": [
      "\u001b[1;31m---------------------------------------------------------------------------\u001b[0m",
      "\u001b[1;31mAttributeError\u001b[0m                            Traceback (most recent call last)",
      "\u001b[1;32m<ipython-input-36-e8f3e1d448a6>\u001b[0m in \u001b[0;36m<module>\u001b[1;34m\u001b[0m\n\u001b[1;32m----> 1\u001b[1;33m \u001b[0mQuestion\u001b[0m\u001b[1;33m.\u001b[0m\u001b[0mobject\u001b[0m\u001b[1;33m.\u001b[0m\u001b[0mget\u001b[0m\u001b[1;33m(\u001b[0m\u001b[0mpk\u001b[0m\u001b[1;33m=\u001b[0m\u001b[1;36m2\u001b[0m\u001b[1;33m)\u001b[0m\u001b[1;33m\u001b[0m\u001b[1;33m\u001b[0m\u001b[0m\n\u001b[0m",
      "\u001b[1;31mAttributeError\u001b[0m: type object 'Question' has no attribute 'object'"
     ]
    }
   ],
   "source": [
    "Question.object.get(pk=2)"
   ]
  },
  {
   "cell_type": "code",
   "execution_count": 37,
   "id": "f7ac0f1d",
   "metadata": {},
   "outputs": [
    {
     "name": "stdout",
     "output_type": "stream",
     "text": [
      "2021-05-25 05:18:45.775911+00:00\n"
     ]
    }
   ],
   "source": [
    "try:\n",
    "    r = Question.objects.get(pk=1)\n",
    "    print(r.pub_date)\n",
    "except:\n",
    "    print('조회결과가 없습니다.')"
   ]
  },
  {
   "cell_type": "code",
   "execution_count": 39,
   "id": "deb3d845",
   "metadata": {},
   "outputs": [
    {
     "data": {
      "text/plain": [
       "<Question: 가고 싶은 나라를 선택하세요.>"
      ]
     },
     "execution_count": 39,
     "metadata": {},
     "output_type": "execute_result"
    }
   ],
   "source": [
    "Question.objects.get(id__gt=1) # id > 1 # 조회결과가 2개 이상일 경우 예외 발생"
   ]
  },
  {
   "cell_type": "code",
   "execution_count": 43,
   "id": "f7e9ab33",
   "metadata": {},
   "outputs": [
    {
     "name": "stdout",
     "output_type": "stream",
     "text": [
      "3 노란색\n",
      "4 미국\n",
      "5 쿠바\n"
     ]
    }
   ],
   "source": [
    "# 조회조건\n",
    "# qs = Choice.objects.filter(id__gt=3) # id > 3\n",
    "qs = Choice.objects.filter(id__gte=3) # id >= 3\n",
    "for q in qs:\n",
    "    print(q.id, q.choice_text)"
   ]
  },
  {
   "cell_type": "code",
   "execution_count": 54,
   "id": "c0c20ca8",
   "metadata": {},
   "outputs": [
    {
     "name": "stdout",
     "output_type": "stream",
     "text": [
      "<QuerySet [<Question: 좋아하는 색깔은 무엇입니까?>]>\n",
      "1 좋아하는 색깔은 무엇입니까?\n"
     ]
    }
   ],
   "source": [
    "# qs = Question.objects.filter(question_text__startswith='가고') # q_t like '가고%'\n",
    "# qs = Question.objects.filter(question_text__endswith='하세요.') # q_t like '%하세요.'\n",
    "qs = Question.objects.filter(question_text__contains='하는') # q_t like '%하는%'\n",
    "print(qs)\n",
    "for q in qs:\n",
    "    print(q.id, q.question_text)"
   ]
  },
  {
   "cell_type": "code",
   "execution_count": 57,
   "id": "52b5d8b6",
   "metadata": {},
   "outputs": [
    {
     "name": "stdout",
     "output_type": "stream",
     "text": [
      "SELECT \"polls_choice\".\"id\", \"polls_choice\".\"choice_text\", \"polls_choice\".\"vote\", \"polls_choice\".\"question_id\" FROM \"polls_choice\" WHERE \"polls_choice\".\"id\" BETWEEN 3 AND 7\n",
      "3 노란색\n",
      "4 미국\n",
      "5 쿠바\n"
     ]
    }
   ],
   "source": [
    "# qs = Choice.objects.filter(id__in=[2,6,7,20]) # where id in [2,6,7,20]\n",
    "qs = Choice.objects.filter(id__range=[3,7]) # between 3 and 7\n",
    "print(qs.query)\n",
    "for q in qs:\n",
    "    print(q.id, q.choice_text)"
   ]
  },
  {
   "cell_type": "markdown",
   "id": "de297f68",
   "metadata": {},
   "source": [
    "## and조건"
   ]
  },
  {
   "cell_type": "code",
   "execution_count": 63,
   "id": "bf276d29",
   "metadata": {},
   "outputs": [
    {
     "data": {
      "text/plain": [
       "(3, '노란색')"
      ]
     },
     "execution_count": 63,
     "metadata": {},
     "output_type": "execute_result"
    }
   ],
   "source": [
    "qs = Choice.objects.filter(pk=3, choice_text='노란색')\n",
    "qs.first().id, qs.first().choice_text"
   ]
  },
  {
   "cell_type": "code",
   "execution_count": 65,
   "id": "fa5c122b",
   "metadata": {},
   "outputs": [
    {
     "name": "stdout",
     "output_type": "stream",
     "text": [
      "1 검정색\n",
      "2 파란색\n",
      "3 노란색\n"
     ]
    }
   ],
   "source": [
    "qs = Choice.objects.filter(pk__lt=5, choice_text__contains='색')\n",
    "for q in qs:\n",
    "    print(q.id, q.choice_text)"
   ]
  },
  {
   "cell_type": "code",
   "execution_count": 66,
   "id": "6beeba46",
   "metadata": {},
   "outputs": [],
   "source": [
    "qs = Choice.objects.filter(pk__gt=5, choice_text__contains='색')\n",
    "for q in qs:\n",
    "    print(q.id, q.choice_text)"
   ]
  },
  {
   "cell_type": "code",
   "execution_count": 73,
   "id": "e13852f5",
   "metadata": {},
   "outputs": [
    {
     "name": "stdout",
     "output_type": "stream",
     "text": [
      "1 검정색\n",
      "2 파란색\n",
      "3 노란색\n",
      "4 미국\n"
     ]
    }
   ],
   "source": [
    "# OR조건 Q()\n",
    "from django.db.models import Q\n",
    "\n",
    "# qs = Choice.objects.filter(Q(pk__gt=5)|Q(choice_text__contains='색'))\n",
    "# qs = Choice.objects.filter(Q(pk__gt=5)|~Q(choice_text__contains='색'))\n",
    "qs = Choice.objects.filter(~Q(pk=5))\n",
    "for q in qs:\n",
    "    print(q.id, q.choice_text)"
   ]
  },
  {
   "cell_type": "markdown",
   "id": "3768a2cc",
   "metadata": {},
   "source": [
    "## 컬럼선택\n",
    "select 컬럼, 컬럼\n",
    "- values(field이름, ...)\n",
    "    - 개별 조회결과를 Dictionary에 넣어서 반환"
   ]
  },
  {
   "cell_type": "code",
   "execution_count": 76,
   "id": "b9cfdbad",
   "metadata": {},
   "outputs": [
    {
     "name": "stdout",
     "output_type": "stream",
     "text": [
      "SELECT \"polls_choice\".\"choice_text\", \"polls_choice\".\"vote\" FROM \"polls_choice\"\n",
      "검정색 2 {'choice_text': '검정색', 'vote': 2}\n",
      "파란색 5 {'choice_text': '파란색', 'vote': 5}\n",
      "노란색 100 {'choice_text': '노란색', 'vote': 100}\n",
      "미국 0 {'choice_text': '미국', 'vote': 0}\n",
      "쿠바 2 {'choice_text': '쿠바', 'vote': 2}\n"
     ]
    }
   ],
   "source": [
    "qs = Choice.objects.all().values('choice_text', 'vote')\n",
    "print(qs.query)\n",
    "for q in qs:\n",
    "    print(q['choice_text'], q['vote'], q)"
   ]
  },
  {
   "cell_type": "markdown",
   "id": "91846647",
   "metadata": {},
   "source": [
    "# 집계\n",
    "- 단순 집계\n",
    "    - aggregate(집계함수(), ...)\n",
    "- Group by 집계\n",
    "    - values(그룹으로묶을컬럼).annotate(집계함수(), ...)"
   ]
  },
  {
   "cell_type": "code",
   "execution_count": 10,
   "id": "cea9a60f",
   "metadata": {},
   "outputs": [
    {
     "data": {
      "text/plain": [
       "(2, 2)"
      ]
     },
     "execution_count": 10,
     "metadata": {},
     "output_type": "execute_result"
    }
   ],
   "source": [
    "# 조회결과 행수 조회\n",
    "qs = Choice.objects.all()\n",
    "qs = Choice.objects.filter(id__lt=3)\n",
    "len(qs), qs.count()"
   ]
  },
  {
   "cell_type": "code",
   "execution_count": 11,
   "id": "5d62107d",
   "metadata": {},
   "outputs": [],
   "source": [
    "from django.db.models import Count, Sum, Avg, Min, Max, StdDev, Variance"
   ]
  },
  {
   "cell_type": "code",
   "execution_count": 14,
   "id": "93ba7063",
   "metadata": {},
   "outputs": [
    {
     "name": "stdout",
     "output_type": "stream",
     "text": [
      "<class 'dict'>\n"
     ]
    },
    {
     "data": {
      "text/plain": [
       "{'id__count': 10,\n",
       " 'choice_text__count': 10,\n",
       " 'vote__sum': 415,\n",
       " 'vote__avg': 41.5,\n",
       " 'vote__min': 2,\n",
       " 'vote__stddev': 41.04692436711915,\n",
       " 'vote__variance': 1684.85}"
      ]
     },
     "execution_count": 14,
     "metadata": {},
     "output_type": "execute_result"
    }
   ],
   "source": [
    "# dic = Choice.objects.aggregate(Count(\"id\")) # select count('id') from choice\n",
    "dic = Choice.objects.aggregate(Count('id'), Count('choice_text'), Sum('vote'),\n",
    "                               Avg('vote'), Min('vote'), StdDev('vote'), Variance('vote'))\n",
    "print(type(dic))\n",
    "dic"
   ]
  },
  {
   "cell_type": "code",
   "execution_count": 15,
   "id": "d857c843",
   "metadata": {},
   "outputs": [
    {
     "data": {
      "text/plain": [
       "{'pub_date__min': datetime.datetime(2021, 5, 25, 5, 18, 45, 775911, tzinfo=<UTC>),\n",
       " 'pub_date__max': datetime.datetime(2021, 5, 26, 1, 19, 42, 807663, tzinfo=<UTC>)}"
      ]
     },
     "execution_count": 15,
     "metadata": {},
     "output_type": "execute_result"
    }
   ],
   "source": [
    "dic = Question.objects.aggregate(Min('pub_date'), Max('pub_date'))\n",
    "dic"
   ]
  },
  {
   "cell_type": "code",
   "execution_count": 18,
   "id": "53716e1c",
   "metadata": {},
   "outputs": [
    {
     "name": "stdout",
     "output_type": "stream",
     "text": [
      "2021-05-25 05:18:45.775911+00:00\n",
      "2021년 05월 26일\n"
     ]
    }
   ],
   "source": [
    "print(dic['pub_date__min'])\n",
    "print(\n",
    "    dic['pub_date__max'].strftime(\n",
    "        '%Y년 %m월 %d일'.encode('unicode-escape').decode()\n",
    "    ).encode().decode('unicode-escape')\n",
    ")"
   ]
  },
  {
   "cell_type": "code",
   "execution_count": 20,
   "id": "09bf8dd1",
   "metadata": {},
   "outputs": [
    {
     "data": {
      "text/plain": [
       "{'vote__sum': 167}"
      ]
     },
     "execution_count": 20,
     "metadata": {},
     "output_type": "execute_result"
    }
   ],
   "source": [
    "# where + 집계\n",
    "dic = Choice.objects.filter(id__gt=5).aggregate(Sum('vote'))\n",
    "dic"
   ]
  },
  {
   "cell_type": "code",
   "execution_count": 21,
   "id": "88eb22d7",
   "metadata": {},
   "outputs": [
    {
     "data": {
      "text/plain": [
       "<QuerySet [{'question_id': 1, 'vote__sum': 177, 'vote__avg': 44.25}, {'question_id': 3, 'vote__sum': 123, 'vote__avg': 41.0}, {'question_id': 4, 'vote__sum': 115, 'vote__avg': 38.333333333333336}]>"
      ]
     },
     "execution_count": 21,
     "metadata": {},
     "output_type": "execute_result"
    }
   ],
   "source": [
    "# group by\n",
    "\n",
    "# select 5\n",
    "# from 1\n",
    "# where 2\n",
    "# group by 3\n",
    "# having 4\n",
    "# order by 6\n",
    "\n",
    "# choice => 질문별 vote의 합계, 평균\n",
    "dic = Choice.objects.values('question_id').annotate(Sum('vote'), Avg('vote'))\n",
    "dic"
   ]
  },
  {
   "cell_type": "code",
   "execution_count": 23,
   "id": "32409e07",
   "metadata": {},
   "outputs": [
    {
     "name": "stdout",
     "output_type": "stream",
     "text": [
      "질문: 1, 투표합계: 177, 투표평균: 44.25\n",
      "질문: 3, 투표합계: 123, 투표평균: 41.0\n",
      "질문: 4, 투표합계: 115, 투표평균: 38.333333333333336\n"
     ]
    }
   ],
   "source": [
    "for d in dic:\n",
    "    print(f\"질문: {d['question_id']}, 투표합계: {d['vote__sum']}, 투표평균: {d['vote__avg']}\")"
   ]
  },
  {
   "cell_type": "markdown",
   "id": "515967df",
   "metadata": {},
   "source": [
    "# 테이블간의 관계"
   ]
  },
  {
   "cell_type": "markdown",
   "id": "fae8653d",
   "metadata": {},
   "source": [
    "## 자식테이블에서 부모 테이블의 값을 조회"
   ]
  },
  {
   "cell_type": "code",
   "execution_count": 26,
   "id": "f8d08f23",
   "metadata": {},
   "outputs": [
    {
     "data": {
      "text/plain": [
       "(polls.models.Choice, <Choice: 노란색>)"
      ]
     },
     "execution_count": 26,
     "metadata": {},
     "output_type": "execute_result"
    }
   ],
   "source": [
    "c1 = Choice.objects.get(pk=3)\n",
    "type(c1), c1  # c1: Choice모델 객체"
   ]
  },
  {
   "cell_type": "code",
   "execution_count": 28,
   "id": "9865d7b6",
   "metadata": {},
   "outputs": [
    {
     "data": {
      "text/plain": [
       "(3, 3, '노란색', 100)"
      ]
     },
     "execution_count": 28,
     "metadata": {},
     "output_type": "execute_result"
    }
   ],
   "source": [
    "# 모델에서 속성 조회 => 각 컬럼 값 조회\n",
    "c1.id, c1.pk, c1.choice_text, c1.vote"
   ]
  },
  {
   "cell_type": "code",
   "execution_count": 31,
   "id": "cd4188c0",
   "metadata": {},
   "outputs": [
    {
     "data": {
      "text/plain": [
       "(polls.models.Question, <Question: 좋아하는 색깔은 무엇입니까?>)"
      ]
     },
     "execution_count": 31,
     "metadata": {},
     "output_type": "execute_result"
    }
   ],
   "source": [
    "q1 = c1.question # 부모 Model객체\n",
    "type(q1), q1"
   ]
  },
  {
   "cell_type": "code",
   "execution_count": 33,
   "id": "21cac19f",
   "metadata": {},
   "outputs": [
    {
     "name": "stdout",
     "output_type": "stream",
     "text": [
      "좋아하는 색깔은 무엇입니까? 2021-05-25 05:18:45.775911+00:00\n"
     ]
    }
   ],
   "source": [
    "print(q1.question_text, q1.pub_date)"
   ]
  },
  {
   "cell_type": "markdown",
   "id": "2dbdb7b3",
   "metadata": {},
   "source": [
    "## 부모테이블에서 자식테이블값을 조회"
   ]
  },
  {
   "cell_type": "code",
   "execution_count": 35,
   "id": "d9d670a1",
   "metadata": {},
   "outputs": [
    {
     "data": {
      "text/plain": [
       "(polls.models.Question, <Question: 가고 싶은 나라를 선택하세요.>)"
      ]
     },
     "execution_count": 35,
     "metadata": {},
     "output_type": "execute_result"
    }
   ],
   "source": [
    "q = Question.objects.get(pk=3)\n",
    "type(q), q"
   ]
  },
  {
   "cell_type": "code",
   "execution_count": 36,
   "id": "be810a8d",
   "metadata": {},
   "outputs": [
    {
     "data": {
      "text/plain": [
       "(3,\n",
       " '가고 싶은 나라를 선택하세요.',\n",
       " datetime.datetime(2021, 5, 25, 5, 21, 4, 752190, tzinfo=<UTC>))"
      ]
     },
     "execution_count": 36,
     "metadata": {},
     "output_type": "execute_result"
    }
   ],
   "source": [
    "q.id, q.question_text, q.pub_date"
   ]
  },
  {
   "cell_type": "code",
   "execution_count": 40,
   "id": "81831d93",
   "metadata": {},
   "outputs": [
    {
     "data": {
      "text/plain": [
       "django.db.models.fields.related_descriptors.create_reverse_many_to_one_manager.<locals>.RelatedManager"
      ]
     },
     "execution_count": 40,
     "metadata": {},
     "output_type": "execute_result"
    }
   ],
   "source": [
    "c = q.choice_set\n",
    "type(c)"
   ]
  },
  {
   "cell_type": "code",
   "execution_count": 41,
   "id": "3e324f92",
   "metadata": {},
   "outputs": [
    {
     "data": {
      "text/plain": [
       "<QuerySet [<Choice: 미국>, <Choice: 쿠바>, <Choice: 남아공>]>"
      ]
     },
     "execution_count": 41,
     "metadata": {},
     "output_type": "execute_result"
    }
   ],
   "source": [
    "c.all()"
   ]
  },
  {
   "cell_type": "code",
   "execution_count": 42,
   "id": "1894067d",
   "metadata": {},
   "outputs": [
    {
     "data": {
      "text/plain": [
       "<QuerySet []>"
      ]
     },
     "execution_count": 42,
     "metadata": {},
     "output_type": "execute_result"
    }
   ],
   "source": [
    "c.filter(choice_text='한국')"
   ]
  },
  {
   "cell_type": "code",
   "execution_count": 43,
   "id": "7e94eccb",
   "metadata": {},
   "outputs": [
    {
     "data": {
      "text/plain": [
       "<QuerySet [<Choice: 미국>, <Choice: 쿠바>, <Choice: 남아공>]>"
      ]
     },
     "execution_count": 43,
     "metadata": {},
     "output_type": "execute_result"
    }
   ],
   "source": [
    "Choice.objects.filter(question_id=3)"
   ]
  },
  {
   "cell_type": "markdown",
   "id": "484f7d3e",
   "metadata": {},
   "source": [
    "# insert/update/delete\n",
    "- insert/update\n",
    "    - 모델객체(insert할내용을가진).save()\n",
    "- delete\n",
    "    - 모델객체(삭제할pk를가진).delete()"
   ]
  },
  {
   "cell_type": "code",
   "execution_count": 45,
   "id": "79d8ed5e",
   "metadata": {},
   "outputs": [
    {
     "name": "stdout",
     "output_type": "stream",
     "text": [
      "1\n",
      "3\n",
      "4\n"
     ]
    }
   ],
   "source": [
    "# insert\n",
    "qs = Question.objects.all()\n",
    "for q in qs:\n",
    "    print(q.pk)"
   ]
  },
  {
   "cell_type": "code",
   "execution_count": 48,
   "id": "acf67315",
   "metadata": {},
   "outputs": [],
   "source": [
    "from datetime import datetime, timedelta"
   ]
  },
  {
   "cell_type": "code",
   "execution_count": 55,
   "id": "f33aba51",
   "metadata": {},
   "outputs": [
    {
     "data": {
      "text/plain": [
       "('좋아하는 동물은?', datetime.datetime(2021, 5, 26, 11, 24, 2, 2760), 2)"
      ]
     },
     "execution_count": 55,
     "metadata": {},
     "output_type": "execute_result"
    }
   ],
   "source": [
    "# pk: id - 자동증가(생략)\n",
    "new_q = Question()\n",
    "new_q.id = 2\n",
    "new_q.question_text = \"좋아하는 동물은?\"\n",
    "new_q.pub_date = datetime.now()\n",
    "new_q.question_text, new_q.pub_date, new_q.pk"
   ]
  },
  {
   "cell_type": "code",
   "execution_count": 56,
   "id": "32f3b5d5",
   "metadata": {},
   "outputs": [
    {
     "name": "stderr",
     "output_type": "stream",
     "text": [
      "c:\\users\\inje.jeong\\anaconda3\\envs\\django\\lib\\site-packages\\django\\db\\models\\fields\\__init__.py:1419: RuntimeWarning: DateTimeField Question.pub_date received a naive datetime (2021-05-26 11:24:02.002760) while time zone support is active.\n",
      "  RuntimeWarning)\n"
     ]
    }
   ],
   "source": [
    "new_q.save()"
   ]
  },
  {
   "cell_type": "code",
   "execution_count": 57,
   "id": "5011baa2",
   "metadata": {},
   "outputs": [
    {
     "name": "stdout",
     "output_type": "stream",
     "text": [
      "1 좋아하는 색깔은 무엇입니까? 2021-05-25 05:18:45.775911+00:00\n",
      "2 좋아하는 동물은? 2021-05-26 02:24:03.438889+00:00\n",
      "3 가고 싶은 나라를 선택하세요. 2021-05-25 05:21:04.752190+00:00\n",
      "4 프로젝트는 어떤 주제로 진행했습니까? 2021-05-26 01:19:42.807663+00:00\n",
      "5 좋아하는 가수는? 2021-05-26 02:22:50.074958+00:00\n"
     ]
    }
   ],
   "source": [
    "qs = Question.objects.all()\n",
    "for q in qs:\n",
    "    print(q.pk, q.question_text, q.pub_date)"
   ]
  },
  {
   "cell_type": "code",
   "execution_count": 61,
   "id": "174d2702",
   "metadata": {},
   "outputs": [
    {
     "name": "stdout",
     "output_type": "stream",
     "text": [
      "1 좋아하는 꽃은 무엇입니까? 2021-02-15 11:30:03.527117\n"
     ]
    },
    {
     "name": "stderr",
     "output_type": "stream",
     "text": [
      "c:\\users\\inje.jeong\\anaconda3\\envs\\django\\lib\\site-packages\\django\\db\\models\\fields\\__init__.py:1419: RuntimeWarning: DateTimeField Question.pub_date received a naive datetime (2021-02-15 11:30:03.527117) while time zone support is active.\n",
      "  RuntimeWarning)\n"
     ]
    }
   ],
   "source": [
    "q = Question.objects.get(pk=1)\n",
    "q.question_text = \"좋아하는 꽃은 무엇입니까?\"\n",
    "q.pub_date = datetime.now() - timedelta(days=100)\n",
    "print(q.id, q.question_text, q.pub_date)\n",
    "q.save()"
   ]
  },
  {
   "cell_type": "code",
   "execution_count": 62,
   "id": "5ffed965",
   "metadata": {},
   "outputs": [
    {
     "name": "stdout",
     "output_type": "stream",
     "text": [
      "1 좋아하는 꽃은 무엇입니까? 2021-02-15 02:30:03.527117+00:00\n",
      "2 좋아하는 동물은? 2021-05-26 02:24:03.438889+00:00\n",
      "3 가고 싶은 나라를 선택하세요. 2021-05-25 05:21:04.752190+00:00\n",
      "4 프로젝트는 어떤 주제로 진행했습니까? 2021-05-26 01:19:42.807663+00:00\n",
      "5 좋아하는 가수는? 2021-05-26 02:22:50.074958+00:00\n"
     ]
    }
   ],
   "source": [
    "qs = Question.objects.all()\n",
    "for q in qs:\n",
    "    print(q.pk, q.question_text, q.pub_date)"
   ]
  },
  {
   "cell_type": "code",
   "execution_count": 63,
   "id": "9551761a",
   "metadata": {},
   "outputs": [
    {
     "data": {
      "text/plain": [
       "(1, '', None)"
      ]
     },
     "execution_count": 63,
     "metadata": {},
     "output_type": "execute_result"
    }
   ],
   "source": [
    "# 삭제\n",
    "d_q = Question()\n",
    "d_q.id = 1\n",
    "d_q.id, d_q.question_text, d_q.pub_date"
   ]
  },
  {
   "cell_type": "code",
   "execution_count": 64,
   "id": "64db41d0",
   "metadata": {},
   "outputs": [
    {
     "data": {
      "text/plain": [
       "(5, {'polls.Choice': 4, 'polls.Question': 1})"
      ]
     },
     "execution_count": 64,
     "metadata": {},
     "output_type": "execute_result"
    }
   ],
   "source": [
    "d_q.delete()"
   ]
  },
  {
   "cell_type": "code",
   "execution_count": 65,
   "id": "92d9e499",
   "metadata": {},
   "outputs": [
    {
     "name": "stdout",
     "output_type": "stream",
     "text": [
      "2 좋아하는 동물은? 2021-05-26 02:24:03.438889+00:00\n",
      "3 가고 싶은 나라를 선택하세요. 2021-05-25 05:21:04.752190+00:00\n",
      "4 프로젝트는 어떤 주제로 진행했습니까? 2021-05-26 01:19:42.807663+00:00\n",
      "5 좋아하는 가수는? 2021-05-26 02:22:50.074958+00:00\n"
     ]
    }
   ],
   "source": [
    "qs = Question.objects.all()\n",
    "for q in qs:\n",
    "    print(q.pk, q.question_text, q.pub_date)"
   ]
  },
  {
   "cell_type": "code",
   "execution_count": 67,
   "id": "4e931c93",
   "metadata": {},
   "outputs": [
    {
     "data": {
      "text/plain": [
       "<QuerySet [<Choice: 미국>, <Choice: 쿠바>, <Choice: 프론트엔드>, <Choice: 백엔드>, <Choice: AI>, <Choice: 남아공>]>"
      ]
     },
     "execution_count": 67,
     "metadata": {},
     "output_type": "execute_result"
    }
   ],
   "source": [
    "Choice.objects.all()"
   ]
  },
  {
   "cell_type": "code",
   "execution_count": 70,
   "id": "a58bd562",
   "metadata": {},
   "outputs": [],
   "source": [
    "# 특정 조건의 데이터들을 삭제 => 조회\n",
    "# choice_text에 '색'이 들어간 데이터 삭제\n",
    "qs = Choice.objects.filter(choice_text__endswith='색')\n",
    "for q in qs:\n",
    "    q.delete()"
   ]
  },
  {
   "cell_type": "code",
   "execution_count": 71,
   "id": "c50b2ceb",
   "metadata": {},
   "outputs": [
    {
     "data": {
      "text/plain": [
       "<QuerySet [<Choice: 미국>, <Choice: 쿠바>, <Choice: 프론트엔드>, <Choice: 백엔드>, <Choice: AI>, <Choice: 남아공>]>"
      ]
     },
     "execution_count": 71,
     "metadata": {},
     "output_type": "execute_result"
    }
   ],
   "source": [
    "Choice.objects.all()"
   ]
  },
  {
   "cell_type": "markdown",
   "id": "b99bc3df",
   "metadata": {},
   "source": [
    "# 직접 SQL문 실행\n",
    "- 모델.objects.raw('select문')\n",
    "    - RawQuerySet"
   ]
  },
  {
   "cell_type": "code",
   "execution_count": 75,
   "id": "bd2595d3",
   "metadata": {},
   "outputs": [
    {
     "name": "stdout",
     "output_type": "stream",
     "text": [
      "select * from polls_choice\n"
     ]
    }
   ],
   "source": [
    "rq = Choice.objects.raw('select * from polls_choice')\n",
    "print(rq.query)"
   ]
  },
  {
   "cell_type": "code",
   "execution_count": 76,
   "id": "4daa4f5f",
   "metadata": {},
   "outputs": [
    {
     "name": "stdout",
     "output_type": "stream",
     "text": [
      "미국\n",
      "쿠바\n",
      "프론트엔드\n",
      "백엔드\n",
      "AI\n",
      "남아공\n"
     ]
    }
   ],
   "source": [
    "for q in rq:\n",
    "    print(q, type(q))"
   ]
  },
  {
   "cell_type": "code",
   "execution_count": null,
   "id": "a28a1863",
   "metadata": {},
   "outputs": [],
   "source": []
  },
  {
   "cell_type": "code",
   "execution_count": null,
   "id": "6d964203",
   "metadata": {},
   "outputs": [],
   "source": []
  },
  {
   "cell_type": "code",
   "execution_count": null,
   "id": "41d02475",
   "metadata": {},
   "outputs": [],
   "source": []
  }
 ],
 "metadata": {
  "kernelspec": {
   "display_name": "Python 3",
   "language": "python",
   "name": "python3"
  },
  "language_info": {
   "codemirror_mode": {
    "name": "ipython",
    "version": 3
   },
   "file_extension": ".py",
   "mimetype": "text/x-python",
   "name": "python",
   "nbconvert_exporter": "python",
   "pygments_lexer": "ipython3",
   "version": "3.7.10"
  }
 },
 "nbformat": 4,
 "nbformat_minor": 5
}
