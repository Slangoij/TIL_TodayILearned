{
 "cells": [
  {
   "cell_type": "markdown",
   "metadata": {},
   "source": [
    "# 데이터셋 API\n",
    "- 데이터 입력 파이프라인을 위한 패키지\n",
    "- tf.data 패키지에서 제공\n",
    "- tf.data.Dataset 추상클래스에서 상속된 여러가지 클래스 객체를 사용 또는 만들어 쓴다.\n",
    "\n",
    "## 데이터 입력 파이프라인이란\n",
    "**모델에 공급**되는 데이터에 대한 전처리 작업과 공급을 담당한다.    \n",
    "- 이미지 데이터의 경우\n",
    "    - 분산 파일시스템으로 부터 이미지를 모으는 작업, \n",
    "    - 이미지에 노이즈를 주거나 변형하는 작업, \n",
    "    - 배치 학습을 위해 무작위로 데이터를 선택하여 배치데이터를 만드는 작업\n",
    "- 텍스트 데이터 경우\n",
    "    - 원문을 토큰화하는 작업\n",
    "    - 임베딩하는 작업\n",
    "    - 길이가 다른 데이터를 패딩하여 합치는 작업 \n",
    "\n",
    "\n",
    "## 데이터셋 API 사용 세단계\n",
    "1. 데이터셋 생성\n",
    "    - from_tensor_slices(), from_generator() 클래스 메소드, tf.data.TFRecordDataset 클래스를 사용해 메모리나 파일에 있는 데이터를 데이터소스로 만든다.\n",
    "    - from_tensor_slices(): 리스트 넘파이배열, 텐서플로 자료형에서 데이터를 생성한다.\n",
    "2. 데이터셋 변형: map(), filter(), batch() 등 메소드를 이용해 데이터 소스를 변형한다.\n",
    "3. for 반복문에서 iterate를 통해 데이터셋 사용\n",
    "\n",
    "## Dataset의 주요 메소드\n",
    "- map(함수) : dataset의 각 원소들을 함수로 처리한다.\n",
    "- shuffle(크기): dataset의 원소들의 순서를 섞는다. 크기는 섞는 공간의 크기로  **데이터보다 크거나 같으면** 완전셔플, **적으면 일부만 가져와서 섞어** 완전셔플이 안된다.=>데이터가 너무너무 많으면 적게 주기도 한다.)\n",
    "- batch(size) : 반복시 제공할 데이터 수. 지정한 batch size만큼 data를 꺼내준다."
   ]
  },
  {
   "cell_type": "code",
   "execution_count": 2,
   "metadata": {},
   "outputs": [],
   "source": [
    "import tensorflow as tf\n",
    "import numpy as np"
   ]
  },
  {
   "cell_type": "code",
   "execution_count": 3,
   "metadata": {},
   "outputs": [],
   "source": [
    "arr = np.arange(9) # 0 ~ 8: 9"
   ]
  },
  {
   "cell_type": "code",
   "execution_count": 4,
   "metadata": {},
   "outputs": [
    {
     "data": {
      "text/plain": [
       "tensorflow.python.data.ops.dataset_ops.TensorSliceDataset"
      ]
     },
     "execution_count": 4,
     "metadata": {},
     "output_type": "execute_result"
    }
   ],
   "source": [
    "# 메모리에 ndarray로 저장된 데이터를 이용해 Dataset객체 작성\n",
    "dataset = tf.data.Dataset.from_tensor_slices(arr)\n",
    "type(dataset)"
   ]
  },
  {
   "cell_type": "code",
   "execution_count": 5,
   "metadata": {},
   "outputs": [
    {
     "data": {
      "text/plain": [
       "tensorflow.python.data.ops.dataset_ops.MapDataset"
      ]
     },
     "execution_count": 5,
     "metadata": {},
     "output_type": "execute_result"
    }
   ],
   "source": [
    "# 각각의 워소를 변환작업을 Dataset 추가. - Dataset.map(변환함수)\n",
    "dataset = dataset.map(lambda x:x**2)\n",
    "type(dataset)"
   ]
  },
  {
   "cell_type": "code",
   "execution_count": 6,
   "metadata": {},
   "outputs": [],
   "source": [
    "# dataset = dataset.filter(lambda x: x%2 == 0)"
   ]
  },
  {
   "cell_type": "code",
   "execution_count": 7,
   "metadata": {},
   "outputs": [],
   "source": [
    "dataset = dataset.shuffle(9) # 값들을 섞는 작업"
   ]
  },
  {
   "cell_type": "code",
   "execution_count": 8,
   "metadata": {},
   "outputs": [],
   "source": [
    "dataset = dataset.batch(3) # 한번에 지정한 개수만큼 제공"
   ]
  },
  {
   "cell_type": "code",
   "execution_count": 9,
   "metadata": {},
   "outputs": [
    {
     "name": "stdout",
     "output_type": "stream",
     "text": [
      "tf.Tensor([ 4 64 49], shape=(3,), dtype=int32)\n",
      "tf.Tensor([ 0  9 16], shape=(3,), dtype=int32)\n",
      "tf.Tensor([36  1 25], shape=(3,), dtype=int32)\n"
     ]
    }
   ],
   "source": [
    "# Dataset에서 제공되는 값들을 조회\n",
    "for a in dataset:\n",
    "    print(a)"
   ]
  },
  {
   "cell_type": "code",
   "execution_count": 10,
   "metadata": {},
   "outputs": [
    {
     "data": {
      "text/plain": [
       "((10,), (10,))"
      ]
     },
     "execution_count": 10,
     "metadata": {},
     "output_type": "execute_result"
    }
   ],
   "source": [
    "x = np.arange(10)\n",
    "y = np.arange(10, 20)\n",
    "x.shape, y.shape"
   ]
  },
  {
   "cell_type": "code",
   "execution_count": 11,
   "metadata": {},
   "outputs": [],
   "source": [
    "ds = tf.data.Dataset.from_tensor_slices((x, y))"
   ]
  },
  {
   "cell_type": "code",
   "execution_count": 12,
   "metadata": {},
   "outputs": [
    {
     "name": "stdout",
     "output_type": "stream",
     "text": [
      "(<tf.Tensor: shape=(), dtype=int32, numpy=0>, <tf.Tensor: shape=(), dtype=int32, numpy=10>)\n",
      "(<tf.Tensor: shape=(), dtype=int32, numpy=1>, <tf.Tensor: shape=(), dtype=int32, numpy=11>)\n",
      "(<tf.Tensor: shape=(), dtype=int32, numpy=2>, <tf.Tensor: shape=(), dtype=int32, numpy=12>)\n",
      "(<tf.Tensor: shape=(), dtype=int32, numpy=3>, <tf.Tensor: shape=(), dtype=int32, numpy=13>)\n",
      "(<tf.Tensor: shape=(), dtype=int32, numpy=4>, <tf.Tensor: shape=(), dtype=int32, numpy=14>)\n",
      "(<tf.Tensor: shape=(), dtype=int32, numpy=5>, <tf.Tensor: shape=(), dtype=int32, numpy=15>)\n",
      "(<tf.Tensor: shape=(), dtype=int32, numpy=6>, <tf.Tensor: shape=(), dtype=int32, numpy=16>)\n",
      "(<tf.Tensor: shape=(), dtype=int32, numpy=7>, <tf.Tensor: shape=(), dtype=int32, numpy=17>)\n",
      "(<tf.Tensor: shape=(), dtype=int32, numpy=8>, <tf.Tensor: shape=(), dtype=int32, numpy=18>)\n",
      "(<tf.Tensor: shape=(), dtype=int32, numpy=9>, <tf.Tensor: shape=(), dtype=int32, numpy=19>)\n"
     ]
    }
   ],
   "source": [
    "for a in ds:\n",
    "    print(a)"
   ]
  },
  {
   "cell_type": "code",
   "execution_count": 13,
   "metadata": {},
   "outputs": [],
   "source": [
    "ds2 = ds.map(lambda x, y: (x**2, y**3)) # x:2제곱, y:3제곱"
   ]
  },
  {
   "cell_type": "code",
   "execution_count": 14,
   "metadata": {},
   "outputs": [
    {
     "name": "stdout",
     "output_type": "stream",
     "text": [
      "(<tf.Tensor: shape=(), dtype=int32, numpy=0>, <tf.Tensor: shape=(), dtype=int32, numpy=1000>)\n",
      "(<tf.Tensor: shape=(), dtype=int32, numpy=1>, <tf.Tensor: shape=(), dtype=int32, numpy=1331>)\n",
      "(<tf.Tensor: shape=(), dtype=int32, numpy=4>, <tf.Tensor: shape=(), dtype=int32, numpy=1728>)\n",
      "(<tf.Tensor: shape=(), dtype=int32, numpy=9>, <tf.Tensor: shape=(), dtype=int32, numpy=2197>)\n",
      "(<tf.Tensor: shape=(), dtype=int32, numpy=16>, <tf.Tensor: shape=(), dtype=int32, numpy=2744>)\n",
      "(<tf.Tensor: shape=(), dtype=int32, numpy=25>, <tf.Tensor: shape=(), dtype=int32, numpy=3375>)\n",
      "(<tf.Tensor: shape=(), dtype=int32, numpy=36>, <tf.Tensor: shape=(), dtype=int32, numpy=4096>)\n",
      "(<tf.Tensor: shape=(), dtype=int32, numpy=49>, <tf.Tensor: shape=(), dtype=int32, numpy=4913>)\n",
      "(<tf.Tensor: shape=(), dtype=int32, numpy=64>, <tf.Tensor: shape=(), dtype=int32, numpy=5832>)\n",
      "(<tf.Tensor: shape=(), dtype=int32, numpy=81>, <tf.Tensor: shape=(), dtype=int32, numpy=6859>)\n"
     ]
    }
   ],
   "source": [
    "for a in ds2:\n",
    "    print(a)"
   ]
  },
  {
   "cell_type": "code",
   "execution_count": 15,
   "metadata": {},
   "outputs": [],
   "source": [
    "ds3 = ds2.shuffle(10)"
   ]
  },
  {
   "cell_type": "code",
   "execution_count": 16,
   "metadata": {},
   "outputs": [
    {
     "name": "stdout",
     "output_type": "stream",
     "text": [
      "(<tf.Tensor: shape=(), dtype=int32, numpy=16>, <tf.Tensor: shape=(), dtype=int32, numpy=2744>)\n",
      "(<tf.Tensor: shape=(), dtype=int32, numpy=0>, <tf.Tensor: shape=(), dtype=int32, numpy=1000>)\n",
      "(<tf.Tensor: shape=(), dtype=int32, numpy=36>, <tf.Tensor: shape=(), dtype=int32, numpy=4096>)\n",
      "(<tf.Tensor: shape=(), dtype=int32, numpy=25>, <tf.Tensor: shape=(), dtype=int32, numpy=3375>)\n",
      "(<tf.Tensor: shape=(), dtype=int32, numpy=4>, <tf.Tensor: shape=(), dtype=int32, numpy=1728>)\n",
      "(<tf.Tensor: shape=(), dtype=int32, numpy=64>, <tf.Tensor: shape=(), dtype=int32, numpy=5832>)\n",
      "(<tf.Tensor: shape=(), dtype=int32, numpy=49>, <tf.Tensor: shape=(), dtype=int32, numpy=4913>)\n",
      "(<tf.Tensor: shape=(), dtype=int32, numpy=9>, <tf.Tensor: shape=(), dtype=int32, numpy=2197>)\n",
      "(<tf.Tensor: shape=(), dtype=int32, numpy=81>, <tf.Tensor: shape=(), dtype=int32, numpy=6859>)\n",
      "(<tf.Tensor: shape=(), dtype=int32, numpy=1>, <tf.Tensor: shape=(), dtype=int32, numpy=1331>)\n"
     ]
    }
   ],
   "source": [
    "for a in ds3:\n",
    "    print(a)"
   ]
  },
  {
   "cell_type": "code",
   "execution_count": 17,
   "metadata": {},
   "outputs": [],
   "source": [
    "ds4 = ds2.batch(4)"
   ]
  },
  {
   "cell_type": "code",
   "execution_count": 18,
   "metadata": {},
   "outputs": [
    {
     "name": "stdout",
     "output_type": "stream",
     "text": [
      "(<tf.Tensor: shape=(4,), dtype=int32, numpy=array([0, 1, 4, 9])>, <tf.Tensor: shape=(4,), dtype=int32, numpy=array([1000, 1331, 1728, 2197])>)\n",
      "(<tf.Tensor: shape=(4,), dtype=int32, numpy=array([16, 25, 36, 49])>, <tf.Tensor: shape=(4,), dtype=int32, numpy=array([2744, 3375, 4096, 4913])>)\n",
      "(<tf.Tensor: shape=(2,), dtype=int32, numpy=array([64, 81])>, <tf.Tensor: shape=(2,), dtype=int32, numpy=array([5832, 6859])>)\n"
     ]
    }
   ],
   "source": [
    "for a in ds4:\n",
    "    print(a)"
   ]
  },
  {
   "cell_type": "code",
   "execution_count": 19,
   "metadata": {
    "scrolled": false
   },
   "outputs": [
    {
     "name": "stdout",
     "output_type": "stream",
     "text": [
      "(<tf.Tensor: shape=(4,), dtype=int32, numpy=array([0, 1, 4, 9])>, <tf.Tensor: shape=(4,), dtype=int32, numpy=array([1000, 1331, 1728, 2197])>)\n",
      "(<tf.Tensor: shape=(4,), dtype=int32, numpy=array([16, 25, 36, 49])>, <tf.Tensor: shape=(4,), dtype=int32, numpy=array([2744, 3375, 4096, 4913])>)\n",
      "(<tf.Tensor: shape=(2,), dtype=int32, numpy=array([64, 81])>, <tf.Tensor: shape=(2,), dtype=int32, numpy=array([5832, 6859])>)\n",
      "(<tf.Tensor: shape=(4,), dtype=int32, numpy=array([0, 1, 4, 9])>, <tf.Tensor: shape=(4,), dtype=int32, numpy=array([1000, 1331, 1728, 2197])>)\n",
      "(<tf.Tensor: shape=(4,), dtype=int32, numpy=array([16, 25, 36, 49])>, <tf.Tensor: shape=(4,), dtype=int32, numpy=array([2744, 3375, 4096, 4913])>)\n",
      "(<tf.Tensor: shape=(2,), dtype=int32, numpy=array([64, 81])>, <tf.Tensor: shape=(2,), dtype=int32, numpy=array([5832, 6859])>)\n",
      "(<tf.Tensor: shape=(4,), dtype=int32, numpy=array([0, 1, 4, 9])>, <tf.Tensor: shape=(4,), dtype=int32, numpy=array([1000, 1331, 1728, 2197])>)\n",
      "(<tf.Tensor: shape=(4,), dtype=int32, numpy=array([16, 25, 36, 49])>, <tf.Tensor: shape=(4,), dtype=int32, numpy=array([2744, 3375, 4096, 4913])>)\n",
      "(<tf.Tensor: shape=(2,), dtype=int32, numpy=array([64, 81])>, <tf.Tensor: shape=(2,), dtype=int32, numpy=array([5832, 6859])>)\n"
     ]
    }
   ],
   "source": [
    "for a in ds4.repeat(3): # dataset.repeat(count) count횟수만큼 반복, count생략시 무한제공\n",
    "    print(a)    "
   ]
  },
  {
   "cell_type": "code",
   "execution_count": 20,
   "metadata": {},
   "outputs": [
    {
     "name": "stdout",
     "output_type": "stream",
     "text": [
      "WARNING:tensorflow:AutoGraph could not transform <function <lambda> at 0x000001967D931A68> and will run it as-is.\n",
      "Cause: could not parse the source code:\n",
      "\n",
      ".map(lambda x, y: (x**2, y**3))\\\n",
      ".shuffle(10)\\\n",
      ".batch(4)\\\n",
      ".repeat(3)\n",
      "\n",
      "This error may be avoided by creating the lambda in a standalone statement.\n",
      "\n",
      "WARNING: AutoGraph could not transform <function <lambda> at 0x000001967D931A68> and will run it as-is.\n",
      "Cause: could not parse the source code:\n",
      "\n",
      ".map(lambda x, y: (x**2, y**3))\\\n",
      ".shuffle(10)\\\n",
      ".batch(4)\\\n",
      ".repeat(3)\n",
      "\n",
      "This error may be avoided by creating the lambda in a standalone statement.\n",
      "\n"
     ]
    }
   ],
   "source": [
    "dataset = tf.data.Dataset.from_tensor_slices((x, y))\\\n",
    ".map(lambda x, y: (x**2, y**3))\\\n",
    ".shuffle(10)\\\n",
    ".batch(4)\\\n",
    ".repeat(3)"
   ]
  },
  {
   "cell_type": "code",
   "execution_count": 21,
   "metadata": {},
   "outputs": [
    {
     "name": "stdout",
     "output_type": "stream",
     "text": [
      "(<tf.Tensor: shape=(4,), dtype=int32, numpy=array([81, 49, 25, 36])>, <tf.Tensor: shape=(4,), dtype=int32, numpy=array([6859, 4913, 3375, 4096])>)\n",
      "(<tf.Tensor: shape=(4,), dtype=int32, numpy=array([ 4,  0,  9, 64])>, <tf.Tensor: shape=(4,), dtype=int32, numpy=array([1728, 1000, 2197, 5832])>)\n",
      "(<tf.Tensor: shape=(2,), dtype=int32, numpy=array([16,  1])>, <tf.Tensor: shape=(2,), dtype=int32, numpy=array([2744, 1331])>)\n",
      "(<tf.Tensor: shape=(4,), dtype=int32, numpy=array([16, 64, 36, 25])>, <tf.Tensor: shape=(4,), dtype=int32, numpy=array([2744, 5832, 4096, 3375])>)\n",
      "(<tf.Tensor: shape=(4,), dtype=int32, numpy=array([ 0, 81,  1, 49])>, <tf.Tensor: shape=(4,), dtype=int32, numpy=array([1000, 6859, 1331, 4913])>)\n",
      "(<tf.Tensor: shape=(2,), dtype=int32, numpy=array([9, 4])>, <tf.Tensor: shape=(2,), dtype=int32, numpy=array([2197, 1728])>)\n",
      "(<tf.Tensor: shape=(4,), dtype=int32, numpy=array([ 1, 16, 36, 49])>, <tf.Tensor: shape=(4,), dtype=int32, numpy=array([1331, 2744, 4096, 4913])>)\n",
      "(<tf.Tensor: shape=(4,), dtype=int32, numpy=array([81,  4,  0, 25])>, <tf.Tensor: shape=(4,), dtype=int32, numpy=array([6859, 1728, 1000, 3375])>)\n",
      "(<tf.Tensor: shape=(2,), dtype=int32, numpy=array([64,  9])>, <tf.Tensor: shape=(2,), dtype=int32, numpy=array([5832, 2197])>)\n"
     ]
    }
   ],
   "source": [
    "for a in dataset:\n",
    "    print(a)"
   ]
  },
  {
   "cell_type": "markdown",
   "metadata": {},
   "source": [
    "# 1. 회귀 - Boston Housing Dataset\n",
    "보스턴 주택가격 dataset은 다음과 같은 속성을 바탕으로 해당 타운 주택 가격의 중앙값을 예측하는 문제.\n",
    "- CRIM: 범죄율\n",
    "- ZN: 25,000 평방피트당 주거지역 비율\n",
    "- INDUS: 비소매 상업지구 비율\n",
    "- CHAS: 찰스강에 인접해 있는지 여부(인접:1, 아니면:0)\n",
    "- NOX: 일산화질소 농도(단위: 0.1ppm)\n",
    "- RM: 주택당 방의 수\n",
    "- AGE: 1940년 이전에 건설된 주택의 비율\n",
    "- DIS: 5개의 보스턴 직업고용센터와의 거리(가중 평균)\n",
    "- RAD: 고속도로 접근성\n",
    "- TAX: 재산세율\n",
    "- PTRATIO: 학생/교사 비율\n",
    "- B: 흑인 비율\n",
    "- LSTAT: 하위 계층 비율\n",
    "\n",
    "예측해야하는 것\n",
    "- MEDV: 타운의 주택가격 중앙값(단위: 1,000달러)"
   ]
  },
  {
   "cell_type": "code",
   "execution_count": 22,
   "metadata": {},
   "outputs": [],
   "source": [
    "import numpy as np\n",
    "import tensorflow as tf\n",
    "from tensorflow import keras"
   ]
  },
  {
   "cell_type": "code",
   "execution_count": 23,
   "metadata": {},
   "outputs": [],
   "source": [
    "# random seed\n",
    "np.random.seed(1)\n",
    "tf.random.set_seed(1)"
   ]
  },
  {
   "cell_type": "code",
   "execution_count": 24,
   "metadata": {},
   "outputs": [
    {
     "data": {
      "text/plain": [
       "((404, 13), (102, 13))"
      ]
     },
     "execution_count": 24,
     "metadata": {},
     "output_type": "execute_result"
    }
   ],
   "source": [
    "# 데이터셋 로딩\n",
    "(X_train, y_train), (X_test, y_test) = keras.datasets.boston_housing.load_data()\n",
    "X_train.shape, X_test.shape"
   ]
  },
  {
   "cell_type": "code",
   "execution_count": 25,
   "metadata": {},
   "outputs": [
    {
     "data": {
      "text/plain": [
       "array([15.2, 42.3, 50. , 21.1, 17.7])"
      ]
     },
     "execution_count": 25,
     "metadata": {},
     "output_type": "execute_result"
    }
   ],
   "source": [
    "y_train[:5] # 회귀(Regression)"
   ]
  },
  {
   "cell_type": "code",
   "execution_count": 26,
   "metadata": {},
   "outputs": [
    {
     "data": {
      "text/plain": [
       "array([2.1770e-02, 8.2500e+01, 2.0300e+00, 0.0000e+00, 4.1500e-01,\n",
       "       7.6100e+00, 1.5700e+01, 6.2700e+00, 2.0000e+00, 3.4800e+02,\n",
       "       1.4700e+01, 3.9538e+02, 3.1100e+00])"
      ]
     },
     "execution_count": 26,
     "metadata": {},
     "output_type": "execute_result"
    }
   ],
   "source": [
    "X_train[1]"
   ]
  },
  {
   "cell_type": "code",
   "execution_count": 27,
   "metadata": {},
   "outputs": [],
   "source": [
    "# 하이퍼파라미터 값들을 설정\n",
    "LEARNING_RATE = 0.001 # 학습률\n",
    "N_EPOCHS = 200 # 에폭 횟수\n",
    "N_BATCHS = 32 # # batch_size. 32개 데이터셋마다 가중치 업데이트\n",
    "\n",
    "N_TRAIN = X_train.shape[0] # train set의 개수\n",
    "N_TEST = X_test.shape[0] # test set의 개수\n",
    "N_FEATURES = X_train.shape[1] # input data의 feature(컬럼) 개수"
   ]
  },
  {
   "cell_type": "code",
   "execution_count": 28,
   "metadata": {},
   "outputs": [],
   "source": [
    "# Dataset 생성\n",
    "# drop_remainder=True: 마지막에 batch size보다 제공할 데이터가 적으면 학습시 버림\n",
    "# repeat(): epoch을 반복할 때마다 계속 데이터를 제공하게 하기 위해\n",
    "train_dataset = tf.data.Dataset.from_tensor_slices((X_train, y_train))\\\n",
    ".shuffle(N_TRAIN).batch(N_BATCHS, drop_remainder=True).repeat()\n",
    "val_dataset = tf.data.Dataset.from_tensor_slices((X_test, y_test)).batch(N_BATCHS)"
   ]
  },
  {
   "cell_type": "code",
   "execution_count": 29,
   "metadata": {},
   "outputs": [],
   "source": [
    "# 모델 생성\n",
    "def create_model():\n",
    "    model = keras.Sequential()\n",
    "    # 입력 Layer를 따로 정의.\n",
    "    # 첫번째 Layer를 만들 때 input_shape(입력데이터 1개의 형태)를 지정시 입력 Layer층이 자동 생성\n",
    "    model.add(keras.layers.Dense(units=16, activation='relu', input_shape=(N_FEATURES,)))\n",
    "    model.add(keras.layers.Dense(units=8, activation='relu'))\n",
    "    # 출력 Layer\n",
    "    model.add(keras.layers.Dense(units=1)) # 회귀의 출력층: units수는 1, activation 함수 사용\n",
    "    \n",
    "    # 모델 컴파일\n",
    "    model.compile(optimizer=tf.keras.optimizers.Adam(learning_rate=LEARNING_RATE), # optimizer의 하이퍼파라미터를 기본값으로 쓸 경우 문자열로 \"adam\"으로 선언.\n",
    "                 loss=\"mse\") # 회귀의 Loss 함수: mse\n",
    "    return model"
   ]
  },
  {
   "cell_type": "code",
   "execution_count": 30,
   "metadata": {},
   "outputs": [],
   "source": [
    "model = create_model()"
   ]
  },
  {
   "cell_type": "code",
   "execution_count": 31,
   "metadata": {},
   "outputs": [
    {
     "name": "stdout",
     "output_type": "stream",
     "text": [
      "Model: \"sequential\"\n",
      "_________________________________________________________________\n",
      "Layer (type)                 Output Shape              Param #   \n",
      "=================================================================\n",
      "dense (Dense)                (None, 16)                224       \n",
      "_________________________________________________________________\n",
      "dense_1 (Dense)              (None, 8)                 136       \n",
      "_________________________________________________________________\n",
      "dense_2 (Dense)              (None, 1)                 9         \n",
      "=================================================================\n",
      "Total params: 369\n",
      "Trainable params: 369\n",
      "Non-trainable params: 0\n",
      "_________________________________________________________________\n"
     ]
    }
   ],
   "source": [
    "model.summary()"
   ]
  },
  {
   "cell_type": "code",
   "execution_count": 32,
   "metadata": {},
   "outputs": [],
   "source": [
    "# 1 step: 한번 가중치를 업데이트. batch size\n",
    "# 1 epoch: 전체 train 데이터를 한번 학습\n",
    "steps_per_epoch = N_TRAIN // N_BATCHS # 학습데이터개수 // 배치수\n",
    "validation_steps = int(np.ceil(N_TEST / N_BATCHS))"
   ]
  },
  {
   "cell_type": "code",
   "execution_count": 33,
   "metadata": {},
   "outputs": [
    {
     "name": "stdout",
     "output_type": "stream",
     "text": [
      "Train for 12 steps, validate for 4 steps\n",
      "Epoch 1/200\n",
      "12/12 [==============================] - 0s 29ms/step - loss: 402.1756 - val_loss: 239.0792\n",
      "Epoch 2/200\n",
      "12/12 [==============================] - 0s 2ms/step - loss: 151.8999 - val_loss: 120.9074\n",
      "Epoch 3/200\n",
      "12/12 [==============================] - 0s 2ms/step - loss: 81.3070 - val_loss: 104.4386\n",
      "Epoch 4/200\n",
      "12/12 [==============================] - 0s 1ms/step - loss: 77.1330 - val_loss: 99.5287\n",
      "Epoch 5/200\n",
      "12/12 [==============================] - 0s 2ms/step - loss: 73.2870 - val_loss: 102.3875\n",
      "Epoch 6/200\n",
      "12/12 [==============================] - 0s 2ms/step - loss: 73.6594 - val_loss: 96.8372\n",
      "Epoch 7/200\n",
      "12/12 [==============================] - 0s 2ms/step - loss: 68.5961 - val_loss: 105.7052\n",
      "Epoch 8/200\n",
      "12/12 [==============================] - 0s 2ms/step - loss: 68.1735 - val_loss: 96.7148\n",
      "Epoch 9/200\n",
      "12/12 [==============================] - 0s 2ms/step - loss: 64.4891 - val_loss: 99.6242\n",
      "Epoch 10/200\n",
      "12/12 [==============================] - 0s 2ms/step - loss: 64.8099 - val_loss: 94.7956\n",
      "Epoch 11/200\n",
      "12/12 [==============================] - 0s 2ms/step - loss: 65.4377 - val_loss: 93.5169\n",
      "Epoch 12/200\n",
      "12/12 [==============================] - 0s 2ms/step - loss: 62.9740 - val_loss: 92.2851\n",
      "Epoch 13/200\n",
      "12/12 [==============================] - 0s 2ms/step - loss: 63.7099 - val_loss: 90.6814\n",
      "Epoch 14/200\n",
      "12/12 [==============================] - 0s 2ms/step - loss: 65.0336 - val_loss: 90.3487\n",
      "Epoch 15/200\n",
      "12/12 [==============================] - 0s 2ms/step - loss: 63.9684 - val_loss: 90.3886\n",
      "Epoch 16/200\n",
      "12/12 [==============================] - 0s 2ms/step - loss: 62.0394 - val_loss: 88.6108\n",
      "Epoch 17/200\n",
      "12/12 [==============================] - 0s 2ms/step - loss: 62.4096 - val_loss: 93.4703\n",
      "Epoch 18/200\n",
      "12/12 [==============================] - 0s 2ms/step - loss: 59.5261 - val_loss: 85.1806\n",
      "Epoch 19/200\n",
      "12/12 [==============================] - 0s 2ms/step - loss: 61.3428 - val_loss: 86.0758\n",
      "Epoch 20/200\n",
      "12/12 [==============================] - 0s 2ms/step - loss: 58.3868 - val_loss: 86.5942\n",
      "Epoch 21/200\n",
      "12/12 [==============================] - 0s 2ms/step - loss: 59.8239 - val_loss: 83.0461\n",
      "Epoch 22/200\n",
      "12/12 [==============================] - 0s 2ms/step - loss: 60.4442 - val_loss: 81.0010\n",
      "Epoch 23/200\n",
      "12/12 [==============================] - 0s 2ms/step - loss: 57.6439 - val_loss: 86.8079\n",
      "Epoch 24/200\n",
      "12/12 [==============================] - 0s 2ms/step - loss: 58.5588 - val_loss: 80.0078\n",
      "Epoch 25/200\n",
      "12/12 [==============================] - 0s 1ms/step - loss: 55.6146 - val_loss: 80.8006\n",
      "Epoch 26/200\n",
      "12/12 [==============================] - 0s 2ms/step - loss: 55.1755 - val_loss: 86.5272\n",
      "Epoch 27/200\n",
      "12/12 [==============================] - 0s 2ms/step - loss: 56.7222 - val_loss: 76.9069\n",
      "Epoch 28/200\n",
      "12/12 [==============================] - 0s 2ms/step - loss: 55.2426 - val_loss: 80.4709\n",
      "Epoch 29/200\n",
      "12/12 [==============================] - 0s 2ms/step - loss: 56.0066 - val_loss: 76.2385\n",
      "Epoch 30/200\n",
      "12/12 [==============================] - 0s 2ms/step - loss: 55.0820 - val_loss: 81.3397\n",
      "Epoch 31/200\n",
      "12/12 [==============================] - 0s 2ms/step - loss: 54.4144 - val_loss: 74.7921\n",
      "Epoch 32/200\n",
      "12/12 [==============================] - 0s 2ms/step - loss: 53.5696 - val_loss: 79.9435\n",
      "Epoch 33/200\n",
      "12/12 [==============================] - 0s 2ms/step - loss: 51.9430 - val_loss: 74.4227\n",
      "Epoch 34/200\n",
      "12/12 [==============================] - 0s 2ms/step - loss: 50.8528 - val_loss: 74.4612\n",
      "Epoch 35/200\n",
      "12/12 [==============================] - 0s 2ms/step - loss: 52.0572 - val_loss: 72.3950\n",
      "Epoch 36/200\n",
      "12/12 [==============================] - 0s 2ms/step - loss: 56.3639 - val_loss: 75.0957\n",
      "Epoch 37/200\n",
      "12/12 [==============================] - 0s 2ms/step - loss: 58.0538 - val_loss: 72.7176\n",
      "Epoch 38/200\n",
      "12/12 [==============================] - 0s 2ms/step - loss: 55.8469 - val_loss: 85.8494\n",
      "Epoch 39/200\n",
      "12/12 [==============================] - 0s 3ms/step - loss: 50.7781 - val_loss: 71.2032\n",
      "Epoch 40/200\n",
      "12/12 [==============================] - 0s 2ms/step - loss: 50.5251 - val_loss: 69.4462\n",
      "Epoch 41/200\n",
      "12/12 [==============================] - 0s 2ms/step - loss: 50.2312 - val_loss: 71.2047\n",
      "Epoch 42/200\n",
      "12/12 [==============================] - 0s 2ms/step - loss: 51.1090 - val_loss: 72.6919\n",
      "Epoch 43/200\n",
      "12/12 [==============================] - 0s 2ms/step - loss: 47.1106 - val_loss: 69.0461\n",
      "Epoch 44/200\n",
      "12/12 [==============================] - 0s 1ms/step - loss: 46.9172 - val_loss: 68.4506\n",
      "Epoch 45/200\n",
      "12/12 [==============================] - 0s 2ms/step - loss: 49.1659 - val_loss: 67.5604\n",
      "Epoch 46/200\n",
      "12/12 [==============================] - 0s 2ms/step - loss: 49.5845 - val_loss: 66.6459\n",
      "Epoch 47/200\n",
      "12/12 [==============================] - 0s 2ms/step - loss: 49.9568 - val_loss: 67.4414\n",
      "Epoch 48/200\n",
      "12/12 [==============================] - 0s 2ms/step - loss: 47.2701 - val_loss: 66.8274\n",
      "Epoch 49/200\n",
      "12/12 [==============================] - 0s 2ms/step - loss: 48.2489 - val_loss: 67.0387\n",
      "Epoch 50/200\n",
      "12/12 [==============================] - 0s 2ms/step - loss: 50.1579 - val_loss: 64.6146\n",
      "Epoch 51/200\n",
      "12/12 [==============================] - 0s 2ms/step - loss: 45.3427 - val_loss: 64.9217\n",
      "Epoch 52/200\n",
      "12/12 [==============================] - 0s 2ms/step - loss: 45.7545 - val_loss: 65.2818\n",
      "Epoch 53/200\n",
      "12/12 [==============================] - 0s 2ms/step - loss: 42.2191 - val_loss: 63.4426\n",
      "Epoch 54/200\n",
      "12/12 [==============================] - 0s 2ms/step - loss: 45.6220 - val_loss: 63.8125\n",
      "Epoch 55/200\n",
      "12/12 [==============================] - 0s 2ms/step - loss: 44.3202 - val_loss: 62.9416\n",
      "Epoch 56/200\n",
      "12/12 [==============================] - 0s 1ms/step - loss: 44.7217 - val_loss: 68.6659\n",
      "Epoch 57/200\n",
      "12/12 [==============================] - 0s 2ms/step - loss: 47.4383 - val_loss: 66.9072\n",
      "Epoch 58/200\n",
      "12/12 [==============================] - 0s 1ms/step - loss: 46.6368 - val_loss: 61.3961\n",
      "Epoch 59/200\n",
      "12/12 [==============================] - 0s 2ms/step - loss: 43.9872 - val_loss: 60.6247\n",
      "Epoch 60/200\n",
      "12/12 [==============================] - 0s 1ms/step - loss: 45.9647 - val_loss: 60.7900\n",
      "Epoch 61/200\n",
      "12/12 [==============================] - 0s 1ms/step - loss: 45.2187 - val_loss: 60.5361\n",
      "Epoch 62/200\n",
      "12/12 [==============================] - 0s 2ms/step - loss: 42.1026 - val_loss: 60.4174\n",
      "Epoch 63/200\n",
      "12/12 [==============================] - 0s 1ms/step - loss: 41.8696 - val_loss: 59.3985\n",
      "Epoch 64/200\n",
      "12/12 [==============================] - 0s 2ms/step - loss: 43.5113 - val_loss: 59.2489\n",
      "Epoch 65/200\n",
      "12/12 [==============================] - 0s 1ms/step - loss: 43.1631 - val_loss: 63.9555\n",
      "Epoch 66/200\n",
      "12/12 [==============================] - 0s 1ms/step - loss: 42.6488 - val_loss: 58.7775\n",
      "Epoch 67/200\n",
      "12/12 [==============================] - 0s 1ms/step - loss: 42.6960 - val_loss: 66.3218\n",
      "Epoch 68/200\n",
      "12/12 [==============================] - 0s 1ms/step - loss: 43.9614 - val_loss: 58.9223\n",
      "Epoch 69/200\n",
      "12/12 [==============================] - 0s 2ms/step - loss: 41.6968 - val_loss: 57.4759\n",
      "Epoch 70/200\n",
      "12/12 [==============================] - 0s 2ms/step - loss: 40.7622 - val_loss: 59.4052\n",
      "Epoch 71/200\n",
      "12/12 [==============================] - 0s 1ms/step - loss: 40.9530 - val_loss: 56.1775\n",
      "Epoch 72/200\n",
      "12/12 [==============================] - 0s 1ms/step - loss: 42.1056 - val_loss: 59.9877\n",
      "Epoch 73/200\n",
      "12/12 [==============================] - 0s 1ms/step - loss: 41.6055 - val_loss: 59.9041\n",
      "Epoch 74/200\n",
      "12/12 [==============================] - 0s 1ms/step - loss: 38.9769 - val_loss: 58.0634\n",
      "Epoch 75/200\n",
      "12/12 [==============================] - 0s 2ms/step - loss: 41.9724 - val_loss: 54.7375\n",
      "Epoch 76/200\n",
      "12/12 [==============================] - 0s 2ms/step - loss: 39.4094 - val_loss: 56.1887\n",
      "Epoch 77/200\n",
      "12/12 [==============================] - 0s 2ms/step - loss: 39.9596 - val_loss: 60.2336\n",
      "Epoch 78/200\n",
      "12/12 [==============================] - 0s 2ms/step - loss: 39.3306 - val_loss: 55.4171\n",
      "Epoch 79/200\n",
      "12/12 [==============================] - 0s 2ms/step - loss: 41.4842 - val_loss: 57.4870\n",
      "Epoch 80/200\n",
      "12/12 [==============================] - 0s 2ms/step - loss: 35.7655 - val_loss: 53.9507\n"
     ]
    },
    {
     "name": "stdout",
     "output_type": "stream",
     "text": [
      "Epoch 81/200\n",
      "12/12 [==============================] - 0s 2ms/step - loss: 40.6395 - val_loss: 53.9089\n",
      "Epoch 82/200\n",
      "12/12 [==============================] - 0s 2ms/step - loss: 41.8409 - val_loss: 63.6541\n",
      "Epoch 83/200\n",
      "12/12 [==============================] - 0s 2ms/step - loss: 41.3783 - val_loss: 53.3382\n",
      "Epoch 84/200\n",
      "12/12 [==============================] - 0s 1ms/step - loss: 39.6774 - val_loss: 55.3795\n",
      "Epoch 85/200\n",
      "12/12 [==============================] - 0s 1ms/step - loss: 41.2063 - val_loss: 53.4620\n",
      "Epoch 86/200\n",
      "12/12 [==============================] - 0s 2ms/step - loss: 40.0407 - val_loss: 50.9151\n",
      "Epoch 87/200\n",
      "12/12 [==============================] - 0s 2ms/step - loss: 35.3876 - val_loss: 57.0341\n",
      "Epoch 88/200\n",
      "12/12 [==============================] - 0s 2ms/step - loss: 40.0828 - val_loss: 55.3768\n",
      "Epoch 89/200\n",
      "12/12 [==============================] - 0s 2ms/step - loss: 41.4325 - val_loss: 53.9549\n",
      "Epoch 90/200\n",
      "12/12 [==============================] - 0s 2ms/step - loss: 36.9179 - val_loss: 51.1429\n",
      "Epoch 91/200\n",
      "12/12 [==============================] - 0s 2ms/step - loss: 38.8322 - val_loss: 50.9436\n",
      "Epoch 92/200\n",
      "12/12 [==============================] - ETA: 0s - loss: 19.67 - 0s 2ms/step - loss: 39.3039 - val_loss: 50.9130\n",
      "Epoch 93/200\n",
      "12/12 [==============================] - 0s 1ms/step - loss: 39.6712 - val_loss: 50.6565\n",
      "Epoch 94/200\n",
      "12/12 [==============================] - 0s 2ms/step - loss: 38.1553 - val_loss: 51.8271\n",
      "Epoch 95/200\n",
      "12/12 [==============================] - 0s 2ms/step - loss: 36.1023 - val_loss: 49.4534\n",
      "Epoch 96/200\n",
      "12/12 [==============================] - 0s 1ms/step - loss: 41.5882 - val_loss: 50.9062\n",
      "Epoch 97/200\n",
      "12/12 [==============================] - 0s 1ms/step - loss: 38.6762 - val_loss: 49.2382\n",
      "Epoch 98/200\n",
      "12/12 [==============================] - 0s 1ms/step - loss: 39.1162 - val_loss: 49.8827\n",
      "Epoch 99/200\n",
      "12/12 [==============================] - 0s 1ms/step - loss: 36.4666 - val_loss: 51.2218\n",
      "Epoch 100/200\n",
      "12/12 [==============================] - 0s 2ms/step - loss: 34.7881 - val_loss: 49.5943\n",
      "Epoch 101/200\n",
      "12/12 [==============================] - 0s 2ms/step - loss: 38.8773 - val_loss: 48.7423\n",
      "Epoch 102/200\n",
      "12/12 [==============================] - 0s 2ms/step - loss: 38.0817 - val_loss: 49.0095\n",
      "Epoch 103/200\n",
      "12/12 [==============================] - 0s 2ms/step - loss: 35.2724 - val_loss: 47.9767\n",
      "Epoch 104/200\n",
      "12/12 [==============================] - 0s 2ms/step - loss: 37.3092 - val_loss: 51.0182\n",
      "Epoch 105/200\n",
      "12/12 [==============================] - 0s 2ms/step - loss: 37.7346 - val_loss: 47.8397\n",
      "Epoch 106/200\n",
      "12/12 [==============================] - 0s 1ms/step - loss: 37.8885 - val_loss: 47.5388\n",
      "Epoch 107/200\n",
      "12/12 [==============================] - 0s 1ms/step - loss: 38.4335 - val_loss: 48.4857\n",
      "Epoch 108/200\n",
      "12/12 [==============================] - 0s 1ms/step - loss: 38.6801 - val_loss: 46.7803\n",
      "Epoch 109/200\n",
      "12/12 [==============================] - 0s 1ms/step - loss: 36.5863 - val_loss: 48.7671\n",
      "Epoch 110/200\n",
      "12/12 [==============================] - 0s 2ms/step - loss: 35.7232 - val_loss: 49.9738\n",
      "Epoch 111/200\n",
      "12/12 [==============================] - 0s 2ms/step - loss: 36.3928 - val_loss: 48.0733\n",
      "Epoch 112/200\n",
      "12/12 [==============================] - 0s 1ms/step - loss: 35.2898 - val_loss: 50.4938\n",
      "Epoch 113/200\n",
      "12/12 [==============================] - 0s 2ms/step - loss: 37.6640 - val_loss: 49.3602\n",
      "Epoch 114/200\n",
      "12/12 [==============================] - 0s 1ms/step - loss: 36.7590 - val_loss: 50.6795\n",
      "Epoch 115/200\n",
      "12/12 [==============================] - 0s 2ms/step - loss: 36.8200 - val_loss: 45.8221\n",
      "Epoch 116/200\n",
      "12/12 [==============================] - 0s 1ms/step - loss: 36.3729 - val_loss: 46.2563\n",
      "Epoch 117/200\n",
      "12/12 [==============================] - 0s 1ms/step - loss: 36.4167 - val_loss: 46.5439\n",
      "Epoch 118/200\n",
      "12/12 [==============================] - 0s 2ms/step - loss: 34.5780 - val_loss: 46.5030\n",
      "Epoch 119/200\n",
      "12/12 [==============================] - 0s 1ms/step - loss: 37.6742 - val_loss: 46.3432\n",
      "Epoch 120/200\n",
      "12/12 [==============================] - 0s 2ms/step - loss: 38.4758 - val_loss: 51.2389\n",
      "Epoch 121/200\n",
      "12/12 [==============================] - 0s 2ms/step - loss: 36.2951 - val_loss: 45.6070\n",
      "Epoch 122/200\n",
      "12/12 [==============================] - 0s 2ms/step - loss: 36.6792 - val_loss: 45.8387\n",
      "Epoch 123/200\n",
      "12/12 [==============================] - 0s 2ms/step - loss: 35.6400 - val_loss: 46.1335\n",
      "Epoch 124/200\n",
      "12/12 [==============================] - 0s 2ms/step - loss: 37.0662 - val_loss: 43.7563\n",
      "Epoch 125/200\n",
      "12/12 [==============================] - 0s 2ms/step - loss: 37.2502 - val_loss: 45.1508\n",
      "Epoch 126/200\n",
      "12/12 [==============================] - 0s 2ms/step - loss: 36.9471 - val_loss: 46.3435\n",
      "Epoch 127/200\n",
      "12/12 [==============================] - 0s 2ms/step - loss: 36.2343 - val_loss: 46.8887\n",
      "Epoch 128/200\n",
      "12/12 [==============================] - 0s 2ms/step - loss: 34.9077 - val_loss: 44.7797\n",
      "Epoch 129/200\n",
      "12/12 [==============================] - 0s 2ms/step - loss: 36.0079 - val_loss: 44.3926\n",
      "Epoch 130/200\n",
      "12/12 [==============================] - 0s 1ms/step - loss: 35.8052 - val_loss: 48.6851\n",
      "Epoch 131/200\n",
      "12/12 [==============================] - 0s 2ms/step - loss: 36.5314 - val_loss: 44.6947\n",
      "Epoch 132/200\n",
      "12/12 [==============================] - 0s 2ms/step - loss: 35.1258 - val_loss: 45.5119\n",
      "Epoch 133/200\n",
      "12/12 [==============================] - 0s 2ms/step - loss: 37.3060 - val_loss: 45.5628\n",
      "Epoch 134/200\n",
      "12/12 [==============================] - 0s 2ms/step - loss: 35.4222 - val_loss: 44.5694\n",
      "Epoch 135/200\n",
      "12/12 [==============================] - 0s 2ms/step - loss: 33.0794 - val_loss: 43.5407\n",
      "Epoch 136/200\n",
      "12/12 [==============================] - 0s 2ms/step - loss: 34.5928 - val_loss: 45.8809\n",
      "Epoch 137/200\n",
      "12/12 [==============================] - 0s 1ms/step - loss: 35.3102 - val_loss: 45.6709\n",
      "Epoch 138/200\n",
      "12/12 [==============================] - 0s 2ms/step - loss: 36.0494 - val_loss: 43.6593\n",
      "Epoch 139/200\n",
      "12/12 [==============================] - 0s 1ms/step - loss: 31.6362 - val_loss: 46.0003\n",
      "Epoch 140/200\n",
      "12/12 [==============================] - 0s 2ms/step - loss: 35.6327 - val_loss: 44.8853\n",
      "Epoch 141/200\n",
      "12/12 [==============================] - 0s 1ms/step - loss: 35.7827 - val_loss: 46.7908\n",
      "Epoch 142/200\n",
      "12/12 [==============================] - 0s 1ms/step - loss: 35.2612 - val_loss: 44.0635\n",
      "Epoch 143/200\n",
      "12/12 [==============================] - 0s 2ms/step - loss: 35.2579 - val_loss: 42.9545\n",
      "Epoch 144/200\n",
      "12/12 [==============================] - 0s 1ms/step - loss: 36.3229 - val_loss: 42.8788\n",
      "Epoch 145/200\n",
      "12/12 [==============================] - 0s 1ms/step - loss: 35.0171 - val_loss: 43.1785\n",
      "Epoch 146/200\n",
      "12/12 [==============================] - 0s 1ms/step - loss: 32.7783 - val_loss: 45.3316\n",
      "Epoch 147/200\n",
      "12/12 [==============================] - 0s 1ms/step - loss: 35.4734 - val_loss: 42.2680\n",
      "Epoch 148/200\n",
      "12/12 [==============================] - 0s 1ms/step - loss: 35.7032 - val_loss: 48.9488\n",
      "Epoch 149/200\n",
      "12/12 [==============================] - 0s 1ms/step - loss: 35.7451 - val_loss: 44.0936\n",
      "Epoch 150/200\n",
      "12/12 [==============================] - 0s 1ms/step - loss: 36.4797 - val_loss: 42.6408\n",
      "Epoch 151/200\n",
      "12/12 [==============================] - 0s 1ms/step - loss: 34.7162 - val_loss: 45.1105\n",
      "Epoch 152/200\n",
      "12/12 [==============================] - 0s 1ms/step - loss: 35.9736 - val_loss: 43.5559\n",
      "Epoch 153/200\n",
      "12/12 [==============================] - 0s 1ms/step - loss: 32.8387 - val_loss: 42.6934\n",
      "Epoch 154/200\n",
      "12/12 [==============================] - 0s 1ms/step - loss: 33.9922 - val_loss: 42.2322\n",
      "Epoch 155/200\n",
      "12/12 [==============================] - 0s 1ms/step - loss: 35.4931 - val_loss: 42.3189\n",
      "Epoch 156/200\n",
      "12/12 [==============================] - 0s 2ms/step - loss: 34.7526 - val_loss: 42.6368\n",
      "Epoch 157/200\n",
      "12/12 [==============================] - 0s 1ms/step - loss: 34.6434 - val_loss: 42.7124\n",
      "Epoch 158/200\n",
      "12/12 [==============================] - 0s 2ms/step - loss: 33.3328 - val_loss: 41.7090\n",
      "Epoch 159/200\n",
      "12/12 [==============================] - 0s 2ms/step - loss: 34.2025 - val_loss: 42.8937\n",
      "Epoch 160/200\n",
      "12/12 [==============================] - 0s 2ms/step - loss: 33.3250 - val_loss: 42.3829\n",
      "Epoch 161/200\n",
      "12/12 [==============================] - 0s 2ms/step - loss: 33.8451 - val_loss: 43.0780\n",
      "Epoch 162/200\n",
      "12/12 [==============================] - 0s 2ms/step - loss: 34.4304 - val_loss: 42.0786\n",
      "Epoch 163/200\n",
      "12/12 [==============================] - 0s 2ms/step - loss: 33.9570 - val_loss: 42.5185\n",
      "Epoch 164/200\n",
      "12/12 [==============================] - 0s 1ms/step - loss: 35.2657 - val_loss: 42.1647\n",
      "Epoch 165/200\n",
      "12/12 [==============================] - 0s 1ms/step - loss: 35.4410 - val_loss: 42.4210\n",
      "Epoch 166/200\n",
      "12/12 [==============================] - 0s 1ms/step - loss: 33.9625 - val_loss: 42.6780\n",
      "Epoch 167/200\n",
      "12/12 [==============================] - 0s 1ms/step - loss: 34.1748 - val_loss: 43.0065\n",
      "Epoch 168/200\n",
      "12/12 [==============================] - 0s 1ms/step - loss: 36.5509 - val_loss: 43.5831\n",
      "Epoch 169/200\n",
      "12/12 [==============================] - 0s 2ms/step - loss: 32.7472 - val_loss: 41.8438\n",
      "Epoch 170/200\n",
      "12/12 [==============================] - 0s 1ms/step - loss: 32.7444 - val_loss: 40.8911\n",
      "Epoch 171/200\n",
      "12/12 [==============================] - 0s 1ms/step - loss: 33.2411 - val_loss: 41.8906\n",
      "Epoch 172/200\n",
      "12/12 [==============================] - 0s 2ms/step - loss: 34.6767 - val_loss: 43.4839\n",
      "Epoch 173/200\n",
      "12/12 [==============================] - 0s 1ms/step - loss: 34.8062 - val_loss: 41.1269\n",
      "Epoch 174/200\n",
      "12/12 [==============================] - 0s 1ms/step - loss: 33.0958 - val_loss: 41.2674\n",
      "Epoch 175/200\n",
      "12/12 [==============================] - 0s 1ms/step - loss: 34.4121 - val_loss: 40.7267\n",
      "Epoch 176/200\n",
      "12/12 [==============================] - 0s 1ms/step - loss: 33.5598 - val_loss: 43.7371\n",
      "Epoch 177/200\n",
      "12/12 [==============================] - 0s 2ms/step - loss: 34.2061 - val_loss: 43.0726\n",
      "Epoch 178/200\n",
      "12/12 [==============================] - 0s 1ms/step - loss: 34.7221 - val_loss: 40.5014\n",
      "Epoch 179/200\n",
      "12/12 [==============================] - 0s 2ms/step - loss: 33.3808 - val_loss: 43.0057\n",
      "Epoch 180/200\n",
      "12/12 [==============================] - 0s 1ms/step - loss: 33.4244 - val_loss: 40.7363\n",
      "Epoch 181/200\n",
      "12/12 [==============================] - 0s 1ms/step - loss: 35.0616 - val_loss: 41.3751\n",
      "Epoch 182/200\n",
      "12/12 [==============================] - 0s 2ms/step - loss: 34.1833 - val_loss: 44.5758\n",
      "Epoch 183/200\n",
      "12/12 [==============================] - 0s 1ms/step - loss: 35.8915 - val_loss: 41.7643\n",
      "Epoch 184/200\n",
      "12/12 [==============================] - 0s 2ms/step - loss: 34.8062 - val_loss: 43.7791\n",
      "Epoch 185/200\n",
      "12/12 [==============================] - 0s 1ms/step - loss: 33.8466 - val_loss: 40.9773\n",
      "Epoch 186/200\n",
      "12/12 [==============================] - 0s 1ms/step - loss: 32.5418 - val_loss: 43.7228\n",
      "Epoch 187/200\n",
      "12/12 [==============================] - 0s 2ms/step - loss: 33.7945 - val_loss: 40.0882\n",
      "Epoch 188/200\n",
      "12/12 [==============================] - 0s 1ms/step - loss: 36.1498 - val_loss: 45.5055\n",
      "Epoch 189/200\n",
      "12/12 [==============================] - 0s 1ms/step - loss: 36.4542 - val_loss: 42.6976\n",
      "Epoch 190/200\n",
      "12/12 [==============================] - 0s 2ms/step - loss: 33.8898 - val_loss: 40.5609\n",
      "Epoch 191/200\n",
      "12/12 [==============================] - 0s 1ms/step - loss: 35.1105 - val_loss: 40.3852\n",
      "Epoch 192/200\n",
      "12/12 [==============================] - 0s 2ms/step - loss: 35.8341 - val_loss: 40.4043\n",
      "Epoch 193/200\n",
      "12/12 [==============================] - 0s 2ms/step - loss: 33.4818 - val_loss: 43.2756\n",
      "Epoch 194/200\n",
      "12/12 [==============================] - 0s 2ms/step - loss: 34.0635 - val_loss: 43.2660\n",
      "Epoch 195/200\n",
      "12/12 [==============================] - 0s 2ms/step - loss: 34.8828 - val_loss: 39.8638\n",
      "Epoch 196/200\n",
      "12/12 [==============================] - 0s 1ms/step - loss: 33.3723 - val_loss: 40.8599\n",
      "Epoch 197/200\n",
      "12/12 [==============================] - 0s 2ms/step - loss: 34.1927 - val_loss: 40.8968\n",
      "Epoch 198/200\n",
      "12/12 [==============================] - 0s 1ms/step - loss: 33.5358 - val_loss: 39.9343\n",
      "Epoch 199/200\n",
      "12/12 [==============================] - 0s 2ms/step - loss: 33.6734 - val_loss: 40.1557\n",
      "Epoch 200/200\n",
      "12/12 [==============================] - 0s 1ms/step - loss: 32.8767 - val_loss: 51.7618\n"
     ]
    }
   ],
   "source": [
    "history = model.fit(train_dataset, # train dataset (X_train, y_train)\n",
    "         epochs=N_EPOCHS,\n",
    "         steps_per_epoch=steps_per_epoch, # 1 에폭당 step 수\n",
    "          validation_data=val_dataset, # 검증 Dataset 지정 / tf2.4부터 생략 가능\n",
    "          validation_steps=validation_steps\n",
    "         )"
   ]
  },
  {
   "cell_type": "code",
   "execution_count": 34,
   "metadata": {},
   "outputs": [
    {
     "data": {
      "text/plain": [
       "tensorflow.python.keras.callbacks.History"
      ]
     },
     "execution_count": 34,
     "metadata": {},
     "output_type": "execute_result"
    }
   ],
   "source": [
    "type(history)"
   ]
  },
  {
   "cell_type": "code",
   "execution_count": 35,
   "metadata": {},
   "outputs": [
    {
     "data": {
      "text/plain": [
       "dict_keys(['loss', 'val_loss'])"
      ]
     },
     "execution_count": 35,
     "metadata": {},
     "output_type": "execute_result"
    }
   ],
   "source": [
    "history.history.keys()"
   ]
  },
  {
   "cell_type": "code",
   "execution_count": 36,
   "metadata": {},
   "outputs": [
    {
     "data": {
      "text/plain": [
       "{'loss': [402.1755714416504,\n",
       "  151.8999080657959,\n",
       "  81.30701160430908,\n",
       "  77.13301118214925,\n",
       "  73.28703467051189,\n",
       "  73.65941619873047,\n",
       "  68.59605550765991,\n",
       "  68.17346239089966,\n",
       "  64.48908138275146,\n",
       "  64.8098824818929,\n",
       "  65.43766578038533,\n",
       "  62.97398026784261,\n",
       "  63.70985635121664,\n",
       "  65.03363641103108,\n",
       "  63.968371550242104,\n",
       "  62.03939040501913,\n",
       "  62.409614404042564,\n",
       "  59.52605644861857,\n",
       "  61.34282080332438,\n",
       "  58.386757691701256,\n",
       "  59.823924700419106,\n",
       "  60.44420623779297,\n",
       "  57.643933137257896,\n",
       "  58.558788458506264,\n",
       "  55.61461035410563,\n",
       "  55.175479571024574,\n",
       "  56.72218449910482,\n",
       "  55.2426438331604,\n",
       "  56.00656016667684,\n",
       "  55.081990242004395,\n",
       "  54.414416472117104,\n",
       "  53.56959597269694,\n",
       "  51.94300206502279,\n",
       "  50.852795441945396,\n",
       "  52.05717945098877,\n",
       "  56.36387538909912,\n",
       "  58.05383268992106,\n",
       "  55.84691349665324,\n",
       "  50.77808666229248,\n",
       "  50.52508211135864,\n",
       "  50.231220960617065,\n",
       "  51.10897922515869,\n",
       "  47.1106162071228,\n",
       "  46.91719579696655,\n",
       "  49.16593964894613,\n",
       "  49.584521770477295,\n",
       "  49.956803957621254,\n",
       "  47.27008867263794,\n",
       "  48.24892775217692,\n",
       "  50.157850901285805,\n",
       "  45.342668533325195,\n",
       "  45.75454314549764,\n",
       "  42.21909952163696,\n",
       "  45.62204090754191,\n",
       "  44.32019805908203,\n",
       "  44.72172975540161,\n",
       "  47.43827247619629,\n",
       "  46.63679726918539,\n",
       "  43.98722394307455,\n",
       "  45.9646741549174,\n",
       "  45.21869993209839,\n",
       "  42.10261329015096,\n",
       "  41.869609673817955,\n",
       "  43.511267026265465,\n",
       "  43.163065910339355,\n",
       "  42.648751735687256,\n",
       "  42.69603697458903,\n",
       "  43.961432774861656,\n",
       "  41.69684569040934,\n",
       "  40.762214501698814,\n",
       "  40.952980518341064,\n",
       "  42.10564390818278,\n",
       "  41.60549974441528,\n",
       "  38.976925214131676,\n",
       "  41.97237046559652,\n",
       "  39.409361362457275,\n",
       "  39.959607442220054,\n",
       "  39.33064397176107,\n",
       "  41.48420206705729,\n",
       "  35.76548480987549,\n",
       "  40.639527002970375,\n",
       "  41.840893586476646,\n",
       "  41.378340085347496,\n",
       "  39.67741552988688,\n",
       "  41.2063315709432,\n",
       "  40.04070425033569,\n",
       "  35.387570222218834,\n",
       "  40.082754929860435,\n",
       "  41.43246157964071,\n",
       "  36.91786162058512,\n",
       "  38.832241217295326,\n",
       "  39.30388116836548,\n",
       "  39.671213229497276,\n",
       "  38.155309995015465,\n",
       "  36.1023363272349,\n",
       "  41.5881552696228,\n",
       "  38.6762433052063,\n",
       "  39.11619965235392,\n",
       "  36.46663490931193,\n",
       "  34.78805239995321,\n",
       "  38.87733507156372,\n",
       "  38.08166186014811,\n",
       "  35.27239418029785,\n",
       "  37.30921459197998,\n",
       "  37.734583377838135,\n",
       "  37.888458490371704,\n",
       "  38.43354654312134,\n",
       "  38.68011999130249,\n",
       "  36.58634066581726,\n",
       "  35.723216692606606,\n",
       "  36.39282210667928,\n",
       "  35.2898493607839,\n",
       "  37.663970947265625,\n",
       "  36.759003003438316,\n",
       "  36.820049126942955,\n",
       "  36.372897148132324,\n",
       "  36.416689236958824,\n",
       "  34.57796065012614,\n",
       "  37.67422914505005,\n",
       "  38.475776036580406,\n",
       "  36.295064767201744,\n",
       "  36.67917490005493,\n",
       "  35.64001178741455,\n",
       "  37.06617975234985,\n",
       "  37.25017023086548,\n",
       "  36.9471443494161,\n",
       "  36.2342521349589,\n",
       "  34.9076821009318,\n",
       "  36.007909536361694,\n",
       "  35.80521376927694,\n",
       "  36.53144391377767,\n",
       "  35.12577692667643,\n",
       "  37.30595906575521,\n",
       "  35.42224947611491,\n",
       "  33.079446156819664,\n",
       "  34.59278790156046,\n",
       "  35.310211499532066,\n",
       "  36.04941956202189,\n",
       "  31.636187156041462,\n",
       "  35.6326896349589,\n",
       "  35.78272422154745,\n",
       "  35.261199633280434,\n",
       "  35.25794013341268,\n",
       "  36.32292779286703,\n",
       "  35.017119566599526,\n",
       "  32.77834288279215,\n",
       "  35.473411877950035,\n",
       "  35.703234354654946,\n",
       "  35.745144526163735,\n",
       "  36.47974634170532,\n",
       "  34.71617873509725,\n",
       "  35.9736176331838,\n",
       "  32.838735262552895,\n",
       "  33.992223262786865,\n",
       "  35.49308204650879,\n",
       "  34.752627531687416,\n",
       "  34.64336824417114,\n",
       "  33.33279720942179,\n",
       "  34.20252466201782,\n",
       "  33.32500624656677,\n",
       "  33.845096270243324,\n",
       "  34.43042993545532,\n",
       "  33.95702393849691,\n",
       "  35.265668074289955,\n",
       "  35.440987745920815,\n",
       "  33.9625031153361,\n",
       "  34.17483790715536,\n",
       "  36.5509352684021,\n",
       "  32.747190395991005,\n",
       "  32.7443839708964,\n",
       "  33.24112892150879,\n",
       "  34.67674700419108,\n",
       "  34.806246757507324,\n",
       "  33.09579110145569,\n",
       "  34.4120512008667,\n",
       "  33.559787114461265,\n",
       "  34.206089655558266,\n",
       "  34.72210454940796,\n",
       "  33.3808004061381,\n",
       "  33.424382050832115,\n",
       "  35.0616192817688,\n",
       "  34.183286348978676,\n",
       "  35.89150126775106,\n",
       "  34.80615345637003,\n",
       "  33.84657414754232,\n",
       "  32.54181353251139,\n",
       "  33.79453961054484,\n",
       "  36.14983097712199,\n",
       "  36.45422172546387,\n",
       "  33.88977098464966,\n",
       "  35.11047554016113,\n",
       "  35.83410358428955,\n",
       "  33.48175875345866,\n",
       "  34.06353950500488,\n",
       "  34.88276163736979,\n",
       "  33.37225898106893,\n",
       "  34.19273201624552,\n",
       "  33.53582874933878,\n",
       "  33.673423767089844,\n",
       "  32.87668530146281],\n",
       " 'val_loss': [239.07921409606934,\n",
       "  120.90739154815674,\n",
       "  104.43864727020264,\n",
       "  99.52873229980469,\n",
       "  102.38753890991211,\n",
       "  96.83716106414795,\n",
       "  105.70520973205566,\n",
       "  96.71477127075195,\n",
       "  99.62417411804199,\n",
       "  94.79558277130127,\n",
       "  93.51691913604736,\n",
       "  92.28505611419678,\n",
       "  90.681396484375,\n",
       "  90.34867191314697,\n",
       "  90.38856506347656,\n",
       "  88.61078262329102,\n",
       "  93.47032928466797,\n",
       "  85.18064308166504,\n",
       "  86.07576370239258,\n",
       "  86.59419918060303,\n",
       "  83.04612731933594,\n",
       "  81.00098419189453,\n",
       "  86.80790615081787,\n",
       "  80.00780963897705,\n",
       "  80.80056667327881,\n",
       "  86.52716541290283,\n",
       "  76.9068832397461,\n",
       "  80.47087955474854,\n",
       "  76.23849487304688,\n",
       "  81.33969497680664,\n",
       "  74.79212665557861,\n",
       "  79.9434871673584,\n",
       "  74.42268657684326,\n",
       "  74.46122074127197,\n",
       "  72.39503479003906,\n",
       "  75.09574317932129,\n",
       "  72.71757221221924,\n",
       "  85.84942531585693,\n",
       "  71.20319080352783,\n",
       "  69.44615173339844,\n",
       "  71.20471668243408,\n",
       "  72.69189643859863,\n",
       "  69.04610443115234,\n",
       "  68.45055294036865,\n",
       "  67.5604362487793,\n",
       "  66.64585781097412,\n",
       "  67.44141960144043,\n",
       "  66.82737159729004,\n",
       "  67.03874111175537,\n",
       "  64.61459159851074,\n",
       "  64.92174911499023,\n",
       "  65.28183937072754,\n",
       "  63.44264602661133,\n",
       "  63.81246852874756,\n",
       "  62.94162368774414,\n",
       "  68.66588830947876,\n",
       "  66.90720272064209,\n",
       "  61.39607334136963,\n",
       "  60.624725341796875,\n",
       "  60.79004383087158,\n",
       "  60.53614044189453,\n",
       "  60.41739463806152,\n",
       "  59.39851140975952,\n",
       "  59.24888467788696,\n",
       "  63.95545768737793,\n",
       "  58.7774543762207,\n",
       "  66.32180881500244,\n",
       "  58.9223108291626,\n",
       "  57.475913524627686,\n",
       "  59.40518045425415,\n",
       "  56.1775107383728,\n",
       "  59.987725257873535,\n",
       "  59.904056549072266,\n",
       "  58.063424587249756,\n",
       "  54.73746871948242,\n",
       "  56.18869590759277,\n",
       "  60.233566761016846,\n",
       "  55.41706037521362,\n",
       "  57.487037658691406,\n",
       "  53.95069074630737,\n",
       "  53.90892791748047,\n",
       "  63.65413284301758,\n",
       "  53.33818340301514,\n",
       "  55.37947607040405,\n",
       "  53.46204471588135,\n",
       "  50.915080070495605,\n",
       "  57.03406381607056,\n",
       "  55.37678623199463,\n",
       "  53.95487308502197,\n",
       "  51.1428918838501,\n",
       "  50.94361686706543,\n",
       "  50.91301918029785,\n",
       "  50.656476974487305,\n",
       "  51.82711601257324,\n",
       "  49.45340538024902,\n",
       "  50.9062237739563,\n",
       "  49.23823881149292,\n",
       "  49.88273572921753,\n",
       "  51.221832275390625,\n",
       "  49.59430694580078,\n",
       "  48.742305278778076,\n",
       "  49.00953674316406,\n",
       "  47.97669744491577,\n",
       "  51.01818227767944,\n",
       "  47.83969593048096,\n",
       "  47.53881216049194,\n",
       "  48.48572015762329,\n",
       "  46.78033638000488,\n",
       "  48.76705741882324,\n",
       "  49.97376108169556,\n",
       "  48.073317527770996,\n",
       "  50.49379539489746,\n",
       "  49.360156536102295,\n",
       "  50.6794638633728,\n",
       "  45.822142124176025,\n",
       "  46.256333351135254,\n",
       "  46.54389524459839,\n",
       "  46.502997398376465,\n",
       "  46.343204498291016,\n",
       "  51.23885154724121,\n",
       "  45.606990814208984,\n",
       "  45.838741302490234,\n",
       "  46.133506774902344,\n",
       "  43.756327629089355,\n",
       "  45.150824546813965,\n",
       "  46.343504905700684,\n",
       "  46.88866186141968,\n",
       "  44.77969980239868,\n",
       "  44.39262628555298,\n",
       "  48.68511199951172,\n",
       "  44.694708824157715,\n",
       "  45.51188516616821,\n",
       "  45.56277561187744,\n",
       "  44.56939172744751,\n",
       "  43.54068565368652,\n",
       "  45.88091850280762,\n",
       "  45.67090368270874,\n",
       "  43.65925312042236,\n",
       "  46.00031328201294,\n",
       "  44.8852972984314,\n",
       "  46.79081916809082,\n",
       "  44.06348943710327,\n",
       "  42.95445919036865,\n",
       "  42.87875699996948,\n",
       "  43.178518772125244,\n",
       "  45.33159255981445,\n",
       "  42.2680459022522,\n",
       "  48.94879102706909,\n",
       "  44.093634605407715,\n",
       "  42.64076375961304,\n",
       "  45.11051368713379,\n",
       "  43.555893898010254,\n",
       "  42.69339179992676,\n",
       "  42.23221015930176,\n",
       "  42.31887435913086,\n",
       "  42.636802196502686,\n",
       "  42.712427616119385,\n",
       "  41.70903205871582,\n",
       "  42.89370250701904,\n",
       "  42.38286209106445,\n",
       "  43.077993869781494,\n",
       "  42.078606605529785,\n",
       "  42.51846694946289,\n",
       "  42.164652824401855,\n",
       "  42.420979499816895,\n",
       "  42.67800045013428,\n",
       "  43.00647735595703,\n",
       "  43.58310031890869,\n",
       "  41.843796730041504,\n",
       "  40.89112901687622,\n",
       "  41.890578746795654,\n",
       "  43.483932971954346,\n",
       "  41.1269326210022,\n",
       "  41.267446994781494,\n",
       "  40.72666263580322,\n",
       "  43.73710060119629,\n",
       "  43.07261514663696,\n",
       "  40.50139808654785,\n",
       "  43.0056791305542,\n",
       "  40.73627519607544,\n",
       "  41.375099182128906,\n",
       "  44.57577562332153,\n",
       "  41.76429224014282,\n",
       "  43.779057025909424,\n",
       "  40.97725057601929,\n",
       "  43.72283887863159,\n",
       "  40.08817720413208,\n",
       "  45.505473136901855,\n",
       "  42.697628021240234,\n",
       "  40.560925006866455,\n",
       "  40.38515663146973,\n",
       "  40.40430545806885,\n",
       "  43.275580406188965,\n",
       "  43.26603412628174,\n",
       "  39.863800048828125,\n",
       "  40.85993480682373,\n",
       "  40.89683294296265,\n",
       "  39.93431806564331,\n",
       "  40.1556715965271,\n",
       "  51.76176357269287]}"
      ]
     },
     "execution_count": 36,
     "metadata": {},
     "output_type": "execute_result"
    }
   ],
   "source": [
    "history.history"
   ]
  },
  {
   "cell_type": "code",
   "execution_count": 37,
   "metadata": {
    "scrolled": true
   },
   "outputs": [
    {
     "data": {
      "image/png": "[encoded data removed]",
      "text/plain": [
       "<Figure size 720x504 with 1 Axes>"
      ]
     },
     "metadata": {
      "needs_background": "light"
     },
     "output_type": "display_data"
    }
   ],
   "source": [
    "# epoch당 loss와 val_loss 변화에 대해 선그래프 작성\n",
    "import matplotlib.pyplot as plt\n",
    "plt.figure(figsize=(10,7))\n",
    "\n",
    "plt.plot(range(1, N_EPOCHS+1), history.history['loss'], label='Train loss')\n",
    "plt.plot(range(1, N_EPOCHS+1), history.history['val_loss'], label='Validation loss')\n",
    "\n",
    "plt.xlabel('Epochs')\n",
    "plt.ylabel('Loss(MSE)')\n",
    "plt.ylim(0, 100)\n",
    "plt.legend()\n",
    "plt.grid(True)\n",
    "plt.show()"
   ]
  },
  {
   "cell_type": "code",
   "execution_count": 38,
   "metadata": {},
   "outputs": [
    {
     "name": "stdout",
     "output_type": "stream",
     "text": [
      "4/4 [==============================] - 0s 976us/step - loss: 51.7618\n"
     ]
    },
    {
     "data": {
      "text/plain": [
       "51.76176357269287"
      ]
     },
     "execution_count": 38,
     "metadata": {},
     "output_type": "execute_result"
    }
   ],
   "source": [
    "# 평가\n",
    "model.evaluate(val_dataset) # "
   ]
  },
  {
   "cell_type": "markdown",
   "metadata": {},
   "source": [
    "## 2. Classification\n",
    "\n",
    "### Fashion MNIST(MNIST) Dataset"
   ]
  },
  {
   "cell_type": "markdown",
   "metadata": {},
   "source": [
    "10개의 범주(category)와 70,000개의 흑백 이미지로 구성된 [패션 MNIST](https://github.com/zalandoresearch/fashion-mnist) 데이터셋. \n",
    "이미지는 해상도(28x28 픽셀)가 낮고 다음처럼 개별 의류 품목을 나타낸다:\n",
    "\n",
    "<table>\n",
    "  <tr><td>\n",
    "    <img src=\"https://tensorflow.org/images/fashion-mnist-sprite.png\"\n",
    "         alt=\"Fashion MNIST sprite\"  width=\"600\">\n",
    "  </td></tr>\n",
    "  <tr><td align=\"center\">\n",
    "    <b>그림</b> <a href=\"https://github.com/zalandoresearch/fashion-mnist\">패션-MNIST 샘플</a> (Zalando, MIT License).<br/>&nbsp;\n",
    "  </td></tr>\n",
    "</table>\n",
    "\n",
    "패션 MNIST와 손글씨 MNIST는  비교적 작기 때문에 알고리즘의 작동 여부를 확인하기 위해 사용되곤 하며 코드를 테스트하고 디버깅하는 용도로 좋다."
   ]
  },
  {
   "cell_type": "markdown",
   "metadata": {},
   "source": [
    "이미지는 28x28 크기의 넘파이 배열이고 픽셀 값은 0과 255 사이이다. *레이블*(label)은 0에서 9까지의 정수 배열이다. 아래 표는 이미지에 있는 의류의 **클래스**(class)를 나낸다.\n",
    "\n",
    "<table>\n",
    "  <tr>\n",
    "    <th>레이블</th>\n",
    "    <th>클래스</th>\n",
    "  </tr>\n",
    "  <tr>\n",
    "    <td>0</td>\n",
    "    <td>T-shirt/top</td>\n",
    "  </tr>\n",
    "  <tr>\n",
    "    <td>1</td>\n",
    "    <td>Trousers</td>\n",
    "  </tr>\n",
    "    <tr>\n",
    "    <td>2</td>\n",
    "    <td>Pullover</td>\n",
    "  </tr>\n",
    "    <tr>\n",
    "    <td>3</td>\n",
    "    <td>Dress</td>\n",
    "  </tr>\n",
    "    <tr>\n",
    "    <td>4</td>\n",
    "    <td>Coat</td>\n",
    "  </tr>\n",
    "    <tr>\n",
    "    <td>5</td>\n",
    "    <td>Sandal</td>\n",
    "  </tr>\n",
    "    <tr>\n",
    "    <td>6</td>\n",
    "    <td>Shirt</td>\n",
    "  </tr>\n",
    "    <tr>\n",
    "    <td>7</td>\n",
    "    <td>Sneaker</td>\n",
    "  </tr>\n",
    "    <tr>\n",
    "    <td>8</td>\n",
    "    <td>Bag</td>\n",
    "  </tr>\n",
    "    <tr>\n",
    "    <td>9</td>\n",
    "    <td>Ankle boot</td>\n",
    "  </tr>\n",
    "</table>\n",
    "\n",
    "각 이미지는 하나의 레이블에 매핑되어 있다. 데이터셋에 클래스 이름이 들어있지 않기 때문에 나중에 이미지를 출력할 때 사용하기 위해 별도의 변수를 만들어 저장한다."
   ]
  },
  {
   "cell_type": "code",
   "execution_count": 39,
   "metadata": {},
   "outputs": [],
   "source": [
    "class_names = ['T-shirt/top', 'Trousers', 'Pullover', 'Dress', 'Coat', 'Sandal', 'Shirt', 'Sneaker', 'Bag', 'Ankle boot']"
   ]
  },
  {
   "cell_type": "code",
   "execution_count": 40,
   "metadata": {},
   "outputs": [],
   "source": [
    "import numpy as np\n",
    "import tensorflow as tf\n",
    "from tensorflow import keras\n",
    "\n",
    "np.random.seed(1)\n",
    "tf.random.set_seed(1)"
   ]
  },
  {
   "cell_type": "code",
   "execution_count": 41,
   "metadata": {},
   "outputs": [],
   "source": [
    "# 데이터셋 읽기\n",
    "(X_train, y_train), (X_test, y_test) = keras.datasets.fashion_mnist.load_data()"
   ]
  },
  {
   "cell_type": "code",
   "execution_count": 42,
   "metadata": {},
   "outputs": [
    {
     "data": {
      "text/plain": [
       "((60000, 28, 28), (60000,), (10000, 28, 28), (10000,))"
      ]
     },
     "execution_count": 42,
     "metadata": {},
     "output_type": "execute_result"
    }
   ],
   "source": [
    "X_train.shape, y_train.shape, X_test.shape, y_test.shape"
   ]
  },
  {
   "cell_type": "code",
   "execution_count": 43,
   "metadata": {},
   "outputs": [
    {
     "data": {
      "text/plain": [
       "(array([0, 1, 2, 3, 4, 5, 6, 7, 8, 9], dtype=uint8),\n",
       " array([6000, 6000, 6000, 6000, 6000, 6000, 6000, 6000, 6000, 6000],\n",
       "       dtype=int64))"
      ]
     },
     "execution_count": 43,
     "metadata": {},
     "output_type": "execute_result"
    }
   ],
   "source": [
    "np.unique(y_train, return_counts=True)"
   ]
  },
  {
   "cell_type": "code",
   "execution_count": 44,
   "metadata": {},
   "outputs": [
    {
     "data": {
      "text/plain": [
       "(array([0, 1, 2, 3, 4, 5, 6, 7, 8, 9], dtype=uint8),\n",
       " array([1000, 1000, 1000, 1000, 1000, 1000, 1000, 1000, 1000, 1000],\n",
       "       dtype=int64))"
      ]
     },
     "execution_count": 44,
     "metadata": {},
     "output_type": "execute_result"
    }
   ],
   "source": [
    "np.unique(y_test, return_counts=True)"
   ]
  },
  {
   "cell_type": "code",
   "execution_count": 45,
   "metadata": {},
   "outputs": [
    {
     "data": {
      "image/png": "[encoded data removed]",
      "text/plain": [
       "<Figure size 1080x1080 with 25 Axes>"
      ]
     },
     "metadata": {},
     "output_type": "display_data"
    }
   ],
   "source": [
    "# 이미지 확인\n",
    "import matplotlib as mpl\n",
    "import matplotlib.pyplot as plt\n",
    "mpl.style.use('seaborn')\n",
    "plt.figure(figsize=(15,15))\n",
    "for i in range(25):\n",
    "    plt.subplot(5,5,i+1)\n",
    "    plt.imshow(X_train[i], cmap='gray')\n",
    "    plt.grid('off')\n",
    "    plt.title(class_names[y_train[i]])\n",
    "    \n",
    "plt.tight_layout()\n",
    "plt.show()"
   ]
  },
  {
   "cell_type": "code",
   "execution_count": 46,
   "metadata": {},
   "outputs": [],
   "source": [
    "# 하이퍼파라미터 설정\n",
    "LEARNING_RATE = 0.001\n",
    "N_EPOCHS = 50\n",
    "N_BATCHS = 100\n",
    "\n",
    "N_CLASS = 10 # CLASS CATEGORY의 개수\n",
    "N_TRAIN = X_train.shape[0]\n",
    "N_TEST = X_test.shape[0]\n",
    "IMAGE_SIZE = 28"
   ]
  },
  {
   "cell_type": "code",
   "execution_count": 47,
   "metadata": {},
   "outputs": [],
   "source": [
    "# 데이터 전처리\n",
    "# X(이미지) : 0 ~ 255 => 0 ~ 1\n",
    "X_train = X_train/255.\n",
    "X_test = X_test/255.\n",
    "\n",
    "# Y (Label) => 다중분류: OneHotEncoding\n",
    "y_train = keras.utils.to_categorical(y_train)\n",
    "y_test = keras.utils.to_categorical(y_test)"
   ]
  },
  {
   "cell_type": "code",
   "execution_count": 48,
   "metadata": {},
   "outputs": [
    {
     "data": {
      "text/plain": [
       "(1.0, 0.0)"
      ]
     },
     "execution_count": 48,
     "metadata": {},
     "output_type": "execute_result"
    }
   ],
   "source": [
    "np.max(X_train), np.min(X_train)"
   ]
  },
  {
   "cell_type": "code",
   "execution_count": 49,
   "metadata": {},
   "outputs": [
    {
     "data": {
      "text/plain": [
       "(10000, 10)"
      ]
     },
     "execution_count": 49,
     "metadata": {},
     "output_type": "execute_result"
    }
   ],
   "source": [
    "y_test.shape"
   ]
  },
  {
   "cell_type": "code",
   "execution_count": 50,
   "metadata": {},
   "outputs": [
    {
     "data": {
      "text/plain": [
       "array([[0., 0., 0., 0., 0., 0., 0., 0., 0., 1.],\n",
       "       [0., 0., 1., 0., 0., 0., 0., 0., 0., 0.]], dtype=float32)"
      ]
     },
     "execution_count": 50,
     "metadata": {},
     "output_type": "execute_result"
    }
   ],
   "source": [
    "y_test[:2]"
   ]
  },
  {
   "cell_type": "code",
   "execution_count": 51,
   "metadata": {},
   "outputs": [],
   "source": [
    "# Dataset\n",
    "train_dataset = tf.data.Dataset.from_tensor_slices((X_train, y_train)).shuffle(N_TRAIN)\\\n",
    "                               .batch(N_BATCHS, drop_remainder=True).repeat()"
   ]
  },
  {
   "cell_type": "code",
   "execution_count": 52,
   "metadata": {},
   "outputs": [],
   "source": [
    "val_dataset = tf.data.Dataset.from_tensor_slices((X_test, y_test)).batch(N_BATCHS)"
   ]
  },
  {
   "cell_type": "code",
   "execution_count": 53,
   "metadata": {},
   "outputs": [],
   "source": [
    "# 모델 구현\n",
    "def create_model():\n",
    "    model = keras.Sequential()\n",
    "    # 입력층(Input Layer)\n",
    "    model.add(keras.layers.Input((28,28)))\n",
    "    model.add(keras.layers.Flatten())\n",
    "    # 은닉층(Hidden Layer)\n",
    "    model.add(keras.layers.Dense(256, activation='relu'))\n",
    "    model.add(keras.layers.Dense(128, activation='relu'))\n",
    "    model.add(keras.layers.Dense(64, activation='relu'))\n",
    "    # 출력층(Output Layer)\n",
    "    # 다중분류: units-class category개수, activation-softmax=> 각 class별 확률\n",
    "    model.add(keras.layers.Dense(N_CLASS, activation='softmax'))\n",
    "    \n",
    "    # 컴파일. 다중분류: loss-categorical_crossentropy (y를 onehotencoding한 경우),\n",
    "    #                   sparse_categorical_entropy (y를 onehotencoding하지 않은 경우)\n",
    "    model.compile(optimizer=keras.optimizers.Adam(learning_rate=LEARNING_RATE),\n",
    "                 loss='categorical_crossentropy',\n",
    "                 metrics=['accuracy'])\n",
    "    \n",
    "    return model"
   ]
  },
  {
   "cell_type": "code",
   "execution_count": 54,
   "metadata": {},
   "outputs": [
    {
     "name": "stdout",
     "output_type": "stream",
     "text": [
      "Model: \"sequential_1\"\n",
      "_________________________________________________________________\n",
      "Layer (type)                 Output Shape              Param #   \n",
      "=================================================================\n",
      "flatten (Flatten)            (None, 784)               0         \n",
      "_________________________________________________________________\n",
      "dense_3 (Dense)              (None, 256)               200960    \n",
      "_________________________________________________________________\n",
      "dense_4 (Dense)              (None, 128)               32896     \n",
      "_________________________________________________________________\n",
      "dense_5 (Dense)              (None, 64)                8256      \n",
      "_________________________________________________________________\n",
      "dense_6 (Dense)              (None, 10)                650       \n",
      "=================================================================\n",
      "Total params: 242,762\n",
      "Trainable params: 242,762\n",
      "Non-trainable params: 0\n",
      "_________________________________________________________________\n"
     ]
    }
   ],
   "source": [
    "model = create_model()\n",
    "model.summary()"
   ]
  },
  {
   "cell_type": "code",
   "execution_count": 59,
   "metadata": {},
   "outputs": [
    {
     "name": "stdout",
     "output_type": "stream",
     "text": [
      "Requirement already satisfied: pydot in c:\\users\\inje.jeong\\anaconda3\\envs\\tf2\\lib\\site-packages (1.4.2)\n",
      "Requirement already satisfied: pydotplus in c:\\users\\inje.jeong\\anaconda3\\envs\\tf2\\lib\\site-packages (2.0.2)\n",
      "Requirement already satisfied: graphviz in c:\\users\\inje.jeong\\anaconda3\\envs\\tf2\\lib\\site-packages (0.16)\n",
      "Requirement already satisfied: pyparsing>=2.1.4 in c:\\users\\inje.jeong\\anaconda3\\envs\\tf2\\lib\\site-packages (from pydot) (2.4.7)\n"
     ]
    }
   ],
   "source": [
    "!pip install pydot pydotplus graphviz"
   ]
  },
  {
   "cell_type": "code",
   "execution_count": 62,
   "metadata": {},
   "outputs": [],
   "source": [
    "import os\n",
    "os.environ[\"PATH\"] += os.pathsep + 'C:/Program Files (x86)/Graphviz2.38/bin/'"
   ]
  },
  {
   "cell_type": "code",
   "execution_count": 64,
   "metadata": {
    "collapsed": true
   },
   "outputs": [
    {
     "ename": "InvocationException",
     "evalue": "GraphViz's executables not found",
     "output_type": "error",
     "traceback": [
      "\u001b[1;31m----------------------------------------------------------------------\u001b[0m",
      "\u001b[1;31mInvocationException\u001b[0m                  Traceback (most recent call last)",
      "\u001b[1;32m<ipython-input-64-867cc7384010>\u001b[0m in \u001b[0;36m<module>\u001b[1;34m\u001b[0m\n\u001b[0;32m      2\u001b[0m plot_model(model, \n\u001b[0;32m      3\u001b[0m            \u001b[0mto_file\u001b[0m\u001b[1;33m=\u001b[0m\u001b[1;34m'fashion_mnist_model.png'\u001b[0m\u001b[1;33m,\u001b[0m\u001b[1;33m\u001b[0m\u001b[1;33m\u001b[0m\u001b[0m\n\u001b[1;32m----> 4\u001b[1;33m            show_shapes=True)\n\u001b[0m",
      "\u001b[1;32m~\\anaconda3\\envs\\tf2\\lib\\site-packages\\tensorflow_core\\python\\keras\\utils\\vis_utils.py\u001b[0m in \u001b[0;36mplot_model\u001b[1;34m(model, to_file, show_shapes, show_layer_names, rankdir, expand_nested, dpi)\u001b[0m\n\u001b[0;32m    281\u001b[0m                      \u001b[0mrankdir\u001b[0m\u001b[1;33m=\u001b[0m\u001b[0mrankdir\u001b[0m\u001b[1;33m,\u001b[0m\u001b[1;33m\u001b[0m\u001b[1;33m\u001b[0m\u001b[0m\n\u001b[0;32m    282\u001b[0m                      \u001b[0mexpand_nested\u001b[0m\u001b[1;33m=\u001b[0m\u001b[0mexpand_nested\u001b[0m\u001b[1;33m,\u001b[0m\u001b[1;33m\u001b[0m\u001b[1;33m\u001b[0m\u001b[0m\n\u001b[1;32m--> 283\u001b[1;33m                      dpi=dpi)\n\u001b[0m\u001b[0;32m    284\u001b[0m   \u001b[1;32mif\u001b[0m \u001b[0mdot\u001b[0m \u001b[1;32mis\u001b[0m \u001b[1;32mNone\u001b[0m\u001b[1;33m:\u001b[0m\u001b[1;33m\u001b[0m\u001b[1;33m\u001b[0m\u001b[0m\n\u001b[0;32m    285\u001b[0m     \u001b[1;32mreturn\u001b[0m\u001b[1;33m\u001b[0m\u001b[1;33m\u001b[0m\u001b[0m\n",
      "\u001b[1;32m~\\anaconda3\\envs\\tf2\\lib\\site-packages\\tensorflow_core\\python\\keras\\utils\\vis_utils.py\u001b[0m in \u001b[0;36mmodel_to_dot\u001b[1;34m(model, show_shapes, show_layer_names, rankdir, expand_nested, dpi, subgraph)\u001b[0m\n\u001b[0;32m    100\u001b[0m   \u001b[1;32mfrom\u001b[0m \u001b[0mtensorflow\u001b[0m\u001b[1;33m.\u001b[0m\u001b[0mpython\u001b[0m\u001b[1;33m.\u001b[0m\u001b[0mkeras\u001b[0m\u001b[1;33m.\u001b[0m\u001b[0mengine\u001b[0m \u001b[1;32mimport\u001b[0m \u001b[0mnetwork\u001b[0m\u001b[1;33m\u001b[0m\u001b[1;33m\u001b[0m\u001b[0m\n\u001b[0;32m    101\u001b[0m \u001b[1;33m\u001b[0m\u001b[0m\n\u001b[1;32m--> 102\u001b[1;33m   \u001b[1;32mif\u001b[0m \u001b[1;32mnot\u001b[0m \u001b[0mcheck_pydot\u001b[0m\u001b[1;33m(\u001b[0m\u001b[1;33m)\u001b[0m\u001b[1;33m:\u001b[0m\u001b[1;33m\u001b[0m\u001b[1;33m\u001b[0m\u001b[0m\n\u001b[0m\u001b[0;32m    103\u001b[0m     \u001b[1;32mif\u001b[0m \u001b[1;34m'IPython.core.magics.namespace'\u001b[0m \u001b[1;32min\u001b[0m \u001b[0msys\u001b[0m\u001b[1;33m.\u001b[0m\u001b[0mmodules\u001b[0m\u001b[1;33m:\u001b[0m\u001b[1;33m\u001b[0m\u001b[1;33m\u001b[0m\u001b[0m\n\u001b[0;32m    104\u001b[0m       \u001b[1;31m# We don't raise an exception here in order to avoid crashing notebook\u001b[0m\u001b[1;33m\u001b[0m\u001b[1;33m\u001b[0m\u001b[1;33m\u001b[0m\u001b[0m\n",
      "\u001b[1;32m~\\anaconda3\\envs\\tf2\\lib\\site-packages\\tensorflow_core\\python\\keras\\utils\\vis_utils.py\u001b[0m in \u001b[0;36mcheck_pydot\u001b[1;34m()\u001b[0m\n\u001b[0;32m     48\u001b[0m     \u001b[1;31m# Attempt to create an image of a blank graph\u001b[0m\u001b[1;33m\u001b[0m\u001b[1;33m\u001b[0m\u001b[1;33m\u001b[0m\u001b[0m\n\u001b[0;32m     49\u001b[0m     \u001b[1;31m# to check the pydot/graphviz installation.\u001b[0m\u001b[1;33m\u001b[0m\u001b[1;33m\u001b[0m\u001b[1;33m\u001b[0m\u001b[0m\n\u001b[1;32m---> 50\u001b[1;33m     \u001b[0mpydot\u001b[0m\u001b[1;33m.\u001b[0m\u001b[0mDot\u001b[0m\u001b[1;33m.\u001b[0m\u001b[0mcreate\u001b[0m\u001b[1;33m(\u001b[0m\u001b[0mpydot\u001b[0m\u001b[1;33m.\u001b[0m\u001b[0mDot\u001b[0m\u001b[1;33m(\u001b[0m\u001b[1;33m)\u001b[0m\u001b[1;33m)\u001b[0m\u001b[1;33m\u001b[0m\u001b[1;33m\u001b[0m\u001b[0m\n\u001b[0m\u001b[0;32m     51\u001b[0m     \u001b[1;32mreturn\u001b[0m \u001b[1;32mTrue\u001b[0m\u001b[1;33m\u001b[0m\u001b[1;33m\u001b[0m\u001b[0m\n\u001b[0;32m     52\u001b[0m   \u001b[1;32mexcept\u001b[0m \u001b[0mOSError\u001b[0m\u001b[1;33m:\u001b[0m\u001b[1;33m\u001b[0m\u001b[1;33m\u001b[0m\u001b[0m\n",
      "\u001b[1;32m~\\anaconda3\\envs\\tf2\\lib\\site-packages\\pydotplus\\graphviz.py\u001b[0m in \u001b[0;36mcreate\u001b[1;34m(self, prog, format)\u001b[0m\n\u001b[0;32m   1958\u001b[0m             \u001b[1;32mif\u001b[0m \u001b[0mself\u001b[0m\u001b[1;33m.\u001b[0m\u001b[0mprogs\u001b[0m \u001b[1;32mis\u001b[0m \u001b[1;32mNone\u001b[0m\u001b[1;33m:\u001b[0m\u001b[1;33m\u001b[0m\u001b[1;33m\u001b[0m\u001b[0m\n\u001b[0;32m   1959\u001b[0m                 raise InvocationException(\n\u001b[1;32m-> 1960\u001b[1;33m                     'GraphViz\\'s executables not found')\n\u001b[0m\u001b[0;32m   1961\u001b[0m \u001b[1;33m\u001b[0m\u001b[0m\n\u001b[0;32m   1962\u001b[0m         \u001b[1;32mif\u001b[0m \u001b[0mprog\u001b[0m \u001b[1;32mnot\u001b[0m \u001b[1;32min\u001b[0m \u001b[0mself\u001b[0m\u001b[1;33m.\u001b[0m\u001b[0mprogs\u001b[0m\u001b[1;33m:\u001b[0m\u001b[1;33m\u001b[0m\u001b[1;33m\u001b[0m\u001b[0m\n",
      "\u001b[1;31mInvocationException\u001b[0m: GraphViz's executables not found"
     ]
    }
   ],
   "source": [
    "from tensorflow.keras.utils import plot_model\n",
    "plot_model(model, \n",
    "           to_file='fashion_mnist_model.png',\n",
    "           show_shapes=True)"
   ]
  },
  {
   "cell_type": "code",
   "execution_count": 57,
   "metadata": {},
   "outputs": [
    {
     "name": "stdout",
     "output_type": "stream",
     "text": [
      "600 100\n"
     ]
    }
   ],
   "source": [
    "# 학습\n",
    "# 에폭당 step수 계산\n",
    "steps_per_epoch = N_TRAIN // N_BATCHS\n",
    "validation_steps = int(np.ceil(N_TEST / N_BATCHS))\n",
    "print(steps_per_epoch, validation_steps)"
   ]
  },
  {
   "cell_type": "code",
   "execution_count": 58,
   "metadata": {},
   "outputs": [
    {
     "name": "stdout",
     "output_type": "stream",
     "text": [
      "Train for 600 steps, validate for 100 steps\n",
      "Epoch 1/50\n",
      "600/600 [==============================] - 2s 4ms/step - loss: 0.5262 - accuracy: 0.8147 - val_loss: 0.4183 - val_accuracy: 0.8510\n",
      "Epoch 2/50\n",
      "600/600 [==============================] - 2s 3ms/step - loss: 0.3698 - accuracy: 0.8647 - val_loss: 0.4007 - val_accuracy: 0.8556\n",
      "Epoch 3/50\n",
      "600/600 [==============================] - 2s 3ms/step - loss: 0.3311 - accuracy: 0.8796 - val_loss: 0.3616 - val_accuracy: 0.8687\n",
      "Epoch 4/50\n",
      "600/600 [==============================] - 2s 4ms/step - loss: 0.3071 - accuracy: 0.8877 - val_loss: 0.3538 - val_accuracy: 0.8710\n",
      "Epoch 5/50\n",
      "600/600 [==============================] - 2s 3ms/step - loss: 0.2882 - accuracy: 0.8924 - val_loss: 0.3411 - val_accuracy: 0.8732\n",
      "Epoch 6/50\n",
      "600/600 [==============================] - 2s 3ms/step - loss: 0.2721 - accuracy: 0.8981 - val_loss: 0.3318 - val_accuracy: 0.8806\n",
      "Epoch 7/50\n",
      "600/600 [==============================] - 2s 3ms/step - loss: 0.2589 - accuracy: 0.9033 - val_loss: 0.3354 - val_accuracy: 0.8749\n",
      "Epoch 8/50\n",
      "600/600 [==============================] - 2s 4ms/step - loss: 0.2527 - accuracy: 0.9055 - val_loss: 0.3245 - val_accuracy: 0.8820\n",
      "Epoch 9/50\n",
      "600/600 [==============================] - 2s 3ms/step - loss: 0.2382 - accuracy: 0.9106 - val_loss: 0.3365 - val_accuracy: 0.8780\n",
      "Epoch 10/50\n",
      "600/600 [==============================] - 2s 3ms/step - loss: 0.2267 - accuracy: 0.9147 - val_loss: 0.3282 - val_accuracy: 0.8869\n",
      "Epoch 11/50\n",
      "600/600 [==============================] - 2s 3ms/step - loss: 0.2235 - accuracy: 0.9147 - val_loss: 0.3301 - val_accuracy: 0.8842\n",
      "Epoch 12/50\n",
      "600/600 [==============================] - 2s 3ms/step - loss: 0.2143 - accuracy: 0.9181 - val_loss: 0.3477 - val_accuracy: 0.8809\n",
      "Epoch 13/50\n",
      "600/600 [==============================] - 2s 3ms/step - loss: 0.2034 - accuracy: 0.9224 - val_loss: 0.3300 - val_accuracy: 0.8840\n",
      "Epoch 14/50\n",
      "600/600 [==============================] - 2s 4ms/step - loss: 0.1977 - accuracy: 0.9249 - val_loss: 0.3374 - val_accuracy: 0.8851\n",
      "Epoch 15/50\n",
      "600/600 [==============================] - 2s 3ms/step - loss: 0.1912 - accuracy: 0.9271 - val_loss: 0.3306 - val_accuracy: 0.8877\n",
      "Epoch 16/50\n",
      "600/600 [==============================] - 2s 3ms/step - loss: 0.1845 - accuracy: 0.9293 - val_loss: 0.3621 - val_accuracy: 0.8889\n",
      "Epoch 17/50\n",
      "600/600 [==============================] - 2s 3ms/step - loss: 0.1790 - accuracy: 0.9318 - val_loss: 0.3539 - val_accuracy: 0.8857\n",
      "Epoch 18/50\n",
      "600/600 [==============================] - 2s 3ms/step - loss: 0.1725 - accuracy: 0.9343 - val_loss: 0.3478 - val_accuracy: 0.8877\n",
      "Epoch 19/50\n",
      "600/600 [==============================] - 2s 3ms/step - loss: 0.1672 - accuracy: 0.9359 - val_loss: 0.3405 - val_accuracy: 0.8873\n",
      "Epoch 20/50\n",
      "600/600 [==============================] - 2s 4ms/step - loss: 0.1633 - accuracy: 0.9360 - val_loss: 0.3509 - val_accuracy: 0.8948\n",
      "Epoch 21/50\n",
      "600/600 [==============================] - 2s 4ms/step - loss: 0.1556 - accuracy: 0.9401 - val_loss: 0.3803 - val_accuracy: 0.8813\n",
      "Epoch 22/50\n",
      "600/600 [==============================] - 2s 3ms/step - loss: 0.1525 - accuracy: 0.9414 - val_loss: 0.3401 - val_accuracy: 0.8946\n",
      "Epoch 23/50\n",
      "600/600 [==============================] - 2s 4ms/step - loss: 0.1466 - accuracy: 0.9430 - val_loss: 0.3922 - val_accuracy: 0.8851\n",
      "Epoch 24/50\n",
      "600/600 [==============================] - 3s 4ms/step - loss: 0.1436 - accuracy: 0.9453 - val_loss: 0.3995 - val_accuracy: 0.8899\n",
      "Epoch 25/50\n",
      "600/600 [==============================] - 2s 4ms/step - loss: 0.1417 - accuracy: 0.9453 - val_loss: 0.3654 - val_accuracy: 0.8949\n",
      "Epoch 26/50\n",
      "600/600 [==============================] - 2s 4ms/step - loss: 0.1323 - accuracy: 0.9493 - val_loss: 0.4003 - val_accuracy: 0.8916\n",
      "Epoch 27/50\n",
      "600/600 [==============================] - 3s 4ms/step - loss: 0.1297 - accuracy: 0.9501 - val_loss: 0.4293 - val_accuracy: 0.8923\n",
      "Epoch 28/50\n",
      "600/600 [==============================] - 2s 4ms/step - loss: 0.1276 - accuracy: 0.9516 - val_loss: 0.4034 - val_accuracy: 0.8971\n",
      "Epoch 29/50\n",
      "600/600 [==============================] - 2s 4ms/step - loss: 0.1249 - accuracy: 0.9513 - val_loss: 0.3870 - val_accuracy: 0.8913\n",
      "Epoch 30/50\n",
      "600/600 [==============================] - 3s 4ms/step - loss: 0.1195 - accuracy: 0.9535 - val_loss: 0.3868 - val_accuracy: 0.8906\n",
      "Epoch 31/50\n",
      "600/600 [==============================] - 2s 4ms/step - loss: 0.1174 - accuracy: 0.9548 - val_loss: 0.4211 - val_accuracy: 0.8959\n",
      "Epoch 32/50\n",
      "600/600 [==============================] - 2s 4ms/step - loss: 0.1132 - accuracy: 0.9560 - val_loss: 0.4397 - val_accuracy: 0.8926\n",
      "Epoch 33/50\n",
      "600/600 [==============================] - 2s 4ms/step - loss: 0.1082 - accuracy: 0.9576 - val_loss: 0.4448 - val_accuracy: 0.8898\n",
      "Epoch 34/50\n",
      "600/600 [==============================] - 2s 4ms/step - loss: 0.1032 - accuracy: 0.9600 - val_loss: 0.4688 - val_accuracy: 0.8922\n",
      "Epoch 35/50\n",
      "600/600 [==============================] - 3s 4ms/step - loss: 0.1084 - accuracy: 0.9582 - val_loss: 0.4294 - val_accuracy: 0.8899\n",
      "Epoch 36/50\n",
      "600/600 [==============================] - 3s 4ms/step - loss: 0.1021 - accuracy: 0.9606 - val_loss: 0.4815 - val_accuracy: 0.8844\n",
      "Epoch 37/50\n",
      "600/600 [==============================] - 2s 4ms/step - loss: 0.0966 - accuracy: 0.9624 - val_loss: 0.4563 - val_accuracy: 0.8874\n",
      "Epoch 38/50\n",
      "600/600 [==============================] - 3s 4ms/step - loss: 0.1015 - accuracy: 0.9608 - val_loss: 0.5053 - val_accuracy: 0.8905\n",
      "Epoch 39/50\n",
      "600/600 [==============================] - 3s 5ms/step - loss: 0.0958 - accuracy: 0.9627 - val_loss: 0.4895 - val_accuracy: 0.8918\n",
      "Epoch 40/50\n",
      "600/600 [==============================] - 3s 4ms/step - loss: 0.0951 - accuracy: 0.9634 - val_loss: 0.4943 - val_accuracy: 0.8849\n",
      "Epoch 41/50\n",
      "600/600 [==============================] - 3s 4ms/step - loss: 0.0900 - accuracy: 0.9653 - val_loss: 0.5013 - val_accuracy: 0.8906\n",
      "Epoch 42/50\n",
      "600/600 [==============================] - 2s 4ms/step - loss: 0.0871 - accuracy: 0.9668 - val_loss: 0.5356 - val_accuracy: 0.8885\n",
      "Epoch 43/50\n",
      "600/600 [==============================] - 2s 4ms/step - loss: 0.0878 - accuracy: 0.9662 - val_loss: 0.5310 - val_accuracy: 0.8891\n",
      "Epoch 44/50\n",
      "600/600 [==============================] - 2s 4ms/step - loss: 0.0839 - accuracy: 0.9681 - val_loss: 0.5135 - val_accuracy: 0.8929\n",
      "Epoch 45/50\n",
      "600/600 [==============================] - 2s 4ms/step - loss: 0.0804 - accuracy: 0.9693 - val_loss: 0.5563 - val_accuracy: 0.8879\n",
      "Epoch 46/50\n",
      "600/600 [==============================] - 2s 4ms/step - loss: 0.0787 - accuracy: 0.9697 - val_loss: 0.5017 - val_accuracy: 0.8940\n",
      "Epoch 47/50\n",
      "600/600 [==============================] - 3s 4ms/step - loss: 0.0816 - accuracy: 0.9689 - val_loss: 0.5588 - val_accuracy: 0.8954\n",
      "Epoch 48/50\n",
      "600/600 [==============================] - 2s 4ms/step - loss: 0.0780 - accuracy: 0.9688 - val_loss: 0.5252 - val_accuracy: 0.8930\n",
      "Epoch 49/50\n",
      "600/600 [==============================] - 3s 4ms/step - loss: 0.0778 - accuracy: 0.9700 - val_loss: 0.6065 - val_accuracy: 0.8887\n",
      "Epoch 50/50\n",
      "600/600 [==============================] - 2s 4ms/step - loss: 0.0751 - accuracy: 0.9709 - val_loss: 0.5527 - val_accuracy: 0.8908\n"
     ]
    }
   ],
   "source": [
    "# 학습\n",
    "history = model.fit(train_dataset,\n",
    "                   epochs=N_EPOCHS,\n",
    "                   steps_per_epoch=steps_per_epoch,\n",
    "                   validation_data=val_dataset,\n",
    "                   validation_steps=validation_steps)"
   ]
  },
  {
   "cell_type": "code",
   "execution_count": 65,
   "metadata": {},
   "outputs": [
    {
     "name": "stdout",
     "output_type": "stream",
     "text": [
      "100/100 [==============================] - 0s 2ms/step - loss: 0.5527 - accuracy: 0.8908\n"
     ]
    },
    {
     "data": {
      "text/plain": [
       "[0.5527272379398346, 0.8908]"
      ]
     },
     "execution_count": 65,
     "metadata": {},
     "output_type": "execute_result"
    }
   ],
   "source": [
    "# 평가 - test set (마지막에 한번 시행)\n",
    "model.evaluate(val_dataset)"
   ]
  },
  {
   "cell_type": "code",
   "execution_count": 66,
   "metadata": {},
   "outputs": [
    {
     "data": {
      "text/plain": [
       "dict_keys(['loss', 'accuracy', 'val_loss', 'val_accuracy'])"
      ]
     },
     "execution_count": 66,
     "metadata": {},
     "output_type": "execute_result"
    }
   ],
   "source": [
    "# 결과 시각화 (loss와 지정한 평가지표의 epoch당 변화를 시각화) => 그래프\n",
    "history.history.keys()"
   ]
  },
  {
   "cell_type": "code",
   "execution_count": 70,
   "metadata": {},
   "outputs": [
    {
     "data": {
      "image/png": "[encoded data removed]",
      "text/plain": [
       "<Figure size 1080x720 with 2 Axes>"
      ]
     },
     "metadata": {},
     "output_type": "display_data"
    }
   ],
   "source": [
    "plt.figure(figsize=(15,10))\n",
    "\n",
    "plt.subplot(1,2,1)\n",
    "plt.plot(range(1,N_EPOCHS+1), history.history['loss'], label='train_loss')\n",
    "plt.plot(range(1,N_EPOCHS+1), history.history['val_loss'], label='validation loss')\n",
    "plt.title('LOSS')\n",
    "plt.legend()\n",
    "\n",
    "\n",
    "plt.subplot(1,2,2)\n",
    "plt.plot(range(1,N_EPOCHS+1), history.history['accuracy'], label='train_accuracy')\n",
    "plt.plot(range(1,N_EPOCHS+1), history.history['val_accuracy'], label='validation accuracy')\n",
    "plt.title('ACCURACY')\n",
    "plt.legend()\n",
    "\n",
    "plt.tight_layout()\n",
    "plt.show()"
   ]
  },
  {
   "cell_type": "markdown",
   "metadata": {},
   "source": [
    "## IMDB 감성분석\n",
    "### 이진분류(Binary Classification)\n",
    "- 영화 댓글 - 부정(0)/긍정(1)"
   ]
  },
  {
   "cell_type": "code",
   "execution_count": 3,
   "metadata": {},
   "outputs": [
    {
     "ename": "FileNotFoundError",
     "evalue": "[Errno 2] No such file or directory: 'imdb_dataset/x_train.pkl'",
     "output_type": "error",
     "traceback": [
      "\u001b[1;31m----------------------------------------------------------------------\u001b[0m",
      "\u001b[1;31mFileNotFoundError\u001b[0m                    Traceback (most recent call last)",
      "\u001b[1;32m<ipython-input-3-9c6b339a76b2>\u001b[0m in \u001b[0;36m<module>\u001b[1;34m\u001b[0m\n\u001b[0;32m      4\u001b[0m \u001b[1;33m\u001b[0m\u001b[0m\n\u001b[0;32m      5\u001b[0m \u001b[1;31m# 데이터 로드\u001b[0m\u001b[1;33m\u001b[0m\u001b[1;33m\u001b[0m\u001b[1;33m\u001b[0m\u001b[0m\n\u001b[1;32m----> 6\u001b[1;33m \u001b[1;32mwith\u001b[0m \u001b[0mopen\u001b[0m\u001b[1;33m(\u001b[0m\u001b[1;34m'imdb_dataset/x_train.pkl'\u001b[0m\u001b[1;33m,\u001b[0m \u001b[1;34m'rb'\u001b[0m\u001b[1;33m)\u001b[0m \u001b[1;32mas\u001b[0m \u001b[0mf\u001b[0m\u001b[1;33m:\u001b[0m\u001b[1;33m\u001b[0m\u001b[1;33m\u001b[0m\u001b[0m\n\u001b[0m\u001b[0;32m      7\u001b[0m     \u001b[0mX_train\u001b[0m \u001b[1;33m=\u001b[0m \u001b[0mpickle\u001b[0m\u001b[1;33m.\u001b[0m\u001b[0mload\u001b[0m\u001b[1;33m(\u001b[0m\u001b[0mf\u001b[0m\u001b[1;33m)\u001b[0m\u001b[1;33m\u001b[0m\u001b[1;33m\u001b[0m\u001b[0m\n\u001b[0;32m      8\u001b[0m \u001b[1;33m\u001b[0m\u001b[0m\n",
      "\u001b[1;31mFileNotFoundError\u001b[0m: [Errno 2] No such file or directory: 'imdb_dataset/x_train.pkl'"
     ]
    }
   ],
   "source": [
    "import pickle\n",
    "# import os\n",
    "# os.path.isfile('imdb_dataset/x_train.pkl')\n",
    "\n",
    "# 데이터 로드\n",
    "with open('imdb_dataset/x_train.pkl', 'rb') as f:\n",
    "    X_train = pickle.load(f)\n",
    "    \n",
    "with open('imdb_dataset/x_test.pkl', 'rb') as f:\n",
    "    X_test = pickle.load(f)\n",
    "    \n",
    "with open('imdb_dataset/y_train.pkl', 'rb') as f:\n",
    "    y_train = pickle.load(f)\n",
    "    \n",
    "with open('imdb_dataset/y_test.pkl', 'rb') as f:\n",
    "    y_test = pickle.load(f)\n",
    "    \n"
   ]
  },
  {
   "cell_type": "code",
   "execution_count": null,
   "metadata": {},
   "outputs": [],
   "source": []
  }
 ],
 "metadata": {
  "kernelspec": {
   "display_name": "Python 3",
   "language": "python",
   "name": "python3"
  },
  "language_info": {
   "codemirror_mode": {
    "name": "ipython",
    "version": 3
   },
   "file_extension": ".py",
   "mimetype": "text/x-python",
   "name": "python",
   "nbconvert_exporter": "python",
   "pygments_lexer": "ipython3",
   "version": "3.7.10"
  },
  "toc": {
   "base_numbering": 1,
   "nav_menu": {},
   "number_sections": false,
   "sideBar": true,
   "skip_h1_title": false,
   "title_cell": "Table of Contents",
   "title_sidebar": "Contents",
   "toc_cell": false,
   "toc_position": {},
   "toc_section_display": true,
   "toc_window_display": false
  },
  "varInspector": {
   "cols": {
    "lenName": 16,
    "lenType": 16,
    "lenVar": 40
   },
   "kernels_config": {
    "python": {
     "delete_cmd_postfix": "",
     "delete_cmd_prefix": "del ",
     "library": "var_list.py",
     "varRefreshCmd": "print(var_dic_list())"
    },
    "r": {
     "delete_cmd_postfix": ") ",
     "delete_cmd_prefix": "rm(",
     "library": "var_list.r",
     "varRefreshCmd": "cat(var_dic_list()) "
    }
   },
   "types_to_exclude": [
    "module",
    "function",
    "builtin_function_or_method",
    "instance",
    "_Feature"
   ],
   "window_display": false
  }
 },
 "nbformat": 4,
 "nbformat_minor": 2
}
