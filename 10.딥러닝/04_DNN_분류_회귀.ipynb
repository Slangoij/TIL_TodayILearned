{
 "cells": [
  {
   "cell_type": "markdown",
   "metadata": {},
   "source": [
    "# 데이터셋 API\n",
    "- 데이터 입력 파이프라인을 위한 패키지\n",
    "- tf.data 패키지에서 제공\n",
    "- tf.data.Dataset 추상클래스에서 상속된 여러가지 클래스 객체를 사용 또는 만들어 쓴다.\n",
    "\n",
    "## 데이터 입력 파이프라인이란\n",
    "**모델에 공급**되는 데이터에 대한 전처리 작업과 공급을 담당한다.    \n",
    "- 이미지 데이터의 경우\n",
    "    - 분산 파일시스템으로 부터 이미지를 모으는 작업, \n",
    "    - 이미지에 노이즈를 주거나 변형하는 작업, \n",
    "    - 배치 학습을 위해 무작위로 데이터를 선택하여 배치데이터를 만드는 작업\n",
    "- 텍스트 데이터 경우\n",
    "    - 원문을 토큰화하는 작업\n",
    "    - 임베딩하는 작업\n",
    "    - 길이가 다른 데이터를 패딩하여 합치는 작업 \n",
    "\n",
    "\n",
    "## 데이터셋 API 사용 세단계\n",
    "1. 데이터셋 생성\n",
    "    - from_tensor_slices(), from_generator() 클래스 메소드, tf.data.TFRecordDataset 클래스를 사용해 메모리나 파일에 있는 데이터를 데이터소스로 만든다.\n",
    "    - from_tensor_slices(): 리스트 넘파이배열, 텐서플로 자료형에서 데이터를 생성한다.\n",
    "2. 데이터셋 변형: map(), filter(), batch() 등 메소드를 이용해 데이터 소스를 변형한다.\n",
    "3. for 반복문에서 iterate를 통해 데이터셋 사용\n",
    "\n",
    "## Dataset의 주요 메소드\n",
    "- map(함수) : dataset의 각 원소들을 함수로 처리한다.\n",
    "- shuffle(크기): dataset의 원소들의 순서를 섞는다. 크기는 섞는 공간의 크기로  **데이터보다 크거나 같으면** 완전셔플, **적으면 일부만 가져와서 섞어** 완전셔플이 안된다.=>데이터가 너무너무 많으면 적게 주기도 한다.)\n",
    "- batch(size) : 반복시 제공할 데이터 수. 지정한 batch size만큼 data를 꺼내준다."
   ]
  },
  {
   "cell_type": "code",
   "execution_count": 75,
   "metadata": {},
   "outputs": [],
   "source": [
    "import tensorflow as tf\n",
    "import numpy as np"
   ]
  },
  {
   "cell_type": "code",
   "execution_count": 76,
   "metadata": {},
   "outputs": [],
   "source": [
    "arr = np.arange(9) # 0 ~ 8: 9"
   ]
  },
  {
   "cell_type": "code",
   "execution_count": 77,
   "metadata": {},
   "outputs": [
    {
     "data": {
      "text/plain": [
       "tensorflow.python.data.ops.dataset_ops.TensorSliceDataset"
      ]
     },
     "execution_count": 77,
     "metadata": {},
     "output_type": "execute_result"
    }
   ],
   "source": [
    "# 메모리에 ndarray로 저장된 데이터를 이용해 Dataset객체 작성\n",
    "dataset = tf.data.Dataset.from_tensor_slices(arr)\n",
    "type(dataset)"
   ]
  },
  {
   "cell_type": "code",
   "execution_count": 78,
   "metadata": {},
   "outputs": [
    {
     "data": {
      "text/plain": [
       "tensorflow.python.data.ops.dataset_ops.MapDataset"
      ]
     },
     "execution_count": 78,
     "metadata": {},
     "output_type": "execute_result"
    }
   ],
   "source": [
    "# 각각의 워소를 변환작업을 Dataset 추가. - Dataset.map(변환함수)\n",
    "dataset = dataset.map(lambda x:x**2)\n",
    "type(dataset)"
   ]
  },
  {
   "cell_type": "code",
   "execution_count": 79,
   "metadata": {},
   "outputs": [],
   "source": [
    "# dataset = dataset.filter(lambda x: x%2 == 0)"
   ]
  },
  {
   "cell_type": "code",
   "execution_count": 80,
   "metadata": {},
   "outputs": [],
   "source": [
    "dataset = dataset.shuffle(9) # 값들을 섞는 작업"
   ]
  },
  {
   "cell_type": "code",
   "execution_count": 81,
   "metadata": {},
   "outputs": [],
   "source": [
    "dataset = dataset.batch(3) # 한번에 지정한 개수만큼 제공"
   ]
  },
  {
   "cell_type": "code",
   "execution_count": 82,
   "metadata": {},
   "outputs": [
    {
     "name": "stdout",
     "output_type": "stream",
     "text": [
      "tf.Tensor([ 1 36 49], shape=(3,), dtype=int32)\n",
      "tf.Tensor([64  4  9], shape=(3,), dtype=int32)\n",
      "tf.Tensor([ 0 25 16], shape=(3,), dtype=int32)\n"
     ]
    }
   ],
   "source": [
    "# Dataset에서 제공되는 값들을 조회\n",
    "for a in dataset:\n",
    "    print(a)"
   ]
  },
  {
   "cell_type": "code",
   "execution_count": 83,
   "metadata": {},
   "outputs": [
    {
     "data": {
      "text/plain": [
       "((10,), (10,))"
      ]
     },
     "execution_count": 83,
     "metadata": {},
     "output_type": "execute_result"
    }
   ],
   "source": [
    "x = np.arange(10)\n",
    "y = np.arange(10, 20)\n",
    "x.shape, y.shape"
   ]
  },
  {
   "cell_type": "code",
   "execution_count": 84,
   "metadata": {},
   "outputs": [],
   "source": [
    "ds = tf.data.Dataset.from_tensor_slices((x, y))"
   ]
  },
  {
   "cell_type": "code",
   "execution_count": 85,
   "metadata": {},
   "outputs": [
    {
     "name": "stdout",
     "output_type": "stream",
     "text": [
      "(<tf.Tensor: shape=(), dtype=int32, numpy=0>, <tf.Tensor: shape=(), dtype=int32, numpy=10>)\n",
      "(<tf.Tensor: shape=(), dtype=int32, numpy=1>, <tf.Tensor: shape=(), dtype=int32, numpy=11>)\n",
      "(<tf.Tensor: shape=(), dtype=int32, numpy=2>, <tf.Tensor: shape=(), dtype=int32, numpy=12>)\n",
      "(<tf.Tensor: shape=(), dtype=int32, numpy=3>, <tf.Tensor: shape=(), dtype=int32, numpy=13>)\n",
      "(<tf.Tensor: shape=(), dtype=int32, numpy=4>, <tf.Tensor: shape=(), dtype=int32, numpy=14>)\n",
      "(<tf.Tensor: shape=(), dtype=int32, numpy=5>, <tf.Tensor: shape=(), dtype=int32, numpy=15>)\n",
      "(<tf.Tensor: shape=(), dtype=int32, numpy=6>, <tf.Tensor: shape=(), dtype=int32, numpy=16>)\n",
      "(<tf.Tensor: shape=(), dtype=int32, numpy=7>, <tf.Tensor: shape=(), dtype=int32, numpy=17>)\n",
      "(<tf.Tensor: shape=(), dtype=int32, numpy=8>, <tf.Tensor: shape=(), dtype=int32, numpy=18>)\n",
      "(<tf.Tensor: shape=(), dtype=int32, numpy=9>, <tf.Tensor: shape=(), dtype=int32, numpy=19>)\n"
     ]
    }
   ],
   "source": [
    "for a in ds:\n",
    "    print(a)"
   ]
  },
  {
   "cell_type": "code",
   "execution_count": 86,
   "metadata": {},
   "outputs": [],
   "source": [
    "ds2 = ds.map(lambda x, y: (x**2, y**3)) # x:2제곱, y:3제곱"
   ]
  },
  {
   "cell_type": "code",
   "execution_count": 87,
   "metadata": {},
   "outputs": [
    {
     "name": "stdout",
     "output_type": "stream",
     "text": [
      "(<tf.Tensor: shape=(), dtype=int32, numpy=0>, <tf.Tensor: shape=(), dtype=int32, numpy=1000>)\n",
      "(<tf.Tensor: shape=(), dtype=int32, numpy=1>, <tf.Tensor: shape=(), dtype=int32, numpy=1331>)\n",
      "(<tf.Tensor: shape=(), dtype=int32, numpy=4>, <tf.Tensor: shape=(), dtype=int32, numpy=1728>)\n",
      "(<tf.Tensor: shape=(), dtype=int32, numpy=9>, <tf.Tensor: shape=(), dtype=int32, numpy=2197>)\n",
      "(<tf.Tensor: shape=(), dtype=int32, numpy=16>, <tf.Tensor: shape=(), dtype=int32, numpy=2744>)\n",
      "(<tf.Tensor: shape=(), dtype=int32, numpy=25>, <tf.Tensor: shape=(), dtype=int32, numpy=3375>)\n",
      "(<tf.Tensor: shape=(), dtype=int32, numpy=36>, <tf.Tensor: shape=(), dtype=int32, numpy=4096>)\n",
      "(<tf.Tensor: shape=(), dtype=int32, numpy=49>, <tf.Tensor: shape=(), dtype=int32, numpy=4913>)\n",
      "(<tf.Tensor: shape=(), dtype=int32, numpy=64>, <tf.Tensor: shape=(), dtype=int32, numpy=5832>)\n",
      "(<tf.Tensor: shape=(), dtype=int32, numpy=81>, <tf.Tensor: shape=(), dtype=int32, numpy=6859>)\n"
     ]
    }
   ],
   "source": [
    "for a in ds2:\n",
    "    print(a)"
   ]
  },
  {
   "cell_type": "code",
   "execution_count": 88,
   "metadata": {},
   "outputs": [],
   "source": [
    "ds3 = ds2.shuffle(10)"
   ]
  },
  {
   "cell_type": "code",
   "execution_count": 89,
   "metadata": {},
   "outputs": [
    {
     "name": "stdout",
     "output_type": "stream",
     "text": [
      "(<tf.Tensor: shape=(), dtype=int32, numpy=9>, <tf.Tensor: shape=(), dtype=int32, numpy=2197>)\n",
      "(<tf.Tensor: shape=(), dtype=int32, numpy=64>, <tf.Tensor: shape=(), dtype=int32, numpy=5832>)\n",
      "(<tf.Tensor: shape=(), dtype=int32, numpy=4>, <tf.Tensor: shape=(), dtype=int32, numpy=1728>)\n",
      "(<tf.Tensor: shape=(), dtype=int32, numpy=1>, <tf.Tensor: shape=(), dtype=int32, numpy=1331>)\n",
      "(<tf.Tensor: shape=(), dtype=int32, numpy=36>, <tf.Tensor: shape=(), dtype=int32, numpy=4096>)\n",
      "(<tf.Tensor: shape=(), dtype=int32, numpy=0>, <tf.Tensor: shape=(), dtype=int32, numpy=1000>)\n",
      "(<tf.Tensor: shape=(), dtype=int32, numpy=81>, <tf.Tensor: shape=(), dtype=int32, numpy=6859>)\n",
      "(<tf.Tensor: shape=(), dtype=int32, numpy=25>, <tf.Tensor: shape=(), dtype=int32, numpy=3375>)\n",
      "(<tf.Tensor: shape=(), dtype=int32, numpy=49>, <tf.Tensor: shape=(), dtype=int32, numpy=4913>)\n",
      "(<tf.Tensor: shape=(), dtype=int32, numpy=16>, <tf.Tensor: shape=(), dtype=int32, numpy=2744>)\n"
     ]
    }
   ],
   "source": [
    "for a in ds3:\n",
    "    print(a)"
   ]
  },
  {
   "cell_type": "code",
   "execution_count": 90,
   "metadata": {},
   "outputs": [],
   "source": [
    "ds4 = ds2.batch(4)"
   ]
  },
  {
   "cell_type": "code",
   "execution_count": 91,
   "metadata": {},
   "outputs": [
    {
     "name": "stdout",
     "output_type": "stream",
     "text": [
      "(<tf.Tensor: shape=(4,), dtype=int32, numpy=array([0, 1, 4, 9])>, <tf.Tensor: shape=(4,), dtype=int32, numpy=array([1000, 1331, 1728, 2197])>)\n",
      "(<tf.Tensor: shape=(4,), dtype=int32, numpy=array([16, 25, 36, 49])>, <tf.Tensor: shape=(4,), dtype=int32, numpy=array([2744, 3375, 4096, 4913])>)\n",
      "(<tf.Tensor: shape=(2,), dtype=int32, numpy=array([64, 81])>, <tf.Tensor: shape=(2,), dtype=int32, numpy=array([5832, 6859])>)\n"
     ]
    }
   ],
   "source": [
    "for a in ds4:\n",
    "    print(a)"
   ]
  },
  {
   "cell_type": "code",
   "execution_count": 92,
   "metadata": {
    "scrolled": false
   },
   "outputs": [
    {
     "name": "stdout",
     "output_type": "stream",
     "text": [
      "(<tf.Tensor: shape=(4,), dtype=int32, numpy=array([0, 1, 4, 9])>, <tf.Tensor: shape=(4,), dtype=int32, numpy=array([1000, 1331, 1728, 2197])>)\n",
      "(<tf.Tensor: shape=(4,), dtype=int32, numpy=array([16, 25, 36, 49])>, <tf.Tensor: shape=(4,), dtype=int32, numpy=array([2744, 3375, 4096, 4913])>)\n",
      "(<tf.Tensor: shape=(2,), dtype=int32, numpy=array([64, 81])>, <tf.Tensor: shape=(2,), dtype=int32, numpy=array([5832, 6859])>)\n",
      "(<tf.Tensor: shape=(4,), dtype=int32, numpy=array([0, 1, 4, 9])>, <tf.Tensor: shape=(4,), dtype=int32, numpy=array([1000, 1331, 1728, 2197])>)\n",
      "(<tf.Tensor: shape=(4,), dtype=int32, numpy=array([16, 25, 36, 49])>, <tf.Tensor: shape=(4,), dtype=int32, numpy=array([2744, 3375, 4096, 4913])>)\n",
      "(<tf.Tensor: shape=(2,), dtype=int32, numpy=array([64, 81])>, <tf.Tensor: shape=(2,), dtype=int32, numpy=array([5832, 6859])>)\n",
      "(<tf.Tensor: shape=(4,), dtype=int32, numpy=array([0, 1, 4, 9])>, <tf.Tensor: shape=(4,), dtype=int32, numpy=array([1000, 1331, 1728, 2197])>)\n",
      "(<tf.Tensor: shape=(4,), dtype=int32, numpy=array([16, 25, 36, 49])>, <tf.Tensor: shape=(4,), dtype=int32, numpy=array([2744, 3375, 4096, 4913])>)\n",
      "(<tf.Tensor: shape=(2,), dtype=int32, numpy=array([64, 81])>, <tf.Tensor: shape=(2,), dtype=int32, numpy=array([5832, 6859])>)\n"
     ]
    }
   ],
   "source": [
    "for a in ds4.repeat(3): # dataset.repeat(count) count횟수만큼 반복, count생략시 무한제공\n",
    "    print(a)    "
   ]
  },
  {
   "cell_type": "code",
   "execution_count": 94,
   "metadata": {},
   "outputs": [],
   "source": [
    "dataset = tf.data.Dataset.from_tensor_slices((x, y))\\\n",
    ".map(lambda x, y: (x**2, y**3))\\\n",
    ".shuffle(10)\\\n",
    ".batch(4)\\\n",
    ".repeat(3)"
   ]
  },
  {
   "cell_type": "code",
   "execution_count": 95,
   "metadata": {},
   "outputs": [
    {
     "name": "stdout",
     "output_type": "stream",
     "text": [
      "(<tf.Tensor: shape=(4,), dtype=int32, numpy=array([ 9,  0, 81,  4])>, <tf.Tensor: shape=(4,), dtype=int32, numpy=array([2197, 1000, 6859, 1728])>)\n",
      "(<tf.Tensor: shape=(4,), dtype=int32, numpy=array([36, 16, 49, 64])>, <tf.Tensor: shape=(4,), dtype=int32, numpy=array([4096, 2744, 4913, 5832])>)\n",
      "(<tf.Tensor: shape=(2,), dtype=int32, numpy=array([ 1, 25])>, <tf.Tensor: shape=(2,), dtype=int32, numpy=array([1331, 3375])>)\n",
      "(<tf.Tensor: shape=(4,), dtype=int32, numpy=array([ 0, 25,  4, 36])>, <tf.Tensor: shape=(4,), dtype=int32, numpy=array([1000, 3375, 1728, 4096])>)\n",
      "(<tf.Tensor: shape=(4,), dtype=int32, numpy=array([81, 64, 16, 49])>, <tf.Tensor: shape=(4,), dtype=int32, numpy=array([6859, 5832, 2744, 4913])>)\n",
      "(<tf.Tensor: shape=(2,), dtype=int32, numpy=array([9, 1])>, <tf.Tensor: shape=(2,), dtype=int32, numpy=array([2197, 1331])>)\n",
      "(<tf.Tensor: shape=(4,), dtype=int32, numpy=array([ 1, 16, 36, 64])>, <tf.Tensor: shape=(4,), dtype=int32, numpy=array([1331, 2744, 4096, 5832])>)\n",
      "(<tf.Tensor: shape=(4,), dtype=int32, numpy=array([ 4, 25, 81, 49])>, <tf.Tensor: shape=(4,), dtype=int32, numpy=array([1728, 3375, 6859, 4913])>)\n",
      "(<tf.Tensor: shape=(2,), dtype=int32, numpy=array([0, 9])>, <tf.Tensor: shape=(2,), dtype=int32, numpy=array([1000, 2197])>)\n"
     ]
    }
   ],
   "source": [
    "for a in dataset:\n",
    "    print(a)"
   ]
  },
  {
   "cell_type": "markdown",
   "metadata": {},
   "source": [
    "# 1. 회귀 - Boston Housing Dataset\n",
    "보스턴 주택가격 dataset은 다음과 같은 속성을 바탕으로 해당 타운 주택 가격의 중앙값을 예측하는 문제.\n",
    "- CRIM: 범죄율\n",
    "- ZN: 25,000 평방피트당 주거지역 비율\n",
    "- INDUS: 비소매 상업지구 비율\n",
    "- CHAS: 찰스강에 인접해 있는지 여부(인접:1, 아니면:0)\n",
    "- NOX: 일산화질소 농도(단위: 0.1ppm)\n",
    "- RM: 주택당 방의 수\n",
    "- AGE: 1940년 이전에 건설된 주택의 비율\n",
    "- DIS: 5개의 보스턴 직업고용센터와의 거리(가중 평균)\n",
    "- RAD: 고속도로 접근성\n",
    "- TAX: 재산세율\n",
    "- PTRATIO: 학생/교사 비율\n",
    "- B: 흑인 비율\n",
    "- LSTAT: 하위 계층 비율\n",
    "\n",
    "예측해야하는 것\n",
    "- MEDV: 타운의 주택가격 중앙값(단위: 1,000달러)"
   ]
  },
  {
   "cell_type": "code",
   "execution_count": 96,
   "metadata": {},
   "outputs": [],
   "source": [
    "import numpy as np\n",
    "import tensorflow as tf\n",
    "from tensorflow import keras"
   ]
  },
  {
   "cell_type": "code",
   "execution_count": 97,
   "metadata": {},
   "outputs": [],
   "source": [
    "# random seed\n",
    "np.random.seed(1)\n",
    "tf.random.set_seed(1)"
   ]
  },
  {
   "cell_type": "code",
   "execution_count": 98,
   "metadata": {},
   "outputs": [
    {
     "data": {
      "text/plain": [
       "((404, 13), (102, 13))"
      ]
     },
     "execution_count": 98,
     "metadata": {},
     "output_type": "execute_result"
    }
   ],
   "source": [
    "# 데이터셋 로딩\n",
    "(X_train, y_train), (X_test, y_test) = keras.datasets.boston_housing.load_data()\n",
    "X_train.shape, X_test.shape"
   ]
  },
  {
   "cell_type": "code",
   "execution_count": 99,
   "metadata": {},
   "outputs": [
    {
     "data": {
      "text/plain": [
       "array([15.2, 42.3, 50. , 21.1, 17.7])"
      ]
     },
     "execution_count": 99,
     "metadata": {},
     "output_type": "execute_result"
    }
   ],
   "source": [
    "y_train[:5] # 회귀(Regression)"
   ]
  },
  {
   "cell_type": "code",
   "execution_count": 100,
   "metadata": {},
   "outputs": [
    {
     "data": {
      "text/plain": [
       "array([2.1770e-02, 8.2500e+01, 2.0300e+00, 0.0000e+00, 4.1500e-01,\n",
       "       7.6100e+00, 1.5700e+01, 6.2700e+00, 2.0000e+00, 3.4800e+02,\n",
       "       1.4700e+01, 3.9538e+02, 3.1100e+00])"
      ]
     },
     "execution_count": 100,
     "metadata": {},
     "output_type": "execute_result"
    }
   ],
   "source": [
    "X_train[1]"
   ]
  },
  {
   "cell_type": "code",
   "execution_count": 101,
   "metadata": {},
   "outputs": [],
   "source": [
    "# 하이퍼파라미터 값들을 설정\n",
    "LEARNING_RATE = 0.001 # 학습률\n",
    "N_EPOCHS = 200 # 에폭 횟수\n",
    "N_BATCHS = 32 # # batch_size. 32개 데이터셋마다 가중치 업데이트\n",
    "\n",
    "N_TRAIN = X_train.shape[0] # train set의 개수\n",
    "N_TEST = X_test.shape[0] # test set의 개수\n",
    "N_FEATURES = X_train.shape[1] # input data의 feature(컬럼) 개수"
   ]
  },
  {
   "cell_type": "code",
   "execution_count": 102,
   "metadata": {},
   "outputs": [],
   "source": [
    "# Dataset 생성\n",
    "# drop_remainder=True: 마지막에 batch size보다 제공할 데이터가 적으면 학습시 버림\n",
    "# repeat(): epoch을 반복할 때마다 계속 데이터를 제공하게 하기 위해\n",
    "train_dataset = tf.data.Dataset.from_tensor_slices((X_train, y_train))\\\n",
    ".shuffle(N_TRAIN).batch(N_BATCHS, drop_remainder=True).repeat()\n",
    "val_dataset = tf.data.Dataset.from_tensor_slices((X_test, y_test)).batch(N_BATCHS)"
   ]
  },
  {
   "cell_type": "code",
   "execution_count": 103,
   "metadata": {},
   "outputs": [],
   "source": [
    "# 모델 생성\n",
    "def create_model():\n",
    "    model = keras.Sequential()\n",
    "    # 입력 Layer를 따로 정의.\n",
    "    # 첫번째 Layer를 만들 때 input_shape(입력데이터 1개의 형태)를 지정시 입력 Layer층이 자동 생성\n",
    "    model.add(keras.layers.Dense(units=16, activation='relu', input_shape=(N_FEATURES,)))\n",
    "    model.add(keras.layers.Dense(units=8, activation='relu'))\n",
    "    # 출력 Layer\n",
    "    model.add(keras.layers.Dense(units=1)) # 회귀의 출력층: units수는 1, activation 함수 사용\n",
    "    \n",
    "    # 모델 컴파일\n",
    "    model.compile(optimizer=tf.keras.optimizers.Adam(learning_rate=LEARNING_RATE), # optimizer의 하이퍼파라미터를 기본값으로 쓸 경우 문자열로 \"adam\"으로 선언.\n",
    "                 loss=\"mse\") # 회귀의 Loss 함수: mse\n",
    "    return model"
   ]
  },
  {
   "cell_type": "code",
   "execution_count": 104,
   "metadata": {},
   "outputs": [],
   "source": [
    "model = create_model()"
   ]
  },
  {
   "cell_type": "code",
   "execution_count": 105,
   "metadata": {},
   "outputs": [
    {
     "name": "stdout",
     "output_type": "stream",
     "text": [
      "Model: \"sequential_2\"\n",
      "_________________________________________________________________\n",
      "Layer (type)                 Output Shape              Param #   \n",
      "=================================================================\n",
      "dense_4 (Dense)              (None, 16)                224       \n",
      "_________________________________________________________________\n",
      "dense_5 (Dense)              (None, 8)                 136       \n",
      "_________________________________________________________________\n",
      "dense_6 (Dense)              (None, 1)                 9         \n",
      "=================================================================\n",
      "Total params: 369\n",
      "Trainable params: 369\n",
      "Non-trainable params: 0\n",
      "_________________________________________________________________\n"
     ]
    }
   ],
   "source": [
    "model.summary()"
   ]
  },
  {
   "cell_type": "code",
   "execution_count": 106,
   "metadata": {},
   "outputs": [],
   "source": [
    "# 1 step: 한번 가중치를 업데이트. batch size\n",
    "# 1 epoch: 전체 train 데이터를 한번 학습\n",
    "steps_per_epoch = N_TRAIN // N_BATCHS # 학습데이터개수 // 배치수\n",
    "validation_steps = int(np.ceil(N_TEST / N_BATCHS))"
   ]
  },
  {
   "cell_type": "code",
   "execution_count": 107,
   "metadata": {},
   "outputs": [
    {
     "name": "stdout",
     "output_type": "stream",
     "text": [
      "Epoch 1/200\n",
      "12/12 [==============================] - 0s 15ms/step - loss: 430.2726 - val_loss: 196.5993\n",
      "Epoch 2/200\n",
      "12/12 [==============================] - 0s 4ms/step - loss: 165.9305 - val_loss: 84.1738\n",
      "Epoch 3/200\n",
      "12/12 [==============================] - 0s 4ms/step - loss: 82.1791 - val_loss: 68.0693\n",
      "Epoch 4/200\n",
      "12/12 [==============================] - 0s 4ms/step - loss: 70.2942 - val_loss: 67.3288\n",
      "Epoch 5/200\n",
      "12/12 [==============================] - 0s 4ms/step - loss: 80.2150 - val_loss: 65.4812\n",
      "Epoch 6/200\n",
      "12/12 [==============================] - 0s 3ms/step - loss: 68.2904 - val_loss: 68.2325\n",
      "Epoch 7/200\n",
      "12/12 [==============================] - 0s 4ms/step - loss: 71.6076 - val_loss: 65.8452\n",
      "Epoch 8/200\n",
      "12/12 [==============================] - 0s 3ms/step - loss: 69.0693 - val_loss: 63.7502\n",
      "Epoch 9/200\n",
      "12/12 [==============================] - 0s 4ms/step - loss: 71.0003 - val_loss: 63.4894\n",
      "Epoch 10/200\n",
      "12/12 [==============================] - 0s 3ms/step - loss: 54.7305 - val_loss: 62.8482\n",
      "Epoch 11/200\n",
      "12/12 [==============================] - 0s 4ms/step - loss: 58.7855 - val_loss: 62.6551\n",
      "Epoch 12/200\n",
      "12/12 [==============================] - 0s 4ms/step - loss: 57.2452 - val_loss: 62.4131\n",
      "Epoch 13/200\n",
      "12/12 [==============================] - 0s 4ms/step - loss: 60.9865 - val_loss: 61.5714\n",
      "Epoch 14/200\n",
      "12/12 [==============================] - 0s 4ms/step - loss: 63.8607 - val_loss: 60.7595\n",
      "Epoch 15/200\n",
      "12/12 [==============================] - 0s 4ms/step - loss: 70.4404 - val_loss: 60.4802\n",
      "Epoch 16/200\n",
      "12/12 [==============================] - 0s 4ms/step - loss: 67.9181 - val_loss: 60.0501\n",
      "Epoch 17/200\n",
      "12/12 [==============================] - 0s 4ms/step - loss: 66.5613 - val_loss: 60.7340\n",
      "Epoch 18/200\n",
      "12/12 [==============================] - 0s 4ms/step - loss: 52.6206 - val_loss: 59.2796\n",
      "Epoch 19/200\n",
      "12/12 [==============================] - 0s 4ms/step - loss: 57.4995 - val_loss: 58.1705\n",
      "Epoch 20/200\n",
      "12/12 [==============================] - 0s 4ms/step - loss: 62.7602 - val_loss: 58.0088\n",
      "Epoch 21/200\n",
      "12/12 [==============================] - 0s 3ms/step - loss: 50.3097 - val_loss: 57.8102\n",
      "Epoch 22/200\n",
      "12/12 [==============================] - 0s 3ms/step - loss: 51.7616 - val_loss: 59.4919\n",
      "Epoch 23/200\n",
      "12/12 [==============================] - 0s 4ms/step - loss: 62.9272 - val_loss: 57.4985\n",
      "Epoch 24/200\n",
      "12/12 [==============================] - 0s 4ms/step - loss: 55.9550 - val_loss: 57.0630\n",
      "Epoch 25/200\n",
      "12/12 [==============================] - 0s 4ms/step - loss: 43.6063 - val_loss: 62.0338\n",
      "Epoch 26/200\n",
      "12/12 [==============================] - 0s 4ms/step - loss: 61.0073 - val_loss: 57.4883\n",
      "Epoch 27/200\n",
      "12/12 [==============================] - 0s 4ms/step - loss: 52.0523 - val_loss: 55.9483\n",
      "Epoch 28/200\n",
      "12/12 [==============================] - 0s 4ms/step - loss: 61.0997 - val_loss: 55.0393\n",
      "Epoch 29/200\n",
      "12/12 [==============================] - 0s 4ms/step - loss: 48.2243 - val_loss: 56.0139\n",
      "Epoch 30/200\n",
      "12/12 [==============================] - 0s 3ms/step - loss: 59.6182 - val_loss: 55.1814\n",
      "Epoch 31/200\n",
      "12/12 [==============================] - 0s 4ms/step - loss: 51.4408 - val_loss: 54.2724\n",
      "Epoch 32/200\n",
      "12/12 [==============================] - 0s 4ms/step - loss: 59.3188 - val_loss: 54.3711\n",
      "Epoch 33/200\n",
      "12/12 [==============================] - 0s 3ms/step - loss: 48.6289 - val_loss: 53.4048\n",
      "Epoch 34/200\n",
      "12/12 [==============================] - 0s 3ms/step - loss: 51.9253 - val_loss: 53.4086\n",
      "Epoch 35/200\n",
      "12/12 [==============================] - 0s 3ms/step - loss: 49.9802 - val_loss: 53.8316\n",
      "Epoch 36/200\n",
      "12/12 [==============================] - 0s 3ms/step - loss: 47.6083 - val_loss: 61.1864\n",
      "Epoch 37/200\n",
      "12/12 [==============================] - 0s 3ms/step - loss: 50.1086 - val_loss: 56.6208\n",
      "Epoch 38/200\n",
      "12/12 [==============================] - 0s 4ms/step - loss: 56.5174 - val_loss: 58.1005\n",
      "Epoch 39/200\n",
      "12/12 [==============================] - 0s 4ms/step - loss: 47.0228 - val_loss: 51.0081\n",
      "Epoch 40/200\n",
      "12/12 [==============================] - 0s 3ms/step - loss: 56.1785 - val_loss: 51.3943\n",
      "Epoch 41/200\n",
      "12/12 [==============================] - 0s 3ms/step - loss: 53.0737 - val_loss: 50.5127\n",
      "Epoch 42/200\n",
      "12/12 [==============================] - 0s 5ms/step - loss: 49.4977 - val_loss: 50.6863\n",
      "Epoch 43/200\n",
      "12/12 [==============================] - 0s 5ms/step - loss: 42.1102 - val_loss: 49.9601\n",
      "Epoch 44/200\n",
      "12/12 [==============================] - 0s 4ms/step - loss: 49.3367 - val_loss: 49.7039\n",
      "Epoch 45/200\n",
      "12/12 [==============================] - 0s 4ms/step - loss: 48.1884 - val_loss: 50.7326\n",
      "Epoch 46/200\n",
      "12/12 [==============================] - 0s 4ms/step - loss: 49.9316 - val_loss: 50.3317\n",
      "Epoch 47/200\n",
      "12/12 [==============================] - 0s 4ms/step - loss: 46.0789 - val_loss: 48.5524\n",
      "Epoch 48/200\n",
      "12/12 [==============================] - 0s 5ms/step - loss: 46.5950 - val_loss: 48.4165\n",
      "Epoch 49/200\n",
      "12/12 [==============================] - 0s 4ms/step - loss: 49.3117 - val_loss: 48.6333\n",
      "Epoch 50/200\n",
      "12/12 [==============================] - 0s 4ms/step - loss: 48.4702 - val_loss: 49.0789\n",
      "Epoch 51/200\n",
      "12/12 [==============================] - 0s 4ms/step - loss: 49.6495 - val_loss: 47.9214\n",
      "Epoch 52/200\n",
      "12/12 [==============================] - 0s 4ms/step - loss: 47.9322 - val_loss: 47.5856\n",
      "Epoch 53/200\n",
      "12/12 [==============================] - 0s 5ms/step - loss: 44.4699 - val_loss: 47.3544\n",
      "Epoch 54/200\n",
      "12/12 [==============================] - 0s 4ms/step - loss: 37.9415 - val_loss: 51.0874\n",
      "Epoch 55/200\n",
      "12/12 [==============================] - 0s 5ms/step - loss: 39.7928 - val_loss: 46.9449\n",
      "Epoch 56/200\n",
      "12/12 [==============================] - 0s 4ms/step - loss: 53.0574 - val_loss: 48.9099\n",
      "Epoch 57/200\n",
      "12/12 [==============================] - 0s 4ms/step - loss: 53.9742 - val_loss: 47.9423\n",
      "Epoch 58/200\n",
      "12/12 [==============================] - 0s 4ms/step - loss: 45.1761 - val_loss: 46.9968\n",
      "Epoch 59/200\n",
      "12/12 [==============================] - 0s 3ms/step - loss: 44.3845 - val_loss: 46.2435\n",
      "Epoch 60/200\n",
      "12/12 [==============================] - 0s 4ms/step - loss: 47.1429 - val_loss: 46.0304\n",
      "Epoch 61/200\n",
      "12/12 [==============================] - 0s 4ms/step - loss: 42.8181 - val_loss: 47.5952\n",
      "Epoch 62/200\n",
      "12/12 [==============================] - 0s 4ms/step - loss: 45.3505 - val_loss: 45.3745\n",
      "Epoch 63/200\n",
      "12/12 [==============================] - 0s 3ms/step - loss: 44.2881 - val_loss: 45.9769\n",
      "Epoch 64/200\n",
      "12/12 [==============================] - 0s 4ms/step - loss: 36.4650 - val_loss: 45.3101\n",
      "Epoch 65/200\n",
      "12/12 [==============================] - 0s 4ms/step - loss: 49.6684 - val_loss: 46.6217\n",
      "Epoch 66/200\n",
      "12/12 [==============================] - 0s 4ms/step - loss: 37.9984 - val_loss: 48.1308\n",
      "Epoch 67/200\n",
      "12/12 [==============================] - 0s 3ms/step - loss: 52.1831 - val_loss: 48.3299\n",
      "Epoch 68/200\n",
      "12/12 [==============================] - 0s 3ms/step - loss: 41.4250 - val_loss: 44.6017\n",
      "Epoch 69/200\n",
      "12/12 [==============================] - 0s 3ms/step - loss: 41.1742 - val_loss: 44.5857\n",
      "Epoch 70/200\n",
      "12/12 [==============================] - 0s 4ms/step - loss: 42.1532 - val_loss: 44.3262\n",
      "Epoch 71/200\n",
      "12/12 [==============================] - 0s 4ms/step - loss: 38.5928 - val_loss: 44.0832\n",
      "Epoch 72/200\n",
      "12/12 [==============================] - 0s 4ms/step - loss: 46.8571 - val_loss: 44.6585\n",
      "Epoch 73/200\n",
      "12/12 [==============================] - 0s 3ms/step - loss: 46.5658 - val_loss: 44.6084\n",
      "Epoch 74/200\n",
      "12/12 [==============================] - 0s 3ms/step - loss: 40.1856 - val_loss: 43.6405\n",
      "Epoch 75/200\n",
      "12/12 [==============================] - 0s 4ms/step - loss: 41.3267 - val_loss: 43.4177\n",
      "Epoch 76/200\n",
      "12/12 [==============================] - 0s 4ms/step - loss: 43.7405 - val_loss: 42.7603\n",
      "Epoch 77/200\n",
      "12/12 [==============================] - 0s 4ms/step - loss: 46.6588 - val_loss: 44.9036\n",
      "Epoch 78/200\n",
      "12/12 [==============================] - 0s 3ms/step - loss: 37.6366 - val_loss: 42.4062\n",
      "Epoch 79/200\n",
      "12/12 [==============================] - 0s 4ms/step - loss: 48.8706 - val_loss: 43.3885\n",
      "Epoch 80/200\n",
      "12/12 [==============================] - 0s 4ms/step - loss: 33.2934 - val_loss: 42.1107\n",
      "Epoch 81/200\n"
     ]
    },
    {
     "name": "stdout",
     "output_type": "stream",
     "text": [
      "12/12 [==============================] - 0s 4ms/step - loss: 37.7517 - val_loss: 42.4188\n",
      "Epoch 82/200\n",
      "12/12 [==============================] - 0s 4ms/step - loss: 47.1956 - val_loss: 47.8275\n",
      "Epoch 83/200\n",
      "12/12 [==============================] - 0s 3ms/step - loss: 37.1892 - val_loss: 41.5727\n",
      "Epoch 84/200\n",
      "12/12 [==============================] - 0s 3ms/step - loss: 43.7097 - val_loss: 42.4808\n",
      "Epoch 85/200\n",
      "12/12 [==============================] - 0s 3ms/step - loss: 42.0608 - val_loss: 41.7492\n",
      "Epoch 86/200\n",
      "12/12 [==============================] - 0s 3ms/step - loss: 38.9787 - val_loss: 41.1111\n",
      "Epoch 87/200\n",
      "12/12 [==============================] - 0s 3ms/step - loss: 46.4701 - val_loss: 43.6833\n",
      "Epoch 88/200\n",
      "12/12 [==============================] - 0s 3ms/step - loss: 39.7330 - val_loss: 42.6491\n",
      "Epoch 89/200\n",
      "12/12 [==============================] - 0s 4ms/step - loss: 45.6235 - val_loss: 41.8378\n",
      "Epoch 90/200\n",
      "12/12 [==============================] - 0s 4ms/step - loss: 39.0218 - val_loss: 41.2807\n",
      "Epoch 91/200\n",
      "12/12 [==============================] - 0s 4ms/step - loss: 39.8743 - val_loss: 41.3888\n",
      "Epoch 92/200\n",
      "12/12 [==============================] - 0s 3ms/step - loss: 35.2794 - val_loss: 43.2051\n",
      "Epoch 93/200\n",
      "12/12 [==============================] - 0s 3ms/step - loss: 44.4474 - val_loss: 40.7245\n",
      "Epoch 94/200\n",
      "12/12 [==============================] - 0s 3ms/step - loss: 40.0550 - val_loss: 40.8381\n",
      "Epoch 95/200\n",
      "12/12 [==============================] - 0s 3ms/step - loss: 32.3462 - val_loss: 41.3456\n",
      "Epoch 96/200\n",
      "12/12 [==============================] - 0s 4ms/step - loss: 37.8975 - val_loss: 44.0912\n",
      "Epoch 97/200\n",
      "12/12 [==============================] - 0s 3ms/step - loss: 40.9583 - val_loss: 41.5899\n",
      "Epoch 98/200\n",
      "12/12 [==============================] - 0s 4ms/step - loss: 42.5315 - val_loss: 40.0330\n",
      "Epoch 99/200\n",
      "12/12 [==============================] - 0s 3ms/step - loss: 35.6554 - val_loss: 40.5522\n",
      "Epoch 100/200\n",
      "12/12 [==============================] - 0s 3ms/step - loss: 28.7907 - val_loss: 42.4041\n",
      "Epoch 101/200\n",
      "12/12 [==============================] - 0s 4ms/step - loss: 44.5448 - val_loss: 40.3826\n",
      "Epoch 102/200\n",
      "12/12 [==============================] - 0s 3ms/step - loss: 34.4047 - val_loss: 39.4621\n",
      "Epoch 103/200\n",
      "12/12 [==============================] - 0s 4ms/step - loss: 32.2396 - val_loss: 39.1015\n",
      "Epoch 104/200\n",
      "12/12 [==============================] - 0s 4ms/step - loss: 40.2611 - val_loss: 40.5115\n",
      "Epoch 105/200\n",
      "12/12 [==============================] - 0s 3ms/step - loss: 34.7297 - val_loss: 39.4302\n",
      "Epoch 106/200\n",
      "12/12 [==============================] - 0s 4ms/step - loss: 34.5857 - val_loss: 38.9262\n",
      "Epoch 107/200\n",
      "12/12 [==============================] - 0s 3ms/step - loss: 33.6844 - val_loss: 41.5591\n",
      "Epoch 108/200\n",
      "12/12 [==============================] - 0s 4ms/step - loss: 37.0130 - val_loss: 39.2374\n",
      "Epoch 109/200\n",
      "12/12 [==============================] - 0s 3ms/step - loss: 33.2448 - val_loss: 42.2268\n",
      "Epoch 110/200\n",
      "12/12 [==============================] - 0s 4ms/step - loss: 34.7918 - val_loss: 40.1346\n",
      "Epoch 111/200\n",
      "12/12 [==============================] - 0s 3ms/step - loss: 33.4254 - val_loss: 39.1152\n",
      "Epoch 112/200\n",
      "12/12 [==============================] - 0s 4ms/step - loss: 35.1489 - val_loss: 40.6011\n",
      "Epoch 113/200\n",
      "12/12 [==============================] - 0s 3ms/step - loss: 39.3463 - val_loss: 39.7980\n",
      "Epoch 114/200\n",
      "12/12 [==============================] - 0s 3ms/step - loss: 41.5977 - val_loss: 40.6716\n",
      "Epoch 115/200\n",
      "12/12 [==============================] - 0s 3ms/step - loss: 39.2958 - val_loss: 38.1270\n",
      "Epoch 116/200\n",
      "12/12 [==============================] - 0s 4ms/step - loss: 35.4889 - val_loss: 38.1649\n",
      "Epoch 117/200\n",
      "12/12 [==============================] - 0s 3ms/step - loss: 35.9950 - val_loss: 38.2136\n",
      "Epoch 118/200\n",
      "12/12 [==============================] - 0s 3ms/step - loss: 30.3002 - val_loss: 39.6716\n",
      "Epoch 119/200\n",
      "12/12 [==============================] - 0s 3ms/step - loss: 33.0519 - val_loss: 39.8432\n",
      "Epoch 120/200\n",
      "12/12 [==============================] - 0s 4ms/step - loss: 39.3485 - val_loss: 41.6205\n",
      "Epoch 121/200\n",
      "12/12 [==============================] - 0s 3ms/step - loss: 30.6291 - val_loss: 37.6639\n",
      "Epoch 122/200\n",
      "12/12 [==============================] - 0s 4ms/step - loss: 42.0265 - val_loss: 37.9983\n",
      "Epoch 123/200\n",
      "12/12 [==============================] - 0s 4ms/step - loss: 30.8801 - val_loss: 40.6683\n",
      "Epoch 124/200\n",
      "12/12 [==============================] - 0s 3ms/step - loss: 37.2576 - val_loss: 37.0096\n",
      "Epoch 125/200\n",
      "12/12 [==============================] - 0s 3ms/step - loss: 32.8274 - val_loss: 37.7292\n",
      "Epoch 126/200\n",
      "12/12 [==============================] - 0s 4ms/step - loss: 32.9712 - val_loss: 38.1234\n",
      "Epoch 127/200\n",
      "12/12 [==============================] - 0s 3ms/step - loss: 38.6729 - val_loss: 38.5380\n",
      "Epoch 128/200\n",
      "12/12 [==============================] - 0s 3ms/step - loss: 35.0173 - val_loss: 37.6554\n",
      "Epoch 129/200\n",
      "12/12 [==============================] - 0s 3ms/step - loss: 31.0197 - val_loss: 38.0232\n",
      "Epoch 130/200\n",
      "12/12 [==============================] - 0s 3ms/step - loss: 34.7370 - val_loss: 39.8434\n",
      "Epoch 131/200\n",
      "12/12 [==============================] - 0s 3ms/step - loss: 35.6892 - val_loss: 39.2561\n",
      "Epoch 132/200\n",
      "12/12 [==============================] - 0s 3ms/step - loss: 38.6144 - val_loss: 37.6737\n",
      "Epoch 133/200\n",
      "12/12 [==============================] - 0s 3ms/step - loss: 44.2767 - val_loss: 37.7382\n",
      "Epoch 134/200\n",
      "12/12 [==============================] - 0s 4ms/step - loss: 29.6479 - val_loss: 37.1953\n",
      "Epoch 135/200\n",
      "12/12 [==============================] - 0s 3ms/step - loss: 36.6138 - val_loss: 36.6455\n",
      "Epoch 136/200\n",
      "12/12 [==============================] - 0s 4ms/step - loss: 33.9566 - val_loss: 38.0468\n",
      "Epoch 137/200\n",
      "12/12 [==============================] - 0s 4ms/step - loss: 37.7509 - val_loss: 37.8815\n",
      "Epoch 138/200\n",
      "12/12 [==============================] - 0s 4ms/step - loss: 35.5309 - val_loss: 37.0239\n",
      "Epoch 139/200\n",
      "12/12 [==============================] - 0s 4ms/step - loss: 31.9173 - val_loss: 38.1529\n",
      "Epoch 140/200\n",
      "12/12 [==============================] - 0s 3ms/step - loss: 39.7815 - val_loss: 37.4388\n",
      "Epoch 141/200\n",
      "12/12 [==============================] - 0s 3ms/step - loss: 36.9643 - val_loss: 38.6973\n",
      "Epoch 142/200\n",
      "12/12 [==============================] - 0s 3ms/step - loss: 32.5087 - val_loss: 38.8676\n",
      "Epoch 143/200\n",
      "12/12 [==============================] - 0s 4ms/step - loss: 33.6269 - val_loss: 36.6844\n",
      "Epoch 144/200\n",
      "12/12 [==============================] - 0s 4ms/step - loss: 35.6103 - val_loss: 36.7057\n",
      "Epoch 145/200\n",
      "12/12 [==============================] - 0s 4ms/step - loss: 31.9910 - val_loss: 37.8264\n",
      "Epoch 146/200\n",
      "12/12 [==============================] - 0s 3ms/step - loss: 31.3018 - val_loss: 37.6668\n",
      "Epoch 147/200\n",
      "12/12 [==============================] - 0s 3ms/step - loss: 31.9311 - val_loss: 35.8599\n",
      "Epoch 148/200\n",
      "12/12 [==============================] - 0s 4ms/step - loss: 31.2153 - val_loss: 40.6075\n",
      "Epoch 149/200\n",
      "12/12 [==============================] - 0s 4ms/step - loss: 34.4725 - val_loss: 36.8725\n",
      "Epoch 150/200\n",
      "12/12 [==============================] - 0s 4ms/step - loss: 33.8356 - val_loss: 36.9139\n",
      "Epoch 151/200\n",
      "12/12 [==============================] - 0s 3ms/step - loss: 35.2212 - val_loss: 37.6422\n",
      "Epoch 152/200\n",
      "12/12 [==============================] - 0s 4ms/step - loss: 34.6468 - val_loss: 36.5611\n",
      "Epoch 153/200\n",
      "12/12 [==============================] - 0s 3ms/step - loss: 33.3475 - val_loss: 36.1768\n",
      "Epoch 154/200\n",
      "12/12 [==============================] - 0s 4ms/step - loss: 31.7709 - val_loss: 36.6040\n",
      "Epoch 155/200\n",
      "12/12 [==============================] - 0s 4ms/step - loss: 34.7801 - val_loss: 36.7556\n",
      "Epoch 156/200\n",
      "12/12 [==============================] - 0s 3ms/step - loss: 35.6562 - val_loss: 35.9664\n",
      "Epoch 157/200\n",
      "12/12 [==============================] - 0s 3ms/step - loss: 32.7961 - val_loss: 36.0122\n",
      "Epoch 158/200\n",
      "12/12 [==============================] - 0s 3ms/step - loss: 34.6452 - val_loss: 35.5509\n",
      "Epoch 159/200\n",
      "12/12 [==============================] - 0s 4ms/step - loss: 35.2848 - val_loss: 36.2796\n",
      "Epoch 160/200\n",
      "12/12 [==============================] - 0s 3ms/step - loss: 35.1390 - val_loss: 35.8030\n"
     ]
    },
    {
     "name": "stdout",
     "output_type": "stream",
     "text": [
      "Epoch 161/200\n",
      "12/12 [==============================] - 0s 4ms/step - loss: 33.9621 - val_loss: 36.5446\n",
      "Epoch 162/200\n",
      "12/12 [==============================] - 0s 3ms/step - loss: 34.3464 - val_loss: 35.7358\n",
      "Epoch 163/200\n",
      "12/12 [==============================] - 0s 4ms/step - loss: 29.5864 - val_loss: 37.3171\n",
      "Epoch 164/200\n",
      "12/12 [==============================] - 0s 3ms/step - loss: 31.3522 - val_loss: 35.9783\n",
      "Epoch 165/200\n",
      "12/12 [==============================] - 0s 4ms/step - loss: 34.5702 - val_loss: 35.8389\n",
      "Epoch 166/200\n",
      "12/12 [==============================] - 0s 3ms/step - loss: 32.1502 - val_loss: 35.9802\n",
      "Epoch 167/200\n",
      "12/12 [==============================] - 0s 3ms/step - loss: 37.1661 - val_loss: 36.2338\n",
      "Epoch 168/200\n",
      "12/12 [==============================] - 0s 4ms/step - loss: 32.7854 - val_loss: 36.5858\n",
      "Epoch 169/200\n",
      "12/12 [==============================] - 0s 4ms/step - loss: 38.6771 - val_loss: 35.3810\n",
      "Epoch 170/200\n",
      "12/12 [==============================] - 0s 4ms/step - loss: 33.0373 - val_loss: 34.8022\n",
      "Epoch 171/200\n",
      "12/12 [==============================] - 0s 4ms/step - loss: 31.0514 - val_loss: 35.4200\n",
      "Epoch 172/200\n",
      "12/12 [==============================] - 0s 3ms/step - loss: 34.9578 - val_loss: 36.4531\n",
      "Epoch 173/200\n",
      "12/12 [==============================] - 0s 4ms/step - loss: 30.3420 - val_loss: 35.0299\n",
      "Epoch 174/200\n",
      "12/12 [==============================] - 0s 4ms/step - loss: 31.3554 - val_loss: 35.1460\n",
      "Epoch 175/200\n",
      "12/12 [==============================] - 0s 5ms/step - loss: 34.5460 - val_loss: 34.6226\n",
      "Epoch 176/200\n",
      "12/12 [==============================] - 0s 4ms/step - loss: 35.9004 - val_loss: 36.6090\n",
      "Epoch 177/200\n",
      "12/12 [==============================] - 0s 4ms/step - loss: 35.8383 - val_loss: 36.2969\n",
      "Epoch 178/200\n",
      "12/12 [==============================] - 0s 3ms/step - loss: 35.0692 - val_loss: 34.7424\n",
      "Epoch 179/200\n",
      "12/12 [==============================] - 0s 3ms/step - loss: 33.4122 - val_loss: 36.2365\n",
      "Epoch 180/200\n",
      "12/12 [==============================] - 0s 3ms/step - loss: 31.5179 - val_loss: 35.1204\n",
      "Epoch 181/200\n",
      "12/12 [==============================] - 0s 4ms/step - loss: 30.5516 - val_loss: 35.8624\n",
      "Epoch 182/200\n",
      "12/12 [==============================] - 0s 3ms/step - loss: 28.3454 - val_loss: 40.1723\n",
      "Epoch 183/200\n",
      "12/12 [==============================] - 0s 3ms/step - loss: 36.9248 - val_loss: 36.1045\n",
      "Epoch 184/200\n",
      "12/12 [==============================] - 0s 3ms/step - loss: 33.8827 - val_loss: 37.0330\n",
      "Epoch 185/200\n",
      "12/12 [==============================] - 0s 3ms/step - loss: 32.5240 - val_loss: 35.0080\n",
      "Epoch 186/200\n",
      "12/12 [==============================] - 0s 3ms/step - loss: 34.8317 - val_loss: 36.6291\n",
      "Epoch 187/200\n",
      "12/12 [==============================] - 0s 3ms/step - loss: 34.8792 - val_loss: 34.2990\n",
      "Epoch 188/200\n",
      "12/12 [==============================] - 0s 3ms/step - loss: 29.0798 - val_loss: 40.6557\n",
      "Epoch 189/200\n",
      "12/12 [==============================] - 0s 3ms/step - loss: 34.2112 - val_loss: 37.3625\n",
      "Epoch 190/200\n",
      "12/12 [==============================] - 0s 3ms/step - loss: 34.0064 - val_loss: 35.0552\n",
      "Epoch 191/200\n",
      "12/12 [==============================] - 0s 3ms/step - loss: 32.5152 - val_loss: 34.7938\n",
      "Epoch 192/200\n",
      "12/12 [==============================] - 0s 3ms/step - loss: 38.7438 - val_loss: 34.3522\n",
      "Epoch 193/200\n",
      "12/12 [==============================] - 0s 4ms/step - loss: 35.2600 - val_loss: 36.4431\n",
      "Epoch 194/200\n",
      "12/12 [==============================] - 0s 3ms/step - loss: 41.0862 - val_loss: 36.3126\n",
      "Epoch 195/200\n",
      "12/12 [==============================] - 0s 3ms/step - loss: 30.3631 - val_loss: 34.3141\n",
      "Epoch 196/200\n",
      "12/12 [==============================] - 0s 4ms/step - loss: 29.5506 - val_loss: 35.4256\n",
      "Epoch 197/200\n",
      "12/12 [==============================] - 0s 3ms/step - loss: 34.4382 - val_loss: 34.6380\n",
      "Epoch 198/200\n",
      "12/12 [==============================] - 0s 3ms/step - loss: 34.0153 - val_loss: 34.4805\n",
      "Epoch 199/200\n",
      "12/12 [==============================] - 0s 3ms/step - loss: 32.0301 - val_loss: 34.1466\n",
      "Epoch 200/200\n",
      "12/12 [==============================] - 0s 4ms/step - loss: 37.8977 - val_loss: 44.1296\n"
     ]
    }
   ],
   "source": [
    "history = model.fit(train_dataset, # train dataset (X_train, y_train)\n",
    "         epochs=N_EPOCHS,\n",
    "         steps_per_epoch=steps_per_epoch, # 1 에폭당 step 수\n",
    "          validation_data=val_dataset, # 검증 Dataset 지정\n",
    "          validation_steps=validation_steps\n",
    "         )"
   ]
  },
  {
   "cell_type": "code",
   "execution_count": 112,
   "metadata": {},
   "outputs": [
    {
     "data": {
      "text/plain": [
       "tensorflow.python.keras.callbacks.History"
      ]
     },
     "execution_count": 112,
     "metadata": {},
     "output_type": "execute_result"
    }
   ],
   "source": [
    "type(history)"
   ]
  },
  {
   "cell_type": "code",
   "execution_count": 108,
   "metadata": {},
   "outputs": [
    {
     "data": {
      "text/plain": [
       "dict_keys(['loss', 'val_loss'])"
      ]
     },
     "execution_count": 108,
     "metadata": {},
     "output_type": "execute_result"
    }
   ],
   "source": [
    "history.history.keys()"
   ]
  },
  {
   "cell_type": "code",
   "execution_count": 109,
   "metadata": {},
   "outputs": [
    {
     "data": {
      "text/plain": [
       "{'loss': [402.1755676269531,\n",
       "  151.89991760253906,\n",
       "  81.30701446533203,\n",
       "  77.13301086425781,\n",
       "  73.28703308105469,\n",
       "  73.65941619873047,\n",
       "  68.5960464477539,\n",
       "  68.1734619140625,\n",
       "  64.48908233642578,\n",
       "  64.80988311767578,\n",
       "  65.43766021728516,\n",
       "  62.97397232055664,\n",
       "  63.70985794067383,\n",
       "  65.03363800048828,\n",
       "  63.96836853027344,\n",
       "  62.03939437866211,\n",
       "  62.40961837768555,\n",
       "  59.52606201171875,\n",
       "  61.34281921386719,\n",
       "  58.38675308227539,\n",
       "  59.82392501831055,\n",
       "  60.4442024230957,\n",
       "  57.6439323425293,\n",
       "  58.55879211425781,\n",
       "  55.6146125793457,\n",
       "  55.175479888916016,\n",
       "  56.72218322753906,\n",
       "  55.242645263671875,\n",
       "  56.00655746459961,\n",
       "  55.08198928833008,\n",
       "  54.4144172668457,\n",
       "  53.56959533691406,\n",
       "  51.9430046081543,\n",
       "  50.85279846191406,\n",
       "  52.05717468261719,\n",
       "  56.36387634277344,\n",
       "  58.0538330078125,\n",
       "  55.846920013427734,\n",
       "  50.7780876159668,\n",
       "  50.52508544921875,\n",
       "  50.23122024536133,\n",
       "  51.10897445678711,\n",
       "  47.11061477661133,\n",
       "  46.91719055175781,\n",
       "  49.16594314575195,\n",
       "  49.58452224731445,\n",
       "  49.95680236816406,\n",
       "  47.27009201049805,\n",
       "  48.24892044067383,\n",
       "  50.15785217285156,\n",
       "  45.34266662597656,\n",
       "  45.75454330444336,\n",
       "  42.21910095214844,\n",
       "  45.622039794921875,\n",
       "  44.3202018737793,\n",
       "  44.72172927856445,\n",
       "  47.43827438354492,\n",
       "  46.63679885864258,\n",
       "  43.98722839355469,\n",
       "  45.96467590332031,\n",
       "  45.21870040893555,\n",
       "  42.10261154174805,\n",
       "  41.86960983276367,\n",
       "  43.51126480102539,\n",
       "  43.16305923461914,\n",
       "  42.64875411987305,\n",
       "  42.696041107177734,\n",
       "  43.961429595947266,\n",
       "  41.69684600830078,\n",
       "  40.76221466064453,\n",
       "  40.95297622680664,\n",
       "  42.10564041137695,\n",
       "  41.605499267578125,\n",
       "  38.976924896240234,\n",
       "  41.97237014770508,\n",
       "  39.40936279296875,\n",
       "  39.9596061706543,\n",
       "  39.33064270019531,\n",
       "  41.48420333862305,\n",
       "  35.76548385620117,\n",
       "  40.6395263671875,\n",
       "  41.84089279174805,\n",
       "  41.37833786010742,\n",
       "  39.67741394042969,\n",
       "  41.206329345703125,\n",
       "  40.040706634521484,\n",
       "  35.387569427490234,\n",
       "  40.0827522277832,\n",
       "  41.432464599609375,\n",
       "  36.91786193847656,\n",
       "  38.83224105834961,\n",
       "  39.30387878417969,\n",
       "  39.67121505737305,\n",
       "  38.15530776977539,\n",
       "  36.102333068847656,\n",
       "  41.58815383911133,\n",
       "  38.67624282836914,\n",
       "  39.11619567871094,\n",
       "  36.46663284301758,\n",
       "  34.78805160522461,\n",
       "  38.87733459472656,\n",
       "  38.081661224365234,\n",
       "  35.27239227294922,\n",
       "  37.3092155456543,\n",
       "  37.73458480834961,\n",
       "  37.88846206665039,\n",
       "  38.43354415893555,\n",
       "  38.680118560791016,\n",
       "  36.58634567260742,\n",
       "  35.72321701049805,\n",
       "  36.392822265625,\n",
       "  35.289852142333984,\n",
       "  37.663970947265625,\n",
       "  36.759002685546875,\n",
       "  36.82004928588867,\n",
       "  36.37289810180664,\n",
       "  36.416690826416016,\n",
       "  34.57796096801758,\n",
       "  37.67422866821289,\n",
       "  38.47578048706055,\n",
       "  36.29506301879883,\n",
       "  36.67917251586914,\n",
       "  35.640010833740234,\n",
       "  37.06618118286133,\n",
       "  37.25017166137695,\n",
       "  36.9471435546875,\n",
       "  36.2342529296875,\n",
       "  34.90768051147461,\n",
       "  36.007911682128906,\n",
       "  35.80521774291992,\n",
       "  36.53144454956055,\n",
       "  35.12577438354492,\n",
       "  37.30595779418945,\n",
       "  35.42224884033203,\n",
       "  33.07944869995117,\n",
       "  34.59278869628906,\n",
       "  35.310211181640625,\n",
       "  36.049415588378906,\n",
       "  31.636184692382812,\n",
       "  35.632686614990234,\n",
       "  35.7827262878418,\n",
       "  35.261199951171875,\n",
       "  35.25794219970703,\n",
       "  36.32292938232422,\n",
       "  35.01711654663086,\n",
       "  32.778343200683594,\n",
       "  35.47341537475586,\n",
       "  35.70323181152344,\n",
       "  35.74514389038086,\n",
       "  36.4797477722168,\n",
       "  34.7161750793457,\n",
       "  35.9736213684082,\n",
       "  32.838741302490234,\n",
       "  33.992225646972656,\n",
       "  35.49308395385742,\n",
       "  34.752628326416016,\n",
       "  34.643367767333984,\n",
       "  33.33279800415039,\n",
       "  34.20252227783203,\n",
       "  33.325008392333984,\n",
       "  33.845096588134766,\n",
       "  34.4304313659668,\n",
       "  33.95702362060547,\n",
       "  35.26566696166992,\n",
       "  35.44098663330078,\n",
       "  33.96250534057617,\n",
       "  34.17483901977539,\n",
       "  36.55093765258789,\n",
       "  32.7471923828125,\n",
       "  32.744380950927734,\n",
       "  33.24113082885742,\n",
       "  34.6767463684082,\n",
       "  34.806243896484375,\n",
       "  33.09579086303711,\n",
       "  34.412052154541016,\n",
       "  33.559783935546875,\n",
       "  34.20608901977539,\n",
       "  34.722103118896484,\n",
       "  33.380802154541016,\n",
       "  33.42438507080078,\n",
       "  35.06161880493164,\n",
       "  34.183284759521484,\n",
       "  35.891502380371094,\n",
       "  34.806156158447266,\n",
       "  33.84657669067383,\n",
       "  32.541812896728516,\n",
       "  33.79454040527344,\n",
       "  36.14982986450195,\n",
       "  36.454219818115234,\n",
       "  33.889766693115234,\n",
       "  35.110477447509766,\n",
       "  35.834102630615234,\n",
       "  33.48175811767578,\n",
       "  34.06353759765625,\n",
       "  34.88276290893555,\n",
       "  33.37226104736328,\n",
       "  34.19273376464844,\n",
       "  33.53582763671875,\n",
       "  33.673423767089844,\n",
       "  32.876686096191406],\n",
       " 'val_loss': [196.59930419921875,\n",
       "  84.1738052368164,\n",
       "  68.06925964355469,\n",
       "  67.32881164550781,\n",
       "  65.48120880126953,\n",
       "  68.23246002197266,\n",
       "  65.84520721435547,\n",
       "  63.75019073486328,\n",
       "  63.48944854736328,\n",
       "  62.84819412231445,\n",
       "  62.6551399230957,\n",
       "  62.41313552856445,\n",
       "  61.57144546508789,\n",
       "  60.759483337402344,\n",
       "  60.480201721191406,\n",
       "  60.05010986328125,\n",
       "  60.73400115966797,\n",
       "  59.27960205078125,\n",
       "  58.17047882080078,\n",
       "  58.00875473022461,\n",
       "  57.81022644042969,\n",
       "  59.491905212402344,\n",
       "  57.49845886230469,\n",
       "  57.06303787231445,\n",
       "  62.033836364746094,\n",
       "  57.48831558227539,\n",
       "  55.94829559326172,\n",
       "  55.039306640625,\n",
       "  56.01388168334961,\n",
       "  55.181373596191406,\n",
       "  54.272430419921875,\n",
       "  54.371124267578125,\n",
       "  53.40475082397461,\n",
       "  53.40860366821289,\n",
       "  53.831600189208984,\n",
       "  61.18635177612305,\n",
       "  56.62076187133789,\n",
       "  58.100528717041016,\n",
       "  51.00810623168945,\n",
       "  51.39433670043945,\n",
       "  50.512725830078125,\n",
       "  50.6862907409668,\n",
       "  49.9600944519043,\n",
       "  49.703948974609375,\n",
       "  50.73259735107422,\n",
       "  50.33171463012695,\n",
       "  48.552398681640625,\n",
       "  48.416542053222656,\n",
       "  48.63328170776367,\n",
       "  49.07890701293945,\n",
       "  47.92142105102539,\n",
       "  47.585594177246094,\n",
       "  47.35443878173828,\n",
       "  51.08736801147461,\n",
       "  46.944915771484375,\n",
       "  48.9099006652832,\n",
       "  47.94231414794922,\n",
       "  46.99675369262695,\n",
       "  46.2435417175293,\n",
       "  46.03044891357422,\n",
       "  47.5952262878418,\n",
       "  45.374515533447266,\n",
       "  45.97688674926758,\n",
       "  45.310115814208984,\n",
       "  46.62165069580078,\n",
       "  48.13078689575195,\n",
       "  48.329856872558594,\n",
       "  44.60165786743164,\n",
       "  44.58571243286133,\n",
       "  44.32620620727539,\n",
       "  44.08320236206055,\n",
       "  44.65850830078125,\n",
       "  44.60844039916992,\n",
       "  43.64045333862305,\n",
       "  43.41767501831055,\n",
       "  42.76032638549805,\n",
       "  44.90360641479492,\n",
       "  42.40620040893555,\n",
       "  43.38846969604492,\n",
       "  42.11067199707031,\n",
       "  42.41881561279297,\n",
       "  47.82746505737305,\n",
       "  41.57269287109375,\n",
       "  42.480770111083984,\n",
       "  41.74921798706055,\n",
       "  41.11112594604492,\n",
       "  43.68326187133789,\n",
       "  42.649070739746094,\n",
       "  41.837764739990234,\n",
       "  41.28067398071289,\n",
       "  41.38878631591797,\n",
       "  43.205135345458984,\n",
       "  40.72451400756836,\n",
       "  40.83806610107422,\n",
       "  41.345577239990234,\n",
       "  44.09122085571289,\n",
       "  41.589866638183594,\n",
       "  40.03303909301758,\n",
       "  40.55217361450195,\n",
       "  42.40409469604492,\n",
       "  40.38258361816406,\n",
       "  39.46208190917969,\n",
       "  39.10148620605469,\n",
       "  40.511478424072266,\n",
       "  39.43022918701172,\n",
       "  38.92620849609375,\n",
       "  41.55910110473633,\n",
       "  39.23741149902344,\n",
       "  42.22684097290039,\n",
       "  40.13458251953125,\n",
       "  39.115169525146484,\n",
       "  40.601097106933594,\n",
       "  39.7979621887207,\n",
       "  40.67164993286133,\n",
       "  38.12697219848633,\n",
       "  38.16490936279297,\n",
       "  38.21358108520508,\n",
       "  39.67155838012695,\n",
       "  39.843196868896484,\n",
       "  41.62051773071289,\n",
       "  37.6639289855957,\n",
       "  37.99825668334961,\n",
       "  40.66830825805664,\n",
       "  37.009578704833984,\n",
       "  37.72924041748047,\n",
       "  38.12343978881836,\n",
       "  38.53795623779297,\n",
       "  37.65536880493164,\n",
       "  38.0231819152832,\n",
       "  39.843414306640625,\n",
       "  39.256103515625,\n",
       "  37.673683166503906,\n",
       "  37.7381706237793,\n",
       "  37.195316314697266,\n",
       "  36.64548873901367,\n",
       "  38.04684066772461,\n",
       "  37.8814582824707,\n",
       "  37.023887634277344,\n",
       "  38.15287399291992,\n",
       "  37.43881607055664,\n",
       "  38.69729995727539,\n",
       "  38.867557525634766,\n",
       "  36.684425354003906,\n",
       "  36.705692291259766,\n",
       "  37.82637023925781,\n",
       "  37.66679763793945,\n",
       "  35.85994338989258,\n",
       "  40.607452392578125,\n",
       "  36.87254333496094,\n",
       "  36.913944244384766,\n",
       "  37.64216232299805,\n",
       "  36.561058044433594,\n",
       "  36.17681121826172,\n",
       "  36.60401153564453,\n",
       "  36.755615234375,\n",
       "  35.9664192199707,\n",
       "  36.012168884277344,\n",
       "  35.55091857910156,\n",
       "  36.279598236083984,\n",
       "  35.80299377441406,\n",
       "  36.544586181640625,\n",
       "  35.73581314086914,\n",
       "  37.31707763671875,\n",
       "  35.978309631347656,\n",
       "  35.838924407958984,\n",
       "  35.98019027709961,\n",
       "  36.23378372192383,\n",
       "  36.58576583862305,\n",
       "  35.380950927734375,\n",
       "  34.80219650268555,\n",
       "  35.41999435424805,\n",
       "  36.4531364440918,\n",
       "  35.029876708984375,\n",
       "  35.145965576171875,\n",
       "  34.62257385253906,\n",
       "  36.608951568603516,\n",
       "  36.29690933227539,\n",
       "  34.7424201965332,\n",
       "  36.23653793334961,\n",
       "  35.120418548583984,\n",
       "  35.86241149902344,\n",
       "  40.17226791381836,\n",
       "  36.10454559326172,\n",
       "  37.03297805786133,\n",
       "  35.008026123046875,\n",
       "  36.62908935546875,\n",
       "  34.299049377441406,\n",
       "  40.65571212768555,\n",
       "  37.36248016357422,\n",
       "  35.05516052246094,\n",
       "  34.793792724609375,\n",
       "  34.35221481323242,\n",
       "  36.443111419677734,\n",
       "  36.31259536743164,\n",
       "  34.3140983581543,\n",
       "  35.42555236816406,\n",
       "  34.637962341308594,\n",
       "  34.48050308227539,\n",
       "  34.14662551879883,\n",
       "  44.12958526611328]}"
      ]
     },
     "execution_count": 109,
     "metadata": {},
     "output_type": "execute_result"
    }
   ],
   "source": [
    "history.history"
   ]
  },
  {
   "cell_type": "code",
   "execution_count": 111,
   "metadata": {},
   "outputs": [
    {
     "data": {
      "image/png": "[encoded data removed]",
      "text/plain": [
       "<Figure size 720x504 with 1 Axes>"
      ]
     },
     "metadata": {
      "needs_background": "light"
     },
     "output_type": "display_data"
    }
   ],
   "source": [
    "# epoch당 loss와 val_loss 변화에 대해 선그래프 작성\n",
    "import matplotlib.pyplot as plt\n",
    "plt.figure(figsize=(10,7))\n",
    "\n",
    "plt.plot(range(1, N_EPOCHS+1), history.history['loss'], label='Train loss')\n",
    "plt.plot(range(1, N_EPOCHS+1), history.history['val_loss'], label='Validation loss')\n",
    "\n",
    "plt.xlabel('Epochs')\n",
    "plt.ylabel('Loss(MSE)')\n",
    "plt.ylim(0, 100)\n",
    "plt.legend()\n",
    "plt.grid(True)\n",
    "plt.show()"
   ]
  },
  {
   "cell_type": "code",
   "execution_count": null,
   "metadata": {},
   "outputs": [],
   "source": []
  },
  {
   "cell_type": "markdown",
   "metadata": {},
   "source": [
    "## 2. Classification\n",
    "\n",
    "### Fashion MNIST(MNIST) Dataset"
   ]
  },
  {
   "cell_type": "markdown",
   "metadata": {},
   "source": [
    "10개의 범주(category)와 70,000개의 흑백 이미지로 구성된 [패션 MNIST](https://github.com/zalandoresearch/fashion-mnist) 데이터셋. \n",
    "이미지는 해상도(28x28 픽셀)가 낮고 다음처럼 개별 의류 품목을 나타낸다:\n",
    "\n",
    "<table>\n",
    "  <tr><td>\n",
    "    <img src=\"https://tensorflow.org/images/fashion-mnist-sprite.png\"\n",
    "         alt=\"Fashion MNIST sprite\"  width=\"600\">\n",
    "  </td></tr>\n",
    "  <tr><td align=\"center\">\n",
    "    <b>그림</b> <a href=\"https://github.com/zalandoresearch/fashion-mnist\">패션-MNIST 샘플</a> (Zalando, MIT License).<br/>&nbsp;\n",
    "  </td></tr>\n",
    "</table>\n",
    "\n",
    "패션 MNIST와 손글씨 MNIST는  비교적 작기 때문에 알고리즘의 작동 여부를 확인하기 위해 사용되곤 하며 코드를 테스트하고 디버깅하는 용도로 좋다."
   ]
  },
  {
   "cell_type": "markdown",
   "metadata": {},
   "source": [
    "이미지는 28x28 크기의 넘파이 배열이고 픽셀 값은 0과 255 사이이다. *레이블*(label)은 0에서 9까지의 정수 배열이다. 아래 표는 이미지에 있는 의류의 **클래스**(class)를 나낸다.\n",
    "\n",
    "<table>\n",
    "  <tr>\n",
    "    <th>레이블</th>\n",
    "    <th>클래스</th>\n",
    "  </tr>\n",
    "  <tr>\n",
    "    <td>0</td>\n",
    "    <td>T-shirt/top</td>\n",
    "  </tr>\n",
    "  <tr>\n",
    "    <td>1</td>\n",
    "    <td>Trouser</td>\n",
    "  </tr>\n",
    "    <tr>\n",
    "    <td>2</td>\n",
    "    <td>Pullover</td>\n",
    "  </tr>\n",
    "    <tr>\n",
    "    <td>3</td>\n",
    "    <td>Dress</td>\n",
    "  </tr>\n",
    "    <tr>\n",
    "    <td>4</td>\n",
    "    <td>Coat</td>\n",
    "  </tr>\n",
    "    <tr>\n",
    "    <td>5</td>\n",
    "    <td>Sandal</td>\n",
    "  </tr>\n",
    "    <tr>\n",
    "    <td>6</td>\n",
    "    <td>Shirt</td>\n",
    "  </tr>\n",
    "    <tr>\n",
    "    <td>7</td>\n",
    "    <td>Sneaker</td>\n",
    "  </tr>\n",
    "    <tr>\n",
    "    <td>8</td>\n",
    "    <td>Bag</td>\n",
    "  </tr>\n",
    "    <tr>\n",
    "    <td>9</td>\n",
    "    <td>Ankle boot</td>\n",
    "  </tr>\n",
    "</table>\n",
    "\n",
    "각 이미지는 하나의 레이블에 매핑되어 있다. 데이터셋에 클래스 이름이 들어있지 않기 때문에 나중에 이미지를 출력할 때 사용하기 위해 별도의 변수를 만들어 저장한다."
   ]
  },
  {
   "cell_type": "code",
   "execution_count": null,
   "metadata": {},
   "outputs": [],
   "source": [
    "class_names = ['T-shirt/top', 'Trouser', 'Pullover', 'Dress', 'Coat', 'Sandal', 'Shirt', 'Sneaker', 'Bag', 'Ankle boot']"
   ]
  },
  {
   "cell_type": "code",
   "execution_count": null,
   "metadata": {},
   "outputs": [],
   "source": []
  },
  {
   "cell_type": "code",
   "execution_count": null,
   "metadata": {},
   "outputs": [],
   "source": []
  },
  {
   "cell_type": "code",
   "execution_count": null,
   "metadata": {},
   "outputs": [],
   "source": []
  },
  {
   "cell_type": "code",
   "execution_count": null,
   "metadata": {},
   "outputs": [],
   "source": []
  },
  {
   "cell_type": "code",
   "execution_count": null,
   "metadata": {},
   "outputs": [],
   "source": []
  }
 ],
 "metadata": {
  "kernelspec": {
   "display_name": "Python 3",
   "language": "python",
   "name": "python3"
  },
  "language_info": {
   "codemirror_mode": {
    "name": "ipython",
    "version": 3
   },
   "file_extension": ".py",
   "mimetype": "text/x-python",
   "name": "python",
   "nbconvert_exporter": "python",
   "pygments_lexer": "ipython3",
   "version": "3.8.5"
  },
  "toc": {
   "base_numbering": 1,
   "nav_menu": {},
   "number_sections": false,
   "sideBar": true,
   "skip_h1_title": false,
   "title_cell": "Table of Contents",
   "title_sidebar": "Contents",
   "toc_cell": false,
   "toc_position": {},
   "toc_section_display": true,
   "toc_window_display": false
  },
  "varInspector": {
   "cols": {
    "lenName": 16,
    "lenType": 16,
    "lenVar": 40
   },
   "kernels_config": {
    "python": {
     "delete_cmd_postfix": "",
     "delete_cmd_prefix": "del ",
     "library": "var_list.py",
     "varRefreshCmd": "print(var_dic_list())"
    },
    "r": {
     "delete_cmd_postfix": ") ",
     "delete_cmd_prefix": "rm(",
     "library": "var_list.r",
     "varRefreshCmd": "cat(var_dic_list()) "
    }
   },
   "types_to_exclude": [
    "module",
    "function",
    "builtin_function_or_method",
    "instance",
    "_Feature"
   ],
   "window_display": false
  }
 },
 "nbformat": 4,
 "nbformat_minor": 2
}
