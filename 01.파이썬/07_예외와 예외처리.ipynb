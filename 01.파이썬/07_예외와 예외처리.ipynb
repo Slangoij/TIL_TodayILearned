{
 "cells": [
  {
   "cell_type": "code",
   "execution_count": 2,
   "metadata": {},
   "outputs": [
    {
     "name": "stdout",
     "output_type": "stream",
     "text": [
      "숫자:(0은 안됨) 0\n",
      "0으로 나눌 수 없습니다.\n",
      "뺀 결과: 10\n"
     ]
    }
   ],
   "source": [
    "a = 10\n",
    "# b = 10\n",
    "b = int(input(\"숫자:(0은 안됨) \"))\n",
    "try:\n",
    "    c = a / b # 예외가 발생할 가능성이 있는 코드(를 시도해봐 - try)\n",
    "    print(\"나눈 결과: \",c)\n",
    "except: # 만약에 예외가 발생했다면(비정상적 상황) except 블럭을 실행 => 정상화 => 예외처리\n",
    "    print(\"0으로 나눌 수 없습니다.\")\n",
    "    \n",
    "d = a - b\n",
    "print(\"뺀 결과:\",d)"
   ]
  },
  {
   "cell_type": "code",
   "execution_count": 8,
   "metadata": {
    "scrolled": true
   },
   "outputs": [
    {
     "name": "stdout",
     "output_type": "stream",
     "text": [
      "ZeroDivisionError에러발생\n",
      "정상종료\n"
     ]
    }
   ],
   "source": [
    "# 특정 Exception만 처리\n",
    "try:\n",
    "    a = 10 / 0 # ZeroDivisionError\n",
    "    \n",
    "#     b = test(a) # NameError\n",
    "    \n",
    "#     l = [1, 2, 3]\n",
    "#     print(l[10] + b) # IndexError\n",
    "# except: # except NameError:  # NameError만 처리\n",
    "#     print(\"에러발생\")\n",
    "    \n",
    "except NameError:\n",
    "    print(\"NameError에러발생\")\n",
    "except ZeroDivisionError:\n",
    "    print(\"ZeroDivisionError에러발생\")\n",
    "except IndexError:\n",
    "    print(\"IndexError에러발생\")\n",
    "except: # NameError, ZeroDivisionError, IndexError를 제외한 \n",
    "#         나머지 Exception들을 처리\n",
    "    print(\"공통 발생처리\")\n",
    "    \n",
    "print(\"정상종료\")"
   ]
  },
  {
   "cell_type": "markdown",
   "metadata": {},
   "source": [
    "## finally"
   ]
  },
  {
   "cell_type": "code",
   "execution_count": 11,
   "metadata": {},
   "outputs": [
    {
     "name": "stdout",
     "output_type": "stream",
     "text": [
      "except 블럭 실행\n",
      "finally블럭 실행\n",
      "종료\")\n"
     ]
    }
   ],
   "source": [
    "try:\n",
    "    print(1/0)\n",
    "    print('try블럭 실행')\n",
    "except ZeroDivisionError:\n",
    "    print('except 블럭 실행')\n",
    "finally: # 무조건 실행되는 코드블럭 - I/O에서 외부자원과 연결을\n",
    "    print(\"finally블럭 실행\")\n",
    "print('종료\")')        "
   ]
  },
  {
   "cell_type": "code",
   "execution_count": null,
   "metadata": {},
   "outputs": [],
   "source": [
    "dic={\n",
    "    '사과': 10,\n",
    "    '귤': 20\n",
    "    '배'=5\n",
    "}"
   ]
  },
  {
   "cell_type": "markdown",
   "metadata": {},
   "source": [
    "## 함수/메소드 호출\n",
    "- call stack mechanism"
   ]
  },
  {
   "cell_type": "code",
   "execution_count": 24,
   "metadata": {},
   "outputs": [],
   "source": [
    "def a():\n",
    "    print('a시작')\n",
    "    try:\n",
    "        b()\n",
    "    except:\n",
    "        print(\"A에서 예외처리\")\n",
    "    print('a종료')\n",
    "    \n",
    "def b():\n",
    "    print('b시작')\n",
    "    c()\n",
    "#     try:\n",
    "#         c()\n",
    "#     except:\n",
    "#         print(\"B에서 예외처리\")\n",
    "    print('b종료')\n",
    "    \n",
    "def c():\n",
    "    print('c시작')\n",
    "    print(10/0)\n",
    "    print('c종료')"
   ]
  },
  {
   "cell_type": "code",
   "execution_count": 25,
   "metadata": {},
   "outputs": [
    {
     "name": "stdout",
     "output_type": "stream",
     "text": [
      "a시작\n",
      "b시작\n",
      "c시작\n",
      "A에서 예외처리\n",
      "a종료\n"
     ]
    }
   ],
   "source": [
    "a()"
   ]
  },
  {
   "cell_type": "markdown",
   "metadata": {},
   "source": [
    "### 예외클래스 정의 및 예외 발생"
   ]
  },
  {
   "cell_type": "code",
   "execution_count": 28,
   "metadata": {},
   "outputs": [],
   "source": [
    "# 예외클래스 정의: 이름관례 - ~~~~Error\n",
    "class InvalidMonthError(Exception):\n",
    "    \n",
    "    def __init__(self, invalid_month):\n",
    "        self.invalid_month = invalid_month\n",
    "        \n",
    "    def __str__(self):\n",
    "        return f\"{self.invalid_month} - 사용할 수 없는 월입니다. 1 ~ 12만 가능합니다.\""
   ]
  },
  {
   "cell_type": "code",
   "execution_count": 29,
   "metadata": {},
   "outputs": [],
   "source": [
    "def set_month(month):\n",
    "    \"\"\"\n",
    "    월을 변경하는 함수\n",
    "    [매개변수]\n",
    "        month: int - 변경할 월(1 ~ 12 사이의 정수)\n",
    "    [반환값]\n",
    "    \n",
    "    [exception]\n",
    "        InvalidMonthError: 변경할 수 없는 월을 매개변수로 받으면 발생.\n",
    "    \"\"\"\n",
    "    if month>=1 and month <=12:\n",
    "        print(f\"{month}를 월로 변경합니다.\")\n",
    "#     self.month = month\n",
    "    else:\n",
    "        raise InvalidMonthError(month)"
   ]
  },
  {
   "cell_type": "code",
   "execution_count": 30,
   "metadata": {},
   "outputs": [
    {
     "ename": "InvalidMonthError",
     "evalue": "100 - 사용할 수 없는 월입니다. 1 ~ 12만 가능합니다.",
     "output_type": "error",
     "traceback": [
      "\u001b[1;31m----------------------------------------------------------------------\u001b[0m",
      "\u001b[1;31mInvalidMonthError\u001b[0m                    Traceback (most recent call last)",
      "\u001b[1;32m<ipython-input-30-d7a5eac95b94>\u001b[0m in \u001b[0;36m<module>\u001b[1;34m\u001b[0m\n\u001b[1;32m----> 1\u001b[1;33m \u001b[0mset_month\u001b[0m\u001b[1;33m(\u001b[0m\u001b[1;36m100\u001b[0m\u001b[1;33m)\u001b[0m\u001b[1;33m\u001b[0m\u001b[1;33m\u001b[0m\u001b[0m\n\u001b[0m\u001b[0;32m      2\u001b[0m \u001b[1;31m# try:\u001b[0m\u001b[1;33m\u001b[0m\u001b[1;33m\u001b[0m\u001b[1;33m\u001b[0m\u001b[0m\n\u001b[0;32m      3\u001b[0m \u001b[1;31m#     set_month(100)\u001b[0m\u001b[1;33m\u001b[0m\u001b[1;33m\u001b[0m\u001b[1;33m\u001b[0m\u001b[0m\n\u001b[0;32m      4\u001b[0m \u001b[1;31m# except:\u001b[0m\u001b[1;33m\u001b[0m\u001b[1;33m\u001b[0m\u001b[1;33m\u001b[0m\u001b[0m\n\u001b[0;32m      5\u001b[0m \u001b[1;31m#     print(\"예외처리\")\u001b[0m\u001b[1;33m\u001b[0m\u001b[1;33m\u001b[0m\u001b[1;33m\u001b[0m\u001b[0m\n",
      "\u001b[1;32m<ipython-input-29-b130011219cd>\u001b[0m in \u001b[0;36mset_month\u001b[1;34m(month)\u001b[0m\n\u001b[0;32m     13\u001b[0m \u001b[1;31m#     self.month = month\u001b[0m\u001b[1;33m\u001b[0m\u001b[1;33m\u001b[0m\u001b[1;33m\u001b[0m\u001b[0m\n\u001b[0;32m     14\u001b[0m     \u001b[1;32melse\u001b[0m\u001b[1;33m:\u001b[0m\u001b[1;33m\u001b[0m\u001b[1;33m\u001b[0m\u001b[0m\n\u001b[1;32m---> 15\u001b[1;33m         \u001b[1;32mraise\u001b[0m \u001b[0mInvalidMonthError\u001b[0m\u001b[1;33m(\u001b[0m\u001b[0mmonth\u001b[0m\u001b[1;33m)\u001b[0m\u001b[1;33m\u001b[0m\u001b[1;33m\u001b[0m\u001b[0m\n\u001b[0m",
      "\u001b[1;31mInvalidMonthError\u001b[0m: 100 - 사용할 수 없는 월입니다. 1 ~ 12만 가능합니다."
     ]
    }
   ],
   "source": [
    "set_month(100)\n",
    "# try:\n",
    "#     set_month(100)\n",
    "# except:\n",
    "#     print(\"예외처리\")\n",
    "#     set_month(1)\n",
    "print(\"월 변경후 해야하는 다음 작업 실행\")"
   ]
  },
  {
   "cell_type": "code",
   "execution_count": 35,
   "metadata": {},
   "outputs": [],
   "source": [
    "?set_month\n",
    "# print(\"월 변경후 해야하는 다음 작업 실행\")"
   ]
  },
  {
   "cell_type": "code",
   "execution_count": 38,
   "metadata": {},
   "outputs": [
    {
     "name": "stdout",
     "output_type": "stream",
     "text": [
      "set_month 호출시 오류발생,100 - 사용할 수 없는 월입니다. 1 ~ 12만 가능합니다.,100\n"
     ]
    }
   ],
   "source": [
    "try:\n",
    "    set_month(100)\n",
    "    print(\"월 변경후 해야하는 다음 작업 실행\")\n",
    "except InvalidMonthError as e: # except 예외클래스 as 변수: 변수를 이용해 raise 된\n",
    "                                # Exception객체를 받을 수 있다.\n",
    "    print(\"set_month 호출시 오류발생\", e, e.invalid_month, sep=',')"
   ]
  },
  {
   "cell_type": "code",
   "execution_count": 42,
   "metadata": {},
   "outputs": [
    {
     "ename": "SyntaxError",
     "evalue": "invalid syntax (<ipython-input-42-d6a36a47f7db>, line 2)",
     "output_type": "error",
     "traceback": [
      "\u001b[1;36m  File \u001b[1;32m\"<ipython-input-42-d6a36a47f7db>\"\u001b[1;36m, line \u001b[1;32m2\u001b[0m\n\u001b[1;33m    1. 재고량을 조회\u001b[0m\n\u001b[1;37m       ^\u001b[0m\n\u001b[1;31mSyntaxError\u001b[0m\u001b[1;31m:\u001b[0m invalid syntax\n"
     ]
    }
   ],
   "source": [
    "# 주문 함수\n",
    "1. 재고량을 조회\n",
    "2. 주문량과 재고량을 비교\n",
    "    2-1. 재고량 >= 주문량 : 정상 주문처리\n",
    "    2-1. 재고량 < 주문량 : 주문처리(X) => 예외를 발생"
   ]
  },
  {
   "cell_type": "code",
   "execution_count": 43,
   "metadata": {},
   "outputs": [],
   "source": [
    "# 주문처리를 모샇는 상황에서 발생시킬 예외클래스\n",
    "class OrderFailError(Exception):\n",
    "    \n",
    "    def __init__(self, error_message):\n",
    "        self.message = error_message\n",
    "        \n",
    "    def __str__(self):\n",
    "        return self.message"
   ]
  },
  {
   "cell_type": "code",
   "execution_count": 46,
   "metadata": {},
   "outputs": [],
   "source": [
    "def order(order_amount):\n",
    "    \"\"\"\n",
    "    [매개변수]\n",
    "        order_amount: int - 주문량\n",
    "    \"\"\"\n",
    "    # 재고량을 조회\n",
    "    stock_amount = 10\n",
    "    \n",
    "    if stock_amount < order_amount: # 재고량보다 주문량이 많으면\n",
    "        raise OrderFailError(f\"주문량이 재고량보다 많습니다. 주문량: {order_amount}, 재고량: {stock_amount}\")\n",
    "    \n",
    "    # 주문처리\n",
    "    stock_amount = stock_amount - order_amount\n",
    "    print(\"주문처리 완료\")\n",
    "    print(f\"주문량: {order_amount}, 주문후 재고량: {stock_amount}\")"
   ]
  },
  {
   "cell_type": "code",
   "execution_count": 47,
   "metadata": {},
   "outputs": [
    {
     "name": "stdout",
     "output_type": "stream",
     "text": [
      "주문처리 완료\n",
      "주문량: 5, 주문후 재고량: 5\n"
     ]
    }
   ],
   "source": [
    "try:\n",
    "    order(5)\n",
    "    print(\"주문 후 다음 작업\")\n",
    "except OrderFailError as e:\n",
    "    print(e)"
   ]
  },
  {
   "cell_type": "markdown",
   "metadata": {},
   "source": [
    "호출한 곳으로 돌아간다.\n",
    "return 처리결과: 함수/메소드의 정상종료\n",
    "raise 예외객체: 함수/메소드의 비정상종료"
   ]
  },
  {
   "cell_type": "code",
   "execution_count": null,
   "metadata": {},
   "outputs": [],
   "source": []
  },
  {
   "cell_type": "code",
   "execution_count": null,
   "metadata": {},
   "outputs": [],
   "source": []
  }
 ],
 "metadata": {
  "kernelspec": {
   "display_name": "Python 3",
   "language": "python",
   "name": "python3"
  },
  "language_info": {
   "codemirror_mode": {
    "name": "ipython",
    "version": 3
   },
   "file_extension": ".py",
   "mimetype": "text/x-python",
   "name": "python",
   "nbconvert_exporter": "python",
   "pygments_lexer": "ipython3",
   "version": "3.8.5"
  }
 },
 "nbformat": 4,
 "nbformat_minor": 4
}
